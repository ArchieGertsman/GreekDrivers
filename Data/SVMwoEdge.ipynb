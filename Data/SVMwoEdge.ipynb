{
 "cells": [
  {
   "cell_type": "markdown",
   "id": "loving-interpretation",
   "metadata": {},
   "source": [
    "SVMwoEdge.ipynb by:\n",
    "\n",
    "Lloyd Fernandes (lloydf2@illinois.edu)\n",
    "\n",
    "Project director: Richard Sowers r-sowers@illinois.eduhttps://publish.illinois.edu/r-sowers/ Copyright 2019 University of Illinois Board of Trustees. All Rights Reserved. Licensed under the MIT license"
   ]
  },
  {
   "cell_type": "code",
   "execution_count": 1,
   "id": "necessary-detection",
   "metadata": {},
   "outputs": [],
   "source": [
    "import pandas as pd\n",
    "import numpy as np\n",
    "from data import *\n",
    "from feature_eng import *"
   ]
  },
  {
   "cell_type": "code",
   "execution_count": 2,
   "id": "temporal-hamburg",
   "metadata": {},
   "outputs": [
    {
     "data": {
      "text/html": [
       "<div>\n",
       "<style scoped>\n",
       "    .dataframe tbody tr th:only-of-type {\n",
       "        vertical-align: middle;\n",
       "    }\n",
       "\n",
       "    .dataframe tbody tr th {\n",
       "        vertical-align: top;\n",
       "    }\n",
       "\n",
       "    .dataframe thead th {\n",
       "        text-align: right;\n",
       "    }\n",
       "</style>\n",
       "<table border=\"1\" class=\"dataframe\">\n",
       "  <thead>\n",
       "    <tr style=\"text-align: right;\">\n",
       "      <th></th>\n",
       "      <th></th>\n",
       "      <th></th>\n",
       "      <th>lat</th>\n",
       "      <th>lon</th>\n",
       "      <th>speed</th>\n",
       "      <th>lon_acc</th>\n",
       "      <th>lat_acc</th>\n",
       "      <th>type</th>\n",
       "      <th>traveled_d</th>\n",
       "      <th>edge_id</th>\n",
       "      <th>avg_speed</th>\n",
       "      <th>bearing</th>\n",
       "      <th>edge_progress</th>\n",
       "      <th>dir</th>\n",
       "      <th>edge_progress_intervals</th>\n",
       "      <th>vehicle_density</th>\n",
       "      <th>avg_surr_speed</th>\n",
       "      <th>xtrack_dist</th>\n",
       "    </tr>\n",
       "    <tr>\n",
       "      <th>id</th>\n",
       "      <th>traj</th>\n",
       "      <th>time</th>\n",
       "      <th></th>\n",
       "      <th></th>\n",
       "      <th></th>\n",
       "      <th></th>\n",
       "      <th></th>\n",
       "      <th></th>\n",
       "      <th></th>\n",
       "      <th></th>\n",
       "      <th></th>\n",
       "      <th></th>\n",
       "      <th></th>\n",
       "      <th></th>\n",
       "      <th></th>\n",
       "      <th></th>\n",
       "      <th></th>\n",
       "      <th></th>\n",
       "    </tr>\n",
       "  </thead>\n",
       "  <tbody>\n",
       "    <tr>\n",
       "      <th rowspan=\"5\" valign=\"top\">1</th>\n",
       "      <th rowspan=\"5\" valign=\"top\">0</th>\n",
       "      <th>0.00</th>\n",
       "      <td>37.981384</td>\n",
       "      <td>23.734019</td>\n",
       "      <td>26.3600</td>\n",
       "      <td>0.0625</td>\n",
       "      <td>-0.0121</td>\n",
       "      <td>Bus</td>\n",
       "      <td>156.25</td>\n",
       "      <td>250699612_250709162</td>\n",
       "      <td>5.227568</td>\n",
       "      <td>0.169584</td>\n",
       "      <td>0.934900</td>\n",
       "      <td>0</td>\n",
       "      <td>0.9</td>\n",
       "      <td>1</td>\n",
       "      <td>26.3600</td>\n",
       "      <td>14.497745</td>\n",
       "    </tr>\n",
       "    <tr>\n",
       "      <th>0.04</th>\n",
       "      <td>37.981386</td>\n",
       "      <td>23.734021</td>\n",
       "      <td>26.3634</td>\n",
       "      <td>-0.0149</td>\n",
       "      <td>-0.0141</td>\n",
       "      <td>Bus</td>\n",
       "      <td>156.25</td>\n",
       "      <td>250699612_250709162</td>\n",
       "      <td>5.227568</td>\n",
       "      <td>0.474542</td>\n",
       "      <td>0.932464</td>\n",
       "      <td>0</td>\n",
       "      <td>0.9</td>\n",
       "      <td>1</td>\n",
       "      <td>26.3634</td>\n",
       "      <td>14.229915</td>\n",
       "    </tr>\n",
       "    <tr>\n",
       "      <th>0.08</th>\n",
       "      <td>37.981387</td>\n",
       "      <td>23.734024</td>\n",
       "      <td>26.3578</td>\n",
       "      <td>-0.0625</td>\n",
       "      <td>-0.0160</td>\n",
       "      <td>Bus</td>\n",
       "      <td>156.25</td>\n",
       "      <td>250699612_250709162</td>\n",
       "      <td>5.227568</td>\n",
       "      <td>0.251416</td>\n",
       "      <td>0.932163</td>\n",
       "      <td>0</td>\n",
       "      <td>0.9</td>\n",
       "      <td>1</td>\n",
       "      <td>26.3578</td>\n",
       "      <td>13.948674</td>\n",
       "    </tr>\n",
       "    <tr>\n",
       "      <th>0.12</th>\n",
       "      <td>37.981389</td>\n",
       "      <td>23.734027</td>\n",
       "      <td>26.3454</td>\n",
       "      <td>-0.1101</td>\n",
       "      <td>-0.0179</td>\n",
       "      <td>Bus</td>\n",
       "      <td>156.25</td>\n",
       "      <td>250699612_250709162</td>\n",
       "      <td>5.227568</td>\n",
       "      <td>0.474556</td>\n",
       "      <td>0.930224</td>\n",
       "      <td>0</td>\n",
       "      <td>0.9</td>\n",
       "      <td>1</td>\n",
       "      <td>26.3454</td>\n",
       "      <td>13.607180</td>\n",
       "    </tr>\n",
       "    <tr>\n",
       "      <th>0.16</th>\n",
       "      <td>37.981390</td>\n",
       "      <td>23.734030</td>\n",
       "      <td>26.3229</td>\n",
       "      <td>-0.2023</td>\n",
       "      <td>-0.0199</td>\n",
       "      <td>Bus</td>\n",
       "      <td>156.25</td>\n",
       "      <td>250699612_250709162</td>\n",
       "      <td>5.227568</td>\n",
       "      <td>0.169594</td>\n",
       "      <td>0.929970</td>\n",
       "      <td>0</td>\n",
       "      <td>0.9</td>\n",
       "      <td>1</td>\n",
       "      <td>26.3229</td>\n",
       "      <td>13.325939</td>\n",
       "    </tr>\n",
       "  </tbody>\n",
       "</table>\n",
       "</div>"
      ],
      "text/plain": [
       "                    lat        lon    speed  lon_acc  lat_acc type  \\\n",
       "id traj time                                                         \n",
       "1  0    0.00  37.981384  23.734019  26.3600   0.0625  -0.0121  Bus   \n",
       "        0.04  37.981386  23.734021  26.3634  -0.0149  -0.0141  Bus   \n",
       "        0.08  37.981387  23.734024  26.3578  -0.0625  -0.0160  Bus   \n",
       "        0.12  37.981389  23.734027  26.3454  -0.1101  -0.0179  Bus   \n",
       "        0.16  37.981390  23.734030  26.3229  -0.2023  -0.0199  Bus   \n",
       "\n",
       "              traveled_d              edge_id  avg_speed   bearing  \\\n",
       "id traj time                                                         \n",
       "1  0    0.00      156.25  250699612_250709162   5.227568  0.169584   \n",
       "        0.04      156.25  250699612_250709162   5.227568  0.474542   \n",
       "        0.08      156.25  250699612_250709162   5.227568  0.251416   \n",
       "        0.12      156.25  250699612_250709162   5.227568  0.474556   \n",
       "        0.16      156.25  250699612_250709162   5.227568  0.169594   \n",
       "\n",
       "              edge_progress  dir  edge_progress_intervals  vehicle_density  \\\n",
       "id traj time                                                                 \n",
       "1  0    0.00       0.934900    0                      0.9                1   \n",
       "        0.04       0.932464    0                      0.9                1   \n",
       "        0.08       0.932163    0                      0.9                1   \n",
       "        0.12       0.930224    0                      0.9                1   \n",
       "        0.16       0.929970    0                      0.9                1   \n",
       "\n",
       "              avg_surr_speed  xtrack_dist  \n",
       "id traj time                               \n",
       "1  0    0.00         26.3600    14.497745  \n",
       "        0.04         26.3634    14.229915  \n",
       "        0.08         26.3578    13.948674  \n",
       "        0.12         26.3454    13.607180  \n",
       "        0.16         26.3229    13.325939  "
      ]
     },
     "execution_count": 2,
     "metadata": {},
     "output_type": "execute_result"
    }
   ],
   "source": [
    "df = pd.read_pickle(\"block4_1_features.pkl\") #read the concatenated feature file\n",
    "#df = df.droplevel('traj')\n",
    "df.head()"
   ]
  },
  {
   "cell_type": "code",
   "execution_count": 3,
   "id": "pending-elevation",
   "metadata": {},
   "outputs": [],
   "source": [
    "#removing data from intersections.\n",
    "def remove_intersection_data(df, edge_progress_min, edge_progress_max):\n",
    "    df = df[(edge_progress_min <= df['edge_progress']) & (df['edge_progress'] <= edge_progress_max)]\n",
    "    return df\n",
    "\n",
    "df = remove_intersection_data(df,0.1,0.9)"
   ]
  },
  {
   "cell_type": "code",
   "execution_count": 4,
   "id": "breathing-disney",
   "metadata": {},
   "outputs": [],
   "source": [
    "#remove all vehicles except taxi and car\n",
    "df = df[(df['type'] == 'Car' )|( df['type'] == 'Taxi')]\n"
   ]
  },
  {
   "cell_type": "code",
   "execution_count": 5,
   "id": "arctic-islam",
   "metadata": {},
   "outputs": [
    {
     "data": {
      "text/html": [
       "<div>\n",
       "<style scoped>\n",
       "    .dataframe tbody tr th:only-of-type {\n",
       "        vertical-align: middle;\n",
       "    }\n",
       "\n",
       "    .dataframe tbody tr th {\n",
       "        vertical-align: top;\n",
       "    }\n",
       "\n",
       "    .dataframe thead th {\n",
       "        text-align: right;\n",
       "    }\n",
       "</style>\n",
       "<table border=\"1\" class=\"dataframe\">\n",
       "  <thead>\n",
       "    <tr style=\"text-align: right;\">\n",
       "      <th></th>\n",
       "      <th></th>\n",
       "      <th></th>\n",
       "      <th></th>\n",
       "      <th>lat</th>\n",
       "      <th>lon</th>\n",
       "      <th>speed</th>\n",
       "      <th>lon_acc</th>\n",
       "      <th>lat_acc</th>\n",
       "      <th>type</th>\n",
       "      <th>traveled_d</th>\n",
       "      <th>avg_speed</th>\n",
       "      <th>bearing</th>\n",
       "      <th>edge_progress</th>\n",
       "      <th>dir</th>\n",
       "      <th>edge_progress_intervals</th>\n",
       "      <th>vehicle_density</th>\n",
       "      <th>avg_surr_speed</th>\n",
       "      <th>xtrack_dist</th>\n",
       "    </tr>\n",
       "    <tr>\n",
       "      <th>id</th>\n",
       "      <th>traj</th>\n",
       "      <th>edge_id</th>\n",
       "      <th>time</th>\n",
       "      <th></th>\n",
       "      <th></th>\n",
       "      <th></th>\n",
       "      <th></th>\n",
       "      <th></th>\n",
       "      <th></th>\n",
       "      <th></th>\n",
       "      <th></th>\n",
       "      <th></th>\n",
       "      <th></th>\n",
       "      <th></th>\n",
       "      <th></th>\n",
       "      <th></th>\n",
       "      <th></th>\n",
       "      <th></th>\n",
       "    </tr>\n",
       "  </thead>\n",
       "  <tbody>\n",
       "    <tr>\n",
       "      <th rowspan=\"5\" valign=\"top\">3</th>\n",
       "      <th rowspan=\"5\" valign=\"top\">0</th>\n",
       "      <th rowspan=\"5\" valign=\"top\">250699612_250699613</th>\n",
       "      <th>0.00</th>\n",
       "      <td>37.981945</td>\n",
       "      <td>23.733895</td>\n",
       "      <td>0.0</td>\n",
       "      <td>0.0</td>\n",
       "      <td>0.0</td>\n",
       "      <td>Car</td>\n",
       "      <td>86.7</td>\n",
       "      <td>1.098968</td>\n",
       "      <td>0.0</td>\n",
       "      <td>0.52701</td>\n",
       "      <td>0</td>\n",
       "      <td>0.5</td>\n",
       "      <td>1</td>\n",
       "      <td>0.0</td>\n",
       "      <td>-1.141464</td>\n",
       "    </tr>\n",
       "    <tr>\n",
       "      <th>0.04</th>\n",
       "      <td>37.981945</td>\n",
       "      <td>23.733895</td>\n",
       "      <td>0.0</td>\n",
       "      <td>0.0</td>\n",
       "      <td>0.0</td>\n",
       "      <td>Car</td>\n",
       "      <td>86.7</td>\n",
       "      <td>1.098968</td>\n",
       "      <td>0.0</td>\n",
       "      <td>0.52701</td>\n",
       "      <td>0</td>\n",
       "      <td>0.5</td>\n",
       "      <td>1</td>\n",
       "      <td>0.0</td>\n",
       "      <td>-1.141464</td>\n",
       "    </tr>\n",
       "    <tr>\n",
       "      <th>0.08</th>\n",
       "      <td>37.981945</td>\n",
       "      <td>23.733895</td>\n",
       "      <td>0.0</td>\n",
       "      <td>0.0</td>\n",
       "      <td>0.0</td>\n",
       "      <td>Car</td>\n",
       "      <td>86.7</td>\n",
       "      <td>1.098968</td>\n",
       "      <td>0.0</td>\n",
       "      <td>0.52701</td>\n",
       "      <td>0</td>\n",
       "      <td>0.5</td>\n",
       "      <td>1</td>\n",
       "      <td>0.0</td>\n",
       "      <td>-1.141464</td>\n",
       "    </tr>\n",
       "    <tr>\n",
       "      <th>0.12</th>\n",
       "      <td>37.981945</td>\n",
       "      <td>23.733895</td>\n",
       "      <td>0.0</td>\n",
       "      <td>0.0</td>\n",
       "      <td>0.0</td>\n",
       "      <td>Car</td>\n",
       "      <td>86.7</td>\n",
       "      <td>1.098968</td>\n",
       "      <td>0.0</td>\n",
       "      <td>0.52701</td>\n",
       "      <td>0</td>\n",
       "      <td>0.5</td>\n",
       "      <td>1</td>\n",
       "      <td>0.0</td>\n",
       "      <td>-1.141464</td>\n",
       "    </tr>\n",
       "    <tr>\n",
       "      <th>0.16</th>\n",
       "      <td>37.981945</td>\n",
       "      <td>23.733895</td>\n",
       "      <td>0.0</td>\n",
       "      <td>0.0</td>\n",
       "      <td>0.0</td>\n",
       "      <td>Car</td>\n",
       "      <td>86.7</td>\n",
       "      <td>1.098968</td>\n",
       "      <td>0.0</td>\n",
       "      <td>0.52701</td>\n",
       "      <td>0</td>\n",
       "      <td>0.5</td>\n",
       "      <td>1</td>\n",
       "      <td>0.0</td>\n",
       "      <td>-1.141464</td>\n",
       "    </tr>\n",
       "  </tbody>\n",
       "</table>\n",
       "</div>"
      ],
      "text/plain": [
       "                                        lat        lon  speed  lon_acc  \\\n",
       "id traj edge_id             time                                         \n",
       "3  0    250699612_250699613 0.00  37.981945  23.733895    0.0      0.0   \n",
       "                            0.04  37.981945  23.733895    0.0      0.0   \n",
       "                            0.08  37.981945  23.733895    0.0      0.0   \n",
       "                            0.12  37.981945  23.733895    0.0      0.0   \n",
       "                            0.16  37.981945  23.733895    0.0      0.0   \n",
       "\n",
       "                                  lat_acc type  traveled_d  avg_speed  \\\n",
       "id traj edge_id             time                                        \n",
       "3  0    250699612_250699613 0.00      0.0  Car        86.7   1.098968   \n",
       "                            0.04      0.0  Car        86.7   1.098968   \n",
       "                            0.08      0.0  Car        86.7   1.098968   \n",
       "                            0.12      0.0  Car        86.7   1.098968   \n",
       "                            0.16      0.0  Car        86.7   1.098968   \n",
       "\n",
       "                                  bearing  edge_progress  dir  \\\n",
       "id traj edge_id             time                                \n",
       "3  0    250699612_250699613 0.00      0.0        0.52701    0   \n",
       "                            0.04      0.0        0.52701    0   \n",
       "                            0.08      0.0        0.52701    0   \n",
       "                            0.12      0.0        0.52701    0   \n",
       "                            0.16      0.0        0.52701    0   \n",
       "\n",
       "                                  edge_progress_intervals  vehicle_density  \\\n",
       "id traj edge_id             time                                             \n",
       "3  0    250699612_250699613 0.00                      0.5                1   \n",
       "                            0.04                      0.5                1   \n",
       "                            0.08                      0.5                1   \n",
       "                            0.12                      0.5                1   \n",
       "                            0.16                      0.5                1   \n",
       "\n",
       "                                  avg_surr_speed  xtrack_dist  \n",
       "id traj edge_id             time                               \n",
       "3  0    250699612_250699613 0.00             0.0    -1.141464  \n",
       "                            0.04             0.0    -1.141464  \n",
       "                            0.08             0.0    -1.141464  \n",
       "                            0.12             0.0    -1.141464  \n",
       "                            0.16             0.0    -1.141464  "
      ]
     },
     "execution_count": 5,
     "metadata": {},
     "output_type": "execute_result"
    }
   ],
   "source": [
    "#prep labels\n",
    "df_label =df.reset_index()[['id','edge_id','type']].drop_duplicates()\n",
    "df_label.set_index(['id','edge_id'],inplace = True)\n",
    "df_label['label'] = (df_label[\"type\"] == 'Car').astype(int)\n",
    "\n",
    "#add edge_id  as index\n",
    "df.set_index('edge_id', append=True,inplace = True)\n",
    "df = df.reorder_levels([0,1,3,2])\n",
    "df.head()"
   ]
  },
  {
   "cell_type": "code",
   "execution_count": 172,
   "id": "comfortable-confusion",
   "metadata": {},
   "outputs": [
    {
     "data": {
      "text/html": [
       "<div>\n",
       "<style scoped>\n",
       "    .dataframe tbody tr th:only-of-type {\n",
       "        vertical-align: middle;\n",
       "    }\n",
       "\n",
       "    .dataframe tbody tr th {\n",
       "        vertical-align: top;\n",
       "    }\n",
       "\n",
       "    .dataframe thead tr th {\n",
       "        text-align: left;\n",
       "    }\n",
       "\n",
       "    .dataframe thead tr:last-of-type th {\n",
       "        text-align: right;\n",
       "    }\n",
       "</style>\n",
       "<table border=\"1\" class=\"dataframe\">\n",
       "  <thead>\n",
       "    <tr>\n",
       "      <th></th>\n",
       "      <th></th>\n",
       "      <th></th>\n",
       "      <th>avg_surr_speed</th>\n",
       "      <th>xtrack_dist</th>\n",
       "    </tr>\n",
       "    <tr>\n",
       "      <th></th>\n",
       "      <th></th>\n",
       "      <th></th>\n",
       "      <th>mean</th>\n",
       "      <th>std</th>\n",
       "    </tr>\n",
       "    <tr>\n",
       "      <th>id</th>\n",
       "      <th>traj</th>\n",
       "      <th>edge_id</th>\n",
       "      <th></th>\n",
       "      <th></th>\n",
       "    </tr>\n",
       "  </thead>\n",
       "  <tbody>\n",
       "    <tr>\n",
       "      <th rowspan=\"3\" valign=\"top\">3</th>\n",
       "      <th>0</th>\n",
       "      <th>250699612_250699613</th>\n",
       "      <td>0.497101</td>\n",
       "      <td>0.465291</td>\n",
       "    </tr>\n",
       "    <tr>\n",
       "      <th>1</th>\n",
       "      <th>250699612_250699613</th>\n",
       "      <td>1.101357</td>\n",
       "      <td>0.610986</td>\n",
       "    </tr>\n",
       "    <tr>\n",
       "      <th>2</th>\n",
       "      <th>250699612_250699613</th>\n",
       "      <td>0.758235</td>\n",
       "      <td>0.006123</td>\n",
       "    </tr>\n",
       "    <tr>\n",
       "      <th rowspan=\"2\" valign=\"top\">4</th>\n",
       "      <th>0</th>\n",
       "      <th>250699613_250699614</th>\n",
       "      <td>4.515849</td>\n",
       "      <td>0.299160</td>\n",
       "    </tr>\n",
       "    <tr>\n",
       "      <th>1</th>\n",
       "      <th>250699613_250699614</th>\n",
       "      <td>4.033802</td>\n",
       "      <td>0.554226</td>\n",
       "    </tr>\n",
       "  </tbody>\n",
       "</table>\n",
       "</div>"
      ],
      "text/plain": [
       "                            avg_surr_speed xtrack_dist\n",
       "                                      mean         std\n",
       "id traj edge_id                                       \n",
       "3  0    250699612_250699613       0.497101    0.465291\n",
       "   1    250699612_250699613       1.101357    0.610986\n",
       "   2    250699612_250699613       0.758235    0.006123\n",
       "4  0    250699613_250699614       4.515849    0.299160\n",
       "   1    250699613_250699614       4.033802    0.554226"
      ]
     },
     "execution_count": 172,
     "metadata": {},
     "output_type": "execute_result"
    }
   ],
   "source": [
    "#aggregate function\n",
    "df_agg = df.groupby(['id','traj','edge_id']).agg({\n",
    "\n",
    "    'speed': ['mean', 'median', 'std'],\n",
    "    'lon_acc': ['mean','median', 'std'],\n",
    "    'lat_acc': ['mean','median', 'std'],\n",
    "    'bearing':['mean','median','std'],\n",
    "    'dir':['mean'],\n",
    "    'vehicle_density':['mean','median','std'],\n",
    "    'avg_surr_speed':['mean','median','std']\n",
    "    'xtrack_dist' :['mean','median','std']\n",
    "    \n",
    "})\n",
    "df_agg.head()\n",
    "\n",
    "\n"
   ]
  },
  {
   "cell_type": "code",
   "execution_count": 173,
   "id": "partial-duncan",
   "metadata": {},
   "outputs": [
    {
     "name": "stderr",
     "output_type": "stream",
     "text": [
      "C:\\Users\\lloyd\\anaconda3\\envs\\ox\\lib\\site-packages\\pandas\\core\\reshape\\merge.py:648: UserWarning: merging between different levels can give an unintended result (2 levels on the left,1 on the right)\n",
      "  warnings.warn(msg, UserWarning)\n"
     ]
    },
    {
     "data": {
      "text/html": [
       "<div>\n",
       "<style scoped>\n",
       "    .dataframe tbody tr th:only-of-type {\n",
       "        vertical-align: middle;\n",
       "    }\n",
       "\n",
       "    .dataframe tbody tr th {\n",
       "        vertical-align: top;\n",
       "    }\n",
       "\n",
       "    .dataframe thead th {\n",
       "        text-align: right;\n",
       "    }\n",
       "</style>\n",
       "<table border=\"1\" class=\"dataframe\">\n",
       "  <thead>\n",
       "    <tr style=\"text-align: right;\">\n",
       "      <th></th>\n",
       "      <th></th>\n",
       "      <th></th>\n",
       "      <th>(avg_surr_speed, mean)</th>\n",
       "      <th>(xtrack_dist, std)</th>\n",
       "      <th>type</th>\n",
       "      <th>label</th>\n",
       "    </tr>\n",
       "    <tr>\n",
       "      <th>id</th>\n",
       "      <th>edge_id</th>\n",
       "      <th>traj</th>\n",
       "      <th></th>\n",
       "      <th></th>\n",
       "      <th></th>\n",
       "      <th></th>\n",
       "    </tr>\n",
       "  </thead>\n",
       "  <tbody>\n",
       "    <tr>\n",
       "      <th rowspan=\"3\" valign=\"top\">3</th>\n",
       "      <th rowspan=\"3\" valign=\"top\">250699612_250699613</th>\n",
       "      <th>0</th>\n",
       "      <td>0.497101</td>\n",
       "      <td>0.465291</td>\n",
       "      <td>Car</td>\n",
       "      <td>1</td>\n",
       "    </tr>\n",
       "    <tr>\n",
       "      <th>1</th>\n",
       "      <td>1.101357</td>\n",
       "      <td>0.610986</td>\n",
       "      <td>Car</td>\n",
       "      <td>1</td>\n",
       "    </tr>\n",
       "    <tr>\n",
       "      <th>2</th>\n",
       "      <td>0.758235</td>\n",
       "      <td>0.006123</td>\n",
       "      <td>Car</td>\n",
       "      <td>1</td>\n",
       "    </tr>\n",
       "    <tr>\n",
       "      <th rowspan=\"2\" valign=\"top\">4</th>\n",
       "      <th rowspan=\"2\" valign=\"top\">250699613_250699614</th>\n",
       "      <th>0</th>\n",
       "      <td>4.515849</td>\n",
       "      <td>0.299160</td>\n",
       "      <td>Car</td>\n",
       "      <td>1</td>\n",
       "    </tr>\n",
       "    <tr>\n",
       "      <th>1</th>\n",
       "      <td>4.033802</td>\n",
       "      <td>0.554226</td>\n",
       "      <td>Car</td>\n",
       "      <td>1</td>\n",
       "    </tr>\n",
       "  </tbody>\n",
       "</table>\n",
       "</div>"
      ],
      "text/plain": [
       "                             (avg_surr_speed, mean)  (xtrack_dist, std) type  \\\n",
       "id edge_id             traj                                                    \n",
       "3  250699612_250699613 0                   0.497101            0.465291  Car   \n",
       "                       1                   1.101357            0.610986  Car   \n",
       "                       2                   0.758235            0.006123  Car   \n",
       "4  250699613_250699614 0                   4.515849            0.299160  Car   \n",
       "                       1                   4.033802            0.554226  Car   \n",
       "\n",
       "                             label  \n",
       "id edge_id             traj         \n",
       "3  250699612_250699613 0         1  \n",
       "                       1         1  \n",
       "                       2         1  \n",
       "4  250699613_250699614 0         1  \n",
       "                       1         1  "
      ]
     },
     "execution_count": 173,
     "metadata": {},
     "output_type": "execute_result"
    }
   ],
   "source": [
    "#join features\n",
    "df_features = df_agg.join(df_label[['type','label']])\n",
    "df_features.head()"
   ]
  },
  {
   "cell_type": "code",
   "execution_count": 174,
   "id": "painful-domestic",
   "metadata": {},
   "outputs": [
    {
     "data": {
      "text/html": [
       "<div>\n",
       "<style scoped>\n",
       "    .dataframe tbody tr th:only-of-type {\n",
       "        vertical-align: middle;\n",
       "    }\n",
       "\n",
       "    .dataframe tbody tr th {\n",
       "        vertical-align: top;\n",
       "    }\n",
       "\n",
       "    .dataframe thead th {\n",
       "        text-align: right;\n",
       "    }\n",
       "</style>\n",
       "<table border=\"1\" class=\"dataframe\">\n",
       "  <thead>\n",
       "    <tr style=\"text-align: right;\">\n",
       "      <th></th>\n",
       "      <th></th>\n",
       "      <th>(avg_surr_speed, mean)</th>\n",
       "      <th>(xtrack_dist, std)</th>\n",
       "      <th>type</th>\n",
       "      <th>label</th>\n",
       "    </tr>\n",
       "    <tr>\n",
       "      <th>edge_id</th>\n",
       "      <th>traj</th>\n",
       "      <th></th>\n",
       "      <th></th>\n",
       "      <th></th>\n",
       "      <th></th>\n",
       "    </tr>\n",
       "  </thead>\n",
       "  <tbody>\n",
       "    <tr>\n",
       "      <th rowspan=\"3\" valign=\"top\">250699612_250699613</th>\n",
       "      <th>0/3</th>\n",
       "      <td>0.497101</td>\n",
       "      <td>0.465291</td>\n",
       "      <td>Car</td>\n",
       "      <td>1</td>\n",
       "    </tr>\n",
       "    <tr>\n",
       "      <th>1/3</th>\n",
       "      <td>1.101357</td>\n",
       "      <td>0.610986</td>\n",
       "      <td>Car</td>\n",
       "      <td>1</td>\n",
       "    </tr>\n",
       "    <tr>\n",
       "      <th>2/3</th>\n",
       "      <td>0.758235</td>\n",
       "      <td>0.006123</td>\n",
       "      <td>Car</td>\n",
       "      <td>1</td>\n",
       "    </tr>\n",
       "    <tr>\n",
       "      <th rowspan=\"2\" valign=\"top\">250699613_250699614</th>\n",
       "      <th>0/4</th>\n",
       "      <td>4.515849</td>\n",
       "      <td>0.299160</td>\n",
       "      <td>Car</td>\n",
       "      <td>1</td>\n",
       "    </tr>\n",
       "    <tr>\n",
       "      <th>1/4</th>\n",
       "      <td>4.033802</td>\n",
       "      <td>0.554226</td>\n",
       "      <td>Car</td>\n",
       "      <td>1</td>\n",
       "    </tr>\n",
       "  </tbody>\n",
       "</table>\n",
       "</div>"
      ],
      "text/plain": [
       "                          (avg_surr_speed, mean)  (xtrack_dist, std) type  \\\n",
       "edge_id             traj                                                    \n",
       "250699612_250699613 0/3                 0.497101            0.465291  Car   \n",
       "                    1/3                 1.101357            0.610986  Car   \n",
       "                    2/3                 0.758235            0.006123  Car   \n",
       "250699613_250699614 0/4                 4.515849            0.299160  Car   \n",
       "                    1/4                 4.033802            0.554226  Car   \n",
       "\n",
       "                          label  \n",
       "edge_id             traj         \n",
       "250699612_250699613 0/3       1  \n",
       "                    1/3       1  \n",
       "                    2/3       1  \n",
       "250699613_250699614 0/4       1  \n",
       "                    1/4       1  "
      ]
     },
     "execution_count": 174,
     "metadata": {},
     "output_type": "execute_result"
    }
   ],
   "source": [
    "#merge id and traj\n",
    "df_features.index = [df_features.index.get_level_values(1),df_features.index.map('{0[2]}/{0[0]}'.format)]\n",
    "df_features.index.set_names(\"traj\",inplace = True,level = 1)\n",
    "df_features.head()"
   ]
  },
  {
   "cell_type": "code",
   "execution_count": 175,
   "id": "premier-authority",
   "metadata": {},
   "outputs": [
    {
     "data": {
      "text/plain": [
       "Index(['250691795_250699359', '250698926_250699612', '250699359_250699613',\n",
       "       '250699359_8446047162', '250699362_250699984', '250699362_250700083',\n",
       "       '250699362_250708641', '250699362_599116897', '250699612_250699613',\n",
       "       '250699613_250699614', '250699613_599116897', '250699614_250699615',\n",
       "       '250699614_250699711', '250699614_8446047162', '250699711_250699973',\n",
       "       '250699711_250708641', '250699711_599116897', '250699972_8446047162',\n",
       "       '250700083_250700084', '250700083_388172056', '250700084_250700085',\n",
       "       '250700084_388172051', '250700339_250706959', '250700339_364104830',\n",
       "       '250706958_250708641', '250706958_364104825', '250706958_388172056',\n",
       "       '250706958_388172075', '250708522_364104825', '250708556_250708641',\n",
       "       '300400247_300400248', '300400248_8446047162', '388172051_388172055',\n",
       "       '388172075_4464395371'],\n",
       "      dtype='object', name='edge_id')"
      ]
     },
     "execution_count": 175,
     "metadata": {},
     "output_type": "execute_result"
    }
   ],
   "source": [
    "#edges which have both car and taxi\n",
    "df_label_1 = df_label.reset_index()[[\"edge_id\",\"type\",\"label\"]].drop_duplicates()\n",
    "both_car_taxi = df_label_1.groupby(['edge_id']).agg({\n",
    "   'label':'count'    \n",
    "})\n",
    "both_car_taxi = both_car_taxi[both_car_taxi['label'] >1]\n",
    "both_car_taxi.index"
   ]
  },
  {
   "cell_type": "code",
   "execution_count": 176,
   "id": "interpreted-collar",
   "metadata": {},
   "outputs": [
    {
     "data": {
      "text/html": [
       "<div>\n",
       "<style scoped>\n",
       "    .dataframe tbody tr th:only-of-type {\n",
       "        vertical-align: middle;\n",
       "    }\n",
       "\n",
       "    .dataframe tbody tr th {\n",
       "        vertical-align: top;\n",
       "    }\n",
       "\n",
       "    .dataframe thead th {\n",
       "        text-align: right;\n",
       "    }\n",
       "</style>\n",
       "<table border=\"1\" class=\"dataframe\">\n",
       "  <thead>\n",
       "    <tr style=\"text-align: right;\">\n",
       "      <th></th>\n",
       "      <th></th>\n",
       "      <th>(avg_surr_speed, mean)</th>\n",
       "      <th>(xtrack_dist, std)</th>\n",
       "      <th>type</th>\n",
       "      <th>label</th>\n",
       "    </tr>\n",
       "    <tr>\n",
       "      <th>edge_id</th>\n",
       "      <th>traj</th>\n",
       "      <th></th>\n",
       "      <th></th>\n",
       "      <th></th>\n",
       "      <th></th>\n",
       "    </tr>\n",
       "  </thead>\n",
       "  <tbody>\n",
       "    <tr>\n",
       "      <th rowspan=\"5\" valign=\"top\">250691795_250699359</th>\n",
       "      <th>0/88</th>\n",
       "      <td>23.169200</td>\n",
       "      <td>0.097230</td>\n",
       "      <td>Car</td>\n",
       "      <td>1</td>\n",
       "    </tr>\n",
       "    <tr>\n",
       "      <th>0/102</th>\n",
       "      <td>27.976434</td>\n",
       "      <td>0.182141</td>\n",
       "      <td>Car</td>\n",
       "      <td>1</td>\n",
       "    </tr>\n",
       "    <tr>\n",
       "      <th>0/106</th>\n",
       "      <td>21.666746</td>\n",
       "      <td>0.518709</td>\n",
       "      <td>Car</td>\n",
       "      <td>1</td>\n",
       "    </tr>\n",
       "    <tr>\n",
       "      <th>1/128</th>\n",
       "      <td>10.049026</td>\n",
       "      <td>0.962530</td>\n",
       "      <td>Car</td>\n",
       "      <td>1</td>\n",
       "    </tr>\n",
       "    <tr>\n",
       "      <th>2/128</th>\n",
       "      <td>11.458721</td>\n",
       "      <td>0.000000</td>\n",
       "      <td>Car</td>\n",
       "      <td>1</td>\n",
       "    </tr>\n",
       "  </tbody>\n",
       "</table>\n",
       "</div>"
      ],
      "text/plain": [
       "                           (avg_surr_speed, mean)  (xtrack_dist, std) type  \\\n",
       "edge_id             traj                                                     \n",
       "250691795_250699359 0/88                23.169200            0.097230  Car   \n",
       "                    0/102               27.976434            0.182141  Car   \n",
       "                    0/106               21.666746            0.518709  Car   \n",
       "                    1/128               10.049026            0.962530  Car   \n",
       "                    2/128               11.458721            0.000000  Car   \n",
       "\n",
       "                           label  \n",
       "edge_id             traj          \n",
       "250691795_250699359 0/88       1  \n",
       "                    0/102      1  \n",
       "                    0/106      1  \n",
       "                    1/128      1  \n",
       "                    2/128      1  "
      ]
     },
     "execution_count": 176,
     "metadata": {},
     "output_type": "execute_result"
    }
   ],
   "source": [
    "#get those entries which have both cars and taxis plying in the edge\n",
    "df_features = df_features.loc[both_car_taxi.index]\n",
    "df_features.head()"
   ]
  },
  {
   "cell_type": "code",
   "execution_count": 177,
   "id": "forced-symphony",
   "metadata": {},
   "outputs": [],
   "source": [
    "#count of how many taxis and cars ply in an edge\n",
    "#count_list = df_features.groupby('edge_id').count()['type']\n",
    "count_list = df_features.reset_index('edge_id').pivot_table(index = 'edge_id',values = 'label',columns = 'type',aggfunc = ['count'])"
   ]
  },
  {
   "cell_type": "code",
   "execution_count": 178,
   "id": "minimal-marathon",
   "metadata": {},
   "outputs": [
    {
     "name": "stderr",
     "output_type": "stream",
     "text": [
      "C:\\Users\\lloyd\\anaconda3\\envs\\ox\\lib\\site-packages\\pandas\\core\\reshape\\merge.py:648: UserWarning: merging between different levels can give an unintended result (1 levels on the left,2 on the right)\n",
      "  warnings.warn(msg, UserWarning)\n"
     ]
    }
   ],
   "source": [
    "#creating a mask to get equal numbers of cars and taxis in test set\n",
    "df_mask = df_features.reset_index().set_index(['edge_id','traj','type']).groupby(['edge_id','type']).cumcount().to_frame()+1\n",
    "df_mask = df_mask.join(count_list,on=['edge_id'])\n",
    "test_limit = 0.9\n",
    "df_mask[\"min_vehicle\"] = [df_mask.iloc[i,2] if df_mask.iloc[i,1]>df_mask.iloc[i,2] else df_mask.iloc[i,1] for i in range(0,df_mask.shape[0])]"
   ]
  },
  {
   "cell_type": "code",
   "execution_count": 179,
   "id": "governing-imagination",
   "metadata": {},
   "outputs": [],
   "source": [
    "df_test_mask =df_mask[df_mask[0]>np.floor(test_limit*df_mask['min_vehicle'])]\n",
    "df_test_mask = pd.MultiIndex.from_tuples(list(zip(df_test_mask.index.get_level_values(0),df_test_mask.index.get_level_values(1))),names = ['edge_id','traj'])\n",
    "df_train_mask = df_mask[df_mask[0]<=np.floor(test_limit*df_mask['min_vehicle'])]\n",
    "df_train_mask = pd.MultiIndex.from_tuples(list(zip(df_train_mask.index.get_level_values(0),df_train_mask.index.get_level_values(1))),names = ['edge_id','traj'])"
   ]
  },
  {
   "cell_type": "code",
   "execution_count": 180,
   "id": "alike-conversation",
   "metadata": {},
   "outputs": [
    {
     "data": {
      "text/plain": [
       "(758, 4)"
      ]
     },
     "execution_count": 180,
     "metadata": {},
     "output_type": "execute_result"
    }
   ],
   "source": [
    "#generate test set\n",
    "df_test = df_features[df_features.index.isin(df_test_mask)]\n",
    "df_test.shape"
   ]
  },
  {
   "cell_type": "code",
   "execution_count": 181,
   "id": "intended-forest",
   "metadata": {},
   "outputs": [
    {
     "data": {
      "text/plain": [
       "(622, 4)"
      ]
     },
     "execution_count": 181,
     "metadata": {},
     "output_type": "execute_result"
    }
   ],
   "source": [
    "#generate training set\n",
    "df_train = df_features[df_features.index.isin(df_train_mask)]\n",
    "df_train.shape"
   ]
  },
  {
   "cell_type": "code",
   "execution_count": 182,
   "id": "olympic-kenya",
   "metadata": {},
   "outputs": [],
   "source": [
    "df_train = df_train.dropna()\n",
    "df_train_x = df_train.copy()\n",
    "df_train_x.drop(['type','label'],axis = 1,inplace = True)\n",
    "df_train_y = df_train['label']"
   ]
  },
  {
   "cell_type": "code",
   "execution_count": 183,
   "id": "atmospheric-surge",
   "metadata": {},
   "outputs": [
    {
     "data": {
      "text/plain": [
       "Pipeline(steps=[('standardscaler', StandardScaler()),\n",
       "                ('svc', SVC(C=9, gamma=5e-07))])"
      ]
     },
     "execution_count": 183,
     "metadata": {},
     "output_type": "execute_result"
    }
   ],
   "source": [
    "#SVC\n",
    "from sklearn.pipeline import make_pipeline\n",
    "from sklearn.preprocessing import StandardScaler\n",
    "from sklearn.svm import SVC\n",
    "clf = make_pipeline(StandardScaler(), SVC(kernel =  'rbf',gamma = 5e-7,C = 9))\n",
    "clf.fit(df_train_x, df_train_y)"
   ]
  },
  {
   "cell_type": "code",
   "execution_count": 184,
   "id": "interracial-moment",
   "metadata": {},
   "outputs": [],
   "source": [
    "df_test = df_test.dropna()\n",
    "df_test_x = df_test.copy()\n",
    "df_test_x.drop(['type','label'],axis = 1,inplace = True)\n",
    "df_test_y = df_test['label']"
   ]
  },
  {
   "cell_type": "code",
   "execution_count": 185,
   "id": "rocky-navigator",
   "metadata": {},
   "outputs": [
    {
     "data": {
      "text/plain": [
       "0.5997357992073976"
      ]
     },
     "execution_count": 185,
     "metadata": {},
     "output_type": "execute_result"
    }
   ],
   "source": [
    "#SVC SCORE\n",
    "clf.score(df_test_x,df_test_y)"
   ]
  },
  {
   "cell_type": "code",
   "execution_count": 186,
   "id": "behavioral-liechtenstein",
   "metadata": {},
   "outputs": [
    {
     "data": {
      "text/plain": [
       "0.9260237780713342"
      ]
     },
     "execution_count": 186,
     "metadata": {},
     "output_type": "execute_result"
    }
   ],
   "source": [
    "#naive prediction predict everything as 1\n",
    "(df_test_y == 1).astype(int).mean()"
   ]
  },
  {
   "cell_type": "code",
   "execution_count": 187,
   "id": "authorized-disclaimer",
   "metadata": {},
   "outputs": [
    {
     "data": {
      "text/plain": [
       "0.5997357992073976"
      ]
     },
     "execution_count": 187,
     "metadata": {},
     "output_type": "execute_result"
    }
   ],
   "source": [
    "np.mean(np.array(clf.predict(df_test_x)==df_test_y).astype(int))"
   ]
  },
  {
   "cell_type": "code",
   "execution_count": 44,
   "id": "modern-federal",
   "metadata": {},
   "outputs": [
    {
     "data": {
      "text/plain": [
       "0.3817701453104359"
      ]
     },
     "execution_count": 44,
     "metadata": {},
     "output_type": "execute_result"
    }
   ],
   "source": [
    "from sklearn.linear_model import LogisticRegression\n",
    "clf_log = LogisticRegression(max_iter = 100000,random_state=0).fit(df_train_x, df_train_y)  \n",
    "clf_log.score(df_test_x,df_test_y)"
   ]
  },
  {
   "cell_type": "code",
   "execution_count": 47,
   "id": "prepared-distinction",
   "metadata": {},
   "outputs": [
    {
     "data": {
      "text/plain": [
       "KNeighborsClassifier(n_neighbors=3)"
      ]
     },
     "execution_count": 47,
     "metadata": {},
     "output_type": "execute_result"
    }
   ],
   "source": [
    "from sklearn.neighbors import KNeighborsClassifier\n",
    "\n",
    "model = KNeighborsClassifier(n_neighbors=3)\n",
    "\n",
    "# Train the model using the training sets\n",
    "model.fit(df_train_x,df_train_y)"
   ]
  },
  {
   "cell_type": "code",
   "execution_count": 48,
   "id": "lesser-lawyer",
   "metadata": {},
   "outputs": [
    {
     "data": {
      "text/plain": [
       "0.43989431968295906"
      ]
     },
     "execution_count": 48,
     "metadata": {},
     "output_type": "execute_result"
    }
   ],
   "source": [
    "model.score(df_test_x,df_test_y)"
   ]
  }
 ],
 "metadata": {
  "kernelspec": {
   "display_name": "Python 3",
   "language": "python",
   "name": "python3"
  },
  "language_info": {
   "codemirror_mode": {
    "name": "ipython",
    "version": 3
   },
   "file_extension": ".py",
   "mimetype": "text/x-python",
   "name": "python",
   "nbconvert_exporter": "python",
   "pygments_lexer": "ipython3",
   "version": "3.9.1"
  }
 },
 "nbformat": 4,
 "nbformat_minor": 5
}
