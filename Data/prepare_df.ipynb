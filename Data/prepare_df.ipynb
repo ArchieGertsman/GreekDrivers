{
 "cells": [
  {
   "cell_type": "code",
   "execution_count": 1,
   "metadata": {},
   "outputs": [],
   "source": [
    "import osmnx as ox\n",
    "import pandas as pd\n",
    "import numpy as np\n",
    "from Data import Data \n",
    "import matplotlib.pyplot as plt\n",
    "import nvector as nv\n",
    "import osmapi as osm\n",
    "import networkx as nx"
   ]
  },
  {
   "cell_type": "code",
   "execution_count": 2,
   "metadata": {},
   "outputs": [],
   "source": [
    "def calc_type_numeric(row):\n",
    "    if row['type'] == \"Car\":\n",
    "        val = 0\n",
    "    if row['type'] == \"Taxi\":\n",
    "        val = 1\n",
    "\n",
    "    return val"
   ]
  },
  {
   "cell_type": "code",
   "execution_count": 3,
   "metadata": {},
   "outputs": [],
   "source": [
    "def nearest_graph_data(df, graph):\n",
    "    df = __apply_parallel(df, __construct_graph_data_cols(graph))\n",
    "    return df"
   ]
  },
  {
   "cell_type": "code",
   "execution_count": 4,
   "metadata": {},
   "outputs": [],
   "source": [
    "def __construct_graph_data_cols(graph):\n",
    "    def aux(row):\n",
    "        coord = (row['lat'],row['lon'])\n",
    "        nn = ox.get_nearest_node(graph, coord)\n",
    "        start, end, _ = ox.get_nearest_edge(graph, coord)\n",
    "        if start > end:\n",
    "            start, end = end, start\n",
    "        edge_prog = __edge_progress(graph, start, end, coord)\n",
    "        row['nearest_node'] = nn\n",
    "        row['nearest_edge_start_node'] = start\n",
    "        row['nearest_edge_end_node'] = end\n",
    "        row['edge_progress']  = edge_prog\n",
    "        return row\n",
    "    return aux"
   ]
  },
  {
   "cell_type": "code",
   "execution_count": 5,
   "metadata": {},
   "outputs": [],
   "source": [
    "def prepare_df(df):\n",
    "    df = df.drop(df[(df.type != \"Car\") & (df.type != \"Taxi\")].index)\n",
    "    df['type_numeric'] = df.apply(calc_type_numeric, axis=1)\n",
    "    df2 = df.reset_index().groupby(['id'])['time'].count()\n",
    "    df2 = df2.drop(df2[df2 > 30].index)\n",
    "    df = df.drop(df2.index)\n",
    "    return df"
   ]
  },
  {
   "cell_type": "code",
   "execution_count": 6,
   "metadata": {
    "scrolled": false
   },
   "outputs": [
    {
     "name": "stdout",
     "output_type": "stream",
     "text": [
      "               lat        lon    speed  lon_acc  lat_acc type  traveled_d  \\\n",
      "id time                                                                     \n",
      "2  0.00  37.979775  23.733423  24.8006   0.0000   0.0000  Car        7.99   \n",
      "   0.04  37.979778  23.733422  24.8006  -0.0000  -0.0000  Car        7.99   \n",
      "   0.08  37.979780  23.733420  24.8006   0.0000   0.0000  Car        7.99   \n",
      "   0.12  37.979782  23.733418  24.8006  -0.0000  -0.0000  Car        7.99   \n",
      "   0.16  37.979784  23.733417  24.8006   0.0000   0.0000  Car        7.99   \n",
      "...            ...        ...      ...      ...      ...  ...         ...   \n",
      "9  2.84  37.979802  23.733362  37.4951   0.0222  -0.0207  Car       29.88   \n",
      "   2.88  37.979805  23.733359  37.4989   0.0148  -0.0195  Car       29.88   \n",
      "   2.92  37.979808  23.733357  37.5021   0.0101  -0.0183  Car       29.88   \n",
      "   2.96  37.979811  23.733354  37.5046   0.0022  -0.0171  Car       29.88   \n",
      "   3.00  37.979814  23.733351  37.5060  -0.0096  -0.0159  Car       29.88   \n",
      "\n",
      "         avg_speed  type_numeric  \n",
      "id time                           \n",
      "2  0.00  23.973873             0  \n",
      "   0.04  23.973873             0  \n",
      "   0.08  23.973873             0  \n",
      "   0.12  23.973873             0  \n",
      "   0.16  23.973873             0  \n",
      "...            ...           ...  \n",
      "9  2.84  35.851799             0  \n",
      "   2.88  35.851799             0  \n",
      "   2.92  35.851799             0  \n",
      "   2.96  35.851799             0  \n",
      "   3.00  35.851799             0  \n",
      "\n",
      "[254 rows x 9 columns]\n"
     ]
    }
   ],
   "source": [
    "df = Data('sample.csv').df\n",
    "print(prepare_df(df))"
   ]
  }
 ],
 "metadata": {
  "kernelspec": {
   "display_name": "Python 3",
   "language": "python",
   "name": "python3"
  },
  "language_info": {
   "codemirror_mode": {
    "name": "ipython",
    "version": 3
   },
   "file_extension": ".py",
   "mimetype": "text/x-python",
   "name": "python",
   "nbconvert_exporter": "python",
   "pygments_lexer": "ipython3",
   "version": "3.8.3"
  }
 },
 "nbformat": 4,
 "nbformat_minor": 4
}
