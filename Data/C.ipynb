{
 "cells": [
  {
   "cell_type": "code",
   "execution_count": 1,
   "metadata": {},
   "outputs": [],
   "source": [
    "import osmnx as ox\n",
    "import pandas as pd\n",
    "import numpy as np\n",
    "from Data import Data \n",
    "import networkx as nx\n",
    "from networkx import algorithms \n",
    "import math\n",
    "from numpy import arctan2, sin, cos, sqrt, radians"
   ]
  },
  {
   "cell_type": "code",
   "execution_count": 2,
   "metadata": {},
   "outputs": [],
   "source": [
    "graph = ox.graph_from_address('Athens, Municipality of Athens, Regional Unit of Central Athens, Attica, 10667, Greece', network_type='drive')  "
   ]
  },
  {
   "cell_type": "code",
   "execution_count": 3,
   "metadata": {},
   "outputs": [],
   "source": [
    "df = Data('sample_larger.csv').df"
   ]
  },
  {
   "cell_type": "code",
   "execution_count": null,
   "metadata": {},
   "outputs": [],
   "source": [
    "#get the nearest edge and node for each location:\n",
    "nodes = np.zeros(len(df))\n",
    "EdgeStart = np.zeros(len(df))\n",
    "EdgeEnd = np.zeros(len(df))\n",
    "for i in range(len(df)):\n",
    "    tup1 = (df.iloc[i]['lat'], df.iloc[i]['lon'])\n",
    "    nodes[i] = ox.get_nearest_node(graph, tup1 , method='euclidean')\n",
    "    start, end, c = ox.get_nearest_edge(graph, tup1)\n",
    "    EdgeStart[i] = start\n",
    "    EdgeEnd[i] = end"
   ]
  },
  {
   "cell_type": "code",
   "execution_count": null,
   "metadata": {},
   "outputs": [],
   "source": [
    "def __construct_graph_data_cols(graph):\n",
    "    def aux(row):\n",
    "        coord = (row['lat'],row['lon'])\n",
    "        nn = ox.get_nearest_node(graph, coord, method='euclidean')\n",
    "        start, end, _ = ox.get_nearest_edge(graph, coord)\n",
    "        edge_prog = __edge_progress(graph, start, end, coord)\n",
    "        start_lon = graph.nodes[start]['x']\n",
    "        start_lat = graph.nodes[start]['y']\n",
    "        end_lon = graph.nodes[end]['x']\n",
    "        end_lat = graph.nodes[end]['y']\n",
    "        return nn, start, start_lon, start_lat, end, end_lon, end_lat, edge_prog\n",
    "    return aux"
   ]
  },
  {
   "cell_type": "code",
   "execution_count": null,
   "metadata": {},
   "outputs": [],
   "source": [
    "df['nearest_node'],\n",
    "    df['nearest_edge_start_node'],\n",
    "    df['nearest_edge_start_node_lon'],\n",
    "    df['nearest_edge_start_node_lat'],\n",
    "    df['nearest_edge_end_node'],\n",
    "    df['nearest_edge_end_node_lon'],\n",
    "    df['nearest_edge_end_node_lat'],\n",
    "    df['edge_progress'] =zip(*df.apply(__construct_graph_data_cols(graph), axis=1))"
   ]
  },
  {
   "cell_type": "code",
   "execution_count": null,
   "metadata": {},
   "outputs": [],
   "source": [
    "def Distance_achieved(edge_node1,edge_node2,lonV, latV):\n",
    "    #assuming that edge_node1 is the starting point\n",
    "    lon0 = graph.nodes[edge_node1]['x']\n",
    "    lon1 = graph.nodes[edge_node2]['x']\n",
    "    lat0 = graph.nodes[edge_node1]['y']\n",
    "    lat1 = graph.nodes[edge_node2]['y']\n",
    "    a = Distance_Euc(lon0, lat0, lon1, lat1)\n",
    "    b = Distance_Euc(lon0, lat0, lonV, latV)\n",
    "    return b/a"
   ]
  },
  {
   "cell_type": "code",
   "execution_count": null,
   "metadata": {},
   "outputs": [],
   "source": [
    "def Distance_Euc(lon0, lat0, lon1, lat1):\n",
    "    lon0 = math.radians(lon0)\n",
    "    lat0 = math.radians(lat0)\n",
    "    lon1 = math.radians(lon1)\n",
    "    lat1 = math.radians(lat1)\n",
    "    dlon = lon1 - lon0\n",
    "    dlat = lat1 - lat0\n",
    "    a = math.sin(dlat / 2)**2 + math.cos(lat0) * math.cos(lat1) * math.sin(dlon / 2)**2\n",
    "    c = 2 * math.atan2(math.sqrt(a), math.sqrt(1 - a))\n",
    "    return 6373.0*c"
   ]
  },
  {
   "cell_type": "code",
   "execution_count": null,
   "metadata": {},
   "outputs": [],
   "source": [
    "def __edge_progress(graph, edge_start_node, edge_end_node, v_coord):\n",
    "    start_coord = graph.nodes[edge_start_node]['y'], graph.nodes[edge_start_node]['x']\n",
    "    end_coord = graph.nodes[edge_end_node]['y'], graph.nodes[edge_end_node]['x']\n",
    "\n",
    "    a = __euc_dist(start_coord, end_coord)\n",
    "    b = __euc_dist(start_coord, v_coord)\n",
    "    return b/a\n",
    "\n",
    "\n",
    "def __euc_dist(coord0, coord1):\n",
    "    EARTH_RADIUS = 6373\n",
    "\n",
    "    lat0, lon0 = coord0\n",
    "    lat1, lon1 = coord1\n",
    "\n",
    "    lat0, lon0 = radians(lat0), radians(lon0)\n",
    "    lat1, lon1 = radians(lat1), radians(lon1)\n",
    "\n",
    "    dlat = lat1 - lat0\n",
    "    dlon = lon1 - lon0\n",
    "\n",
    "    a = sin(dlat/2)**2 + cos(lat0) * cos(lat1) * sin(dlon/2)**2\n",
    "    c = 2 * arctan2(sqrt(a), sqrt(1-a))\n",
    "    return EARTH_RADIUS*c"
   ]
  },
  {
   "cell_type": "code",
   "execution_count": null,
   "metadata": {},
   "outputs": [],
   "source": [
    "df"
   ]
  }
 ],
 "metadata": {
  "kernelspec": {
   "display_name": "Python 3",
   "language": "python",
   "name": "python3"
  },
  "language_info": {
   "codemirror_mode": {
    "name": "ipython",
    "version": 3
   },
   "file_extension": ".py",
   "mimetype": "text/x-python",
   "name": "python",
   "nbconvert_exporter": "python",
   "pygments_lexer": "ipython3",
   "version": "3.8.3"
  }
 },
 "nbformat": 4,
 "nbformat_minor": 4
}
