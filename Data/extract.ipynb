{
 "cells": [
  {
   "cell_type": "code",
   "execution_count": 21,
   "metadata": {},
   "outputs": [],
   "source": [
    "import numpy as np\n",
    "import pandas as pd"
   ]
  },
  {
   "cell_type": "code",
   "execution_count": 2,
   "metadata": {},
   "outputs": [],
   "source": [
    "in_fname = 'sample.csv'\n",
    "\n",
    "with open(in_fname, \"r\") as f:\n",
    "    temp=f.readlines()\n",
    "    \n",
    "(header,data)=(temp[0],temp[1:])"
   ]
  },
  {
   "cell_type": "code",
   "execution_count": 3,
   "metadata": {},
   "outputs": [
    {
     "data": {
      "text/plain": [
       "'1; Car; 1.81; 10.850992; 37.979838; 23.733420; 11.6261; 0.0000; -0.0000; 0.000000; 37.979839; 23.733419; 11.6261; -0.0000; -0.0000; 0.040000; 37.979840; 23.733418; 11.6261; 0.0000; -0.0000; 0.080000; 37.979841; 23.733418; 11.6261; -0.0000; -0.0000; 0.120000; 37.979842; 23.733417; 11.6261; -0.0000; 0.0000; 0.160000; 37.979843; 23.733416; 11.6261; 0.0000; 0.0000; 0.200000; 37.979844; 23.733415; 11.6261; -0.0000; -0.0000; 0.240000; 37.979845; 23.733414; 11.6261; 0.0000; 0.0000; 0.280000; 37.979845; 23.733413; 11.6261; -0.0000; -0.0000; 0.320000; 37.979846; 23.733412; 11.6261; -0.0000; 0.0000; 0.360000; 37.979847; 23.733412; 11.6261; -0.0000; -0.0000; 0.400000; 37.979848; 23.733411; 11.6261; 0.0000; 0.0000; 0.440000; 37.979849; 23.733410; 11.6261; -0.0000; -0.0000; 0.480000; 37.979850; 23.733409; 11.6261; -0.0000; -0.0000; 0.520000; 37.979851; 23.733408; 11.6261; -0.0000; -0.0000; 0.560000; 37.979852; 23.733407; 11.6261; 0.0000; -0.0000; 0.600000; \\n'"
      ]
     },
     "execution_count": 3,
     "metadata": {},
     "output_type": "execute_result"
    }
   ],
   "source": [
    "data[0]"
   ]
  },
  {
   "cell_type": "code",
   "execution_count": 38,
   "metadata": {},
   "outputs": [
    {
     "name": "stdout",
     "output_type": "stream",
     "text": [
      "          lat        lon    speed  lon_acc  lat_acc  time track_id type  \\\n",
      "0   37.979838  23.733420  11.6261      0.0     -0.0  0.00        1  Car   \n",
      "1   37.979839  23.733419  11.6261     -0.0     -0.0  0.04        1  Car   \n",
      "2   37.979840  23.733418  11.6261      0.0     -0.0  0.08        1  Car   \n",
      "3   37.979841  23.733418  11.6261     -0.0     -0.0  0.12        1  Car   \n",
      "4   37.979842  23.733417  11.6261     -0.0      0.0  0.16        1  Car   \n",
      "5   37.979843  23.733416  11.6261      0.0      0.0  0.20        1  Car   \n",
      "6   37.979844  23.733415  11.6261     -0.0     -0.0  0.24        1  Car   \n",
      "7   37.979845  23.733414  11.6261      0.0      0.0  0.28        1  Car   \n",
      "8   37.979845  23.733413  11.6261     -0.0     -0.0  0.32        1  Car   \n",
      "9   37.979846  23.733412  11.6261     -0.0      0.0  0.36        1  Car   \n",
      "10  37.979847  23.733412  11.6261     -0.0     -0.0  0.40        1  Car   \n",
      "11  37.979848  23.733411  11.6261      0.0      0.0  0.44        1  Car   \n",
      "12  37.979849  23.733410  11.6261     -0.0     -0.0  0.48        1  Car   \n",
      "13  37.979850  23.733409  11.6261     -0.0     -0.0  0.52        1  Car   \n",
      "14  37.979851  23.733408  11.6261     -0.0     -0.0  0.56        1  Car   \n",
      "15  37.979852  23.733407  11.6261      0.0     -0.0  0.60        1  Car   \n",
      "\n",
      "    traveled_d  avg_speed  \n",
      "0         1.81  10.850992  \n",
      "1         1.81  10.850992  \n",
      "2         1.81  10.850992  \n",
      "3         1.81  10.850992  \n",
      "4         1.81  10.850992  \n",
      "5         1.81  10.850992  \n",
      "6         1.81  10.850992  \n",
      "7         1.81  10.850992  \n",
      "8         1.81  10.850992  \n",
      "9         1.81  10.850992  \n",
      "10        1.81  10.850992  \n",
      "11        1.81  10.850992  \n",
      "12        1.81  10.850992  \n",
      "13        1.81  10.850992  \n",
      "14        1.81  10.850992  \n",
      "15        1.81  10.850992  \n"
     ]
    }
   ],
   "source": [
    "data_len=6\n",
    "\n",
    "def process(in_str):\n",
    "    parts = in_str.strip().strip(\";\").split(\";\")\n",
    "    header = parts[:4]\n",
    "    updates = np.array(parts[4:], dtype=np.float)\n",
    "    updates = updates.reshape(-1, data_len)\n",
    "    df = pd.DataFrame(updates, columns=['lat', 'lon', 'speed', 'lon_acc', 'lat_acc', 'time'])\n",
    "    df = df.assign(\n",
    "        track_id=header[0].strip(),\n",
    "        type=header[1].strip(),\n",
    "        traveled_d=float(header[2]),\n",
    "        avg_speed=float(header[3])\n",
    "    )\n",
    "    print(df)\n",
    "    # mul = pd.MultiIndex(df, )\n",
    "\n",
    "process(data[0])"
   ]
  },
  {
   "cell_type": "code",
   "execution_count": null,
   "metadata": {},
   "outputs": [],
   "source": []
  }
 ],
 "metadata": {
  "kernelspec": {
   "display_name": "Python 3",
   "language": "python",
   "name": "python3"
  },
  "language_info": {
   "codemirror_mode": {
    "name": "ipython",
    "version": 3
   },
   "file_extension": ".py",
   "mimetype": "text/x-python",
   "name": "python",
   "nbconvert_exporter": "python",
   "pygments_lexer": "ipython3",
   "version": "3.8.3"
  }
 },
 "nbformat": 4,
 "nbformat_minor": 2
}
