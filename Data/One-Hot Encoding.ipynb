{
 "cells": [
  {
   "cell_type": "code",
   "execution_count": 1,
   "metadata": {},
   "outputs": [],
   "source": [
    "import numpy as np\n",
    "import pandas as pd\n",
    "import osmnx as ox\n",
    "from Data import Data \n",
    "from collections import defaultdict\n",
    "from itertools import count"
   ]
  },
  {
   "cell_type": "code",
   "execution_count": 8,
   "metadata": {},
   "outputs": [],
   "source": [
    "def one_hot_encoding(df):\n",
    "    new_df = df[['nearest_edge_start_node', 'nearest_edge_end_node']].copy()\n",
    "    records = new_df.to_records(index=False)\n",
    "    records = list(records)\n",
    "    mapping = defaultdict(count().__next__)\n",
    "    edge_index = [mapping[tuple(element)] for element in records]\n",
    "    df['edge'] = edge_index\n",
    "    df_modified = pd.get_dummies(df, columns = ['edge'])\n",
    "    return df_modified"
   ]
  }
 ],
 "metadata": {
  "kernelspec": {
   "display_name": "Python 3",
   "language": "python",
   "name": "python3"
  },
  "language_info": {
   "codemirror_mode": {
    "name": "ipython",
    "version": 3
   },
   "file_extension": ".py",
   "mimetype": "text/x-python",
   "name": "python",
   "nbconvert_exporter": "python",
   "pygments_lexer": "ipython3",
   "version": "3.8.3"
  }
 },
 "nbformat": 4,
 "nbformat_minor": 4
}
