{
 "cells": [
  {
   "cell_type": "code",
   "execution_count": 39,
   "metadata": {},
   "outputs": [],
   "source": [
    "import numpy as np\n",
    "import pandas as pd\n",
    "from data import csv_to_df\n",
    "from time import time"
   ]
  },
  {
   "cell_type": "code",
   "execution_count": 119,
   "metadata": {},
   "outputs": [],
   "source": [
    "df = csv_to_df('sample_larger.csv')"
   ]
  },
  {
   "cell_type": "code",
   "execution_count": 199,
   "metadata": {},
   "outputs": [],
   "source": [
    "def truncate_to_multiple(n, m):\n",
    "    return m * (n // m)\n",
    "\n",
    "def truncate_trajectory(traj, size):\n",
    "    n = len(traj)\n",
    "    new_len = truncate_to_multiple(n, size)\n",
    "    return traj[:new_len]\n",
    "\n",
    "def split_group(df, size):\n",
    "    df2 = df.copy()\n",
    "    df2['traj'] = None\n",
    "    df2.loc[::size, 'traj'] = np.arange(len(df2[::size]), dtype=int)\n",
    "    df2['traj'].ffill(inplace=True)\n",
    "    df2.set_index('traj', append=True, inplace=True)\n",
    "    df2 = truncate_trajectory(df2, size)\n",
    "    df2 = df2.reorder_levels([0,2,1])\n",
    "    return df2\n",
    "\n",
    "def split_trajectories(df, size):\n",
    "    return df.groupby('id', as_index=False, group_keys=False) \\\n",
    "            .apply(lambda traj: split_group(traj, size))\n"
   ]
  },
  {
   "cell_type": "code",
   "execution_count": 204,
   "metadata": {},
   "outputs": [
    {
     "output_type": "execute_result",
     "data": {
      "text/plain": [
       "                       lat        lon    speed  lon_acc  lat_acc  type  \\\n",
       "id  traj time                                                            \n",
       "1   0    0.00    37.977482  23.735405  34.0206  -0.0167   0.0074  Taxi   \n",
       "         0.04    37.977485  23.735402  34.0197   0.0040   0.0086  Taxi   \n",
       "         0.08    37.977488  23.735400  34.0211   0.0167   0.0097  Taxi   \n",
       "    1    0.12    37.977491  23.735398  34.0245   0.0294   0.0108  Taxi   \n",
       "         0.16    37.977494  23.735395  34.0305   0.0540   0.0120  Taxi   \n",
       "...                    ...        ...      ...      ...      ...   ...   \n",
       "498 476  117.16  37.976108  23.734447  15.7278  -1.6761  -1.0345   Car   \n",
       "         117.20  37.976108  23.734445  15.5520  -1.6828  -1.0137   Car   \n",
       "    477  117.24  37.976108  23.734443  15.3720  -1.6492  -0.9860   Car   \n",
       "         117.28  37.976107  23.734441  15.1933  -1.5682  -0.9499   Car   \n",
       "         117.32  37.976107  23.734440  15.0228  -1.4310  -0.9036   Car   \n",
       "\n",
       "                 traveled_d  avg_speed  \n",
       "id  traj time                           \n",
       "1   0    0.00        320.26  35.366264  \n",
       "         0.04        320.26  35.366264  \n",
       "         0.08        320.26  35.366264  \n",
       "    1    0.12        320.26  35.366264  \n",
       "         0.16        320.26  35.366264  \n",
       "...                     ...        ...  \n",
       "498 476  117.16      141.47   8.872855  \n",
       "         117.20      141.47   8.872855  \n",
       "    477  117.24      141.47   8.872855  \n",
       "         117.28      141.47   8.872855  \n",
       "         117.32      141.47   8.872855  \n",
       "\n",
       "[845145 rows x 8 columns]"
      ],
      "text/html": "<div>\n<style scoped>\n    .dataframe tbody tr th:only-of-type {\n        vertical-align: middle;\n    }\n\n    .dataframe tbody tr th {\n        vertical-align: top;\n    }\n\n    .dataframe thead th {\n        text-align: right;\n    }\n</style>\n<table border=\"1\" class=\"dataframe\">\n  <thead>\n    <tr style=\"text-align: right;\">\n      <th></th>\n      <th></th>\n      <th></th>\n      <th>lat</th>\n      <th>lon</th>\n      <th>speed</th>\n      <th>lon_acc</th>\n      <th>lat_acc</th>\n      <th>type</th>\n      <th>traveled_d</th>\n      <th>avg_speed</th>\n    </tr>\n    <tr>\n      <th>id</th>\n      <th>traj</th>\n      <th>time</th>\n      <th></th>\n      <th></th>\n      <th></th>\n      <th></th>\n      <th></th>\n      <th></th>\n      <th></th>\n      <th></th>\n    </tr>\n  </thead>\n  <tbody>\n    <tr>\n      <th rowspan=\"5\" valign=\"top\">1</th>\n      <th rowspan=\"3\" valign=\"top\">0</th>\n      <th>0.00</th>\n      <td>37.977482</td>\n      <td>23.735405</td>\n      <td>34.0206</td>\n      <td>-0.0167</td>\n      <td>0.0074</td>\n      <td>Taxi</td>\n      <td>320.26</td>\n      <td>35.366264</td>\n    </tr>\n    <tr>\n      <th>0.04</th>\n      <td>37.977485</td>\n      <td>23.735402</td>\n      <td>34.0197</td>\n      <td>0.0040</td>\n      <td>0.0086</td>\n      <td>Taxi</td>\n      <td>320.26</td>\n      <td>35.366264</td>\n    </tr>\n    <tr>\n      <th>0.08</th>\n      <td>37.977488</td>\n      <td>23.735400</td>\n      <td>34.0211</td>\n      <td>0.0167</td>\n      <td>0.0097</td>\n      <td>Taxi</td>\n      <td>320.26</td>\n      <td>35.366264</td>\n    </tr>\n    <tr>\n      <th rowspan=\"2\" valign=\"top\">1</th>\n      <th>0.12</th>\n      <td>37.977491</td>\n      <td>23.735398</td>\n      <td>34.0245</td>\n      <td>0.0294</td>\n      <td>0.0108</td>\n      <td>Taxi</td>\n      <td>320.26</td>\n      <td>35.366264</td>\n    </tr>\n    <tr>\n      <th>0.16</th>\n      <td>37.977494</td>\n      <td>23.735395</td>\n      <td>34.0305</td>\n      <td>0.0540</td>\n      <td>0.0120</td>\n      <td>Taxi</td>\n      <td>320.26</td>\n      <td>35.366264</td>\n    </tr>\n    <tr>\n      <th>...</th>\n      <th>...</th>\n      <th>...</th>\n      <td>...</td>\n      <td>...</td>\n      <td>...</td>\n      <td>...</td>\n      <td>...</td>\n      <td>...</td>\n      <td>...</td>\n      <td>...</td>\n    </tr>\n    <tr>\n      <th rowspan=\"5\" valign=\"top\">498</th>\n      <th rowspan=\"2\" valign=\"top\">476</th>\n      <th>117.16</th>\n      <td>37.976108</td>\n      <td>23.734447</td>\n      <td>15.7278</td>\n      <td>-1.6761</td>\n      <td>-1.0345</td>\n      <td>Car</td>\n      <td>141.47</td>\n      <td>8.872855</td>\n    </tr>\n    <tr>\n      <th>117.20</th>\n      <td>37.976108</td>\n      <td>23.734445</td>\n      <td>15.5520</td>\n      <td>-1.6828</td>\n      <td>-1.0137</td>\n      <td>Car</td>\n      <td>141.47</td>\n      <td>8.872855</td>\n    </tr>\n    <tr>\n      <th rowspan=\"3\" valign=\"top\">477</th>\n      <th>117.24</th>\n      <td>37.976108</td>\n      <td>23.734443</td>\n      <td>15.3720</td>\n      <td>-1.6492</td>\n      <td>-0.9860</td>\n      <td>Car</td>\n      <td>141.47</td>\n      <td>8.872855</td>\n    </tr>\n    <tr>\n      <th>117.28</th>\n      <td>37.976107</td>\n      <td>23.734441</td>\n      <td>15.1933</td>\n      <td>-1.5682</td>\n      <td>-0.9499</td>\n      <td>Car</td>\n      <td>141.47</td>\n      <td>8.872855</td>\n    </tr>\n    <tr>\n      <th>117.32</th>\n      <td>37.976107</td>\n      <td>23.734440</td>\n      <td>15.0228</td>\n      <td>-1.4310</td>\n      <td>-0.9036</td>\n      <td>Car</td>\n      <td>141.47</td>\n      <td>8.872855</td>\n    </tr>\n  </tbody>\n</table>\n<p>845145 rows × 8 columns</p>\n</div>"
     },
     "metadata": {},
     "execution_count": 204
    }
   ],
   "source": [
    "split_trajectories(df, 3)"
   ]
  },
  {
   "cell_type": "code",
   "execution_count": null,
   "metadata": {},
   "outputs": [],
   "source": []
  }
 ],
 "metadata": {
  "kernelspec": {
   "display_name": "Python 3",
   "language": "python",
   "name": "python3"
  },
  "language_info": {
   "codemirror_mode": {
    "name": "ipython",
    "version": 3
   },
   "file_extension": ".py",
   "mimetype": "text/x-python",
   "name": "python",
   "nbconvert_exporter": "python",
   "pygments_lexer": "ipython3",
   "version": "3.8.5"
  }
 },
 "nbformat": 4,
 "nbformat_minor": 4
}