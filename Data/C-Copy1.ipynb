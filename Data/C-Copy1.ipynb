{
 "cells": [
  {
   "cell_type": "code",
   "execution_count": 2,
   "metadata": {},
   "outputs": [],
   "source": [
    "import numpy as np\n",
    "import nvector as nv\n",
    "import pandas as pd\n",
    "import osmnx as ox\n",
    "import osmapi as osm\n",
    "import networkx as nx\n",
    "import matplotlib.pyplot as plt\n",
    "\n",
    "\n",
    "def cross_track_dist(latA1,lonA1,latA2,lonA2,latB,lonB):\n",
    "    frame = nv.FrameE(a=6371e3, f=0)\n",
    "    \n",
    "    pointA1 = frame.GeoPoint(latA1, lonA1, degrees=True)\n",
    "    pointA2 = frame.GeoPoint(latA2, lonA2, degrees=True)\n",
    "    pointB = frame.GeoPoint(latB, lonB, degrees=True)\n",
    "    pathA = nv.GeoPath(pointA1, pointA2)\n",
    "\n",
    "    s_xt = pathA.cross_track_distance(pointB, method='greatcircle')\n",
    "    d_xt = pathA.cross_track_distance(pointB, method='euclidean')\n",
    "    \n",
    "    if(s_xt<0):\n",
    "        s_xt=-1*s_xt\n",
    "    \n",
    "    val_txt = '{:4.2f}'.format(s_xt/1000)\n",
    "    #'Cross track distance: s_xt, d_xt = {}'.format(val_txt)\n",
    "    return val_txt"
   ]
  },
  {
   "cell_type": "code",
   "execution_count": 7,
   "metadata": {},
   "outputs": [
    {
     "data": {
      "text/plain": [
       "'4205.20'"
      ]
     },
     "execution_count": 7,
     "metadata": {},
     "output_type": "execute_result"
    }
   ],
   "source": [
    "G = ox.graph_from_address('Athens, Municipality of Athens, Regional Unit of Central Athens, Attica, 10667, Greece', network_type='drive')  \n",
    "\n",
    "surrounding_nodes = ox.get_nearest_edge(G,(37.8021,122.4187))\n",
    "latA1= G.nodes[surrounding_nodes[0]]['y']\n",
    "lonA1= G.nodes[surrounding_nodes[0]]['x']\n",
    "latA2= G.nodes[surrounding_nodes[1]]['y']\n",
    "lonA2= G.nodes[surrounding_nodes[1]]['x']\n",
    "cross_track_dist(latA1,lonA1,latA2,lonA2,37.8021,122.4187)"
   ]
  }
 ],
 "metadata": {
  "kernelspec": {
   "display_name": "Python 3",
   "language": "python",
   "name": "python3"
  },
  "language_info": {
   "codemirror_mode": {
    "name": "ipython",
    "version": 3
   },
   "file_extension": ".py",
   "mimetype": "text/x-python",
   "name": "python",
   "nbconvert_exporter": "python",
   "pygments_lexer": "ipython3",
   "version": "3.8.3"
  }
 },
 "nbformat": 4,
 "nbformat_minor": 4
}
