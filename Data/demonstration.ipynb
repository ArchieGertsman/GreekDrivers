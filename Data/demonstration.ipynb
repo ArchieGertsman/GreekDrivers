{
 "metadata": {
  "language_info": {
   "codemirror_mode": {
    "name": "ipython",
    "version": 3
   },
   "file_extension": ".py",
   "mimetype": "text/x-python",
   "name": "python",
   "nbconvert_exporter": "python",
   "pygments_lexer": "ipython3",
   "version": "3.9.1-final"
  },
  "orig_nbformat": 2,
  "kernelspec": {
   "name": "python3",
   "display_name": "Python 3",
   "language": "python"
  }
 },
 "nbformat": 4,
 "nbformat_minor": 2,
 "cells": [
  {
   "cell_type": "code",
   "execution_count": null,
   "metadata": {},
   "outputs": [],
   "source": [
    "\"\"\"demonstration.ipynb\n",
    "by: \n",
    "- Sheil Kumar (sk17@illinois.edu)\n",
    "- Anirudh Eswara (aeswara2@illinois.edu)\n",
    "Project director: Richard Sowers\n",
    "r-sowers@illinois.eduhttps://publish.illinois.edu/r-sowers/\n",
    "Copyright 2019 University of Illinois Board of Trustees. All Rights Reserved. Licensed under the MIT license\n",
    "\"\"\""
   ]
  },
  {
   "source": [
    "# Notebook to Demonstrate Usage of Features and Functions \n",
    "\n",
    "This notebook serves to show how the features in `data.py` and `feature_eng.py` work \n",
    "\n"
   ],
   "cell_type": "markdown",
   "metadata": {}
  },
  {
   "source": [
    "from data import *\n",
    "from feature_eng import *"
   ],
   "cell_type": "code",
   "metadata": {},
   "execution_count": 1,
   "outputs": []
  },
  {
   "source": [
    "## 1.0 Data.py\n",
    "\n",
    "- Functions:\n",
    "  - `csv_to_df`\n",
    "  - `pickle_df`"
   ],
   "cell_type": "markdown",
   "metadata": {}
  },
  {
   "cell_type": "code",
   "execution_count": 3,
   "metadata": {},
   "outputs": [
    {
     "output_type": "execute_result",
     "data": {
      "text/plain": [
       "               lat        lon    speed  lon_acc  lat_acc type  traveled_d  \\\n",
       "id time                                                                     \n",
       "1  0.00  37.979838  23.733420  11.6261   0.0000  -0.0000  Car        1.81   \n",
       "   0.04  37.979839  23.733419  11.6261  -0.0000  -0.0000  Car        1.81   \n",
       "   0.08  37.979840  23.733418  11.6261   0.0000  -0.0000  Car        1.81   \n",
       "   0.12  37.979841  23.733418  11.6261  -0.0000  -0.0000  Car        1.81   \n",
       "   0.16  37.979842  23.733417  11.6261  -0.0000   0.0000  Car        1.81   \n",
       "...            ...        ...      ...      ...      ...  ...         ...   \n",
       "9  2.84  37.979802  23.733362  37.4951   0.0222  -0.0207  Car       29.88   \n",
       "   2.88  37.979805  23.733359  37.4989   0.0148  -0.0195  Car       29.88   \n",
       "   2.92  37.979808  23.733357  37.5021   0.0101  -0.0183  Car       29.88   \n",
       "   2.96  37.979811  23.733354  37.5046   0.0022  -0.0171  Car       29.88   \n",
       "   3.00  37.979814  23.733351  37.5060  -0.0096  -0.0159  Car       29.88   \n",
       "\n",
       "         avg_speed  \n",
       "id time             \n",
       "1  0.00  10.850992  \n",
       "   0.04  10.850992  \n",
       "   0.08  10.850992  \n",
       "   0.12  10.850992  \n",
       "   0.16  10.850992  \n",
       "...            ...  \n",
       "9  2.84  35.851799  \n",
       "   2.88  35.851799  \n",
       "   2.92  35.851799  \n",
       "   2.96  35.851799  \n",
       "   3.00  35.851799  \n",
       "\n",
       "[534 rows x 8 columns]"
      ],
      "text/html": "<div>\n<style scoped>\n    .dataframe tbody tr th:only-of-type {\n        vertical-align: middle;\n    }\n\n    .dataframe tbody tr th {\n        vertical-align: top;\n    }\n\n    .dataframe thead th {\n        text-align: right;\n    }\n</style>\n<table border=\"1\" class=\"dataframe\">\n  <thead>\n    <tr style=\"text-align: right;\">\n      <th></th>\n      <th></th>\n      <th>lat</th>\n      <th>lon</th>\n      <th>speed</th>\n      <th>lon_acc</th>\n      <th>lat_acc</th>\n      <th>type</th>\n      <th>traveled_d</th>\n      <th>avg_speed</th>\n    </tr>\n    <tr>\n      <th>id</th>\n      <th>time</th>\n      <th></th>\n      <th></th>\n      <th></th>\n      <th></th>\n      <th></th>\n      <th></th>\n      <th></th>\n      <th></th>\n    </tr>\n  </thead>\n  <tbody>\n    <tr>\n      <th rowspan=\"5\" valign=\"top\">1</th>\n      <th>0.00</th>\n      <td>37.979838</td>\n      <td>23.733420</td>\n      <td>11.6261</td>\n      <td>0.0000</td>\n      <td>-0.0000</td>\n      <td>Car</td>\n      <td>1.81</td>\n      <td>10.850992</td>\n    </tr>\n    <tr>\n      <th>0.04</th>\n      <td>37.979839</td>\n      <td>23.733419</td>\n      <td>11.6261</td>\n      <td>-0.0000</td>\n      <td>-0.0000</td>\n      <td>Car</td>\n      <td>1.81</td>\n      <td>10.850992</td>\n    </tr>\n    <tr>\n      <th>0.08</th>\n      <td>37.979840</td>\n      <td>23.733418</td>\n      <td>11.6261</td>\n      <td>0.0000</td>\n      <td>-0.0000</td>\n      <td>Car</td>\n      <td>1.81</td>\n      <td>10.850992</td>\n    </tr>\n    <tr>\n      <th>0.12</th>\n      <td>37.979841</td>\n      <td>23.733418</td>\n      <td>11.6261</td>\n      <td>-0.0000</td>\n      <td>-0.0000</td>\n      <td>Car</td>\n      <td>1.81</td>\n      <td>10.850992</td>\n    </tr>\n    <tr>\n      <th>0.16</th>\n      <td>37.979842</td>\n      <td>23.733417</td>\n      <td>11.6261</td>\n      <td>-0.0000</td>\n      <td>0.0000</td>\n      <td>Car</td>\n      <td>1.81</td>\n      <td>10.850992</td>\n    </tr>\n    <tr>\n      <th>...</th>\n      <th>...</th>\n      <td>...</td>\n      <td>...</td>\n      <td>...</td>\n      <td>...</td>\n      <td>...</td>\n      <td>...</td>\n      <td>...</td>\n      <td>...</td>\n    </tr>\n    <tr>\n      <th rowspan=\"5\" valign=\"top\">9</th>\n      <th>2.84</th>\n      <td>37.979802</td>\n      <td>23.733362</td>\n      <td>37.4951</td>\n      <td>0.0222</td>\n      <td>-0.0207</td>\n      <td>Car</td>\n      <td>29.88</td>\n      <td>35.851799</td>\n    </tr>\n    <tr>\n      <th>2.88</th>\n      <td>37.979805</td>\n      <td>23.733359</td>\n      <td>37.4989</td>\n      <td>0.0148</td>\n      <td>-0.0195</td>\n      <td>Car</td>\n      <td>29.88</td>\n      <td>35.851799</td>\n    </tr>\n    <tr>\n      <th>2.92</th>\n      <td>37.979808</td>\n      <td>23.733357</td>\n      <td>37.5021</td>\n      <td>0.0101</td>\n      <td>-0.0183</td>\n      <td>Car</td>\n      <td>29.88</td>\n      <td>35.851799</td>\n    </tr>\n    <tr>\n      <th>2.96</th>\n      <td>37.979811</td>\n      <td>23.733354</td>\n      <td>37.5046</td>\n      <td>0.0022</td>\n      <td>-0.0171</td>\n      <td>Car</td>\n      <td>29.88</td>\n      <td>35.851799</td>\n    </tr>\n    <tr>\n      <th>3.00</th>\n      <td>37.979814</td>\n      <td>23.733351</td>\n      <td>37.5060</td>\n      <td>-0.0096</td>\n      <td>-0.0159</td>\n      <td>Car</td>\n      <td>29.88</td>\n      <td>35.851799</td>\n    </tr>\n  </tbody>\n</table>\n<p>534 rows × 8 columns</p>\n</div>"
     },
     "metadata": {},
     "execution_count": 3
    }
   ],
   "source": [
    "#csv_to_df\n",
    "df = csv_to_df('sample.csv') #simply need to feed in name of .csv file containing dat a\n",
    "df"
   ]
  },
  {
   "cell_type": "code",
   "execution_count": 4,
   "metadata": {},
   "outputs": [],
   "source": [
    "#pickle_df \n",
    "df_pickle = pickle_df(df,pickle_name='sample.pkl') #simply need to feed in dataframe and desired name for .pkl file "
   ]
  },
  {
   "source": [
    "## 2.0 feature_eng.py\n",
    "\n",
    "- Functions:\n",
    "    - `bearing`\n",
    "    - `nearest_graph_data`\n",
    "    - `direction`\n",
    "    - `vehicle_density` "
   ],
   "cell_type": "markdown",
   "metadata": {}
  },
  {
   "cell_type": "code",
   "execution_count": 5,
   "metadata": {},
   "outputs": [
    {
     "output_type": "execute_result",
     "data": {
      "text/plain": [
       "               lat        lon    speed  lon_acc  lat_acc type  traveled_d  \\\n",
       "id time                                                                     \n",
       "1  0.00  37.979838  23.733420  11.6261   0.0000  -0.0000  Car        1.81   \n",
       "   0.04  37.979839  23.733419  11.6261  -0.0000  -0.0000  Car        1.81   \n",
       "   0.08  37.979840  23.733418  11.6261   0.0000  -0.0000  Car        1.81   \n",
       "   0.12  37.979841  23.733418  11.6261  -0.0000  -0.0000  Car        1.81   \n",
       "   0.16  37.979842  23.733417  11.6261  -0.0000   0.0000  Car        1.81   \n",
       "...            ...        ...      ...      ...      ...  ...         ...   \n",
       "9  2.84  37.979802  23.733362  37.4951   0.0222  -0.0207  Car       29.88   \n",
       "   2.88  37.979805  23.733359  37.4989   0.0148  -0.0195  Car       29.88   \n",
       "   2.92  37.979808  23.733357  37.5021   0.0101  -0.0183  Car       29.88   \n",
       "   2.96  37.979811  23.733354  37.5046   0.0022  -0.0171  Car       29.88   \n",
       "   3.00  37.979814  23.733351  37.5060  -0.0096  -0.0159  Car       29.88   \n",
       "\n",
       "         avg_speed   bearing  \n",
       "id time                       \n",
       "1  0.00  10.850992 -0.169007  \n",
       "   0.04  10.850992 -0.169006  \n",
       "   0.08  10.850992  0.000000  \n",
       "   0.12  10.850992 -0.169005  \n",
       "   0.16  10.850992 -0.169004  \n",
       "...            ...       ...  \n",
       "9  2.84  35.851799 -0.168950  \n",
       "   2.88  35.851799 -0.113230  \n",
       "   2.92  35.851799 -0.168945  \n",
       "   2.96  35.851799 -0.168942  \n",
       "   3.00  35.851799       NaN  \n",
       "\n",
       "[534 rows x 9 columns]"
      ],
      "text/html": "<div>\n<style scoped>\n    .dataframe tbody tr th:only-of-type {\n        vertical-align: middle;\n    }\n\n    .dataframe tbody tr th {\n        vertical-align: top;\n    }\n\n    .dataframe thead th {\n        text-align: right;\n    }\n</style>\n<table border=\"1\" class=\"dataframe\">\n  <thead>\n    <tr style=\"text-align: right;\">\n      <th></th>\n      <th></th>\n      <th>lat</th>\n      <th>lon</th>\n      <th>speed</th>\n      <th>lon_acc</th>\n      <th>lat_acc</th>\n      <th>type</th>\n      <th>traveled_d</th>\n      <th>avg_speed</th>\n      <th>bearing</th>\n    </tr>\n    <tr>\n      <th>id</th>\n      <th>time</th>\n      <th></th>\n      <th></th>\n      <th></th>\n      <th></th>\n      <th></th>\n      <th></th>\n      <th></th>\n      <th></th>\n      <th></th>\n    </tr>\n  </thead>\n  <tbody>\n    <tr>\n      <th rowspan=\"5\" valign=\"top\">1</th>\n      <th>0.00</th>\n      <td>37.979838</td>\n      <td>23.733420</td>\n      <td>11.6261</td>\n      <td>0.0000</td>\n      <td>-0.0000</td>\n      <td>Car</td>\n      <td>1.81</td>\n      <td>10.850992</td>\n      <td>-0.169007</td>\n    </tr>\n    <tr>\n      <th>0.04</th>\n      <td>37.979839</td>\n      <td>23.733419</td>\n      <td>11.6261</td>\n      <td>-0.0000</td>\n      <td>-0.0000</td>\n      <td>Car</td>\n      <td>1.81</td>\n      <td>10.850992</td>\n      <td>-0.169006</td>\n    </tr>\n    <tr>\n      <th>0.08</th>\n      <td>37.979840</td>\n      <td>23.733418</td>\n      <td>11.6261</td>\n      <td>0.0000</td>\n      <td>-0.0000</td>\n      <td>Car</td>\n      <td>1.81</td>\n      <td>10.850992</td>\n      <td>0.000000</td>\n    </tr>\n    <tr>\n      <th>0.12</th>\n      <td>37.979841</td>\n      <td>23.733418</td>\n      <td>11.6261</td>\n      <td>-0.0000</td>\n      <td>-0.0000</td>\n      <td>Car</td>\n      <td>1.81</td>\n      <td>10.850992</td>\n      <td>-0.169005</td>\n    </tr>\n    <tr>\n      <th>0.16</th>\n      <td>37.979842</td>\n      <td>23.733417</td>\n      <td>11.6261</td>\n      <td>-0.0000</td>\n      <td>0.0000</td>\n      <td>Car</td>\n      <td>1.81</td>\n      <td>10.850992</td>\n      <td>-0.169004</td>\n    </tr>\n    <tr>\n      <th>...</th>\n      <th>...</th>\n      <td>...</td>\n      <td>...</td>\n      <td>...</td>\n      <td>...</td>\n      <td>...</td>\n      <td>...</td>\n      <td>...</td>\n      <td>...</td>\n      <td>...</td>\n    </tr>\n    <tr>\n      <th rowspan=\"5\" valign=\"top\">9</th>\n      <th>2.84</th>\n      <td>37.979802</td>\n      <td>23.733362</td>\n      <td>37.4951</td>\n      <td>0.0222</td>\n      <td>-0.0207</td>\n      <td>Car</td>\n      <td>29.88</td>\n      <td>35.851799</td>\n      <td>-0.168950</td>\n    </tr>\n    <tr>\n      <th>2.88</th>\n      <td>37.979805</td>\n      <td>23.733359</td>\n      <td>37.4989</td>\n      <td>0.0148</td>\n      <td>-0.0195</td>\n      <td>Car</td>\n      <td>29.88</td>\n      <td>35.851799</td>\n      <td>-0.113230</td>\n    </tr>\n    <tr>\n      <th>2.92</th>\n      <td>37.979808</td>\n      <td>23.733357</td>\n      <td>37.5021</td>\n      <td>0.0101</td>\n      <td>-0.0183</td>\n      <td>Car</td>\n      <td>29.88</td>\n      <td>35.851799</td>\n      <td>-0.168945</td>\n    </tr>\n    <tr>\n      <th>2.96</th>\n      <td>37.979811</td>\n      <td>23.733354</td>\n      <td>37.5046</td>\n      <td>0.0022</td>\n      <td>-0.0171</td>\n      <td>Car</td>\n      <td>29.88</td>\n      <td>35.851799</td>\n      <td>-0.168942</td>\n    </tr>\n    <tr>\n      <th>3.00</th>\n      <td>37.979814</td>\n      <td>23.733351</td>\n      <td>37.5060</td>\n      <td>-0.0096</td>\n      <td>-0.0159</td>\n      <td>Car</td>\n      <td>29.88</td>\n      <td>35.851799</td>\n      <td>NaN</td>\n    </tr>\n  </tbody>\n</table>\n<p>534 rows × 9 columns</p>\n</div>"
     },
     "metadata": {},
     "execution_count": 5
    }
   ],
   "source": [
    "#bearing\n",
    "df = csv_to_df('sample.csv') #first  need to create df using csv_to_df\n",
    "df = bearing(df) #using bearing will then return a df with bearing as a column \n",
    "df"
   ]
  },
  {
   "cell_type": "code",
   "execution_count": 7,
   "metadata": {},
   "outputs": [
    {
     "output_type": "execute_result",
     "data": {
      "text/plain": [
       "               lat        lon    speed  lon_acc  lat_acc type  traveled_d  \\\n",
       "id time                                                                     \n",
       "1  0.00  37.979838  23.733420  11.6261   0.0000  -0.0000  Car        1.81   \n",
       "   0.04  37.979839  23.733419  11.6261  -0.0000  -0.0000  Car        1.81   \n",
       "   0.08  37.979840  23.733418  11.6261   0.0000  -0.0000  Car        1.81   \n",
       "   0.12  37.979841  23.733418  11.6261  -0.0000  -0.0000  Car        1.81   \n",
       "   0.16  37.979842  23.733417  11.6261  -0.0000   0.0000  Car        1.81   \n",
       "...            ...        ...      ...      ...      ...  ...         ...   \n",
       "9  2.84  37.979802  23.733362  37.4951   0.0222  -0.0207  Car       29.88   \n",
       "   2.88  37.979805  23.733359  37.4989   0.0148  -0.0195  Car       29.88   \n",
       "   2.92  37.979808  23.733357  37.5021   0.0101  -0.0183  Car       29.88   \n",
       "   2.96  37.979811  23.733354  37.5046   0.0022  -0.0171  Car       29.88   \n",
       "   3.00  37.979814  23.733351  37.5060  -0.0096  -0.0159  Car       29.88   \n",
       "\n",
       "         avg_speed  nearest_node  nearest_edge_start_node  \\\n",
       "id time                                                     \n",
       "1  0.00  10.850992     250698924                250698924   \n",
       "   0.04  10.850992     250698924                250698924   \n",
       "   0.08  10.850992     250698924                250698924   \n",
       "   0.12  10.850992     250698924                250698924   \n",
       "   0.16  10.850992     250698924                250698924   \n",
       "...            ...           ...                      ...   \n",
       "9  2.84  35.851799     250698924                250698924   \n",
       "   2.88  35.851799     250698924                250698924   \n",
       "   2.92  35.851799     250698924                250698924   \n",
       "   2.96  35.851799     250698924                250698924   \n",
       "   3.00  35.851799     250698924                250698924   \n",
       "\n",
       "         nearest_edge_end_node  edge_progress  \n",
       "id time                                        \n",
       "1  0.00              250698925       0.470782  \n",
       "   0.04              250698925       0.471786  \n",
       "   0.08              250698925       0.472789  \n",
       "   0.12              250698925       0.473461  \n",
       "   0.16              250698925       0.474465  \n",
       "...                        ...            ...  \n",
       "9  2.84              250698925       0.468097  \n",
       "   2.88              250698925       0.471126  \n",
       "   2.92              250698925       0.473773  \n",
       "   2.96              250698925       0.476802  \n",
       "   3.00              250698925       0.479830  \n",
       "\n",
       "[534 rows x 12 columns]"
      ],
      "text/html": "<div>\n<style scoped>\n    .dataframe tbody tr th:only-of-type {\n        vertical-align: middle;\n    }\n\n    .dataframe tbody tr th {\n        vertical-align: top;\n    }\n\n    .dataframe thead th {\n        text-align: right;\n    }\n</style>\n<table border=\"1\" class=\"dataframe\">\n  <thead>\n    <tr style=\"text-align: right;\">\n      <th></th>\n      <th></th>\n      <th>lat</th>\n      <th>lon</th>\n      <th>speed</th>\n      <th>lon_acc</th>\n      <th>lat_acc</th>\n      <th>type</th>\n      <th>traveled_d</th>\n      <th>avg_speed</th>\n      <th>nearest_node</th>\n      <th>nearest_edge_start_node</th>\n      <th>nearest_edge_end_node</th>\n      <th>edge_progress</th>\n    </tr>\n    <tr>\n      <th>id</th>\n      <th>time</th>\n      <th></th>\n      <th></th>\n      <th></th>\n      <th></th>\n      <th></th>\n      <th></th>\n      <th></th>\n      <th></th>\n      <th></th>\n      <th></th>\n      <th></th>\n      <th></th>\n    </tr>\n  </thead>\n  <tbody>\n    <tr>\n      <th rowspan=\"5\" valign=\"top\">1</th>\n      <th>0.00</th>\n      <td>37.979838</td>\n      <td>23.733420</td>\n      <td>11.6261</td>\n      <td>0.0000</td>\n      <td>-0.0000</td>\n      <td>Car</td>\n      <td>1.81</td>\n      <td>10.850992</td>\n      <td>250698924</td>\n      <td>250698924</td>\n      <td>250698925</td>\n      <td>0.470782</td>\n    </tr>\n    <tr>\n      <th>0.04</th>\n      <td>37.979839</td>\n      <td>23.733419</td>\n      <td>11.6261</td>\n      <td>-0.0000</td>\n      <td>-0.0000</td>\n      <td>Car</td>\n      <td>1.81</td>\n      <td>10.850992</td>\n      <td>250698924</td>\n      <td>250698924</td>\n      <td>250698925</td>\n      <td>0.471786</td>\n    </tr>\n    <tr>\n      <th>0.08</th>\n      <td>37.979840</td>\n      <td>23.733418</td>\n      <td>11.6261</td>\n      <td>0.0000</td>\n      <td>-0.0000</td>\n      <td>Car</td>\n      <td>1.81</td>\n      <td>10.850992</td>\n      <td>250698924</td>\n      <td>250698924</td>\n      <td>250698925</td>\n      <td>0.472789</td>\n    </tr>\n    <tr>\n      <th>0.12</th>\n      <td>37.979841</td>\n      <td>23.733418</td>\n      <td>11.6261</td>\n      <td>-0.0000</td>\n      <td>-0.0000</td>\n      <td>Car</td>\n      <td>1.81</td>\n      <td>10.850992</td>\n      <td>250698924</td>\n      <td>250698924</td>\n      <td>250698925</td>\n      <td>0.473461</td>\n    </tr>\n    <tr>\n      <th>0.16</th>\n      <td>37.979842</td>\n      <td>23.733417</td>\n      <td>11.6261</td>\n      <td>-0.0000</td>\n      <td>0.0000</td>\n      <td>Car</td>\n      <td>1.81</td>\n      <td>10.850992</td>\n      <td>250698924</td>\n      <td>250698924</td>\n      <td>250698925</td>\n      <td>0.474465</td>\n    </tr>\n    <tr>\n      <th>...</th>\n      <th>...</th>\n      <td>...</td>\n      <td>...</td>\n      <td>...</td>\n      <td>...</td>\n      <td>...</td>\n      <td>...</td>\n      <td>...</td>\n      <td>...</td>\n      <td>...</td>\n      <td>...</td>\n      <td>...</td>\n      <td>...</td>\n    </tr>\n    <tr>\n      <th rowspan=\"5\" valign=\"top\">9</th>\n      <th>2.84</th>\n      <td>37.979802</td>\n      <td>23.733362</td>\n      <td>37.4951</td>\n      <td>0.0222</td>\n      <td>-0.0207</td>\n      <td>Car</td>\n      <td>29.88</td>\n      <td>35.851799</td>\n      <td>250698924</td>\n      <td>250698924</td>\n      <td>250698925</td>\n      <td>0.468097</td>\n    </tr>\n    <tr>\n      <th>2.88</th>\n      <td>37.979805</td>\n      <td>23.733359</td>\n      <td>37.4989</td>\n      <td>0.0148</td>\n      <td>-0.0195</td>\n      <td>Car</td>\n      <td>29.88</td>\n      <td>35.851799</td>\n      <td>250698924</td>\n      <td>250698924</td>\n      <td>250698925</td>\n      <td>0.471126</td>\n    </tr>\n    <tr>\n      <th>2.92</th>\n      <td>37.979808</td>\n      <td>23.733357</td>\n      <td>37.5021</td>\n      <td>0.0101</td>\n      <td>-0.0183</td>\n      <td>Car</td>\n      <td>29.88</td>\n      <td>35.851799</td>\n      <td>250698924</td>\n      <td>250698924</td>\n      <td>250698925</td>\n      <td>0.473773</td>\n    </tr>\n    <tr>\n      <th>2.96</th>\n      <td>37.979811</td>\n      <td>23.733354</td>\n      <td>37.5046</td>\n      <td>0.0022</td>\n      <td>-0.0171</td>\n      <td>Car</td>\n      <td>29.88</td>\n      <td>35.851799</td>\n      <td>250698924</td>\n      <td>250698924</td>\n      <td>250698925</td>\n      <td>0.476802</td>\n    </tr>\n    <tr>\n      <th>3.00</th>\n      <td>37.979814</td>\n      <td>23.733351</td>\n      <td>37.5060</td>\n      <td>-0.0096</td>\n      <td>-0.0159</td>\n      <td>Car</td>\n      <td>29.88</td>\n      <td>35.851799</td>\n      <td>250698924</td>\n      <td>250698924</td>\n      <td>250698925</td>\n      <td>0.479830</td>\n    </tr>\n  </tbody>\n</table>\n<p>534 rows × 12 columns</p>\n</div>"
     },
     "metadata": {},
     "execution_count": 7
    }
   ],
   "source": [
    "#nearest_graph_data \n",
    "df = csv_to_df('sample.csv') #first  need to create df using csv_to_df\n",
    "graph = ox.graph_from_address('Athens, Municipality of Athens, Regional Unit of Central Athens, Attica, 10667, Greece', network_type='drive')  #need to provide graph from osmnx as well \n",
    "df = nearest_graph_data(df, graph) #nearest_graph_data will then return multiple features regarding the node and edge per id \n",
    "df"
   ]
  },
  {
   "cell_type": "code",
   "execution_count": 8,
   "metadata": {},
   "outputs": [
    {
     "output_type": "execute_result",
     "data": {
      "text/plain": [
       "               lat        lon    speed  lon_acc  lat_acc type  traveled_d  \\\n",
       "id time                                                                     \n",
       "1  0.00  37.979838  23.733420  11.6261   0.0000  -0.0000  Car        1.81   \n",
       "   0.04  37.979839  23.733419  11.6261  -0.0000  -0.0000  Car        1.81   \n",
       "   0.08  37.979840  23.733418  11.6261   0.0000  -0.0000  Car        1.81   \n",
       "   0.12  37.979841  23.733418  11.6261  -0.0000  -0.0000  Car        1.81   \n",
       "   0.16  37.979842  23.733417  11.6261  -0.0000   0.0000  Car        1.81   \n",
       "...            ...        ...      ...      ...      ...  ...         ...   \n",
       "9  2.84  37.979802  23.733362  37.4951   0.0222  -0.0207  Car       29.88   \n",
       "   2.88  37.979805  23.733359  37.4989   0.0148  -0.0195  Car       29.88   \n",
       "   2.92  37.979808  23.733357  37.5021   0.0101  -0.0183  Car       29.88   \n",
       "   2.96  37.979811  23.733354  37.5046   0.0022  -0.0171  Car       29.88   \n",
       "   3.00  37.979814  23.733351  37.5060  -0.0096  -0.0159  Car       29.88   \n",
       "\n",
       "         avg_speed  nearest_node  nearest_edge_start_node  \\\n",
       "id time                                                     \n",
       "1  0.00  10.850992     250698924                250698924   \n",
       "   0.04  10.850992     250698924                250698924   \n",
       "   0.08  10.850992     250698924                250698924   \n",
       "   0.12  10.850992     250698924                250698924   \n",
       "   0.16  10.850992     250698924                250698924   \n",
       "...            ...           ...                      ...   \n",
       "9  2.84  35.851799     250698924                250698924   \n",
       "   2.88  35.851799     250698924                250698924   \n",
       "   2.92  35.851799     250698924                250698924   \n",
       "   2.96  35.851799     250698924                250698924   \n",
       "   3.00  35.851799     250698924                250698924   \n",
       "\n",
       "         nearest_edge_end_node  edge_progress  dir  \n",
       "id time                                             \n",
       "1  0.00              250698925       0.470782    1  \n",
       "   0.04              250698925       0.471786    1  \n",
       "   0.08              250698925       0.472789    1  \n",
       "   0.12              250698925       0.473461    1  \n",
       "   0.16              250698925       0.474465    1  \n",
       "...                        ...            ...  ...  \n",
       "9  2.84              250698925       0.468097    1  \n",
       "   2.88              250698925       0.471126    1  \n",
       "   2.92              250698925       0.473773    1  \n",
       "   2.96              250698925       0.476802    1  \n",
       "   3.00              250698925       0.479830    1  \n",
       "\n",
       "[534 rows x 13 columns]"
      ],
      "text/html": "<div>\n<style scoped>\n    .dataframe tbody tr th:only-of-type {\n        vertical-align: middle;\n    }\n\n    .dataframe tbody tr th {\n        vertical-align: top;\n    }\n\n    .dataframe thead th {\n        text-align: right;\n    }\n</style>\n<table border=\"1\" class=\"dataframe\">\n  <thead>\n    <tr style=\"text-align: right;\">\n      <th></th>\n      <th></th>\n      <th>lat</th>\n      <th>lon</th>\n      <th>speed</th>\n      <th>lon_acc</th>\n      <th>lat_acc</th>\n      <th>type</th>\n      <th>traveled_d</th>\n      <th>avg_speed</th>\n      <th>nearest_node</th>\n      <th>nearest_edge_start_node</th>\n      <th>nearest_edge_end_node</th>\n      <th>edge_progress</th>\n      <th>dir</th>\n    </tr>\n    <tr>\n      <th>id</th>\n      <th>time</th>\n      <th></th>\n      <th></th>\n      <th></th>\n      <th></th>\n      <th></th>\n      <th></th>\n      <th></th>\n      <th></th>\n      <th></th>\n      <th></th>\n      <th></th>\n      <th></th>\n      <th></th>\n    </tr>\n  </thead>\n  <tbody>\n    <tr>\n      <th rowspan=\"5\" valign=\"top\">1</th>\n      <th>0.00</th>\n      <td>37.979838</td>\n      <td>23.733420</td>\n      <td>11.6261</td>\n      <td>0.0000</td>\n      <td>-0.0000</td>\n      <td>Car</td>\n      <td>1.81</td>\n      <td>10.850992</td>\n      <td>250698924</td>\n      <td>250698924</td>\n      <td>250698925</td>\n      <td>0.470782</td>\n      <td>1</td>\n    </tr>\n    <tr>\n      <th>0.04</th>\n      <td>37.979839</td>\n      <td>23.733419</td>\n      <td>11.6261</td>\n      <td>-0.0000</td>\n      <td>-0.0000</td>\n      <td>Car</td>\n      <td>1.81</td>\n      <td>10.850992</td>\n      <td>250698924</td>\n      <td>250698924</td>\n      <td>250698925</td>\n      <td>0.471786</td>\n      <td>1</td>\n    </tr>\n    <tr>\n      <th>0.08</th>\n      <td>37.979840</td>\n      <td>23.733418</td>\n      <td>11.6261</td>\n      <td>0.0000</td>\n      <td>-0.0000</td>\n      <td>Car</td>\n      <td>1.81</td>\n      <td>10.850992</td>\n      <td>250698924</td>\n      <td>250698924</td>\n      <td>250698925</td>\n      <td>0.472789</td>\n      <td>1</td>\n    </tr>\n    <tr>\n      <th>0.12</th>\n      <td>37.979841</td>\n      <td>23.733418</td>\n      <td>11.6261</td>\n      <td>-0.0000</td>\n      <td>-0.0000</td>\n      <td>Car</td>\n      <td>1.81</td>\n      <td>10.850992</td>\n      <td>250698924</td>\n      <td>250698924</td>\n      <td>250698925</td>\n      <td>0.473461</td>\n      <td>1</td>\n    </tr>\n    <tr>\n      <th>0.16</th>\n      <td>37.979842</td>\n      <td>23.733417</td>\n      <td>11.6261</td>\n      <td>-0.0000</td>\n      <td>0.0000</td>\n      <td>Car</td>\n      <td>1.81</td>\n      <td>10.850992</td>\n      <td>250698924</td>\n      <td>250698924</td>\n      <td>250698925</td>\n      <td>0.474465</td>\n      <td>1</td>\n    </tr>\n    <tr>\n      <th>...</th>\n      <th>...</th>\n      <td>...</td>\n      <td>...</td>\n      <td>...</td>\n      <td>...</td>\n      <td>...</td>\n      <td>...</td>\n      <td>...</td>\n      <td>...</td>\n      <td>...</td>\n      <td>...</td>\n      <td>...</td>\n      <td>...</td>\n      <td>...</td>\n    </tr>\n    <tr>\n      <th rowspan=\"5\" valign=\"top\">9</th>\n      <th>2.84</th>\n      <td>37.979802</td>\n      <td>23.733362</td>\n      <td>37.4951</td>\n      <td>0.0222</td>\n      <td>-0.0207</td>\n      <td>Car</td>\n      <td>29.88</td>\n      <td>35.851799</td>\n      <td>250698924</td>\n      <td>250698924</td>\n      <td>250698925</td>\n      <td>0.468097</td>\n      <td>1</td>\n    </tr>\n    <tr>\n      <th>2.88</th>\n      <td>37.979805</td>\n      <td>23.733359</td>\n      <td>37.4989</td>\n      <td>0.0148</td>\n      <td>-0.0195</td>\n      <td>Car</td>\n      <td>29.88</td>\n      <td>35.851799</td>\n      <td>250698924</td>\n      <td>250698924</td>\n      <td>250698925</td>\n      <td>0.471126</td>\n      <td>1</td>\n    </tr>\n    <tr>\n      <th>2.92</th>\n      <td>37.979808</td>\n      <td>23.733357</td>\n      <td>37.5021</td>\n      <td>0.0101</td>\n      <td>-0.0183</td>\n      <td>Car</td>\n      <td>29.88</td>\n      <td>35.851799</td>\n      <td>250698924</td>\n      <td>250698924</td>\n      <td>250698925</td>\n      <td>0.473773</td>\n      <td>1</td>\n    </tr>\n    <tr>\n      <th>2.96</th>\n      <td>37.979811</td>\n      <td>23.733354</td>\n      <td>37.5046</td>\n      <td>0.0022</td>\n      <td>-0.0171</td>\n      <td>Car</td>\n      <td>29.88</td>\n      <td>35.851799</td>\n      <td>250698924</td>\n      <td>250698924</td>\n      <td>250698925</td>\n      <td>0.476802</td>\n      <td>1</td>\n    </tr>\n    <tr>\n      <th>3.00</th>\n      <td>37.979814</td>\n      <td>23.733351</td>\n      <td>37.5060</td>\n      <td>-0.0096</td>\n      <td>-0.0159</td>\n      <td>Car</td>\n      <td>29.88</td>\n      <td>35.851799</td>\n      <td>250698924</td>\n      <td>250698924</td>\n      <td>250698925</td>\n      <td>0.479830</td>\n      <td>1</td>\n    </tr>\n  </tbody>\n</table>\n<p>534 rows × 13 columns</p>\n</div>"
     },
     "metadata": {},
     "execution_count": 8
    }
   ],
   "source": [
    "# direction\n",
    "df = csv_to_df('sample.csv') #first  need to create df using csv_to_df\n",
    "graph = ox.graph_from_address('Athens, Municipality of Athens, Regional Unit of Central Athens, Attica, 10667, Greece', network_type='drive')  #need to provide graph from osmnx as well \n",
    "df = nearest_graph_data(df, graph) # need to run nearest_graph_data on df first as well\n",
    "df = direction(df) # running direction on dataframe will then return a df with the direction as a column \n",
    "df"
   ]
  },
  {
   "cell_type": "code",
   "execution_count": 5,
   "metadata": {},
   "outputs": [
    {
     "output_type": "execute_result",
     "data": {
      "text/plain": [
       "                                                                               id\n",
       "                                                                          nunique\n",
       "nearest_edge_start_node nearest_edge_end_node dir edge_progress_intervals        \n",
       "250698924               250698925             0   0.4                           1\n",
       "                                              1   0.2                           3\n",
       "                                                  0.3                           5\n",
       "                                                  0.4                           9"
      ],
      "text/html": "<div>\n<style scoped>\n    .dataframe tbody tr th:only-of-type {\n        vertical-align: middle;\n    }\n\n    .dataframe tbody tr th {\n        vertical-align: top;\n    }\n\n    .dataframe thead tr th {\n        text-align: left;\n    }\n\n    .dataframe thead tr:last-of-type th {\n        text-align: right;\n    }\n</style>\n<table border=\"1\" class=\"dataframe\">\n  <thead>\n    <tr>\n      <th></th>\n      <th></th>\n      <th></th>\n      <th></th>\n      <th>id</th>\n    </tr>\n    <tr>\n      <th></th>\n      <th></th>\n      <th></th>\n      <th></th>\n      <th>nunique</th>\n    </tr>\n    <tr>\n      <th>nearest_edge_start_node</th>\n      <th>nearest_edge_end_node</th>\n      <th>dir</th>\n      <th>edge_progress_intervals</th>\n      <th></th>\n    </tr>\n  </thead>\n  <tbody>\n    <tr>\n      <th rowspan=\"4\" valign=\"top\">250698924</th>\n      <th rowspan=\"4\" valign=\"top\">250698925</th>\n      <th>0</th>\n      <th>0.4</th>\n      <td>1</td>\n    </tr>\n    <tr>\n      <th rowspan=\"3\" valign=\"top\">1</th>\n      <th>0.2</th>\n      <td>3</td>\n    </tr>\n    <tr>\n      <th>0.3</th>\n      <td>5</td>\n    </tr>\n    <tr>\n      <th>0.4</th>\n      <td>9</td>\n    </tr>\n  </tbody>\n</table>\n</div>"
     },
     "metadata": {},
     "execution_count": 5
    }
   ],
   "source": [
    "#vehicle_density\n",
    "df = csv_to_df('sample.csv') #first  need to create df using csv_to_df\n",
    "graph = ox.graph_from_address('Athens, Municipality of Athens, Regional Unit of Central Athens, Attica, 10667, Greece', network_type='drive')  #need to provide graph from osmnx as well \n",
    "df = nearest_graph_data(df, graph) # need to run nearest_graph_data on df first as well\n",
    "df = direction(df) # need to run direction as directions are needed to calculate vehicles by lane \n",
    "vehicle_density(df) #running vehicle_density then returns the number of vehicles per start_node and end_node pairs, still needs to be reformatted and added back to main df"
   ]
  }
 ]
}