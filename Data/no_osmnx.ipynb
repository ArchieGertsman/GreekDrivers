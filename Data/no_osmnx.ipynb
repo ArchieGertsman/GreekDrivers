{
 "metadata": {
  "language_info": {
   "codemirror_mode": {
    "name": "ipython",
    "version": 3
   },
   "file_extension": ".py",
   "mimetype": "text/x-python",
   "name": "python",
   "nbconvert_exporter": "python",
   "pygments_lexer": "ipython3",
   "version": "3.9.2-final"
  },
  "orig_nbformat": 2,
  "kernelspec": {
   "name": "python3",
   "display_name": "Python 3.9.2 64-bit ('ox': conda)",
   "metadata": {
    "interpreter": {
     "hash": "72326583629048dad8c9a913f12cb6cad5a38ceace067d86c7872c2b0df37259"
    }
   }
  }
 },
 "nbformat": 4,
 "nbformat_minor": 2,
 "cells": [
  {
   "cell_type": "code",
   "execution_count": 1,
   "metadata": {},
   "outputs": [],
   "source": [
    "from feature_eng import bearing, nearest_graph_data, direction\n",
    "from data import csv_to_df\n",
    "import osmnx as ox"
   ]
  },
  {
   "cell_type": "code",
   "execution_count": 148,
   "metadata": {},
   "outputs": [],
   "source": [
    "from numpy import sin,cos,arctan2,pi\n",
    "def bearing2(c1,c2):\n",
    "    φ1,λ1 = c1\n",
    "    φ2,λ2 = c2\n",
    "\n",
    "    y = sin(λ2-λ1) * cos(φ2)\n",
    "    x = cos(φ1)*sin(φ2) - sin(φ1)*cos(φ2)*cos(λ2-λ1)\n",
    "    θ = arctan2(y, x)\n",
    "    brng = (θ*180/pi + 360) % 360\n",
    "    return brng\n",
    "\n",
    "def calc_bearings(df):\n",
    "    df1 = df\n",
    "    df2 = df.shift(-1)\n",
    "\n",
    "    c1 = (df1['lat'], df1['lon'])\n",
    "    c2 = (df2['lat'], df2['lon'])\n",
    "    df3 = bearing2(c1, c2)\n",
    "    df3[df1['speed']<2.0] = None\n",
    "    df3 = df3.fillna(method='ffill')\n",
    "    return df3"
   ]
  },
  {
   "cell_type": "code",
   "execution_count": 186,
   "metadata": {},
   "outputs": [],
   "source": [
    "df = csv_to_df('sample_larger.csv')[::50]\n",
    "# graph = ox.graph_from_address(\n",
    "#     'Athens, Municipality of Athens, Regional Unit of Central Athens, Attica, 10667, Greece', \n",
    "#     network_type='drive'\n",
    "# )"
   ]
  },
  {
   "cell_type": "code",
   "execution_count": 187,
   "metadata": {},
   "outputs": [],
   "source": [
    "df['bearing'] = \\\n",
    "        df.groupby('id', as_index=False, group_keys=False) \\\n",
    "        .apply(calc_bearings)"
   ]
  },
  {
   "cell_type": "code",
   "execution_count": 180,
   "metadata": {},
   "outputs": [
    {
     "output_type": "execute_result",
     "data": {
      "text/plain": [
       "(0.2179551016582972,\n",
       " time\n",
       " 0.0     321.259404\n",
       " 2.0     320.379249\n",
       " 4.0     321.149489\n",
       " 6.0     319.485488\n",
       " 8.0     319.869613\n",
       " 10.0    319.962572\n",
       " 12.0    320.705310\n",
       " 14.0    320.605200\n",
       " 16.0    321.467525\n",
       " 18.0    321.766784\n",
       " 20.0    321.992528\n",
       " 22.0    322.605102\n",
       " 24.0    321.923424\n",
       " 26.0    322.449755\n",
       " 28.0    322.055692\n",
       " 30.0    320.699926\n",
       " 32.0    320.699926\n",
       " Name: bearing, dtype: float64)"
      ]
     },
     "metadata": {},
     "execution_count": 180
    }
   ],
   "source": [
    "from numpy import abs, sqrt\n",
    "def angle_dif(a1,a2):\n",
    "    # https://gamedev.stackexchange.com/a/4472/86681\n",
    "    return 180 - abs(abs(a1 - a2) - 180)\n",
    "# angle_dif(278.447945,345.100550)\n",
    "def angle_var(angles):\n",
    "    return ((angles - angles.mean())**2).mean() / len(angles)\n",
    "def angle_std(angles):\n",
    "    return np.sqrt(angle_var(angles))\n",
    "def angle_range(angles):\n",
    "    return angles.max() - angles.min()\n",
    "\n",
    "angle_std(df.loc[1]['bearing']), df.loc[1]['bearing']"
   ]
  },
  {
   "cell_type": "code",
   "execution_count": 158,
   "metadata": {},
   "outputs": [
    {
     "output_type": "execute_result",
     "data": {
      "text/plain": [
       "                 lat        lon    speed  lon_acc  lat_acc        type  \\\n",
       "id  time                                                                 \n",
       "17  15.56  37.978563  23.734375  19.2200  -1.6074  -0.9210  Motorcycle   \n",
       "30  65.44  37.979681  23.733386   0.0063   0.0279   0.0000  Motorcycle   \n",
       "    69.44  37.979671  23.733394   1.8486   0.2591  -0.1618  Motorcycle   \n",
       "    71.44  37.979660  23.733369   6.9323   0.0082  -1.1875  Motorcycle   \n",
       "    83.44  37.979331  23.733613  15.9970  -1.3286  -0.1572  Motorcycle   \n",
       "...              ...        ...      ...      ...      ...         ...   \n",
       "496 68.20  37.976734  23.735827  38.4990  -1.4419  -0.7385  Motorcycle   \n",
       "497 62.16  37.975818  23.735728  20.9802  -1.3425  -0.4747        Taxi   \n",
       "    64.16  37.975898  23.735718  13.9451   0.3304  -1.4198        Taxi   \n",
       "498 64.32  37.975806  23.735697  14.8973   0.1558  -0.7794         Car   \n",
       "    66.32  37.975880  23.735681  16.1562   0.5093  -1.4876         Car   \n",
       "\n",
       "           traveled_d  avg_speed     bearing  d_angle  \n",
       "id  time                                               \n",
       "17  15.56      192.53  34.311641  298.345215        1  \n",
       "30  65.44      439.34  17.080056  309.779251        1  \n",
       "    69.44      439.34  17.080056  154.338023        1  \n",
       "    71.44      439.34  17.080056  206.484817        1  \n",
       "    83.44      439.34  17.080056  143.590510        1  \n",
       "...               ...        ...         ...      ...  \n",
       "496 68.20      523.66  46.894632  357.330451        1  \n",
       "497 62.16      151.00   9.707244  353.143541        1  \n",
       "    64.16      151.00   9.707244  318.920197        1  \n",
       "498 64.32      141.47   8.872855  348.250692        1  \n",
       "    66.32      141.47   8.872855  318.167758        1  \n",
       "\n",
       "[493 rows x 10 columns]"
      ],
      "text/html": "<div>\n<style scoped>\n    .dataframe tbody tr th:only-of-type {\n        vertical-align: middle;\n    }\n\n    .dataframe tbody tr th {\n        vertical-align: top;\n    }\n\n    .dataframe thead th {\n        text-align: right;\n    }\n</style>\n<table border=\"1\" class=\"dataframe\">\n  <thead>\n    <tr style=\"text-align: right;\">\n      <th></th>\n      <th></th>\n      <th>lat</th>\n      <th>lon</th>\n      <th>speed</th>\n      <th>lon_acc</th>\n      <th>lat_acc</th>\n      <th>type</th>\n      <th>traveled_d</th>\n      <th>avg_speed</th>\n      <th>bearing</th>\n      <th>d_angle</th>\n    </tr>\n    <tr>\n      <th>id</th>\n      <th>time</th>\n      <th></th>\n      <th></th>\n      <th></th>\n      <th></th>\n      <th></th>\n      <th></th>\n      <th></th>\n      <th></th>\n      <th></th>\n      <th></th>\n    </tr>\n  </thead>\n  <tbody>\n    <tr>\n      <th>17</th>\n      <th>15.56</th>\n      <td>37.978563</td>\n      <td>23.734375</td>\n      <td>19.2200</td>\n      <td>-1.6074</td>\n      <td>-0.9210</td>\n      <td>Motorcycle</td>\n      <td>192.53</td>\n      <td>34.311641</td>\n      <td>298.345215</td>\n      <td>1</td>\n    </tr>\n    <tr>\n      <th rowspan=\"4\" valign=\"top\">30</th>\n      <th>65.44</th>\n      <td>37.979681</td>\n      <td>23.733386</td>\n      <td>0.0063</td>\n      <td>0.0279</td>\n      <td>0.0000</td>\n      <td>Motorcycle</td>\n      <td>439.34</td>\n      <td>17.080056</td>\n      <td>309.779251</td>\n      <td>1</td>\n    </tr>\n    <tr>\n      <th>69.44</th>\n      <td>37.979671</td>\n      <td>23.733394</td>\n      <td>1.8486</td>\n      <td>0.2591</td>\n      <td>-0.1618</td>\n      <td>Motorcycle</td>\n      <td>439.34</td>\n      <td>17.080056</td>\n      <td>154.338023</td>\n      <td>1</td>\n    </tr>\n    <tr>\n      <th>71.44</th>\n      <td>37.979660</td>\n      <td>23.733369</td>\n      <td>6.9323</td>\n      <td>0.0082</td>\n      <td>-1.1875</td>\n      <td>Motorcycle</td>\n      <td>439.34</td>\n      <td>17.080056</td>\n      <td>206.484817</td>\n      <td>1</td>\n    </tr>\n    <tr>\n      <th>83.44</th>\n      <td>37.979331</td>\n      <td>23.733613</td>\n      <td>15.9970</td>\n      <td>-1.3286</td>\n      <td>-0.1572</td>\n      <td>Motorcycle</td>\n      <td>439.34</td>\n      <td>17.080056</td>\n      <td>143.590510</td>\n      <td>1</td>\n    </tr>\n    <tr>\n      <th>...</th>\n      <th>...</th>\n      <td>...</td>\n      <td>...</td>\n      <td>...</td>\n      <td>...</td>\n      <td>...</td>\n      <td>...</td>\n      <td>...</td>\n      <td>...</td>\n      <td>...</td>\n      <td>...</td>\n    </tr>\n    <tr>\n      <th>496</th>\n      <th>68.20</th>\n      <td>37.976734</td>\n      <td>23.735827</td>\n      <td>38.4990</td>\n      <td>-1.4419</td>\n      <td>-0.7385</td>\n      <td>Motorcycle</td>\n      <td>523.66</td>\n      <td>46.894632</td>\n      <td>357.330451</td>\n      <td>1</td>\n    </tr>\n    <tr>\n      <th rowspan=\"2\" valign=\"top\">497</th>\n      <th>62.16</th>\n      <td>37.975818</td>\n      <td>23.735728</td>\n      <td>20.9802</td>\n      <td>-1.3425</td>\n      <td>-0.4747</td>\n      <td>Taxi</td>\n      <td>151.00</td>\n      <td>9.707244</td>\n      <td>353.143541</td>\n      <td>1</td>\n    </tr>\n    <tr>\n      <th>64.16</th>\n      <td>37.975898</td>\n      <td>23.735718</td>\n      <td>13.9451</td>\n      <td>0.3304</td>\n      <td>-1.4198</td>\n      <td>Taxi</td>\n      <td>151.00</td>\n      <td>9.707244</td>\n      <td>318.920197</td>\n      <td>1</td>\n    </tr>\n    <tr>\n      <th rowspan=\"2\" valign=\"top\">498</th>\n      <th>64.32</th>\n      <td>37.975806</td>\n      <td>23.735697</td>\n      <td>14.8973</td>\n      <td>0.1558</td>\n      <td>-0.7794</td>\n      <td>Car</td>\n      <td>141.47</td>\n      <td>8.872855</td>\n      <td>348.250692</td>\n      <td>1</td>\n    </tr>\n    <tr>\n      <th>66.32</th>\n      <td>37.975880</td>\n      <td>23.735681</td>\n      <td>16.1562</td>\n      <td>0.5093</td>\n      <td>-1.4876</td>\n      <td>Car</td>\n      <td>141.47</td>\n      <td>8.872855</td>\n      <td>318.167758</td>\n      <td>1</td>\n    </tr>\n  </tbody>\n</table>\n<p>493 rows × 10 columns</p>\n</div>"
     },
     "metadata": {},
     "execution_count": 158
    }
   ],
   "source": [
    "\n",
    "def d_angle(df):\n",
    "    df1 = df['bearing']\n",
    "    df2 = df1.shift(-1)\n",
    "    df3 = (angle_dif(df1,df2) > 20).astype(int)\n",
    "    df3[-1] = 0\n",
    "    return df3\n",
    "\n",
    "df['d_angle'] = df.groupby(['id'], as_index=False, group_keys=False).apply(d_angle)\n",
    "df[df['d_angle'] == 1]"
   ]
  },
  {
   "cell_type": "code",
   "execution_count": 160,
   "metadata": {},
   "outputs": [
    {
     "output_type": "execute_result",
     "data": {
      "text/plain": [
       "             lat        lon    speed  lon_acc  lat_acc        type  \\\n",
       "time                                                                 \n",
       "1.44   37.976960  23.735799  21.0761   1.0197  -0.3035  Motorcycle   \n",
       "3.44   37.977065  23.735721  25.4939   0.1374  -0.3574  Motorcycle   \n",
       "5.44   37.977174  23.735623  28.0832   0.2507  -0.3342  Motorcycle   \n",
       "7.44   37.977286  23.735511  29.5603   0.4822   0.0936  Motorcycle   \n",
       "9.44   37.977411  23.735392  31.3811  -0.0907   0.1537  Motorcycle   \n",
       "11.44  37.977540  23.735274  32.7560   0.1427   0.1199  Motorcycle   \n",
       "13.44  37.977673  23.735157  32.1548   0.0313  -0.1334  Motorcycle   \n",
       "15.44  37.977809  23.735039  34.5744   0.8353   0.0858  Motorcycle   \n",
       "17.44  37.977967  23.734904  40.2247   0.3648  -0.0128  Motorcycle   \n",
       "19.44  37.978141  23.734755  44.2170   0.7962   0.0137  Motorcycle   \n",
       "21.44  37.978335  23.734588  46.6217  -0.4758   0.3361  Motorcycle   \n",
       "23.44  37.978524  23.734428  44.0407  -0.4699  -0.2398  Motorcycle   \n",
       "25.44  37.978699  23.734269  44.7155   0.2320  -0.0744  Motorcycle   \n",
       "27.44  37.978873  23.734110  41.6138  -0.1963   0.3759  Motorcycle   \n",
       "29.44  37.979043  23.733968  39.5120  -0.5663  -0.1064  Motorcycle   \n",
       "31.44  37.979194  23.733838  34.5763  -0.1757  -0.0765  Motorcycle   \n",
       "33.44  37.979334  23.733713  32.9815  -0.5842  -0.1008  Motorcycle   \n",
       "35.44  37.979462  23.733597  30.4998  -0.6176  -0.0278  Motorcycle   \n",
       "37.44  37.979571  23.733501  23.1996  -0.8275  -0.1837  Motorcycle   \n",
       "39.44  37.979649  23.733430  12.7388  -2.3146  -0.4322  Motorcycle   \n",
       "41.44  37.979677  23.733391   4.8168  -1.3493   0.4160  Motorcycle   \n",
       "43.44  37.979681  23.733386   0.0025  -0.0015  -0.0000  Motorcycle   \n",
       "45.44  37.979681  23.733386   0.0000  -0.0000   0.0000  Motorcycle   \n",
       "47.44  37.979681  23.733386   0.0000   0.0000   0.0000  Motorcycle   \n",
       "49.44  37.979681  23.733386   0.0000   0.0000   0.0000  Motorcycle   \n",
       "51.44  37.979681  23.733386   0.0000   0.0000   0.0000  Motorcycle   \n",
       "53.44  37.979681  23.733386   0.0000   0.0000   0.0000  Motorcycle   \n",
       "55.44  37.979681  23.733386   0.0000   0.0000   0.0000  Motorcycle   \n",
       "57.44  37.979681  23.733386   0.0000   0.0000   0.0000  Motorcycle   \n",
       "59.44  37.979681  23.733386   0.0000   0.0000   0.0000  Motorcycle   \n",
       "61.44  37.979681  23.733386   0.0000   0.0000   0.0000  Motorcycle   \n",
       "63.44  37.979681  23.733386   0.0000   0.0000  -0.0000  Motorcycle   \n",
       "65.44  37.979681  23.733386   0.0063   0.0279   0.0000  Motorcycle   \n",
       "67.44  37.979673  23.733393   3.3720  -0.4102  -0.7413  Motorcycle   \n",
       "69.44  37.979671  23.733394   1.8486   0.2591  -0.1618  Motorcycle   \n",
       "71.44  37.979660  23.733369   6.9323   0.0082  -1.1875  Motorcycle   \n",
       "73.44  37.979633  23.733355   5.7396   1.1158  -0.9497  Motorcycle   \n",
       "75.44  37.979588  23.733391  14.2602   0.5276   0.2059  Motorcycle   \n",
       "77.44  37.979531  23.733442  12.0309  -0.5295   0.1526  Motorcycle   \n",
       "79.44  37.979480  23.733480  13.8091   0.9189  -0.8572  Motorcycle   \n",
       "81.44  37.979418  23.733548  18.6986   1.2796   0.7181  Motorcycle   \n",
       "83.44  37.979331  23.733613  15.9970  -1.3286  -0.1572  Motorcycle   \n",
       "85.44  37.979288  23.733646   4.2001  -1.0298   0.9583  Motorcycle   \n",
       "87.44  37.979280  23.733643   1.0062   0.0435  -0.3212  Motorcycle   \n",
       "89.44  37.979276  23.733649   2.3980   0.5261   0.1212  Motorcycle   \n",
       "91.44  37.979254  23.733668   8.1634   0.4566   0.3574  Motorcycle   \n",
       "\n",
       "       traveled_d  avg_speed     bearing  d_angle  \n",
       "time                                               \n",
       "1.44       439.34  17.080056  324.460257        0  \n",
       "3.44       439.34  17.080056  319.155339        0  \n",
       "5.44       439.34  17.080056  316.123132        0  \n",
       "7.44       439.34  17.080056  317.530348        0  \n",
       "9.44       439.34  17.080056  318.668737        0  \n",
       "11.44      439.34  17.080056  319.776221        0  \n",
       "13.44      439.34  17.080056  320.166578        0  \n",
       "15.44      439.34  17.080056  320.599899        0  \n",
       "17.44      439.34  17.080056  320.539191        0  \n",
       "19.44      439.34  17.080056  320.393294        0  \n",
       "21.44      439.34  17.080056  320.864244        0  \n",
       "23.44      439.34  17.080056  318.870120        0  \n",
       "25.44      439.34  17.080056  318.708806        0  \n",
       "27.44      439.34  17.080056  321.243646        0  \n",
       "29.44      439.34  17.080056  320.396771        0  \n",
       "31.44      439.34  17.080056  319.369824        0  \n",
       "33.44      439.34  17.080056  318.948808        0  \n",
       "35.44      439.34  17.080056  319.758335        0  \n",
       "37.44      439.34  17.080056  318.824977        0  \n",
       "39.44      439.34  17.080056  306.765941        0  \n",
       "41.44      439.34  17.080056  309.779251        0  \n",
       "43.44      439.34  17.080056  309.779251        0  \n",
       "45.44      439.34  17.080056  309.779251        0  \n",
       "47.44      439.34  17.080056  309.779251        0  \n",
       "49.44      439.34  17.080056  309.779251        0  \n",
       "51.44      439.34  17.080056  309.779251        0  \n",
       "53.44      439.34  17.080056  309.779251        0  \n",
       "55.44      439.34  17.080056  309.779251        0  \n",
       "57.44      439.34  17.080056  309.779251        0  \n",
       "59.44      439.34  17.080056  309.779251        0  \n",
       "61.44      439.34  17.080056  309.779251        0  \n",
       "63.44      439.34  17.080056  309.779251        0  \n",
       "65.44      439.34  17.080056  309.779251        1  \n",
       "67.44      439.34  17.080056  154.338023        0  \n",
       "69.44      439.34  17.080056  154.338023        1  \n",
       "71.44      439.34  17.080056  206.484817        1  \n",
       "73.44      439.34  17.080056  142.449008        0  \n",
       "75.44      439.34  17.080056  139.311281        0  \n",
       "77.44      439.34  17.080056  144.397058        0  \n",
       "79.44      439.34  17.080056  133.494617        0  \n",
       "81.44      439.34  17.080056  144.322058        0  \n",
       "83.44      439.34  17.080056  143.590510        1  \n",
       "85.44      439.34  17.080056  199.818068        0  \n",
       "87.44      439.34  17.080056  199.818068        1  \n",
       "89.44      439.34  17.080056  140.308335        0  \n",
       "91.44      439.34  17.080056  140.308335        0  "
      ],
      "text/html": "<div>\n<style scoped>\n    .dataframe tbody tr th:only-of-type {\n        vertical-align: middle;\n    }\n\n    .dataframe tbody tr th {\n        vertical-align: top;\n    }\n\n    .dataframe thead th {\n        text-align: right;\n    }\n</style>\n<table border=\"1\" class=\"dataframe\">\n  <thead>\n    <tr style=\"text-align: right;\">\n      <th></th>\n      <th>lat</th>\n      <th>lon</th>\n      <th>speed</th>\n      <th>lon_acc</th>\n      <th>lat_acc</th>\n      <th>type</th>\n      <th>traveled_d</th>\n      <th>avg_speed</th>\n      <th>bearing</th>\n      <th>d_angle</th>\n    </tr>\n    <tr>\n      <th>time</th>\n      <th></th>\n      <th></th>\n      <th></th>\n      <th></th>\n      <th></th>\n      <th></th>\n      <th></th>\n      <th></th>\n      <th></th>\n      <th></th>\n    </tr>\n  </thead>\n  <tbody>\n    <tr>\n      <th>1.44</th>\n      <td>37.976960</td>\n      <td>23.735799</td>\n      <td>21.0761</td>\n      <td>1.0197</td>\n      <td>-0.3035</td>\n      <td>Motorcycle</td>\n      <td>439.34</td>\n      <td>17.080056</td>\n      <td>324.460257</td>\n      <td>0</td>\n    </tr>\n    <tr>\n      <th>3.44</th>\n      <td>37.977065</td>\n      <td>23.735721</td>\n      <td>25.4939</td>\n      <td>0.1374</td>\n      <td>-0.3574</td>\n      <td>Motorcycle</td>\n      <td>439.34</td>\n      <td>17.080056</td>\n      <td>319.155339</td>\n      <td>0</td>\n    </tr>\n    <tr>\n      <th>5.44</th>\n      <td>37.977174</td>\n      <td>23.735623</td>\n      <td>28.0832</td>\n      <td>0.2507</td>\n      <td>-0.3342</td>\n      <td>Motorcycle</td>\n      <td>439.34</td>\n      <td>17.080056</td>\n      <td>316.123132</td>\n      <td>0</td>\n    </tr>\n    <tr>\n      <th>7.44</th>\n      <td>37.977286</td>\n      <td>23.735511</td>\n      <td>29.5603</td>\n      <td>0.4822</td>\n      <td>0.0936</td>\n      <td>Motorcycle</td>\n      <td>439.34</td>\n      <td>17.080056</td>\n      <td>317.530348</td>\n      <td>0</td>\n    </tr>\n    <tr>\n      <th>9.44</th>\n      <td>37.977411</td>\n      <td>23.735392</td>\n      <td>31.3811</td>\n      <td>-0.0907</td>\n      <td>0.1537</td>\n      <td>Motorcycle</td>\n      <td>439.34</td>\n      <td>17.080056</td>\n      <td>318.668737</td>\n      <td>0</td>\n    </tr>\n    <tr>\n      <th>11.44</th>\n      <td>37.977540</td>\n      <td>23.735274</td>\n      <td>32.7560</td>\n      <td>0.1427</td>\n      <td>0.1199</td>\n      <td>Motorcycle</td>\n      <td>439.34</td>\n      <td>17.080056</td>\n      <td>319.776221</td>\n      <td>0</td>\n    </tr>\n    <tr>\n      <th>13.44</th>\n      <td>37.977673</td>\n      <td>23.735157</td>\n      <td>32.1548</td>\n      <td>0.0313</td>\n      <td>-0.1334</td>\n      <td>Motorcycle</td>\n      <td>439.34</td>\n      <td>17.080056</td>\n      <td>320.166578</td>\n      <td>0</td>\n    </tr>\n    <tr>\n      <th>15.44</th>\n      <td>37.977809</td>\n      <td>23.735039</td>\n      <td>34.5744</td>\n      <td>0.8353</td>\n      <td>0.0858</td>\n      <td>Motorcycle</td>\n      <td>439.34</td>\n      <td>17.080056</td>\n      <td>320.599899</td>\n      <td>0</td>\n    </tr>\n    <tr>\n      <th>17.44</th>\n      <td>37.977967</td>\n      <td>23.734904</td>\n      <td>40.2247</td>\n      <td>0.3648</td>\n      <td>-0.0128</td>\n      <td>Motorcycle</td>\n      <td>439.34</td>\n      <td>17.080056</td>\n      <td>320.539191</td>\n      <td>0</td>\n    </tr>\n    <tr>\n      <th>19.44</th>\n      <td>37.978141</td>\n      <td>23.734755</td>\n      <td>44.2170</td>\n      <td>0.7962</td>\n      <td>0.0137</td>\n      <td>Motorcycle</td>\n      <td>439.34</td>\n      <td>17.080056</td>\n      <td>320.393294</td>\n      <td>0</td>\n    </tr>\n    <tr>\n      <th>21.44</th>\n      <td>37.978335</td>\n      <td>23.734588</td>\n      <td>46.6217</td>\n      <td>-0.4758</td>\n      <td>0.3361</td>\n      <td>Motorcycle</td>\n      <td>439.34</td>\n      <td>17.080056</td>\n      <td>320.864244</td>\n      <td>0</td>\n    </tr>\n    <tr>\n      <th>23.44</th>\n      <td>37.978524</td>\n      <td>23.734428</td>\n      <td>44.0407</td>\n      <td>-0.4699</td>\n      <td>-0.2398</td>\n      <td>Motorcycle</td>\n      <td>439.34</td>\n      <td>17.080056</td>\n      <td>318.870120</td>\n      <td>0</td>\n    </tr>\n    <tr>\n      <th>25.44</th>\n      <td>37.978699</td>\n      <td>23.734269</td>\n      <td>44.7155</td>\n      <td>0.2320</td>\n      <td>-0.0744</td>\n      <td>Motorcycle</td>\n      <td>439.34</td>\n      <td>17.080056</td>\n      <td>318.708806</td>\n      <td>0</td>\n    </tr>\n    <tr>\n      <th>27.44</th>\n      <td>37.978873</td>\n      <td>23.734110</td>\n      <td>41.6138</td>\n      <td>-0.1963</td>\n      <td>0.3759</td>\n      <td>Motorcycle</td>\n      <td>439.34</td>\n      <td>17.080056</td>\n      <td>321.243646</td>\n      <td>0</td>\n    </tr>\n    <tr>\n      <th>29.44</th>\n      <td>37.979043</td>\n      <td>23.733968</td>\n      <td>39.5120</td>\n      <td>-0.5663</td>\n      <td>-0.1064</td>\n      <td>Motorcycle</td>\n      <td>439.34</td>\n      <td>17.080056</td>\n      <td>320.396771</td>\n      <td>0</td>\n    </tr>\n    <tr>\n      <th>31.44</th>\n      <td>37.979194</td>\n      <td>23.733838</td>\n      <td>34.5763</td>\n      <td>-0.1757</td>\n      <td>-0.0765</td>\n      <td>Motorcycle</td>\n      <td>439.34</td>\n      <td>17.080056</td>\n      <td>319.369824</td>\n      <td>0</td>\n    </tr>\n    <tr>\n      <th>33.44</th>\n      <td>37.979334</td>\n      <td>23.733713</td>\n      <td>32.9815</td>\n      <td>-0.5842</td>\n      <td>-0.1008</td>\n      <td>Motorcycle</td>\n      <td>439.34</td>\n      <td>17.080056</td>\n      <td>318.948808</td>\n      <td>0</td>\n    </tr>\n    <tr>\n      <th>35.44</th>\n      <td>37.979462</td>\n      <td>23.733597</td>\n      <td>30.4998</td>\n      <td>-0.6176</td>\n      <td>-0.0278</td>\n      <td>Motorcycle</td>\n      <td>439.34</td>\n      <td>17.080056</td>\n      <td>319.758335</td>\n      <td>0</td>\n    </tr>\n    <tr>\n      <th>37.44</th>\n      <td>37.979571</td>\n      <td>23.733501</td>\n      <td>23.1996</td>\n      <td>-0.8275</td>\n      <td>-0.1837</td>\n      <td>Motorcycle</td>\n      <td>439.34</td>\n      <td>17.080056</td>\n      <td>318.824977</td>\n      <td>0</td>\n    </tr>\n    <tr>\n      <th>39.44</th>\n      <td>37.979649</td>\n      <td>23.733430</td>\n      <td>12.7388</td>\n      <td>-2.3146</td>\n      <td>-0.4322</td>\n      <td>Motorcycle</td>\n      <td>439.34</td>\n      <td>17.080056</td>\n      <td>306.765941</td>\n      <td>0</td>\n    </tr>\n    <tr>\n      <th>41.44</th>\n      <td>37.979677</td>\n      <td>23.733391</td>\n      <td>4.8168</td>\n      <td>-1.3493</td>\n      <td>0.4160</td>\n      <td>Motorcycle</td>\n      <td>439.34</td>\n      <td>17.080056</td>\n      <td>309.779251</td>\n      <td>0</td>\n    </tr>\n    <tr>\n      <th>43.44</th>\n      <td>37.979681</td>\n      <td>23.733386</td>\n      <td>0.0025</td>\n      <td>-0.0015</td>\n      <td>-0.0000</td>\n      <td>Motorcycle</td>\n      <td>439.34</td>\n      <td>17.080056</td>\n      <td>309.779251</td>\n      <td>0</td>\n    </tr>\n    <tr>\n      <th>45.44</th>\n      <td>37.979681</td>\n      <td>23.733386</td>\n      <td>0.0000</td>\n      <td>-0.0000</td>\n      <td>0.0000</td>\n      <td>Motorcycle</td>\n      <td>439.34</td>\n      <td>17.080056</td>\n      <td>309.779251</td>\n      <td>0</td>\n    </tr>\n    <tr>\n      <th>47.44</th>\n      <td>37.979681</td>\n      <td>23.733386</td>\n      <td>0.0000</td>\n      <td>0.0000</td>\n      <td>0.0000</td>\n      <td>Motorcycle</td>\n      <td>439.34</td>\n      <td>17.080056</td>\n      <td>309.779251</td>\n      <td>0</td>\n    </tr>\n    <tr>\n      <th>49.44</th>\n      <td>37.979681</td>\n      <td>23.733386</td>\n      <td>0.0000</td>\n      <td>0.0000</td>\n      <td>0.0000</td>\n      <td>Motorcycle</td>\n      <td>439.34</td>\n      <td>17.080056</td>\n      <td>309.779251</td>\n      <td>0</td>\n    </tr>\n    <tr>\n      <th>51.44</th>\n      <td>37.979681</td>\n      <td>23.733386</td>\n      <td>0.0000</td>\n      <td>0.0000</td>\n      <td>0.0000</td>\n      <td>Motorcycle</td>\n      <td>439.34</td>\n      <td>17.080056</td>\n      <td>309.779251</td>\n      <td>0</td>\n    </tr>\n    <tr>\n      <th>53.44</th>\n      <td>37.979681</td>\n      <td>23.733386</td>\n      <td>0.0000</td>\n      <td>0.0000</td>\n      <td>0.0000</td>\n      <td>Motorcycle</td>\n      <td>439.34</td>\n      <td>17.080056</td>\n      <td>309.779251</td>\n      <td>0</td>\n    </tr>\n    <tr>\n      <th>55.44</th>\n      <td>37.979681</td>\n      <td>23.733386</td>\n      <td>0.0000</td>\n      <td>0.0000</td>\n      <td>0.0000</td>\n      <td>Motorcycle</td>\n      <td>439.34</td>\n      <td>17.080056</td>\n      <td>309.779251</td>\n      <td>0</td>\n    </tr>\n    <tr>\n      <th>57.44</th>\n      <td>37.979681</td>\n      <td>23.733386</td>\n      <td>0.0000</td>\n      <td>0.0000</td>\n      <td>0.0000</td>\n      <td>Motorcycle</td>\n      <td>439.34</td>\n      <td>17.080056</td>\n      <td>309.779251</td>\n      <td>0</td>\n    </tr>\n    <tr>\n      <th>59.44</th>\n      <td>37.979681</td>\n      <td>23.733386</td>\n      <td>0.0000</td>\n      <td>0.0000</td>\n      <td>0.0000</td>\n      <td>Motorcycle</td>\n      <td>439.34</td>\n      <td>17.080056</td>\n      <td>309.779251</td>\n      <td>0</td>\n    </tr>\n    <tr>\n      <th>61.44</th>\n      <td>37.979681</td>\n      <td>23.733386</td>\n      <td>0.0000</td>\n      <td>0.0000</td>\n      <td>0.0000</td>\n      <td>Motorcycle</td>\n      <td>439.34</td>\n      <td>17.080056</td>\n      <td>309.779251</td>\n      <td>0</td>\n    </tr>\n    <tr>\n      <th>63.44</th>\n      <td>37.979681</td>\n      <td>23.733386</td>\n      <td>0.0000</td>\n      <td>0.0000</td>\n      <td>-0.0000</td>\n      <td>Motorcycle</td>\n      <td>439.34</td>\n      <td>17.080056</td>\n      <td>309.779251</td>\n      <td>0</td>\n    </tr>\n    <tr>\n      <th>65.44</th>\n      <td>37.979681</td>\n      <td>23.733386</td>\n      <td>0.0063</td>\n      <td>0.0279</td>\n      <td>0.0000</td>\n      <td>Motorcycle</td>\n      <td>439.34</td>\n      <td>17.080056</td>\n      <td>309.779251</td>\n      <td>1</td>\n    </tr>\n    <tr>\n      <th>67.44</th>\n      <td>37.979673</td>\n      <td>23.733393</td>\n      <td>3.3720</td>\n      <td>-0.4102</td>\n      <td>-0.7413</td>\n      <td>Motorcycle</td>\n      <td>439.34</td>\n      <td>17.080056</td>\n      <td>154.338023</td>\n      <td>0</td>\n    </tr>\n    <tr>\n      <th>69.44</th>\n      <td>37.979671</td>\n      <td>23.733394</td>\n      <td>1.8486</td>\n      <td>0.2591</td>\n      <td>-0.1618</td>\n      <td>Motorcycle</td>\n      <td>439.34</td>\n      <td>17.080056</td>\n      <td>154.338023</td>\n      <td>1</td>\n    </tr>\n    <tr>\n      <th>71.44</th>\n      <td>37.979660</td>\n      <td>23.733369</td>\n      <td>6.9323</td>\n      <td>0.0082</td>\n      <td>-1.1875</td>\n      <td>Motorcycle</td>\n      <td>439.34</td>\n      <td>17.080056</td>\n      <td>206.484817</td>\n      <td>1</td>\n    </tr>\n    <tr>\n      <th>73.44</th>\n      <td>37.979633</td>\n      <td>23.733355</td>\n      <td>5.7396</td>\n      <td>1.1158</td>\n      <td>-0.9497</td>\n      <td>Motorcycle</td>\n      <td>439.34</td>\n      <td>17.080056</td>\n      <td>142.449008</td>\n      <td>0</td>\n    </tr>\n    <tr>\n      <th>75.44</th>\n      <td>37.979588</td>\n      <td>23.733391</td>\n      <td>14.2602</td>\n      <td>0.5276</td>\n      <td>0.2059</td>\n      <td>Motorcycle</td>\n      <td>439.34</td>\n      <td>17.080056</td>\n      <td>139.311281</td>\n      <td>0</td>\n    </tr>\n    <tr>\n      <th>77.44</th>\n      <td>37.979531</td>\n      <td>23.733442</td>\n      <td>12.0309</td>\n      <td>-0.5295</td>\n      <td>0.1526</td>\n      <td>Motorcycle</td>\n      <td>439.34</td>\n      <td>17.080056</td>\n      <td>144.397058</td>\n      <td>0</td>\n    </tr>\n    <tr>\n      <th>79.44</th>\n      <td>37.979480</td>\n      <td>23.733480</td>\n      <td>13.8091</td>\n      <td>0.9189</td>\n      <td>-0.8572</td>\n      <td>Motorcycle</td>\n      <td>439.34</td>\n      <td>17.080056</td>\n      <td>133.494617</td>\n      <td>0</td>\n    </tr>\n    <tr>\n      <th>81.44</th>\n      <td>37.979418</td>\n      <td>23.733548</td>\n      <td>18.6986</td>\n      <td>1.2796</td>\n      <td>0.7181</td>\n      <td>Motorcycle</td>\n      <td>439.34</td>\n      <td>17.080056</td>\n      <td>144.322058</td>\n      <td>0</td>\n    </tr>\n    <tr>\n      <th>83.44</th>\n      <td>37.979331</td>\n      <td>23.733613</td>\n      <td>15.9970</td>\n      <td>-1.3286</td>\n      <td>-0.1572</td>\n      <td>Motorcycle</td>\n      <td>439.34</td>\n      <td>17.080056</td>\n      <td>143.590510</td>\n      <td>1</td>\n    </tr>\n    <tr>\n      <th>85.44</th>\n      <td>37.979288</td>\n      <td>23.733646</td>\n      <td>4.2001</td>\n      <td>-1.0298</td>\n      <td>0.9583</td>\n      <td>Motorcycle</td>\n      <td>439.34</td>\n      <td>17.080056</td>\n      <td>199.818068</td>\n      <td>0</td>\n    </tr>\n    <tr>\n      <th>87.44</th>\n      <td>37.979280</td>\n      <td>23.733643</td>\n      <td>1.0062</td>\n      <td>0.0435</td>\n      <td>-0.3212</td>\n      <td>Motorcycle</td>\n      <td>439.34</td>\n      <td>17.080056</td>\n      <td>199.818068</td>\n      <td>1</td>\n    </tr>\n    <tr>\n      <th>89.44</th>\n      <td>37.979276</td>\n      <td>23.733649</td>\n      <td>2.3980</td>\n      <td>0.5261</td>\n      <td>0.1212</td>\n      <td>Motorcycle</td>\n      <td>439.34</td>\n      <td>17.080056</td>\n      <td>140.308335</td>\n      <td>0</td>\n    </tr>\n    <tr>\n      <th>91.44</th>\n      <td>37.979254</td>\n      <td>23.733668</td>\n      <td>8.1634</td>\n      <td>0.4566</td>\n      <td>0.3574</td>\n      <td>Motorcycle</td>\n      <td>439.34</td>\n      <td>17.080056</td>\n      <td>140.308335</td>\n      <td>0</td>\n    </tr>\n  </tbody>\n</table>\n</div>"
     },
     "metadata": {},
     "execution_count": 160
    }
   ],
   "source": [
    "df.loc[30]"
   ]
  },
  {
   "cell_type": "code",
   "execution_count": 229,
   "metadata": {},
   "outputs": [
    {
     "output_type": "execute_result",
     "data": {
      "text/plain": [
       "              lat        lon    speed  lon_acc  lat_acc type  traveled_d  \\\n",
       "time                                                                       \n",
       "60.32   37.975660  23.735680  15.1436   0.0624  -0.0508  Car      141.47   \n",
       "62.32   37.975734  23.735693  14.4083   0.2698  -0.1240  Car      141.47   \n",
       "64.32   37.975806  23.735697  14.8973   0.1558  -0.7794  Car      141.47   \n",
       "66.32   37.975880  23.735681  16.1562   0.5093  -1.4876  Car      141.47   \n",
       "68.32   37.975952  23.735614  19.1003   0.1207  -1.8440  Car      141.47   \n",
       "70.32   37.975986  23.735503  19.1525   0.5941  -0.0155  Car      141.47   \n",
       "72.32   37.976000  23.735378  19.9480   0.0858   0.2949  Car      141.47   \n",
       "74.32   37.976016  23.735250  20.2328  -0.1928  -0.3768  Car      141.47   \n",
       "76.32   37.976031  23.735134  16.4083  -0.9001  -0.2046  Car      141.47   \n",
       "78.32   37.976041  23.735057   8.1025  -1.3159   0.3644  Car      141.47   \n",
       "80.32   37.976046  23.735032   0.3712  -0.7742  -0.0096  Car      141.47   \n",
       "82.32   37.976046  23.735031   0.0000  -0.0000   0.0000  Car      141.47   \n",
       "84.32   37.976046  23.735031   0.0000   0.0000   0.0000  Car      141.47   \n",
       "86.32   37.976046  23.735031   0.0000   0.0000   0.0000  Car      141.47   \n",
       "88.32   37.976046  23.735031   0.0000   0.0000   0.0000  Car      141.47   \n",
       "90.32   37.976046  23.735031   0.0000   0.0000   0.0000  Car      141.47   \n",
       "92.32   37.976046  23.735031   0.0000   0.0000   0.0000  Car      141.47   \n",
       "94.32   37.976046  23.735031   0.0000   0.0000   0.0000  Car      141.47   \n",
       "96.32   37.976046  23.735031   0.0000   0.0000   0.0000  Car      141.47   \n",
       "98.32   37.976046  23.735031   0.0000   0.0000   0.0000  Car      141.47   \n",
       "100.32  37.976046  23.735031   0.0000   0.0000   0.0000  Car      141.47   \n",
       "102.32  37.976046  23.735031   0.0000   0.0000   0.0000  Car      141.47   \n",
       "104.32  37.976046  23.735031   0.0001   0.0002  -0.0000  Car      141.47   \n",
       "106.32  37.976046  23.735028   1.9744   0.3414   0.1336  Car      141.47   \n",
       "108.32  37.976052  23.734999   9.2084   0.9084  -0.3116  Car      141.47   \n",
       "110.32  37.976062  23.734922  17.7152   1.4283   0.0729  Car      141.47   \n",
       "112.32  37.976081  23.734787  23.5964   0.2391  -0.2683  Car      141.47   \n",
       "114.32  37.976098  23.734639  22.8578  -0.1503   0.1429  Car      141.47   \n",
       "116.32  37.976112  23.734494  20.7717  -1.8999  -1.0584  Car      141.47   \n",
       "\n",
       "        avg_speed     bearing       roll  \n",
       "time                                      \n",
       "60.32    8.872855    9.592185   0.000000  \n",
       "62.32    8.872855    3.059116   6.533069  \n",
       "64.32    8.872855  348.250692  21.341493  \n",
       "66.32    8.872855  318.167758  51.424426  \n",
       "68.32    8.872855  287.664033  81.928152  \n",
       "70.32    8.872855  276.642291  86.416825  \n",
       "72.32    8.872855  277.405096  70.845596  \n",
       "74.32    8.872855  277.657370  40.510388  \n",
       "76.32    8.872855  277.689841   9.974192  \n",
       "78.32    8.872855  281.745899   5.103609  \n",
       "80.32    8.872855  281.745899   4.340803  \n",
       "82.32    8.872855  281.745899   4.088529  \n",
       "84.32    8.872855  281.745899   4.056058  \n",
       "86.32    8.872855  281.745899   0.000000  \n",
       "88.32    8.872855  281.745899   0.000000  \n",
       "90.32    8.872855  281.745899   0.000000  \n",
       "92.32    8.872855  281.745899   0.000000  \n",
       "94.32    8.872855  281.745899   0.000000  \n",
       "96.32    8.872855  281.745899   0.000000  \n",
       "98.32    8.872855  281.745899   0.000000  \n",
       "100.32   8.872855  281.745899   0.000000  \n",
       "102.32   8.872855  281.745899   0.000000  \n",
       "104.32   8.872855  281.745899   0.000000  \n",
       "106.32   8.872855  281.745899   0.000000  \n",
       "108.32   8.872855  277.689886   4.056013  \n",
       "110.32   8.872855  278.325318   3.420581  \n",
       "112.32   8.872855  276.810960   4.934940  \n",
       "114.32   8.872855  275.733167   6.012732  \n",
       "116.32   8.872855  275.733167   2.592151  "
      ],
      "text/html": "<div>\n<style scoped>\n    .dataframe tbody tr th:only-of-type {\n        vertical-align: middle;\n    }\n\n    .dataframe tbody tr th {\n        vertical-align: top;\n    }\n\n    .dataframe thead th {\n        text-align: right;\n    }\n</style>\n<table border=\"1\" class=\"dataframe\">\n  <thead>\n    <tr style=\"text-align: right;\">\n      <th></th>\n      <th>lat</th>\n      <th>lon</th>\n      <th>speed</th>\n      <th>lon_acc</th>\n      <th>lat_acc</th>\n      <th>type</th>\n      <th>traveled_d</th>\n      <th>avg_speed</th>\n      <th>bearing</th>\n      <th>roll</th>\n    </tr>\n    <tr>\n      <th>time</th>\n      <th></th>\n      <th></th>\n      <th></th>\n      <th></th>\n      <th></th>\n      <th></th>\n      <th></th>\n      <th></th>\n      <th></th>\n      <th></th>\n    </tr>\n  </thead>\n  <tbody>\n    <tr>\n      <th>60.32</th>\n      <td>37.975660</td>\n      <td>23.735680</td>\n      <td>15.1436</td>\n      <td>0.0624</td>\n      <td>-0.0508</td>\n      <td>Car</td>\n      <td>141.47</td>\n      <td>8.872855</td>\n      <td>9.592185</td>\n      <td>0.000000</td>\n    </tr>\n    <tr>\n      <th>62.32</th>\n      <td>37.975734</td>\n      <td>23.735693</td>\n      <td>14.4083</td>\n      <td>0.2698</td>\n      <td>-0.1240</td>\n      <td>Car</td>\n      <td>141.47</td>\n      <td>8.872855</td>\n      <td>3.059116</td>\n      <td>6.533069</td>\n    </tr>\n    <tr>\n      <th>64.32</th>\n      <td>37.975806</td>\n      <td>23.735697</td>\n      <td>14.8973</td>\n      <td>0.1558</td>\n      <td>-0.7794</td>\n      <td>Car</td>\n      <td>141.47</td>\n      <td>8.872855</td>\n      <td>348.250692</td>\n      <td>21.341493</td>\n    </tr>\n    <tr>\n      <th>66.32</th>\n      <td>37.975880</td>\n      <td>23.735681</td>\n      <td>16.1562</td>\n      <td>0.5093</td>\n      <td>-1.4876</td>\n      <td>Car</td>\n      <td>141.47</td>\n      <td>8.872855</td>\n      <td>318.167758</td>\n      <td>51.424426</td>\n    </tr>\n    <tr>\n      <th>68.32</th>\n      <td>37.975952</td>\n      <td>23.735614</td>\n      <td>19.1003</td>\n      <td>0.1207</td>\n      <td>-1.8440</td>\n      <td>Car</td>\n      <td>141.47</td>\n      <td>8.872855</td>\n      <td>287.664033</td>\n      <td>81.928152</td>\n    </tr>\n    <tr>\n      <th>70.32</th>\n      <td>37.975986</td>\n      <td>23.735503</td>\n      <td>19.1525</td>\n      <td>0.5941</td>\n      <td>-0.0155</td>\n      <td>Car</td>\n      <td>141.47</td>\n      <td>8.872855</td>\n      <td>276.642291</td>\n      <td>86.416825</td>\n    </tr>\n    <tr>\n      <th>72.32</th>\n      <td>37.976000</td>\n      <td>23.735378</td>\n      <td>19.9480</td>\n      <td>0.0858</td>\n      <td>0.2949</td>\n      <td>Car</td>\n      <td>141.47</td>\n      <td>8.872855</td>\n      <td>277.405096</td>\n      <td>70.845596</td>\n    </tr>\n    <tr>\n      <th>74.32</th>\n      <td>37.976016</td>\n      <td>23.735250</td>\n      <td>20.2328</td>\n      <td>-0.1928</td>\n      <td>-0.3768</td>\n      <td>Car</td>\n      <td>141.47</td>\n      <td>8.872855</td>\n      <td>277.657370</td>\n      <td>40.510388</td>\n    </tr>\n    <tr>\n      <th>76.32</th>\n      <td>37.976031</td>\n      <td>23.735134</td>\n      <td>16.4083</td>\n      <td>-0.9001</td>\n      <td>-0.2046</td>\n      <td>Car</td>\n      <td>141.47</td>\n      <td>8.872855</td>\n      <td>277.689841</td>\n      <td>9.974192</td>\n    </tr>\n    <tr>\n      <th>78.32</th>\n      <td>37.976041</td>\n      <td>23.735057</td>\n      <td>8.1025</td>\n      <td>-1.3159</td>\n      <td>0.3644</td>\n      <td>Car</td>\n      <td>141.47</td>\n      <td>8.872855</td>\n      <td>281.745899</td>\n      <td>5.103609</td>\n    </tr>\n    <tr>\n      <th>80.32</th>\n      <td>37.976046</td>\n      <td>23.735032</td>\n      <td>0.3712</td>\n      <td>-0.7742</td>\n      <td>-0.0096</td>\n      <td>Car</td>\n      <td>141.47</td>\n      <td>8.872855</td>\n      <td>281.745899</td>\n      <td>4.340803</td>\n    </tr>\n    <tr>\n      <th>82.32</th>\n      <td>37.976046</td>\n      <td>23.735031</td>\n      <td>0.0000</td>\n      <td>-0.0000</td>\n      <td>0.0000</td>\n      <td>Car</td>\n      <td>141.47</td>\n      <td>8.872855</td>\n      <td>281.745899</td>\n      <td>4.088529</td>\n    </tr>\n    <tr>\n      <th>84.32</th>\n      <td>37.976046</td>\n      <td>23.735031</td>\n      <td>0.0000</td>\n      <td>0.0000</td>\n      <td>0.0000</td>\n      <td>Car</td>\n      <td>141.47</td>\n      <td>8.872855</td>\n      <td>281.745899</td>\n      <td>4.056058</td>\n    </tr>\n    <tr>\n      <th>86.32</th>\n      <td>37.976046</td>\n      <td>23.735031</td>\n      <td>0.0000</td>\n      <td>0.0000</td>\n      <td>0.0000</td>\n      <td>Car</td>\n      <td>141.47</td>\n      <td>8.872855</td>\n      <td>281.745899</td>\n      <td>0.000000</td>\n    </tr>\n    <tr>\n      <th>88.32</th>\n      <td>37.976046</td>\n      <td>23.735031</td>\n      <td>0.0000</td>\n      <td>0.0000</td>\n      <td>0.0000</td>\n      <td>Car</td>\n      <td>141.47</td>\n      <td>8.872855</td>\n      <td>281.745899</td>\n      <td>0.000000</td>\n    </tr>\n    <tr>\n      <th>90.32</th>\n      <td>37.976046</td>\n      <td>23.735031</td>\n      <td>0.0000</td>\n      <td>0.0000</td>\n      <td>0.0000</td>\n      <td>Car</td>\n      <td>141.47</td>\n      <td>8.872855</td>\n      <td>281.745899</td>\n      <td>0.000000</td>\n    </tr>\n    <tr>\n      <th>92.32</th>\n      <td>37.976046</td>\n      <td>23.735031</td>\n      <td>0.0000</td>\n      <td>0.0000</td>\n      <td>0.0000</td>\n      <td>Car</td>\n      <td>141.47</td>\n      <td>8.872855</td>\n      <td>281.745899</td>\n      <td>0.000000</td>\n    </tr>\n    <tr>\n      <th>94.32</th>\n      <td>37.976046</td>\n      <td>23.735031</td>\n      <td>0.0000</td>\n      <td>0.0000</td>\n      <td>0.0000</td>\n      <td>Car</td>\n      <td>141.47</td>\n      <td>8.872855</td>\n      <td>281.745899</td>\n      <td>0.000000</td>\n    </tr>\n    <tr>\n      <th>96.32</th>\n      <td>37.976046</td>\n      <td>23.735031</td>\n      <td>0.0000</td>\n      <td>0.0000</td>\n      <td>0.0000</td>\n      <td>Car</td>\n      <td>141.47</td>\n      <td>8.872855</td>\n      <td>281.745899</td>\n      <td>0.000000</td>\n    </tr>\n    <tr>\n      <th>98.32</th>\n      <td>37.976046</td>\n      <td>23.735031</td>\n      <td>0.0000</td>\n      <td>0.0000</td>\n      <td>0.0000</td>\n      <td>Car</td>\n      <td>141.47</td>\n      <td>8.872855</td>\n      <td>281.745899</td>\n      <td>0.000000</td>\n    </tr>\n    <tr>\n      <th>100.32</th>\n      <td>37.976046</td>\n      <td>23.735031</td>\n      <td>0.0000</td>\n      <td>0.0000</td>\n      <td>0.0000</td>\n      <td>Car</td>\n      <td>141.47</td>\n      <td>8.872855</td>\n      <td>281.745899</td>\n      <td>0.000000</td>\n    </tr>\n    <tr>\n      <th>102.32</th>\n      <td>37.976046</td>\n      <td>23.735031</td>\n      <td>0.0000</td>\n      <td>0.0000</td>\n      <td>0.0000</td>\n      <td>Car</td>\n      <td>141.47</td>\n      <td>8.872855</td>\n      <td>281.745899</td>\n      <td>0.000000</td>\n    </tr>\n    <tr>\n      <th>104.32</th>\n      <td>37.976046</td>\n      <td>23.735031</td>\n      <td>0.0001</td>\n      <td>0.0002</td>\n      <td>-0.0000</td>\n      <td>Car</td>\n      <td>141.47</td>\n      <td>8.872855</td>\n      <td>281.745899</td>\n      <td>0.000000</td>\n    </tr>\n    <tr>\n      <th>106.32</th>\n      <td>37.976046</td>\n      <td>23.735028</td>\n      <td>1.9744</td>\n      <td>0.3414</td>\n      <td>0.1336</td>\n      <td>Car</td>\n      <td>141.47</td>\n      <td>8.872855</td>\n      <td>281.745899</td>\n      <td>0.000000</td>\n    </tr>\n    <tr>\n      <th>108.32</th>\n      <td>37.976052</td>\n      <td>23.734999</td>\n      <td>9.2084</td>\n      <td>0.9084</td>\n      <td>-0.3116</td>\n      <td>Car</td>\n      <td>141.47</td>\n      <td>8.872855</td>\n      <td>277.689886</td>\n      <td>4.056013</td>\n    </tr>\n    <tr>\n      <th>110.32</th>\n      <td>37.976062</td>\n      <td>23.734922</td>\n      <td>17.7152</td>\n      <td>1.4283</td>\n      <td>0.0729</td>\n      <td>Car</td>\n      <td>141.47</td>\n      <td>8.872855</td>\n      <td>278.325318</td>\n      <td>3.420581</td>\n    </tr>\n    <tr>\n      <th>112.32</th>\n      <td>37.976081</td>\n      <td>23.734787</td>\n      <td>23.5964</td>\n      <td>0.2391</td>\n      <td>-0.2683</td>\n      <td>Car</td>\n      <td>141.47</td>\n      <td>8.872855</td>\n      <td>276.810960</td>\n      <td>4.934940</td>\n    </tr>\n    <tr>\n      <th>114.32</th>\n      <td>37.976098</td>\n      <td>23.734639</td>\n      <td>22.8578</td>\n      <td>-0.1503</td>\n      <td>0.1429</td>\n      <td>Car</td>\n      <td>141.47</td>\n      <td>8.872855</td>\n      <td>275.733167</td>\n      <td>6.012732</td>\n    </tr>\n    <tr>\n      <th>116.32</th>\n      <td>37.976112</td>\n      <td>23.734494</td>\n      <td>20.7717</td>\n      <td>-1.8999</td>\n      <td>-1.0584</td>\n      <td>Car</td>\n      <td>141.47</td>\n      <td>8.872855</td>\n      <td>275.733167</td>\n      <td>2.592151</td>\n    </tr>\n  </tbody>\n</table>\n</div>"
     },
     "metadata": {},
     "execution_count": 229
    }
   ],
   "source": [
    "import numpy as np\n",
    "df['roll'] = df.groupby('id', as_index=False, group_keys=False).apply(lambda x: x['bearing'].rolling(5, min_periods=1).apply(lambda angles: angle_dif(angles.iloc[-1], angles).max()))\n",
    "df.loc[498]"
   ]
  },
  {
   "cell_type": "code",
   "execution_count": 230,
   "metadata": {},
   "outputs": [
    {
     "output_type": "execute_result",
     "data": {
      "text/plain": [
       "             lat        lon    speed  lon_acc  lat_acc type  traveled_d  \\\n",
       "time                                                                      \n",
       "37.64  37.976164  23.736532  51.9420  -2.0150   0.0082  Car      523.65   \n",
       "39.64  37.976207  23.736285  24.7554  -3.5075  -0.0918  Car      523.65   \n",
       "41.64  37.976227  23.736171  15.0898  -0.7296   0.1021  Car      523.65   \n",
       "43.64  37.976247  23.736078  15.4739  -0.5131   0.2868  Car      523.65   \n",
       "45.64  37.976271  23.736001  11.1791  -0.4523   0.2773  Car      523.65   \n",
       "63.64  37.976766  23.735887  19.9843   0.1441  -0.1259  Car      523.65   \n",
       "75.64  37.977492  23.735340  46.8592   1.4482   0.6180  Car      523.65   \n",
       "77.64  37.977700  23.735143  56.7611   1.2739   0.3724  Car      523.65   \n",
       "79.64  37.977953  23.734924  64.5226   0.1991  -0.1492  Car      523.65   \n",
       "81.64  37.978222  23.734691  65.8119   0.2062   0.2927  Car      523.65   \n",
       "83.64  37.978494  23.734462  64.0034  -0.5651  -0.1586  Car      523.65   \n",
       "85.64  37.978726  23.734263  45.8600  -1.5966   0.0506  Car      523.65   \n",
       "87.64  37.978903  23.734112  41.6864   0.6147  -0.0861  Car      523.65   \n",
       "89.64  37.979085  23.733957  45.5856   0.4675   0.0207  Car      523.65   \n",
       "91.64  37.979279  23.733791  47.5863   0.1821  -0.0649  Car      523.65   \n",
       "93.64  37.979476  23.733618  47.8739  -0.4194  -0.0287  Car      523.65   \n",
       "95.64  37.979661  23.733456  42.8073  -0.3159   0.1289  Car      523.65   \n",
       "\n",
       "       avg_speed     bearing       roll  \n",
       "time                                     \n",
       "37.64  31.314774  280.260959   0.000000  \n",
       "39.64  31.314774  280.337827   0.076868  \n",
       "41.64  31.314774  282.603890   2.342931  \n",
       "43.64  31.314774  287.955741   7.694782  \n",
       "45.64  31.314774  298.435951  18.174992  \n",
       "63.64  31.314774  359.459822   8.448877  \n",
       "75.64  31.314774  317.679740   4.333574  \n",
       "77.64  31.314774  320.234210   6.888044  \n",
       "79.64  31.314774  320.218260   6.872095  \n",
       "81.64  31.314774  321.018595   7.672429  \n",
       "83.64  31.314774  320.496931   2.817192  \n",
       "85.64  31.314774  320.651034   0.432774  \n",
       "87.64  31.314774  320.700592   0.482332  \n",
       "89.64  31.314774  320.569834   0.448760  \n",
       "91.64  31.314774  319.840082   0.860510  \n",
       "93.64  31.314774  319.921939   0.778653  \n",
       "95.64  31.314774  319.921939   0.778653  "
      ],
      "text/html": "<div>\n<style scoped>\n    .dataframe tbody tr th:only-of-type {\n        vertical-align: middle;\n    }\n\n    .dataframe tbody tr th {\n        vertical-align: top;\n    }\n\n    .dataframe thead th {\n        text-align: right;\n    }\n</style>\n<table border=\"1\" class=\"dataframe\">\n  <thead>\n    <tr style=\"text-align: right;\">\n      <th></th>\n      <th>lat</th>\n      <th>lon</th>\n      <th>speed</th>\n      <th>lon_acc</th>\n      <th>lat_acc</th>\n      <th>type</th>\n      <th>traveled_d</th>\n      <th>avg_speed</th>\n      <th>bearing</th>\n      <th>roll</th>\n    </tr>\n    <tr>\n      <th>time</th>\n      <th></th>\n      <th></th>\n      <th></th>\n      <th></th>\n      <th></th>\n      <th></th>\n      <th></th>\n      <th></th>\n      <th></th>\n      <th></th>\n    </tr>\n  </thead>\n  <tbody>\n    <tr>\n      <th>37.64</th>\n      <td>37.976164</td>\n      <td>23.736532</td>\n      <td>51.9420</td>\n      <td>-2.0150</td>\n      <td>0.0082</td>\n      <td>Car</td>\n      <td>523.65</td>\n      <td>31.314774</td>\n      <td>280.260959</td>\n      <td>0.000000</td>\n    </tr>\n    <tr>\n      <th>39.64</th>\n      <td>37.976207</td>\n      <td>23.736285</td>\n      <td>24.7554</td>\n      <td>-3.5075</td>\n      <td>-0.0918</td>\n      <td>Car</td>\n      <td>523.65</td>\n      <td>31.314774</td>\n      <td>280.337827</td>\n      <td>0.076868</td>\n    </tr>\n    <tr>\n      <th>41.64</th>\n      <td>37.976227</td>\n      <td>23.736171</td>\n      <td>15.0898</td>\n      <td>-0.7296</td>\n      <td>0.1021</td>\n      <td>Car</td>\n      <td>523.65</td>\n      <td>31.314774</td>\n      <td>282.603890</td>\n      <td>2.342931</td>\n    </tr>\n    <tr>\n      <th>43.64</th>\n      <td>37.976247</td>\n      <td>23.736078</td>\n      <td>15.4739</td>\n      <td>-0.5131</td>\n      <td>0.2868</td>\n      <td>Car</td>\n      <td>523.65</td>\n      <td>31.314774</td>\n      <td>287.955741</td>\n      <td>7.694782</td>\n    </tr>\n    <tr>\n      <th>45.64</th>\n      <td>37.976271</td>\n      <td>23.736001</td>\n      <td>11.1791</td>\n      <td>-0.4523</td>\n      <td>0.2773</td>\n      <td>Car</td>\n      <td>523.65</td>\n      <td>31.314774</td>\n      <td>298.435951</td>\n      <td>18.174992</td>\n    </tr>\n    <tr>\n      <th>63.64</th>\n      <td>37.976766</td>\n      <td>23.735887</td>\n      <td>19.9843</td>\n      <td>0.1441</td>\n      <td>-0.1259</td>\n      <td>Car</td>\n      <td>523.65</td>\n      <td>31.314774</td>\n      <td>359.459822</td>\n      <td>8.448877</td>\n    </tr>\n    <tr>\n      <th>75.64</th>\n      <td>37.977492</td>\n      <td>23.735340</td>\n      <td>46.8592</td>\n      <td>1.4482</td>\n      <td>0.6180</td>\n      <td>Car</td>\n      <td>523.65</td>\n      <td>31.314774</td>\n      <td>317.679740</td>\n      <td>4.333574</td>\n    </tr>\n    <tr>\n      <th>77.64</th>\n      <td>37.977700</td>\n      <td>23.735143</td>\n      <td>56.7611</td>\n      <td>1.2739</td>\n      <td>0.3724</td>\n      <td>Car</td>\n      <td>523.65</td>\n      <td>31.314774</td>\n      <td>320.234210</td>\n      <td>6.888044</td>\n    </tr>\n    <tr>\n      <th>79.64</th>\n      <td>37.977953</td>\n      <td>23.734924</td>\n      <td>64.5226</td>\n      <td>0.1991</td>\n      <td>-0.1492</td>\n      <td>Car</td>\n      <td>523.65</td>\n      <td>31.314774</td>\n      <td>320.218260</td>\n      <td>6.872095</td>\n    </tr>\n    <tr>\n      <th>81.64</th>\n      <td>37.978222</td>\n      <td>23.734691</td>\n      <td>65.8119</td>\n      <td>0.2062</td>\n      <td>0.2927</td>\n      <td>Car</td>\n      <td>523.65</td>\n      <td>31.314774</td>\n      <td>321.018595</td>\n      <td>7.672429</td>\n    </tr>\n    <tr>\n      <th>83.64</th>\n      <td>37.978494</td>\n      <td>23.734462</td>\n      <td>64.0034</td>\n      <td>-0.5651</td>\n      <td>-0.1586</td>\n      <td>Car</td>\n      <td>523.65</td>\n      <td>31.314774</td>\n      <td>320.496931</td>\n      <td>2.817192</td>\n    </tr>\n    <tr>\n      <th>85.64</th>\n      <td>37.978726</td>\n      <td>23.734263</td>\n      <td>45.8600</td>\n      <td>-1.5966</td>\n      <td>0.0506</td>\n      <td>Car</td>\n      <td>523.65</td>\n      <td>31.314774</td>\n      <td>320.651034</td>\n      <td>0.432774</td>\n    </tr>\n    <tr>\n      <th>87.64</th>\n      <td>37.978903</td>\n      <td>23.734112</td>\n      <td>41.6864</td>\n      <td>0.6147</td>\n      <td>-0.0861</td>\n      <td>Car</td>\n      <td>523.65</td>\n      <td>31.314774</td>\n      <td>320.700592</td>\n      <td>0.482332</td>\n    </tr>\n    <tr>\n      <th>89.64</th>\n      <td>37.979085</td>\n      <td>23.733957</td>\n      <td>45.5856</td>\n      <td>0.4675</td>\n      <td>0.0207</td>\n      <td>Car</td>\n      <td>523.65</td>\n      <td>31.314774</td>\n      <td>320.569834</td>\n      <td>0.448760</td>\n    </tr>\n    <tr>\n      <th>91.64</th>\n      <td>37.979279</td>\n      <td>23.733791</td>\n      <td>47.5863</td>\n      <td>0.1821</td>\n      <td>-0.0649</td>\n      <td>Car</td>\n      <td>523.65</td>\n      <td>31.314774</td>\n      <td>319.840082</td>\n      <td>0.860510</td>\n    </tr>\n    <tr>\n      <th>93.64</th>\n      <td>37.979476</td>\n      <td>23.733618</td>\n      <td>47.8739</td>\n      <td>-0.4194</td>\n      <td>-0.0287</td>\n      <td>Car</td>\n      <td>523.65</td>\n      <td>31.314774</td>\n      <td>319.921939</td>\n      <td>0.778653</td>\n    </tr>\n    <tr>\n      <th>95.64</th>\n      <td>37.979661</td>\n      <td>23.733456</td>\n      <td>42.8073</td>\n      <td>-0.3159</td>\n      <td>0.1289</td>\n      <td>Car</td>\n      <td>523.65</td>\n      <td>31.314774</td>\n      <td>319.921939</td>\n      <td>0.778653</td>\n    </tr>\n  </tbody>\n</table>\n</div>"
     },
     "metadata": {},
     "execution_count": 230
    }
   ],
   "source": [
    "df_noturn = df[df['roll'] < 20]\n",
    "df_noturn.loc[400]"
   ]
  },
  {
   "cell_type": "code",
   "execution_count": null,
   "metadata": {},
   "outputs": [],
   "source": []
  }
 ]
}