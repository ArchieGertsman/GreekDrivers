{
 "metadata": {
  "language_info": {
   "codemirror_mode": {
    "name": "ipython",
    "version": 3
   },
   "file_extension": ".py",
   "mimetype": "text/x-python",
   "name": "python",
   "nbconvert_exporter": "python",
   "pygments_lexer": "ipython3",
   "version": "3.8.5-final"
  },
  "orig_nbformat": 2,
  "kernelspec": {
   "name": "python3",
   "display_name": "Python 3",
   "language": "python"
  }
 },
 "nbformat": 4,
 "nbformat_minor": 2,
 "cells": [
  {
   "cell_type": "code",
   "execution_count": 6,
   "metadata": {},
   "outputs": [],
   "source": [
    "from Data import Data\n",
    "import numpy as np\n",
    "from numpy import arctan2, sin, cos"
   ]
  },
  {
   "cell_type": "code",
   "execution_count": 5,
   "metadata": {},
   "outputs": [
    {
     "output_type": "execute_result",
     "data": {
      "text/plain": [
       "               lat        lon    speed  ...  type  traveled_d  avg_speed\n",
       "id time                                 ...                             \n",
       "1  0.00  37.977482  23.735405  34.0206  ...  Taxi      320.26  35.366264\n",
       "   0.04  37.977485  23.735402  34.0197  ...  Taxi      320.26  35.366264\n",
       "   0.08  37.977488  23.735400  34.0211  ...  Taxi      320.26  35.366264\n",
       "   0.12  37.977491  23.735398  34.0245  ...  Taxi      320.26  35.366264\n",
       "   0.16  37.977494  23.735395  34.0305  ...  Taxi      320.26  35.366264\n",
       "\n",
       "[5 rows x 8 columns]"
      ],
      "text/html": "<div>\n<style scoped>\n    .dataframe tbody tr th:only-of-type {\n        vertical-align: middle;\n    }\n\n    .dataframe tbody tr th {\n        vertical-align: top;\n    }\n\n    .dataframe thead th {\n        text-align: right;\n    }\n</style>\n<table border=\"1\" class=\"dataframe\">\n  <thead>\n    <tr style=\"text-align: right;\">\n      <th></th>\n      <th></th>\n      <th>lat</th>\n      <th>lon</th>\n      <th>speed</th>\n      <th>lon_acc</th>\n      <th>lat_acc</th>\n      <th>type</th>\n      <th>traveled_d</th>\n      <th>avg_speed</th>\n    </tr>\n    <tr>\n      <th>id</th>\n      <th>time</th>\n      <th></th>\n      <th></th>\n      <th></th>\n      <th></th>\n      <th></th>\n      <th></th>\n      <th></th>\n      <th></th>\n    </tr>\n  </thead>\n  <tbody>\n    <tr>\n      <th rowspan=\"5\" valign=\"top\">1</th>\n      <th>0.00</th>\n      <td>37.977482</td>\n      <td>23.735405</td>\n      <td>34.0206</td>\n      <td>-0.0167</td>\n      <td>0.0074</td>\n      <td>Taxi</td>\n      <td>320.26</td>\n      <td>35.366264</td>\n    </tr>\n    <tr>\n      <th>0.04</th>\n      <td>37.977485</td>\n      <td>23.735402</td>\n      <td>34.0197</td>\n      <td>0.0040</td>\n      <td>0.0086</td>\n      <td>Taxi</td>\n      <td>320.26</td>\n      <td>35.366264</td>\n    </tr>\n    <tr>\n      <th>0.08</th>\n      <td>37.977488</td>\n      <td>23.735400</td>\n      <td>34.0211</td>\n      <td>0.0167</td>\n      <td>0.0097</td>\n      <td>Taxi</td>\n      <td>320.26</td>\n      <td>35.366264</td>\n    </tr>\n    <tr>\n      <th>0.12</th>\n      <td>37.977491</td>\n      <td>23.735398</td>\n      <td>34.0245</td>\n      <td>0.0294</td>\n      <td>0.0108</td>\n      <td>Taxi</td>\n      <td>320.26</td>\n      <td>35.366264</td>\n    </tr>\n    <tr>\n      <th>0.16</th>\n      <td>37.977494</td>\n      <td>23.735395</td>\n      <td>34.0305</td>\n      <td>0.0540</td>\n      <td>0.0120</td>\n      <td>Taxi</td>\n      <td>320.26</td>\n      <td>35.366264</td>\n    </tr>\n  </tbody>\n</table>\n</div>"
     },
     "metadata": {},
     "execution_count": 5
    }
   ],
   "source": [
    "df = Data('sample.csv').df\n",
    "df.head()"
   ]
  },
  {
   "cell_type": "code",
   "execution_count": 35,
   "metadata": {},
   "outputs": [],
   "source": [
    "# https://towardsdatascience.com/calculating-the-bearing-between-two-geospatial-coordinates-66203f57e4b4\n",
    "def bearing(c1, c2):\n",
    "    lat1,lon1 = c1\n",
    "    lat2,lon2 = c2\n",
    "    \n",
    "    dL = lon2 - lon1\n",
    "    x = cos(lon2) * sin(dL)\n",
    "    y = cos(lat1) * sin(lat2) - sin(lat1) * cos(lat2) * cos(dL)\n",
    "    return arctan2(x,y)"
   ]
  },
  {
   "cell_type": "code",
   "execution_count": 47,
   "metadata": {},
   "outputs": [
    {
     "output_type": "execute_result",
     "data": {
      "text/plain": [
       "-0.11455270605494577"
      ]
     },
     "metadata": {},
     "execution_count": 47
    }
   ],
   "source": [
    "DT = 0.04\n",
    "\n",
    "def bearing_at_idx(df, idx):\n",
    "    id,time = idx\n",
    "    next_idx = (id, time+DT)\n",
    "\n",
    "    if not df.index.isin([next_idx]).any():\n",
    "        return None\n",
    "\n",
    "    lat = float(df.loc[[idx]]['lat'])\n",
    "    lon = float(df.loc[[idx]]['lon'])\n",
    "    a = (lat,lon)\n",
    "\n",
    "    lat = float(df.loc[[next_idx]]['lat'])\n",
    "    lon = float(df.loc[[next_idx]]['lon'])\n",
    "    b = (lat,lon)\n",
    "\n",
    "    return bearing(a,b)\n",
    "\n",
    "bearing_at_idx(df, (2,0.08))"
   ]
  },
  {
   "cell_type": "code",
   "execution_count": null,
   "metadata": {},
   "outputs": [],
   "source": []
  }
 ]
}