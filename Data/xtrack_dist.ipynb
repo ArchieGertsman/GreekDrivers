{
 "cells": [
  {
   "cell_type": "code",
   "execution_count": 7,
   "metadata": {},
   "outputs": [],
   "source": [
    "import osmnx as ox\n",
    "import pandas as pd\n",
    "import numpy as np\n",
    "from data import csv_to_df\n",
    "import matplotlib.pyplot as plt\n",
    "import nvector as nv\n",
    "import networkx as nx\n",
    "from numpy import arctan2, sin, cos, sqrt, radians\n",
    "from feature_eng import nearest_graph_data\n",
    "from nvector import rad"
   ]
  },
  {
   "cell_type": "code",
   "execution_count": 8,
   "metadata": {},
   "outputs": [
    {
     "output_type": "execute_result",
     "data": {
      "text/plain": [
       "               lat        lon    speed  lon_acc  lat_acc type  traveled_d  \\\n",
       "id time                                                                     \n",
       "1  0.00  37.979838  23.733420  11.6261   0.0000  -0.0000  Car        1.81   \n",
       "   0.04  37.979839  23.733419  11.6261  -0.0000  -0.0000  Car        1.81   \n",
       "   0.08  37.979840  23.733418  11.6261   0.0000  -0.0000  Car        1.81   \n",
       "   0.12  37.979841  23.733418  11.6261  -0.0000  -0.0000  Car        1.81   \n",
       "   0.16  37.979842  23.733417  11.6261  -0.0000   0.0000  Car        1.81   \n",
       "...            ...        ...      ...      ...      ...  ...         ...   \n",
       "9  2.84  37.979802  23.733362  37.4951   0.0222  -0.0207  Car       29.88   \n",
       "   2.88  37.979805  23.733359  37.4989   0.0148  -0.0195  Car       29.88   \n",
       "   2.92  37.979808  23.733357  37.5021   0.0101  -0.0183  Car       29.88   \n",
       "   2.96  37.979811  23.733354  37.5046   0.0022  -0.0171  Car       29.88   \n",
       "   3.00  37.979814  23.733351  37.5060  -0.0096  -0.0159  Car       29.88   \n",
       "\n",
       "         avg_speed  nearest_node  nearest_edge_start_node  \\\n",
       "id time                                                     \n",
       "1  0.00  10.850992     250698924                250698924   \n",
       "   0.04  10.850992     250698924                250698924   \n",
       "   0.08  10.850992     250698924                250698924   \n",
       "   0.12  10.850992     250698924                250698924   \n",
       "   0.16  10.850992     250698924                250698924   \n",
       "...            ...           ...                      ...   \n",
       "9  2.84  35.851799     250698924                250698924   \n",
       "   2.88  35.851799     250698924                250698924   \n",
       "   2.92  35.851799     250698924                250698924   \n",
       "   2.96  35.851799     250698924                250698924   \n",
       "   3.00  35.851799     250698924                250698924   \n",
       "\n",
       "         nearest_edge_end_node  edge_progress  \n",
       "id time                                        \n",
       "1  0.00              250698926       0.276860  \n",
       "   0.04              250698926       0.277450  \n",
       "   0.08              250698926       0.278040  \n",
       "   0.12              250698926       0.278435  \n",
       "   0.16              250698926       0.279026  \n",
       "...                        ...            ...  \n",
       "9  2.84              250698926       0.275281  \n",
       "   2.88              250698926       0.277062  \n",
       "   2.92              250698926       0.278619  \n",
       "   2.96              250698926       0.280400  \n",
       "   3.00              250698926       0.282181  \n",
       "\n",
       "[534 rows x 12 columns]"
      ],
      "text/html": "<div>\n<style scoped>\n    .dataframe tbody tr th:only-of-type {\n        vertical-align: middle;\n    }\n\n    .dataframe tbody tr th {\n        vertical-align: top;\n    }\n\n    .dataframe thead th {\n        text-align: right;\n    }\n</style>\n<table border=\"1\" class=\"dataframe\">\n  <thead>\n    <tr style=\"text-align: right;\">\n      <th></th>\n      <th></th>\n      <th>lat</th>\n      <th>lon</th>\n      <th>speed</th>\n      <th>lon_acc</th>\n      <th>lat_acc</th>\n      <th>type</th>\n      <th>traveled_d</th>\n      <th>avg_speed</th>\n      <th>nearest_node</th>\n      <th>nearest_edge_start_node</th>\n      <th>nearest_edge_end_node</th>\n      <th>edge_progress</th>\n    </tr>\n    <tr>\n      <th>id</th>\n      <th>time</th>\n      <th></th>\n      <th></th>\n      <th></th>\n      <th></th>\n      <th></th>\n      <th></th>\n      <th></th>\n      <th></th>\n      <th></th>\n      <th></th>\n      <th></th>\n      <th></th>\n    </tr>\n  </thead>\n  <tbody>\n    <tr>\n      <th rowspan=\"5\" valign=\"top\">1</th>\n      <th>0.00</th>\n      <td>37.979838</td>\n      <td>23.733420</td>\n      <td>11.6261</td>\n      <td>0.0000</td>\n      <td>-0.0000</td>\n      <td>Car</td>\n      <td>1.81</td>\n      <td>10.850992</td>\n      <td>250698924</td>\n      <td>250698924</td>\n      <td>250698926</td>\n      <td>0.276860</td>\n    </tr>\n    <tr>\n      <th>0.04</th>\n      <td>37.979839</td>\n      <td>23.733419</td>\n      <td>11.6261</td>\n      <td>-0.0000</td>\n      <td>-0.0000</td>\n      <td>Car</td>\n      <td>1.81</td>\n      <td>10.850992</td>\n      <td>250698924</td>\n      <td>250698924</td>\n      <td>250698926</td>\n      <td>0.277450</td>\n    </tr>\n    <tr>\n      <th>0.08</th>\n      <td>37.979840</td>\n      <td>23.733418</td>\n      <td>11.6261</td>\n      <td>0.0000</td>\n      <td>-0.0000</td>\n      <td>Car</td>\n      <td>1.81</td>\n      <td>10.850992</td>\n      <td>250698924</td>\n      <td>250698924</td>\n      <td>250698926</td>\n      <td>0.278040</td>\n    </tr>\n    <tr>\n      <th>0.12</th>\n      <td>37.979841</td>\n      <td>23.733418</td>\n      <td>11.6261</td>\n      <td>-0.0000</td>\n      <td>-0.0000</td>\n      <td>Car</td>\n      <td>1.81</td>\n      <td>10.850992</td>\n      <td>250698924</td>\n      <td>250698924</td>\n      <td>250698926</td>\n      <td>0.278435</td>\n    </tr>\n    <tr>\n      <th>0.16</th>\n      <td>37.979842</td>\n      <td>23.733417</td>\n      <td>11.6261</td>\n      <td>-0.0000</td>\n      <td>0.0000</td>\n      <td>Car</td>\n      <td>1.81</td>\n      <td>10.850992</td>\n      <td>250698924</td>\n      <td>250698924</td>\n      <td>250698926</td>\n      <td>0.279026</td>\n    </tr>\n    <tr>\n      <th>...</th>\n      <th>...</th>\n      <td>...</td>\n      <td>...</td>\n      <td>...</td>\n      <td>...</td>\n      <td>...</td>\n      <td>...</td>\n      <td>...</td>\n      <td>...</td>\n      <td>...</td>\n      <td>...</td>\n      <td>...</td>\n      <td>...</td>\n    </tr>\n    <tr>\n      <th rowspan=\"5\" valign=\"top\">9</th>\n      <th>2.84</th>\n      <td>37.979802</td>\n      <td>23.733362</td>\n      <td>37.4951</td>\n      <td>0.0222</td>\n      <td>-0.0207</td>\n      <td>Car</td>\n      <td>29.88</td>\n      <td>35.851799</td>\n      <td>250698924</td>\n      <td>250698924</td>\n      <td>250698926</td>\n      <td>0.275281</td>\n    </tr>\n    <tr>\n      <th>2.88</th>\n      <td>37.979805</td>\n      <td>23.733359</td>\n      <td>37.4989</td>\n      <td>0.0148</td>\n      <td>-0.0195</td>\n      <td>Car</td>\n      <td>29.88</td>\n      <td>35.851799</td>\n      <td>250698924</td>\n      <td>250698924</td>\n      <td>250698926</td>\n      <td>0.277062</td>\n    </tr>\n    <tr>\n      <th>2.92</th>\n      <td>37.979808</td>\n      <td>23.733357</td>\n      <td>37.5021</td>\n      <td>0.0101</td>\n      <td>-0.0183</td>\n      <td>Car</td>\n      <td>29.88</td>\n      <td>35.851799</td>\n      <td>250698924</td>\n      <td>250698924</td>\n      <td>250698926</td>\n      <td>0.278619</td>\n    </tr>\n    <tr>\n      <th>2.96</th>\n      <td>37.979811</td>\n      <td>23.733354</td>\n      <td>37.5046</td>\n      <td>0.0022</td>\n      <td>-0.0171</td>\n      <td>Car</td>\n      <td>29.88</td>\n      <td>35.851799</td>\n      <td>250698924</td>\n      <td>250698924</td>\n      <td>250698926</td>\n      <td>0.280400</td>\n    </tr>\n    <tr>\n      <th>3.00</th>\n      <td>37.979814</td>\n      <td>23.733351</td>\n      <td>37.5060</td>\n      <td>-0.0096</td>\n      <td>-0.0159</td>\n      <td>Car</td>\n      <td>29.88</td>\n      <td>35.851799</td>\n      <td>250698924</td>\n      <td>250698924</td>\n      <td>250698926</td>\n      <td>0.282181</td>\n    </tr>\n  </tbody>\n</table>\n<p>534 rows × 12 columns</p>\n</div>"
     },
     "metadata": {},
     "execution_count": 8
    }
   ],
   "source": [
    "df = csv_to_df('sample.csv')\n",
    "g = ox.graph_from_point((37.979838, 23.733420), network_type='drive', dist=500) \n",
    "df = nearest_graph_data(df, g)\n",
    "df"
   ]
  },
  {
   "cell_type": "code",
   "execution_count": 28,
   "metadata": {},
   "outputs": [],
   "source": [
    "def __calc_xtrack_dists(group, graph):\n",
    "    start_node, end_node = group[['nearest_edge_start_node', 'nearest_edge_end_node']].iloc[0]\n",
    "    lon_start, lat_start = graph.nodes[start_node]['x'],graph.nodes[start_node]['y']\n",
    "    lon_end, lat_end = graph.nodes[end_node]['x'],graph.nodes[end_node]['y']\n",
    "    lon_v, lat_v = group['lon'], group['lat']\n",
    "\n",
    "    start_pt = nv.lat_lon2n_E(rad(lat_start), rad(lon_start))\n",
    "    end_pt = nv.lat_lon2n_E(rad(lat_end), rad(lon_end))\n",
    "    v_pt = nv.lat_lon2n_E(rad(lat_v), rad(lon_v))\n",
    "\n",
    "    group['xtrack_dist'] = nv.cross_track_distance((start_pt,end_pt), v_pt)\n",
    "    return group"
   ]
  },
  {
   "cell_type": "code",
   "execution_count": 29,
   "metadata": {},
   "outputs": [
    {
     "output_type": "execute_result",
     "data": {
      "text/plain": [
       "               lat        lon    speed  lon_acc  lat_acc type  traveled_d  \\\n",
       "id time                                                                     \n",
       "1  0.00  37.979838  23.733420  11.6261   0.0000  -0.0000  Car        1.81   \n",
       "   0.04  37.979839  23.733419  11.6261  -0.0000  -0.0000  Car        1.81   \n",
       "   0.08  37.979840  23.733418  11.6261   0.0000  -0.0000  Car        1.81   \n",
       "   0.12  37.979841  23.733418  11.6261  -0.0000  -0.0000  Car        1.81   \n",
       "   0.16  37.979842  23.733417  11.6261  -0.0000   0.0000  Car        1.81   \n",
       "...            ...        ...      ...      ...      ...  ...         ...   \n",
       "9  2.84  37.979802  23.733362  37.4951   0.0222  -0.0207  Car       29.88   \n",
       "   2.88  37.979805  23.733359  37.4989   0.0148  -0.0195  Car       29.88   \n",
       "   2.92  37.979808  23.733357  37.5021   0.0101  -0.0183  Car       29.88   \n",
       "   2.96  37.979811  23.733354  37.5046   0.0022  -0.0171  Car       29.88   \n",
       "   3.00  37.979814  23.733351  37.5060  -0.0096  -0.0159  Car       29.88   \n",
       "\n",
       "         avg_speed  nearest_node  nearest_edge_start_node  \\\n",
       "id time                                                     \n",
       "1  0.00  10.850992     250698924                250698924   \n",
       "   0.04  10.850992     250698924                250698924   \n",
       "   0.08  10.850992     250698924                250698924   \n",
       "   0.12  10.850992     250698924                250698924   \n",
       "   0.16  10.850992     250698924                250698924   \n",
       "...            ...           ...                      ...   \n",
       "9  2.84  35.851799     250698924                250698924   \n",
       "   2.88  35.851799     250698924                250698924   \n",
       "   2.92  35.851799     250698924                250698924   \n",
       "   2.96  35.851799     250698924                250698924   \n",
       "   3.00  35.851799     250698924                250698924   \n",
       "\n",
       "         nearest_edge_end_node  edge_progress  xtrack_dist  \n",
       "id time                                                     \n",
       "1  0.00              250698926       0.276860     2.430654  \n",
       "   0.04              250698926       0.277450     2.420627  \n",
       "   0.08              250698926       0.278040     2.410601  \n",
       "   0.12              250698926       0.278435     2.473078  \n",
       "   0.16              250698926       0.279026     2.463052  \n",
       "...                        ...            ...          ...  \n",
       "9  2.84              250698926       0.275281    -4.023750  \n",
       "   2.88              250698926       0.277062    -4.053829  \n",
       "   2.92              250698926       0.278619    -4.011404  \n",
       "   2.96              250698926       0.280400    -4.041483  \n",
       "   3.00              250698926       0.282181    -4.071561  \n",
       "\n",
       "[534 rows x 13 columns]"
      ],
      "text/html": "<div>\n<style scoped>\n    .dataframe tbody tr th:only-of-type {\n        vertical-align: middle;\n    }\n\n    .dataframe tbody tr th {\n        vertical-align: top;\n    }\n\n    .dataframe thead th {\n        text-align: right;\n    }\n</style>\n<table border=\"1\" class=\"dataframe\">\n  <thead>\n    <tr style=\"text-align: right;\">\n      <th></th>\n      <th></th>\n      <th>lat</th>\n      <th>lon</th>\n      <th>speed</th>\n      <th>lon_acc</th>\n      <th>lat_acc</th>\n      <th>type</th>\n      <th>traveled_d</th>\n      <th>avg_speed</th>\n      <th>nearest_node</th>\n      <th>nearest_edge_start_node</th>\n      <th>nearest_edge_end_node</th>\n      <th>edge_progress</th>\n      <th>xtrack_dist</th>\n    </tr>\n    <tr>\n      <th>id</th>\n      <th>time</th>\n      <th></th>\n      <th></th>\n      <th></th>\n      <th></th>\n      <th></th>\n      <th></th>\n      <th></th>\n      <th></th>\n      <th></th>\n      <th></th>\n      <th></th>\n      <th></th>\n      <th></th>\n    </tr>\n  </thead>\n  <tbody>\n    <tr>\n      <th rowspan=\"5\" valign=\"top\">1</th>\n      <th>0.00</th>\n      <td>37.979838</td>\n      <td>23.733420</td>\n      <td>11.6261</td>\n      <td>0.0000</td>\n      <td>-0.0000</td>\n      <td>Car</td>\n      <td>1.81</td>\n      <td>10.850992</td>\n      <td>250698924</td>\n      <td>250698924</td>\n      <td>250698926</td>\n      <td>0.276860</td>\n      <td>2.430654</td>\n    </tr>\n    <tr>\n      <th>0.04</th>\n      <td>37.979839</td>\n      <td>23.733419</td>\n      <td>11.6261</td>\n      <td>-0.0000</td>\n      <td>-0.0000</td>\n      <td>Car</td>\n      <td>1.81</td>\n      <td>10.850992</td>\n      <td>250698924</td>\n      <td>250698924</td>\n      <td>250698926</td>\n      <td>0.277450</td>\n      <td>2.420627</td>\n    </tr>\n    <tr>\n      <th>0.08</th>\n      <td>37.979840</td>\n      <td>23.733418</td>\n      <td>11.6261</td>\n      <td>0.0000</td>\n      <td>-0.0000</td>\n      <td>Car</td>\n      <td>1.81</td>\n      <td>10.850992</td>\n      <td>250698924</td>\n      <td>250698924</td>\n      <td>250698926</td>\n      <td>0.278040</td>\n      <td>2.410601</td>\n    </tr>\n    <tr>\n      <th>0.12</th>\n      <td>37.979841</td>\n      <td>23.733418</td>\n      <td>11.6261</td>\n      <td>-0.0000</td>\n      <td>-0.0000</td>\n      <td>Car</td>\n      <td>1.81</td>\n      <td>10.850992</td>\n      <td>250698924</td>\n      <td>250698924</td>\n      <td>250698926</td>\n      <td>0.278435</td>\n      <td>2.473078</td>\n    </tr>\n    <tr>\n      <th>0.16</th>\n      <td>37.979842</td>\n      <td>23.733417</td>\n      <td>11.6261</td>\n      <td>-0.0000</td>\n      <td>0.0000</td>\n      <td>Car</td>\n      <td>1.81</td>\n      <td>10.850992</td>\n      <td>250698924</td>\n      <td>250698924</td>\n      <td>250698926</td>\n      <td>0.279026</td>\n      <td>2.463052</td>\n    </tr>\n    <tr>\n      <th>...</th>\n      <th>...</th>\n      <td>...</td>\n      <td>...</td>\n      <td>...</td>\n      <td>...</td>\n      <td>...</td>\n      <td>...</td>\n      <td>...</td>\n      <td>...</td>\n      <td>...</td>\n      <td>...</td>\n      <td>...</td>\n      <td>...</td>\n      <td>...</td>\n    </tr>\n    <tr>\n      <th rowspan=\"5\" valign=\"top\">9</th>\n      <th>2.84</th>\n      <td>37.979802</td>\n      <td>23.733362</td>\n      <td>37.4951</td>\n      <td>0.0222</td>\n      <td>-0.0207</td>\n      <td>Car</td>\n      <td>29.88</td>\n      <td>35.851799</td>\n      <td>250698924</td>\n      <td>250698924</td>\n      <td>250698926</td>\n      <td>0.275281</td>\n      <td>-4.023750</td>\n    </tr>\n    <tr>\n      <th>2.88</th>\n      <td>37.979805</td>\n      <td>23.733359</td>\n      <td>37.4989</td>\n      <td>0.0148</td>\n      <td>-0.0195</td>\n      <td>Car</td>\n      <td>29.88</td>\n      <td>35.851799</td>\n      <td>250698924</td>\n      <td>250698924</td>\n      <td>250698926</td>\n      <td>0.277062</td>\n      <td>-4.053829</td>\n    </tr>\n    <tr>\n      <th>2.92</th>\n      <td>37.979808</td>\n      <td>23.733357</td>\n      <td>37.5021</td>\n      <td>0.0101</td>\n      <td>-0.0183</td>\n      <td>Car</td>\n      <td>29.88</td>\n      <td>35.851799</td>\n      <td>250698924</td>\n      <td>250698924</td>\n      <td>250698926</td>\n      <td>0.278619</td>\n      <td>-4.011404</td>\n    </tr>\n    <tr>\n      <th>2.96</th>\n      <td>37.979811</td>\n      <td>23.733354</td>\n      <td>37.5046</td>\n      <td>0.0022</td>\n      <td>-0.0171</td>\n      <td>Car</td>\n      <td>29.88</td>\n      <td>35.851799</td>\n      <td>250698924</td>\n      <td>250698924</td>\n      <td>250698926</td>\n      <td>0.280400</td>\n      <td>-4.041483</td>\n    </tr>\n    <tr>\n      <th>3.00</th>\n      <td>37.979814</td>\n      <td>23.733351</td>\n      <td>37.5060</td>\n      <td>-0.0096</td>\n      <td>-0.0159</td>\n      <td>Car</td>\n      <td>29.88</td>\n      <td>35.851799</td>\n      <td>250698924</td>\n      <td>250698924</td>\n      <td>250698926</td>\n      <td>0.282181</td>\n      <td>-4.071561</td>\n    </tr>\n  </tbody>\n</table>\n<p>534 rows × 13 columns</p>\n</div>"
     },
     "metadata": {},
     "execution_count": 29
    }
   ],
   "source": [
    "df.groupby(['nearest_edge_start_node', 'nearest_edge_start_node'], as_index=False, group_keys=False) \\\n",
    "    .apply(__calc_xtrack_dists, g)"
   ]
  },
  {
   "cell_type": "code",
   "execution_count": null,
   "metadata": {},
   "outputs": [],
   "source": []
  },
  {
   "cell_type": "code",
   "execution_count": null,
   "metadata": {},
   "outputs": [],
   "source": []
  }
 ],
 "metadata": {
  "kernelspec": {
   "name": "python392jvsc74a57bd072326583629048dad8c9a913f12cb6cad5a38ceace067d86c7872c2b0df37259",
   "display_name": "Python 3.9.2 64-bit ('ox': conda)"
  },
  "language_info": {
   "codemirror_mode": {
    "name": "ipython",
    "version": 3
   },
   "file_extension": ".py",
   "mimetype": "text/x-python",
   "name": "python",
   "nbconvert_exporter": "python",
   "pygments_lexer": "ipython3",
   "version": "3.9.2"
  }
 },
 "nbformat": 4,
 "nbformat_minor": 4
}