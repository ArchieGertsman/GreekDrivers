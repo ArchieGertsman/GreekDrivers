{
 "cells": [
  {
   "cell_type": "code",
   "execution_count": 3,
   "metadata": {},
   "outputs": [],
   "source": [
    "import warnings\n",
    "warnings.filterwarnings(\"ignore\", category=DeprecationWarning)"
   ]
  },
  {
   "cell_type": "code",
   "execution_count": 4,
   "metadata": {},
   "outputs": [],
   "source": [
    "import osmnx as ox\n",
    "import pandas as pd\n",
    "import numpy as np\n",
    "from Data import Data \n",
    "import networkx as nx\n",
    "from networkx import algorithms \n",
    "import math\n",
    "from numpy import arctan2, sin, cos, sqrt, radians"
   ]
  },
  {
   "cell_type": "code",
   "execution_count": 5,
   "metadata": {},
   "outputs": [
    {
     "name": "stderr",
     "output_type": "stream",
     "text": [
      "/Users/ridhaalkhabaz/opt/anaconda3/lib/python3.7/site-packages/statsmodels/tools/_testing.py:19: FutureWarning: pandas.util.testing is deprecated. Use the functions in the public API at pandas.testing instead.\n",
      "  import pandas.util.testing as tm\n"
     ]
    }
   ],
   "source": [
    "import matplotlib.pyplot as plt\n",
    "import seaborn as sns\n",
    "import random\n",
    "from sklearn.cluster import KMeans\n",
    "from sklearn.manifold import TSNE\n",
    "from sklearn.metrics import adjusted_rand_score"
   ]
  },
  {
   "cell_type": "code",
   "execution_count": 6,
   "metadata": {},
   "outputs": [],
   "source": [
    "import pydeck as pdk\n",
    "import json"
   ]
  },
  {
   "cell_type": "code",
   "execution_count": 17,
   "metadata": {},
   "outputs": [],
   "source": [
    "df = pd.read_pickle(\"Data_sample.pkl\")\n",
    "X = df.copy()\n",
    "X=df.drop(['type'], axis=1)"
   ]
  },
  {
   "cell_type": "code",
   "execution_count": 8,
   "metadata": {},
   "outputs": [
    {
     "data": {
      "text/html": [
       "<div>\n",
       "<style scoped>\n",
       "    .dataframe tbody tr th:only-of-type {\n",
       "        vertical-align: middle;\n",
       "    }\n",
       "\n",
       "    .dataframe tbody tr th {\n",
       "        vertical-align: top;\n",
       "    }\n",
       "\n",
       "    .dataframe thead th {\n",
       "        text-align: right;\n",
       "    }\n",
       "</style>\n",
       "<table border=\"1\" class=\"dataframe\">\n",
       "  <thead>\n",
       "    <tr style=\"text-align: right;\">\n",
       "      <th></th>\n",
       "      <th></th>\n",
       "      <th>lat</th>\n",
       "      <th>lon</th>\n",
       "      <th>speed</th>\n",
       "      <th>lon_acc</th>\n",
       "      <th>lat_acc</th>\n",
       "      <th>traveled_d</th>\n",
       "      <th>avg_speed</th>\n",
       "    </tr>\n",
       "    <tr>\n",
       "      <th>id</th>\n",
       "      <th>time</th>\n",
       "      <th></th>\n",
       "      <th></th>\n",
       "      <th></th>\n",
       "      <th></th>\n",
       "      <th></th>\n",
       "      <th></th>\n",
       "      <th></th>\n",
       "    </tr>\n",
       "  </thead>\n",
       "  <tbody>\n",
       "    <tr>\n",
       "      <th rowspan=\"5\" valign=\"top\">1</th>\n",
       "      <th>0.00</th>\n",
       "      <td>37.977482</td>\n",
       "      <td>23.735405</td>\n",
       "      <td>34.0206</td>\n",
       "      <td>-0.0167</td>\n",
       "      <td>0.0074</td>\n",
       "      <td>320.26</td>\n",
       "      <td>35.366264</td>\n",
       "    </tr>\n",
       "    <tr>\n",
       "      <th>0.04</th>\n",
       "      <td>37.977485</td>\n",
       "      <td>23.735402</td>\n",
       "      <td>34.0197</td>\n",
       "      <td>0.0040</td>\n",
       "      <td>0.0086</td>\n",
       "      <td>320.26</td>\n",
       "      <td>35.366264</td>\n",
       "    </tr>\n",
       "    <tr>\n",
       "      <th>0.08</th>\n",
       "      <td>37.977488</td>\n",
       "      <td>23.735400</td>\n",
       "      <td>34.0211</td>\n",
       "      <td>0.0167</td>\n",
       "      <td>0.0097</td>\n",
       "      <td>320.26</td>\n",
       "      <td>35.366264</td>\n",
       "    </tr>\n",
       "    <tr>\n",
       "      <th>0.12</th>\n",
       "      <td>37.977491</td>\n",
       "      <td>23.735398</td>\n",
       "      <td>34.0245</td>\n",
       "      <td>0.0294</td>\n",
       "      <td>0.0108</td>\n",
       "      <td>320.26</td>\n",
       "      <td>35.366264</td>\n",
       "    </tr>\n",
       "    <tr>\n",
       "      <th>0.16</th>\n",
       "      <td>37.977494</td>\n",
       "      <td>23.735395</td>\n",
       "      <td>34.0305</td>\n",
       "      <td>0.0540</td>\n",
       "      <td>0.0120</td>\n",
       "      <td>320.26</td>\n",
       "      <td>35.366264</td>\n",
       "    </tr>\n",
       "  </tbody>\n",
       "</table>\n",
       "</div>"
      ],
      "text/plain": [
       "               lat        lon    speed  lon_acc  lat_acc  traveled_d  \\\n",
       "id time                                                                \n",
       "1  0.00  37.977482  23.735405  34.0206  -0.0167   0.0074      320.26   \n",
       "   0.04  37.977485  23.735402  34.0197   0.0040   0.0086      320.26   \n",
       "   0.08  37.977488  23.735400  34.0211   0.0167   0.0097      320.26   \n",
       "   0.12  37.977491  23.735398  34.0245   0.0294   0.0108      320.26   \n",
       "   0.16  37.977494  23.735395  34.0305   0.0540   0.0120      320.26   \n",
       "\n",
       "         avg_speed  \n",
       "id time             \n",
       "1  0.00  35.366264  \n",
       "   0.04  35.366264  \n",
       "   0.08  35.366264  \n",
       "   0.12  35.366264  \n",
       "   0.16  35.366264  "
      ]
     },
     "execution_count": 8,
     "metadata": {},
     "output_type": "execute_result"
    }
   ],
   "source": [
    "X.head()"
   ]
  },
  {
   "cell_type": "code",
   "execution_count": 9,
   "metadata": {},
   "outputs": [],
   "source": [
    "graph = ox.graph_from_address('Athens, Municipality of Athens, Regional Unit of Central Athens, Attica, 10667, Greece', network_type='drive') "
   ]
  },
  {
   "cell_type": "code",
   "execution_count": 10,
   "metadata": {},
   "outputs": [
    {
     "data": {
      "image/png": "[encoded data removed]",
      "text/plain": [
       "<Figure size 432x288 with 1 Axes>"
      ]
     },
     "metadata": {
      "needs_background": "light"
     },
     "output_type": "display_data"
    }
   ],
   "source": [
    "# Perform the TSNE non-linear dimensionality reduction\n",
    "tsne = TSNE(n_components=2, perplexity=30, random_state=1000)\n",
    "data_tsne = tsne.fit_transform(X)\n",
    "\n",
    "#concatenate the projected (x,y) coordinates (df_tsne) and the original dataset (df) into the same dataset.\n",
    "df_tsne = pd.DataFrame(data_tsne, columns=['x', 'y'], index=df.index)\n",
    "dff = pd.concat([df, df_tsne], axis=1)\n",
    "\n",
    "# Plot the projected (x,y) coordinates\n",
    "sns.scatterplot(x='x', y='y', hue=\"type\", data=dff)\n",
    "plt.title(\"TSNE with perplexity is 30\")\n",
    "plt.show()"
   ]
  },
  {
   "cell_type": "code",
   "execution_count": 11,
   "metadata": {},
   "outputs": [
    {
     "data": {
      "text/html": [
       "<div>\n",
       "<style scoped>\n",
       "    .dataframe tbody tr th:only-of-type {\n",
       "        vertical-align: middle;\n",
       "    }\n",
       "\n",
       "    .dataframe tbody tr th {\n",
       "        vertical-align: top;\n",
       "    }\n",
       "\n",
       "    .dataframe thead th {\n",
       "        text-align: right;\n",
       "    }\n",
       "</style>\n",
       "<table border=\"1\" class=\"dataframe\">\n",
       "  <thead>\n",
       "    <tr style=\"text-align: right;\">\n",
       "      <th></th>\n",
       "      <th>coordinates</th>\n",
       "      <th>timestamps</th>\n",
       "    </tr>\n",
       "  </thead>\n",
       "  <tbody>\n",
       "    <tr>\n",
       "      <th>0</th>\n",
       "      <td>[[-122.39079879999997, 37.7664413], [-122.3908...</td>\n",
       "      <td>[0, 9, 54, 92, 345, 402, 462, 563, 880, 1070, ...</td>\n",
       "    </tr>\n",
       "  </tbody>\n",
       "</table>\n",
       "</div>"
      ],
      "text/plain": [
       "                                         coordinates  \\\n",
       "0  [[-122.39079879999997, 37.7664413], [-122.3908...   \n",
       "\n",
       "                                          timestamps  \n",
       "0  [0, 9, 54, 92, 345, 402, 462, 563, 880, 1070, ...  "
      ]
     },
     "execution_count": 11,
     "metadata": {},
     "output_type": "execute_result"
    }
   ],
   "source": [
    "TRIPS_LAYER_DATA = \"https://raw.githubusercontent.com/visgl/deck.gl-data/master/website/sf.trips.json\"  # noqa\n",
    "\n",
    "df = pd.read_json(TRIPS_LAYER_DATA)\n",
    "\n",
    "df[\"coordinates\"] = df[\"waypoints\"].apply(lambda f: [item[\"coordinates\"] for item in f])\n",
    "df[\"timestamps\"] = df[\"waypoints\"].apply(lambda f: [item[\"timestamp\"] - 1554772579000 for item in f])\n",
    "\n",
    "df.drop([\"waypoints\"], axis=1, inplace=True)\n",
    "df"
   ]
  },
  {
   "cell_type": "code",
   "execution_count": 12,
   "metadata": {
    "scrolled": true
   },
   "outputs": [
    {
     "data": {
      "text/html": [
       "<iframe src=\"about:blank\" frameborder=\"0\" srcdoc=\"&lt;!DOCTYPE html&gt;\n",
       "&lt;html&gt;\n",
       "  &lt;head&gt;\n",
       "    &lt;meta http-equiv=&quot;content-type&quot; content=&quot;text/html; charset=UTF-8&quot; /&gt;\n",
       "    &lt;title&gt;pydeck&lt;/title&gt;\n",
       "        &lt;script src=&quot;https://api.tiles.mapbox.com/mapbox-gl-js/v1.13.0/mapbox-gl.js&quot;&gt;&lt;/script&gt;\n",
       "        &lt;link rel=&quot;stylesheet&quot; href=&quot;https://maxcdn.bootstrapcdn.com/bootstrap/3.2.0/css/bootstrap-theme.min.css&quot; /&gt;\n",
       "    &lt;link rel=&quot;stylesheet&quot; href=&quot;https://maxcdn.bootstrapcdn.com/font-awesome/4.6.3/css/font-awesome.min.css&quot; /&gt;\n",
       "    &lt;script src=&#x27;https://cdn.jsdelivr.net/npm/@deck.gl/jupyter-widget@~8.4.*/dist/index.js&#x27;&gt;&lt;/script&gt;\n",
       "    &lt;style&gt;\n",
       "    body {\n",
       "  margin: 0;\n",
       "  padding: 0;\n",
       "  overflow: hidden;\n",
       "}\n",
       "\n",
       "#deck-map-container {\n",
       "  width: 100%;\n",
       "  height: 100%;\n",
       "  background-color: black;\n",
       "}\n",
       "\n",
       "#map {\n",
       "  pointer-events: none;\n",
       "  height: 100%;\n",
       "  width: 100%;\n",
       "  position: absolute;\n",
       "  z-index: 1;\n",
       "}\n",
       "\n",
       "#deckgl-overlay {\n",
       "  z-index: 2;\n",
       "  background: none;\n",
       "}\n",
       "\n",
       "#deck-map-wrapper {\n",
       "  width: 100%;\n",
       "  height: 100%;\n",
       "}\n",
       "\n",
       "#deck-container {\n",
       "  width: 100vw;\n",
       "  height: 100vh;\n",
       "}\n",
       "    &lt;/style&gt;\n",
       "  &lt;/head&gt;\n",
       "  &lt;body&gt;\n",
       "    &lt;div id=&quot;deck-container&quot;&gt;\n",
       "    &lt;/div&gt;\n",
       "  &lt;/body&gt;\n",
       "  &lt;script&gt;\n",
       "    const jsonInput = {&quot;initialViewState&quot;: {&quot;bearing&quot;: 0, &quot;latitude&quot;: 37.7749295, &quot;longitude&quot;: -122.4194155, &quot;pitch&quot;: 45, &quot;zoom&quot;: 11}, &quot;layers&quot;: [{&quot;@@type&quot;: &quot;TripsLayer&quot;, &quot;currentTime&quot;: 500, &quot;data&quot;: [{&quot;coordinates&quot;: [[-122.39079879999997, 37.7664413], [-122.3908298, 37.7667706], [-122.39271759999997, 37.7667484], [-122.3951341, 37.7665964], [-122.409425, 37.7779834], [-122.41318080000002, 37.7750068], [-122.41619750000001, 37.7774034], [-122.42135359999997, 37.7770974], [-122.42620490000002, 37.8010553], [-122.44484019999999, 37.7989071], [-122.4493488, 37.801993], [-122.44985459999998, 37.8024803], [-122.45090290000002, 37.8033639], [-122.45116330000002, 37.8034643], [-122.44840979999998, 37.8046164], [-122.44826899999998, 37.8045327], [-122.44827479999998, 37.8044851], [-122.44846849999999, 37.8043839], [-122.44856720000001, 37.8040182]], &quot;timestamps&quot;: [0, 9, 54, 92, 345, 402, 462, 563, 880, 1070, 1117, 1120, 1127, 1130, 1166, 1176, 1181, 1186, 1200]}], &quot;getColor&quot;: [253], &quot;getPath&quot;: &quot;@@=coordinates&quot;, &quot;getTimestamps&quot;: &quot;@@=timestamps&quot;, &quot;id&quot;: &quot;d6cfd20b-1637-45ea-a0f0-b235e4003069&quot;, &quot;opacity&quot;: 0.8, &quot;rounded&quot;: true, &quot;trailLength&quot;: 600, &quot;widthMinPixels&quot;: 5}], &quot;mapProvider&quot;: &quot;carto&quot;, &quot;mapStyle&quot;: &quot;https://basemaps.cartocdn.com/gl/dark-matter-gl-style/style.json&quot;, &quot;views&quot;: [{&quot;@@type&quot;: &quot;MapView&quot;, &quot;controller&quot;: true}]};\n",
       "    const tooltip = true;\n",
       "    const customLibraries = null;\n",
       "\n",
       "    const deckInstance = createDeck({\n",
       "                  container: document.getElementById(&#x27;deck-container&#x27;),\n",
       "      jsonInput,\n",
       "      tooltip,\n",
       "      customLibraries\n",
       "    });\n",
       "\n",
       "  &lt;/script&gt;\n",
       "&lt;/html&gt;\" width=\"100%\" height=500></iframe>"
      ],
      "text/plain": [
       "<IPython.core.display.HTML object>"
      ]
     },
     "execution_count": 12,
     "metadata": {},
     "output_type": "execute_result"
    }
   ],
   "source": [
    "layer = pdk.Layer(\n",
    "    \"TripsLayer\",\n",
    "    df,\n",
    "    get_path=\"coordinates\",\n",
    "    get_timestamps=\"timestamps\",\n",
    "    get_color=[253],\n",
    "    opacity=0.8,\n",
    "    width_min_pixels=5,\n",
    "    rounded=True,\n",
    "    trail_length=600,\n",
    "    current_time=500,\n",
    ")\n",
    "\n",
    "view_state = pdk.ViewState(latitude=37.7749295, longitude=-122.4194155, zoom=11, bearing=0, pitch=45)\n",
    "\n",
    "# Render\n",
    "r = pdk.Deck(layers=[layer], initial_view_state=view_state)\n",
    "r.to_html(\"trips_layer.html\")\n",
    "r.show()"
   ]
  },
  {
   "cell_type": "code",
   "execution_count": 13,
   "metadata": {},
   "outputs": [
    {
     "data": {
      "application/vnd.jupyter.widget-view+json": {
       "model_id": "dbf000978c12434484fc122407681e71",
       "version_major": 2,
       "version_minor": 0
      },
      "text/plain": [
       "DeckGLWidget(carto_key=None, custom_libraries=[], google_maps_key=None, json_input='{\"initialViewState\": {\"bea…"
      ]
     },
     "metadata": {},
     "output_type": "display_data"
    }
   ],
   "source": []
  },
  {
   "cell_type": "code",
   "execution_count": 18,
   "metadata": {},
   "outputs": [
    {
     "data": {
      "text/html": [
       "<div>\n",
       "<style scoped>\n",
       "    .dataframe tbody tr th:only-of-type {\n",
       "        vertical-align: middle;\n",
       "    }\n",
       "\n",
       "    .dataframe tbody tr th {\n",
       "        vertical-align: top;\n",
       "    }\n",
       "\n",
       "    .dataframe thead th {\n",
       "        text-align: right;\n",
       "    }\n",
       "</style>\n",
       "<table border=\"1\" class=\"dataframe\">\n",
       "  <thead>\n",
       "    <tr style=\"text-align: right;\">\n",
       "      <th></th>\n",
       "      <th>coordinates</th>\n",
       "      <th>timestamps</th>\n",
       "    </tr>\n",
       "  </thead>\n",
       "  <tbody>\n",
       "    <tr>\n",
       "      <th>0</th>\n",
       "      <td>[[23.735405, 37.977482], [23.735402, 37.977485...</td>\n",
       "      <td>[0, 4, 8, 12, 16, 20, 24, 28, 32, 36, 40, 44, ...</td>\n",
       "    </tr>\n",
       "  </tbody>\n",
       "</table>\n",
       "</div>"
      ],
      "text/plain": [
       "                                         coordinates  \\\n",
       "0  [[23.735405, 37.977482], [23.735402, 37.977485...   \n",
       "\n",
       "                                          timestamps  \n",
       "0  [0, 4, 8, 12, 16, 20, 24, 28, 32, 36, 40, 44, ...  "
      ]
     },
     "execution_count": 18,
     "metadata": {},
     "output_type": "execute_result"
    }
   ],
   "source": [
    "coordinates = [[i, j] for i,j in zip(df[df['type']=='Taxi']['lon'], df[df['type']=='Taxi']['lat'])]\n",
    "dfx = pd.DataFrame({\"coordinates\": [coordinates], \"timestamps\" : [np.arange(0,3200,4).tolist()]})\n",
    "dfx"
   ]
  },
  {
   "cell_type": "code",
   "execution_count": 28,
   "metadata": {},
   "outputs": [],
   "source": [
    "layer = pdk.Layer(\n",
    "    \"TripsLayer\",\n",
    "    dfx,\n",
    "    get_path=\"coordinates\",\n",
    "    get_timestamps=\"timestamps\",\n",
    "    get_color=[253],\n",
    "    opacity=0.8,\n",
    "    width_min_pixels=5,\n",
    "    rounded=True,\n",
    "    trail_length=600,\n",
    "    current_time=500,\n",
    ")\n",
    "view_state = pdk.ViewState(latitude=37.977482, longitude=23.735405, zoom=15, bearing=0, pitch=45)"
   ]
  },
  {
   "cell_type": "code",
   "execution_count": 33,
   "metadata": {},
   "outputs": [
    {
     "data": {
      "text/html": [
       "<iframe src=\"about:blank\" frameborder=\"0\" srcdoc=\"&lt;!DOCTYPE html&gt;\n",
       "&lt;html&gt;\n",
       "  &lt;head&gt;\n",
       "    &lt;meta http-equiv=&quot;content-type&quot; content=&quot;text/html; charset=UTF-8&quot; /&gt;\n",
       "    &lt;title&gt;pydeck&lt;/title&gt;\n",
       "        &lt;script src=&quot;https://api.tiles.mapbox.com/mapbox-gl-js/v1.13.0/mapbox-gl.js&quot;&gt;&lt;/script&gt;\n",
       "        &lt;link rel=&quot;stylesheet&quot; href=&quot;https://maxcdn.bootstrapcdn.com/bootstrap/3.2.0/css/bootstrap-theme.min.css&quot; /&gt;\n",
       "    &lt;link rel=&quot;stylesheet&quot; href=&quot;https://maxcdn.bootstrapcdn.com/font-awesome/4.6.3/css/font-awesome.min.css&quot; /&gt;\n",
       "    &lt;script src=&#x27;https://cdn.jsdelivr.net/npm/@deck.gl/jupyter-widget@~8.4.*/dist/index.js&#x27;&gt;&lt;/script&gt;\n",
       "    &lt;style&gt;\n",
       "    body {\n",
       "  margin: 0;\n",
       "  padding: 0;\n",
       "  overflow: hidden;\n",
       "}\n",
       "\n",
       "#deck-map-container {\n",
       "  width: 100%;\n",
       "  height: 100%;\n",
       "  background-color: black;\n",
       "}\n",
       "\n",
       "#map {\n",
       "  pointer-events: none;\n",
       "  height: 100%;\n",
       "  width: 100%;\n",
       "  position: absolute;\n",
       "  z-index: 1;\n",
       "}\n",
       "\n",
       "#deckgl-overlay {\n",
       "  z-index: 2;\n",
       "  background: none;\n",
       "}\n",
       "\n",
       "#deck-map-wrapper {\n",
       "  width: 100%;\n",
       "  height: 100%;\n",
       "}\n",
       "\n",
       "#deck-container {\n",
       "  width: 100vw;\n",
       "  height: 100vh;\n",
       "}\n",
       "    &lt;/style&gt;\n",
       "  &lt;/head&gt;\n",
       "  &lt;body&gt;\n",
       "    &lt;div id=&quot;deck-container&quot;&gt;\n",
       "    &lt;/div&gt;\n",
       "  &lt;/body&gt;\n",
       "  &lt;script&gt;\n",
       "    const jsonInput = {&quot;initialViewState&quot;: {&quot;bearing&quot;: 0, &quot;latitude&quot;: 37.977482, &quot;longitude&quot;: 23.735405, &quot;pitch&quot;: 45, &quot;zoom&quot;: 15}, &quot;layers&quot;: [{&quot;@@type&quot;: &quot;TripsLayer&quot;, &quot;currentTime&quot;: 500, &quot;data&quot;: [{&quot;coordinates&quot;: [[23.735405, 37.977482], [23.735402, 37.977485], [23.7354, 37.977488], [23.735398, 37.977491], [23.735395, 37.977494], [23.735393, 37.977496], [23.73539, 37.977499], [23.735388, 37.977502], [23.735386, 37.977505], [23.735383, 37.977508], [23.735381, 37.977511], [23.735379, 37.977513], [23.735376, 37.977516], [23.735374, 37.977519], [23.735371, 37.977522], [23.735369, 37.977525], [23.735367, 37.977528], [23.735364, 37.97753], [23.735362, 37.977533], [23.73536, 37.977536], [23.735357, 37.977539], [23.735355, 37.977542], [23.735352, 37.977545], [23.73535, 37.977548], [23.735348, 37.977551], [23.735345, 37.977553], [23.735343, 37.977556], [23.73534, 37.977559], [23.735338, 37.977562], [23.735336, 37.977565], [23.735333, 37.977568], [23.735331, 37.977571], [23.735328, 37.977574], [23.735326, 37.977577], [23.735323, 37.97758], [23.735321, 37.977583], [23.735318, 37.977586], [23.735316, 37.977588], [23.735313, 37.977591], [23.735311, 37.977594], [23.735309, 37.977597], [23.735306, 37.9776], [23.735304, 37.977603], [23.735301, 37.977606], [23.735299, 37.977609], [23.735296, 37.977612], [23.735294, 37.977615], [23.735291, 37.977618], [23.735289, 37.977621], [23.735286, 37.977624], [23.735284, 37.977627], [23.735281, 37.97763], [23.735279, 37.977632], [23.735276, 37.977635], [23.735274, 37.977638], [23.735271, 37.977641], [23.735268, 37.977644], [23.735266, 37.977647], [23.735263, 37.97765], [23.735261, 37.977653], [23.735258, 37.977656], [23.735256, 37.977659], [23.735253, 37.977662], [23.735251, 37.977664], [23.735248, 37.977667], [23.735246, 37.97767], [23.735243, 37.977673], [23.73524, 37.977676], [23.735238, 37.977679], [23.735235, 37.977682], [23.735233, 37.977685], [23.73523, 37.977688], [23.735228, 37.977691], [23.735225, 37.977694], [23.735223, 37.977696], [23.73522, 37.977699], [23.735218, 37.977702], [23.735215, 37.977705], [23.735213, 37.977708], [23.73521, 37.977711], [23.735208, 37.977714], [23.735206, 37.977717], [23.735203, 37.977719], [23.735201, 37.977722], [23.735198, 37.977725], [23.735196, 37.977728], [23.735194, 37.977731], [23.735191, 37.977734], [23.735189, 37.977737], [23.735186, 37.97774], [23.735184, 37.977742], [23.735182, 37.977745], [23.735179, 37.977748], [23.735177, 37.977751], [23.735175, 37.977754], [23.735172, 37.977757], [23.73517, 37.97776], [23.735167, 37.977763], [23.735165, 37.977766], [23.735163, 37.977769], [23.73516, 37.977771], [23.735158, 37.977774], [23.735155, 37.977777], [23.735153, 37.97778], [23.73515, 37.977783], [23.735148, 37.977786], [23.735145, 37.977789], [23.735143, 37.977792], [23.73514, 37.977795], [23.735138, 37.977798], [23.735135, 37.977801], [23.735133, 37.977804], [23.73513, 37.977807], [23.735128, 37.97781], [23.735125, 37.977813], [23.735123, 37.977816], [23.73512, 37.977819], [23.735118, 37.977822], [23.735115, 37.977825], [23.735113, 37.977828], [23.73511, 37.977831], [23.735108, 37.977834], [23.735105, 37.977837], [23.735103, 37.97784], [23.7351, 37.977843], [23.735098, 37.977846], [23.735095, 37.977849], [23.735093, 37.977852], [23.73509, 37.977855], [23.735088, 37.977858], [23.735086, 37.977861], [23.735083, 37.977864], [23.735081, 37.977867], [23.735078, 37.97787], [23.735076, 37.977873], [23.735073, 37.977875], [23.735071, 37.977878], [23.735068, 37.977881], [23.735066, 37.977884], [23.735063, 37.977887], [23.735061, 37.97789], [23.735058, 37.977893], [23.735056, 37.977896], [23.735053, 37.977899], [23.735051, 37.977902], [23.735048, 37.977905], [23.735046, 37.977907], [23.735043, 37.97791], [23.735041, 37.977913], [23.735038, 37.977916], [23.735036, 37.977919], [23.735033, 37.977922], [23.735031, 37.977925], [23.735028, 37.977927], [23.735026, 37.97793], [23.735023, 37.977933], [23.735021, 37.977936], [23.735018, 37.977939], [23.735016, 37.977942], [23.735013, 37.977944], [23.735011, 37.977947], [23.735008, 37.97795], [23.735006, 37.977953], [23.735003, 37.977956], [23.735001, 37.977958], [23.734998, 37.977961], [23.734996, 37.977964], [23.734994, 37.977967], [23.734991, 37.97797], [23.734989, 37.977972], [23.734986, 37.977975], [23.734984, 37.977978], [23.734981, 37.977981], [23.734979, 37.977983], [23.734977, 37.977986], [23.734974, 37.977989], [23.734972, 37.977991], [23.734969, 37.977994], [23.734967, 37.977997], [23.734965, 37.977999], [23.734962, 37.978002], [23.73496, 37.978005], [23.734958, 37.978007], [23.734955, 37.97801], [23.734953, 37.978013], [23.734951, 37.978015], [23.734948, 37.978018], [23.734946, 37.978021], [23.734944, 37.978023], [23.734941, 37.978026], [23.734939, 37.978028], [23.734937, 37.978031], [23.734935, 37.978034], [23.734932, 37.978036], [23.73493, 37.978039], [23.734928, 37.978041], [23.734925, 37.978044], [23.734923, 37.978047], [23.734921, 37.978049], [23.734918, 37.978052], [23.734916, 37.978054], [23.734914, 37.978057], [23.734912, 37.978059], [23.734909, 37.978062], [23.734907, 37.978065], [23.734905, 37.978067], [23.734902, 37.97807], [23.7349, 37.978072], [23.734898, 37.978075], [23.734896, 37.978077], [23.734893, 37.97808], [23.734891, 37.978082], [23.734889, 37.978085], [23.734887, 37.978087], [23.734884, 37.97809], [23.734882, 37.978092], [23.73488, 37.978095], [23.734878, 37.978097], [23.734875, 37.9781], [23.734873, 37.978102], [23.734871, 37.978105], [23.734869, 37.978107], [23.734866, 37.97811], [23.734864, 37.978113], [23.734862, 37.978115], [23.734859, 37.978118], [23.734857, 37.97812], [23.734855, 37.978123], [23.734853, 37.978125], [23.73485, 37.978128], [23.734848, 37.978131], [23.734846, 37.978133], [23.734843, 37.978136], [23.734841, 37.978139], [23.734839, 37.978141], [23.734836, 37.978144], [23.734834, 37.978146], [23.734832, 37.978149], [23.734829, 37.978152], [23.734827, 37.978154], [23.734825, 37.978157], [23.734822, 37.97816], [23.73482, 37.978162], [23.734818, 37.978165], [23.734816, 37.978168], [23.734813, 37.97817], [23.734811, 37.978173], [23.734809, 37.978176], [23.734806, 37.978178], [23.734804, 37.978181], [23.734802, 37.978184], [23.734799, 37.978186], [23.734797, 37.978189], [23.734795, 37.978192], [23.734792, 37.978194], [23.73479, 37.978197], [23.734788, 37.9782], [23.734785, 37.978202], [23.734783, 37.978205], [23.734781, 37.978208], [23.734779, 37.97821], [23.734776, 37.978213], [23.734774, 37.978216], [23.734772, 37.978218], [23.734769, 37.978221], [23.734767, 37.978224], [23.734765, 37.978226], [23.734762, 37.978229], [23.73476, 37.978232], [23.734758, 37.978235], [23.734755, 37.978237], [23.734753, 37.97824], [23.734751, 37.978243], [23.734748, 37.978245], [23.734746, 37.978248], [23.734744, 37.978251], [23.734741, 37.978253], [23.734739, 37.978256], [23.734737, 37.978259], [23.734734, 37.978261], [23.734732, 37.978264], [23.734729, 37.978267], [23.734727, 37.97827], [23.734725, 37.978272], [23.734722, 37.978275], [23.73472, 37.978278], [23.734718, 37.97828], [23.734715, 37.978283], [23.734713, 37.978286], [23.734711, 37.978288], [23.734708, 37.978291], [23.734706, 37.978294], [23.734703, 37.978297], [23.734701, 37.978299], [23.734699, 37.978302], [23.734696, 37.978305], [23.734694, 37.978308], [23.734691, 37.97831], [23.734689, 37.978313], [23.734686, 37.978316], [23.734684, 37.978319], [23.734682, 37.978322], [23.734679, 37.978325], [23.734677, 37.978328], [23.734674, 37.97833], [23.734672, 37.978333], [23.734669, 37.978336], [23.734667, 37.978339], [23.734664, 37.978342], [23.734662, 37.978345], [23.734659, 37.978348], [23.734656, 37.978351], [23.734654, 37.978354], [23.734651, 37.978357], [23.734649, 37.97836], [23.734646, 37.978363], [23.734644, 37.978366], [23.734641, 37.978369], [23.734639, 37.978372], [23.734636, 37.978375], [23.734634, 37.978378], [23.734631, 37.978381], [23.734629, 37.978384], [23.734626, 37.978387], [23.734624, 37.97839], [23.734621, 37.978393], [23.734619, 37.978396], [23.734616, 37.978399], [23.734614, 37.978402], [23.734611, 37.978405], [23.734609, 37.978408], [23.734606, 37.978411], [23.734604, 37.978414], [23.734601, 37.978417], [23.734599, 37.97842], [23.734596, 37.978423], [23.734594, 37.978426], [23.734591, 37.978429], [23.734589, 37.978431], [23.734586, 37.978434], [23.734584, 37.978437], [23.734581, 37.97844], [23.734579, 37.978443], [23.734576, 37.978446], [23.734574, 37.978449], [23.734571, 37.978452], [23.734569, 37.978455], [23.734566, 37.978458], [23.734564, 37.978461], [23.734561, 37.978464], [23.734558, 37.978467], [23.734556, 37.97847], [23.734553, 37.978473], [23.734551, 37.978476], [23.734548, 37.978479], [23.734546, 37.978482], [23.734543, 37.978485], [23.73454, 37.978488], [23.734538, 37.978491], [23.734535, 37.978494], [23.734533, 37.978497], [23.73453, 37.9785], [23.734528, 37.978502], [23.734525, 37.978505], [23.734522, 37.978508], [23.73452, 37.978511], [23.734517, 37.978514], [23.734514, 37.978517], [23.734512, 37.97852], [23.734509, 37.978523], [23.734507, 37.978527], [23.734504, 37.97853], [23.734501, 37.978533], [23.734499, 37.978536], [23.734496, 37.978539], [23.734493, 37.978542], [23.73449, 37.978545], [23.734488, 37.978548], [23.734485, 37.978552], [23.734482, 37.978555], [23.734479, 37.978558], [23.734477, 37.978561], [23.734474, 37.978565], [23.734471, 37.978568], [23.734468, 37.978571], [23.734465, 37.978575], [23.734463, 37.978578], [23.73446, 37.978581], [23.734457, 37.978585], [23.734454, 37.978588], [23.734451, 37.978591], [23.734448, 37.978595], [23.734446, 37.978598], [23.734443, 37.978601], [23.73444, 37.978605], [23.734437, 37.978608], [23.734434, 37.978612], [23.734431, 37.978615], [23.734428, 37.978618], [23.734426, 37.978622], [23.734423, 37.978625], [23.73442, 37.978629], [23.734417, 37.978632], [23.734414, 37.978636], [23.734411, 37.978639], [23.734408, 37.978643], [23.734405, 37.978646], [23.734403, 37.97865], [23.7344, 37.978653], [23.734397, 37.978657], [23.734394, 37.97866], [23.734391, 37.978664], [23.734388, 37.978667], [23.734385, 37.978671], [23.734382, 37.978674], [23.734379, 37.978678], [23.734376, 37.978681], [23.734373, 37.978685], [23.73437, 37.978688], [23.734368, 37.978692], [23.734365, 37.978696], [23.734362, 37.978699], [23.734359, 37.978703], [23.734356, 37.978706], [23.734353, 37.97871], [23.73435, 37.978713], [23.734347, 37.978717], [23.734344, 37.97872], [23.734341, 37.978724], [23.734339, 37.978727], [23.734336, 37.978731], [23.734333, 37.978734], [23.73433, 37.978738], [23.734327, 37.978741], [23.734324, 37.978745], [23.734321, 37.978748], [23.734318, 37.978751], [23.734316, 37.978755], [23.734313, 37.978758], [23.73431, 37.978762], [23.734307, 37.978765], [23.734304, 37.978769], [23.734301, 37.978772], [23.734298, 37.978776], [23.734295, 37.978779], [23.734293, 37.978783], [23.73429, 37.978786], [23.734287, 37.978789], [23.734284, 37.978793], [23.734281, 37.978796], [23.734278, 37.9788], [23.734275, 37.978803], [23.734272, 37.978807], [23.734269, 37.97881], [23.734266, 37.978813], [23.734263, 37.978817], [23.734261, 37.97882], [23.734258, 37.978824], [23.734255, 37.978827], [23.734252, 37.97883], [23.734249, 37.978834], [23.734246, 37.978837], [23.734243, 37.97884], [23.73424, 37.978844], [23.734237, 37.978847], [23.734234, 37.978851], [23.734231, 37.978854], [23.734229, 37.978857], [23.734226, 37.978861], [23.734223, 37.978864], [23.73422, 37.978868], [23.734217, 37.978871], [23.734214, 37.978874], [23.734211, 37.978878], [23.734208, 37.978881], [23.734206, 37.978885], [23.734203, 37.978888], [23.7342, 37.978892], [23.734197, 37.978895], [23.734194, 37.978899], [23.734192, 37.978902], [23.734189, 37.978906], [23.734186, 37.978909], [23.734183, 37.978912], [23.734181, 37.978916], [23.734178, 37.978919], [23.734175, 37.978923], [23.734172, 37.978926], [23.73417, 37.97893], [23.734167, 37.978933], [23.734164, 37.978937], [23.734161, 37.97894], [23.734159, 37.978944], [23.734156, 37.978947], [23.734153, 37.978951], [23.73415, 37.978954], [23.734148, 37.978958], [23.734145, 37.978961], [23.734142, 37.978965], [23.734139, 37.978969], [23.734137, 37.978972], [23.734134, 37.978976], [23.734131, 37.978979], [23.734128, 37.978983], [23.734126, 37.978986], [23.734123, 37.97899], [23.73412, 37.978993], [23.734117, 37.978997], [23.734114, 37.979], [23.734111, 37.979004], [23.734109, 37.979007], [23.734106, 37.979011], [23.734103, 37.979014], [23.7341, 37.979018], [23.734097, 37.979021], [23.734094, 37.979025], [23.734091, 37.979029], [23.734089, 37.979032], [23.734086, 37.979036], [23.734083, 37.979039], [23.73408, 37.979043], [23.734077, 37.979046], [23.734074, 37.97905], [23.734071, 37.979054], [23.734068, 37.979057], [23.734065, 37.979061], [23.734062, 37.979064], [23.734059, 37.979068], [23.734056, 37.979072], [23.734053, 37.979075], [23.73405, 37.979079], [23.734047, 37.979083], [23.734044, 37.979087], [23.734041, 37.97909], [23.734038, 37.979094], [23.734035, 37.979098], [23.734032, 37.979101], [23.734029, 37.979105], [23.734026, 37.979109], [23.734023, 37.979113], [23.73402, 37.979116], [23.734016, 37.97912], [23.734013, 37.979124], [23.73401, 37.979128], [23.734007, 37.979131], [23.734004, 37.979135], [23.734001, 37.979139], [23.733998, 37.979143], [23.733995, 37.979146], [23.733992, 37.97915], [23.733989, 37.979154], [23.733986, 37.979157], [23.733983, 37.979161], [23.73398, 37.979165], [23.733977, 37.979169], [23.733974, 37.979172], [23.733972, 37.979176], [23.733969, 37.97918], [23.733966, 37.979183], [23.733963, 37.979187], [23.73396, 37.979191], [23.733957, 37.979195], [23.733954, 37.979198], [23.733951, 37.979202], [23.733948, 37.979206], [23.733945, 37.979209], [23.733942, 37.979213], [23.733939, 37.979217], [23.733937, 37.97922], [23.733934, 37.979224], [23.733931, 37.979227], [23.733928, 37.979231], [23.733925, 37.979235], [23.733922, 37.979238], [23.73392, 37.979242], [23.733917, 37.979245], [23.733914, 37.979249], [23.733911, 37.979252], [23.733908, 37.979256], [23.733906, 37.979259], [23.733903, 37.979263], [23.7339, 37.979266], [23.733897, 37.97927], [23.733895, 37.979273], [23.733892, 37.979276], [23.733889, 37.97928], [23.733887, 37.979283], [23.733884, 37.979286], [23.733881, 37.97929], [23.733879, 37.979293], [23.733876, 37.979297], [23.733873, 37.9793], [23.73387, 37.979303], [23.733868, 37.979306], [23.733865, 37.97931], [23.733862, 37.979313], [23.73386, 37.979316], [23.733857, 37.97932], [23.733854, 37.979323], [23.733852, 37.979326], [23.733849, 37.97933], [23.733846, 37.979333], [23.733843, 37.979336], [23.733841, 37.979339], [23.733838, 37.979343], [23.733835, 37.979346], [23.733833, 37.979349], [23.73383, 37.979353], [23.733827, 37.979356], [23.733824, 37.979359], [23.733822, 37.979362], [23.733819, 37.979366], [23.733816, 37.979369], [23.733814, 37.979372], [23.733811, 37.979376], [23.733808, 37.979379], [23.733806, 37.979382], [23.733803, 37.979385], [23.7338, 37.979388], [23.733798, 37.979392], [23.733795, 37.979395], [23.733792, 37.979398], [23.73379, 37.979401], [23.733787, 37.979404], [23.733784, 37.979408], [23.733782, 37.979411], [23.733779, 37.979414], [23.733777, 37.979417], [23.733774, 37.97942], [23.733772, 37.979423], [23.733769, 37.979426], [23.733767, 37.979429], [23.733764, 37.979433], [23.733762, 37.979436], [23.733759, 37.979439], [23.733757, 37.979442], [23.733754, 37.979445], [23.733752, 37.979448], [23.73375, 37.979451], [23.733747, 37.979454], [23.733745, 37.979457], [23.733742, 37.97946], [23.73374, 37.979463], [23.733737, 37.979466], [23.733735, 37.979469], [23.733733, 37.979472], [23.73373, 37.979475], [23.733728, 37.979478], [23.733726, 37.979481], [23.733723, 37.979484], [23.733721, 37.979487], [23.733719, 37.97949], [23.733716, 37.979493], [23.733714, 37.979496], [23.733712, 37.979499], [23.733709, 37.979502], [23.733707, 37.979505], [23.733705, 37.979508], [23.733702, 37.979511], [23.7337, 37.979514], [23.733698, 37.979517], [23.733695, 37.97952], [23.733693, 37.979522], [23.733691, 37.979525], [23.733689, 37.979528], [23.733686, 37.979531], [23.733684, 37.979534], [23.733682, 37.979537], [23.73368, 37.97954], [23.733677, 37.979543], [23.733675, 37.979545], [23.733673, 37.979548], [23.733671, 37.979551], [23.733668, 37.979554], [23.733666, 37.979557], [23.733664, 37.97956], [23.733662, 37.979562], [23.733659, 37.979565], [23.733657, 37.979568], [23.733655, 37.979571], [23.733653, 37.979573], [23.733651, 37.979576], [23.733648, 37.979579], [23.733646, 37.979582], [23.733644, 37.979584], [23.733642, 37.979587], [23.73364, 37.97959], [23.733637, 37.979593], [23.733635, 37.979595], [23.733633, 37.979598], [23.733631, 37.979601], [23.733629, 37.979603], [23.733626, 37.979606], [23.733624, 37.979609], [23.733622, 37.979612], [23.73362, 37.979614], [23.733618, 37.979617], [23.733616, 37.979619], [23.733613, 37.979622], [23.733611, 37.979625], [23.733609, 37.979627], [23.733607, 37.97963], [23.733605, 37.979633], [23.733603, 37.979635], [23.733601, 37.979638], [23.733599, 37.97964], [23.733596, 37.979643], [23.733594, 37.979646], [23.733592, 37.979648], [23.73359, 37.979651], [23.733588, 37.979653], [23.733586, 37.979656], [23.733584, 37.979658], [23.733582, 37.979661], [23.73358, 37.979663], [23.733578, 37.979666], [23.733576, 37.979668], [23.733573, 37.979671], [23.733571, 37.979673], [23.733569, 37.979676], [23.733567, 37.979678], [23.733565, 37.979681], [23.733563, 37.979683], [23.733561, 37.979686], [23.733559, 37.979688], [23.733557, 37.979691], [23.733555, 37.979693], [23.733553, 37.979695], [23.733551, 37.979698], [23.733549, 37.9797], [23.733548, 37.979703], [23.733546, 37.979705], [23.733544, 37.979707], [23.733542, 37.97971], [23.73354, 37.979712], [23.733538, 37.979715], [23.733536, 37.979717], [23.733534, 37.979719], [23.733532, 37.979722], [23.73353, 37.979724], [23.733528, 37.979726], [23.733527, 37.979728], [23.733525, 37.979731], [23.733523, 37.979733], [23.733521, 37.979735], [23.733519, 37.979738], [23.733517, 37.97974], [23.733515, 37.979742], [23.733513, 37.979744], [23.733511, 37.979747], [23.73351, 37.979749], [23.733508, 37.979751], [23.733506, 37.979753], [23.733504, 37.979756], [23.733502, 37.979758], [23.7335, 37.97976], [23.733498, 37.979762], [23.733497, 37.979764], [23.733495, 37.979767], [23.733493, 37.979769], [23.733491, 37.979771], [23.733489, 37.979773], [23.733487, 37.979775], [23.733486, 37.979777], [23.733484, 37.979779], [23.733482, 37.979782], [23.73348, 37.979784], [23.733478, 37.979786], [23.733476, 37.979788], [23.733475, 37.97979], [23.733473, 37.979792], [23.733471, 37.979794], [23.733469, 37.979797], [23.733467, 37.979799], [23.733465, 37.979801], [23.733464, 37.979803], [23.733462, 37.979805], [23.73346, 37.979807], [23.733458, 37.979809], [23.733456, 37.979812], [23.733454, 37.979814], [23.733453, 37.979816], [23.733451, 37.979818], [23.733449, 37.97982], [23.733447, 37.979822], [23.733445, 37.979825], [23.733444, 37.979827], [23.733442, 37.979829], [23.73344, 37.979831], [23.733438, 37.979833], [23.733436, 37.979835], [23.733435, 37.979837], [23.733433, 37.97984], [23.733431, 37.979842], [23.733429, 37.979844], [23.733427, 37.979846], [23.733425, 37.979848], [23.733423, 37.97985], [23.733422, 37.979852], [23.73342, 37.979854], [23.733418, 37.979857], [23.733416, 37.979859], [23.733414, 37.979861], [23.733412, 37.979863], [23.73341, 37.979865], [23.733408, 37.979867], [23.733407, 37.979869], [23.733405, 37.979871], [23.733403, 37.979873], [23.733401, 37.979875], [23.733399, 37.979878], [23.733397, 37.97988], [23.733395, 37.979882], [23.733393, 37.979884], [23.733391, 37.979886], [23.733389, 37.979888]], &quot;timestamps&quot;: [0, 4, 8, 12, 16, 20, 24, 28, 32, 36, 40, 44, 48, 52, 56, 60, 64, 68, 72, 76, 80, 84, 88, 92, 96, 100, 104, 108, 112, 116, 120, 124, 128, 132, 136, 140, 144, 148, 152, 156, 160, 164, 168, 172, 176, 180, 184, 188, 192, 196, 200, 204, 208, 212, 216, 220, 224, 228, 232, 236, 240, 244, 248, 252, 256, 260, 264, 268, 272, 276, 280, 284, 288, 292, 296, 300, 304, 308, 312, 316, 320, 324, 328, 332, 336, 340, 344, 348, 352, 356, 360, 364, 368, 372, 376, 380, 384, 388, 392, 396, 400, 404, 408, 412, 416, 420, 424, 428, 432, 436, 440, 444, 448, 452, 456, 460, 464, 468, 472, 476, 480, 484, 488, 492, 496, 500, 504, 508, 512, 516, 520, 524, 528, 532, 536, 540, 544, 548, 552, 556, 560, 564, 568, 572, 576, 580, 584, 588, 592, 596, 600, 604, 608, 612, 616, 620, 624, 628, 632, 636, 640, 644, 648, 652, 656, 660, 664, 668, 672, 676, 680, 684, 688, 692, 696, 700, 704, 708, 712, 716, 720, 724, 728, 732, 736, 740, 744, 748, 752, 756, 760, 764, 768, 772, 776, 780, 784, 788, 792, 796, 800, 804, 808, 812, 816, 820, 824, 828, 832, 836, 840, 844, 848, 852, 856, 860, 864, 868, 872, 876, 880, 884, 888, 892, 896, 900, 904, 908, 912, 916, 920, 924, 928, 932, 936, 940, 944, 948, 952, 956, 960, 964, 968, 972, 976, 980, 984, 988, 992, 996, 1000, 1004, 1008, 1012, 1016, 1020, 1024, 1028, 1032, 1036, 1040, 1044, 1048, 1052, 1056, 1060, 1064, 1068, 1072, 1076, 1080, 1084, 1088, 1092, 1096, 1100, 1104, 1108, 1112, 1116, 1120, 1124, 1128, 1132, 1136, 1140, 1144, 1148, 1152, 1156, 1160, 1164, 1168, 1172, 1176, 1180, 1184, 1188, 1192, 1196, 1200, 1204, 1208, 1212, 1216, 1220, 1224, 1228, 1232, 1236, 1240, 1244, 1248, 1252, 1256, 1260, 1264, 1268, 1272, 1276, 1280, 1284, 1288, 1292, 1296, 1300, 1304, 1308, 1312, 1316, 1320, 1324, 1328, 1332, 1336, 1340, 1344, 1348, 1352, 1356, 1360, 1364, 1368, 1372, 1376, 1380, 1384, 1388, 1392, 1396, 1400, 1404, 1408, 1412, 1416, 1420, 1424, 1428, 1432, 1436, 1440, 1444, 1448, 1452, 1456, 1460, 1464, 1468, 1472, 1476, 1480, 1484, 1488, 1492, 1496, 1500, 1504, 1508, 1512, 1516, 1520, 1524, 1528, 1532, 1536, 1540, 1544, 1548, 1552, 1556, 1560, 1564, 1568, 1572, 1576, 1580, 1584, 1588, 1592, 1596, 1600, 1604, 1608, 1612, 1616, 1620, 1624, 1628, 1632, 1636, 1640, 1644, 1648, 1652, 1656, 1660, 1664, 1668, 1672, 1676, 1680, 1684, 1688, 1692, 1696, 1700, 1704, 1708, 1712, 1716, 1720, 1724, 1728, 1732, 1736, 1740, 1744, 1748, 1752, 1756, 1760, 1764, 1768, 1772, 1776, 1780, 1784, 1788, 1792, 1796, 1800, 1804, 1808, 1812, 1816, 1820, 1824, 1828, 1832, 1836, 1840, 1844, 1848, 1852, 1856, 1860, 1864, 1868, 1872, 1876, 1880, 1884, 1888, 1892, 1896, 1900, 1904, 1908, 1912, 1916, 1920, 1924, 1928, 1932, 1936, 1940, 1944, 1948, 1952, 1956, 1960, 1964, 1968, 1972, 1976, 1980, 1984, 1988, 1992, 1996, 2000, 2004, 2008, 2012, 2016, 2020, 2024, 2028, 2032, 2036, 2040, 2044, 2048, 2052, 2056, 2060, 2064, 2068, 2072, 2076, 2080, 2084, 2088, 2092, 2096, 2100, 2104, 2108, 2112, 2116, 2120, 2124, 2128, 2132, 2136, 2140, 2144, 2148, 2152, 2156, 2160, 2164, 2168, 2172, 2176, 2180, 2184, 2188, 2192, 2196, 2200, 2204, 2208, 2212, 2216, 2220, 2224, 2228, 2232, 2236, 2240, 2244, 2248, 2252, 2256, 2260, 2264, 2268, 2272, 2276, 2280, 2284, 2288, 2292, 2296, 2300, 2304, 2308, 2312, 2316, 2320, 2324, 2328, 2332, 2336, 2340, 2344, 2348, 2352, 2356, 2360, 2364, 2368, 2372, 2376, 2380, 2384, 2388, 2392, 2396, 2400, 2404, 2408, 2412, 2416, 2420, 2424, 2428, 2432, 2436, 2440, 2444, 2448, 2452, 2456, 2460, 2464, 2468, 2472, 2476, 2480, 2484, 2488, 2492, 2496, 2500, 2504, 2508, 2512, 2516, 2520, 2524, 2528, 2532, 2536, 2540, 2544, 2548, 2552, 2556, 2560, 2564, 2568, 2572, 2576, 2580, 2584, 2588, 2592, 2596, 2600, 2604, 2608, 2612, 2616, 2620, 2624, 2628, 2632, 2636, 2640, 2644, 2648, 2652, 2656, 2660, 2664, 2668, 2672, 2676, 2680, 2684, 2688, 2692, 2696, 2700, 2704, 2708, 2712, 2716, 2720, 2724, 2728, 2732, 2736, 2740, 2744, 2748, 2752, 2756, 2760, 2764, 2768, 2772, 2776, 2780, 2784, 2788, 2792, 2796, 2800, 2804, 2808, 2812, 2816, 2820, 2824, 2828, 2832, 2836, 2840, 2844, 2848, 2852, 2856, 2860, 2864, 2868, 2872, 2876, 2880, 2884, 2888, 2892, 2896, 2900, 2904, 2908, 2912, 2916, 2920, 2924, 2928, 2932, 2936, 2940, 2944, 2948, 2952, 2956, 2960, 2964, 2968, 2972, 2976, 2980, 2984, 2988, 2992, 2996, 3000, 3004, 3008, 3012, 3016, 3020, 3024, 3028, 3032, 3036, 3040, 3044, 3048, 3052, 3056, 3060, 3064, 3068, 3072, 3076, 3080, 3084, 3088, 3092, 3096, 3100, 3104, 3108, 3112, 3116, 3120, 3124, 3128, 3132, 3136, 3140, 3144, 3148, 3152, 3156, 3160, 3164, 3168, 3172, 3176, 3180, 3184, 3188, 3192, 3196]}], &quot;getColor&quot;: [253], &quot;getPath&quot;: &quot;@@=coordinates&quot;, &quot;getTimestamps&quot;: &quot;@@=timestamps&quot;, &quot;id&quot;: &quot;ab7b87a3-ea4e-4630-ac38-3e3bfe531000&quot;, &quot;opacity&quot;: 0.8, &quot;rounded&quot;: true, &quot;trailLength&quot;: 600, &quot;widthMinPixels&quot;: 5}], &quot;mapProvider&quot;: &quot;carto&quot;, &quot;mapStyle&quot;: &quot;https://basemaps.cartocdn.com/gl/dark-matter-gl-style/style.json&quot;, &quot;views&quot;: [{&quot;@@type&quot;: &quot;MapView&quot;, &quot;controller&quot;: true}]};\n",
       "    const tooltip = true;\n",
       "    const customLibraries = null;\n",
       "\n",
       "    const deckInstance = createDeck({\n",
       "                  container: document.getElementById(&#x27;deck-container&#x27;),\n",
       "      jsonInput,\n",
       "      tooltip,\n",
       "      customLibraries\n",
       "    });\n",
       "\n",
       "  &lt;/script&gt;\n",
       "&lt;/html&gt;\" width=\"100%\" height=500></iframe>"
      ],
      "text/plain": [
       "<IPython.core.display.HTML object>"
      ]
     },
     "execution_count": 33,
     "metadata": {},
     "output_type": "execute_result"
    }
   ],
   "source": [
    "r = pdk.Deck(layers=[layer], initial_view_state=view_state)\n",
    "r.to_html(\"trips_layer.html\")"
   ]
  },
  {
   "cell_type": "code",
   "execution_count": 30,
   "metadata": {},
   "outputs": [
    {
     "data": {
      "application/vnd.jupyter.widget-view+json": {
       "model_id": "60b1937e8972437c8f27e611c6c8872c",
       "version_major": 2,
       "version_minor": 0
      },
      "text/plain": [
       "DeckGLWidget(carto_key=None, custom_libraries=[], google_maps_key=None, json_input='{\"initialViewState\": {\"bea…"
      ]
     },
     "metadata": {},
     "output_type": "display_data"
    }
   ],
   "source": [
    "r = pdk.Deck(layers=[layer], initial_view_state=view_state)\n",
    "r.show()"
   ]
  },
  {
   "cell_type": "code",
   "execution_count": 21,
   "metadata": {},
   "outputs": [
    {
     "data": {
      "text/html": [
       "<div>\n",
       "<style scoped>\n",
       "    .dataframe tbody tr th:only-of-type {\n",
       "        vertical-align: middle;\n",
       "    }\n",
       "\n",
       "    .dataframe tbody tr th {\n",
       "        vertical-align: top;\n",
       "    }\n",
       "\n",
       "    .dataframe thead th {\n",
       "        text-align: right;\n",
       "    }\n",
       "</style>\n",
       "<table border=\"1\" class=\"dataframe\">\n",
       "  <thead>\n",
       "    <tr style=\"text-align: right;\">\n",
       "      <th></th>\n",
       "      <th>coordinates</th>\n",
       "      <th>timestamps</th>\n",
       "    </tr>\n",
       "  </thead>\n",
       "  <tbody>\n",
       "    <tr>\n",
       "      <th>0</th>\n",
       "      <td>[[23.735016, 37.978025], [23.735015, 37.978027...</td>\n",
       "      <td>[0, 4, 8, 12, 16, 20, 24, 28, 32, 36, 40, 44, ...</td>\n",
       "    </tr>\n",
       "  </tbody>\n",
       "</table>\n",
       "</div>"
      ],
      "text/plain": [
       "                                         coordinates  \\\n",
       "0  [[23.735016, 37.978025], [23.735015, 37.978027...   \n",
       "\n",
       "                                          timestamps  \n",
       "0  [0, 4, 8, 12, 16, 20, 24, 28, 32, 36, 40, 44, ...  "
      ]
     },
     "execution_count": 21,
     "metadata": {},
     "output_type": "execute_result"
    }
   ],
   "source": [
    "coordinates = [[i, j] for i,j in zip(df[df['type']=='Bus']['lon'], df[df['type']=='Bus']['lat'])]\n",
    "dfk = pd.DataFrame({\"coordinates\": [coordinates], \"timestamps\" : [np.arange(0,3200,4).tolist()]})\n",
    "dfk"
   ]
  },
  {
   "cell_type": "code",
   "execution_count": 24,
   "metadata": {},
   "outputs": [],
   "source": [
    "layer = pdk.Layer(\n",
    "    \"TripsLayer\",\n",
    "    dfk,\n",
    "    get_path=\"coordinates\",\n",
    "    get_timestamps=\"timestamp\",\n",
    "    get_color=[253],\n",
    "    opacity=0.8,\n",
    "    width_min_pixels=5,\n",
    "    rounded=True,\n",
    "    trail_length=600,\n",
    "    current_time=500,\n",
    ")\n",
    "view_state = pdk.ViewState(latitude=37.977482, longitude=23.735405, zoom=15, bearing=0, pitch=45)"
   ]
  },
  {
   "cell_type": "code",
   "execution_count": 25,
   "metadata": {},
   "outputs": [
    {
     "data": {
      "text/html": [
       "<iframe src=\"about:blank\" frameborder=\"0\" srcdoc=\"&lt;!DOCTYPE html&gt;\n",
       "&lt;html&gt;\n",
       "  &lt;head&gt;\n",
       "    &lt;meta http-equiv=&quot;content-type&quot; content=&quot;text/html; charset=UTF-8&quot; /&gt;\n",
       "    &lt;title&gt;pydeck&lt;/title&gt;\n",
       "        &lt;script src=&quot;https://api.tiles.mapbox.com/mapbox-gl-js/v1.13.0/mapbox-gl.js&quot;&gt;&lt;/script&gt;\n",
       "        &lt;link rel=&quot;stylesheet&quot; href=&quot;https://maxcdn.bootstrapcdn.com/bootstrap/3.2.0/css/bootstrap-theme.min.css&quot; /&gt;\n",
       "    &lt;link rel=&quot;stylesheet&quot; href=&quot;https://maxcdn.bootstrapcdn.com/font-awesome/4.6.3/css/font-awesome.min.css&quot; /&gt;\n",
       "    &lt;script src=&#x27;https://cdn.jsdelivr.net/npm/@deck.gl/jupyter-widget@~8.4.*/dist/index.js&#x27;&gt;&lt;/script&gt;\n",
       "    &lt;style&gt;\n",
       "    body {\n",
       "  margin: 0;\n",
       "  padding: 0;\n",
       "  overflow: hidden;\n",
       "}\n",
       "\n",
       "#deck-map-container {\n",
       "  width: 100%;\n",
       "  height: 100%;\n",
       "  background-color: black;\n",
       "}\n",
       "\n",
       "#map {\n",
       "  pointer-events: none;\n",
       "  height: 100%;\n",
       "  width: 100%;\n",
       "  position: absolute;\n",
       "  z-index: 1;\n",
       "}\n",
       "\n",
       "#deckgl-overlay {\n",
       "  z-index: 2;\n",
       "  background: none;\n",
       "}\n",
       "\n",
       "#deck-map-wrapper {\n",
       "  width: 100%;\n",
       "  height: 100%;\n",
       "}\n",
       "\n",
       "#deck-container {\n",
       "  width: 100vw;\n",
       "  height: 100vh;\n",
       "}\n",
       "    &lt;/style&gt;\n",
       "  &lt;/head&gt;\n",
       "  &lt;body&gt;\n",
       "    &lt;div id=&quot;deck-container&quot;&gt;\n",
       "    &lt;/div&gt;\n",
       "  &lt;/body&gt;\n",
       "  &lt;script&gt;\n",
       "    const jsonInput = {&quot;initialViewState&quot;: {&quot;bearing&quot;: 0, &quot;latitude&quot;: 37.977482, &quot;longitude&quot;: 23.735405, &quot;pitch&quot;: 45, &quot;zoom&quot;: 15}, &quot;layers&quot;: [{&quot;@@type&quot;: &quot;TripsLayer&quot;, &quot;currentTime&quot;: 500, &quot;data&quot;: [{&quot;coordinates&quot;: [[23.735016, 37.978025], [23.735015, 37.978027], [23.735014, 37.978029], [23.735012, 37.97803], [23.735011, 37.978032], [23.735009, 37.978034], [23.735008, 37.978036], [23.735006, 37.978037], [23.735005, 37.978039], [23.735003, 37.978041], [23.735002, 37.978043], [23.735, 37.978045], [23.734999, 37.978046], [23.734997, 37.978048], [23.734996, 37.97805], [23.734994, 37.978052], [23.734993, 37.978053], [23.734992, 37.978055], [23.73499, 37.978057], [23.734989, 37.978059], [23.734987, 37.978061], [23.734986, 37.978062], [23.734984, 37.978064], [23.734983, 37.978066], [23.734981, 37.978067], [23.73498, 37.978069], [23.734978, 37.978071], [23.734977, 37.978073], [23.734976, 37.978074], [23.734974, 37.978076], [23.734973, 37.978078], [23.734971, 37.978079], [23.73497, 37.978081], [23.734969, 37.978083], [23.734967, 37.978084], [23.734966, 37.978086], [23.734964, 37.978088], [23.734963, 37.978089], [23.734961, 37.978091], [23.73496, 37.978093], [23.734959, 37.978094], [23.734957, 37.978096], [23.734956, 37.978098], [23.734954, 37.978099], [23.734953, 37.978101], [23.734951, 37.978102], [23.73495, 37.978104], [23.734949, 37.978106], [23.734947, 37.978107], [23.734946, 37.978109], [23.734944, 37.978111], [23.734943, 37.978112], [23.734941, 37.978114], [23.73494, 37.978116], [23.734939, 37.978117], [23.734937, 37.978119], [23.734936, 37.978121], [23.734934, 37.978122], [23.734933, 37.978124], [23.734931, 37.978126], [23.73493, 37.978127], [23.734928, 37.978129], [23.734927, 37.97813], [23.734925, 37.978132], [23.734924, 37.978134], [23.734923, 37.978135], [23.734921, 37.978137], [23.73492, 37.978139], [23.734918, 37.97814], [23.734917, 37.978142], [23.734915, 37.978144], [23.734914, 37.978145], [23.734913, 37.978147], [23.734911, 37.978149], [23.73491, 37.97815], [23.734908, 37.978152], [23.734907, 37.978154], [23.734905, 37.978155], [23.734904, 37.978157], [23.734903, 37.978158], [23.734901, 37.97816], [23.7349, 37.978162], [23.734898, 37.978163], [23.734897, 37.978165], [23.734896, 37.978167], [23.734894, 37.978168], [23.734893, 37.97817], [23.734891, 37.978172], [23.73489, 37.978173], [23.734889, 37.978175], [23.734887, 37.978177], [23.734886, 37.978178], [23.734884, 37.97818], [23.734883, 37.978182], [23.734882, 37.978183], [23.73488, 37.978185], [23.734879, 37.978186], [23.734878, 37.978188], [23.734876, 37.97819], [23.734875, 37.978191], [23.734874, 37.978193], [23.734872, 37.978194], [23.734871, 37.978196], [23.73487, 37.978198], [23.734868, 37.978199], [23.734867, 37.978201], [23.734866, 37.978202], [23.734865, 37.978204], [23.734863, 37.978205], [23.734862, 37.978207], [23.734861, 37.978208], [23.734859, 37.97821], [23.734858, 37.978212], [23.734857, 37.978213], [23.734856, 37.978215], [23.734854, 37.978216], [23.734853, 37.978218], [23.734852, 37.978219], [23.734851, 37.978221], [23.734849, 37.978222], [23.734848, 37.978224], [23.734847, 37.978225], [23.734845, 37.978227], [23.734844, 37.978228], [23.734843, 37.978229], [23.734842, 37.978231], [23.73484, 37.978232], [23.734839, 37.978234], [23.734838, 37.978235], [23.734837, 37.978237], [23.734835, 37.978238], [23.734834, 37.978239], [23.734833, 37.978241], [23.734832, 37.978242], [23.73483, 37.978243], [23.734829, 37.978245], [23.734828, 37.978246], [23.734827, 37.978248], [23.734825, 37.978249], [23.734824, 37.97825], [23.734823, 37.978252], [23.734822, 37.978253], [23.73482, 37.978254], [23.734819, 37.978256], [23.734818, 37.978257], [23.734817, 37.978258], [23.734815, 37.978259], [23.734814, 37.978261], [23.734813, 37.978262], [23.734812, 37.978263], [23.73481, 37.978265], [23.734809, 37.978266], [23.734808, 37.978267], [23.734807, 37.978268], [23.734806, 37.978269], [23.734804, 37.978271], [23.734803, 37.978272], [23.734802, 37.978273], [23.734801, 37.978274], [23.7348, 37.978276], [23.734799, 37.978277], [23.734798, 37.978278], [23.734796, 37.978279], [23.734795, 37.97828], [23.734794, 37.978281], [23.734793, 37.978283], [23.734792, 37.978284], [23.734791, 37.978285], [23.73479, 37.978286], [23.734789, 37.978287], [23.734787, 37.978288], [23.734786, 37.97829], [23.734785, 37.978291], [23.734784, 37.978292], [23.734783, 37.978293], [23.734782, 37.978294], [23.734781, 37.978295], [23.73478, 37.978297], [23.734779, 37.978298], [23.734778, 37.978299], [23.734776, 37.9783], [23.734775, 37.978301], [23.734774, 37.978303], [23.734773, 37.978304], [23.734772, 37.978305], [23.734771, 37.978306], [23.73477, 37.978307], [23.734769, 37.978308], [23.734768, 37.97831], [23.734767, 37.978311], [23.734766, 37.978312], [23.734765, 37.978313], [23.734763, 37.978314], [23.734762, 37.978315], [23.734761, 37.978316], [23.73476, 37.978318], [23.734759, 37.978319], [23.734758, 37.97832], [23.734757, 37.978321], [23.734756, 37.978322], [23.734755, 37.978323], [23.734754, 37.978324], [23.734752, 37.978325], [23.734751, 37.978326], [23.73475, 37.978327], [23.734749, 37.978329], [23.734748, 37.97833], [23.734747, 37.978331], [23.734746, 37.978332], [23.734744, 37.978333], [23.734743, 37.978334], [23.734742, 37.978335], [23.734741, 37.978336], [23.73474, 37.978337], [23.734739, 37.978338], [23.734738, 37.978339], [23.734736, 37.97834], [23.734735, 37.978341], [23.734734, 37.978342], [23.734733, 37.978343], [23.734732, 37.978344], [23.73473, 37.978345], [23.734729, 37.978346], [23.734728, 37.978347], [23.734727, 37.978348], [23.734726, 37.978349], [23.734724, 37.978351], [23.734723, 37.978352], [23.734722, 37.978353], [23.734721, 37.978354], [23.734719, 37.978355], [23.734718, 37.978356], [23.734717, 37.978357], [23.734716, 37.978358], [23.734714, 37.97836], [23.734713, 37.978361], [23.734712, 37.978362], [23.734711, 37.978363], [23.734709, 37.978364], [23.734708, 37.978366], [23.734707, 37.978367], [23.734705, 37.978368], [23.734704, 37.978369], [23.734703, 37.97837], [23.734702, 37.978372], [23.7347, 37.978373], [23.734699, 37.978374], [23.734698, 37.978375], [23.734696, 37.978377], [23.734695, 37.978378], [23.734694, 37.978379], [23.734692, 37.97838], [23.734691, 37.978382], [23.73469, 37.978383], [23.734688, 37.978384], [23.734687, 37.978385], [23.734686, 37.978387], [23.734684, 37.978388], [23.734683, 37.978389], [23.734682, 37.978391], [23.73468, 37.978392], [23.734679, 37.978393], [23.734678, 37.978395], [23.734676, 37.978396], [23.734675, 37.978397], [23.734673, 37.978399], [23.734672, 37.9784], [23.734671, 37.978401], [23.734669, 37.978403], [23.734668, 37.978404], [23.734666, 37.978405], [23.734665, 37.978407], [23.734664, 37.978408], [23.734662, 37.97841], [23.734661, 37.978411], [23.734659, 37.978413], [23.734658, 37.978414], [23.734656, 37.978416], [23.734655, 37.978417], [23.734653, 37.978419], [23.734652, 37.97842], [23.73465, 37.978422], [23.734649, 37.978423], [23.734648, 37.978425], [23.734646, 37.978426], [23.734645, 37.978428], [23.734643, 37.97843], [23.734641, 37.978431], [23.73464, 37.978433], [23.734638, 37.978434], [23.734637, 37.978436], [23.734635, 37.978438], [23.734634, 37.978439], [23.734632, 37.978441], [23.734631, 37.978443], [23.734629, 37.978444], [23.734628, 37.978446], [23.734626, 37.978448], [23.734624, 37.978449], [23.734623, 37.978451], [23.734621, 37.978453], [23.73462, 37.978455], [23.734618, 37.978456], [23.734617, 37.978458], [23.734615, 37.97846], [23.734613, 37.978462], [23.734612, 37.978463], [23.73461, 37.978465], [23.734608, 37.978467], [23.734607, 37.978469], [23.734605, 37.97847], [23.734604, 37.978472], [23.734602, 37.978474], [23.7346, 37.978476], [23.734599, 37.978478], [23.734597, 37.978479], [23.734595, 37.978481], [23.734594, 37.978483], [23.734592, 37.978485], [23.73459, 37.978487], [23.734589, 37.978489], [23.734587, 37.978491], [23.734585, 37.978493], [23.734584, 37.978495], [23.734582, 37.978496], [23.73458, 37.978498], [23.734579, 37.9785], [23.734577, 37.978503], [23.734575, 37.978505], [23.734573, 37.978507], [23.734572, 37.978509], [23.73457, 37.978511], [23.734568, 37.978513], [23.734567, 37.978515], [23.734565, 37.978517], [23.734563, 37.978519], [23.734561, 37.978521], [23.73456, 37.978523], [23.734558, 37.978526], [23.734556, 37.978528], [23.734554, 37.97853], [23.734552, 37.978532], [23.734551, 37.978534], [23.734549, 37.978537], [23.734547, 37.978539], [23.734545, 37.978541], [23.734543, 37.978543], [23.734541, 37.978546], [23.73454, 37.978548], [23.734538, 37.97855], [23.734536, 37.978552], [23.734534, 37.978555], [23.734532, 37.978557], [23.73453, 37.978559], [23.734528, 37.978561], [23.734526, 37.978564], [23.734524, 37.978566], [23.734522, 37.978568], [23.73452, 37.978571], [23.734518, 37.978573], [23.734516, 37.978575], [23.734514, 37.978578], [23.734512, 37.97858], [23.73451, 37.978582], [23.734508, 37.978585], [23.734506, 37.978587], [23.734504, 37.97859], [23.734502, 37.978592], [23.7345, 37.978594], [23.734498, 37.978597], [23.734496, 37.978599], [23.734493, 37.978602], [23.734491, 37.978604], [23.734489, 37.978606], [23.734487, 37.978609], [23.734485, 37.978611], [23.734483, 37.978614], [23.734481, 37.978616], [23.734479, 37.978619], [23.734476, 37.978621], [23.734474, 37.978624], [23.734472, 37.978626], [23.73447, 37.978629], [23.734468, 37.978631], [23.734466, 37.978634], [23.734464, 37.978636], [23.734461, 37.978639], [23.734459, 37.978641], [23.734457, 37.978644], [23.734455, 37.978646], [23.734453, 37.978649], [23.73445, 37.978652], [23.734448, 37.978654], [23.734446, 37.978657], [23.734444, 37.978659], [23.734442, 37.978662], [23.73444, 37.978664], [23.734437, 37.978667], [23.734435, 37.978669], [23.734433, 37.978672], [23.734431, 37.978674], [23.734429, 37.978677], [23.734426, 37.97868], [23.734424, 37.978682], [23.734422, 37.978685], [23.73442, 37.978687], [23.734418, 37.97869], [23.734416, 37.978692], [23.734413, 37.978695], [23.734411, 37.978697], [23.734409, 37.9787], [23.734407, 37.978703], [23.734405, 37.978705], [23.734403, 37.978708], [23.7344, 37.97871], [23.734398, 37.978713], [23.734396, 37.978715], [23.734394, 37.978718], [23.734392, 37.978721], [23.73439, 37.978723], [23.734387, 37.978726], [23.734385, 37.978728], [23.734383, 37.978731], [23.734381, 37.978733], [23.734379, 37.978736], [23.734377, 37.978738], [23.734375, 37.978741], [23.734373, 37.978743], [23.734371, 37.978746], [23.734368, 37.978748], [23.734366, 37.978751], [23.734364, 37.978753], [23.734362, 37.978756], [23.73436, 37.978758], [23.734358, 37.97876], [23.734356, 37.978763], [23.734354, 37.978765], [23.734352, 37.978768], [23.73435, 37.97877], [23.734348, 37.978773], [23.734346, 37.978775], [23.734344, 37.978777], [23.734341, 37.97878], [23.734339, 37.978782], [23.734337, 37.978785], [23.734335, 37.978787], [23.734333, 37.978789], [23.734331, 37.978792], [23.734329, 37.978794], [23.734327, 37.978797], [23.734324, 37.978799], [23.734322, 37.978802], [23.73432, 37.978804], [23.734318, 37.978806], [23.734316, 37.978809], [23.734314, 37.978811], [23.734311, 37.978814], [23.734309, 37.978816], [23.734307, 37.978819], [23.734305, 37.978821], [23.734302, 37.978824], [23.7343, 37.978826], [23.734298, 37.978828], [23.734296, 37.978831], [23.734294, 37.978833], [23.734291, 37.978836], [23.734289, 37.978838], [23.734287, 37.978841], [23.734285, 37.978843], [23.734283, 37.978846], [23.73428, 37.978848], [23.734278, 37.978851], [23.734276, 37.978853], [23.734274, 37.978856], [23.734272, 37.978858], [23.73427, 37.97886], [23.734268, 37.978863], [23.734266, 37.978865], [23.734264, 37.978868], [23.734262, 37.97887], [23.73426, 37.978873], [23.734258, 37.978875], [23.734256, 37.978878], [23.734254, 37.97888], [23.734252, 37.978883], [23.73425, 37.978885], [23.734248, 37.978887], [23.734246, 37.97889], [23.734244, 37.978892], [23.734242, 37.978895], [23.73424, 37.978897], [23.734238, 37.9789], [23.734236, 37.978902], [23.734234, 37.978905], [23.734232, 37.978907], [23.73423, 37.978909], [23.734228, 37.978912], [23.734226, 37.978914], [23.734224, 37.978917], [23.734222, 37.978919], [23.734219, 37.978921], [23.734217, 37.978924], [23.734215, 37.978926], [23.734213, 37.978928], [23.734211, 37.978931], [23.734209, 37.978933], [23.734207, 37.978935], [23.734205, 37.978938], [23.734203, 37.97894], [23.734201, 37.978942], [23.734198, 37.978945], [23.734196, 37.978947], [23.734194, 37.978949], [23.734192, 37.978952], [23.73419, 37.978954], [23.734188, 37.978956], [23.734186, 37.978958], [23.734183, 37.978961], [23.734181, 37.978963], [23.734179, 37.978965], [23.734177, 37.978968], [23.734175, 37.97897], [23.734173, 37.978972], [23.734171, 37.978975], [23.734168, 37.978977], [23.734166, 37.978979], [23.734164, 37.978981], [23.734162, 37.978984], [23.73416, 37.978986], [23.734158, 37.978989], [23.734156, 37.978991], [23.734154, 37.978993], [23.734152, 37.978996], [23.73415, 37.978998], [23.734148, 37.979], [23.734146, 37.979003], [23.734144, 37.979005], [23.734142, 37.979008], [23.73414, 37.97901], [23.734138, 37.979012], [23.734136, 37.979015], [23.734134, 37.979017], [23.734132, 37.97902], [23.73413, 37.979022], [23.734128, 37.979024], [23.734126, 37.979027], [23.734124, 37.979029], [23.734122, 37.979032], [23.73412, 37.979034], [23.734118, 37.979037], [23.734116, 37.979039], [23.734114, 37.979042], [23.734112, 37.979044], [23.73411, 37.979046], [23.734109, 37.979049], [23.734107, 37.979051], [23.734105, 37.979054], [23.734103, 37.979056], [23.734101, 37.979059], [23.734099, 37.979061], [23.734097, 37.979064], [23.734095, 37.979066], [23.734094, 37.979069], [23.734092, 37.979071], [23.73409, 37.979074], [23.734088, 37.979076], [23.734086, 37.979079], [23.734084, 37.979081], [23.734082, 37.979084], [23.73408, 37.979086], [23.734078, 37.979089], [23.734076, 37.979091], [23.734074, 37.979093], [23.734072, 37.979096], [23.73407, 37.979098], [23.734068, 37.979101], [23.734066, 37.979103], [23.734064, 37.979106], [23.734062, 37.979108], [23.73406, 37.97911], [23.734058, 37.979113], [23.734056, 37.979115], [23.734054, 37.979118], [23.734052, 37.97912], [23.73405, 37.979123], [23.734048, 37.979125], [23.734045, 37.979127], [23.734043, 37.97913], [23.734041, 37.979132], [23.734039, 37.979134], [23.734037, 37.979137], [23.734035, 37.979139], [23.734032, 37.979142], [23.73403, 37.979144], [23.734028, 37.979146], [23.734026, 37.979149], [23.734024, 37.979151], [23.734022, 37.979153], [23.734019, 37.979156], [23.734017, 37.979158], [23.734015, 37.979161], [23.734013, 37.979163], [23.734011, 37.979165], [23.734009, 37.979168], [23.734007, 37.97917], [23.734004, 37.979173], [23.734002, 37.979175], [23.734, 37.979177], [23.733998, 37.97918], [23.733996, 37.979182], [23.733994, 37.979185], [23.733992, 37.979187], [23.73399, 37.979189], [23.733988, 37.979192], [23.733986, 37.979194], [23.733984, 37.979197], [23.733981, 37.979199], [23.733979, 37.979202], [23.733977, 37.979204], [23.733975, 37.979206], [23.733973, 37.979209], [23.733971, 37.979211], [23.733969, 37.979214], [23.733967, 37.979216], [23.733965, 37.979219], [23.733963, 37.979221], [23.733961, 37.979224], [23.733959, 37.979226], [23.733957, 37.979229], [23.733955, 37.979231], [23.733953, 37.979233], [23.733951, 37.979236], [23.733949, 37.979238], [23.733947, 37.979241], [23.733945, 37.979243], [23.733943, 37.979246], [23.733941, 37.979248], [23.733939, 37.979251], [23.733937, 37.979253], [23.733935, 37.979256], [23.733933, 37.979258], [23.733931, 37.979261], [23.733929, 37.979263], [23.733927, 37.979266], [23.733925, 37.979268], [23.733922, 37.979271], [23.73392, 37.979273], [23.733918, 37.979276], [23.733916, 37.979278], [23.733914, 37.979281], [23.733912, 37.979283], [23.73391, 37.979286], [23.733908, 37.979289], [23.733906, 37.979291], [23.733904, 37.979294], [23.733902, 37.979296], [23.7339, 37.979299], [23.733898, 37.979301], [23.733896, 37.979304], [23.733893, 37.979307], [23.733891, 37.979309], [23.733889, 37.979312], [23.733887, 37.979314], [23.733885, 37.979317], [23.733883, 37.97932], [23.733881, 37.979322], [23.733878, 37.979325], [23.733876, 37.979328], [23.733874, 37.97933], [23.733872, 37.979333], [23.73387, 37.979335], [23.733867, 37.979338], [23.733865, 37.979341], [23.733863, 37.979343], [23.733861, 37.979346], [23.733859, 37.979348], [23.733856, 37.979351], [23.733854, 37.979354], [23.733852, 37.979356], [23.733849, 37.979359], [23.733847, 37.979361], [23.733845, 37.979364], [23.733843, 37.979367], [23.73384, 37.979369], [23.733838, 37.979372], [23.733836, 37.979375], [23.733833, 37.979377], [23.733831, 37.97938], [23.733829, 37.979382], [23.733826, 37.979385], [23.733824, 37.979388], [23.733822, 37.97939], [23.733819, 37.979393], [23.733817, 37.979395], [23.733815, 37.979398], [23.733812, 37.979401], [23.73381, 37.979403], [23.733808, 37.979406], [23.733806, 37.979408], [23.733803, 37.979411], [23.733801, 37.979414], [23.733799, 37.979416], [23.733797, 37.979419], [23.733795, 37.979421], [23.733793, 37.979424], [23.73379, 37.979426], [23.733788, 37.979429], [23.733786, 37.979432], [23.733784, 37.979434], [23.733782, 37.979437], [23.73378, 37.979439], [23.733778, 37.979442], [23.733776, 37.979444], [23.733774, 37.979447], [23.733772, 37.979449], [23.733769, 37.979452], [23.733767, 37.979454], [23.733765, 37.979457], [23.733763, 37.979459], [23.733761, 37.979462], [23.733759, 37.979464], [23.733757, 37.979467], [23.733755, 37.979469], [23.733753, 37.979472], [23.733751, 37.979474], [23.733749, 37.979476], [23.733747, 37.979479], [23.733744, 37.979481], [23.733742, 37.979484], [23.73374, 37.979486], [23.733738, 37.979489], [23.733736, 37.979491], [23.733734, 37.979493], [23.733732, 37.979496], [23.73373, 37.979498], [23.733728, 37.9795], [23.733726, 37.979503], [23.733723, 37.979505], [23.733721, 37.979507], [23.733719, 37.97951], [23.733717, 37.979512], [23.733715, 37.979514], [23.733713, 37.979517], [23.733711, 37.979519], [23.733709, 37.979521], [23.733707, 37.979524], [23.733705, 37.979526], [23.733702, 37.979528], [23.7337, 37.979531], [23.733698, 37.979533], [23.733696, 37.979535], [23.733694, 37.979538], [23.733692, 37.97954], [23.73369, 37.979542], [23.733688, 37.979545], [23.733686, 37.979547], [23.733684, 37.979549], [23.733681, 37.979552], [23.733679, 37.979554], [23.733677, 37.979556], [23.733675, 37.979559], [23.733673, 37.979561], [23.733671, 37.979563], [23.733669, 37.979566], [23.733667, 37.979568], [23.733665, 37.97957], [23.733663, 37.979573], [23.733661, 37.979575], [23.733659, 37.979577], [23.733657, 37.97958], [23.733655, 37.979582], [23.733652, 37.979584], [23.73365, 37.979587], [23.733648, 37.979589], [23.733646, 37.979591], [23.733644, 37.979594], [23.733642, 37.979596], [23.73364, 37.979598], [23.733638, 37.979601], [23.733636, 37.979603], [23.733634, 37.979605], [23.733632, 37.979608], [23.73363, 37.97961], [23.733628, 37.979612], [23.733626, 37.979614], [23.733624, 37.979617], [23.733622, 37.979619], [23.73362, 37.979621], [23.733618, 37.979624], [23.733616, 37.979626], [23.733614, 37.979628], [23.733612, 37.97963], [23.733611, 37.979633], [23.733609, 37.979635], [23.733607, 37.979637], [23.733605, 37.979639], [23.733603, 37.979642], [23.733601, 37.979644], [23.733599, 37.979646], [23.733597, 37.979648], [23.733595, 37.979651], [23.733594, 37.979653], [23.733592, 37.979655], [23.73359, 37.979657], [23.733588, 37.979659], [23.733586, 37.979661], [23.733585, 37.979664], [23.733583, 37.979666], [23.733581, 37.979668], [23.733579, 37.97967], [23.733578, 37.979672], [23.733576, 37.979674], [23.733574, 37.979676], [23.733573, 37.979678], [23.733571, 37.979681], [23.733569, 37.979683], [23.733567, 37.979685], [23.733566, 37.979687], [23.733564, 37.979689], [23.733562, 37.979691], [23.733561, 37.979693], [23.733559, 37.979695], [23.733557, 37.979697], [23.733555, 37.979699], [23.733554, 37.979701], [23.733552, 37.979703], [23.73355, 37.979705], [23.733548, 37.979707], [23.733547, 37.979709], [23.733545, 37.979711], [23.733543, 37.979713], [23.733541, 37.979715], [23.733539, 37.979717], [23.733538, 37.979719], [23.733536, 37.979721], [23.733534, 37.979723], [23.733532, 37.979725], [23.733531, 37.979727], [23.733529, 37.979729], [23.733527, 37.979731], [23.733525, 37.979733], [23.733524, 37.979735], [23.733522, 37.979737], [23.73352, 37.979739], [23.733518, 37.979741], [23.733516, 37.979743], [23.733515, 37.979745], [23.733513, 37.979747], [23.733511, 37.979749], [23.733509, 37.979751], [23.733507, 37.979753], [23.733506, 37.979755], [23.733504, 37.979757], [23.733502, 37.979759], [23.7335, 37.979761], [23.733498, 37.979763], [23.733497, 37.979765], [23.733495, 37.979767], [23.733493, 37.979769], [23.733491, 37.979771], [23.73349, 37.979773], [23.733488, 37.979775], [23.733486, 37.979777], [23.733484, 37.979779], [23.733482, 37.979782], [23.733481, 37.979784], [23.733479, 37.979786], [23.733477, 37.979788], [23.733475, 37.97979], [23.733474, 37.979792], [23.733472, 37.979794], [23.73347, 37.979796], [23.733468, 37.979798], [23.733467, 37.9798], [23.733465, 37.979802], [23.733463, 37.979804], [23.733461, 37.979806], [23.73346, 37.979808], [23.733458, 37.97981], [23.733456, 37.979812], [23.733454, 37.979814], [23.733453, 37.979816], [23.733451, 37.979819], [23.733449, 37.979821], [23.733447, 37.979823], [23.733446, 37.979825], [23.733444, 37.979827], [23.733442, 37.979829], [23.73344, 37.979831], [23.733439, 37.979833], [23.733437, 37.979835], [23.733435, 37.979837], [23.733433, 37.979839], [23.733431, 37.979841], [23.73343, 37.979843], [23.733428, 37.979845], [23.733426, 37.979847], [23.733425, 37.979849], [23.733423, 37.979851], [23.733421, 37.979853], [23.733419, 37.979855], [23.733418, 37.979857], [23.733416, 37.979859], [23.733414, 37.97986], [23.733413, 37.979862], [23.733411, 37.979864], [23.733409, 37.979866], [23.733407, 37.979868], [23.733406, 37.97987], [23.733404, 37.979872], [23.733402, 37.979874], [23.733401, 37.979875], [23.733399, 37.979877], [23.733397, 37.979879], [23.733396, 37.979881], [23.733394, 37.979883]], &quot;timestamps&quot;: [0, 4, 8, 12, 16, 20, 24, 28, 32, 36, 40, 44, 48, 52, 56, 60, 64, 68, 72, 76, 80, 84, 88, 92, 96, 100, 104, 108, 112, 116, 120, 124, 128, 132, 136, 140, 144, 148, 152, 156, 160, 164, 168, 172, 176, 180, 184, 188, 192, 196, 200, 204, 208, 212, 216, 220, 224, 228, 232, 236, 240, 244, 248, 252, 256, 260, 264, 268, 272, 276, 280, 284, 288, 292, 296, 300, 304, 308, 312, 316, 320, 324, 328, 332, 336, 340, 344, 348, 352, 356, 360, 364, 368, 372, 376, 380, 384, 388, 392, 396, 400, 404, 408, 412, 416, 420, 424, 428, 432, 436, 440, 444, 448, 452, 456, 460, 464, 468, 472, 476, 480, 484, 488, 492, 496, 500, 504, 508, 512, 516, 520, 524, 528, 532, 536, 540, 544, 548, 552, 556, 560, 564, 568, 572, 576, 580, 584, 588, 592, 596, 600, 604, 608, 612, 616, 620, 624, 628, 632, 636, 640, 644, 648, 652, 656, 660, 664, 668, 672, 676, 680, 684, 688, 692, 696, 700, 704, 708, 712, 716, 720, 724, 728, 732, 736, 740, 744, 748, 752, 756, 760, 764, 768, 772, 776, 780, 784, 788, 792, 796, 800, 804, 808, 812, 816, 820, 824, 828, 832, 836, 840, 844, 848, 852, 856, 860, 864, 868, 872, 876, 880, 884, 888, 892, 896, 900, 904, 908, 912, 916, 920, 924, 928, 932, 936, 940, 944, 948, 952, 956, 960, 964, 968, 972, 976, 980, 984, 988, 992, 996, 1000, 1004, 1008, 1012, 1016, 1020, 1024, 1028, 1032, 1036, 1040, 1044, 1048, 1052, 1056, 1060, 1064, 1068, 1072, 1076, 1080, 1084, 1088, 1092, 1096, 1100, 1104, 1108, 1112, 1116, 1120, 1124, 1128, 1132, 1136, 1140, 1144, 1148, 1152, 1156, 1160, 1164, 1168, 1172, 1176, 1180, 1184, 1188, 1192, 1196, 1200, 1204, 1208, 1212, 1216, 1220, 1224, 1228, 1232, 1236, 1240, 1244, 1248, 1252, 1256, 1260, 1264, 1268, 1272, 1276, 1280, 1284, 1288, 1292, 1296, 1300, 1304, 1308, 1312, 1316, 1320, 1324, 1328, 1332, 1336, 1340, 1344, 1348, 1352, 1356, 1360, 1364, 1368, 1372, 1376, 1380, 1384, 1388, 1392, 1396, 1400, 1404, 1408, 1412, 1416, 1420, 1424, 1428, 1432, 1436, 1440, 1444, 1448, 1452, 1456, 1460, 1464, 1468, 1472, 1476, 1480, 1484, 1488, 1492, 1496, 1500, 1504, 1508, 1512, 1516, 1520, 1524, 1528, 1532, 1536, 1540, 1544, 1548, 1552, 1556, 1560, 1564, 1568, 1572, 1576, 1580, 1584, 1588, 1592, 1596, 1600, 1604, 1608, 1612, 1616, 1620, 1624, 1628, 1632, 1636, 1640, 1644, 1648, 1652, 1656, 1660, 1664, 1668, 1672, 1676, 1680, 1684, 1688, 1692, 1696, 1700, 1704, 1708, 1712, 1716, 1720, 1724, 1728, 1732, 1736, 1740, 1744, 1748, 1752, 1756, 1760, 1764, 1768, 1772, 1776, 1780, 1784, 1788, 1792, 1796, 1800, 1804, 1808, 1812, 1816, 1820, 1824, 1828, 1832, 1836, 1840, 1844, 1848, 1852, 1856, 1860, 1864, 1868, 1872, 1876, 1880, 1884, 1888, 1892, 1896, 1900, 1904, 1908, 1912, 1916, 1920, 1924, 1928, 1932, 1936, 1940, 1944, 1948, 1952, 1956, 1960, 1964, 1968, 1972, 1976, 1980, 1984, 1988, 1992, 1996, 2000, 2004, 2008, 2012, 2016, 2020, 2024, 2028, 2032, 2036, 2040, 2044, 2048, 2052, 2056, 2060, 2064, 2068, 2072, 2076, 2080, 2084, 2088, 2092, 2096, 2100, 2104, 2108, 2112, 2116, 2120, 2124, 2128, 2132, 2136, 2140, 2144, 2148, 2152, 2156, 2160, 2164, 2168, 2172, 2176, 2180, 2184, 2188, 2192, 2196, 2200, 2204, 2208, 2212, 2216, 2220, 2224, 2228, 2232, 2236, 2240, 2244, 2248, 2252, 2256, 2260, 2264, 2268, 2272, 2276, 2280, 2284, 2288, 2292, 2296, 2300, 2304, 2308, 2312, 2316, 2320, 2324, 2328, 2332, 2336, 2340, 2344, 2348, 2352, 2356, 2360, 2364, 2368, 2372, 2376, 2380, 2384, 2388, 2392, 2396, 2400, 2404, 2408, 2412, 2416, 2420, 2424, 2428, 2432, 2436, 2440, 2444, 2448, 2452, 2456, 2460, 2464, 2468, 2472, 2476, 2480, 2484, 2488, 2492, 2496, 2500, 2504, 2508, 2512, 2516, 2520, 2524, 2528, 2532, 2536, 2540, 2544, 2548, 2552, 2556, 2560, 2564, 2568, 2572, 2576, 2580, 2584, 2588, 2592, 2596, 2600, 2604, 2608, 2612, 2616, 2620, 2624, 2628, 2632, 2636, 2640, 2644, 2648, 2652, 2656, 2660, 2664, 2668, 2672, 2676, 2680, 2684, 2688, 2692, 2696, 2700, 2704, 2708, 2712, 2716, 2720, 2724, 2728, 2732, 2736, 2740, 2744, 2748, 2752, 2756, 2760, 2764, 2768, 2772, 2776, 2780, 2784, 2788, 2792, 2796, 2800, 2804, 2808, 2812, 2816, 2820, 2824, 2828, 2832, 2836, 2840, 2844, 2848, 2852, 2856, 2860, 2864, 2868, 2872, 2876, 2880, 2884, 2888, 2892, 2896, 2900, 2904, 2908, 2912, 2916, 2920, 2924, 2928, 2932, 2936, 2940, 2944, 2948, 2952, 2956, 2960, 2964, 2968, 2972, 2976, 2980, 2984, 2988, 2992, 2996, 3000, 3004, 3008, 3012, 3016, 3020, 3024, 3028, 3032, 3036, 3040, 3044, 3048, 3052, 3056, 3060, 3064, 3068, 3072, 3076, 3080, 3084, 3088, 3092, 3096, 3100, 3104, 3108, 3112, 3116, 3120, 3124, 3128, 3132, 3136, 3140, 3144, 3148, 3152, 3156, 3160, 3164, 3168, 3172, 3176, 3180, 3184, 3188, 3192, 3196]}], &quot;getColor&quot;: [253], &quot;getPath&quot;: &quot;@@=coordinates&quot;, &quot;getTimestamps&quot;: &quot;@@=timestamp&quot;, &quot;id&quot;: &quot;6889a46d-3bcf-4c8e-816c-e3549c84cb6e&quot;, &quot;opacity&quot;: 0.8, &quot;rounded&quot;: true, &quot;trailLength&quot;: 600, &quot;widthMinPixels&quot;: 5}], &quot;mapProvider&quot;: &quot;carto&quot;, &quot;mapStyle&quot;: &quot;https://basemaps.cartocdn.com/gl/dark-matter-gl-style/style.json&quot;, &quot;views&quot;: [{&quot;@@type&quot;: &quot;MapView&quot;, &quot;controller&quot;: true}]};\n",
       "    const tooltip = true;\n",
       "    const customLibraries = null;\n",
       "\n",
       "    const deckInstance = createDeck({\n",
       "                  container: document.getElementById(&#x27;deck-container&#x27;),\n",
       "      jsonInput,\n",
       "      tooltip,\n",
       "      customLibraries\n",
       "    });\n",
       "\n",
       "  &lt;/script&gt;\n",
       "&lt;/html&gt;\" width=\"100%\" height=500></iframe>"
      ],
      "text/plain": [
       "<IPython.core.display.HTML object>"
      ]
     },
     "execution_count": 25,
     "metadata": {},
     "output_type": "execute_result"
    }
   ],
   "source": [
    "r = pdk.Deck(layers=[layer], initial_view_state=view_state)\n",
    "r.to_html(\"trips_layer.html\")"
   ]
  },
  {
   "cell_type": "code",
   "execution_count": null,
   "metadata": {},
   "outputs": [],
   "source": []
  }
 ],
 "metadata": {
  "kernelspec": {
   "display_name": "Python 3",
   "language": "python",
   "name": "python3"
  },
  "language_info": {
   "codemirror_mode": {
    "name": "ipython",
    "version": 3
   },
   "file_extension": ".py",
   "mimetype": "text/x-python",
   "name": "python",
   "nbconvert_exporter": "python",
   "pygments_lexer": "ipython3",
   "version": "3.7.4"
  }
 },
 "nbformat": 4,
 "nbformat_minor": 2
}
