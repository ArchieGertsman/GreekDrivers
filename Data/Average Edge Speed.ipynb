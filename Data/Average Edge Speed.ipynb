{
 "cells": [
  {
   "cell_type": "code",
   "execution_count": 1,
   "metadata": {},
   "outputs": [],
   "source": [
    "import osmnx as ox\n",
    "import pandas as pd\n",
    "import numpy as np\n",
    "from Data import Data \n",
    "import matplotlib.pyplot as plt\n",
    "import nvector as nv\n",
    "import osmapi as osm\n",
    "import networkx as nx\n",
    "from numpy import arctan2, sin, cos, sqrt, radians\n"
   ]
  },
  {
   "cell_type": "code",
   "execution_count": 2,
   "metadata": {},
   "outputs": [],
   "source": [
    "def bearing(df):\n",
    "    \"\"\"calculates and adds bearing column to dataframe\n",
    "    Example usage:\n",
    "        df = csv_to_df('sample.csv')\n",
    "        df = bearing(df)\n",
    "    \"\"\"\n",
    "    df['bearing'] = \\\n",
    "        df.groupby('id', as_index=False, group_keys=False) \\\n",
    "        .apply(__calc_bearings)\n",
    "    return df\n",
    "\n",
    "def __bearing(c1, c2):\n",
    "    \"\"\"credit to https://bit.ly/3amjz0Q for bearing formula\"\"\"\n",
    "    lat1,lon1 = c1\n",
    "    lat2,lon2 = c2\n",
    "    \n",
    "    dL = lon2 - lon1\n",
    "    x = cos(lon2) * sin(dL)\n",
    "    y = cos(lat1) * sin(lat2) - sin(lat1) * cos(lat2) * cos(dL)\n",
    "    return arctan2(x,y)\n",
    "\n",
    "\n",
    "def __calc_bearings(df):\n",
    "    \"\"\"returns a multi-indexed dataframe of bearings at each timestep for vehicle with specified ID\"\"\"\n",
    "    df1 = df\n",
    "    df2 = df.shift(-1)\n",
    "\n",
    "    c1 = (df1['lat'], df1['lon'])\n",
    "    c2 = (df2['lat'], df2['lon'])\n",
    "    df3 = __bearing(c1, c2)\n",
    "    return df3\n",
    "\n",
    "\n",
    "def __construct_graph_data_cols(graph):\n",
    "    def aux(row):\n",
    "        coord = (row['lat'],row['lon'])\n",
    "        nn = ox.get_nearest_node(graph, coord, method='euclidean')\n",
    "        start, end, _ = ox.get_nearest_edge(graph, coord)\n",
    "        if start > end:\n",
    "            start, end = end, start\n",
    "        edge_prog = __edge_progress(graph, start, end, coord)\n",
    "        return nn, start, end, edge_prog\n",
    "    return aux\n",
    "\n",
    "\n",
    "def __edge_progress(graph, edge_start_node, edge_end_node, v_coord):\n",
    "    start_coord = graph.nodes[edge_start_node]['y'], graph.nodes[edge_start_node]['x']\n",
    "    end_coord = graph.nodes[edge_end_node]['y'], graph.nodes[edge_end_node]['x']\n",
    "\n",
    "    a = __euc_dist(start_coord, end_coord)\n",
    "    b = __euc_dist(start_coord, v_coord)\n",
    "    return b/a\n",
    "\n",
    "\n",
    "def __euc_dist(coord0, coord1):\n",
    "    EARTH_RADIUS = 6373\n",
    "\n",
    "    lat0, lon0 = coord0\n",
    "    lat1, lon1 = coord1\n",
    "\n",
    "    lat0, lon0 = radians(lat0), radians(lon0)\n",
    "    lat1, lon1 = radians(lat1), radians(lon1)\n",
    "\n",
    "    dlat = lat1 - lat0\n",
    "    dlon = lon1 - lon0\n",
    "\n",
    "    a = sin(dlat/2)**2 + cos(lat0) * cos(lat1) * sin(dlon/2)**2\n",
    "    c = 2 * arctan2(sqrt(a), sqrt(1-a))\n",
    "    return EARTH_RADIUS*c\n",
    "\n",
    "\n",
    "def __calc_directions(df):\n",
    "    df1 = df\n",
    "    df2 = df.shift(-1)\n",
    "    df3 = (df1['edge_progress'] < df2['edge_progress']).astype(int)\n",
    "    if len(df3) > 1:\n",
    "        df3.iloc[-1] = df3.iloc[-2]\n",
    "    return df3\n"
   ]
  },
  {
   "cell_type": "code",
   "execution_count": 3,
   "metadata": {},
   "outputs": [],
   "source": [
    "def nearest_graph_data(df, graph):\n",
    "    \"\"\"uses osmnx to find nearest node and edge data, calculates \n",
    "    progress along nearest edge as a ratio, and adds these features\n",
    "    as columns to the dataframe\n",
    "    Example usage:\n",
    "        df = csv_to_df('sample.csv')\n",
    "        graph = ox.graph_from_address('address_here', network_type='drive') \n",
    "        df = nearest_graph_data(df, graph)\n",
    "    \"\"\"\n",
    "    df['nearest_node'],             \\\n",
    "    df['nearest_edge_start_node'],  \\\n",
    "    df['nearest_edge_end_node'],    \\\n",
    "    df['edge_progress']             \\\n",
    "        = zip(*df.apply(__construct_graph_data_cols(graph), axis=1))\n",
    "    return df"
   ]
  },
  {
   "cell_type": "code",
   "execution_count": 4,
   "metadata": {},
   "outputs": [],
   "source": [
    "def direction(df):\n",
    "    \"\"\"adds column that determiens which direction the vehicle is moving along an edge.\n",
    "    1 if moving from node with smaller id to node with larger id, 0 otherwise.\n",
    "    Note: `nearest_graph_data` must have been run on this df, otherwise this will fail!\n",
    "    Example usage:\n",
    "        df = csv_to_df('sample.csv')\n",
    "        df = direction(df)\n",
    "    \"\"\"\n",
    "    df['dir'] = \\\n",
    "        df.groupby(\n",
    "            ['id', 'nearest_edge_start_node', 'nearest_edge_end_node'], \n",
    "            as_index=False, group_keys=False) \\\n",
    "        .apply(__calc_directions)\n",
    "    return df"
   ]
  },
  {
   "cell_type": "code",
   "execution_count": 5,
   "metadata": {},
   "outputs": [],
   "source": [
    "def gdf_from_coords(dataset): #creating gdf from max and min longitudes and latitudes from ampneuma dataset, dataset is expected to be created using csv_to_df\n",
    "    max_lon = np.max(df[\"lon\"])\n",
    "    max_lat = np.max(df[\"lat\"])\n",
    "    min_lon = np.min(df[\"lon\"])\n",
    "    min_lat = np.min(df[\"lat\"])\n",
    "    return ox.geometries_from_bbox(max_lat,min_lat,max_lon,min_lon,tags={'building':True, 'landuse':True,'highway':True})"
   ]
  },
  {
   "cell_type": "code",
   "execution_count": 6,
   "metadata": {},
   "outputs": [],
   "source": [
    "def _calc_vehicle_density(df):\n",
    "    \"\"\"returns a dataframe of the unique edges (nearest_edge_start_node and neares_edge_end_node pairs) per direction (0 or 1) for edge progress intervals (in the          range(0.0:0.9), 0.0 represents edge progress between 0-10%, 0.1 represents edge progress between 10-20% and so on. \n",
    "        df must have been processed by `direction` first. Example usage: \n",
    "        df = csv_to_df(csv.file)\n",
    "        graph = ox.graph_from_address('Athens, Municipality of Athens, Regional Unit of Central Athens, Attica, 10667, Greece', network_type='drive')  \n",
    "        df = nearest_graph_data(df,graph)\n",
    "        df = direction(df)\n",
    "        vehicle_densities = _calc_vehicle_density(df)\n",
    "     \"\"\"\n",
    "    df['edge_progress_intervals'] = df.groupby(['nearest_edge_start_node'])['edge_progress'].transform(lambda x: x-x%0.1)\n",
    "    df2 = df.reset_index().groupby(['nearest_edge_start_node','nearest_edge_end_node','dir','edge_progress_intervals']).agg({'id':['nunique']})\n",
    "    return df2"
   ]
  },
  {
   "cell_type": "code",
   "execution_count": 7,
   "metadata": {},
   "outputs": [],
   "source": [
    "df = Data('sample.csv').df\n",
    "graph = ox.graph_from_address('Athens, Municipality of Athens, Regional Unit of Central Athens, Attica, 10667, Greece', network_type='drive')  \n",
    "df = nearest_graph_data(df,graph)\n",
    "df = direction(df)"
   ]
  },
  {
   "cell_type": "code",
   "execution_count": 10,
   "metadata": {},
   "outputs": [],
   "source": [
    "def _calc_average_edge_speed(df):\n",
    "    \"\"\"returns a dataframe of the average speed of each edge (nearest_edge_start_node and nearest_edge_end_node pairs) for both directions(0 or 1)\n",
    "        df = Data('sample.csv').df\n",
    "        graph = ox.graph_from_address('Athens, Municipality of Athens, Regional Unit of Central Athens, Attica, 10667, Greece', network_type='drive')  \n",
    "        df = nearest_graph_data(df,graph)\n",
    "        df = direction(df)\n",
    "        average_edge_speed = _calc_average_edge_speed(df)\n",
    "     \"\"\"\n",
    "    df['edge_progress_intervals'] = df.groupby(['nearest_edge_start_node'])['edge_progress'].transform(lambda x: x-x%0.1)\n",
    "    df2 = df.reset_index().groupby(['nearest_edge_start_node','nearest_edge_end_node','edge_progress_intervals','dir'])['speed'].mean()\n",
    "    return df2"
   ]
  },
  {
   "cell_type": "code",
   "execution_count": 11,
   "metadata": {
    "scrolled": true
   },
   "outputs": [
    {
     "name": "stdout",
     "output_type": "stream",
     "text": [
      "nearest_edge_start_node  nearest_edge_end_node  edge_progress_intervals  dir\n",
      "250698924                250698925              0.2                      1      34.901307\n",
      "                                                0.3                      1      32.959313\n",
      "                                                0.4                      0      10.412650\n",
      "                                                                         1      23.738398\n",
      "Name: speed, dtype: float64\n"
     ]
    }
   ],
   "source": [
    "print(_calc_average_edge_speed(df))"
   ]
  }
 ],
 "metadata": {
  "kernelspec": {
   "display_name": "Python 3",
   "language": "python",
   "name": "python3"
  },
  "language_info": {
   "codemirror_mode": {
    "name": "ipython",
    "version": 3
   },
   "file_extension": ".py",
   "mimetype": "text/x-python",
   "name": "python",
   "nbconvert_exporter": "python",
   "pygments_lexer": "ipython3",
   "version": "3.8.3"
  }
 },
 "nbformat": 4,
 "nbformat_minor": 4
}
