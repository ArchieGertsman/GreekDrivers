{
 "metadata": {
  "language_info": {
   "codemirror_mode": {
    "name": "ipython",
    "version": 3
   },
   "file_extension": ".py",
   "mimetype": "text/x-python",
   "name": "python",
   "nbconvert_exporter": "python",
   "pygments_lexer": "ipython3",
   "version": "3.8.3-final"
  },
  "orig_nbformat": 2,
  "kernelspec": {
   "name": "python3",
   "display_name": "Python 3",
   "language": "python"
  }
 },
 "nbformat": 4,
 "nbformat_minor": 2,
 "cells": [
  {
   "cell_type": "code",
   "execution_count": 1,
   "metadata": {},
   "outputs": [],
   "source": [
    "import numpy as np\n",
    "import pandas as pd\n",
    "from Data import Data "
   ]
  },
  {
   "cell_type": "code",
   "execution_count": 2,
   "metadata": {},
   "outputs": [],
   "source": [
    "in_fname = 'sample_larger.csv'\n",
    "\n",
    "with open(in_fname, \"r\") as f:\n",
    "    temp = f.readlines()\n",
    "    \n",
    "rows = temp[1:]"
   ]
  },
  {
   "cell_type": "code",
   "execution_count": 3,
   "metadata": {},
   "outputs": [
    {
     "output_type": "stream",
     "name": "stdout",
     "text": [
      "                lat        lon    speed  lon_acc  lat_acc  type  traveled_d  \\\nid time                                                                       \n1  0.00   37.977482  23.735405  34.0206  -0.0167   0.0074  Taxi      320.26   \n   0.04   37.977485  23.735402  34.0197   0.0040   0.0086  Taxi      320.26   \n   0.08   37.977488  23.735400  34.0211   0.0167   0.0097  Taxi      320.26   \n   0.12   37.977491  23.735398  34.0245   0.0294   0.0108  Taxi      320.26   \n   0.16   37.977494  23.735395  34.0305   0.0540   0.0120  Taxi      320.26   \n...             ...        ...      ...      ...      ...   ...         ...   \n   32.44  37.979880  23.733397  25.7480  -0.0222  -0.2716  Taxi      320.26   \n   32.48  37.979882  23.733395  25.7457  -0.0218  -0.2617  Taxi      320.26   \n   32.52  37.979884  23.733393  25.7434  -0.0205  -0.2487  Taxi      320.26   \n   32.56  37.979886  23.733391  25.7412  -0.0193  -0.2328  Taxi      320.26   \n   32.60  37.979888  23.733389  25.7390  -0.0186  -0.2163  Taxi      320.26   \n\n          avg_speed  \nid time              \n1  0.00   35.366264  \n   0.04   35.366264  \n   0.08   35.366264  \n   0.12   35.366264  \n   0.16   35.366264  \n...             ...  \n   32.44  35.366264  \n   32.48  35.366264  \n   32.52  35.366264  \n   32.56  35.366264  \n   32.60  35.366264  \n\n[816 rows x 8 columns]\n"
     ]
    }
   ],
   "source": [
    "# header includes: id, type, traveled_d, avg_speed\n",
    "H = 4 # header length\n",
    "\n",
    "# data includes: lat, lon, speed, lon_acc, lat_acc, time\n",
    "D = 6 # data length\n",
    "\n",
    "idx_names = ['id', 'time']\n",
    "col_names = ['lat', 'lon', 'speed', 'lon_acc', 'lat_acc']\n",
    "\n",
    "def process(row_str):\n",
    "    parts = row_str.strip().strip(\";\").split(\";\")\n",
    "    header = parts[:H]\n",
    "    data = np.array(parts[H:], dtype=np.float)\n",
    "    data = data.reshape(-1, D)\n",
    "\n",
    "    # create MultiIndex from id and time\n",
    "    timesteps = data[:,-1]\n",
    "    id_arr = np.full(timesteps.shape, int(header[0].strip()))\n",
    "    tups = list(zip(id_arr, timesteps))\n",
    "    mul = pd.MultiIndex.from_tuples(tups, names=idx_names)\n",
    "\n",
    "    data = data[:,:-1] # exclude time from data\n",
    "    df = pd.DataFrame(data, columns=col_names, index=mul)\n",
    "    df = df.assign(\n",
    "        type=header[1].strip(),\n",
    "        traveled_d=float(header[2]),\n",
    "        avg_speed=float(header[3])\n",
    "    )\n",
    "    return df\n",
    "\n",
    "print(process(rows[0]))"
   ]
  },
  {
   "cell_type": "code",
   "execution_count": 4,
   "metadata": {},
   "outputs": [],
   "source": [
    "multi_index_df = Data('sample_larger.csv').df"
   ]
  },
  {
   "cell_type": "code",
   "execution_count": 6,
   "metadata": {},
   "outputs": [
    {
     "output_type": "execute_result",
     "data": {
      "text/plain": [
       "                  lat        lon    speed  lon_acc  lat_acc  type  traveled_d  \\\n",
       "id  time                                                                        \n",
       "1   0.00    37.977482  23.735405  34.0206  -0.0167   0.0074  Taxi      320.26   \n",
       "    0.04    37.977485  23.735402  34.0197   0.0040   0.0086  Taxi      320.26   \n",
       "    0.08    37.977488  23.735400  34.0211   0.0167   0.0097  Taxi      320.26   \n",
       "    0.12    37.977491  23.735398  34.0245   0.0294   0.0108  Taxi      320.26   \n",
       "    0.16    37.977494  23.735395  34.0305   0.0540   0.0120  Taxi      320.26   \n",
       "...               ...        ...      ...      ...      ...   ...         ...   \n",
       "498 117.24  37.976108  23.734443  15.3720  -1.6492  -0.9860   Car      141.47   \n",
       "    117.28  37.976107  23.734441  15.1933  -1.5682  -0.9499   Car      141.47   \n",
       "    117.32  37.976107  23.734440  15.0228  -1.4310  -0.9036   Car      141.47   \n",
       "    117.36  37.976107  23.734438  14.8672  -1.2553  -0.8471   Car      141.47   \n",
       "    117.40  37.976106  23.734436  14.7286  -1.0897  -0.7889   Car      141.47   \n",
       "\n",
       "            avg_speed  \n",
       "id  time               \n",
       "1   0.00    35.366264  \n",
       "    0.04    35.366264  \n",
       "    0.08    35.366264  \n",
       "    0.12    35.366264  \n",
       "    0.16    35.366264  \n",
       "...               ...  \n",
       "498 117.24   8.872855  \n",
       "    117.28   8.872855  \n",
       "    117.32   8.872855  \n",
       "    117.36   8.872855  \n",
       "    117.40   8.872855  \n",
       "\n",
       "[845628 rows x 8 columns]"
      ],
      "text/html": "<div>\n<style scoped>\n    .dataframe tbody tr th:only-of-type {\n        vertical-align: middle;\n    }\n\n    .dataframe tbody tr th {\n        vertical-align: top;\n    }\n\n    .dataframe thead th {\n        text-align: right;\n    }\n</style>\n<table border=\"1\" class=\"dataframe\">\n  <thead>\n    <tr style=\"text-align: right;\">\n      <th></th>\n      <th></th>\n      <th>lat</th>\n      <th>lon</th>\n      <th>speed</th>\n      <th>lon_acc</th>\n      <th>lat_acc</th>\n      <th>type</th>\n      <th>traveled_d</th>\n      <th>avg_speed</th>\n    </tr>\n    <tr>\n      <th>id</th>\n      <th>time</th>\n      <th></th>\n      <th></th>\n      <th></th>\n      <th></th>\n      <th></th>\n      <th></th>\n      <th></th>\n      <th></th>\n    </tr>\n  </thead>\n  <tbody>\n    <tr>\n      <th rowspan=\"5\" valign=\"top\">1</th>\n      <th>0.00</th>\n      <td>37.977482</td>\n      <td>23.735405</td>\n      <td>34.0206</td>\n      <td>-0.0167</td>\n      <td>0.0074</td>\n      <td>Taxi</td>\n      <td>320.26</td>\n      <td>35.366264</td>\n    </tr>\n    <tr>\n      <th>0.04</th>\n      <td>37.977485</td>\n      <td>23.735402</td>\n      <td>34.0197</td>\n      <td>0.0040</td>\n      <td>0.0086</td>\n      <td>Taxi</td>\n      <td>320.26</td>\n      <td>35.366264</td>\n    </tr>\n    <tr>\n      <th>0.08</th>\n      <td>37.977488</td>\n      <td>23.735400</td>\n      <td>34.0211</td>\n      <td>0.0167</td>\n      <td>0.0097</td>\n      <td>Taxi</td>\n      <td>320.26</td>\n      <td>35.366264</td>\n    </tr>\n    <tr>\n      <th>0.12</th>\n      <td>37.977491</td>\n      <td>23.735398</td>\n      <td>34.0245</td>\n      <td>0.0294</td>\n      <td>0.0108</td>\n      <td>Taxi</td>\n      <td>320.26</td>\n      <td>35.366264</td>\n    </tr>\n    <tr>\n      <th>0.16</th>\n      <td>37.977494</td>\n      <td>23.735395</td>\n      <td>34.0305</td>\n      <td>0.0540</td>\n      <td>0.0120</td>\n      <td>Taxi</td>\n      <td>320.26</td>\n      <td>35.366264</td>\n    </tr>\n    <tr>\n      <th>...</th>\n      <th>...</th>\n      <td>...</td>\n      <td>...</td>\n      <td>...</td>\n      <td>...</td>\n      <td>...</td>\n      <td>...</td>\n      <td>...</td>\n      <td>...</td>\n    </tr>\n    <tr>\n      <th rowspan=\"5\" valign=\"top\">498</th>\n      <th>117.24</th>\n      <td>37.976108</td>\n      <td>23.734443</td>\n      <td>15.3720</td>\n      <td>-1.6492</td>\n      <td>-0.9860</td>\n      <td>Car</td>\n      <td>141.47</td>\n      <td>8.872855</td>\n    </tr>\n    <tr>\n      <th>117.28</th>\n      <td>37.976107</td>\n      <td>23.734441</td>\n      <td>15.1933</td>\n      <td>-1.5682</td>\n      <td>-0.9499</td>\n      <td>Car</td>\n      <td>141.47</td>\n      <td>8.872855</td>\n    </tr>\n    <tr>\n      <th>117.32</th>\n      <td>37.976107</td>\n      <td>23.734440</td>\n      <td>15.0228</td>\n      <td>-1.4310</td>\n      <td>-0.9036</td>\n      <td>Car</td>\n      <td>141.47</td>\n      <td>8.872855</td>\n    </tr>\n    <tr>\n      <th>117.36</th>\n      <td>37.976107</td>\n      <td>23.734438</td>\n      <td>14.8672</td>\n      <td>-1.2553</td>\n      <td>-0.8471</td>\n      <td>Car</td>\n      <td>141.47</td>\n      <td>8.872855</td>\n    </tr>\n    <tr>\n      <th>117.40</th>\n      <td>37.976106</td>\n      <td>23.734436</td>\n      <td>14.7286</td>\n      <td>-1.0897</td>\n      <td>-0.7889</td>\n      <td>Car</td>\n      <td>141.47</td>\n      <td>8.872855</td>\n    </tr>\n  </tbody>\n</table>\n<p>845628 rows × 8 columns</p>\n</div>"
     },
     "metadata": {},
     "execution_count": 6
    }
   ],
   "source": [
    "multi_index_df"
   ]
  }
 ]
}