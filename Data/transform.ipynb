{
 "metadata": {
  "language_info": {
   "codemirror_mode": {
    "name": "ipython",
    "version": 3
   },
   "file_extension": ".py",
   "mimetype": "text/x-python",
   "name": "python",
   "nbconvert_exporter": "python",
   "pygments_lexer": "ipython3",
   "version": "3.8.5-final"
  },
  "orig_nbformat": 2,
  "kernelspec": {
   "name": "python3",
   "display_name": "Python 3",
   "language": "python"
  }
 },
 "nbformat": 4,
 "nbformat_minor": 2,
 "cells": [
  {
   "cell_type": "code",
   "execution_count": 2,
   "metadata": {},
   "outputs": [],
   "source": [
    "import numpy as np\n",
    "import pandas as pd"
   ]
  },
  {
   "cell_type": "code",
   "execution_count": 41,
   "metadata": {},
   "outputs": [],
   "source": [
    "in_fname = 'sample_larger.csv'\n",
    "\n",
    "with open(in_fname, \"r\") as f:\n",
    "    temp = f.readlines()\n",
    "    \n",
    "rows = temp[1:]"
   ]
  },
  {
   "cell_type": "code",
   "execution_count": 48,
   "metadata": {},
   "outputs": [
    {
     "output_type": "stream",
     "name": "stdout",
     "text": [
      "                lat        lon    speed  lon_acc  lat_acc  type  traveled_d  \\\nid time                                                                       \n1  0.00   37.977482  23.735405  34.0206  -0.0167   0.0074  Taxi      320.26   \n   0.04   37.977485  23.735402  34.0197   0.0040   0.0086  Taxi      320.26   \n   0.08   37.977488  23.735400  34.0211   0.0167   0.0097  Taxi      320.26   \n   0.12   37.977491  23.735398  34.0245   0.0294   0.0108  Taxi      320.26   \n   0.16   37.977494  23.735395  34.0305   0.0540   0.0120  Taxi      320.26   \n...             ...        ...      ...      ...      ...   ...         ...   \n   32.44  37.979880  23.733397  25.7480  -0.0222  -0.2716  Taxi      320.26   \n   32.48  37.979882  23.733395  25.7457  -0.0218  -0.2617  Taxi      320.26   \n   32.52  37.979884  23.733393  25.7434  -0.0205  -0.2487  Taxi      320.26   \n   32.56  37.979886  23.733391  25.7412  -0.0193  -0.2328  Taxi      320.26   \n   32.60  37.979888  23.733389  25.7390  -0.0186  -0.2163  Taxi      320.26   \n\n          avg_speed  \nid time              \n1  0.00   35.366264  \n   0.04   35.366264  \n   0.08   35.366264  \n   0.12   35.366264  \n   0.16   35.366264  \n...             ...  \n   32.44  35.366264  \n   32.48  35.366264  \n   32.52  35.366264  \n   32.56  35.366264  \n   32.60  35.366264  \n\n[816 rows x 8 columns]\n"
     ]
    }
   ],
   "source": [
    "# header includes: id, type, traveled_d, avg_speed\n",
    "H = 4 # header length\n",
    "\n",
    "# data includes: lat, lon, speed, lon_acc, lat_acc, time\n",
    "D = 6 # data length\n",
    "\n",
    "idx_names = ['id', 'time']\n",
    "col_names = ['lat', 'lon', 'speed', 'lon_acc', 'lat_acc']\n",
    "\n",
    "def process(row_str):\n",
    "    parts = row_str.strip().strip(\";\").split(\";\")\n",
    "    header = parts[:H]\n",
    "    data = np.array(parts[H:], dtype=np.float)\n",
    "    data = data.reshape(-1, D)\n",
    "\n",
    "    # create MultiIndex from id and time\n",
    "    timesteps = data[:,-1]\n",
    "    id_arr = np.full(timesteps.shape, int(header[0].strip()))\n",
    "    tups = list(zip(id_arr, timesteps))\n",
    "    mul = pd.MultiIndex.from_tuples(tups, names=idx_names)\n",
    "\n",
    "    data = data[:,:-1] # exclude time from data\n",
    "    df = pd.DataFrame(data, columns=col_names, index=mul)\n",
    "    df = df.assign(\n",
    "        type=header[1].strip(),\n",
    "        traveled_d=float(header[2]),\n",
    "        avg_speed=float(header[3])\n",
    "    )\n",
    "    return df\n",
    "\n",
    "print(process(rows[0]))"
   ]
  },
  {
   "cell_type": "code",
   "execution_count": null,
   "metadata": {},
   "outputs": [],
   "source": []
  }
 ]
}