{
 "metadata": {
  "language_info": {
   "codemirror_mode": {
    "name": "ipython",
    "version": 3
   },
   "file_extension": ".py",
   "mimetype": "text/x-python",
   "name": "python",
   "nbconvert_exporter": "python",
   "pygments_lexer": "ipython3",
   "version": "3.8.5-final"
  },
  "orig_nbformat": 2,
  "kernelspec": {
   "name": "python3",
   "display_name": "Python 3",
   "language": "python"
  }
 },
 "nbformat": 4,
 "nbformat_minor": 2,
 "cells": [
  {
   "cell_type": "code",
   "execution_count": 21,
   "metadata": {},
   "outputs": [],
   "source": [
    "import numpy as np\n",
    "import pandas as pd"
   ]
  },
  {
   "cell_type": "code",
   "execution_count": 2,
   "metadata": {},
   "outputs": [],
   "source": [
    "in_fname = 'sample.csv'\n",
    "\n",
    "with open(in_fname, \"r\") as f:\n",
    "    temp=f.readlines()\n",
    "    \n",
    "(header,data)=(temp[0],temp[1:])"
   ]
  },
  {
   "cell_type": "code",
   "execution_count": 3,
   "metadata": {},
   "outputs": [
    {
     "output_type": "execute_result",
     "data": {
      "text/plain": [
       "'1; Car; 1.81; 10.850992; 37.979838; 23.733420; 11.6261; 0.0000; -0.0000; 0.000000; 37.979839; 23.733419; 11.6261; -0.0000; -0.0000; 0.040000; 37.979840; 23.733418; 11.6261; 0.0000; -0.0000; 0.080000; 37.979841; 23.733418; 11.6261; -0.0000; -0.0000; 0.120000; 37.979842; 23.733417; 11.6261; -0.0000; 0.0000; 0.160000; 37.979843; 23.733416; 11.6261; 0.0000; 0.0000; 0.200000; 37.979844; 23.733415; 11.6261; -0.0000; -0.0000; 0.240000; 37.979845; 23.733414; 11.6261; 0.0000; 0.0000; 0.280000; 37.979845; 23.733413; 11.6261; -0.0000; -0.0000; 0.320000; 37.979846; 23.733412; 11.6261; -0.0000; 0.0000; 0.360000; 37.979847; 23.733412; 11.6261; -0.0000; -0.0000; 0.400000; 37.979848; 23.733411; 11.6261; 0.0000; 0.0000; 0.440000; 37.979849; 23.733410; 11.6261; -0.0000; -0.0000; 0.480000; 37.979850; 23.733409; 11.6261; -0.0000; -0.0000; 0.520000; 37.979851; 23.733408; 11.6261; -0.0000; -0.0000; 0.560000; 37.979852; 23.733407; 11.6261; 0.0000; -0.0000; 0.600000; \\n'"
      ]
     },
     "metadata": {},
     "execution_count": 3
    }
   ],
   "source": [
    "data[0]"
   ]
  },
  {
   "cell_type": "code",
   "execution_count": 38,
   "metadata": {},
   "outputs": [
    {
     "output_type": "stream",
     "name": "stdout",
     "text": [
      "          lat        lon    speed  lon_acc  lat_acc  time track_id type  \\\n0   37.979838  23.733420  11.6261      0.0     -0.0  0.00        1  Car   \n1   37.979839  23.733419  11.6261     -0.0     -0.0  0.04        1  Car   \n2   37.979840  23.733418  11.6261      0.0     -0.0  0.08        1  Car   \n3   37.979841  23.733418  11.6261     -0.0     -0.0  0.12        1  Car   \n4   37.979842  23.733417  11.6261     -0.0      0.0  0.16        1  Car   \n5   37.979843  23.733416  11.6261      0.0      0.0  0.20        1  Car   \n6   37.979844  23.733415  11.6261     -0.0     -0.0  0.24        1  Car   \n7   37.979845  23.733414  11.6261      0.0      0.0  0.28        1  Car   \n8   37.979845  23.733413  11.6261     -0.0     -0.0  0.32        1  Car   \n9   37.979846  23.733412  11.6261     -0.0      0.0  0.36        1  Car   \n10  37.979847  23.733412  11.6261     -0.0     -0.0  0.40        1  Car   \n11  37.979848  23.733411  11.6261      0.0      0.0  0.44        1  Car   \n12  37.979849  23.733410  11.6261     -0.0     -0.0  0.48        1  Car   \n13  37.979850  23.733409  11.6261     -0.0     -0.0  0.52        1  Car   \n14  37.979851  23.733408  11.6261     -0.0     -0.0  0.56        1  Car   \n15  37.979852  23.733407  11.6261      0.0     -0.0  0.60        1  Car   \n\n    traveled_d  avg_speed  \n0         1.81  10.850992  \n1         1.81  10.850992  \n2         1.81  10.850992  \n3         1.81  10.850992  \n4         1.81  10.850992  \n5         1.81  10.850992  \n6         1.81  10.850992  \n7         1.81  10.850992  \n8         1.81  10.850992  \n9         1.81  10.850992  \n10        1.81  10.850992  \n11        1.81  10.850992  \n12        1.81  10.850992  \n13        1.81  10.850992  \n14        1.81  10.850992  \n15        1.81  10.850992  \n"
     ]
    }
   ],
   "source": [
    "data_len=6\n",
    "\n",
    "def process(in_str):\n",
    "    parts = in_str.strip().strip(\";\").split(\";\")\n",
    "    header = parts[:4]\n",
    "    updates = np.array(parts[4:], dtype=np.float)\n",
    "    updates = updates.reshape(-1, data_len)\n",
    "    df = pd.DataFrame(updates, columns=['lat', 'lon', 'speed', 'lon_acc', 'lat_acc', 'time'])\n",
    "    df = df.assign(\n",
    "        track_id=header[0].strip(),\n",
    "        type=header[1].strip(),\n",
    "        traveled_d=float(header[2]),\n",
    "        avg_speed=float(header[3])\n",
    "    )\n",
    "    print(df)\n",
    "    # mul = pd.MultiIndex(df, )\n",
    "\n",
    "process(data[0])"
   ]
  },
  {
   "cell_type": "code",
   "execution_count": null,
   "metadata": {},
   "outputs": [],
   "source": []
  }
 ]
}