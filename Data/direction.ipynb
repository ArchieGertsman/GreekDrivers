{
 "metadata": {
  "language_info": {
   "codemirror_mode": {
    "name": "ipython",
    "version": 3
   },
   "file_extension": ".py",
   "mimetype": "text/x-python",
   "name": "python",
   "nbconvert_exporter": "python",
   "pygments_lexer": "ipython3",
   "version": "3.9.2-final"
  },
  "orig_nbformat": 2,
  "kernelspec": {
   "name": "python3",
   "display_name": "Python 3.9.2 64-bit",
   "metadata": {
    "interpreter": {
     "hash": "72326583629048dad8c9a913f12cb6cad5a38ceace067d86c7872c2b0df37259"
    }
   }
  }
 },
 "nbformat": 4,
 "nbformat_minor": 2,
 "cells": [
  {
   "cell_type": "code",
   "execution_count": 5,
   "metadata": {},
   "outputs": [],
   "source": [
    "from data import csv_to_df\n",
    "from feature_eng import nearest_graph_data, direction\n",
    "import osmnx as ox\n",
    "import pandas as pd"
   ]
  },
  {
   "cell_type": "code",
   "execution_count": 6,
   "metadata": {},
   "outputs": [
    {
     "output_type": "execute_result",
     "data": {
      "text/plain": [
       "               lat        lon    speed  lon_acc  lat_acc type  traveled_d  \\\n",
       "id time                                                                     \n",
       "1  0.00  37.979838  23.733420  11.6261   0.0000  -0.0000  Car        1.81   \n",
       "   0.04  37.979839  23.733419  11.6261  -0.0000  -0.0000  Car        1.81   \n",
       "   0.08  37.979840  23.733418  11.6261   0.0000  -0.0000  Car        1.81   \n",
       "   0.12  37.979841  23.733418  11.6261  -0.0000  -0.0000  Car        1.81   \n",
       "   0.16  37.979842  23.733417  11.6261  -0.0000   0.0000  Car        1.81   \n",
       "...            ...        ...      ...      ...      ...  ...         ...   \n",
       "4  0.88  37.979791  23.733461  11.5642   1.4709  -0.1422  Car        9.85   \n",
       "   0.92  37.979792  23.733460  11.7780   1.4995  -0.1380  Car        9.85   \n",
       "   0.96  37.979793  23.733459  11.9956   1.5222  -0.1328  Car        9.85   \n",
       "   1.00  37.979794  23.733459  12.2160   1.5392  -0.1268  Car        9.85   \n",
       "   1.04  37.979795  23.733458  12.4364   1.5218  -0.1198  Car        9.85   \n",
       "\n",
       "         avg_speed  nearest_node  nearest_edge_start_node  \\\n",
       "id time                                                     \n",
       "1  0.00  10.850992     250698924                250698924   \n",
       "   0.04  10.850992     250698924                250698924   \n",
       "   0.08  10.850992     250698924                250698924   \n",
       "   0.12  10.850992     250698924                250698924   \n",
       "   0.16  10.850992     250698924                250698924   \n",
       "...            ...           ...                      ...   \n",
       "4  0.88  12.660487     250698924                250698924   \n",
       "   0.92  12.660487     250698924                250698924   \n",
       "   0.96  12.660487     250698924                250698924   \n",
       "   1.00  12.660487     250698924                250698924   \n",
       "   1.04  12.660487     250698924                250698924   \n",
       "\n",
       "         nearest_edge_end_node  edge_progress  \n",
       "id time                                        \n",
       "1  0.00              250698925       0.470782  \n",
       "   0.04              250698925       0.471786  \n",
       "   0.08              250698925       0.472789  \n",
       "   0.12              250698925       0.473461  \n",
       "   0.16              250698925       0.474465  \n",
       "...                        ...            ...  \n",
       "4  0.88              250698925       0.425600  \n",
       "   0.92              250698925       0.426603  \n",
       "   0.96              250698925       0.427607  \n",
       "   1.00              250698925       0.428280  \n",
       "   1.04              250698925       0.429284  \n",
       "\n",
       "[100 rows x 12 columns]"
      ],
      "text/html": "<div>\n<style scoped>\n    .dataframe tbody tr th:only-of-type {\n        vertical-align: middle;\n    }\n\n    .dataframe tbody tr th {\n        vertical-align: top;\n    }\n\n    .dataframe thead th {\n        text-align: right;\n    }\n</style>\n<table border=\"1\" class=\"dataframe\">\n  <thead>\n    <tr style=\"text-align: right;\">\n      <th></th>\n      <th></th>\n      <th>lat</th>\n      <th>lon</th>\n      <th>speed</th>\n      <th>lon_acc</th>\n      <th>lat_acc</th>\n      <th>type</th>\n      <th>traveled_d</th>\n      <th>avg_speed</th>\n      <th>nearest_node</th>\n      <th>nearest_edge_start_node</th>\n      <th>nearest_edge_end_node</th>\n      <th>edge_progress</th>\n    </tr>\n    <tr>\n      <th>id</th>\n      <th>time</th>\n      <th></th>\n      <th></th>\n      <th></th>\n      <th></th>\n      <th></th>\n      <th></th>\n      <th></th>\n      <th></th>\n      <th></th>\n      <th></th>\n      <th></th>\n      <th></th>\n    </tr>\n  </thead>\n  <tbody>\n    <tr>\n      <th rowspan=\"5\" valign=\"top\">1</th>\n      <th>0.00</th>\n      <td>37.979838</td>\n      <td>23.733420</td>\n      <td>11.6261</td>\n      <td>0.0000</td>\n      <td>-0.0000</td>\n      <td>Car</td>\n      <td>1.81</td>\n      <td>10.850992</td>\n      <td>250698924</td>\n      <td>250698924</td>\n      <td>250698925</td>\n      <td>0.470782</td>\n    </tr>\n    <tr>\n      <th>0.04</th>\n      <td>37.979839</td>\n      <td>23.733419</td>\n      <td>11.6261</td>\n      <td>-0.0000</td>\n      <td>-0.0000</td>\n      <td>Car</td>\n      <td>1.81</td>\n      <td>10.850992</td>\n      <td>250698924</td>\n      <td>250698924</td>\n      <td>250698925</td>\n      <td>0.471786</td>\n    </tr>\n    <tr>\n      <th>0.08</th>\n      <td>37.979840</td>\n      <td>23.733418</td>\n      <td>11.6261</td>\n      <td>0.0000</td>\n      <td>-0.0000</td>\n      <td>Car</td>\n      <td>1.81</td>\n      <td>10.850992</td>\n      <td>250698924</td>\n      <td>250698924</td>\n      <td>250698925</td>\n      <td>0.472789</td>\n    </tr>\n    <tr>\n      <th>0.12</th>\n      <td>37.979841</td>\n      <td>23.733418</td>\n      <td>11.6261</td>\n      <td>-0.0000</td>\n      <td>-0.0000</td>\n      <td>Car</td>\n      <td>1.81</td>\n      <td>10.850992</td>\n      <td>250698924</td>\n      <td>250698924</td>\n      <td>250698925</td>\n      <td>0.473461</td>\n    </tr>\n    <tr>\n      <th>0.16</th>\n      <td>37.979842</td>\n      <td>23.733417</td>\n      <td>11.6261</td>\n      <td>-0.0000</td>\n      <td>0.0000</td>\n      <td>Car</td>\n      <td>1.81</td>\n      <td>10.850992</td>\n      <td>250698924</td>\n      <td>250698924</td>\n      <td>250698925</td>\n      <td>0.474465</td>\n    </tr>\n    <tr>\n      <th>...</th>\n      <th>...</th>\n      <td>...</td>\n      <td>...</td>\n      <td>...</td>\n      <td>...</td>\n      <td>...</td>\n      <td>...</td>\n      <td>...</td>\n      <td>...</td>\n      <td>...</td>\n      <td>...</td>\n      <td>...</td>\n      <td>...</td>\n    </tr>\n    <tr>\n      <th rowspan=\"5\" valign=\"top\">4</th>\n      <th>0.88</th>\n      <td>37.979791</td>\n      <td>23.733461</td>\n      <td>11.5642</td>\n      <td>1.4709</td>\n      <td>-0.1422</td>\n      <td>Car</td>\n      <td>9.85</td>\n      <td>12.660487</td>\n      <td>250698924</td>\n      <td>250698924</td>\n      <td>250698925</td>\n      <td>0.425600</td>\n    </tr>\n    <tr>\n      <th>0.92</th>\n      <td>37.979792</td>\n      <td>23.733460</td>\n      <td>11.7780</td>\n      <td>1.4995</td>\n      <td>-0.1380</td>\n      <td>Car</td>\n      <td>9.85</td>\n      <td>12.660487</td>\n      <td>250698924</td>\n      <td>250698924</td>\n      <td>250698925</td>\n      <td>0.426603</td>\n    </tr>\n    <tr>\n      <th>0.96</th>\n      <td>37.979793</td>\n      <td>23.733459</td>\n      <td>11.9956</td>\n      <td>1.5222</td>\n      <td>-0.1328</td>\n      <td>Car</td>\n      <td>9.85</td>\n      <td>12.660487</td>\n      <td>250698924</td>\n      <td>250698924</td>\n      <td>250698925</td>\n      <td>0.427607</td>\n    </tr>\n    <tr>\n      <th>1.00</th>\n      <td>37.979794</td>\n      <td>23.733459</td>\n      <td>12.2160</td>\n      <td>1.5392</td>\n      <td>-0.1268</td>\n      <td>Car</td>\n      <td>9.85</td>\n      <td>12.660487</td>\n      <td>250698924</td>\n      <td>250698924</td>\n      <td>250698925</td>\n      <td>0.428280</td>\n    </tr>\n    <tr>\n      <th>1.04</th>\n      <td>37.979795</td>\n      <td>23.733458</td>\n      <td>12.4364</td>\n      <td>1.5218</td>\n      <td>-0.1198</td>\n      <td>Car</td>\n      <td>9.85</td>\n      <td>12.660487</td>\n      <td>250698924</td>\n      <td>250698924</td>\n      <td>250698925</td>\n      <td>0.429284</td>\n    </tr>\n  </tbody>\n</table>\n<p>100 rows × 12 columns</p>\n</div>"
     },
     "metadata": {},
     "execution_count": 6
    }
   ],
   "source": [
    "df = csv_to_df('sample.csv')[:100]\n",
    "graph = ox.graph_from_address(\n",
    "    'Athens, Municipality of Athens, Regional Unit of Central Athens, Attica, 10667, Greece', \n",
    "    network_type='drive'\n",
    ")\n",
    "df = nearest_graph_data(df, graph)\n",
    "df"
   ]
  },
  {
   "cell_type": "code",
   "execution_count": 40,
   "metadata": {},
   "outputs": [],
   "source": [
    "def direction1(df):\n",
    "    df_1 = df\n",
    "    df_2 = df.shift(-1)\n",
    "\n",
    "    df3 = (df_1['edge_progress'] < df_2['edge_progress']).astype(int)\n",
    "    if len(df3) > 1:\n",
    "        df3.iloc[-1] = df3.iloc[-2]\n",
    "    return df3"
   ]
  },
  {
   "cell_type": "code",
   "execution_count": 41,
   "metadata": {},
   "outputs": [
    {
     "output_type": "execute_result",
     "data": {
      "text/plain": [
       "id  time\n",
       "1   0.00    1\n",
       "    0.04    1\n",
       "    0.08    1\n",
       "    0.12    1\n",
       "    0.16    1\n",
       "           ..\n",
       "4   0.88    1\n",
       "    0.92    1\n",
       "    0.96    1\n",
       "    1.00    1\n",
       "    1.04    1\n",
       "Name: edge_progress, Length: 100, dtype: int64"
      ]
     },
     "metadata": {},
     "execution_count": 41
    }
   ],
   "source": [
    "df2 = df.groupby(['id', 'nearest_edge_start_node', 'nearest_edge_end_node'], as_index=False, group_keys=False).apply(direction1)\n",
    "df2"
   ]
  },
  {
   "cell_type": "code",
   "execution_count": 24,
   "metadata": {},
   "outputs": [
    {
     "output_type": "execute_result",
     "data": {
      "text/plain": [
       "id  time\n",
       "4   0.00    1\n",
       "    0.04    1\n",
       "    0.08    1\n",
       "    0.12    1\n",
       "    0.16    1\n",
       "    0.20    1\n",
       "    0.24    1\n",
       "    0.28    1\n",
       "    0.32    1\n",
       "    0.36    1\n",
       "    0.40    1\n",
       "    0.44    1\n",
       "    0.48    1\n",
       "    0.52    1\n",
       "    0.56    1\n",
       "    0.60    1\n",
       "    0.64    1\n",
       "    0.68    1\n",
       "    0.72    1\n",
       "    0.76    1\n",
       "    0.80    1\n",
       "    0.84    1\n",
       "    0.88    1\n",
       "    0.92    1\n",
       "    0.96    1\n",
       "    1.00    1\n",
       "    1.04    1\n",
       "Name: edge_progress, dtype: int64"
      ]
     },
     "metadata": {},
     "execution_count": 24
    }
   ],
   "source": [
    "direction1(df, 4)"
   ]
  },
  {
   "cell_type": "code",
   "execution_count": null,
   "metadata": {},
   "outputs": [],
   "source": []
  }
 ]
}