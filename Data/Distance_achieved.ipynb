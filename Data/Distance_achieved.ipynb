{
 "cells": [
  {
   "cell_type": "code",
   "execution_count": 2,
   "metadata": {},
   "outputs": [],
   "source": [
    "import warnings\n",
    "warnings.filterwarnings(\"ignore\", category=DeprecationWarning)"
   ]
  },
  {
   "cell_type": "code",
   "execution_count": 28,
   "metadata": {},
   "outputs": [],
   "source": [
    "import osmnx as ox\n",
    "import pandas as pd\n",
    "import numpy as np\n",
    "from Data import Data \n",
    "import networkx as nx\n",
    "from networkx import algorithms \n",
    "import math"
   ]
  },
  {
   "cell_type": "code",
   "execution_count": 4,
   "metadata": {},
   "outputs": [],
   "source": [
    "graph = ox.graph_from_address('Athens, Municipality of Athens, Regional Unit of Central Athens, Attica, 10667, Greece', network_type='drive') "
   ]
  },
  {
   "cell_type": "code",
   "execution_count": 5,
   "metadata": {},
   "outputs": [],
   "source": [
    "df = pd.read_pickle(\"Data_sample.pkl\")\n",
    "X = df.copy()"
   ]
  },
  {
   "cell_type": "code",
   "execution_count": 76,
   "metadata": {},
   "outputs": [],
   "source": [
    "#get the nearest edge and node for each location:\n",
    "nodes = np.zeros(len(df))\n",
    "EdgeStart = np.zeros(len(df))\n",
    "EdgeEnd = np.zeros(len(df))\n",
    "for i in range(len(df)):\n",
    "    tup1 = (df.iloc[i]['lat'], df.iloc[i]['lon'])\n",
    "    nodes[i] = ox.get_nearest_node(graph, tup1 , method='euclidean')\n",
    "    start, end, c = ox.get_nearest_edge(graph, tup1)\n",
    "    EdgeStart[i] = start\n",
    "    EdgeEnd[i] = end"
   ]
  },
  {
   "cell_type": "code",
   "execution_count": 78,
   "metadata": {},
   "outputs": [],
   "source": [
    "df['Nearest Node'] = nodes\n",
    "df['Nearest Edge Start'] =  EdgeStart\n",
    "df['Nearest Edge End'] =  EdgeEnd"
   ]
  },
  {
   "cell_type": "code",
   "execution_count": 79,
   "metadata": {},
   "outputs": [
    {
     "data": {
      "text/html": [
       "<div>\n",
       "<style scoped>\n",
       "    .dataframe tbody tr th:only-of-type {\n",
       "        vertical-align: middle;\n",
       "    }\n",
       "\n",
       "    .dataframe tbody tr th {\n",
       "        vertical-align: top;\n",
       "    }\n",
       "\n",
       "    .dataframe thead th {\n",
       "        text-align: right;\n",
       "    }\n",
       "</style>\n",
       "<table border=\"1\" class=\"dataframe\">\n",
       "  <thead>\n",
       "    <tr style=\"text-align: right;\">\n",
       "      <th></th>\n",
       "      <th></th>\n",
       "      <th>lat</th>\n",
       "      <th>lon</th>\n",
       "      <th>speed</th>\n",
       "      <th>lon_acc</th>\n",
       "      <th>lat_acc</th>\n",
       "      <th>type</th>\n",
       "      <th>traveled_d</th>\n",
       "      <th>avg_speed</th>\n",
       "      <th>Nearest Node</th>\n",
       "      <th>Nearest Edge First NodeID</th>\n",
       "      <th>Nearest Edge Second NodeID</th>\n",
       "      <th>Nearest Edge Start</th>\n",
       "      <th>Nearest Edge End</th>\n",
       "    </tr>\n",
       "    <tr>\n",
       "      <th>id</th>\n",
       "      <th>time</th>\n",
       "      <th></th>\n",
       "      <th></th>\n",
       "      <th></th>\n",
       "      <th></th>\n",
       "      <th></th>\n",
       "      <th></th>\n",
       "      <th></th>\n",
       "      <th></th>\n",
       "      <th></th>\n",
       "      <th></th>\n",
       "      <th></th>\n",
       "      <th></th>\n",
       "      <th></th>\n",
       "    </tr>\n",
       "  </thead>\n",
       "  <tbody>\n",
       "    <tr>\n",
       "      <th rowspan=\"5\" valign=\"top\">1</th>\n",
       "      <th>0.00</th>\n",
       "      <td>37.977482</td>\n",
       "      <td>23.735405</td>\n",
       "      <td>34.0206</td>\n",
       "      <td>-0.0167</td>\n",
       "      <td>0.0074</td>\n",
       "      <td>Taxi</td>\n",
       "      <td>320.26</td>\n",
       "      <td>35.366264</td>\n",
       "      <td>3.339822e+09</td>\n",
       "      <td>250692418</td>\n",
       "      <td>250692401</td>\n",
       "      <td>3.339822e+09</td>\n",
       "      <td>250691723.0</td>\n",
       "    </tr>\n",
       "    <tr>\n",
       "      <th>0.04</th>\n",
       "      <td>37.977485</td>\n",
       "      <td>23.735402</td>\n",
       "      <td>34.0197</td>\n",
       "      <td>0.0040</td>\n",
       "      <td>0.0086</td>\n",
       "      <td>Taxi</td>\n",
       "      <td>320.26</td>\n",
       "      <td>35.366264</td>\n",
       "      <td>3.339822e+09</td>\n",
       "      <td>250692418</td>\n",
       "      <td>250692401</td>\n",
       "      <td>3.339822e+09</td>\n",
       "      <td>250691723.0</td>\n",
       "    </tr>\n",
       "    <tr>\n",
       "      <th>0.08</th>\n",
       "      <td>37.977488</td>\n",
       "      <td>23.735400</td>\n",
       "      <td>34.0211</td>\n",
       "      <td>0.0167</td>\n",
       "      <td>0.0097</td>\n",
       "      <td>Taxi</td>\n",
       "      <td>320.26</td>\n",
       "      <td>35.366264</td>\n",
       "      <td>3.339822e+09</td>\n",
       "      <td>250692418</td>\n",
       "      <td>250692401</td>\n",
       "      <td>3.339822e+09</td>\n",
       "      <td>250691723.0</td>\n",
       "    </tr>\n",
       "    <tr>\n",
       "      <th>0.12</th>\n",
       "      <td>37.977491</td>\n",
       "      <td>23.735398</td>\n",
       "      <td>34.0245</td>\n",
       "      <td>0.0294</td>\n",
       "      <td>0.0108</td>\n",
       "      <td>Taxi</td>\n",
       "      <td>320.26</td>\n",
       "      <td>35.366264</td>\n",
       "      <td>3.339822e+09</td>\n",
       "      <td>250692418</td>\n",
       "      <td>250692401</td>\n",
       "      <td>3.339822e+09</td>\n",
       "      <td>250691723.0</td>\n",
       "    </tr>\n",
       "    <tr>\n",
       "      <th>0.16</th>\n",
       "      <td>37.977494</td>\n",
       "      <td>23.735395</td>\n",
       "      <td>34.0305</td>\n",
       "      <td>0.0540</td>\n",
       "      <td>0.0120</td>\n",
       "      <td>Taxi</td>\n",
       "      <td>320.26</td>\n",
       "      <td>35.366264</td>\n",
       "      <td>3.339822e+09</td>\n",
       "      <td>250692418</td>\n",
       "      <td>250692401</td>\n",
       "      <td>3.339822e+09</td>\n",
       "      <td>250691723.0</td>\n",
       "    </tr>\n",
       "    <tr>\n",
       "      <th>...</th>\n",
       "      <th>...</th>\n",
       "      <td>...</td>\n",
       "      <td>...</td>\n",
       "      <td>...</td>\n",
       "      <td>...</td>\n",
       "      <td>...</td>\n",
       "      <td>...</td>\n",
       "      <td>...</td>\n",
       "      <td>...</td>\n",
       "      <td>...</td>\n",
       "      <td>...</td>\n",
       "      <td>...</td>\n",
       "      <td>...</td>\n",
       "      <td>...</td>\n",
       "    </tr>\n",
       "    <tr>\n",
       "      <th rowspan=\"5\" valign=\"top\">5</th>\n",
       "      <th>29.24</th>\n",
       "      <td>37.979836</td>\n",
       "      <td>23.733313</td>\n",
       "      <td>36.8072</td>\n",
       "      <td>-3.7893</td>\n",
       "      <td>1.1652</td>\n",
       "      <td>Car</td>\n",
       "      <td>272.25</td>\n",
       "      <td>33.336716</td>\n",
       "      <td>2.506989e+08</td>\n",
       "      <td>250692418</td>\n",
       "      <td>250692401</td>\n",
       "      <td>2.506989e+08</td>\n",
       "      <td>250698925.0</td>\n",
       "    </tr>\n",
       "    <tr>\n",
       "      <th>29.28</th>\n",
       "      <td>37.979838</td>\n",
       "      <td>23.733311</td>\n",
       "      <td>36.4768</td>\n",
       "      <td>-3.8277</td>\n",
       "      <td>1.1690</td>\n",
       "      <td>Car</td>\n",
       "      <td>272.25</td>\n",
       "      <td>33.336716</td>\n",
       "      <td>2.506989e+08</td>\n",
       "      <td>250692418</td>\n",
       "      <td>250692401</td>\n",
       "      <td>2.506989e+08</td>\n",
       "      <td>250698925.0</td>\n",
       "    </tr>\n",
       "    <tr>\n",
       "      <th>29.32</th>\n",
       "      <td>37.979841</td>\n",
       "      <td>23.733309</td>\n",
       "      <td>36.1375</td>\n",
       "      <td>-3.8118</td>\n",
       "      <td>1.1665</td>\n",
       "      <td>Car</td>\n",
       "      <td>272.25</td>\n",
       "      <td>33.336716</td>\n",
       "      <td>2.506989e+08</td>\n",
       "      <td>250692418</td>\n",
       "      <td>250692401</td>\n",
       "      <td>2.506989e+08</td>\n",
       "      <td>250698925.0</td>\n",
       "    </tr>\n",
       "    <tr>\n",
       "      <th>29.36</th>\n",
       "      <td>37.979844</td>\n",
       "      <td>23.733306</td>\n",
       "      <td>35.7859</td>\n",
       "      <td>-3.8818</td>\n",
       "      <td>1.1568</td>\n",
       "      <td>Car</td>\n",
       "      <td>272.25</td>\n",
       "      <td>33.336716</td>\n",
       "      <td>2.506989e+08</td>\n",
       "      <td>250692418</td>\n",
       "      <td>250692401</td>\n",
       "      <td>2.506989e+08</td>\n",
       "      <td>250698925.0</td>\n",
       "    </tr>\n",
       "    <tr>\n",
       "      <th>29.40</th>\n",
       "      <td>37.979847</td>\n",
       "      <td>23.733304</td>\n",
       "      <td>35.4092</td>\n",
       "      <td>-4.0068</td>\n",
       "      <td>1.1387</td>\n",
       "      <td>Car</td>\n",
       "      <td>272.25</td>\n",
       "      <td>33.336716</td>\n",
       "      <td>2.506989e+08</td>\n",
       "      <td>250692418</td>\n",
       "      <td>250692401</td>\n",
       "      <td>2.506989e+08</td>\n",
       "      <td>250698925.0</td>\n",
       "    </tr>\n",
       "  </tbody>\n",
       "</table>\n",
       "<p>3460 rows × 13 columns</p>\n",
       "</div>"
      ],
      "text/plain": [
       "                lat        lon    speed  lon_acc  lat_acc  type  traveled_d  \\\n",
       "id time                                                                       \n",
       "1  0.00   37.977482  23.735405  34.0206  -0.0167   0.0074  Taxi      320.26   \n",
       "   0.04   37.977485  23.735402  34.0197   0.0040   0.0086  Taxi      320.26   \n",
       "   0.08   37.977488  23.735400  34.0211   0.0167   0.0097  Taxi      320.26   \n",
       "   0.12   37.977491  23.735398  34.0245   0.0294   0.0108  Taxi      320.26   \n",
       "   0.16   37.977494  23.735395  34.0305   0.0540   0.0120  Taxi      320.26   \n",
       "...             ...        ...      ...      ...      ...   ...         ...   \n",
       "5  29.24  37.979836  23.733313  36.8072  -3.7893   1.1652   Car      272.25   \n",
       "   29.28  37.979838  23.733311  36.4768  -3.8277   1.1690   Car      272.25   \n",
       "   29.32  37.979841  23.733309  36.1375  -3.8118   1.1665   Car      272.25   \n",
       "   29.36  37.979844  23.733306  35.7859  -3.8818   1.1568   Car      272.25   \n",
       "   29.40  37.979847  23.733304  35.4092  -4.0068   1.1387   Car      272.25   \n",
       "\n",
       "          avg_speed  Nearest Node  Nearest Edge First NodeID  \\\n",
       "id time                                                        \n",
       "1  0.00   35.366264  3.339822e+09                  250692418   \n",
       "   0.04   35.366264  3.339822e+09                  250692418   \n",
       "   0.08   35.366264  3.339822e+09                  250692418   \n",
       "   0.12   35.366264  3.339822e+09                  250692418   \n",
       "   0.16   35.366264  3.339822e+09                  250692418   \n",
       "...             ...           ...                        ...   \n",
       "5  29.24  33.336716  2.506989e+08                  250692418   \n",
       "   29.28  33.336716  2.506989e+08                  250692418   \n",
       "   29.32  33.336716  2.506989e+08                  250692418   \n",
       "   29.36  33.336716  2.506989e+08                  250692418   \n",
       "   29.40  33.336716  2.506989e+08                  250692418   \n",
       "\n",
       "          Nearest Edge Second NodeID  Nearest Edge Start  Nearest Edge End  \n",
       "id time                                                                     \n",
       "1  0.00                    250692401        3.339822e+09       250691723.0  \n",
       "   0.04                    250692401        3.339822e+09       250691723.0  \n",
       "   0.08                    250692401        3.339822e+09       250691723.0  \n",
       "   0.12                    250692401        3.339822e+09       250691723.0  \n",
       "   0.16                    250692401        3.339822e+09       250691723.0  \n",
       "...                              ...                 ...               ...  \n",
       "5  29.24                   250692401        2.506989e+08       250698925.0  \n",
       "   29.28                   250692401        2.506989e+08       250698925.0  \n",
       "   29.32                   250692401        2.506989e+08       250698925.0  \n",
       "   29.36                   250692401        2.506989e+08       250698925.0  \n",
       "   29.40                   250692401        2.506989e+08       250698925.0  \n",
       "\n",
       "[3460 rows x 13 columns]"
      ]
     },
     "execution_count": 79,
     "metadata": {},
     "output_type": "execute_result"
    }
   ],
   "source": [
    "df"
   ]
  },
  {
   "cell_type": "code",
   "execution_count": 80,
   "metadata": {},
   "outputs": [],
   "source": [
    "def Distance_achieved(edge_node1,edge_node2,lonV, latV):\n",
    "    #assuming that edge_node1 is the starting point\n",
    "    lon0 = graph.nodes[edge_node1]['x']\n",
    "    lon1 = graph.nodes[edge_node1]['x']\n",
    "    lat0 = graph.nodes[edge_node1]['y']\n",
    "    lat1 = graph.nodes[edge_node2]['y']\n",
    "    a = Distance_Euc(lon0, lat0, lon1, lat1)\n",
    "    b = Distance_Euc(lon0, lat0, lonV, latV)\n",
    "    return b/a"
   ]
  },
  {
   "cell_type": "code",
   "execution_count": 81,
   "metadata": {},
   "outputs": [],
   "source": [
    "def Distance_Euc(lon0, lat0, lon1, lat1):\n",
    "    lon0 = math.radians(lon0)\n",
    "    lat0 = math.radians(lat0)\n",
    "    lon1 = math.radians(lon1)\n",
    "    lat1 = math.radians(lat1)\n",
    "    dlon = lon1 - lon0\n",
    "    dlat = lat1 - lat0\n",
    "    a = math.sin(dlat / 2)**2 + math.cos(lat0) * math.cos(lat1) * math.sin(dlon / 2)**2\n",
    "    c = 2 * math.atan2(math.sqrt(a), math.sqrt(1 - a))\n",
    "    return 6373.0*c"
   ]
  },
  {
   "cell_type": "code",
   "execution_count": null,
   "metadata": {},
   "outputs": [],
   "source": []
  },
  {
   "cell_type": "code",
   "execution_count": 82,
   "metadata": {},
   "outputs": [],
   "source": [
    "Dis = np.zeros(len(df))\n",
    "for i in range(len(df)):\n",
    "    b = df.iloc[i]['lon']\n",
    "    c = df.iloc[i]['lat']\n",
    "    a = Distance_achieved(df.iloc[i]['Nearest Edge Start'], df.iloc[i]['Nearest Edge End'], b, c)\n",
    "    Dis[i] = a"
   ]
  },
  {
   "cell_type": "code",
   "execution_count": 84,
   "metadata": {},
   "outputs": [],
   "source": [
    "df['Distance Achieved'] = Dis"
   ]
  },
  {
   "cell_type": "code",
   "execution_count": 85,
   "metadata": {},
   "outputs": [
    {
     "data": {
      "text/html": [
       "<div>\n",
       "<style scoped>\n",
       "    .dataframe tbody tr th:only-of-type {\n",
       "        vertical-align: middle;\n",
       "    }\n",
       "\n",
       "    .dataframe tbody tr th {\n",
       "        vertical-align: top;\n",
       "    }\n",
       "\n",
       "    .dataframe thead th {\n",
       "        text-align: right;\n",
       "    }\n",
       "</style>\n",
       "<table border=\"1\" class=\"dataframe\">\n",
       "  <thead>\n",
       "    <tr style=\"text-align: right;\">\n",
       "      <th></th>\n",
       "      <th></th>\n",
       "      <th>lat</th>\n",
       "      <th>lon</th>\n",
       "      <th>speed</th>\n",
       "      <th>lon_acc</th>\n",
       "      <th>lat_acc</th>\n",
       "      <th>type</th>\n",
       "      <th>traveled_d</th>\n",
       "      <th>avg_speed</th>\n",
       "      <th>Nearest Node</th>\n",
       "      <th>Nearest Edge First NodeID</th>\n",
       "      <th>Nearest Edge Second NodeID</th>\n",
       "      <th>Nearest Edge Start</th>\n",
       "      <th>Nearest Edge End</th>\n",
       "      <th>Distance Achieved</th>\n",
       "    </tr>\n",
       "    <tr>\n",
       "      <th>id</th>\n",
       "      <th>time</th>\n",
       "      <th></th>\n",
       "      <th></th>\n",
       "      <th></th>\n",
       "      <th></th>\n",
       "      <th></th>\n",
       "      <th></th>\n",
       "      <th></th>\n",
       "      <th></th>\n",
       "      <th></th>\n",
       "      <th></th>\n",
       "      <th></th>\n",
       "      <th></th>\n",
       "      <th></th>\n",
       "      <th></th>\n",
       "    </tr>\n",
       "  </thead>\n",
       "  <tbody>\n",
       "    <tr>\n",
       "      <th rowspan=\"5\" valign=\"top\">1</th>\n",
       "      <th>0.00</th>\n",
       "      <td>37.977482</td>\n",
       "      <td>23.735405</td>\n",
       "      <td>34.0206</td>\n",
       "      <td>-0.0167</td>\n",
       "      <td>0.0074</td>\n",
       "      <td>Taxi</td>\n",
       "      <td>320.26</td>\n",
       "      <td>35.366264</td>\n",
       "      <td>3.339822e+09</td>\n",
       "      <td>250692418</td>\n",
       "      <td>250692401</td>\n",
       "      <td>3.339822e+09</td>\n",
       "      <td>250691723.0</td>\n",
       "      <td>0.592525</td>\n",
       "    </tr>\n",
       "    <tr>\n",
       "      <th>0.04</th>\n",
       "      <td>37.977485</td>\n",
       "      <td>23.735402</td>\n",
       "      <td>34.0197</td>\n",
       "      <td>0.0040</td>\n",
       "      <td>0.0086</td>\n",
       "      <td>Taxi</td>\n",
       "      <td>320.26</td>\n",
       "      <td>35.366264</td>\n",
       "      <td>3.339822e+09</td>\n",
       "      <td>250692418</td>\n",
       "      <td>250692401</td>\n",
       "      <td>3.339822e+09</td>\n",
       "      <td>250691723.0</td>\n",
       "      <td>0.595703</td>\n",
       "    </tr>\n",
       "    <tr>\n",
       "      <th>0.08</th>\n",
       "      <td>37.977488</td>\n",
       "      <td>23.735400</td>\n",
       "      <td>34.0211</td>\n",
       "      <td>0.0167</td>\n",
       "      <td>0.0097</td>\n",
       "      <td>Taxi</td>\n",
       "      <td>320.26</td>\n",
       "      <td>35.366264</td>\n",
       "      <td>3.339822e+09</td>\n",
       "      <td>250692418</td>\n",
       "      <td>250692401</td>\n",
       "      <td>3.339822e+09</td>\n",
       "      <td>250691723.0</td>\n",
       "      <td>0.598527</td>\n",
       "    </tr>\n",
       "    <tr>\n",
       "      <th>0.12</th>\n",
       "      <td>37.977491</td>\n",
       "      <td>23.735398</td>\n",
       "      <td>34.0245</td>\n",
       "      <td>0.0294</td>\n",
       "      <td>0.0108</td>\n",
       "      <td>Taxi</td>\n",
       "      <td>320.26</td>\n",
       "      <td>35.366264</td>\n",
       "      <td>3.339822e+09</td>\n",
       "      <td>250692418</td>\n",
       "      <td>250692401</td>\n",
       "      <td>3.339822e+09</td>\n",
       "      <td>250691723.0</td>\n",
       "      <td>0.601351</td>\n",
       "    </tr>\n",
       "    <tr>\n",
       "      <th>0.16</th>\n",
       "      <td>37.977494</td>\n",
       "      <td>23.735395</td>\n",
       "      <td>34.0305</td>\n",
       "      <td>0.0540</td>\n",
       "      <td>0.0120</td>\n",
       "      <td>Taxi</td>\n",
       "      <td>320.26</td>\n",
       "      <td>35.366264</td>\n",
       "      <td>3.339822e+09</td>\n",
       "      <td>250692418</td>\n",
       "      <td>250692401</td>\n",
       "      <td>3.339822e+09</td>\n",
       "      <td>250691723.0</td>\n",
       "      <td>0.604529</td>\n",
       "    </tr>\n",
       "    <tr>\n",
       "      <th>...</th>\n",
       "      <th>...</th>\n",
       "      <td>...</td>\n",
       "      <td>...</td>\n",
       "      <td>...</td>\n",
       "      <td>...</td>\n",
       "      <td>...</td>\n",
       "      <td>...</td>\n",
       "      <td>...</td>\n",
       "      <td>...</td>\n",
       "      <td>...</td>\n",
       "      <td>...</td>\n",
       "      <td>...</td>\n",
       "      <td>...</td>\n",
       "      <td>...</td>\n",
       "      <td>...</td>\n",
       "    </tr>\n",
       "    <tr>\n",
       "      <th rowspan=\"5\" valign=\"top\">5</th>\n",
       "      <th>29.24</th>\n",
       "      <td>37.979836</td>\n",
       "      <td>23.733313</td>\n",
       "      <td>36.8072</td>\n",
       "      <td>-3.7893</td>\n",
       "      <td>1.1652</td>\n",
       "      <td>Car</td>\n",
       "      <td>272.25</td>\n",
       "      <td>33.336716</td>\n",
       "      <td>2.506989e+08</td>\n",
       "      <td>250692418</td>\n",
       "      <td>250692401</td>\n",
       "      <td>2.506989e+08</td>\n",
       "      <td>250698925.0</td>\n",
       "      <td>0.617300</td>\n",
       "    </tr>\n",
       "    <tr>\n",
       "      <th>29.28</th>\n",
       "      <td>37.979838</td>\n",
       "      <td>23.733311</td>\n",
       "      <td>36.4768</td>\n",
       "      <td>-3.8277</td>\n",
       "      <td>1.1690</td>\n",
       "      <td>Car</td>\n",
       "      <td>272.25</td>\n",
       "      <td>33.336716</td>\n",
       "      <td>2.506989e+08</td>\n",
       "      <td>250692418</td>\n",
       "      <td>250692401</td>\n",
       "      <td>2.506989e+08</td>\n",
       "      <td>250698925.0</td>\n",
       "      <td>0.619753</td>\n",
       "    </tr>\n",
       "    <tr>\n",
       "      <th>29.32</th>\n",
       "      <td>37.979841</td>\n",
       "      <td>23.733309</td>\n",
       "      <td>36.1375</td>\n",
       "      <td>-3.8118</td>\n",
       "      <td>1.1665</td>\n",
       "      <td>Car</td>\n",
       "      <td>272.25</td>\n",
       "      <td>33.336716</td>\n",
       "      <td>2.506989e+08</td>\n",
       "      <td>250692418</td>\n",
       "      <td>250692401</td>\n",
       "      <td>2.506989e+08</td>\n",
       "      <td>250698925.0</td>\n",
       "      <td>0.622959</td>\n",
       "    </tr>\n",
       "    <tr>\n",
       "      <th>29.36</th>\n",
       "      <td>37.979844</td>\n",
       "      <td>23.733306</td>\n",
       "      <td>35.7859</td>\n",
       "      <td>-3.8818</td>\n",
       "      <td>1.1568</td>\n",
       "      <td>Car</td>\n",
       "      <td>272.25</td>\n",
       "      <td>33.336716</td>\n",
       "      <td>2.506989e+08</td>\n",
       "      <td>250692418</td>\n",
       "      <td>250692401</td>\n",
       "      <td>2.506989e+08</td>\n",
       "      <td>250698925.0</td>\n",
       "      <td>0.626638</td>\n",
       "    </tr>\n",
       "    <tr>\n",
       "      <th>29.40</th>\n",
       "      <td>37.979847</td>\n",
       "      <td>23.733304</td>\n",
       "      <td>35.4092</td>\n",
       "      <td>-4.0068</td>\n",
       "      <td>1.1387</td>\n",
       "      <td>Car</td>\n",
       "      <td>272.25</td>\n",
       "      <td>33.336716</td>\n",
       "      <td>2.506989e+08</td>\n",
       "      <td>250692418</td>\n",
       "      <td>250692401</td>\n",
       "      <td>2.506989e+08</td>\n",
       "      <td>250698925.0</td>\n",
       "      <td>0.629844</td>\n",
       "    </tr>\n",
       "  </tbody>\n",
       "</table>\n",
       "<p>3460 rows × 14 columns</p>\n",
       "</div>"
      ],
      "text/plain": [
       "                lat        lon    speed  lon_acc  lat_acc  type  traveled_d  \\\n",
       "id time                                                                       \n",
       "1  0.00   37.977482  23.735405  34.0206  -0.0167   0.0074  Taxi      320.26   \n",
       "   0.04   37.977485  23.735402  34.0197   0.0040   0.0086  Taxi      320.26   \n",
       "   0.08   37.977488  23.735400  34.0211   0.0167   0.0097  Taxi      320.26   \n",
       "   0.12   37.977491  23.735398  34.0245   0.0294   0.0108  Taxi      320.26   \n",
       "   0.16   37.977494  23.735395  34.0305   0.0540   0.0120  Taxi      320.26   \n",
       "...             ...        ...      ...      ...      ...   ...         ...   \n",
       "5  29.24  37.979836  23.733313  36.8072  -3.7893   1.1652   Car      272.25   \n",
       "   29.28  37.979838  23.733311  36.4768  -3.8277   1.1690   Car      272.25   \n",
       "   29.32  37.979841  23.733309  36.1375  -3.8118   1.1665   Car      272.25   \n",
       "   29.36  37.979844  23.733306  35.7859  -3.8818   1.1568   Car      272.25   \n",
       "   29.40  37.979847  23.733304  35.4092  -4.0068   1.1387   Car      272.25   \n",
       "\n",
       "          avg_speed  Nearest Node  Nearest Edge First NodeID  \\\n",
       "id time                                                        \n",
       "1  0.00   35.366264  3.339822e+09                  250692418   \n",
       "   0.04   35.366264  3.339822e+09                  250692418   \n",
       "   0.08   35.366264  3.339822e+09                  250692418   \n",
       "   0.12   35.366264  3.339822e+09                  250692418   \n",
       "   0.16   35.366264  3.339822e+09                  250692418   \n",
       "...             ...           ...                        ...   \n",
       "5  29.24  33.336716  2.506989e+08                  250692418   \n",
       "   29.28  33.336716  2.506989e+08                  250692418   \n",
       "   29.32  33.336716  2.506989e+08                  250692418   \n",
       "   29.36  33.336716  2.506989e+08                  250692418   \n",
       "   29.40  33.336716  2.506989e+08                  250692418   \n",
       "\n",
       "          Nearest Edge Second NodeID  Nearest Edge Start  Nearest Edge End  \\\n",
       "id time                                                                      \n",
       "1  0.00                    250692401        3.339822e+09       250691723.0   \n",
       "   0.04                    250692401        3.339822e+09       250691723.0   \n",
       "   0.08                    250692401        3.339822e+09       250691723.0   \n",
       "   0.12                    250692401        3.339822e+09       250691723.0   \n",
       "   0.16                    250692401        3.339822e+09       250691723.0   \n",
       "...                              ...                 ...               ...   \n",
       "5  29.24                   250692401        2.506989e+08       250698925.0   \n",
       "   29.28                   250692401        2.506989e+08       250698925.0   \n",
       "   29.32                   250692401        2.506989e+08       250698925.0   \n",
       "   29.36                   250692401        2.506989e+08       250698925.0   \n",
       "   29.40                   250692401        2.506989e+08       250698925.0   \n",
       "\n",
       "          Distance Achieved  \n",
       "id time                      \n",
       "1  0.00            0.592525  \n",
       "   0.04            0.595703  \n",
       "   0.08            0.598527  \n",
       "   0.12            0.601351  \n",
       "   0.16            0.604529  \n",
       "...                     ...  \n",
       "5  29.24           0.617300  \n",
       "   29.28           0.619753  \n",
       "   29.32           0.622959  \n",
       "   29.36           0.626638  \n",
       "   29.40           0.629844  \n",
       "\n",
       "[3460 rows x 14 columns]"
      ]
     },
     "execution_count": 85,
     "metadata": {},
     "output_type": "execute_result"
    }
   ],
   "source": [
    "df"
   ]
  },
  {
   "cell_type": "code",
   "execution_count": 41,
   "metadata": {},
   "outputs": [
    {
     "data": {
      "text/plain": [
       "38.295199201188716"
      ]
     },
     "execution_count": 41,
     "metadata": {},
     "output_type": "execute_result"
    }
   ],
   "source": []
  },
  {
   "cell_type": "code",
   "execution_count": 36,
   "metadata": {},
   "outputs": [],
   "source": []
  },
  {
   "cell_type": "code",
   "execution_count": 47,
   "metadata": {},
   "outputs": [
    {
     "data": {
      "text/plain": [
       "0.31964235624777326"
      ]
     },
     "execution_count": 47,
     "metadata": {},
     "output_type": "execute_result"
    }
   ],
   "source": []
  },
  {
   "cell_type": "code",
   "execution_count": 48,
   "metadata": {},
   "outputs": [
    {
     "data": {
      "text/plain": [
       "0.373240968109744"
      ]
     },
     "execution_count": 48,
     "metadata": {},
     "output_type": "execute_result"
    }
   ],
   "source": []
  },
  {
   "cell_type": "code",
   "execution_count": 49,
   "metadata": {},
   "outputs": [
    {
     "data": {
      "text/plain": [
       "0.05806963530107411"
      ]
     },
     "execution_count": 49,
     "metadata": {},
     "output_type": "execute_result"
    }
   ],
   "source": []
  },
  {
   "cell_type": "code",
   "execution_count": 54,
   "metadata": {},
   "outputs": [
    {
     "data": {
      "text/plain": [
       "(3339821648,\n",
       " 250691723,\n",
       " 0,\n",
       " <shapely.geometry.linestring.LineString at 0x7f8305a1a790>,\n",
       " 2.0233523004191226e-05)"
      ]
     },
     "execution_count": 54,
     "metadata": {},
     "output_type": "execute_result"
    }
   ],
   "source": []
  },
  {
   "cell_type": "code",
   "execution_count": 55,
   "metadata": {},
   "outputs": [
    {
     "data": {
      "text/plain": [
       "<networkx.classes.multidigraph.MultiDiGraph at 0x7f82fe39c9d0>"
      ]
     },
     "execution_count": 55,
     "metadata": {},
     "output_type": "execute_result"
    }
   ],
   "source": [
    "\n"
   ]
  },
  {
   "cell_type": "code",
   "execution_count": 63,
   "metadata": {},
   "outputs": [
    {
     "data": {
      "text/plain": [
       "3339821648"
      ]
     },
     "execution_count": 63,
     "metadata": {},
     "output_type": "execute_result"
    }
   ],
   "source": []
  },
  {
   "cell_type": "code",
   "execution_count": 64,
   "metadata": {},
   "outputs": [
    {
     "data": {
      "text/plain": [
       "23.7358882"
      ]
     },
     "execution_count": 64,
     "metadata": {},
     "output_type": "execute_result"
    }
   ],
   "source": []
  },
  {
   "cell_type": "code",
   "execution_count": 68,
   "metadata": {},
   "outputs": [
    {
     "data": {
      "text/plain": [
       "(3339821648, 250691723, 0)"
      ]
     },
     "execution_count": 68,
     "metadata": {},
     "output_type": "execute_result"
    }
   ],
   "source": []
  },
  {
   "cell_type": "code",
   "execution_count": 69,
   "metadata": {},
   "outputs": [],
   "source": []
  },
  {
   "cell_type": "code",
   "execution_count": 70,
   "metadata": {},
   "outputs": [
    {
     "data": {
      "text/plain": [
       "0.0788241591869522"
      ]
     },
     "execution_count": 70,
     "metadata": {},
     "output_type": "execute_result"
    }
   ],
   "source": []
  },
  {
   "cell_type": "code",
   "execution_count": 71,
   "metadata": {},
   "outputs": [
    {
     "data": {
      "text/plain": [
       "0.08177279461877263"
      ]
     },
     "execution_count": 71,
     "metadata": {},
     "output_type": "execute_result"
    }
   ],
   "source": []
  },
  {
   "cell_type": "code",
   "execution_count": 72,
   "metadata": {},
   "outputs": [
    {
     "data": {
      "text/plain": [
       "0.16054182547279708"
      ]
     },
     "execution_count": 72,
     "metadata": {},
     "output_type": "execute_result"
    }
   ],
   "source": []
  },
  {
   "cell_type": "code",
   "execution_count": 74,
   "metadata": {},
   "outputs": [
    {
     "data": {
      "text/plain": [
       "3339821648"
      ]
     },
     "execution_count": 74,
     "metadata": {},
     "output_type": "execute_result"
    }
   ],
   "source": []
  },
  {
   "cell_type": "code",
   "execution_count": 77,
   "metadata": {},
   "outputs": [
    {
     "data": {
      "text/plain": [
       "array([3.33982165e+09, 3.33982165e+09, 3.33982165e+09, ...,\n",
       "       2.50698925e+08, 2.50698925e+08, 2.50698925e+08])"
      ]
     },
     "execution_count": 77,
     "metadata": {},
     "output_type": "execute_result"
    }
   ],
   "source": [
    "nodes"
   ]
  },
  {
   "cell_type": "code",
   "execution_count": null,
   "metadata": {},
   "outputs": [],
   "source": []
  }
 ],
 "metadata": {
  "kernelspec": {
   "display_name": "Python 3",
   "language": "python",
   "name": "python3"
  },
  "language_info": {
   "codemirror_mode": {
    "name": "ipython",
    "version": 3
   },
   "file_extension": ".py",
   "mimetype": "text/x-python",
   "name": "python",
   "nbconvert_exporter": "python",
   "pygments_lexer": "ipython3",
   "version": "3.7.4"
  }
 },
 "nbformat": 4,
 "nbformat_minor": 2
}
