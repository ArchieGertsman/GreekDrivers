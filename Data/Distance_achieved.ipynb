{
 "cells": [
  {
   "cell_type": "code",
   "execution_count": 2,
   "metadata": {},
   "outputs": [],
   "source": [
    "import warnings\n",
    "warnings.filterwarnings(\"ignore\", category=DeprecationWarning)"
   ]
  },
  {
   "cell_type": "code",
   "execution_count": 1,
   "metadata": {},
   "outputs": [],
   "source": [
    "import osmnx as ox\n",
    "import pandas as pd\n",
    "import numpy as np\n",
    "from Data import Data \n",
    "import networkx as nx\n",
    "from networkx import algorithms \n",
    "import math"
   ]
  },
  {
   "cell_type": "code",
   "execution_count": 2,
   "metadata": {},
   "outputs": [],
   "source": [
    "graph = ox.graph_from_address('Athens, Municipality of Athens, Regional Unit of Central Athens, Attica, 10667, Greece', network_type='drive') "
   ]
  },
  {
   "cell_type": "code",
   "execution_count": 5,
   "metadata": {},
   "outputs": [],
   "source": [
    "df = pd.read_pickle(\"sample.pkl\")\n",
    "X = df.copy()"
   ]
  },
  {
   "cell_type": "code",
   "execution_count": 35,
   "metadata": {},
   "outputs": [],
   "source": [
    "EARTH_RADIUS = 6373\n",
    "\n",
    "def euc_dist(coord0, lon1, lat1):\n",
    "    lat0, lon0 = coord0\n",
    "    lat1, lon1 = coord1\n",
    "\n",
    "    lat0, lon0 = math.radians(lat0), math.radians(lon0)\n",
    "    lat1, lon1 = math.radians(lat1), math.radians(lon1)\n",
    "\n",
    "    dlat = lat1 - lat0\n",
    "    dlon = lon1 - lon0\n",
    "\n",
    "    a = math.sin(dlat/2)**2 + math.cos(lat0) * math.cos(lat1) * math.sin(dlon/2)**2\n",
    "    c = 2 * math.atan2(math.sqrt(a), math.sqrt(1-a))\n",
    "    return EARTH_RADIUS*c"
   ]
  },
  {
   "cell_type": "code",
   "execution_count": 36,
   "metadata": {},
   "outputs": [],
   "source": [
    "def edge_progress(edge_start_node, edge_end_node, v_coord):\n",
    "    start_coord = graph.nodes[edge_start_node]['y'], graph.nodes[edge_start_node]['x']\n",
    "    end_coord = graph.nodes[edge_end_node]['y'], graph.nodes[edge_end_node]['x']\n",
    "\n",
    "    a = Distance_Euc(start_coord, end_coord)\n",
    "    b = Distance_Euc(start_coord, v_coord)\n",
    "    return b/a"
   ]
  },
  {
   "cell_type": "code",
   "execution_count": 38,
   "metadata": {},
   "outputs": [
    {
     "output_type": "execute_result",
     "data": {
      "text/plain": [
       "               lat        lon    speed  lon_acc  lat_acc  type  traveled_d  \\\n",
       "id time                                                                      \n",
       "1  0.00  37.977482  23.735405  34.0206  -0.0167   0.0074  Taxi      320.26   \n",
       "   0.04  37.977485  23.735402  34.0197   0.0040   0.0086  Taxi      320.26   \n",
       "   0.08  37.977488  23.735400  34.0211   0.0167   0.0097  Taxi      320.26   \n",
       "   0.12  37.977491  23.735398  34.0245   0.0294   0.0108  Taxi      320.26   \n",
       "   0.16  37.977494  23.735395  34.0305   0.0540   0.0120  Taxi      320.26   \n",
       "...            ...        ...      ...      ...      ...   ...         ...   \n",
       "   3.80  37.977757  23.735172  34.8537   0.3544   0.0463  Taxi      320.26   \n",
       "   3.84  37.977760  23.735170  34.9059   0.3712   0.0331  Taxi      320.26   \n",
       "   3.88  37.977763  23.735167  34.9604   0.3853   0.0206  Taxi      320.26   \n",
       "   3.92  37.977766  23.735165  35.0167   0.3967   0.0086  Taxi      320.26   \n",
       "   3.96  37.977769  23.735163  35.0745   0.4064  -0.0027  Taxi      320.26   \n",
       "\n",
       "         avg_speed          NN         NES        NEE  Edge Progress  \n",
       "id time                                                               \n",
       "1  0.00  35.366264  3339821648  3339821648  250691723       0.488886  \n",
       "   0.04  35.366264  3339821648  3339821648  250691723       0.491508  \n",
       "   0.08  35.366264  3339821648  3339821648  250691723       0.493838  \n",
       "   0.12  35.366264  3339821648  3339821648  250691723       0.496168  \n",
       "   0.16  35.366264  3339821648  3339821648  250691723       0.498790  \n",
       "...            ...         ...         ...        ...            ...  \n",
       "   3.80  35.366264   250691723  3339821648  250691723       0.716986  \n",
       "   3.84  35.366264   250691723  3339821648  250691723       0.719314  \n",
       "   3.88  35.366264   250691723  3339821648  250691723       0.721938  \n",
       "   3.92  35.366264   250691723  3339821648  250691723       0.724267  \n",
       "   3.96  35.366264   250691723  3339821648  250691723       0.726595  \n",
       "\n",
       "[100 rows x 12 columns]"
      ],
      "text/html": "<div>\n<style scoped>\n    .dataframe tbody tr th:only-of-type {\n        vertical-align: middle;\n    }\n\n    .dataframe tbody tr th {\n        vertical-align: top;\n    }\n\n    .dataframe thead th {\n        text-align: right;\n    }\n</style>\n<table border=\"1\" class=\"dataframe\">\n  <thead>\n    <tr style=\"text-align: right;\">\n      <th></th>\n      <th></th>\n      <th>lat</th>\n      <th>lon</th>\n      <th>speed</th>\n      <th>lon_acc</th>\n      <th>lat_acc</th>\n      <th>type</th>\n      <th>traveled_d</th>\n      <th>avg_speed</th>\n      <th>NN</th>\n      <th>NES</th>\n      <th>NEE</th>\n      <th>Edge Progress</th>\n    </tr>\n    <tr>\n      <th>id</th>\n      <th>time</th>\n      <th></th>\n      <th></th>\n      <th></th>\n      <th></th>\n      <th></th>\n      <th></th>\n      <th></th>\n      <th></th>\n      <th></th>\n      <th></th>\n      <th></th>\n      <th></th>\n    </tr>\n  </thead>\n  <tbody>\n    <tr>\n      <th rowspan=\"11\" valign=\"top\">1</th>\n      <th>0.00</th>\n      <td>37.977482</td>\n      <td>23.735405</td>\n      <td>34.0206</td>\n      <td>-0.0167</td>\n      <td>0.0074</td>\n      <td>Taxi</td>\n      <td>320.26</td>\n      <td>35.366264</td>\n      <td>3339821648</td>\n      <td>3339821648</td>\n      <td>250691723</td>\n      <td>0.488886</td>\n    </tr>\n    <tr>\n      <th>0.04</th>\n      <td>37.977485</td>\n      <td>23.735402</td>\n      <td>34.0197</td>\n      <td>0.0040</td>\n      <td>0.0086</td>\n      <td>Taxi</td>\n      <td>320.26</td>\n      <td>35.366264</td>\n      <td>3339821648</td>\n      <td>3339821648</td>\n      <td>250691723</td>\n      <td>0.491508</td>\n    </tr>\n    <tr>\n      <th>0.08</th>\n      <td>37.977488</td>\n      <td>23.735400</td>\n      <td>34.0211</td>\n      <td>0.0167</td>\n      <td>0.0097</td>\n      <td>Taxi</td>\n      <td>320.26</td>\n      <td>35.366264</td>\n      <td>3339821648</td>\n      <td>3339821648</td>\n      <td>250691723</td>\n      <td>0.493838</td>\n    </tr>\n    <tr>\n      <th>0.12</th>\n      <td>37.977491</td>\n      <td>23.735398</td>\n      <td>34.0245</td>\n      <td>0.0294</td>\n      <td>0.0108</td>\n      <td>Taxi</td>\n      <td>320.26</td>\n      <td>35.366264</td>\n      <td>3339821648</td>\n      <td>3339821648</td>\n      <td>250691723</td>\n      <td>0.496168</td>\n    </tr>\n    <tr>\n      <th>0.16</th>\n      <td>37.977494</td>\n      <td>23.735395</td>\n      <td>34.0305</td>\n      <td>0.0540</td>\n      <td>0.0120</td>\n      <td>Taxi</td>\n      <td>320.26</td>\n      <td>35.366264</td>\n      <td>3339821648</td>\n      <td>3339821648</td>\n      <td>250691723</td>\n      <td>0.498790</td>\n    </tr>\n    <tr>\n      <th>...</th>\n      <td>...</td>\n      <td>...</td>\n      <td>...</td>\n      <td>...</td>\n      <td>...</td>\n      <td>...</td>\n      <td>...</td>\n      <td>...</td>\n      <td>...</td>\n      <td>...</td>\n      <td>...</td>\n      <td>...</td>\n    </tr>\n    <tr>\n      <th>3.80</th>\n      <td>37.977757</td>\n      <td>23.735172</td>\n      <td>34.8537</td>\n      <td>0.3544</td>\n      <td>0.0463</td>\n      <td>Taxi</td>\n      <td>320.26</td>\n      <td>35.366264</td>\n      <td>250691723</td>\n      <td>3339821648</td>\n      <td>250691723</td>\n      <td>0.716986</td>\n    </tr>\n    <tr>\n      <th>3.84</th>\n      <td>37.977760</td>\n      <td>23.735170</td>\n      <td>34.9059</td>\n      <td>0.3712</td>\n      <td>0.0331</td>\n      <td>Taxi</td>\n      <td>320.26</td>\n      <td>35.366264</td>\n      <td>250691723</td>\n      <td>3339821648</td>\n      <td>250691723</td>\n      <td>0.719314</td>\n    </tr>\n    <tr>\n      <th>3.88</th>\n      <td>37.977763</td>\n      <td>23.735167</td>\n      <td>34.9604</td>\n      <td>0.3853</td>\n      <td>0.0206</td>\n      <td>Taxi</td>\n      <td>320.26</td>\n      <td>35.366264</td>\n      <td>250691723</td>\n      <td>3339821648</td>\n      <td>250691723</td>\n      <td>0.721938</td>\n    </tr>\n    <tr>\n      <th>3.92</th>\n      <td>37.977766</td>\n      <td>23.735165</td>\n      <td>35.0167</td>\n      <td>0.3967</td>\n      <td>0.0086</td>\n      <td>Taxi</td>\n      <td>320.26</td>\n      <td>35.366264</td>\n      <td>250691723</td>\n      <td>3339821648</td>\n      <td>250691723</td>\n      <td>0.724267</td>\n    </tr>\n    <tr>\n      <th>3.96</th>\n      <td>37.977769</td>\n      <td>23.735163</td>\n      <td>35.0745</td>\n      <td>0.4064</td>\n      <td>-0.0027</td>\n      <td>Taxi</td>\n      <td>320.26</td>\n      <td>35.366264</td>\n      <td>250691723</td>\n      <td>3339821648</td>\n      <td>250691723</td>\n      <td>0.726595</td>\n    </tr>\n  </tbody>\n</table>\n<p>100 rows × 12 columns</p>\n</div>"
     },
     "metadata": {},
     "execution_count": 38
    }
   ],
   "source": [
    "def construct_graph_data_cols(row):\n",
    "    coord = (row['lat'],row['lon'])\n",
    "    nn = ox.get_nearest_node(graph, coord, method='euclidean')\n",
    "    start, end, _ = ox.get_nearest_edge(graph, coord)\n",
    "    edge_prog = edge_progress(start, end, coord)\n",
    "    return nn, start, end, edge_prog\n",
    "\n",
    "df_test = df[:100]\n",
    "df_test['NN'], df_test['NES'], df_test['NEE'], df_test['Edge Progress'] = zip(*df_test.apply(construct_graph_data_cols,axis=1))\n",
    "df_test"
   ]
  },
  {
   "cell_type": "code",
   "execution_count": null,
   "metadata": {},
   "outputs": [],
   "source": []
  },
  {
   "cell_type": "code",
   "execution_count": 6,
   "metadata": {},
   "outputs": [
    {
     "output_type": "error",
     "ename": "KeyboardInterrupt",
     "evalue": "",
     "traceback": [
      "\u001b[0;31m---------------------------------------------------------------------------\u001b[0m",
      "\u001b[0;31mKeyboardInterrupt\u001b[0m                         Traceback (most recent call last)",
      "\u001b[0;32m<ipython-input-6-7ed1c15ea213>\u001b[0m in \u001b[0;36m<module>\u001b[0;34m\u001b[0m\n\u001b[1;32m      6\u001b[0m     \u001b[0mtup1\u001b[0m \u001b[0;34m=\u001b[0m \u001b[0;34m(\u001b[0m\u001b[0mdf\u001b[0m\u001b[0;34m.\u001b[0m\u001b[0miloc\u001b[0m\u001b[0;34m[\u001b[0m\u001b[0mi\u001b[0m\u001b[0;34m]\u001b[0m\u001b[0;34m[\u001b[0m\u001b[0;34m'lat'\u001b[0m\u001b[0;34m]\u001b[0m\u001b[0;34m,\u001b[0m \u001b[0mdf\u001b[0m\u001b[0;34m.\u001b[0m\u001b[0miloc\u001b[0m\u001b[0;34m[\u001b[0m\u001b[0mi\u001b[0m\u001b[0;34m]\u001b[0m\u001b[0;34m[\u001b[0m\u001b[0;34m'lon'\u001b[0m\u001b[0;34m]\u001b[0m\u001b[0;34m)\u001b[0m\u001b[0;34m\u001b[0m\u001b[0;34m\u001b[0m\u001b[0m\n\u001b[1;32m      7\u001b[0m     \u001b[0mnodes\u001b[0m\u001b[0;34m[\u001b[0m\u001b[0mi\u001b[0m\u001b[0;34m]\u001b[0m \u001b[0;34m=\u001b[0m \u001b[0mox\u001b[0m\u001b[0;34m.\u001b[0m\u001b[0mget_nearest_node\u001b[0m\u001b[0;34m(\u001b[0m\u001b[0mgraph\u001b[0m\u001b[0;34m,\u001b[0m \u001b[0mtup1\u001b[0m \u001b[0;34m,\u001b[0m \u001b[0mmethod\u001b[0m\u001b[0;34m=\u001b[0m\u001b[0;34m'euclidean'\u001b[0m\u001b[0;34m)\u001b[0m\u001b[0;34m\u001b[0m\u001b[0;34m\u001b[0m\u001b[0m\n\u001b[0;32m----> 8\u001b[0;31m     \u001b[0mstart\u001b[0m\u001b[0;34m,\u001b[0m \u001b[0mend\u001b[0m\u001b[0;34m,\u001b[0m \u001b[0mc\u001b[0m \u001b[0;34m=\u001b[0m \u001b[0mox\u001b[0m\u001b[0;34m.\u001b[0m\u001b[0mget_nearest_edge\u001b[0m\u001b[0;34m(\u001b[0m\u001b[0mgraph\u001b[0m\u001b[0;34m,\u001b[0m \u001b[0mtup1\u001b[0m\u001b[0;34m)\u001b[0m\u001b[0;34m\u001b[0m\u001b[0;34m\u001b[0m\u001b[0m\n\u001b[0m\u001b[1;32m      9\u001b[0m     \u001b[0mEdgeStart\u001b[0m\u001b[0;34m[\u001b[0m\u001b[0mi\u001b[0m\u001b[0;34m]\u001b[0m \u001b[0;34m=\u001b[0m \u001b[0mstart\u001b[0m\u001b[0;34m\u001b[0m\u001b[0;34m\u001b[0m\u001b[0m\n\u001b[1;32m     10\u001b[0m     \u001b[0mEdgeEnd\u001b[0m\u001b[0;34m[\u001b[0m\u001b[0mi\u001b[0m\u001b[0;34m]\u001b[0m \u001b[0;34m=\u001b[0m \u001b[0mend\u001b[0m\u001b[0;34m\u001b[0m\u001b[0;34m\u001b[0m\u001b[0m\n",
      "\u001b[0;32m/opt/anaconda3/envs/ox/lib/python3.9/site-packages/osmnx/distance.py\u001b[0m in \u001b[0;36mget_nearest_edge\u001b[0;34m(G, point, return_geom, return_dist)\u001b[0m\n\u001b[1;32m    197\u001b[0m \u001b[0;34m\u001b[0m\u001b[0m\n\u001b[1;32m    198\u001b[0m     \u001b[0;31m# calculate euclidean distance from each edge's geometry to this point\u001b[0m\u001b[0;34m\u001b[0m\u001b[0;34m\u001b[0m\u001b[0;34m\u001b[0m\u001b[0m\n\u001b[0;32m--> 199\u001b[0;31m     \u001b[0mgs_edges\u001b[0m \u001b[0;34m=\u001b[0m \u001b[0mutils_graph\u001b[0m\u001b[0;34m.\u001b[0m\u001b[0mgraph_to_gdfs\u001b[0m\u001b[0;34m(\u001b[0m\u001b[0mG\u001b[0m\u001b[0;34m,\u001b[0m \u001b[0mnodes\u001b[0m\u001b[0;34m=\u001b[0m\u001b[0;32mFalse\u001b[0m\u001b[0;34m)\u001b[0m\u001b[0;34m[\u001b[0m\u001b[0;34m\"geometry\"\u001b[0m\u001b[0;34m]\u001b[0m\u001b[0;34m\u001b[0m\u001b[0;34m\u001b[0m\u001b[0m\n\u001b[0m\u001b[1;32m    200\u001b[0m     \u001b[0muvk_geoms\u001b[0m \u001b[0;34m=\u001b[0m \u001b[0mzip\u001b[0m\u001b[0;34m(\u001b[0m\u001b[0mgs_edges\u001b[0m\u001b[0;34m.\u001b[0m\u001b[0mindex\u001b[0m\u001b[0;34m,\u001b[0m \u001b[0mgs_edges\u001b[0m\u001b[0;34m.\u001b[0m\u001b[0mvalues\u001b[0m\u001b[0;34m)\u001b[0m\u001b[0;34m\u001b[0m\u001b[0;34m\u001b[0m\u001b[0m\n\u001b[1;32m    201\u001b[0m     \u001b[0mdistances\u001b[0m \u001b[0;34m=\u001b[0m \u001b[0;34m(\u001b[0m\u001b[0;34m(\u001b[0m\u001b[0muvk\u001b[0m\u001b[0;34m,\u001b[0m \u001b[0mgeom\u001b[0m\u001b[0;34m,\u001b[0m \u001b[0mxy_point\u001b[0m\u001b[0;34m.\u001b[0m\u001b[0mdistance\u001b[0m\u001b[0;34m(\u001b[0m\u001b[0mgeom\u001b[0m\u001b[0;34m)\u001b[0m\u001b[0;34m)\u001b[0m \u001b[0;32mfor\u001b[0m \u001b[0muvk\u001b[0m\u001b[0;34m,\u001b[0m \u001b[0mgeom\u001b[0m \u001b[0;32min\u001b[0m \u001b[0muvk_geoms\u001b[0m\u001b[0;34m)\u001b[0m\u001b[0;34m\u001b[0m\u001b[0;34m\u001b[0m\u001b[0m\n",
      "\u001b[0;32m/opt/anaconda3/envs/ox/lib/python3.9/site-packages/osmnx/utils_graph.py\u001b[0m in \u001b[0;36mgraph_to_gdfs\u001b[0;34m(G, nodes, edges, node_geometry, fill_edge_geometry)\u001b[0m\n\u001b[1;32m     76\u001b[0m \u001b[0;34m\u001b[0m\u001b[0m\n\u001b[1;32m     77\u001b[0m             \u001b[0mgeom\u001b[0m \u001b[0;34m=\u001b[0m \u001b[0mmap\u001b[0m\u001b[0;34m(\u001b[0m\u001b[0mmake_geom\u001b[0m\u001b[0;34m,\u001b[0m \u001b[0mu\u001b[0m\u001b[0;34m,\u001b[0m \u001b[0mv\u001b[0m\u001b[0;34m,\u001b[0m \u001b[0mdata\u001b[0m\u001b[0;34m)\u001b[0m\u001b[0;34m\u001b[0m\u001b[0;34m\u001b[0m\u001b[0m\n\u001b[0;32m---> 78\u001b[0;31m             \u001b[0mgdf_edges\u001b[0m \u001b[0;34m=\u001b[0m \u001b[0mgpd\u001b[0m\u001b[0;34m.\u001b[0m\u001b[0mGeoDataFrame\u001b[0m\u001b[0;34m(\u001b[0m\u001b[0mdata\u001b[0m\u001b[0;34m,\u001b[0m \u001b[0mcrs\u001b[0m\u001b[0;34m=\u001b[0m\u001b[0mcrs\u001b[0m\u001b[0;34m,\u001b[0m \u001b[0mgeometry\u001b[0m\u001b[0;34m=\u001b[0m\u001b[0mlist\u001b[0m\u001b[0;34m(\u001b[0m\u001b[0mgeom\u001b[0m\u001b[0;34m)\u001b[0m\u001b[0;34m)\u001b[0m\u001b[0;34m\u001b[0m\u001b[0;34m\u001b[0m\u001b[0m\n\u001b[0m\u001b[1;32m     79\u001b[0m \u001b[0;34m\u001b[0m\u001b[0m\n\u001b[1;32m     80\u001b[0m         \u001b[0;32melse\u001b[0m\u001b[0;34m:\u001b[0m\u001b[0;34m\u001b[0m\u001b[0;34m\u001b[0m\u001b[0m\n",
      "\u001b[0;32m/opt/anaconda3/envs/ox/lib/python3.9/site-packages/geopandas/geodataframe.py\u001b[0m in \u001b[0;36m__init__\u001b[0;34m(self, *args, **kwargs)\u001b[0m\n\u001b[1;32m    149\u001b[0m                 )\n\u001b[1;32m    150\u001b[0m                 \u001b[0;31m# TODO: raise error in 0.9 or 0.10.\u001b[0m\u001b[0;34m\u001b[0m\u001b[0;34m\u001b[0m\u001b[0;34m\u001b[0m\u001b[0m\n\u001b[0;32m--> 151\u001b[0;31m             \u001b[0mself\u001b[0m\u001b[0;34m.\u001b[0m\u001b[0mset_geometry\u001b[0m\u001b[0;34m(\u001b[0m\u001b[0mgeometry\u001b[0m\u001b[0;34m,\u001b[0m \u001b[0minplace\u001b[0m\u001b[0;34m=\u001b[0m\u001b[0;32mTrue\u001b[0m\u001b[0;34m)\u001b[0m\u001b[0;34m\u001b[0m\u001b[0;34m\u001b[0m\u001b[0m\n\u001b[0m\u001b[1;32m    152\u001b[0m         \u001b[0mself\u001b[0m\u001b[0;34m.\u001b[0m\u001b[0m_invalidate_sindex\u001b[0m\u001b[0;34m(\u001b[0m\u001b[0;34m)\u001b[0m\u001b[0;34m\u001b[0m\u001b[0;34m\u001b[0m\u001b[0m\n\u001b[1;32m    153\u001b[0m \u001b[0;34m\u001b[0m\u001b[0m\n",
      "\u001b[0;32m/opt/anaconda3/envs/ox/lib/python3.9/site-packages/geopandas/geodataframe.py\u001b[0m in \u001b[0;36mset_geometry\u001b[0;34m(self, col, drop, inplace, crs)\u001b[0m\n\u001b[1;32m    252\u001b[0m \u001b[0;34m\u001b[0m\u001b[0m\n\u001b[1;32m    253\u001b[0m         \u001b[0;31m# Check that we are using a listlike of geometries\u001b[0m\u001b[0;34m\u001b[0m\u001b[0;34m\u001b[0m\u001b[0;34m\u001b[0m\u001b[0m\n\u001b[0;32m--> 254\u001b[0;31m         \u001b[0mlevel\u001b[0m \u001b[0;34m=\u001b[0m \u001b[0m_ensure_geometry\u001b[0m\u001b[0;34m(\u001b[0m\u001b[0mlevel\u001b[0m\u001b[0;34m,\u001b[0m \u001b[0mcrs\u001b[0m\u001b[0;34m=\u001b[0m\u001b[0mcrs\u001b[0m\u001b[0;34m)\u001b[0m\u001b[0;34m\u001b[0m\u001b[0;34m\u001b[0m\u001b[0m\n\u001b[0m\u001b[1;32m    255\u001b[0m         \u001b[0mindex\u001b[0m \u001b[0;34m=\u001b[0m \u001b[0mframe\u001b[0m\u001b[0;34m.\u001b[0m\u001b[0mindex\u001b[0m\u001b[0;34m\u001b[0m\u001b[0;34m\u001b[0m\u001b[0m\n\u001b[1;32m    256\u001b[0m         \u001b[0mframe\u001b[0m\u001b[0;34m[\u001b[0m\u001b[0mgeo_column_name\u001b[0m\u001b[0;34m]\u001b[0m \u001b[0;34m=\u001b[0m \u001b[0mlevel\u001b[0m\u001b[0;34m\u001b[0m\u001b[0;34m\u001b[0m\u001b[0m\n",
      "\u001b[0;32m/opt/anaconda3/envs/ox/lib/python3.9/site-packages/geopandas/geodataframe.py\u001b[0m in \u001b[0;36m_ensure_geometry\u001b[0;34m(data, crs)\u001b[0m\n\u001b[1;32m     40\u001b[0m             \u001b[0;32mreturn\u001b[0m \u001b[0mGeoSeries\u001b[0m\u001b[0;34m(\u001b[0m\u001b[0mout\u001b[0m\u001b[0;34m,\u001b[0m \u001b[0mindex\u001b[0m\u001b[0;34m=\u001b[0m\u001b[0mdata\u001b[0m\u001b[0;34m.\u001b[0m\u001b[0mindex\u001b[0m\u001b[0;34m,\u001b[0m \u001b[0mname\u001b[0m\u001b[0;34m=\u001b[0m\u001b[0mdata\u001b[0m\u001b[0;34m.\u001b[0m\u001b[0mname\u001b[0m\u001b[0;34m)\u001b[0m\u001b[0;34m\u001b[0m\u001b[0;34m\u001b[0m\u001b[0m\n\u001b[1;32m     41\u001b[0m         \u001b[0;32melse\u001b[0m\u001b[0;34m:\u001b[0m\u001b[0;34m\u001b[0m\u001b[0;34m\u001b[0m\u001b[0m\n\u001b[0;32m---> 42\u001b[0;31m             \u001b[0mout\u001b[0m \u001b[0;34m=\u001b[0m \u001b[0mfrom_shapely\u001b[0m\u001b[0;34m(\u001b[0m\u001b[0mdata\u001b[0m\u001b[0;34m,\u001b[0m \u001b[0mcrs\u001b[0m\u001b[0;34m=\u001b[0m\u001b[0mcrs\u001b[0m\u001b[0;34m)\u001b[0m\u001b[0;34m\u001b[0m\u001b[0;34m\u001b[0m\u001b[0m\n\u001b[0m\u001b[1;32m     43\u001b[0m             \u001b[0;32mreturn\u001b[0m \u001b[0mout\u001b[0m\u001b[0;34m\u001b[0m\u001b[0;34m\u001b[0m\u001b[0m\n\u001b[1;32m     44\u001b[0m \u001b[0;34m\u001b[0m\u001b[0m\n",
      "\u001b[0;32m/opt/anaconda3/envs/ox/lib/python3.9/site-packages/geopandas/array.py\u001b[0m in \u001b[0;36mfrom_shapely\u001b[0;34m(data, crs)\u001b[0m\n\u001b[1;32m    164\u001b[0m \u001b[0;34m\u001b[0m\u001b[0m\n\u001b[1;32m    165\u001b[0m     \"\"\"\n\u001b[0;32m--> 166\u001b[0;31m     \u001b[0;32mreturn\u001b[0m \u001b[0mGeometryArray\u001b[0m\u001b[0;34m(\u001b[0m\u001b[0mvectorized\u001b[0m\u001b[0;34m.\u001b[0m\u001b[0mfrom_shapely\u001b[0m\u001b[0;34m(\u001b[0m\u001b[0mdata\u001b[0m\u001b[0;34m)\u001b[0m\u001b[0;34m,\u001b[0m \u001b[0mcrs\u001b[0m\u001b[0;34m=\u001b[0m\u001b[0mcrs\u001b[0m\u001b[0;34m)\u001b[0m\u001b[0;34m\u001b[0m\u001b[0;34m\u001b[0m\u001b[0m\n\u001b[0m\u001b[1;32m    167\u001b[0m \u001b[0;34m\u001b[0m\u001b[0m\n\u001b[1;32m    168\u001b[0m \u001b[0;34m\u001b[0m\u001b[0m\n",
      "\u001b[0;32m/opt/anaconda3/envs/ox/lib/python3.9/site-packages/geopandas/array.py\u001b[0m in \u001b[0;36m__init__\u001b[0;34m(self, data, crs)\u001b[0m\n\u001b[1;32m    279\u001b[0m \u001b[0;34m\u001b[0m\u001b[0m\n\u001b[1;32m    280\u001b[0m         \u001b[0mself\u001b[0m\u001b[0;34m.\u001b[0m\u001b[0m_crs\u001b[0m \u001b[0;34m=\u001b[0m \u001b[0;32mNone\u001b[0m\u001b[0;34m\u001b[0m\u001b[0;34m\u001b[0m\u001b[0m\n\u001b[0;32m--> 281\u001b[0;31m         \u001b[0mself\u001b[0m\u001b[0;34m.\u001b[0m\u001b[0mcrs\u001b[0m \u001b[0;34m=\u001b[0m \u001b[0mcrs\u001b[0m\u001b[0;34m\u001b[0m\u001b[0;34m\u001b[0m\u001b[0m\n\u001b[0m\u001b[1;32m    282\u001b[0m \u001b[0;34m\u001b[0m\u001b[0m\n\u001b[1;32m    283\u001b[0m     \u001b[0;34m@\u001b[0m\u001b[0mproperty\u001b[0m\u001b[0;34m\u001b[0m\u001b[0;34m\u001b[0m\u001b[0m\n",
      "\u001b[0;32m/opt/anaconda3/envs/ox/lib/python3.9/site-packages/geopandas/array.py\u001b[0m in \u001b[0;36mcrs\u001b[0;34m(self, value)\u001b[0m\n\u001b[1;32m    298\u001b[0m     \u001b[0;32mdef\u001b[0m \u001b[0mcrs\u001b[0m\u001b[0;34m(\u001b[0m\u001b[0mself\u001b[0m\u001b[0;34m,\u001b[0m \u001b[0mvalue\u001b[0m\u001b[0;34m)\u001b[0m\u001b[0;34m:\u001b[0m\u001b[0;34m\u001b[0m\u001b[0;34m\u001b[0m\u001b[0m\n\u001b[1;32m    299\u001b[0m         \u001b[0;34m\"\"\"Sets the value of the crs\"\"\"\u001b[0m\u001b[0;34m\u001b[0m\u001b[0;34m\u001b[0m\u001b[0m\n\u001b[0;32m--> 300\u001b[0;31m         \u001b[0mself\u001b[0m\u001b[0;34m.\u001b[0m\u001b[0m_crs\u001b[0m \u001b[0;34m=\u001b[0m \u001b[0;32mNone\u001b[0m \u001b[0;32mif\u001b[0m \u001b[0;32mnot\u001b[0m \u001b[0mvalue\u001b[0m \u001b[0;32melse\u001b[0m \u001b[0mCRS\u001b[0m\u001b[0;34m.\u001b[0m\u001b[0mfrom_user_input\u001b[0m\u001b[0;34m(\u001b[0m\u001b[0mvalue\u001b[0m\u001b[0;34m)\u001b[0m\u001b[0;34m\u001b[0m\u001b[0;34m\u001b[0m\u001b[0m\n\u001b[0m\u001b[1;32m    301\u001b[0m \u001b[0;34m\u001b[0m\u001b[0m\n\u001b[1;32m    302\u001b[0m     \u001b[0;32mdef\u001b[0m \u001b[0mcheck_geographic_crs\u001b[0m\u001b[0;34m(\u001b[0m\u001b[0mself\u001b[0m\u001b[0;34m,\u001b[0m \u001b[0mstacklevel\u001b[0m\u001b[0;34m)\u001b[0m\u001b[0;34m:\u001b[0m\u001b[0;34m\u001b[0m\u001b[0;34m\u001b[0m\u001b[0m\n",
      "\u001b[0;32m/opt/anaconda3/envs/ox/lib/python3.9/site-packages/pyproj/crs/crs.py\u001b[0m in \u001b[0;36mfrom_user_input\u001b[0;34m(value, **kwargs)\u001b[0m\n\u001b[1;32m    438\u001b[0m         \u001b[0;32mif\u001b[0m \u001b[0misinstance\u001b[0m\u001b[0;34m(\u001b[0m\u001b[0mvalue\u001b[0m\u001b[0;34m,\u001b[0m \u001b[0mCRS\u001b[0m\u001b[0;34m)\u001b[0m\u001b[0;34m:\u001b[0m\u001b[0;34m\u001b[0m\u001b[0;34m\u001b[0m\u001b[0m\n\u001b[1;32m    439\u001b[0m             \u001b[0;32mreturn\u001b[0m \u001b[0mvalue\u001b[0m\u001b[0;34m\u001b[0m\u001b[0;34m\u001b[0m\u001b[0m\n\u001b[0;32m--> 440\u001b[0;31m         \u001b[0;32mreturn\u001b[0m \u001b[0mCRS\u001b[0m\u001b[0;34m(\u001b[0m\u001b[0mvalue\u001b[0m\u001b[0;34m,\u001b[0m \u001b[0;34m**\u001b[0m\u001b[0mkwargs\u001b[0m\u001b[0;34m)\u001b[0m\u001b[0;34m\u001b[0m\u001b[0;34m\u001b[0m\u001b[0m\n\u001b[0m\u001b[1;32m    441\u001b[0m \u001b[0;34m\u001b[0m\u001b[0m\n\u001b[1;32m    442\u001b[0m     \u001b[0;32mdef\u001b[0m \u001b[0mget_geod\u001b[0m\u001b[0;34m(\u001b[0m\u001b[0mself\u001b[0m\u001b[0;34m)\u001b[0m \u001b[0;34m->\u001b[0m \u001b[0mOptional\u001b[0m\u001b[0;34m[\u001b[0m\u001b[0mGeod\u001b[0m\u001b[0;34m]\u001b[0m\u001b[0;34m:\u001b[0m\u001b[0;34m\u001b[0m\u001b[0;34m\u001b[0m\u001b[0m\n",
      "\u001b[0;32m/opt/anaconda3/envs/ox/lib/python3.9/site-packages/pyproj/crs/crs.py\u001b[0m in \u001b[0;36m__init__\u001b[0;34m(self, projparams, **kwargs)\u001b[0m\n\u001b[1;32m    294\u001b[0m             \u001b[0mprojstring\u001b[0m \u001b[0;34m=\u001b[0m \u001b[0m_prepare_from_string\u001b[0m\u001b[0;34m(\u001b[0m\u001b[0;34m\" \"\u001b[0m\u001b[0;34m.\u001b[0m\u001b[0mjoin\u001b[0m\u001b[0;34m(\u001b[0m\u001b[0;34m(\u001b[0m\u001b[0mprojstring\u001b[0m\u001b[0;34m,\u001b[0m \u001b[0mprojkwargs\u001b[0m\u001b[0;34m)\u001b[0m\u001b[0;34m)\u001b[0m\u001b[0;34m)\u001b[0m\u001b[0;34m\u001b[0m\u001b[0;34m\u001b[0m\u001b[0m\n\u001b[1;32m    295\u001b[0m \u001b[0;34m\u001b[0m\u001b[0m\n\u001b[0;32m--> 296\u001b[0;31m         \u001b[0msuper\u001b[0m\u001b[0;34m(\u001b[0m\u001b[0;34m)\u001b[0m\u001b[0;34m.\u001b[0m\u001b[0m__init__\u001b[0m\u001b[0;34m(\u001b[0m\u001b[0mprojstring\u001b[0m\u001b[0;34m)\u001b[0m\u001b[0;34m\u001b[0m\u001b[0;34m\u001b[0m\u001b[0m\n\u001b[0m\u001b[1;32m    297\u001b[0m \u001b[0;34m\u001b[0m\u001b[0m\n\u001b[1;32m    298\u001b[0m     \u001b[0;34m@\u001b[0m\u001b[0mstaticmethod\u001b[0m\u001b[0;34m\u001b[0m\u001b[0;34m\u001b[0m\u001b[0m\n",
      "\u001b[0;32mpyproj/_crs.pyx\u001b[0m in \u001b[0;36mpyproj._crs._CRS.__init__\u001b[0;34m()\u001b[0m\n",
      "\u001b[0;32m/opt/anaconda3/envs/ox/lib/python3.9/site-packages/pyproj/compat.py\u001b[0m in \u001b[0;36mpystrdecode\u001b[0;34m(cstr)\u001b[0m\n\u001b[1;32m     20\u001b[0m     \u001b[0mDecode\u001b[0m \u001b[0ma\u001b[0m \u001b[0mstring\u001b[0m \u001b[0mto\u001b[0m \u001b[0ma\u001b[0m \u001b[0mpython\u001b[0m \u001b[0mstring\u001b[0m\u001b[0;34m.\u001b[0m\u001b[0;34m\u001b[0m\u001b[0;34m\u001b[0m\u001b[0m\n\u001b[1;32m     21\u001b[0m     \"\"\"\n\u001b[0;32m---> 22\u001b[0;31m     \u001b[0;32mtry\u001b[0m\u001b[0;34m:\u001b[0m\u001b[0;34m\u001b[0m\u001b[0;34m\u001b[0m\u001b[0m\n\u001b[0m\u001b[1;32m     23\u001b[0m         \u001b[0;32mreturn\u001b[0m \u001b[0mcstr\u001b[0m\u001b[0;34m.\u001b[0m\u001b[0mdecode\u001b[0m\u001b[0;34m(\u001b[0m\u001b[0;34m\"utf-8\"\u001b[0m\u001b[0;34m)\u001b[0m\u001b[0;34m\u001b[0m\u001b[0;34m\u001b[0m\u001b[0m\n\u001b[1;32m     24\u001b[0m     \u001b[0;32mexcept\u001b[0m \u001b[0mAttributeError\u001b[0m\u001b[0;34m:\u001b[0m\u001b[0;34m\u001b[0m\u001b[0;34m\u001b[0m\u001b[0m\n",
      "\u001b[0;31mKeyboardInterrupt\u001b[0m: "
     ]
    }
   ],
   "source": [
    "#get the nearest edge and node for each location:\n",
    "nodes = np.zeros(len(df))\n",
    "EdgeStart = np.zeros(len(df))\n",
    "EdgeEnd = np.zeros(len(df))\n",
    "for i in range(len(df)):\n",
    "    tup1 = (df.iloc[i]['lat'], df.iloc[i]['lon'])\n",
    "    nodes[i] = ox.get_nearest_node(graph, tup1 , method='euclidean')\n",
    "    start, end, c = ox.get_nearest_edge(graph, tup1)\n",
    "    EdgeStart[i] = start\n",
    "    EdgeEnd[i] = end"
   ]
  },
  {
   "cell_type": "code",
   "execution_count": 78,
   "metadata": {},
   "outputs": [],
   "source": [
    "df['Nearest Node'] = nodes\n",
    "df['Nearest Edge Start'] =  EdgeStart\n",
    "df['Nearest Edge End'] =  EdgeEnd"
   ]
  },
  {
   "cell_type": "code",
   "execution_count": 79,
   "metadata": {},
   "outputs": [
    {
     "data": {
      "text/html": [
       "<div>\n",
       "<style scoped>\n",
       "    .dataframe tbody tr th:only-of-type {\n",
       "        vertical-align: middle;\n",
       "    }\n",
       "\n",
       "    .dataframe tbody tr th {\n",
       "        vertical-align: top;\n",
       "    }\n",
       "\n",
       "    .dataframe thead th {\n",
       "        text-align: right;\n",
       "    }\n",
       "</style>\n",
       "<table border=\"1\" class=\"dataframe\">\n",
       "  <thead>\n",
       "    <tr style=\"text-align: right;\">\n",
       "      <th></th>\n",
       "      <th></th>\n",
       "      <th>lat</th>\n",
       "      <th>lon</th>\n",
       "      <th>speed</th>\n",
       "      <th>lon_acc</th>\n",
       "      <th>lat_acc</th>\n",
       "      <th>type</th>\n",
       "      <th>traveled_d</th>\n",
       "      <th>avg_speed</th>\n",
       "      <th>Nearest Node</th>\n",
       "      <th>Nearest Edge First NodeID</th>\n",
       "      <th>Nearest Edge Second NodeID</th>\n",
       "      <th>Nearest Edge Start</th>\n",
       "      <th>Nearest Edge End</th>\n",
       "    </tr>\n",
       "    <tr>\n",
       "      <th>id</th>\n",
       "      <th>time</th>\n",
       "      <th></th>\n",
       "      <th></th>\n",
       "      <th></th>\n",
       "      <th></th>\n",
       "      <th></th>\n",
       "      <th></th>\n",
       "      <th></th>\n",
       "      <th></th>\n",
       "      <th></th>\n",
       "      <th></th>\n",
       "      <th></th>\n",
       "      <th></th>\n",
       "      <th></th>\n",
       "    </tr>\n",
       "  </thead>\n",
       "  <tbody>\n",
       "    <tr>\n",
       "      <th rowspan=\"5\" valign=\"top\">1</th>\n",
       "      <th>0.00</th>\n",
       "      <td>37.977482</td>\n",
       "      <td>23.735405</td>\n",
       "      <td>34.0206</td>\n",
       "      <td>-0.0167</td>\n",
       "      <td>0.0074</td>\n",
       "      <td>Taxi</td>\n",
       "      <td>320.26</td>\n",
       "      <td>35.366264</td>\n",
       "      <td>3.339822e+09</td>\n",
       "      <td>250692418</td>\n",
       "      <td>250692401</td>\n",
       "      <td>3.339822e+09</td>\n",
       "      <td>250691723.0</td>\n",
       "    </tr>\n",
       "    <tr>\n",
       "      <th>0.04</th>\n",
       "      <td>37.977485</td>\n",
       "      <td>23.735402</td>\n",
       "      <td>34.0197</td>\n",
       "      <td>0.0040</td>\n",
       "      <td>0.0086</td>\n",
       "      <td>Taxi</td>\n",
       "      <td>320.26</td>\n",
       "      <td>35.366264</td>\n",
       "      <td>3.339822e+09</td>\n",
       "      <td>250692418</td>\n",
       "      <td>250692401</td>\n",
       "      <td>3.339822e+09</td>\n",
       "      <td>250691723.0</td>\n",
       "    </tr>\n",
       "    <tr>\n",
       "      <th>0.08</th>\n",
       "      <td>37.977488</td>\n",
       "      <td>23.735400</td>\n",
       "      <td>34.0211</td>\n",
       "      <td>0.0167</td>\n",
       "      <td>0.0097</td>\n",
       "      <td>Taxi</td>\n",
       "      <td>320.26</td>\n",
       "      <td>35.366264</td>\n",
       "      <td>3.339822e+09</td>\n",
       "      <td>250692418</td>\n",
       "      <td>250692401</td>\n",
       "      <td>3.339822e+09</td>\n",
       "      <td>250691723.0</td>\n",
       "    </tr>\n",
       "    <tr>\n",
       "      <th>0.12</th>\n",
       "      <td>37.977491</td>\n",
       "      <td>23.735398</td>\n",
       "      <td>34.0245</td>\n",
       "      <td>0.0294</td>\n",
       "      <td>0.0108</td>\n",
       "      <td>Taxi</td>\n",
       "      <td>320.26</td>\n",
       "      <td>35.366264</td>\n",
       "      <td>3.339822e+09</td>\n",
       "      <td>250692418</td>\n",
       "      <td>250692401</td>\n",
       "      <td>3.339822e+09</td>\n",
       "      <td>250691723.0</td>\n",
       "    </tr>\n",
       "    <tr>\n",
       "      <th>0.16</th>\n",
       "      <td>37.977494</td>\n",
       "      <td>23.735395</td>\n",
       "      <td>34.0305</td>\n",
       "      <td>0.0540</td>\n",
       "      <td>0.0120</td>\n",
       "      <td>Taxi</td>\n",
       "      <td>320.26</td>\n",
       "      <td>35.366264</td>\n",
       "      <td>3.339822e+09</td>\n",
       "      <td>250692418</td>\n",
       "      <td>250692401</td>\n",
       "      <td>3.339822e+09</td>\n",
       "      <td>250691723.0</td>\n",
       "    </tr>\n",
       "    <tr>\n",
       "      <th>...</th>\n",
       "      <th>...</th>\n",
       "      <td>...</td>\n",
       "      <td>...</td>\n",
       "      <td>...</td>\n",
       "      <td>...</td>\n",
       "      <td>...</td>\n",
       "      <td>...</td>\n",
       "      <td>...</td>\n",
       "      <td>...</td>\n",
       "      <td>...</td>\n",
       "      <td>...</td>\n",
       "      <td>...</td>\n",
       "      <td>...</td>\n",
       "      <td>...</td>\n",
       "    </tr>\n",
       "    <tr>\n",
       "      <th rowspan=\"5\" valign=\"top\">5</th>\n",
       "      <th>29.24</th>\n",
       "      <td>37.979836</td>\n",
       "      <td>23.733313</td>\n",
       "      <td>36.8072</td>\n",
       "      <td>-3.7893</td>\n",
       "      <td>1.1652</td>\n",
       "      <td>Car</td>\n",
       "      <td>272.25</td>\n",
       "      <td>33.336716</td>\n",
       "      <td>2.506989e+08</td>\n",
       "      <td>250692418</td>\n",
       "      <td>250692401</td>\n",
       "      <td>2.506989e+08</td>\n",
       "      <td>250698925.0</td>\n",
       "    </tr>\n",
       "    <tr>\n",
       "      <th>29.28</th>\n",
       "      <td>37.979838</td>\n",
       "      <td>23.733311</td>\n",
       "      <td>36.4768</td>\n",
       "      <td>-3.8277</td>\n",
       "      <td>1.1690</td>\n",
       "      <td>Car</td>\n",
       "      <td>272.25</td>\n",
       "      <td>33.336716</td>\n",
       "      <td>2.506989e+08</td>\n",
       "      <td>250692418</td>\n",
       "      <td>250692401</td>\n",
       "      <td>2.506989e+08</td>\n",
       "      <td>250698925.0</td>\n",
       "    </tr>\n",
       "    <tr>\n",
       "      <th>29.32</th>\n",
       "      <td>37.979841</td>\n",
       "      <td>23.733309</td>\n",
       "      <td>36.1375</td>\n",
       "      <td>-3.8118</td>\n",
       "      <td>1.1665</td>\n",
       "      <td>Car</td>\n",
       "      <td>272.25</td>\n",
       "      <td>33.336716</td>\n",
       "      <td>2.506989e+08</td>\n",
       "      <td>250692418</td>\n",
       "      <td>250692401</td>\n",
       "      <td>2.506989e+08</td>\n",
       "      <td>250698925.0</td>\n",
       "    </tr>\n",
       "    <tr>\n",
       "      <th>29.36</th>\n",
       "      <td>37.979844</td>\n",
       "      <td>23.733306</td>\n",
       "      <td>35.7859</td>\n",
       "      <td>-3.8818</td>\n",
       "      <td>1.1568</td>\n",
       "      <td>Car</td>\n",
       "      <td>272.25</td>\n",
       "      <td>33.336716</td>\n",
       "      <td>2.506989e+08</td>\n",
       "      <td>250692418</td>\n",
       "      <td>250692401</td>\n",
       "      <td>2.506989e+08</td>\n",
       "      <td>250698925.0</td>\n",
       "    </tr>\n",
       "    <tr>\n",
       "      <th>29.40</th>\n",
       "      <td>37.979847</td>\n",
       "      <td>23.733304</td>\n",
       "      <td>35.4092</td>\n",
       "      <td>-4.0068</td>\n",
       "      <td>1.1387</td>\n",
       "      <td>Car</td>\n",
       "      <td>272.25</td>\n",
       "      <td>33.336716</td>\n",
       "      <td>2.506989e+08</td>\n",
       "      <td>250692418</td>\n",
       "      <td>250692401</td>\n",
       "      <td>2.506989e+08</td>\n",
       "      <td>250698925.0</td>\n",
       "    </tr>\n",
       "  </tbody>\n",
       "</table>\n",
       "<p>3460 rows × 13 columns</p>\n",
       "</div>"
      ],
      "text/plain": [
       "                lat        lon    speed  lon_acc  lat_acc  type  traveled_d  \\\n",
       "id time                                                                       \n",
       "1  0.00   37.977482  23.735405  34.0206  -0.0167   0.0074  Taxi      320.26   \n",
       "   0.04   37.977485  23.735402  34.0197   0.0040   0.0086  Taxi      320.26   \n",
       "   0.08   37.977488  23.735400  34.0211   0.0167   0.0097  Taxi      320.26   \n",
       "   0.12   37.977491  23.735398  34.0245   0.0294   0.0108  Taxi      320.26   \n",
       "   0.16   37.977494  23.735395  34.0305   0.0540   0.0120  Taxi      320.26   \n",
       "...             ...        ...      ...      ...      ...   ...         ...   \n",
       "5  29.24  37.979836  23.733313  36.8072  -3.7893   1.1652   Car      272.25   \n",
       "   29.28  37.979838  23.733311  36.4768  -3.8277   1.1690   Car      272.25   \n",
       "   29.32  37.979841  23.733309  36.1375  -3.8118   1.1665   Car      272.25   \n",
       "   29.36  37.979844  23.733306  35.7859  -3.8818   1.1568   Car      272.25   \n",
       "   29.40  37.979847  23.733304  35.4092  -4.0068   1.1387   Car      272.25   \n",
       "\n",
       "          avg_speed  Nearest Node  Nearest Edge First NodeID  \\\n",
       "id time                                                        \n",
       "1  0.00   35.366264  3.339822e+09                  250692418   \n",
       "   0.04   35.366264  3.339822e+09                  250692418   \n",
       "   0.08   35.366264  3.339822e+09                  250692418   \n",
       "   0.12   35.366264  3.339822e+09                  250692418   \n",
       "   0.16   35.366264  3.339822e+09                  250692418   \n",
       "...             ...           ...                        ...   \n",
       "5  29.24  33.336716  2.506989e+08                  250692418   \n",
       "   29.28  33.336716  2.506989e+08                  250692418   \n",
       "   29.32  33.336716  2.506989e+08                  250692418   \n",
       "   29.36  33.336716  2.506989e+08                  250692418   \n",
       "   29.40  33.336716  2.506989e+08                  250692418   \n",
       "\n",
       "          Nearest Edge Second NodeID  Nearest Edge Start  Nearest Edge End  \n",
       "id time                                                                     \n",
       "1  0.00                    250692401        3.339822e+09       250691723.0  \n",
       "   0.04                    250692401        3.339822e+09       250691723.0  \n",
       "   0.08                    250692401        3.339822e+09       250691723.0  \n",
       "   0.12                    250692401        3.339822e+09       250691723.0  \n",
       "   0.16                    250692401        3.339822e+09       250691723.0  \n",
       "...                              ...                 ...               ...  \n",
       "5  29.24                   250692401        2.506989e+08       250698925.0  \n",
       "   29.28                   250692401        2.506989e+08       250698925.0  \n",
       "   29.32                   250692401        2.506989e+08       250698925.0  \n",
       "   29.36                   250692401        2.506989e+08       250698925.0  \n",
       "   29.40                   250692401        2.506989e+08       250698925.0  \n",
       "\n",
       "[3460 rows x 13 columns]"
      ]
     },
     "execution_count": 79,
     "metadata": {},
     "output_type": "execute_result"
    }
   ],
   "source": [
    "df"
   ]
  },
  {
   "cell_type": "code",
   "execution_count": null,
   "metadata": {},
   "outputs": [],
   "source": []
  },
  {
   "cell_type": "code",
   "execution_count": 82,
   "metadata": {},
   "outputs": [],
   "source": [
    "Dis = np.zeros(len(df))\n",
    "for i in range(len(df)):\n",
    "    b = df.iloc[i]['lon']\n",
    "    c = df.iloc[i]['lat']\n",
    "    a = Distance_achieved(df.iloc[i]['Nearest Edge Start'], df.iloc[i]['Nearest Edge End'], b, c)\n",
    "    Dis[i] = a"
   ]
  },
  {
   "cell_type": "code",
   "execution_count": 84,
   "metadata": {},
   "outputs": [],
   "source": [
    "df['Distance Achieved'] = Dis"
   ]
  },
  {
   "cell_type": "code",
   "execution_count": 85,
   "metadata": {},
   "outputs": [
    {
     "data": {
      "text/html": [
       "<div>\n",
       "<style scoped>\n",
       "    .dataframe tbody tr th:only-of-type {\n",
       "        vertical-align: middle;\n",
       "    }\n",
       "\n",
       "    .dataframe tbody tr th {\n",
       "        vertical-align: top;\n",
       "    }\n",
       "\n",
       "    .dataframe thead th {\n",
       "        text-align: right;\n",
       "    }\n",
       "</style>\n",
       "<table border=\"1\" class=\"dataframe\">\n",
       "  <thead>\n",
       "    <tr style=\"text-align: right;\">\n",
       "      <th></th>\n",
       "      <th></th>\n",
       "      <th>lat</th>\n",
       "      <th>lon</th>\n",
       "      <th>speed</th>\n",
       "      <th>lon_acc</th>\n",
       "      <th>lat_acc</th>\n",
       "      <th>type</th>\n",
       "      <th>traveled_d</th>\n",
       "      <th>avg_speed</th>\n",
       "      <th>Nearest Node</th>\n",
       "      <th>Nearest Edge First NodeID</th>\n",
       "      <th>Nearest Edge Second NodeID</th>\n",
       "      <th>Nearest Edge Start</th>\n",
       "      <th>Nearest Edge End</th>\n",
       "      <th>Distance Achieved</th>\n",
       "    </tr>\n",
       "    <tr>\n",
       "      <th>id</th>\n",
       "      <th>time</th>\n",
       "      <th></th>\n",
       "      <th></th>\n",
       "      <th></th>\n",
       "      <th></th>\n",
       "      <th></th>\n",
       "      <th></th>\n",
       "      <th></th>\n",
       "      <th></th>\n",
       "      <th></th>\n",
       "      <th></th>\n",
       "      <th></th>\n",
       "      <th></th>\n",
       "      <th></th>\n",
       "      <th></th>\n",
       "    </tr>\n",
       "  </thead>\n",
       "  <tbody>\n",
       "    <tr>\n",
       "      <th rowspan=\"5\" valign=\"top\">1</th>\n",
       "      <th>0.00</th>\n",
       "      <td>37.977482</td>\n",
       "      <td>23.735405</td>\n",
       "      <td>34.0206</td>\n",
       "      <td>-0.0167</td>\n",
       "      <td>0.0074</td>\n",
       "      <td>Taxi</td>\n",
       "      <td>320.26</td>\n",
       "      <td>35.366264</td>\n",
       "      <td>3.339822e+09</td>\n",
       "      <td>250692418</td>\n",
       "      <td>250692401</td>\n",
       "      <td>3.339822e+09</td>\n",
       "      <td>250691723.0</td>\n",
       "      <td>0.592525</td>\n",
       "    </tr>\n",
       "    <tr>\n",
       "      <th>0.04</th>\n",
       "      <td>37.977485</td>\n",
       "      <td>23.735402</td>\n",
       "      <td>34.0197</td>\n",
       "      <td>0.0040</td>\n",
       "      <td>0.0086</td>\n",
       "      <td>Taxi</td>\n",
       "      <td>320.26</td>\n",
       "      <td>35.366264</td>\n",
       "      <td>3.339822e+09</td>\n",
       "      <td>250692418</td>\n",
       "      <td>250692401</td>\n",
       "      <td>3.339822e+09</td>\n",
       "      <td>250691723.0</td>\n",
       "      <td>0.595703</td>\n",
       "    </tr>\n",
       "    <tr>\n",
       "      <th>0.08</th>\n",
       "      <td>37.977488</td>\n",
       "      <td>23.735400</td>\n",
       "      <td>34.0211</td>\n",
       "      <td>0.0167</td>\n",
       "      <td>0.0097</td>\n",
       "      <td>Taxi</td>\n",
       "      <td>320.26</td>\n",
       "      <td>35.366264</td>\n",
       "      <td>3.339822e+09</td>\n",
       "      <td>250692418</td>\n",
       "      <td>250692401</td>\n",
       "      <td>3.339822e+09</td>\n",
       "      <td>250691723.0</td>\n",
       "      <td>0.598527</td>\n",
       "    </tr>\n",
       "    <tr>\n",
       "      <th>0.12</th>\n",
       "      <td>37.977491</td>\n",
       "      <td>23.735398</td>\n",
       "      <td>34.0245</td>\n",
       "      <td>0.0294</td>\n",
       "      <td>0.0108</td>\n",
       "      <td>Taxi</td>\n",
       "      <td>320.26</td>\n",
       "      <td>35.366264</td>\n",
       "      <td>3.339822e+09</td>\n",
       "      <td>250692418</td>\n",
       "      <td>250692401</td>\n",
       "      <td>3.339822e+09</td>\n",
       "      <td>250691723.0</td>\n",
       "      <td>0.601351</td>\n",
       "    </tr>\n",
       "    <tr>\n",
       "      <th>0.16</th>\n",
       "      <td>37.977494</td>\n",
       "      <td>23.735395</td>\n",
       "      <td>34.0305</td>\n",
       "      <td>0.0540</td>\n",
       "      <td>0.0120</td>\n",
       "      <td>Taxi</td>\n",
       "      <td>320.26</td>\n",
       "      <td>35.366264</td>\n",
       "      <td>3.339822e+09</td>\n",
       "      <td>250692418</td>\n",
       "      <td>250692401</td>\n",
       "      <td>3.339822e+09</td>\n",
       "      <td>250691723.0</td>\n",
       "      <td>0.604529</td>\n",
       "    </tr>\n",
       "    <tr>\n",
       "      <th>...</th>\n",
       "      <th>...</th>\n",
       "      <td>...</td>\n",
       "      <td>...</td>\n",
       "      <td>...</td>\n",
       "      <td>...</td>\n",
       "      <td>...</td>\n",
       "      <td>...</td>\n",
       "      <td>...</td>\n",
       "      <td>...</td>\n",
       "      <td>...</td>\n",
       "      <td>...</td>\n",
       "      <td>...</td>\n",
       "      <td>...</td>\n",
       "      <td>...</td>\n",
       "      <td>...</td>\n",
       "    </tr>\n",
       "    <tr>\n",
       "      <th rowspan=\"5\" valign=\"top\">5</th>\n",
       "      <th>29.24</th>\n",
       "      <td>37.979836</td>\n",
       "      <td>23.733313</td>\n",
       "      <td>36.8072</td>\n",
       "      <td>-3.7893</td>\n",
       "      <td>1.1652</td>\n",
       "      <td>Car</td>\n",
       "      <td>272.25</td>\n",
       "      <td>33.336716</td>\n",
       "      <td>2.506989e+08</td>\n",
       "      <td>250692418</td>\n",
       "      <td>250692401</td>\n",
       "      <td>2.506989e+08</td>\n",
       "      <td>250698925.0</td>\n",
       "      <td>0.617300</td>\n",
       "    </tr>\n",
       "    <tr>\n",
       "      <th>29.28</th>\n",
       "      <td>37.979838</td>\n",
       "      <td>23.733311</td>\n",
       "      <td>36.4768</td>\n",
       "      <td>-3.8277</td>\n",
       "      <td>1.1690</td>\n",
       "      <td>Car</td>\n",
       "      <td>272.25</td>\n",
       "      <td>33.336716</td>\n",
       "      <td>2.506989e+08</td>\n",
       "      <td>250692418</td>\n",
       "      <td>250692401</td>\n",
       "      <td>2.506989e+08</td>\n",
       "      <td>250698925.0</td>\n",
       "      <td>0.619753</td>\n",
       "    </tr>\n",
       "    <tr>\n",
       "      <th>29.32</th>\n",
       "      <td>37.979841</td>\n",
       "      <td>23.733309</td>\n",
       "      <td>36.1375</td>\n",
       "      <td>-3.8118</td>\n",
       "      <td>1.1665</td>\n",
       "      <td>Car</td>\n",
       "      <td>272.25</td>\n",
       "      <td>33.336716</td>\n",
       "      <td>2.506989e+08</td>\n",
       "      <td>250692418</td>\n",
       "      <td>250692401</td>\n",
       "      <td>2.506989e+08</td>\n",
       "      <td>250698925.0</td>\n",
       "      <td>0.622959</td>\n",
       "    </tr>\n",
       "    <tr>\n",
       "      <th>29.36</th>\n",
       "      <td>37.979844</td>\n",
       "      <td>23.733306</td>\n",
       "      <td>35.7859</td>\n",
       "      <td>-3.8818</td>\n",
       "      <td>1.1568</td>\n",
       "      <td>Car</td>\n",
       "      <td>272.25</td>\n",
       "      <td>33.336716</td>\n",
       "      <td>2.506989e+08</td>\n",
       "      <td>250692418</td>\n",
       "      <td>250692401</td>\n",
       "      <td>2.506989e+08</td>\n",
       "      <td>250698925.0</td>\n",
       "      <td>0.626638</td>\n",
       "    </tr>\n",
       "    <tr>\n",
       "      <th>29.40</th>\n",
       "      <td>37.979847</td>\n",
       "      <td>23.733304</td>\n",
       "      <td>35.4092</td>\n",
       "      <td>-4.0068</td>\n",
       "      <td>1.1387</td>\n",
       "      <td>Car</td>\n",
       "      <td>272.25</td>\n",
       "      <td>33.336716</td>\n",
       "      <td>2.506989e+08</td>\n",
       "      <td>250692418</td>\n",
       "      <td>250692401</td>\n",
       "      <td>2.506989e+08</td>\n",
       "      <td>250698925.0</td>\n",
       "      <td>0.629844</td>\n",
       "    </tr>\n",
       "  </tbody>\n",
       "</table>\n",
       "<p>3460 rows × 14 columns</p>\n",
       "</div>"
      ],
      "text/plain": [
       "                lat        lon    speed  lon_acc  lat_acc  type  traveled_d  \\\n",
       "id time                                                                       \n",
       "1  0.00   37.977482  23.735405  34.0206  -0.0167   0.0074  Taxi      320.26   \n",
       "   0.04   37.977485  23.735402  34.0197   0.0040   0.0086  Taxi      320.26   \n",
       "   0.08   37.977488  23.735400  34.0211   0.0167   0.0097  Taxi      320.26   \n",
       "   0.12   37.977491  23.735398  34.0245   0.0294   0.0108  Taxi      320.26   \n",
       "   0.16   37.977494  23.735395  34.0305   0.0540   0.0120  Taxi      320.26   \n",
       "...             ...        ...      ...      ...      ...   ...         ...   \n",
       "5  29.24  37.979836  23.733313  36.8072  -3.7893   1.1652   Car      272.25   \n",
       "   29.28  37.979838  23.733311  36.4768  -3.8277   1.1690   Car      272.25   \n",
       "   29.32  37.979841  23.733309  36.1375  -3.8118   1.1665   Car      272.25   \n",
       "   29.36  37.979844  23.733306  35.7859  -3.8818   1.1568   Car      272.25   \n",
       "   29.40  37.979847  23.733304  35.4092  -4.0068   1.1387   Car      272.25   \n",
       "\n",
       "          avg_speed  Nearest Node  Nearest Edge First NodeID  \\\n",
       "id time                                                        \n",
       "1  0.00   35.366264  3.339822e+09                  250692418   \n",
       "   0.04   35.366264  3.339822e+09                  250692418   \n",
       "   0.08   35.366264  3.339822e+09                  250692418   \n",
       "   0.12   35.366264  3.339822e+09                  250692418   \n",
       "   0.16   35.366264  3.339822e+09                  250692418   \n",
       "...             ...           ...                        ...   \n",
       "5  29.24  33.336716  2.506989e+08                  250692418   \n",
       "   29.28  33.336716  2.506989e+08                  250692418   \n",
       "   29.32  33.336716  2.506989e+08                  250692418   \n",
       "   29.36  33.336716  2.506989e+08                  250692418   \n",
       "   29.40  33.336716  2.506989e+08                  250692418   \n",
       "\n",
       "          Nearest Edge Second NodeID  Nearest Edge Start  Nearest Edge End  \\\n",
       "id time                                                                      \n",
       "1  0.00                    250692401        3.339822e+09       250691723.0   \n",
       "   0.04                    250692401        3.339822e+09       250691723.0   \n",
       "   0.08                    250692401        3.339822e+09       250691723.0   \n",
       "   0.12                    250692401        3.339822e+09       250691723.0   \n",
       "   0.16                    250692401        3.339822e+09       250691723.0   \n",
       "...                              ...                 ...               ...   \n",
       "5  29.24                   250692401        2.506989e+08       250698925.0   \n",
       "   29.28                   250692401        2.506989e+08       250698925.0   \n",
       "   29.32                   250692401        2.506989e+08       250698925.0   \n",
       "   29.36                   250692401        2.506989e+08       250698925.0   \n",
       "   29.40                   250692401        2.506989e+08       250698925.0   \n",
       "\n",
       "          Distance Achieved  \n",
       "id time                      \n",
       "1  0.00            0.592525  \n",
       "   0.04            0.595703  \n",
       "   0.08            0.598527  \n",
       "   0.12            0.601351  \n",
       "   0.16            0.604529  \n",
       "...                     ...  \n",
       "5  29.24           0.617300  \n",
       "   29.28           0.619753  \n",
       "   29.32           0.622959  \n",
       "   29.36           0.626638  \n",
       "   29.40           0.629844  \n",
       "\n",
       "[3460 rows x 14 columns]"
      ]
     },
     "execution_count": 85,
     "metadata": {},
     "output_type": "execute_result"
    }
   ],
   "source": [
    "df"
   ]
  },
  {
   "cell_type": "code",
   "execution_count": 41,
   "metadata": {},
   "outputs": [
    {
     "data": {
      "text/plain": [
       "38.295199201188716"
      ]
     },
     "execution_count": 41,
     "metadata": {},
     "output_type": "execute_result"
    }
   ],
   "source": []
  },
  {
   "cell_type": "code",
   "execution_count": 36,
   "metadata": {},
   "outputs": [],
   "source": []
  },
  {
   "cell_type": "code",
   "execution_count": 47,
   "metadata": {},
   "outputs": [
    {
     "data": {
      "text/plain": [
       "0.31964235624777326"
      ]
     },
     "execution_count": 47,
     "metadata": {},
     "output_type": "execute_result"
    }
   ],
   "source": []
  },
  {
   "cell_type": "code",
   "execution_count": 48,
   "metadata": {},
   "outputs": [
    {
     "data": {
      "text/plain": [
       "0.373240968109744"
      ]
     },
     "execution_count": 48,
     "metadata": {},
     "output_type": "execute_result"
    }
   ],
   "source": []
  },
  {
   "cell_type": "code",
   "execution_count": 49,
   "metadata": {},
   "outputs": [
    {
     "data": {
      "text/plain": [
       "0.05806963530107411"
      ]
     },
     "execution_count": 49,
     "metadata": {},
     "output_type": "execute_result"
    }
   ],
   "source": []
  },
  {
   "cell_type": "code",
   "execution_count": 54,
   "metadata": {},
   "outputs": [
    {
     "data": {
      "text/plain": [
       "(3339821648,\n",
       " 250691723,\n",
       " 0,\n",
       " <shapely.geometry.linestring.LineString at 0x7f8305a1a790>,\n",
       " 2.0233523004191226e-05)"
      ]
     },
     "execution_count": 54,
     "metadata": {},
     "output_type": "execute_result"
    }
   ],
   "source": []
  },
  {
   "cell_type": "code",
   "execution_count": 55,
   "metadata": {},
   "outputs": [
    {
     "data": {
      "text/plain": [
       "<networkx.classes.multidigraph.MultiDiGraph at 0x7f82fe39c9d0>"
      ]
     },
     "execution_count": 55,
     "metadata": {},
     "output_type": "execute_result"
    }
   ],
   "source": [
    "\n"
   ]
  },
  {
   "cell_type": "code",
   "execution_count": 63,
   "metadata": {},
   "outputs": [
    {
     "data": {
      "text/plain": [
       "3339821648"
      ]
     },
     "execution_count": 63,
     "metadata": {},
     "output_type": "execute_result"
    }
   ],
   "source": []
  },
  {
   "cell_type": "code",
   "execution_count": 64,
   "metadata": {},
   "outputs": [
    {
     "data": {
      "text/plain": [
       "23.7358882"
      ]
     },
     "execution_count": 64,
     "metadata": {},
     "output_type": "execute_result"
    }
   ],
   "source": []
  },
  {
   "cell_type": "code",
   "execution_count": 68,
   "metadata": {},
   "outputs": [
    {
     "data": {
      "text/plain": [
       "(3339821648, 250691723, 0)"
      ]
     },
     "execution_count": 68,
     "metadata": {},
     "output_type": "execute_result"
    }
   ],
   "source": []
  },
  {
   "cell_type": "code",
   "execution_count": 69,
   "metadata": {},
   "outputs": [],
   "source": []
  },
  {
   "cell_type": "code",
   "execution_count": 70,
   "metadata": {},
   "outputs": [
    {
     "data": {
      "text/plain": [
       "0.0788241591869522"
      ]
     },
     "execution_count": 70,
     "metadata": {},
     "output_type": "execute_result"
    }
   ],
   "source": []
  },
  {
   "cell_type": "code",
   "execution_count": 71,
   "metadata": {},
   "outputs": [
    {
     "data": {
      "text/plain": [
       "0.08177279461877263"
      ]
     },
     "execution_count": 71,
     "metadata": {},
     "output_type": "execute_result"
    }
   ],
   "source": []
  },
  {
   "cell_type": "code",
   "execution_count": 72,
   "metadata": {},
   "outputs": [
    {
     "data": {
      "text/plain": [
       "0.16054182547279708"
      ]
     },
     "execution_count": 72,
     "metadata": {},
     "output_type": "execute_result"
    }
   ],
   "source": []
  },
  {
   "cell_type": "code",
   "execution_count": 74,
   "metadata": {},
   "outputs": [
    {
     "data": {
      "text/plain": [
       "3339821648"
      ]
     },
     "execution_count": 74,
     "metadata": {},
     "output_type": "execute_result"
    }
   ],
   "source": []
  },
  {
   "cell_type": "code",
   "execution_count": 77,
   "metadata": {},
   "outputs": [
    {
     "data": {
      "text/plain": [
       "array([3.33982165e+09, 3.33982165e+09, 3.33982165e+09, ...,\n",
       "       2.50698925e+08, 2.50698925e+08, 2.50698925e+08])"
      ]
     },
     "execution_count": 77,
     "metadata": {},
     "output_type": "execute_result"
    }
   ],
   "source": [
    "nodes"
   ]
  },
  {
   "cell_type": "code",
   "execution_count": null,
   "metadata": {},
   "outputs": [],
   "source": []
  }
 ],
 "metadata": {
  "kernelspec": {
   "name": "python3",
   "display_name": "Python 3.9.2 64-bit ('ox': conda)",
   "metadata": {
    "interpreter": {
     "hash": "72326583629048dad8c9a913f12cb6cad5a38ceace067d86c7872c2b0df37259"
    }
   }
  },
  "language_info": {
   "codemirror_mode": {
    "name": "ipython",
    "version": 3
   },
   "file_extension": ".py",
   "mimetype": "text/x-python",
   "name": "python",
   "nbconvert_exporter": "python",
   "pygments_lexer": "ipython3",
   "version": "3.9.2-final"
  }
 },
 "nbformat": 4,
 "nbformat_minor": 2
}