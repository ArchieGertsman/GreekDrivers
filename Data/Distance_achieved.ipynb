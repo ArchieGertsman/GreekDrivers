{
 "cells": [
  {
   "cell_type": "code",
   "execution_count": 1,
   "metadata": {},
   "outputs": [],
   "source": [
    "import osmnx as ox\n",
    "import pandas as pd\n",
    "import numpy as np\n",
    "from Data import Data \n",
    "import networkx as nx\n",
    "from networkx import algorithms \n",
    "import math"
   ]
  },
  {
   "cell_type": "code",
   "execution_count": 2,
   "metadata": {},
   "outputs": [],
   "source": [
    "graph = ox.graph_from_address('Athens, Municipality of Athens, Regional Unit of Central Athens, Attica, 10667, Greece', network_type='drive') "
   ]
  },
  {
   "cell_type": "code",
   "execution_count": 5,
   "metadata": {},
   "outputs": [],
   "source": [
    "df = pd.read_pickle(\"sample.pkl\")\n",
    "X = df.copy()"
   ]
  },
  {
   "cell_type": "code",
   "execution_count": 35,
   "metadata": {},
   "outputs": [],
   "source": [
    "EARTH_RADIUS = 6373\n",
    "\n",
    "def euc_dist(coord0, lon1, lat1):\n",
    "    lat0, lon0 = coord0\n",
    "    lat1, lon1 = coord1\n",
    "\n",
    "    lat0, lon0 = math.radians(lat0), math.radians(lon0)\n",
    "    lat1, lon1 = math.radians(lat1), math.radians(lon1)\n",
    "\n",
    "    dlat = lat1 - lat0\n",
    "    dlon = lon1 - lon0\n",
    "\n",
    "    a = math.sin(dlat/2)**2 + math.cos(lat0) * math.cos(lat1) * math.sin(dlon/2)**2\n",
    "    c = 2 * math.atan2(math.sqrt(a), math.sqrt(1-a))\n",
    "    return EARTH_RADIUS*c"
   ]
  },
  {
   "cell_type": "code",
   "execution_count": 36,
   "metadata": {},
   "outputs": [],
   "source": [
    "def edge_progress(edge_start_node, edge_end_node, v_coord):\n",
    "    start_coord = graph.nodes[edge_start_node]['y'], graph.nodes[edge_start_node]['x']\n",
    "    end_coord = graph.nodes[edge_end_node]['y'], graph.nodes[edge_end_node]['x']\n",
    "\n",
    "    a = Distance_Euc(start_coord, end_coord)\n",
    "    b = Distance_Euc(start_coord, v_coord)\n",
    "    return b/a"
   ]
  },
  {
   "cell_type": "code",
   "execution_count": 50,
   "metadata": {},
   "outputs": [
    {
     "output_type": "execute_result",
     "data": {
      "text/plain": [
       "               lat        lon    speed  lon_acc  lat_acc  type  traveled_d  \\\n",
       "id time                                                                      \n",
       "1  0.00  37.977482  23.735405  34.0206  -0.0167   0.0074  Taxi      320.26   \n",
       "   0.04  37.977485  23.735402  34.0197   0.0040   0.0086  Taxi      320.26   \n",
       "   0.08  37.977488  23.735400  34.0211   0.0167   0.0097  Taxi      320.26   \n",
       "   0.12  37.977491  23.735398  34.0245   0.0294   0.0108  Taxi      320.26   \n",
       "   0.16  37.977494  23.735395  34.0305   0.0540   0.0120  Taxi      320.26   \n",
       "   0.20  37.977496  23.735393  34.0409   0.0906   0.0131  Taxi      320.26   \n",
       "   0.24  37.977499  23.735390  34.0574   0.1390   0.0142  Taxi      320.26   \n",
       "   0.28  37.977502  23.735388  34.0805   0.1816   0.0153  Taxi      320.26   \n",
       "   0.32  37.977505  23.735386  34.1089   0.2123   0.0164  Taxi      320.26   \n",
       "   0.36  37.977508  23.735383  34.1414   0.2398   0.0175  Taxi      320.26   \n",
       "\n",
       "         avg_speed  nearest_node  nearest_edge_start_node  \\\n",
       "id time                                                     \n",
       "1  0.00  35.366264    3339821648               3339821648   \n",
       "   0.04  35.366264    3339821648               3339821648   \n",
       "   0.08  35.366264    3339821648               3339821648   \n",
       "   0.12  35.366264    3339821648               3339821648   \n",
       "   0.16  35.366264    3339821648               3339821648   \n",
       "   0.20  35.366264    3339821648               3339821648   \n",
       "   0.24  35.366264    3339821648               3339821648   \n",
       "   0.28  35.366264     250691723               3339821648   \n",
       "   0.32  35.366264     250691723               3339821648   \n",
       "   0.36  35.366264     250691723               3339821648   \n",
       "\n",
       "         nearest_edge_end_node  edge_progress  \n",
       "id time                                        \n",
       "1  0.00              250691723       0.488886  \n",
       "   0.04              250691723       0.491508  \n",
       "   0.08              250691723       0.493838  \n",
       "   0.12              250691723       0.496168  \n",
       "   0.16              250691723       0.498790  \n",
       "   0.20              250691723       0.500538  \n",
       "   0.24              250691723       0.503160  \n",
       "   0.28              250691723       0.505490  \n",
       "   0.32              250691723       0.507820  \n",
       "   0.36              250691723       0.510442  "
      ],
      "text/html": "<div>\n<style scoped>\n    .dataframe tbody tr th:only-of-type {\n        vertical-align: middle;\n    }\n\n    .dataframe tbody tr th {\n        vertical-align: top;\n    }\n\n    .dataframe thead th {\n        text-align: right;\n    }\n</style>\n<table border=\"1\" class=\"dataframe\">\n  <thead>\n    <tr style=\"text-align: right;\">\n      <th></th>\n      <th></th>\n      <th>lat</th>\n      <th>lon</th>\n      <th>speed</th>\n      <th>lon_acc</th>\n      <th>lat_acc</th>\n      <th>type</th>\n      <th>traveled_d</th>\n      <th>avg_speed</th>\n      <th>nearest_node</th>\n      <th>nearest_edge_start_node</th>\n      <th>nearest_edge_end_node</th>\n      <th>edge_progress</th>\n    </tr>\n    <tr>\n      <th>id</th>\n      <th>time</th>\n      <th></th>\n      <th></th>\n      <th></th>\n      <th></th>\n      <th></th>\n      <th></th>\n      <th></th>\n      <th></th>\n      <th></th>\n      <th></th>\n      <th></th>\n      <th></th>\n    </tr>\n  </thead>\n  <tbody>\n    <tr>\n      <th rowspan=\"10\" valign=\"top\">1</th>\n      <th>0.00</th>\n      <td>37.977482</td>\n      <td>23.735405</td>\n      <td>34.0206</td>\n      <td>-0.0167</td>\n      <td>0.0074</td>\n      <td>Taxi</td>\n      <td>320.26</td>\n      <td>35.366264</td>\n      <td>3339821648</td>\n      <td>3339821648</td>\n      <td>250691723</td>\n      <td>0.488886</td>\n    </tr>\n    <tr>\n      <th>0.04</th>\n      <td>37.977485</td>\n      <td>23.735402</td>\n      <td>34.0197</td>\n      <td>0.0040</td>\n      <td>0.0086</td>\n      <td>Taxi</td>\n      <td>320.26</td>\n      <td>35.366264</td>\n      <td>3339821648</td>\n      <td>3339821648</td>\n      <td>250691723</td>\n      <td>0.491508</td>\n    </tr>\n    <tr>\n      <th>0.08</th>\n      <td>37.977488</td>\n      <td>23.735400</td>\n      <td>34.0211</td>\n      <td>0.0167</td>\n      <td>0.0097</td>\n      <td>Taxi</td>\n      <td>320.26</td>\n      <td>35.366264</td>\n      <td>3339821648</td>\n      <td>3339821648</td>\n      <td>250691723</td>\n      <td>0.493838</td>\n    </tr>\n    <tr>\n      <th>0.12</th>\n      <td>37.977491</td>\n      <td>23.735398</td>\n      <td>34.0245</td>\n      <td>0.0294</td>\n      <td>0.0108</td>\n      <td>Taxi</td>\n      <td>320.26</td>\n      <td>35.366264</td>\n      <td>3339821648</td>\n      <td>3339821648</td>\n      <td>250691723</td>\n      <td>0.496168</td>\n    </tr>\n    <tr>\n      <th>0.16</th>\n      <td>37.977494</td>\n      <td>23.735395</td>\n      <td>34.0305</td>\n      <td>0.0540</td>\n      <td>0.0120</td>\n      <td>Taxi</td>\n      <td>320.26</td>\n      <td>35.366264</td>\n      <td>3339821648</td>\n      <td>3339821648</td>\n      <td>250691723</td>\n      <td>0.498790</td>\n    </tr>\n    <tr>\n      <th>0.20</th>\n      <td>37.977496</td>\n      <td>23.735393</td>\n      <td>34.0409</td>\n      <td>0.0906</td>\n      <td>0.0131</td>\n      <td>Taxi</td>\n      <td>320.26</td>\n      <td>35.366264</td>\n      <td>3339821648</td>\n      <td>3339821648</td>\n      <td>250691723</td>\n      <td>0.500538</td>\n    </tr>\n    <tr>\n      <th>0.24</th>\n      <td>37.977499</td>\n      <td>23.735390</td>\n      <td>34.0574</td>\n      <td>0.1390</td>\n      <td>0.0142</td>\n      <td>Taxi</td>\n      <td>320.26</td>\n      <td>35.366264</td>\n      <td>3339821648</td>\n      <td>3339821648</td>\n      <td>250691723</td>\n      <td>0.503160</td>\n    </tr>\n    <tr>\n      <th>0.28</th>\n      <td>37.977502</td>\n      <td>23.735388</td>\n      <td>34.0805</td>\n      <td>0.1816</td>\n      <td>0.0153</td>\n      <td>Taxi</td>\n      <td>320.26</td>\n      <td>35.366264</td>\n      <td>250691723</td>\n      <td>3339821648</td>\n      <td>250691723</td>\n      <td>0.505490</td>\n    </tr>\n    <tr>\n      <th>0.32</th>\n      <td>37.977505</td>\n      <td>23.735386</td>\n      <td>34.1089</td>\n      <td>0.2123</td>\n      <td>0.0164</td>\n      <td>Taxi</td>\n      <td>320.26</td>\n      <td>35.366264</td>\n      <td>250691723</td>\n      <td>3339821648</td>\n      <td>250691723</td>\n      <td>0.507820</td>\n    </tr>\n    <tr>\n      <th>0.36</th>\n      <td>37.977508</td>\n      <td>23.735383</td>\n      <td>34.1414</td>\n      <td>0.2398</td>\n      <td>0.0175</td>\n      <td>Taxi</td>\n      <td>320.26</td>\n      <td>35.366264</td>\n      <td>250691723</td>\n      <td>3339821648</td>\n      <td>250691723</td>\n      <td>0.510442</td>\n    </tr>\n  </tbody>\n</table>\n</div>"
     },
     "metadata": {},
     "execution_count": 50
    }
   ],
   "source": [
    "def construct_graph_data_cols(row):\n",
    "    coord = (row['lat'],row['lon'])\n",
    "    nn = ox.get_nearest_node(graph, coord, method='euclidean')\n",
    "    start, end, _ = ox.get_nearest_edge(graph, coord)\n",
    "    edge_prog = edge_progress(start, end, coord)\n",
    "    return nn, start, end, edge_prog\n",
    "\n",
    "df_test = df[:10]\n",
    "zipped_cols = zip(*df_test.apply(construct_graph_data_cols,axis=1))\n",
    "df_test['nearest_node'], \\\n",
    "df_test['nearest_edge_start_node'], \\\n",
    "df_test['nearest_edge_end_node'], \\\n",
    "df_test['edge_progress'] \\\n",
    "    = zipped_cols\n",
    "\n",
    "df_test"
   ]
  },
  {
   "cell_type": "code",
   "execution_count": null,
   "metadata": {},
   "outputs": [],
   "source": []
  }
 ],
 "metadata": {
  "kernelspec": {
   "name": "python3",
   "display_name": "Python 3.9.2 64-bit ('ox': conda)",
   "metadata": {
    "interpreter": {
     "hash": "72326583629048dad8c9a913f12cb6cad5a38ceace067d86c7872c2b0df37259"
    }
   }
  },
  "language_info": {
   "codemirror_mode": {
    "name": "ipython",
    "version": 3
   },
   "file_extension": ".py",
   "mimetype": "text/x-python",
   "name": "python",
   "nbconvert_exporter": "python",
   "pygments_lexer": "ipython3",
   "version": "3.9.2-final"
  }
 },
 "nbformat": 4,
 "nbformat_minor": 2
}