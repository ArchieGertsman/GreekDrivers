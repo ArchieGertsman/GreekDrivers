{
 "cells": [
  {
   "cell_type": "code",
   "execution_count": 1,
   "metadata": {},
   "outputs": [],
   "source": [
    "from Data import Data\n",
    "import numpy as np\n",
    "import pandas as pd\n",
    "from numpy import arctan2, sin, cos"
   ]
  },
  {
   "cell_type": "code",
   "execution_count": 2,
   "metadata": {},
   "outputs": [
    {
     "data": {
      "text/html": [
       "<div>\n",
       "<style scoped>\n",
       "    .dataframe tbody tr th:only-of-type {\n",
       "        vertical-align: middle;\n",
       "    }\n",
       "\n",
       "    .dataframe tbody tr th {\n",
       "        vertical-align: top;\n",
       "    }\n",
       "\n",
       "    .dataframe thead th {\n",
       "        text-align: right;\n",
       "    }\n",
       "</style>\n",
       "<table border=\"1\" class=\"dataframe\">\n",
       "  <thead>\n",
       "    <tr style=\"text-align: right;\">\n",
       "      <th></th>\n",
       "      <th></th>\n",
       "      <th>lat</th>\n",
       "      <th>lon</th>\n",
       "      <th>speed</th>\n",
       "      <th>lon_acc</th>\n",
       "      <th>lat_acc</th>\n",
       "      <th>type</th>\n",
       "      <th>traveled_d</th>\n",
       "      <th>avg_speed</th>\n",
       "    </tr>\n",
       "    <tr>\n",
       "      <th>id</th>\n",
       "      <th>time</th>\n",
       "      <th></th>\n",
       "      <th></th>\n",
       "      <th></th>\n",
       "      <th></th>\n",
       "      <th></th>\n",
       "      <th></th>\n",
       "      <th></th>\n",
       "      <th></th>\n",
       "    </tr>\n",
       "  </thead>\n",
       "  <tbody>\n",
       "    <tr>\n",
       "      <th rowspan=\"5\" valign=\"top\">1</th>\n",
       "      <th>0.00</th>\n",
       "      <td>37.977482</td>\n",
       "      <td>23.735405</td>\n",
       "      <td>34.0206</td>\n",
       "      <td>-0.0167</td>\n",
       "      <td>0.0074</td>\n",
       "      <td>Taxi</td>\n",
       "      <td>320.26</td>\n",
       "      <td>35.366264</td>\n",
       "    </tr>\n",
       "    <tr>\n",
       "      <th>0.04</th>\n",
       "      <td>37.977485</td>\n",
       "      <td>23.735402</td>\n",
       "      <td>34.0197</td>\n",
       "      <td>0.0040</td>\n",
       "      <td>0.0086</td>\n",
       "      <td>Taxi</td>\n",
       "      <td>320.26</td>\n",
       "      <td>35.366264</td>\n",
       "    </tr>\n",
       "    <tr>\n",
       "      <th>0.08</th>\n",
       "      <td>37.977488</td>\n",
       "      <td>23.735400</td>\n",
       "      <td>34.0211</td>\n",
       "      <td>0.0167</td>\n",
       "      <td>0.0097</td>\n",
       "      <td>Taxi</td>\n",
       "      <td>320.26</td>\n",
       "      <td>35.366264</td>\n",
       "    </tr>\n",
       "    <tr>\n",
       "      <th>0.12</th>\n",
       "      <td>37.977491</td>\n",
       "      <td>23.735398</td>\n",
       "      <td>34.0245</td>\n",
       "      <td>0.0294</td>\n",
       "      <td>0.0108</td>\n",
       "      <td>Taxi</td>\n",
       "      <td>320.26</td>\n",
       "      <td>35.366264</td>\n",
       "    </tr>\n",
       "    <tr>\n",
       "      <th>0.16</th>\n",
       "      <td>37.977494</td>\n",
       "      <td>23.735395</td>\n",
       "      <td>34.0305</td>\n",
       "      <td>0.0540</td>\n",
       "      <td>0.0120</td>\n",
       "      <td>Taxi</td>\n",
       "      <td>320.26</td>\n",
       "      <td>35.366264</td>\n",
       "    </tr>\n",
       "  </tbody>\n",
       "</table>\n",
       "</div>"
      ],
      "text/plain": [
       "               lat        lon    speed  lon_acc  lat_acc  type  traveled_d  \\\n",
       "id time                                                                      \n",
       "1  0.00  37.977482  23.735405  34.0206  -0.0167   0.0074  Taxi      320.26   \n",
       "   0.04  37.977485  23.735402  34.0197   0.0040   0.0086  Taxi      320.26   \n",
       "   0.08  37.977488  23.735400  34.0211   0.0167   0.0097  Taxi      320.26   \n",
       "   0.12  37.977491  23.735398  34.0245   0.0294   0.0108  Taxi      320.26   \n",
       "   0.16  37.977494  23.735395  34.0305   0.0540   0.0120  Taxi      320.26   \n",
       "\n",
       "         avg_speed  \n",
       "id time             \n",
       "1  0.00  35.366264  \n",
       "   0.04  35.366264  \n",
       "   0.08  35.366264  \n",
       "   0.12  35.366264  \n",
       "   0.16  35.366264  "
      ]
     },
     "execution_count": 2,
     "metadata": {},
     "output_type": "execute_result"
    }
   ],
   "source": [
    "df = pd.read_pickle(\".\\sample.pkl\")\n",
    "df.head()"
   ]
  },
  {
   "cell_type": "code",
   "execution_count": 3,
   "metadata": {},
   "outputs": [],
   "source": [
    "# https://towardsdatascience.com/calculating-the-bearing-between-two-geospatial-coordinates-66203f57e4b4\n",
    "\n",
    "def bearing(c1, c2):\n",
    "    lat1,lon1 = c1\n",
    "    lat2,lon2 = c2\n",
    "    \n",
    "    dL = lon2 - lon1\n",
    "    x = cos(lon2) * sin(dL)\n",
    "    y = cos(lat1) * sin(lat2) - sin(lat1) * cos(lat2) * cos(dL)\n",
    "    return arctan2(x,y)"
   ]
  },
  {
   "cell_type": "code",
   "execution_count": 4,
   "metadata": {},
   "outputs": [],
   "source": [
    "def bearing_df(df,idx):\n",
    "    \n",
    "    df_1 = df.loc[idx]\n",
    "    index_list = df.index[df.index.isin([idx],level = 0)]\n",
    "    df_1 = df_1.set_index(pd.Index(range(0,len(df_1.index))))\n",
    "    df_2 = df_1.set_index(df_1.index-1)\n",
    "    df_2 = df_2.drop(-1)\n",
    "    dL = df_2[\"lon\"] - df_1[\"lon\"]\n",
    "\n",
    "    x = cos(df_2[\"lon\"]) * sin(dL)\n",
    "    y = cos(df_1[\"lat\"]) * sin(df_2[\"lat\"]) - sin(df_1[\"lat\"]) * cos(df_2[\"lat\"]) * cos(dL)\n",
    "    df_bearing = arctan2(x,y)\n",
    "    df_bearing.index = index_list\n",
    "    return df_bearing\n",
    "\n"
   ]
  },
  {
   "cell_type": "code",
   "execution_count": 5,
   "metadata": {},
   "outputs": [
    {
     "data": {
      "text/plain": [
       "-0.33168503526379606"
      ]
     },
     "execution_count": 5,
     "metadata": {},
     "output_type": "execute_result"
    }
   ],
   "source": [
    "DT = 0.04\n",
    "EPS = 1e-3\n",
    "\n",
    "def coord_at_idx(df, idx):\n",
    "    lat = float(df.loc[[idx], 'lat'])\n",
    "    lon = float(df.loc[[idx], 'lon'])\n",
    "    return (lat,lon)\n",
    "\n",
    "def bearing_at_idx(df, idx):\n",
    "    id,time = idx\n",
    "    next_idx = (id, time+DT)\n",
    "\n",
    "    if not df.index.isin([next_idx]).any():\n",
    "        return None\n",
    "    if float(df.loc[[idx], 'speed']) < EPS:\n",
    "        return None\n",
    "\n",
    "    a = coord_at_idx(df, idx)\n",
    "    b = coord_at_idx(df, next_idx)\n",
    "    return bearing(a,b)\n",
    "\n",
    "bearing_at_idx(df, (2,0.08))"
   ]
  },
  {
   "cell_type": "code",
   "execution_count": 7,
   "metadata": {
    "tags": []
   },
   "outputs": [
    {
     "name": "stdout",
     "output_type": "stream",
     "text": [
      "timetaken to run old code 49.77890181541443 \n",
      "timetaken to run new code 0.032958984375 \n"
     ]
    }
   ],
   "source": [
    "df2 = df.copy()\n",
    "df3 = df.copy()\n",
    "\n",
    "#df2['bearing'] = None\n",
    "df3['bearing'] = None\n",
    "# this is too slow\n",
    "import time\n",
    "start_time = time.time()\n",
    "\n",
    "\n",
    "for idx in df2.index:\n",
    "   df2.loc[[idx], 'bearing'] = bearing_at_idx(df2,idx)\n",
    "    \n",
    "print(\"timetaken to run old code %s \" % (time.time() - start_time))\n",
    "start_time = time.time()\n",
    "\n",
    "bearing_list = [bearing_df(df3,idx) for idx in df3.index.unique(level=0)]\n",
    "df3['bearing'] = pd.concat(bearing_list)\n",
    "    \n",
    "print(\"timetaken to run new code %s \" % (time.time() - start_time))   \n"
   ]
  },
  {
   "cell_type": "code",
   "execution_count": 154,
   "metadata": {},
   "outputs": [
    {
     "data": {
      "text/plain": [
       "id  time \n",
       "1   0.00     0.0\n",
       "    0.04     0.0\n",
       "    0.08     0.0\n",
       "    0.12     0.0\n",
       "    0.16     0.0\n",
       "            ... \n",
       "5   29.24    NaN\n",
       "    29.28    0.0\n",
       "    29.32    0.0\n",
       "    29.36    0.0\n",
       "    29.40    NaN\n",
       "Name: bearing, Length: 3460, dtype: object"
      ]
     },
     "execution_count": 154,
     "metadata": {},
     "output_type": "execute_result"
    }
   ],
   "source": [
    "df3[\"bearing\"]-df2[\"bearing\"]"
   ]
  }
 ],
 "metadata": {
  "kernelspec": {
   "display_name": "Python 3",
   "language": "python",
   "name": "python3"
  },
  "language_info": {
   "codemirror_mode": {
    "name": "ipython",
    "version": 3
   },
   "file_extension": ".py",
   "mimetype": "text/x-python",
   "name": "python",
   "nbconvert_exporter": "python",
   "pygments_lexer": "ipython3",
   "version": "3.9.1"
  }
 },
 "nbformat": 4,
 "nbformat_minor": 4
}
