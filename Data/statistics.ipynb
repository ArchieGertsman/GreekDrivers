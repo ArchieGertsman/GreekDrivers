{
 "metadata": {
  "language_info": {
   "codemirror_mode": {
    "name": "ipython",
    "version": 3
   },
   "file_extension": ".py",
   "mimetype": "text/x-python",
   "name": "python",
   "nbconvert_exporter": "python",
   "pygments_lexer": "ipython3",
   "version": "3.9.1-final"
  },
  "orig_nbformat": 2,
  "kernelspec": {
   "name": "python3",
   "display_name": "Python 3",
   "language": "python"
  }
 },
 "nbformat": 4,
 "nbformat_minor": 2,
 "cells": [
  {
   "cell_type": "code",
   "execution_count": null,
   "metadata": {},
   "outputs": [],
   "source": [
    "\"\"\"statistics.ipynb\n",
    "by: Sheil Kumar (sk17@illinois.edu)\n",
    "Project director: Richard Sowers\n",
    "r-sowers@illinois.eduhttps://publish.illinois.edu/r-sowers/\n",
    "Copyright 2019 University of Illinois Board of Trustees. All Rights Reserved. Licensed under the MIT license\n",
    "\"\"\""
   ]
  },
  {
   "cell_type": "code",
   "execution_count": 41,
   "metadata": {},
   "outputs": [],
   "source": [
    "import numpy as np \n",
    "import pandas as pd\n",
    "import matplotlib.pyplot as plt\n",
    "import time \n",
    "import osmnx as ox\n",
    "from data import csv_to_df, pickle_df"
   ]
  },
  {
   "cell_type": "code",
   "execution_count": 5,
   "metadata": {},
   "outputs": [
    {
     "output_type": "stream",
     "name": "stdout",
     "text": [
      "/home/sheil/miniconda3/envs/ox/bin/python\n"
     ]
    }
   ],
   "source": [
    "!which python"
   ]
  },
  {
   "cell_type": "code",
   "execution_count": 6,
   "metadata": {},
   "outputs": [],
   "source": [
    "Dataframe = csv_to_df(\"sample_larger.csv\")"
   ]
  },
  {
   "cell_type": "code",
   "execution_count": 7,
   "metadata": {},
   "outputs": [
    {
     "output_type": "execute_result",
     "data": {
      "text/plain": [
       "                  lat        lon    speed  lon_acc  lat_acc  type  traveled_d  \\\n",
       "id  time                                                                        \n",
       "1   0.00    37.977482  23.735405  34.0206  -0.0167   0.0074  Taxi      320.26   \n",
       "    0.04    37.977485  23.735402  34.0197   0.0040   0.0086  Taxi      320.26   \n",
       "    0.08    37.977488  23.735400  34.0211   0.0167   0.0097  Taxi      320.26   \n",
       "    0.12    37.977491  23.735398  34.0245   0.0294   0.0108  Taxi      320.26   \n",
       "    0.16    37.977494  23.735395  34.0305   0.0540   0.0120  Taxi      320.26   \n",
       "...               ...        ...      ...      ...      ...   ...         ...   \n",
       "498 117.24  37.976108  23.734443  15.3720  -1.6492  -0.9860   Car      141.47   \n",
       "    117.28  37.976107  23.734441  15.1933  -1.5682  -0.9499   Car      141.47   \n",
       "    117.32  37.976107  23.734440  15.0228  -1.4310  -0.9036   Car      141.47   \n",
       "    117.36  37.976107  23.734438  14.8672  -1.2553  -0.8471   Car      141.47   \n",
       "    117.40  37.976106  23.734436  14.7286  -1.0897  -0.7889   Car      141.47   \n",
       "\n",
       "            avg_speed  \n",
       "id  time               \n",
       "1   0.00    35.366264  \n",
       "    0.04    35.366264  \n",
       "    0.08    35.366264  \n",
       "    0.12    35.366264  \n",
       "    0.16    35.366264  \n",
       "...               ...  \n",
       "498 117.24   8.872855  \n",
       "    117.28   8.872855  \n",
       "    117.32   8.872855  \n",
       "    117.36   8.872855  \n",
       "    117.40   8.872855  \n",
       "\n",
       "[845628 rows x 8 columns]"
      ],
      "text/html": "<div>\n<style scoped>\n    .dataframe tbody tr th:only-of-type {\n        vertical-align: middle;\n    }\n\n    .dataframe tbody tr th {\n        vertical-align: top;\n    }\n\n    .dataframe thead th {\n        text-align: right;\n    }\n</style>\n<table border=\"1\" class=\"dataframe\">\n  <thead>\n    <tr style=\"text-align: right;\">\n      <th></th>\n      <th></th>\n      <th>lat</th>\n      <th>lon</th>\n      <th>speed</th>\n      <th>lon_acc</th>\n      <th>lat_acc</th>\n      <th>type</th>\n      <th>traveled_d</th>\n      <th>avg_speed</th>\n    </tr>\n    <tr>\n      <th>id</th>\n      <th>time</th>\n      <th></th>\n      <th></th>\n      <th></th>\n      <th></th>\n      <th></th>\n      <th></th>\n      <th></th>\n      <th></th>\n    </tr>\n  </thead>\n  <tbody>\n    <tr>\n      <th rowspan=\"5\" valign=\"top\">1</th>\n      <th>0.00</th>\n      <td>37.977482</td>\n      <td>23.735405</td>\n      <td>34.0206</td>\n      <td>-0.0167</td>\n      <td>0.0074</td>\n      <td>Taxi</td>\n      <td>320.26</td>\n      <td>35.366264</td>\n    </tr>\n    <tr>\n      <th>0.04</th>\n      <td>37.977485</td>\n      <td>23.735402</td>\n      <td>34.0197</td>\n      <td>0.0040</td>\n      <td>0.0086</td>\n      <td>Taxi</td>\n      <td>320.26</td>\n      <td>35.366264</td>\n    </tr>\n    <tr>\n      <th>0.08</th>\n      <td>37.977488</td>\n      <td>23.735400</td>\n      <td>34.0211</td>\n      <td>0.0167</td>\n      <td>0.0097</td>\n      <td>Taxi</td>\n      <td>320.26</td>\n      <td>35.366264</td>\n    </tr>\n    <tr>\n      <th>0.12</th>\n      <td>37.977491</td>\n      <td>23.735398</td>\n      <td>34.0245</td>\n      <td>0.0294</td>\n      <td>0.0108</td>\n      <td>Taxi</td>\n      <td>320.26</td>\n      <td>35.366264</td>\n    </tr>\n    <tr>\n      <th>0.16</th>\n      <td>37.977494</td>\n      <td>23.735395</td>\n      <td>34.0305</td>\n      <td>0.0540</td>\n      <td>0.0120</td>\n      <td>Taxi</td>\n      <td>320.26</td>\n      <td>35.366264</td>\n    </tr>\n    <tr>\n      <th>...</th>\n      <th>...</th>\n      <td>...</td>\n      <td>...</td>\n      <td>...</td>\n      <td>...</td>\n      <td>...</td>\n      <td>...</td>\n      <td>...</td>\n      <td>...</td>\n    </tr>\n    <tr>\n      <th rowspan=\"5\" valign=\"top\">498</th>\n      <th>117.24</th>\n      <td>37.976108</td>\n      <td>23.734443</td>\n      <td>15.3720</td>\n      <td>-1.6492</td>\n      <td>-0.9860</td>\n      <td>Car</td>\n      <td>141.47</td>\n      <td>8.872855</td>\n    </tr>\n    <tr>\n      <th>117.28</th>\n      <td>37.976107</td>\n      <td>23.734441</td>\n      <td>15.1933</td>\n      <td>-1.5682</td>\n      <td>-0.9499</td>\n      <td>Car</td>\n      <td>141.47</td>\n      <td>8.872855</td>\n    </tr>\n    <tr>\n      <th>117.32</th>\n      <td>37.976107</td>\n      <td>23.734440</td>\n      <td>15.0228</td>\n      <td>-1.4310</td>\n      <td>-0.9036</td>\n      <td>Car</td>\n      <td>141.47</td>\n      <td>8.872855</td>\n    </tr>\n    <tr>\n      <th>117.36</th>\n      <td>37.976107</td>\n      <td>23.734438</td>\n      <td>14.8672</td>\n      <td>-1.2553</td>\n      <td>-0.8471</td>\n      <td>Car</td>\n      <td>141.47</td>\n      <td>8.872855</td>\n    </tr>\n    <tr>\n      <th>117.40</th>\n      <td>37.976106</td>\n      <td>23.734436</td>\n      <td>14.7286</td>\n      <td>-1.0897</td>\n      <td>-0.7889</td>\n      <td>Car</td>\n      <td>141.47</td>\n      <td>8.872855</td>\n    </tr>\n  </tbody>\n</table>\n<p>845628 rows × 8 columns</p>\n</div>"
     },
     "metadata": {},
     "execution_count": 7
    }
   ],
   "source": [
    "Dataframe"
   ]
  },
  {
   "cell_type": "code",
   "execution_count": 8,
   "metadata": {},
   "outputs": [],
   "source": [
    "\n",
    "Vehicle = pd.Series(Dataframe[\"type\"].unique())"
   ]
  },
  {
   "cell_type": "code",
   "execution_count": 47,
   "metadata": {},
   "outputs": [],
   "source": [
    "mean_speed = {}\n",
    "median_speed = {}\n",
    "mean_lon_acc = {}\n",
    "mean_lat_acc = {}\n",
    "std_speed = {}\n",
    "std_lon_acc = {}\n",
    "std_lat_acc = {}\n",
    "max_lat = {}\n",
    "min_lat = {}\n",
    "max_lon = {}\n",
    "min_lon = {}\n",
    "for i in Dataframe[\"type\"].unique():\n",
    "    mean_speed[i] = np.mean(Dataframe[Dataframe[\"type\"]==i][\"speed\"])\n",
    "    median_speed[i] = np.median(Dataframe[Dataframe[\"type\"]==i][\"speed\"])\n",
    "    std_speed[i] = np.std(Dataframe[Dataframe[\"type\"]==i][\"speed\"])\n",
    "    mean_lon_acc[i] = np.mean(Dataframe[Dataframe[\"type\"]==i][\"lon_acc\"])\n",
    "    mean_lat_acc[i] = np.mean(Dataframe[Dataframe[\"type\"]==i][\"lat_acc\"])\n",
    "    std_lon_acc[i] = np.std(Dataframe[Dataframe[\"type\"]==i][\"lon_acc\"])\n",
    "    std_lat_acc[i] = np.std(Dataframe[Dataframe[\"type\"]==i][\"lat_acc\"])\n",
    "    max_lat[i] = np.max(Dataframe[Dataframe[\"type\"]==i][\"lat\"])\n",
    "    min_lat[i] = np.min(Dataframe[Dataframe[\"type\"]==i][\"lat\"])\n",
    "    max_lon[i] = np.max(Dataframe[Dataframe[\"type\"]==i][\"lon\"])\n",
    "    min_lon[i] = np.min(Dataframe[Dataframe[\"type\"]==i][\"lon\"])"
   ]
  },
  {
   "cell_type": "code",
   "execution_count": 49,
   "metadata": {},
   "outputs": [],
   "source": [
    "Stats = pd.DataFrame(index=Vehicle)\n",
    "Stats.index.name = \"Vehicles\""
   ]
  },
  {
   "cell_type": "code",
   "execution_count": 51,
   "metadata": {},
   "outputs": [],
   "source": [
    "Stats['mean_speed'] = Stats.index.to_series().map(mean_speed)\n",
    "Stats['median_speed'] = Stats.index.to_series().map(median_speed)\n",
    "Stats['std_speed'] = Stats.index.to_series().map(std_speed)\n",
    "Stats['mean_lon_acc'] = Stats.index.to_series().map(mean_lon_acc)\n",
    "Stats['std_lon_acc'] = Stats.index.to_series().map(std_lon_acc)\n",
    "Stats['mean_lat_acc'] = Stats.index.to_series().map(mean_lat_acc)\n",
    "Stats['std_lat_acc'] = Stats.index.to_series().map(std_lat_acc)\n",
    "Stats['max_lat'] = Stats.index.to_series().map(max_lat)\n",
    "Stats['min_lat'] = Stats.index.to_series().map(min_lat)\n",
    "Stats['max_lon'] = Stats.index.to_series().map(max_lon)\n",
    "Stats['min_lon'] = Stats.index.to_series().map(min_lon)"
   ]
  },
  {
   "cell_type": "code",
   "execution_count": 53,
   "metadata": {},
   "outputs": [
    {
     "output_type": "stream",
     "name": "stderr",
     "text": [
      "/home/sheil/miniconda3/envs/ox/lib/python3.9/site-packages/ipykernel/ipkernel.py:283: DeprecationWarning: `should_run_async` will not call `transform_cell` automatically in the future. Please pass the result to `transformed_cell` argument and any exception that happen during thetransform in `preprocessing_exc_tuple` in IPython 7.17 and above.\n  and should_run_async(code)\n"
     ]
    },
    {
     "output_type": "execute_result",
     "data": {
      "text/plain": [
       "                mean_speed  median_speed  std_speed  mean_lon_acc  \\\n",
       "Vehicles                                                            \n",
       "Taxi             13.176267        9.0337  14.339034      0.027487   \n",
       "Bus               6.177127        0.0000  10.689885      0.004286   \n",
       "Car              14.376883       10.9826  15.020300      0.034161   \n",
       "Motorcycle       17.321996       12.3168  18.654626      0.014790   \n",
       "Medium Vehicle    7.044667        0.0000  12.058894      0.024608   \n",
       "Heavy Vehicle     2.976959        0.0000   6.282516      0.018361   \n",
       "\n",
       "                std_lon_acc  mean_lat_acc  std_lat_acc    max_lat    min_lat  \\\n",
       "Vehicles                                                                       \n",
       "Taxi               0.669431      0.008622     0.323818  37.979888  37.975622   \n",
       "Bus                0.451649      0.013791     0.198336  37.979906  37.975610   \n",
       "Car                0.728065      0.009198     0.346535  37.979885  37.975578   \n",
       "Motorcycle         1.025069      0.002600     0.431949  37.979893  37.975577   \n",
       "Medium Vehicle     0.510723      0.012723     0.264508  37.979836  37.975670   \n",
       "Heavy Vehicle      0.333200     -0.005499     0.115560  37.978601  37.977502   \n",
       "\n",
       "                  max_lon    min_lon  \n",
       "Vehicles                              \n",
       "Taxi            23.736682  23.732177  \n",
       "Bus             23.736629  23.733366  \n",
       "Car             23.736671  23.732186  \n",
       "Motorcycle      23.736684  23.732163  \n",
       "Medium Vehicle  23.736673  23.732213  \n",
       "Heavy Vehicle   23.735845  23.733274  "
      ],
      "text/html": "<div>\n<style scoped>\n    .dataframe tbody tr th:only-of-type {\n        vertical-align: middle;\n    }\n\n    .dataframe tbody tr th {\n        vertical-align: top;\n    }\n\n    .dataframe thead th {\n        text-align: right;\n    }\n</style>\n<table border=\"1\" class=\"dataframe\">\n  <thead>\n    <tr style=\"text-align: right;\">\n      <th></th>\n      <th>mean_speed</th>\n      <th>median_speed</th>\n      <th>std_speed</th>\n      <th>mean_lon_acc</th>\n      <th>std_lon_acc</th>\n      <th>mean_lat_acc</th>\n      <th>std_lat_acc</th>\n      <th>max_lat</th>\n      <th>min_lat</th>\n      <th>max_lon</th>\n      <th>min_lon</th>\n    </tr>\n    <tr>\n      <th>Vehicles</th>\n      <th></th>\n      <th></th>\n      <th></th>\n      <th></th>\n      <th></th>\n      <th></th>\n      <th></th>\n      <th></th>\n      <th></th>\n      <th></th>\n      <th></th>\n    </tr>\n  </thead>\n  <tbody>\n    <tr>\n      <th>Taxi</th>\n      <td>13.176267</td>\n      <td>9.0337</td>\n      <td>14.339034</td>\n      <td>0.027487</td>\n      <td>0.669431</td>\n      <td>0.008622</td>\n      <td>0.323818</td>\n      <td>37.979888</td>\n      <td>37.975622</td>\n      <td>23.736682</td>\n      <td>23.732177</td>\n    </tr>\n    <tr>\n      <th>Bus</th>\n      <td>6.177127</td>\n      <td>0.0000</td>\n      <td>10.689885</td>\n      <td>0.004286</td>\n      <td>0.451649</td>\n      <td>0.013791</td>\n      <td>0.198336</td>\n      <td>37.979906</td>\n      <td>37.975610</td>\n      <td>23.736629</td>\n      <td>23.733366</td>\n    </tr>\n    <tr>\n      <th>Car</th>\n      <td>14.376883</td>\n      <td>10.9826</td>\n      <td>15.020300</td>\n      <td>0.034161</td>\n      <td>0.728065</td>\n      <td>0.009198</td>\n      <td>0.346535</td>\n      <td>37.979885</td>\n      <td>37.975578</td>\n      <td>23.736671</td>\n      <td>23.732186</td>\n    </tr>\n    <tr>\n      <th>Motorcycle</th>\n      <td>17.321996</td>\n      <td>12.3168</td>\n      <td>18.654626</td>\n      <td>0.014790</td>\n      <td>1.025069</td>\n      <td>0.002600</td>\n      <td>0.431949</td>\n      <td>37.979893</td>\n      <td>37.975577</td>\n      <td>23.736684</td>\n      <td>23.732163</td>\n    </tr>\n    <tr>\n      <th>Medium Vehicle</th>\n      <td>7.044667</td>\n      <td>0.0000</td>\n      <td>12.058894</td>\n      <td>0.024608</td>\n      <td>0.510723</td>\n      <td>0.012723</td>\n      <td>0.264508</td>\n      <td>37.979836</td>\n      <td>37.975670</td>\n      <td>23.736673</td>\n      <td>23.732213</td>\n    </tr>\n    <tr>\n      <th>Heavy Vehicle</th>\n      <td>2.976959</td>\n      <td>0.0000</td>\n      <td>6.282516</td>\n      <td>0.018361</td>\n      <td>0.333200</td>\n      <td>-0.005499</td>\n      <td>0.115560</td>\n      <td>37.978601</td>\n      <td>37.977502</td>\n      <td>23.735845</td>\n      <td>23.733274</td>\n    </tr>\n  </tbody>\n</table>\n</div>"
     },
     "metadata": {},
     "execution_count": 53
    }
   ],
   "source": [
    "#add standard deviations \n",
    "#add max longitude, max lat, min lat, min lon\n",
    "Stats"
   ]
  }
 ]
}