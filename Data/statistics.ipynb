{
 "metadata": {
  "language_info": {
   "codemirror_mode": {
    "name": "ipython",
    "version": 3
   },
   "file_extension": ".py",
   "mimetype": "text/x-python",
   "name": "python",
   "nbconvert_exporter": "python",
   "pygments_lexer": "ipython3",
   "version": "3.9.1-final"
  },
  "orig_nbformat": 2,
  "kernelspec": {
   "name": "python39164bitoxconda0c6210e306f6442b93d0bd319e5a95d4",
   "display_name": "Python 3.9.1 64-bit ('ox': conda)",
   "language": "python"
  }
 },
 "nbformat": 4,
 "nbformat_minor": 2,
 "cells": [
  {
   "cell_type": "code",
   "execution_count": 1,
   "metadata": {},
   "outputs": [],
   "source": [
    "import numpy as np \n",
    "import pandas as pd\n",
    "from Data import Data \n",
    "import matplotlib.pyplot as plt"
   ]
  },
  {
   "cell_type": "code",
   "execution_count": 8,
   "metadata": {},
   "outputs": [],
   "source": [
    "Dataframe = Data(\"sample_larger.csv\")"
   ]
  },
  {
   "cell_type": "code",
   "execution_count": 47,
   "metadata": {},
   "outputs": [
    {
     "output_type": "execute_result",
     "data": {
      "text/plain": [
       "                  lat        lon    speed  lon_acc  lat_acc  type  traveled_d  \\\n",
       "id  time                                                                        \n",
       "1   0.00    37.977482  23.735405  34.0206  -0.0167   0.0074  Taxi      320.26   \n",
       "    0.04    37.977485  23.735402  34.0197   0.0040   0.0086  Taxi      320.26   \n",
       "    0.08    37.977488  23.735400  34.0211   0.0167   0.0097  Taxi      320.26   \n",
       "    0.12    37.977491  23.735398  34.0245   0.0294   0.0108  Taxi      320.26   \n",
       "    0.16    37.977494  23.735395  34.0305   0.0540   0.0120  Taxi      320.26   \n",
       "...               ...        ...      ...      ...      ...   ...         ...   \n",
       "498 117.24  37.976108  23.734443  15.3720  -1.6492  -0.9860   Car      141.47   \n",
       "    117.28  37.976107  23.734441  15.1933  -1.5682  -0.9499   Car      141.47   \n",
       "    117.32  37.976107  23.734440  15.0228  -1.4310  -0.9036   Car      141.47   \n",
       "    117.36  37.976107  23.734438  14.8672  -1.2553  -0.8471   Car      141.47   \n",
       "    117.40  37.976106  23.734436  14.7286  -1.0897  -0.7889   Car      141.47   \n",
       "\n",
       "            avg_speed  \n",
       "id  time               \n",
       "1   0.00    35.366264  \n",
       "    0.04    35.366264  \n",
       "    0.08    35.366264  \n",
       "    0.12    35.366264  \n",
       "    0.16    35.366264  \n",
       "...               ...  \n",
       "498 117.24   8.872855  \n",
       "    117.28   8.872855  \n",
       "    117.32   8.872855  \n",
       "    117.36   8.872855  \n",
       "    117.40   8.872855  \n",
       "\n",
       "[845628 rows x 8 columns]"
      ],
      "text/html": "<div>\n<style scoped>\n    .dataframe tbody tr th:only-of-type {\n        vertical-align: middle;\n    }\n\n    .dataframe tbody tr th {\n        vertical-align: top;\n    }\n\n    .dataframe thead th {\n        text-align: right;\n    }\n</style>\n<table border=\"1\" class=\"dataframe\">\n  <thead>\n    <tr style=\"text-align: right;\">\n      <th></th>\n      <th></th>\n      <th>lat</th>\n      <th>lon</th>\n      <th>speed</th>\n      <th>lon_acc</th>\n      <th>lat_acc</th>\n      <th>type</th>\n      <th>traveled_d</th>\n      <th>avg_speed</th>\n    </tr>\n    <tr>\n      <th>id</th>\n      <th>time</th>\n      <th></th>\n      <th></th>\n      <th></th>\n      <th></th>\n      <th></th>\n      <th></th>\n      <th></th>\n      <th></th>\n    </tr>\n  </thead>\n  <tbody>\n    <tr>\n      <th rowspan=\"5\" valign=\"top\">1</th>\n      <th>0.00</th>\n      <td>37.977482</td>\n      <td>23.735405</td>\n      <td>34.0206</td>\n      <td>-0.0167</td>\n      <td>0.0074</td>\n      <td>Taxi</td>\n      <td>320.26</td>\n      <td>35.366264</td>\n    </tr>\n    <tr>\n      <th>0.04</th>\n      <td>37.977485</td>\n      <td>23.735402</td>\n      <td>34.0197</td>\n      <td>0.0040</td>\n      <td>0.0086</td>\n      <td>Taxi</td>\n      <td>320.26</td>\n      <td>35.366264</td>\n    </tr>\n    <tr>\n      <th>0.08</th>\n      <td>37.977488</td>\n      <td>23.735400</td>\n      <td>34.0211</td>\n      <td>0.0167</td>\n      <td>0.0097</td>\n      <td>Taxi</td>\n      <td>320.26</td>\n      <td>35.366264</td>\n    </tr>\n    <tr>\n      <th>0.12</th>\n      <td>37.977491</td>\n      <td>23.735398</td>\n      <td>34.0245</td>\n      <td>0.0294</td>\n      <td>0.0108</td>\n      <td>Taxi</td>\n      <td>320.26</td>\n      <td>35.366264</td>\n    </tr>\n    <tr>\n      <th>0.16</th>\n      <td>37.977494</td>\n      <td>23.735395</td>\n      <td>34.0305</td>\n      <td>0.0540</td>\n      <td>0.0120</td>\n      <td>Taxi</td>\n      <td>320.26</td>\n      <td>35.366264</td>\n    </tr>\n    <tr>\n      <th>...</th>\n      <th>...</th>\n      <td>...</td>\n      <td>...</td>\n      <td>...</td>\n      <td>...</td>\n      <td>...</td>\n      <td>...</td>\n      <td>...</td>\n      <td>...</td>\n    </tr>\n    <tr>\n      <th rowspan=\"5\" valign=\"top\">498</th>\n      <th>117.24</th>\n      <td>37.976108</td>\n      <td>23.734443</td>\n      <td>15.3720</td>\n      <td>-1.6492</td>\n      <td>-0.9860</td>\n      <td>Car</td>\n      <td>141.47</td>\n      <td>8.872855</td>\n    </tr>\n    <tr>\n      <th>117.28</th>\n      <td>37.976107</td>\n      <td>23.734441</td>\n      <td>15.1933</td>\n      <td>-1.5682</td>\n      <td>-0.9499</td>\n      <td>Car</td>\n      <td>141.47</td>\n      <td>8.872855</td>\n    </tr>\n    <tr>\n      <th>117.32</th>\n      <td>37.976107</td>\n      <td>23.734440</td>\n      <td>15.0228</td>\n      <td>-1.4310</td>\n      <td>-0.9036</td>\n      <td>Car</td>\n      <td>141.47</td>\n      <td>8.872855</td>\n    </tr>\n    <tr>\n      <th>117.36</th>\n      <td>37.976107</td>\n      <td>23.734438</td>\n      <td>14.8672</td>\n      <td>-1.2553</td>\n      <td>-0.8471</td>\n      <td>Car</td>\n      <td>141.47</td>\n      <td>8.872855</td>\n    </tr>\n    <tr>\n      <th>117.40</th>\n      <td>37.976106</td>\n      <td>23.734436</td>\n      <td>14.7286</td>\n      <td>-1.0897</td>\n      <td>-0.7889</td>\n      <td>Car</td>\n      <td>141.47</td>\n      <td>8.872855</td>\n    </tr>\n  </tbody>\n</table>\n<p>845628 rows × 8 columns</p>\n</div>"
     },
     "metadata": {},
     "execution_count": 47
    }
   ],
   "source": [
    "Dataframe.df"
   ]
  },
  {
   "cell_type": "code",
   "execution_count": 93,
   "metadata": {},
   "outputs": [],
   "source": [
    "Vehicle = pd.Series(Dataframe.df[\"type\"].unique())"
   ]
  },
  {
   "cell_type": "code",
   "execution_count": 112,
   "metadata": {},
   "outputs": [],
   "source": [
    "mean_speed = {}\n",
    "median_speed = {}\n",
    "mean_lon_acc = {}\n",
    "mean_lat_acc = {}\n",
    "for i in Dataframe.df[\"type\"].unique():\n",
    "    mean_speed[i] = np.mean(Dataframe.df[Dataframe.df[\"type\"]==i][\"speed\"])\n",
    "    median_speed[i] = np.median(Dataframe.df[Dataframe.df[\"type\"]==i][\"speed\"])\n",
    "    mean_lon_acc[i] = np.mean(Dataframe.df[Dataframe.df[\"type\"]==i][\"lon_acc\"])\n",
    "    mean_lat_acc[i] = np.mean(Dataframe.df[Dataframe.df[\"type\"]==i][\"lat_acc\"])"
   ]
  },
  {
   "cell_type": "code",
   "execution_count": 102,
   "metadata": {},
   "outputs": [],
   "source": [
    "Stats = pd.DataFrame(index=Vehicle)\n",
    "Stats.index.name = \"Vehicles\""
   ]
  },
  {
   "cell_type": "code",
   "execution_count": 115,
   "metadata": {},
   "outputs": [],
   "source": [
    "Stats['mean_speed'] = Stats.index.to_series().map(mean_speed)\n",
    "Stats['median_speed'] = Stats.index.to_series().map(median_speed)\n",
    "Stats['mean_lon_acc'] = Stats.index.to_series().map(mean_lon_acc)\n",
    "Stats['mean_lat_acc'] = Stats.index.to_series().map(mean_lat_acc)"
   ]
  },
  {
   "cell_type": "code",
   "execution_count": 116,
   "metadata": {},
   "outputs": [
    {
     "output_type": "execute_result",
     "data": {
      "text/plain": [
       "                mean_speed  median_speed  mean_lon_acc  mean_lat_acc\n",
       "Vehicles                                                            \n",
       "Taxi             13.176267        9.0337      0.027487      0.008622\n",
       "Bus               6.177127        0.0000      0.004286      0.013791\n",
       "Car              14.376883       10.9826      0.034161      0.009198\n",
       "Motorcycle       17.321996       12.3168      0.014790      0.002600\n",
       "Medium Vehicle    7.044667        0.0000      0.024608      0.012723\n",
       "Heavy Vehicle     2.976959        0.0000      0.018361     -0.005499"
      ],
      "text/html": "<div>\n<style scoped>\n    .dataframe tbody tr th:only-of-type {\n        vertical-align: middle;\n    }\n\n    .dataframe tbody tr th {\n        vertical-align: top;\n    }\n\n    .dataframe thead th {\n        text-align: right;\n    }\n</style>\n<table border=\"1\" class=\"dataframe\">\n  <thead>\n    <tr style=\"text-align: right;\">\n      <th></th>\n      <th>mean_speed</th>\n      <th>median_speed</th>\n      <th>mean_lon_acc</th>\n      <th>mean_lat_acc</th>\n    </tr>\n    <tr>\n      <th>Vehicles</th>\n      <th></th>\n      <th></th>\n      <th></th>\n      <th></th>\n    </tr>\n  </thead>\n  <tbody>\n    <tr>\n      <th>Taxi</th>\n      <td>13.176267</td>\n      <td>9.0337</td>\n      <td>0.027487</td>\n      <td>0.008622</td>\n    </tr>\n    <tr>\n      <th>Bus</th>\n      <td>6.177127</td>\n      <td>0.0000</td>\n      <td>0.004286</td>\n      <td>0.013791</td>\n    </tr>\n    <tr>\n      <th>Car</th>\n      <td>14.376883</td>\n      <td>10.9826</td>\n      <td>0.034161</td>\n      <td>0.009198</td>\n    </tr>\n    <tr>\n      <th>Motorcycle</th>\n      <td>17.321996</td>\n      <td>12.3168</td>\n      <td>0.014790</td>\n      <td>0.002600</td>\n    </tr>\n    <tr>\n      <th>Medium Vehicle</th>\n      <td>7.044667</td>\n      <td>0.0000</td>\n      <td>0.024608</td>\n      <td>0.012723</td>\n    </tr>\n    <tr>\n      <th>Heavy Vehicle</th>\n      <td>2.976959</td>\n      <td>0.0000</td>\n      <td>0.018361</td>\n      <td>-0.005499</td>\n    </tr>\n  </tbody>\n</table>\n</div>"
     },
     "metadata": {},
     "execution_count": 116
    }
   ],
   "source": [
    "Stats"
   ]
  }
 ]
}