{
 "cells": [
  {
   "cell_type": "code",
   "execution_count": 14,
   "metadata": {},
   "outputs": [],
   "source": [
    "import osmnx as ox\n",
    "import pandas as pd\n",
    "import numpy as np\n",
    "from Data import * \n",
    "import matplotlib.pyplot as plt\n",
    "import nvector as nv\n",
    "import osmapi as osm\n",
    "import networkx as nx\n",
    "from numpy import arctan2, sin, cos, sqrt, radians"
   ]
  },
  {
   "cell_type": "code",
   "execution_count": 16,
   "metadata": {},
   "outputs": [],
   "source": [
    "def cross_track_dist(latA1,lonA1,latA2,lonA2,latB,lonB):\n",
    "    frame = nv.FrameE(a=6371e3, f=0)\n",
    "    \n",
    "    pointA1 = frame.GeoPoint(latA1, lonA1, degrees=True)\n",
    "    pointA2 = frame.GeoPoint(latA2, lonA2, degrees=True)\n",
    "    pointB = frame.GeoPoint(latB, lonB, degrees=True)\n",
    "    pathA = nv.GeoPath(pointA1, pointA2)\n",
    "\n",
    "    s_xt = pathA.cross_track_distance(pointB, method='greatcircle')\n",
    "    d_xt = pathA.cross_track_distance(pointB, method='euclidean')\n",
    "    \n",
    "    if(s_xt<0):\n",
    "        s_xt=-1*s_xt\n",
    "    \n",
    "    val_txt = '{:4.2f}'.format(s_xt/1000)\n",
    "    return val_txt"
   ]
  },
  {
   "cell_type": "code",
   "execution_count": 17,
   "metadata": {},
   "outputs": [],
   "source": [
    "def func(graph, start_node, end_node, lat, lon):\n",
    "     return cross_track_dist(graph.nodes[start_node]['y'],graph.nodes[start_node]['x'],\n",
    "                                        graph.nodes[end_node]['y'],graph.nodes[end_node]['x'],lat,lon)"
   ]
  },
  {
   "cell_type": "code",
   "execution_count": 18,
   "metadata": {
    "scrolled": true
   },
   "outputs": [],
   "source": [
    "def cross_track(df,graph):\n",
    "    df['Cross Track'] = df.apply(lambda x: func(graph,x['nearest_edge_start_node'],x['nearest_edge_end_node'],x['lat'],x['lon']),axis=1)\n",
    "    return df"
   ]
  }
 ],
 "metadata": {
  "kernelspec": {
   "display_name": "Python 3",
   "language": "python",
   "name": "python3"
  },
  "language_info": {
   "codemirror_mode": {
    "name": "ipython",
    "version": 3
   },
   "file_extension": ".py",
   "mimetype": "text/x-python",
   "name": "python",
   "nbconvert_exporter": "python",
   "pygments_lexer": "ipython3",
   "version": "3.8.3"
  }
 },
 "nbformat": 4,
 "nbformat_minor": 4
}
