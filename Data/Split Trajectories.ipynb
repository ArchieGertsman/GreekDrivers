{
 "cells": [
  {
   "cell_type": "code",
   "execution_count": 1,
   "metadata": {},
   "outputs": [],
   "source": [
    "import numpy as np\n",
    "import pandas as pd\n",
    "from numpy import arctan2, sin, cos, sqrt, radians\n",
    "import osmnx as ox\n",
    "from joblib import Parallel, delayed\n",
    "from Data import Data "
   ]
  },
  {
   "cell_type": "code",
   "execution_count": 62,
   "metadata": {
    "scrolled": false
   },
   "outputs": [],
   "source": [
    "def split_time_series(df,size):\n",
    "    d = []\n",
    "    i=0\n",
    "    while (i < len(df)-size+1):\n",
    "        if (df.index[i][0] != df.index[i+size-1][0]):\n",
    "            i = i+1\n",
    "            continue\n",
    "        x = df.iloc[i:i+size]\n",
    "        d.append(x)\n",
    "        i = i + size\n",
    "    \n",
    "    f = pd.concat(d, axis=0)\n",
    "    a_list = list(range(int(len(f)/size)))\n",
    "    a_list = [x+1 for x in a_list]\n",
    "    [a_list] * size\n",
    "    vehicle_id = np.repeat(a_list, size)\n",
    "\n",
    "    f.set_index([vehicle_id, f.index.get_level_values(1)])\n",
    "    return f"
   ]
  }
 ],
 "metadata": {
  "kernelspec": {
   "display_name": "Python 3",
   "language": "python",
   "name": "python3"
  },
  "language_info": {
   "codemirror_mode": {
    "name": "ipython",
    "version": 3
   },
   "file_extension": ".py",
   "mimetype": "text/x-python",
   "name": "python",
   "nbconvert_exporter": "python",
   "pygments_lexer": "ipython3",
   "version": "3.8.3"
  }
 },
 "nbformat": 4,
 "nbformat_minor": 4
}
