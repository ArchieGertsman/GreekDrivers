{
 "cells": [
  {
   "cell_type": "markdown",
   "metadata": {},
   "source": [
    "\"\"\"classical_models.ipynb\n",
    "by: Archie Gertsman (arkadiy2@illinois.edu)\n",
    "Project director: Richard Sowers\n",
    "r-sowers@illinois.eduhttps://publish.illinois.edu/r-sowers/\n",
    "Copyright 2019 University of Illinois Board of Trustees. All Rights Reserved. Licensed under the MIT license\n",
    "\"\"\""
   ]
  },
  {
   "cell_type": "code",
   "execution_count": 1,
   "metadata": {
    "tags": []
   },
   "outputs": [],
   "source": [
    "import sys\n",
    "sys.path.append('../src/')\n",
    "sys.path.append('../data/')\n",
    "import pandas as pd\n",
    "import numpy as np\n",
    "from sklearn.ensemble import GradientBoostingClassifier\n",
    "from sklearn.pipeline import Pipeline\n",
    "from sklearn.preprocessing import StandardScaler\n",
    "from sklearn.model_selection import StratifiedKFold\n",
    "from sklearn.metrics import f1_score\n",
    "from modeling_helpers import *"
   ]
  },
  {
   "cell_type": "code",
   "execution_count": 5,
   "metadata": {},
   "outputs": [
    {
     "data": {
      "text/html": [
       "<div>\n",
       "<style scoped>\n",
       "    .dataframe tbody tr th:only-of-type {\n",
       "        vertical-align: middle;\n",
       "    }\n",
       "\n",
       "    .dataframe tbody tr th {\n",
       "        vertical-align: top;\n",
       "    }\n",
       "\n",
       "    .dataframe thead th {\n",
       "        text-align: right;\n",
       "    }\n",
       "</style>\n",
       "<table border=\"1\" class=\"dataframe\">\n",
       "  <thead>\n",
       "    <tr style=\"text-align: right;\">\n",
       "      <th></th>\n",
       "      <th></th>\n",
       "      <th>xtrack_dist</th>\n",
       "      <th>avg_surr_speed</th>\n",
       "      <th>speed</th>\n",
       "      <th>lon_acc</th>\n",
       "      <th>lat_acc</th>\n",
       "      <th>type</th>\n",
       "    </tr>\n",
       "    <tr>\n",
       "      <th>id</th>\n",
       "      <th>road</th>\n",
       "      <th></th>\n",
       "      <th></th>\n",
       "      <th></th>\n",
       "      <th></th>\n",
       "      <th></th>\n",
       "      <th></th>\n",
       "    </tr>\n",
       "  </thead>\n",
       "  <tbody>\n",
       "    <tr>\n",
       "      <th rowspan=\"5\" valign=\"top\">4_1_1</th>\n",
       "      <th>250699362_250699984</th>\n",
       "      <td>-1.883401</td>\n",
       "      <td>10.464171</td>\n",
       "      <td>11.9046</td>\n",
       "      <td>-0.1145</td>\n",
       "      <td>0.0138</td>\n",
       "      <td>Taxi</td>\n",
       "    </tr>\n",
       "    <tr>\n",
       "      <th>250699362_250699984</th>\n",
       "      <td>-1.980795</td>\n",
       "      <td>10.457843</td>\n",
       "      <td>11.8975</td>\n",
       "      <td>-0.1007</td>\n",
       "      <td>0.0147</td>\n",
       "      <td>Taxi</td>\n",
       "    </tr>\n",
       "    <tr>\n",
       "      <th>250699362_250699984</th>\n",
       "      <td>-1.937041</td>\n",
       "      <td>10.452857</td>\n",
       "      <td>11.8919</td>\n",
       "      <td>-0.0918</td>\n",
       "      <td>0.0157</td>\n",
       "      <td>Taxi</td>\n",
       "    </tr>\n",
       "    <tr>\n",
       "      <th>250699362_250699984</th>\n",
       "      <td>-1.893287</td>\n",
       "      <td>10.448586</td>\n",
       "      <td>11.8871</td>\n",
       "      <td>-0.0869</td>\n",
       "      <td>0.0167</td>\n",
       "      <td>Taxi</td>\n",
       "    </tr>\n",
       "    <tr>\n",
       "      <th>250699362_250699984</th>\n",
       "      <td>-1.941984</td>\n",
       "      <td>10.444986</td>\n",
       "      <td>11.8831</td>\n",
       "      <td>-0.0784</td>\n",
       "      <td>0.0176</td>\n",
       "      <td>Taxi</td>\n",
       "    </tr>\n",
       "    <tr>\n",
       "      <th>...</th>\n",
       "      <th>...</th>\n",
       "      <td>...</td>\n",
       "      <td>...</td>\n",
       "      <td>...</td>\n",
       "      <td>...</td>\n",
       "      <td>...</td>\n",
       "      <td>...</td>\n",
       "    </tr>\n",
       "    <tr>\n",
       "      <th rowspan=\"5\" valign=\"top\">1_3_2116</th>\n",
       "      <th>300400248_8446047162</th>\n",
       "      <td>0.658316</td>\n",
       "      <td>26.005850</td>\n",
       "      <td>25.3482</td>\n",
       "      <td>-0.3011</td>\n",
       "      <td>0.3234</td>\n",
       "      <td>Car</td>\n",
       "    </tr>\n",
       "    <tr>\n",
       "      <th>300400248_8446047162</th>\n",
       "      <td>0.764478</td>\n",
       "      <td>26.008150</td>\n",
       "      <td>25.3217</td>\n",
       "      <td>-0.3032</td>\n",
       "      <td>0.3216</td>\n",
       "      <td>Car</td>\n",
       "    </tr>\n",
       "    <tr>\n",
       "      <th>300400248_8446047162</th>\n",
       "      <td>0.736857</td>\n",
       "      <td>26.010500</td>\n",
       "      <td>25.2946</td>\n",
       "      <td>-0.3012</td>\n",
       "      <td>0.3180</td>\n",
       "      <td>Car</td>\n",
       "    </tr>\n",
       "    <tr>\n",
       "      <th>300400248_8446047162</th>\n",
       "      <td>0.783032</td>\n",
       "      <td>26.012950</td>\n",
       "      <td>25.2667</td>\n",
       "      <td>-0.3054</td>\n",
       "      <td>0.3124</td>\n",
       "      <td>Car</td>\n",
       "    </tr>\n",
       "    <tr>\n",
       "      <th>300400248_8446047162</th>\n",
       "      <td>0.755411</td>\n",
       "      <td>26.015600</td>\n",
       "      <td>25.2370</td>\n",
       "      <td>-0.3135</td>\n",
       "      <td>0.3045</td>\n",
       "      <td>Car</td>\n",
       "    </tr>\n",
       "  </tbody>\n",
       "</table>\n",
       "<p>2992893 rows × 6 columns</p>\n",
       "</div>"
      ],
      "text/plain": [
       "                               xtrack_dist  avg_surr_speed    speed  lon_acc  \\\n",
       "id       road                                                                  \n",
       "4_1_1    250699362_250699984     -1.883401       10.464171  11.9046  -0.1145   \n",
       "         250699362_250699984     -1.980795       10.457843  11.8975  -0.1007   \n",
       "         250699362_250699984     -1.937041       10.452857  11.8919  -0.0918   \n",
       "         250699362_250699984     -1.893287       10.448586  11.8871  -0.0869   \n",
       "         250699362_250699984     -1.941984       10.444986  11.8831  -0.0784   \n",
       "...                                    ...             ...      ...      ...   \n",
       "1_3_2116 300400248_8446047162     0.658316       26.005850  25.3482  -0.3011   \n",
       "         300400248_8446047162     0.764478       26.008150  25.3217  -0.3032   \n",
       "         300400248_8446047162     0.736857       26.010500  25.2946  -0.3012   \n",
       "         300400248_8446047162     0.783032       26.012950  25.2667  -0.3054   \n",
       "         300400248_8446047162     0.755411       26.015600  25.2370  -0.3135   \n",
       "\n",
       "                               lat_acc  type  \n",
       "id       road                                 \n",
       "4_1_1    250699362_250699984    0.0138  Taxi  \n",
       "         250699362_250699984    0.0147  Taxi  \n",
       "         250699362_250699984    0.0157  Taxi  \n",
       "         250699362_250699984    0.0167  Taxi  \n",
       "         250699362_250699984    0.0176  Taxi  \n",
       "...                                ...   ...  \n",
       "1_3_2116 300400248_8446047162   0.3234   Car  \n",
       "         300400248_8446047162   0.3216   Car  \n",
       "         300400248_8446047162   0.3180   Car  \n",
       "         300400248_8446047162   0.3124   Car  \n",
       "         300400248_8446047162   0.3045   Car  \n",
       "\n",
       "[2992893 rows x 6 columns]"
      ]
     },
     "execution_count": 5,
     "metadata": {},
     "output_type": "execute_result"
    }
   ],
   "source": [
    "df = pd.read_pickle('../data/block4_updated.pkl')\n",
    "\n",
    "agg_dict={\n",
    "    'xtrack_dist': ['mean','std'],\n",
    "    'avg_surr_speed': ['mean','std'],\n",
    "    #'lanes':['mean'],\n",
    "    # 'len':['mean'],\n",
    "    'speed':['mean','std'],\n",
    "    'lon_acc': ['mean','std'],\n",
    "    'lat_acc': ['mean','std']\n",
    "}\n",
    "\n",
    "df = df[list(agg_dict.keys()) + ['type']]\n",
    "df.index = [df.index.map(lambda idx: f'{idx[0]}_{idx[1]}'),  \n",
    "            df.index.get_level_values(2)]\n",
    "df.index.names = ['id','road']\n",
    "\n",
    "df = df.groupby(['id','road']).filter(lambda grp: len(grp) >= 50)\n",
    "df"
   ]
  },
  {
   "cell_type": "code",
   "execution_count": 6,
   "metadata": {},
   "outputs": [],
   "source": [
    "df_agg = downsample(df, window=50, overlap=0.3, min_speed_ratio=0.75, agg_dict=agg_dict)"
   ]
  },
  {
   "cell_type": "code",
   "execution_count": 8,
   "metadata": {},
   "outputs": [
    {
     "name": "stdout",
     "output_type": "stream",
     "text": [
      "car vs. taxi:\n",
      "0.6753670473083196\n",
      "0.6677685950413225\n",
      "0.6265938069216758\n",
      "0.7027027027027027\n",
      "0.6262295081967213\n"
     ]
    },
    {
     "data": {
      "text/plain": [
       "(0.6597323320341484, 0.029584048580035445)"
      ]
     },
     "execution_count": 8,
     "metadata": {},
     "output_type": "execute_result"
    }
   ],
   "source": [
    "print('car vs. taxi:')\n",
    "workflow(\n",
    "    df_agg        = df_agg, \n",
    "    model         = Pipeline([('scaler', StandardScaler()), ('gbm', GradientBoostingClassifier())]), \n",
    "    splitter_obj  = StratifiedKFold(), \n",
    "    metric        = f1_score, \n",
    "    metric_kwargs = {'pos_label':'Car'}, \n",
    "    balance_test  = False)"
   ]
  },
  {
   "cell_type": "code",
   "execution_count": 7,
   "metadata": {},
   "outputs": [
    {
     "name": "stdout",
     "output_type": "stream",
     "text": [
      "car vs. taxi (unbalanced roads):\n",
      "0.8253588516746413\n",
      "0.8243727598566308\n",
      "0.8229665071770336\n",
      "0.827503015681544\n",
      "0.8289156626506025\n"
     ]
    },
    {
     "data": {
      "text/plain": [
       "(0.8258233594080904, 0.0021384665395477163)"
      ]
     },
     "execution_count": 7,
     "metadata": {},
     "output_type": "execute_result"
    }
   ],
   "source": [
    "print('car vs. taxi (unbalanced roads):')\n",
    "workflow(\n",
    "    df_agg        = df_agg, \n",
    "    model         = Pipeline([('scaler', StandardScaler()), ('gbm', GradientBoostingClassifier())]), \n",
    "    splitter_obj  = StratifiedKFold(), \n",
    "    metric        = f1_score, \n",
    "    metric_kwargs = {'pos_label':'Car'}, \n",
    "    balance_test  = False,\n",
    "    balance_train = False)"
   ]
  },
  {
   "cell_type": "code",
   "execution_count": 11,
   "metadata": {},
   "outputs": [
    {
     "name": "stdout",
     "output_type": "stream",
     "text": [
      "car vs. car:\n",
      "0.5403899721448469\n",
      "0.5581395348837208\n",
      "0.5990566037735849\n",
      "0.6004842615012106\n",
      "0.6153846153846154\n"
     ]
    },
    {
     "data": {
      "text/plain": [
       "(0.5826909975375958, 0.02844453207771184)"
      ]
     },
     "execution_count": 11,
     "metadata": {},
     "output_type": "execute_result"
    }
   ],
   "source": [
    "df_car = df_agg[df_agg.type == 'Car'].copy()\n",
    "samp = df_car.reset_index()['id'].drop_duplicates().sample(frac = 0.5)\n",
    "df_car.loc[df_car.reset_index('road', drop=True).index.isin(samp),'type']='Taxi'\n",
    "\n",
    "print('car vs. car:')\n",
    "workflow(\n",
    "    df_agg        = df_car, \n",
    "    model         = Pipeline([('scaler', StandardScaler()), ('gbm', GradientBoostingClassifier())]), \n",
    "    splitter_obj  = StratifiedKFold(), \n",
    "    metric        = f1_score, \n",
    "    metric_kwargs = {'pos_label':'Car'}, \n",
    "    balance_test  = False)"
   ]
  },
  {
   "cell_type": "code",
   "execution_count": null,
   "metadata": {},
   "outputs": [],
   "source": []
  }
 ],
 "metadata": {
  "interpreter": {
   "hash": "72326583629048dad8c9a913f12cb6cad5a38ceace067d86c7872c2b0df37259"
  },
  "kernelspec": {
   "display_name": "Python 3 (ipykernel)",
   "language": "python",
   "name": "python3"
  },
  "language_info": {
   "codemirror_mode": {
    "name": "ipython",
    "version": 3
   },
   "file_extension": ".py",
   "mimetype": "text/x-python",
   "name": "python",
   "nbconvert_exporter": "python",
   "pygments_lexer": "ipython3",
   "version": "3.9.1"
  }
 },
 "nbformat": 4,
 "nbformat_minor": 4
}
