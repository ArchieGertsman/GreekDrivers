{
 "cells": [
  {
   "cell_type": "code",
   "execution_count": 1,
   "metadata": {},
   "outputs": [],
   "source": [
    "import osmnx as ox\n",
    "#add nearest nodes and edges\n",
    "lat = 37.980924\n",
    "lon = 23.734769\n",
    "graph = ox.graph_from_point((lat,lon), network_type='drive', dist=700)"
   ]
  },
  {
   "cell_type": "code",
   "execution_count": 2,
   "metadata": {},
   "outputs": [
    {
     "data": {
      "text/plain": [
       "AdjacencyView({8446047162: {0: {'osmid': 32015255, 'oneway': True, 'lanes': '2', 'name': 'Ασκληπιού', 'highway': 'tertiary', 'length': 111.67500000000001, 'geometry': <shapely.geometry.linestring.LineString object at 0x00000173FB539BE0>}}, 250691795: {0: {'osmid': [751068056, 167907737, 316770031], 'oneway': True, 'lanes': '4', 'name': 'Ακαδημίας', 'highway': 'secondary', 'length': 171.188, 'geometry': <shapely.geometry.linestring.LineString object at 0x00000173FB539C10>}}})"
      ]
     },
     "execution_count": 2,
     "metadata": {},
     "output_type": "execute_result"
    }
   ],
   "source": [
    "graph[250699359]"
   ]
  },
  {
   "cell_type": "code",
   "execution_count": 3,
   "metadata": {},
   "outputs": [
    {
     "data": {
      "text/plain": [
       "AtlasView({0: {'osmid': [751068056, 167907737, 316770031], 'oneway': True, 'lanes': '4', 'name': 'Ακαδημίας', 'highway': 'secondary', 'length': 171.188, 'geometry': <shapely.geometry.linestring.LineString object at 0x00000173FB539C10>}})"
      ]
     },
     "execution_count": 3,
     "metadata": {},
     "output_type": "execute_result"
    }
   ],
   "source": [
    "graph[250699359][250691795]"
   ]
  },
  {
   "cell_type": "code",
   "execution_count": 4,
   "metadata": {},
   "outputs": [
    {
     "data": {
      "text/plain": [
       "{'y': 37.9802494,\n",
       " 'x': 23.735395,\n",
       " 'highway': 'traffic_signals',\n",
       " 'street_count': 4}"
      ]
     },
     "execution_count": 4,
     "metadata": {},
     "output_type": "execute_result"
    }
   ],
   "source": [
    "graph.nodes[250691795]"
   ]
  },
  {
   "cell_type": "code",
   "execution_count": null,
   "metadata": {},
   "outputs": [],
   "source": []
  }
 ],
 "metadata": {
  "kernelspec": {
   "display_name": "Python 3",
   "language": "python",
   "name": "python3"
  },
  "language_info": {
   "codemirror_mode": {
    "name": "ipython",
    "version": 3
   },
   "file_extension": ".py",
   "mimetype": "text/x-python",
   "name": "python",
   "nbconvert_exporter": "python",
   "pygments_lexer": "ipython3",
   "version": "3.9.1"
  }
 },
 "nbformat": 4,
 "nbformat_minor": 4
}
