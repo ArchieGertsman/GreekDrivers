{
 "cells": [
  {
   "cell_type": "markdown",
   "metadata": {},
   "source": [
    "<img src=\"https://news.illinois.edu/files/6367/543635/116641.jpg\" alt=\"University of Illinois\" width=\"250\"/>\n",
    "\n",
    "# OpenStreetMap explorer for PNeuma #\n",
    "By Richard Sowers\n",
    "* <r-sowers@illinois.edu>\n",
    "* <https://publish.illinois.edu/r-sowers/>\n",
    "\n",
    "Copyright 2020 University of Illinois Board of Trustees. All Rights Reserved."
   ]
  },
  {
   "cell_type": "markdown",
   "metadata": {},
   "source": [
    "install conda, as in <http://localhost:8888/notebooks/Downloads/Untitled.ipynb?kernel_name=python3>"
   ]
  },
  {
   "cell_type": "code",
   "execution_count": 1,
   "metadata": {},
   "outputs": [],
   "source": [
    "#import for osmapi; https://pypi.org/project/osmapi/\n",
    "import osmapi"
   ]
  },
  {
   "cell_type": "code",
   "execution_count": 2,
   "metadata": {},
   "outputs": [],
   "source": [
    "#reverse geocode directly from nominatum, as per https://help.openstreetmap.org/questions/53513/nominatim-return-closest-way\n",
    "import urllib.request\n",
    "import json"
   ]
  },
  {
   "cell_type": "markdown",
   "metadata": {},
   "source": [
    "### osmapi calls ###"
   ]
  },
  {
   "cell_type": "code",
   "execution_count": 3,
   "metadata": {},
   "outputs": [],
   "source": [
    "api = osmapi.OsmApi()"
   ]
  },
  {
   "cell_type": "code",
   "execution_count": 4,
   "metadata": {
    "scrolled": true
   },
   "outputs": [
    {
     "name": "stdout",
     "output_type": "stream",
     "text": [
      "{'id': 38050821, 'visible': True, 'version': 6, 'changeset': 76970983, 'timestamp': datetime.datetime(2019, 11, 12, 16, 5, 59), 'user': 'speaketh', 'uid': 189712, 'lat': 40.0839665, 'lon': -88.2962225, 'tag': {}}\n"
     ]
    }
   ],
   "source": [
    "print(api.NodeGet(38050821))"
   ]
  },
  {
   "cell_type": "code",
   "execution_count": 5,
   "metadata": {
    "scrolled": true
   },
   "outputs": [
    {
     "data": {
      "text/plain": [
       "{'id': 5342391,\n",
       " 'visible': True,\n",
       " 'version': 7,\n",
       " 'changeset': 76667307,\n",
       " 'timestamp': datetime.datetime(2019, 11, 5, 20, 42, 29),\n",
       " 'user': 'speaketh',\n",
       " 'uid': 189712,\n",
       " 'tag': {'highway': 'residential',\n",
       "  'name': 'Wedgewood Drive',\n",
       "  'tiger:cfcc': 'A41',\n",
       "  'tiger:county': 'Champaign, IL',\n",
       "  'tiger:name_base': 'Wedgewood',\n",
       "  'tiger:name_type': 'Dr',\n",
       "  'tiger:reviewed': 'no',\n",
       "  'tiger:zip_left': '61822',\n",
       "  'tiger:zip_right': '61822'},\n",
       " 'nd': [38141646,\n",
       "  38141648,\n",
       "  5743110382,\n",
       "  38141650,\n",
       "  38141652,\n",
       "  6879472483,\n",
       "  38141657,\n",
       "  38101496,\n",
       "  6879472484,\n",
       "  38141659,\n",
       "  38141662,\n",
       "  38141665,\n",
       "  38141668,\n",
       "  38141672,\n",
       "  6879472487,\n",
       "  38141675,\n",
       "  38118489]}"
      ]
     },
     "execution_count": 5,
     "metadata": {},
     "output_type": "execute_result"
    }
   ],
   "source": [
    "api.WayGet(5342391)"
   ]
  },
  {
   "cell_type": "markdown",
   "metadata": {},
   "source": [
    "### direct calls to nominatum ###"
   ]
  },
  {
   "cell_type": "code",
   "execution_count": 6,
   "metadata": {},
   "outputs": [
    {
     "name": "stdout",
     "output_type": "stream",
     "text": [
      "{'place_id': 247791730, 'licence': 'Data © OpenStreetMap contributors, ODbL 1.0. https://osm.org/copyright', 'osm_type': 'way', 'osm_id': 5342391, 'lat': '40.077265607588174', 'lon': '-88.29439909328701', 'display_name': '2964, Wedgewood Drive, Kenwood, Champaign, Champaign County, Illinois, 61822, United States of America', 'address': {'house_number': '2964', 'road': 'Wedgewood Drive', 'hamlet': 'Kenwood', 'city': 'Champaign', 'county': 'Champaign County', 'state': 'Illinois', 'postcode': '61822', 'country': 'United States of America', 'country_code': 'us'}, 'boundingbox': ['40.077215607588', '40.077315607588', '-88.294449093287', '-88.294349093287']}\n"
     ]
    }
   ],
   "source": [
    "class reversegeocode:\n",
    "    url=\"http://nominatim.openstreetmap.org/reverse?format=json&lat={0:}&lon={1:}&osm_type=W\"\n",
    "    \n",
    "    @classmethod\n",
    "    def get(cls,point):\n",
    "        (lat,lng)=point\n",
    "        temp=cls.url.format(lat,lng)\n",
    "        #print(temp)\n",
    "        try:\n",
    "            with urllib.request.urlopen(temp) as response:\n",
    "                out=json.loads(response.read())\n",
    "            return out\n",
    "        except:\n",
    "            print(\"The place you entered does not exist\")\n",
    "        return None\n",
    "\n",
    "home=(40.07720237330779, -88.29441487352378)\n",
    "osmdata=reversegeocode.get(home)\n",
    "print(osmdata)"
   ]
  },
  {
   "cell_type": "code",
   "execution_count": 7,
   "metadata": {},
   "outputs": [
    {
     "name": "stdout",
     "output_type": "stream",
     "text": [
      "5342391\n"
     ]
    }
   ],
   "source": [
    "osmway=osmdata[\"osm_id\"]\n",
    "print(osmway)"
   ]
  },
  {
   "cell_type": "code",
   "execution_count": 8,
   "metadata": {},
   "outputs": [
    {
     "name": "stdout",
     "output_type": "stream",
     "text": [
      "{'id': 5342391, 'visible': True, 'version': 7, 'changeset': 76667307, 'timestamp': datetime.datetime(2019, 11, 5, 20, 42, 29), 'user': 'speaketh', 'uid': 189712, 'tag': {'highway': 'residential', 'name': 'Wedgewood Drive', 'tiger:cfcc': 'A41', 'tiger:county': 'Champaign, IL', 'tiger:name_base': 'Wedgewood', 'tiger:name_type': 'Dr', 'tiger:reviewed': 'no', 'tiger:zip_left': '61822', 'tiger:zip_right': '61822'}, 'nd': [38141646, 38141648, 5743110382, 38141650, 38141652, 6879472483, 38141657, 38101496, 6879472484, 38141659, 38141662, 38141665, 38141668, 38141672, 6879472487, 38141675, 38118489]}\n"
     ]
    }
   ],
   "source": [
    "tempdata=api.WayGet(osmway)\n",
    "print(tempdata)"
   ]
  },
  {
   "cell_type": "code",
   "execution_count": 9,
   "metadata": {},
   "outputs": [
    {
     "data": {
      "text/plain": [
       "[38141646,\n",
       " 38141648,\n",
       " 5743110382,\n",
       " 38141650,\n",
       " 38141652,\n",
       " 6879472483,\n",
       " 38141657,\n",
       " 38101496,\n",
       " 6879472484,\n",
       " 38141659,\n",
       " 38141662,\n",
       " 38141665,\n",
       " 38141668,\n",
       " 38141672,\n",
       " 6879472487,\n",
       " 38141675,\n",
       " 38118489]"
      ]
     },
     "execution_count": 9,
     "metadata": {},
     "output_type": "execute_result"
    }
   ],
   "source": [
    "nodes=tempdata[\"nd\"]\n",
    "nodes"
   ]
  },
  {
   "cell_type": "code",
   "execution_count": null,
   "metadata": {},
   "outputs": [],
   "source": []
  }
 ],
 "metadata": {
  "kernelspec": {
   "display_name": "Python 3",
   "language": "python",
   "name": "python3"
  },
  "language_info": {
   "codemirror_mode": {
    "name": "ipython",
    "version": 3
   },
   "file_extension": ".py",
   "mimetype": "text/x-python",
   "name": "python",
   "nbconvert_exporter": "python",
   "pygments_lexer": "ipython3",
   "version": "3.7.3"
  }
 },
 "nbformat": 4,
 "nbformat_minor": 2
}
