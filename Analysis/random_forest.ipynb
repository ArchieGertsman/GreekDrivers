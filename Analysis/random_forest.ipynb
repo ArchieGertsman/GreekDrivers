{
 "metadata": {
  "language_info": {
   "codemirror_mode": {
    "name": "ipython",
    "version": 3
   },
   "file_extension": ".py",
   "mimetype": "text/x-python",
   "name": "python",
   "nbconvert_exporter": "python",
   "pygments_lexer": "ipython3",
   "version": "3.9.2"
  },
  "orig_nbformat": 2,
  "kernelspec": {
   "name": "python392jvsc74a57bd072326583629048dad8c9a913f12cb6cad5a38ceace067d86c7872c2b0df37259",
   "display_name": "Python 3.9.2 64-bit ('ox': conda)"
  }
 },
 "nbformat": 4,
 "nbformat_minor": 2,
 "cells": [
  {
   "cell_type": "code",
   "execution_count": null,
   "metadata": {},
   "outputs": [],
   "source": [
    "\"\"\"random_forest.ipynb\n",
    "by: Archie Gertsman (arkadiy2@illinois.edu)\n",
    "Project director: Richard Sowers\n",
    "r-sowers@illinois.eduhttps://publish.illinois.edu/r-sowers/\n",
    "Copyright 2019 University of Illinois Board of Trustees. All Rights Reserved. Licensed under the MIT license\n",
    "\"\"\""
   ]
  },
  {
   "cell_type": "code",
   "execution_count": 4,
   "metadata": {},
   "outputs": [],
   "source": [
    "import sys\n",
    "sys.path.append('../Data/')\n",
    "import pandas as pd\n",
    "import numpy as np\n",
    "from sklearn.ensemble import RandomForestClassifier, AdaBoostClassifier\n",
    "from sklearn.model_selection import KFold"
   ]
  },
  {
   "cell_type": "code",
   "execution_count": 11,
   "metadata": {},
   "outputs": [],
   "source": [
    "df = pd.concat([pd.read_pickle('../Data/block4_29_{}_feat.pkl'.format(i)) for i in [800,830,930]])"
   ]
  },
  {
   "cell_type": "code",
   "execution_count": 12,
   "metadata": {},
   "outputs": [
    {
     "output_type": "execute_result",
     "data": {
      "text/plain": [
       "(1415, 493)"
      ]
     },
     "metadata": {},
     "execution_count": 12
    }
   ],
   "source": [
    "df_agg = df[np.isin(df['type'], ['Car','Taxi'])] \\\n",
    "    .groupby(['id','traj']).agg({\n",
    "        'xtrack_dist': 'std',\n",
    "        'avg_surr_speed': 'mean',\n",
    "        'avg_surr_speed': 'std',\n",
    "        'lon_acc': 'std',\n",
    "        'lat_acc': 'std',\n",
    "        'type': 'first'\n",
    "    }) \\\n",
    "    .reset_index() \\\n",
    "    .drop(['id','traj'], axis=1)\n",
    "\n",
    "len(df_agg[df_agg['type'] == 'Car']), len(df_agg[df_agg['type'] == 'Taxi'])"
   ]
  },
  {
   "cell_type": "code",
   "execution_count": 29,
   "metadata": {},
   "outputs": [
    {
     "output_type": "stream",
     "name": "stdout",
     "text": [
      "10-fold model accuracy\nmean: 69.258%\nstd: 2.12%\n"
     ]
    }
   ],
   "source": [
    "n_taxi_copies = 2\n",
    "taxi = df_agg[df_agg['type']=='Taxi']\n",
    "taxi = pd.concat([taxi for i in range(n_taxi_copies)])\n",
    "df2 = pd.concat([df_agg, taxi])\n",
    "\n",
    "g = df2.groupby('type')\n",
    "df2 = g.apply(lambda x: x.sample(g.size().min())).reset_index(drop=True)\n",
    "\n",
    "k = 10\n",
    "kf = KFold(n_splits=k, shuffle=True)\n",
    "accs = np.zeros(k)\n",
    "X,y = df2.drop('type', axis=1), df2['type']\n",
    "\n",
    "for i, (train_index, test_index) in enumerate(kf.split(X)):\n",
    "    X_train, X_test = X.iloc[train_index], X.iloc[test_index]\n",
    "    y_train, y_test = y.iloc[train_index], y.iloc[test_index]\n",
    "\n",
    "    model = AdaBoostClassifier()\n",
    "    model.fit(X_train, y_train)\n",
    "\n",
    "    y_hat = model.predict(X_test)\n",
    "    a = y_hat==y_test\n",
    "    accs[i] = len(a[a==True]) / len(y_test)\n",
    "\n",
    "print('{}-fold model accuracy'.format(k))\n",
    "print('mean: {}%'.format(round(100*accs.mean(), 3)))\n",
    "print('std: {}%'.format(round(100*accs.std(), 3)))"
   ]
  },
  {
   "cell_type": "code",
   "execution_count": null,
   "metadata": {},
   "outputs": [],
   "source": []
  }
 ]
}