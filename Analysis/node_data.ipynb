{
 "metadata": {
  "language_info": {
   "codemirror_mode": {
    "name": "ipython",
    "version": 3
   },
   "file_extension": ".py",
   "mimetype": "text/x-python",
   "name": "python",
   "nbconvert_exporter": "python",
   "pygments_lexer": "ipython3",
   "version": "3.9.2-final"
  },
  "orig_nbformat": 2,
  "kernelspec": {
   "name": "python3",
   "display_name": "Python 3.9.2 64-bit ('ox': conda)",
   "metadata": {
    "interpreter": {
     "hash": "72326583629048dad8c9a913f12cb6cad5a38ceace067d86c7872c2b0df37259"
    }
   }
  }
 },
 "nbformat": 4,
 "nbformat_minor": 2,
 "cells": [
  {
   "cell_type": "code",
   "execution_count": null,
   "metadata": {},
   "outputs": [],
   "source": [
    "\"\"\"node_data.ipynb\n",
    "description: various methods of computing node data are analyzed for performace\n",
    "by: Archie Gertsman (arkadiy2@illinois.edu)\n",
    "Project director: Richard Sowers\n",
    "r-sowers@illinois.eduhttps://publish.illinois.edu/r-sowers/\n",
    "Copyright 2019 University of Illinois Board of Trustees. All Rights Reserved. Licensed under the MIT license\n",
    "\"\"\""
   ]
  },
  {
   "cell_type": "code",
   "execution_count": 52,
   "metadata": {},
   "outputs": [],
   "source": [
    "import sys\n",
    "sys.path.append('../Data/')\n",
    "from data import csv_to_df\n",
    "import osmnx as ox\n",
    "from time import time\n",
    "graph = ox.graph_from_address(\\\n",
    "    'Athens, Municipality of Athens, Regional Unit of Central Athens, Attica, 10667, Greece', \\\n",
    "    network_type='drive', dist=500) \n",
    "df = csv_to_df('../Data/sample.csv')\n",
    "df = df.groupby('id', as_index=False, group_keys=False).apply(lambda rows: rows[:30])\n",
    "# graph = ox.graph_from_point(df.loc[(1,0.0), ['lat','lon']])\n"
   ]
  },
  {
   "cell_type": "code",
   "execution_count": 25,
   "metadata": {},
   "outputs": [
    {
     "output_type": "execute_result",
     "data": {
      "text/plain": [
       "11.88542103767395"
      ]
     },
     "metadata": {},
     "execution_count": 25
    }
   ],
   "source": [
    "# find nearest node/edge for each individual row in the dataframe\n",
    "def individual_rows(row, graph):\n",
    "    coord = (row['lat'],row['lon'])\n",
    "    nn = ox.get_nearest_node(graph, coord)\n",
    "    start, end, _ = ox.get_nearest_edge(graph, coord)\n",
    "    row['nearest_node'],             \\\n",
    "    row['nearest_edge_start_node'],  \\\n",
    "    row['nearest_edge_end_node'],    \\\n",
    "        = nn, start, end\n",
    "    return row\n",
    "\n",
    "start = time()\n",
    "df.apply(individual_rows, axis=1, args=(graph,))\n",
    "end = time()\n",
    "end-start"
   ]
  },
  {
   "cell_type": "code",
   "execution_count": 96,
   "metadata": {},
   "outputs": [
    {
     "output_type": "execute_result",
     "data": {
      "text/plain": [
       "11.67457103729248"
      ]
     },
     "metadata": {},
     "execution_count": 96
    }
   ],
   "source": [
    "# find nearest nodes/edges for each vehicle in the dataframe\n",
    "def in_groups(rows, graph):\n",
    "    coords = (rows['lon'], rows['lat'])\n",
    "    nn = ox.get_nearest_nodes(graph, *coords)\n",
    "    ne = ox.get_nearest_edges(graph, *coords)\n",
    "    start, end = ne[:,0], ne[:,1]\n",
    "    rows['nearest_node'],             \\\n",
    "    rows['nearest_edge_start_node'],  \\\n",
    "    rows['nearest_edge_end_node'],    \\\n",
    "        = nn, start, end\n",
    "    return rows\n",
    "\n",
    "start = time()\n",
    "df.groupby('id', as_index=False, group_keys=False).apply(in_groups, graph)\n",
    "end = time()\n",
    "end-start"
   ]
  },
  {
   "cell_type": "code",
   "execution_count": null,
   "metadata": {},
   "outputs": [],
   "source": [
    "# there is no noticeable increase in performance from using groupby vs individual rows"
   ]
  },
  {
   "cell_type": "code",
   "execution_count": 100,
   "metadata": {},
   "outputs": [
    {
     "output_type": "execute_result",
     "data": {
      "text/plain": [
       "12.254104137420654"
      ]
     },
     "metadata": {},
     "execution_count": 100
    }
   ],
   "source": [
    "# using a graph with radius 500m\n",
    "g1 = ox.graph_from_address(\\\n",
    "    'Athens, Municipality of Athens, Regional Unit of Central Athens, Attica, 10667, Greece', \\\n",
    "    network_type='drive', dist=500) \n",
    "\n",
    "start = time()\n",
    "df.apply(individial_rows, axis=1, args=(g1,))\n",
    "end = time()\n",
    "end-start"
   ]
  },
  {
   "cell_type": "code",
   "execution_count": 101,
   "metadata": {},
   "outputs": [
    {
     "output_type": "execute_result",
     "data": {
      "text/plain": [
       "26.41882014274597"
      ]
     },
     "metadata": {},
     "execution_count": 101
    }
   ],
   "source": [
    "# using a graph with radius 1000m\n",
    "g2 = ox.graph_from_address(\\\n",
    "    'Athens, Municipality of Athens, Regional Unit of Central Athens, Attica, 10667, Greece', \\\n",
    "    network_type='drive', dist=1000) \n",
    "\n",
    "start = time()\n",
    "df.apply(individial_rows, axis=1, args=(g2,))\n",
    "end = time()\n",
    "end-start"
   ]
  },
  {
   "cell_type": "code",
   "execution_count": null,
   "metadata": {},
   "outputs": [],
   "source": [
    "# using a smaller radius boosts the performance significantly."
   ]
  },
  {
   "cell_type": "code",
   "execution_count": 53,
   "metadata": {
    "tags": []
   },
   "outputs": [
    {
     "output_type": "execute_result",
     "data": {
      "text/plain": [
       "6.096121072769165"
      ]
     },
     "metadata": {},
     "execution_count": 53
    }
   ],
   "source": [
    "import pandas as pd\n",
    "from joblib import Parallel, delayed\n",
    "import multiprocessing\n",
    " \n",
    "def applyParallel(df, func, g):\n",
    "    retLst = Parallel(n_jobs=multiprocessing.cpu_count())(delayed(func)(row,g) for _,row in df.iterrows())\n",
    "    return pd.concat(retLst, axis=1).T\n",
    "\n",
    "start = time()\n",
    "df2=applyParallel(df, individual_rows, graph)\n",
    "end = time()\n",
    "end-start"
   ]
  },
  {
   "cell_type": "code",
   "execution_count": null,
   "metadata": {},
   "outputs": [],
   "source": [
    "# we see a great performance boost from using Python's built-in parallelization library"
   ]
  }
 ]
}