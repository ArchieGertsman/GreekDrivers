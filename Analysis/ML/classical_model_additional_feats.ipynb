{
 "cells": [
  {
   "cell_type": "code",
   "execution_count": null,
   "metadata": {},
   "outputs": [],
   "source": [
    "\"\"\"classical_models.ipynb\n",
    "by: Archie Gertsman (arkadiy2@illinois.edu)\n",
    "Project director: Richard Sowers\n",
    "r-sowers@illinois.eduhttps://publish.illinois.edu/r-sowers/\n",
    "Copyright 2019 University of Illinois Board of Trustees. All Rights Reserved. Licensed under the MIT license\n",
    "\"\"\""
   ]
  },
  {
   "cell_type": "code",
   "execution_count": 112,
   "metadata": {},
   "outputs": [],
   "source": [
    "\n",
    "import pandas as pd\n",
    "import numpy as np\n",
    "from feature_eng import split_trajectories\n",
    "import matplotlib.pyplot as plt\n",
    "from sklearn.metrics import f1_score\n",
    "from sklearn.ensemble import RandomForestClassifier, AdaBoostClassifier\n",
    "from sklearn.svm import SVC\n",
    "from sklearn.linear_model import LogisticRegression\n",
    "from sklearn.model_selection import StratifiedKFold\n",
    "from sklearn.pipeline import Pipeline\n",
    "from sklearn.preprocessing import StandardScaler"
   ]
  },
  {
   "cell_type": "code",
   "execution_count": 28,
   "metadata": {},
   "outputs": [
    {
     "data": {
      "text/html": [
       "<div>\n",
       "<style scoped>\n",
       "    .dataframe tbody tr th:only-of-type {\n",
       "        vertical-align: middle;\n",
       "    }\n",
       "\n",
       "    .dataframe tbody tr th {\n",
       "        vertical-align: top;\n",
       "    }\n",
       "\n",
       "    .dataframe thead th {\n",
       "        text-align: right;\n",
       "    }\n",
       "</style>\n",
       "<table border=\"1\" class=\"dataframe\">\n",
       "  <thead>\n",
       "    <tr style=\"text-align: right;\">\n",
       "      <th></th>\n",
       "      <th></th>\n",
       "      <th></th>\n",
       "      <th>lat</th>\n",
       "      <th>lon</th>\n",
       "      <th>speed</th>\n",
       "      <th>lon_acc</th>\n",
       "      <th>lat_acc</th>\n",
       "      <th>type</th>\n",
       "      <th>traveled_d</th>\n",
       "      <th>avg_speed</th>\n",
       "      <th>bearing</th>\n",
       "      <th>nearest_edge_start_node</th>\n",
       "      <th>...</th>\n",
       "      <th>xtrack_dist</th>\n",
       "      <th>time_stamp</th>\n",
       "      <th>edge_progress_intervals</th>\n",
       "      <th>edge_id</th>\n",
       "      <th>len</th>\n",
       "      <th>lanes</th>\n",
       "      <th>node_veh_dist</th>\n",
       "      <th>edge_seg</th>\n",
       "      <th>vehicle_density</th>\n",
       "      <th>avg_surr_speed</th>\n",
       "    </tr>\n",
       "    <tr>\n",
       "      <th>file_name</th>\n",
       "      <th>id</th>\n",
       "      <th>time</th>\n",
       "      <th></th>\n",
       "      <th></th>\n",
       "      <th></th>\n",
       "      <th></th>\n",
       "      <th></th>\n",
       "      <th></th>\n",
       "      <th></th>\n",
       "      <th></th>\n",
       "      <th></th>\n",
       "      <th></th>\n",
       "      <th></th>\n",
       "      <th></th>\n",
       "      <th></th>\n",
       "      <th></th>\n",
       "      <th></th>\n",
       "      <th></th>\n",
       "      <th></th>\n",
       "      <th></th>\n",
       "      <th></th>\n",
       "      <th></th>\n",
       "      <th></th>\n",
       "    </tr>\n",
       "  </thead>\n",
       "  <tbody>\n",
       "    <tr>\n",
       "      <th rowspan=\"5\" valign=\"top\">4_1</th>\n",
       "      <th rowspan=\"5\" valign=\"top\">1</th>\n",
       "      <th>42.00</th>\n",
       "      <td>37.982746</td>\n",
       "      <td>23.732961</td>\n",
       "      <td>11.9046</td>\n",
       "      <td>-0.1145</td>\n",
       "      <td>0.0138</td>\n",
       "      <td>Taxi</td>\n",
       "      <td>182.37</td>\n",
       "      <td>9.740748</td>\n",
       "      <td>1.570795</td>\n",
       "      <td>250699362</td>\n",
       "      <td>...</td>\n",
       "      <td>-1.883401</td>\n",
       "      <td>42.00</td>\n",
       "      <td>0.3</td>\n",
       "      <td>250699362_250699984</td>\n",
       "      <td>97.581</td>\n",
       "      <td>5.4</td>\n",
       "      <td>29.814330</td>\n",
       "      <td>1.0</td>\n",
       "      <td>7</td>\n",
       "      <td>10.464171</td>\n",
       "    </tr>\n",
       "    <tr>\n",
       "      <th>42.04</th>\n",
       "      <td>37.982746</td>\n",
       "      <td>23.732963</td>\n",
       "      <td>11.8975</td>\n",
       "      <td>-0.1007</td>\n",
       "      <td>0.0147</td>\n",
       "      <td>Taxi</td>\n",
       "      <td>182.37</td>\n",
       "      <td>9.740748</td>\n",
       "      <td>0.168572</td>\n",
       "      <td>250699362</td>\n",
       "      <td>...</td>\n",
       "      <td>-1.980795</td>\n",
       "      <td>42.04</td>\n",
       "      <td>0.3</td>\n",
       "      <td>250699362_250699984</td>\n",
       "      <td>97.581</td>\n",
       "      <td>5.4</td>\n",
       "      <td>29.674830</td>\n",
       "      <td>1.0</td>\n",
       "      <td>7</td>\n",
       "      <td>10.457843</td>\n",
       "    </tr>\n",
       "    <tr>\n",
       "      <th>42.08</th>\n",
       "      <td>37.982747</td>\n",
       "      <td>23.732964</td>\n",
       "      <td>11.8919</td>\n",
       "      <td>-0.0918</td>\n",
       "      <td>0.0157</td>\n",
       "      <td>Taxi</td>\n",
       "      <td>182.37</td>\n",
       "      <td>9.740748</td>\n",
       "      <td>0.168573</td>\n",
       "      <td>250699362</td>\n",
       "      <td>...</td>\n",
       "      <td>-1.937041</td>\n",
       "      <td>42.08</td>\n",
       "      <td>0.3</td>\n",
       "      <td>250699362_250699984</td>\n",
       "      <td>97.581</td>\n",
       "      <td>5.4</td>\n",
       "      <td>29.537753</td>\n",
       "      <td>1.0</td>\n",
       "      <td>7</td>\n",
       "      <td>10.452857</td>\n",
       "    </tr>\n",
       "    <tr>\n",
       "      <th>42.12</th>\n",
       "      <td>37.982748</td>\n",
       "      <td>23.732965</td>\n",
       "      <td>11.8871</td>\n",
       "      <td>-0.0869</td>\n",
       "      <td>0.0167</td>\n",
       "      <td>Taxi</td>\n",
       "      <td>182.37</td>\n",
       "      <td>9.740748</td>\n",
       "      <td>1.570796</td>\n",
       "      <td>250699362</td>\n",
       "      <td>...</td>\n",
       "      <td>-1.893287</td>\n",
       "      <td>42.12</td>\n",
       "      <td>0.3</td>\n",
       "      <td>250699362_250699984</td>\n",
       "      <td>97.581</td>\n",
       "      <td>5.4</td>\n",
       "      <td>29.400718</td>\n",
       "      <td>1.0</td>\n",
       "      <td>7</td>\n",
       "      <td>10.448586</td>\n",
       "    </tr>\n",
       "    <tr>\n",
       "      <th>42.16</th>\n",
       "      <td>37.982748</td>\n",
       "      <td>23.732966</td>\n",
       "      <td>11.8831</td>\n",
       "      <td>-0.0784</td>\n",
       "      <td>0.0176</td>\n",
       "      <td>Taxi</td>\n",
       "      <td>182.37</td>\n",
       "      <td>9.740748</td>\n",
       "      <td>0.328080</td>\n",
       "      <td>250699362</td>\n",
       "      <td>...</td>\n",
       "      <td>-1.941984</td>\n",
       "      <td>42.16</td>\n",
       "      <td>0.3</td>\n",
       "      <td>250699362_250699984</td>\n",
       "      <td>97.581</td>\n",
       "      <td>5.4</td>\n",
       "      <td>29.330986</td>\n",
       "      <td>1.0</td>\n",
       "      <td>7</td>\n",
       "      <td>10.444986</td>\n",
       "    </tr>\n",
       "  </tbody>\n",
       "</table>\n",
       "<p>5 rows × 23 columns</p>\n",
       "</div>"
      ],
      "text/plain": [
       "                          lat        lon    speed  lon_acc  lat_acc  type  \\\n",
       "file_name id time                                                           \n",
       "4_1       1  42.00  37.982746  23.732961  11.9046  -0.1145   0.0138  Taxi   \n",
       "             42.04  37.982746  23.732963  11.8975  -0.1007   0.0147  Taxi   \n",
       "             42.08  37.982747  23.732964  11.8919  -0.0918   0.0157  Taxi   \n",
       "             42.12  37.982748  23.732965  11.8871  -0.0869   0.0167  Taxi   \n",
       "             42.16  37.982748  23.732966  11.8831  -0.0784   0.0176  Taxi   \n",
       "\n",
       "                    traveled_d  avg_speed   bearing  nearest_edge_start_node  \\\n",
       "file_name id time                                                              \n",
       "4_1       1  42.00      182.37   9.740748  1.570795                250699362   \n",
       "             42.04      182.37   9.740748  0.168572                250699362   \n",
       "             42.08      182.37   9.740748  0.168573                250699362   \n",
       "             42.12      182.37   9.740748  1.570796                250699362   \n",
       "             42.16      182.37   9.740748  0.328080                250699362   \n",
       "\n",
       "                    ...  xtrack_dist  time_stamp  edge_progress_intervals  \\\n",
       "file_name id time   ...                                                     \n",
       "4_1       1  42.00  ...    -1.883401       42.00                      0.3   \n",
       "             42.04  ...    -1.980795       42.04                      0.3   \n",
       "             42.08  ...    -1.937041       42.08                      0.3   \n",
       "             42.12  ...    -1.893287       42.12                      0.3   \n",
       "             42.16  ...    -1.941984       42.16                      0.3   \n",
       "\n",
       "                                edge_id     len  lanes node_veh_dist  \\\n",
       "file_name id time                                                      \n",
       "4_1       1  42.00  250699362_250699984  97.581    5.4     29.814330   \n",
       "             42.04  250699362_250699984  97.581    5.4     29.674830   \n",
       "             42.08  250699362_250699984  97.581    5.4     29.537753   \n",
       "             42.12  250699362_250699984  97.581    5.4     29.400718   \n",
       "             42.16  250699362_250699984  97.581    5.4     29.330986   \n",
       "\n",
       "                    edge_seg  vehicle_density  avg_surr_speed  \n",
       "file_name id time                                              \n",
       "4_1       1  42.00       1.0                7       10.464171  \n",
       "             42.04       1.0                7       10.457843  \n",
       "             42.08       1.0                7       10.452857  \n",
       "             42.12       1.0                7       10.448586  \n",
       "             42.16       1.0                7       10.444986  \n",
       "\n",
       "[5 rows x 23 columns]"
      ]
     },
     "execution_count": 28,
     "metadata": {},
     "output_type": "execute_result"
    }
   ],
   "source": [
    "df = pd.read_pickle('block4_concat_lane.pkl')\n",
    "#df = pd.read_pickle('block4_edge_filter.pkl')\n",
    "df.head()"
   ]
  },
  {
   "cell_type": "code",
   "execution_count": 118,
   "metadata": {},
   "outputs": [],
   "source": [
    "#def lane_changes(df,xtrack_dist = 1):\n",
    "def __xtrack_dist(df):\n",
    "    \"\"\"splits a vehicle trajectory into smaller trajectories of fixed size and removes\n",
    "    the last (len(df) mod size) riws\n",
    "    \"\"\"\n",
    "    \n",
    "    df[\"xtrack_diff\"] = df.loc[:,['xtrack_dist']]- df.loc[:,['xtrack_dist']].shift(-1)\n",
    "    df[\"xtrack_diff\"]=df['xtrack_diff'].fillna(0)\n",
    "    return df\n",
    "\n",
    "\n",
    "df = df.groupby(['file_name','id'], as_index=False, group_keys=False) \\\n",
    "            .apply(__xtrack_dist)"
   ]
  },
  {
   "cell_type": "code",
   "execution_count": 29,
   "metadata": {},
   "outputs": [],
   "source": [
    "def reset_traj_and_split(df, traj_len):\n",
    "    #df.index = df.index.droplevel(1)\n",
    "    return split_trajectories(df, traj_len)"
   ]
  },
  {
   "cell_type": "code",
   "execution_count": 140,
   "metadata": {},
   "outputs": [],
   "source": [
    "def agg(df):\n",
    "    df['xtrack_diff_sq'] = df['xtrack_diff']**2\n",
    "    df_agg = df[np.isin(df['type'], ['Car','Taxi'])] \\\n",
    "        .groupby(['id', 'traj']).agg({\n",
    "            'xtrack_diff_sq': ['mean','std','skew','max','min',pd.DataFrame.kurt,'sum'],\n",
    "            'xtrack_diff': ['mean','std','skew',pd.DataFrame.kurt],\n",
    "            'xtrack_dist': ['mean','std','skew',pd.DataFrame.kurt],\n",
    "            'avg_surr_speed': ['mean','std','skew',pd.DataFrame.kurt],\n",
    "            'lanes':['mean'],\n",
    "            'len':['mean'],\n",
    "            'speed':['mean','std','skew',pd.DataFrame.kurt,'sum'],\n",
    "            'vehicle_density': ['mean','std','skew',pd.DataFrame.kurt],\n",
    "            'lon_acc': ['mean','std','max','min','skew', pd.DataFrame.kurt],\n",
    "            'lat_acc': ['mean','std','max','min', 'skew', pd.DataFrame.kurt],\n",
    "            'type': 'first'\n",
    "        }) \\\n",
    "        .reset_index(drop=True)\n",
    "    #df_agg1 = df_agg.copy()\n",
    "    \n",
    "    df_agg.columns = ['_'.join(col) for col in df_agg.columns]\n",
    "    df_agg.speed_sum = df_agg.speed_sum*0.04\n",
    "    df_agg.rename(columns={'type_first':'type'}, inplace=True)\n",
    "    g = df_agg.groupby('type')\n",
    "    df_agg = g.apply(lambda group: group.sample(g.size().min())).reset_index(drop=True)\n",
    "    X,y = df_agg.drop('type', axis=1), df_agg['type']\n",
    "    \n",
    "    return X,y\n"
   ]
  },
  {
   "cell_type": "code",
   "execution_count": 143,
   "metadata": {},
   "outputs": [],
   "source": [
    "def train_and_accuracy(X, y, model):\n",
    "    X_train, X_test = X.iloc[train_index], X.iloc[test_index]\n",
    "    y_train, y_test = y.iloc[train_index], y.iloc[test_index]\n",
    "\n",
    "    model.fit(X_train, y_train)\n",
    "    y_hat = model.predict(X_test)\n",
    "    #print(y_hat)\n",
    "    a = y_hat==y_test\n",
    "    \n",
    "    f = f1_score((y_test == 'Car').astype(int),(y_hat == 'Car').astype(int))\n",
    "    return len(a[a==True]) / len(y_test),f\n"
   ]
  },
  {
   "cell_type": "code",
   "execution_count": 144,
   "metadata": {},
   "outputs": [
    {
     "name": "stdout",
     "output_type": "stream",
     "text": [
      "No of trajectories:  2428\n"
     ]
    },
    {
     "name": "stderr",
     "output_type": "stream",
     "text": [
      "C:\\Users\\lloyd\\anaconda3\\envs\\ox\\lib\\site-packages\\IPython\\core\\interactiveshell.py:2886: PerformanceWarning: indexing past lexsort depth may impact performance.\n",
      "  result = self._run_cell(\n",
      "C:\\Users\\lloyd\\anaconda3\\envs\\ox\\lib\\site-packages\\IPython\\core\\interactiveshell.py:2886: PerformanceWarning: indexing past lexsort depth may impact performance.\n",
      "  result = self._run_cell(\n"
     ]
    },
    {
     "name": "stdout",
     "output_type": "stream",
     "text": [
      "Random Forest complete.\n"
     ]
    },
    {
     "name": "stderr",
     "output_type": "stream",
     "text": [
      "C:\\Users\\lloyd\\anaconda3\\envs\\ox\\lib\\site-packages\\IPython\\core\\interactiveshell.py:2886: PerformanceWarning: indexing past lexsort depth may impact performance.\n",
      "  result = self._run_cell(\n"
     ]
    },
    {
     "name": "stdout",
     "output_type": "stream",
     "text": [
      "AdaBoost complete.\n"
     ]
    },
    {
     "name": "stderr",
     "output_type": "stream",
     "text": [
      "C:\\Users\\lloyd\\anaconda3\\envs\\ox\\lib\\site-packages\\IPython\\core\\interactiveshell.py:2886: PerformanceWarning: indexing past lexsort depth may impact performance.\n",
      "  result = self._run_cell(\n"
     ]
    },
    {
     "name": "stdout",
     "output_type": "stream",
     "text": [
      "SVM complete.\n"
     ]
    },
    {
     "name": "stderr",
     "output_type": "stream",
     "text": [
      "C:\\Users\\lloyd\\anaconda3\\envs\\ox\\lib\\site-packages\\IPython\\core\\interactiveshell.py:2886: PerformanceWarning: indexing past lexsort depth may impact performance.\n",
      "  result = self._run_cell(\n"
     ]
    },
    {
     "name": "stdout",
     "output_type": "stream",
     "text": [
      "Log Regression complete.\n",
      "trajectory length 250 complete.\n",
      "No of trajectories:  1878\n"
     ]
    },
    {
     "name": "stderr",
     "output_type": "stream",
     "text": [
      "C:\\Users\\lloyd\\anaconda3\\envs\\ox\\lib\\site-packages\\IPython\\core\\interactiveshell.py:2886: PerformanceWarning: indexing past lexsort depth may impact performance.\n",
      "  result = self._run_cell(\n",
      "C:\\Users\\lloyd\\anaconda3\\envs\\ox\\lib\\site-packages\\IPython\\core\\interactiveshell.py:2886: PerformanceWarning: indexing past lexsort depth may impact performance.\n",
      "  result = self._run_cell(\n"
     ]
    },
    {
     "name": "stdout",
     "output_type": "stream",
     "text": [
      "Random Forest complete.\n"
     ]
    },
    {
     "name": "stderr",
     "output_type": "stream",
     "text": [
      "C:\\Users\\lloyd\\anaconda3\\envs\\ox\\lib\\site-packages\\IPython\\core\\interactiveshell.py:2886: PerformanceWarning: indexing past lexsort depth may impact performance.\n",
      "  result = self._run_cell(\n"
     ]
    },
    {
     "name": "stdout",
     "output_type": "stream",
     "text": [
      "AdaBoost complete.\n"
     ]
    },
    {
     "name": "stderr",
     "output_type": "stream",
     "text": [
      "C:\\Users\\lloyd\\anaconda3\\envs\\ox\\lib\\site-packages\\IPython\\core\\interactiveshell.py:2886: PerformanceWarning: indexing past lexsort depth may impact performance.\n",
      "  result = self._run_cell(\n"
     ]
    },
    {
     "name": "stdout",
     "output_type": "stream",
     "text": [
      "SVM complete.\n"
     ]
    },
    {
     "name": "stderr",
     "output_type": "stream",
     "text": [
      "C:\\Users\\lloyd\\anaconda3\\envs\\ox\\lib\\site-packages\\IPython\\core\\interactiveshell.py:2886: PerformanceWarning: indexing past lexsort depth may impact performance.\n",
      "  result = self._run_cell(\n"
     ]
    },
    {
     "name": "stdout",
     "output_type": "stream",
     "text": [
      "Log Regression complete.\n",
      "trajectory length 300 complete.\n",
      "No of trajectories:  1438\n"
     ]
    },
    {
     "name": "stderr",
     "output_type": "stream",
     "text": [
      "C:\\Users\\lloyd\\anaconda3\\envs\\ox\\lib\\site-packages\\IPython\\core\\interactiveshell.py:2886: PerformanceWarning: indexing past lexsort depth may impact performance.\n",
      "  result = self._run_cell(\n",
      "C:\\Users\\lloyd\\anaconda3\\envs\\ox\\lib\\site-packages\\IPython\\core\\interactiveshell.py:2886: PerformanceWarning: indexing past lexsort depth may impact performance.\n",
      "  result = self._run_cell(\n"
     ]
    },
    {
     "name": "stdout",
     "output_type": "stream",
     "text": [
      "Random Forest complete.\n"
     ]
    },
    {
     "name": "stderr",
     "output_type": "stream",
     "text": [
      "C:\\Users\\lloyd\\anaconda3\\envs\\ox\\lib\\site-packages\\IPython\\core\\interactiveshell.py:2886: PerformanceWarning: indexing past lexsort depth may impact performance.\n",
      "  result = self._run_cell(\n"
     ]
    },
    {
     "name": "stdout",
     "output_type": "stream",
     "text": [
      "AdaBoost complete.\n"
     ]
    },
    {
     "name": "stderr",
     "output_type": "stream",
     "text": [
      "C:\\Users\\lloyd\\anaconda3\\envs\\ox\\lib\\site-packages\\IPython\\core\\interactiveshell.py:2886: PerformanceWarning: indexing past lexsort depth may impact performance.\n",
      "  result = self._run_cell(\n"
     ]
    },
    {
     "name": "stdout",
     "output_type": "stream",
     "text": [
      "SVM complete.\n"
     ]
    },
    {
     "name": "stderr",
     "output_type": "stream",
     "text": [
      "C:\\Users\\lloyd\\anaconda3\\envs\\ox\\lib\\site-packages\\IPython\\core\\interactiveshell.py:2886: PerformanceWarning: indexing past lexsort depth may impact performance.\n",
      "  result = self._run_cell(\n"
     ]
    },
    {
     "name": "stdout",
     "output_type": "stream",
     "text": [
      "Log Regression complete.\n",
      "trajectory length 350 complete.\n",
      "No of trajectories:  1120\n"
     ]
    },
    {
     "name": "stderr",
     "output_type": "stream",
     "text": [
      "C:\\Users\\lloyd\\anaconda3\\envs\\ox\\lib\\site-packages\\IPython\\core\\interactiveshell.py:2886: PerformanceWarning: indexing past lexsort depth may impact performance.\n",
      "  result = self._run_cell(\n",
      "C:\\Users\\lloyd\\anaconda3\\envs\\ox\\lib\\site-packages\\IPython\\core\\interactiveshell.py:2886: PerformanceWarning: indexing past lexsort depth may impact performance.\n",
      "  result = self._run_cell(\n"
     ]
    },
    {
     "name": "stdout",
     "output_type": "stream",
     "text": [
      "Random Forest complete.\n"
     ]
    },
    {
     "name": "stderr",
     "output_type": "stream",
     "text": [
      "C:\\Users\\lloyd\\anaconda3\\envs\\ox\\lib\\site-packages\\IPython\\core\\interactiveshell.py:2886: PerformanceWarning: indexing past lexsort depth may impact performance.\n",
      "  result = self._run_cell(\n"
     ]
    },
    {
     "name": "stdout",
     "output_type": "stream",
     "text": [
      "AdaBoost complete.\n"
     ]
    },
    {
     "name": "stderr",
     "output_type": "stream",
     "text": [
      "C:\\Users\\lloyd\\anaconda3\\envs\\ox\\lib\\site-packages\\IPython\\core\\interactiveshell.py:2886: PerformanceWarning: indexing past lexsort depth may impact performance.\n",
      "  result = self._run_cell(\n"
     ]
    },
    {
     "name": "stdout",
     "output_type": "stream",
     "text": [
      "SVM complete.\n"
     ]
    },
    {
     "name": "stderr",
     "output_type": "stream",
     "text": [
      "C:\\Users\\lloyd\\anaconda3\\envs\\ox\\lib\\site-packages\\IPython\\core\\interactiveshell.py:2886: PerformanceWarning: indexing past lexsort depth may impact performance.\n",
      "  result = self._run_cell(\n"
     ]
    },
    {
     "name": "stdout",
     "output_type": "stream",
     "text": [
      "Log Regression complete.\n",
      "trajectory length 400 complete.\n",
      "No of trajectories:  872\n"
     ]
    },
    {
     "name": "stderr",
     "output_type": "stream",
     "text": [
      "C:\\Users\\lloyd\\anaconda3\\envs\\ox\\lib\\site-packages\\IPython\\core\\interactiveshell.py:2886: PerformanceWarning: indexing past lexsort depth may impact performance.\n",
      "  result = self._run_cell(\n",
      "C:\\Users\\lloyd\\anaconda3\\envs\\ox\\lib\\site-packages\\IPython\\core\\interactiveshell.py:2886: PerformanceWarning: indexing past lexsort depth may impact performance.\n",
      "  result = self._run_cell(\n"
     ]
    },
    {
     "name": "stdout",
     "output_type": "stream",
     "text": [
      "Random Forest complete.\n"
     ]
    },
    {
     "name": "stderr",
     "output_type": "stream",
     "text": [
      "C:\\Users\\lloyd\\anaconda3\\envs\\ox\\lib\\site-packages\\IPython\\core\\interactiveshell.py:2886: PerformanceWarning: indexing past lexsort depth may impact performance.\n",
      "  result = self._run_cell(\n"
     ]
    },
    {
     "name": "stdout",
     "output_type": "stream",
     "text": [
      "AdaBoost complete.\n"
     ]
    },
    {
     "name": "stderr",
     "output_type": "stream",
     "text": [
      "C:\\Users\\lloyd\\anaconda3\\envs\\ox\\lib\\site-packages\\IPython\\core\\interactiveshell.py:2886: PerformanceWarning: indexing past lexsort depth may impact performance.\n",
      "  result = self._run_cell(\n"
     ]
    },
    {
     "name": "stdout",
     "output_type": "stream",
     "text": [
      "SVM complete.\n",
      "Log Regression complete.\n",
      "trajectory length 450 complete.\n"
     ]
    },
    {
     "name": "stderr",
     "output_type": "stream",
     "text": [
      "C:\\Users\\lloyd\\anaconda3\\envs\\ox\\lib\\site-packages\\IPython\\core\\interactiveshell.py:2886: PerformanceWarning: indexing past lexsort depth may impact performance.\n",
      "  result = self._run_cell(\n"
     ]
    },
    {
     "data": {
      "text/html": [
       "<div>\n",
       "<style scoped>\n",
       "    .dataframe tbody tr th:only-of-type {\n",
       "        vertical-align: middle;\n",
       "    }\n",
       "\n",
       "    .dataframe tbody tr th {\n",
       "        vertical-align: top;\n",
       "    }\n",
       "\n",
       "    .dataframe thead th {\n",
       "        text-align: right;\n",
       "    }\n",
       "</style>\n",
       "<table border=\"1\" class=\"dataframe\">\n",
       "  <thead>\n",
       "    <tr style=\"text-align: right;\">\n",
       "      <th></th>\n",
       "      <th></th>\n",
       "      <th></th>\n",
       "      <th>250</th>\n",
       "      <th>300</th>\n",
       "      <th>350</th>\n",
       "      <th>400</th>\n",
       "      <th>450</th>\n",
       "    </tr>\n",
       "  </thead>\n",
       "  <tbody>\n",
       "    <tr>\n",
       "      <th rowspan=\"4\" valign=\"top\">Random Forest</th>\n",
       "      <th rowspan=\"2\" valign=\"top\">f1_score</th>\n",
       "      <th>mean</th>\n",
       "      <td>57.685</td>\n",
       "      <td>58.442</td>\n",
       "      <td>57.886</td>\n",
       "      <td>57.282</td>\n",
       "      <td>58.37</td>\n",
       "    </tr>\n",
       "    <tr>\n",
       "      <th>std</th>\n",
       "      <td>1.766</td>\n",
       "      <td>3.119</td>\n",
       "      <td>3.863</td>\n",
       "      <td>2.739</td>\n",
       "      <td>3.736</td>\n",
       "    </tr>\n",
       "    <tr>\n",
       "      <th rowspan=\"2\" valign=\"top\">accuracy</th>\n",
       "      <th>mean</th>\n",
       "      <td>58.567</td>\n",
       "      <td>59.583</td>\n",
       "      <td>59.46</td>\n",
       "      <td>58.393</td>\n",
       "      <td>60.668</td>\n",
       "    </tr>\n",
       "    <tr>\n",
       "      <th>std</th>\n",
       "      <td>1.638</td>\n",
       "      <td>2.28</td>\n",
       "      <td>3.215</td>\n",
       "      <td>2.301</td>\n",
       "      <td>3.035</td>\n",
       "    </tr>\n",
       "    <tr>\n",
       "      <th rowspan=\"4\" valign=\"top\">AdaBoost</th>\n",
       "      <th rowspan=\"2\" valign=\"top\">f1_score</th>\n",
       "      <th>mean</th>\n",
       "      <td>55.62</td>\n",
       "      <td>54.572</td>\n",
       "      <td>55.625</td>\n",
       "      <td>54.132</td>\n",
       "      <td>56.215</td>\n",
       "    </tr>\n",
       "    <tr>\n",
       "      <th>std</th>\n",
       "      <td>2.416</td>\n",
       "      <td>2.107</td>\n",
       "      <td>3.333</td>\n",
       "      <td>3.328</td>\n",
       "      <td>3.853</td>\n",
       "    </tr>\n",
       "    <tr>\n",
       "      <th rowspan=\"2\" valign=\"top\">accuracy</th>\n",
       "      <th>mean</th>\n",
       "      <td>57.455</td>\n",
       "      <td>56.549</td>\n",
       "      <td>55.913</td>\n",
       "      <td>55.089</td>\n",
       "      <td>57.456</td>\n",
       "    </tr>\n",
       "    <tr>\n",
       "      <th>std</th>\n",
       "      <td>3.281</td>\n",
       "      <td>2.31</td>\n",
       "      <td>2.889</td>\n",
       "      <td>2.124</td>\n",
       "      <td>3.332</td>\n",
       "    </tr>\n",
       "    <tr>\n",
       "      <th rowspan=\"4\" valign=\"top\">SVM</th>\n",
       "      <th rowspan=\"2\" valign=\"top\">f1_score</th>\n",
       "      <th>mean</th>\n",
       "      <td>53.007</td>\n",
       "      <td>55.001</td>\n",
       "      <td>54.965</td>\n",
       "      <td>53.714</td>\n",
       "      <td>54.182</td>\n",
       "    </tr>\n",
       "    <tr>\n",
       "      <th>std</th>\n",
       "      <td>4.779</td>\n",
       "      <td>2.247</td>\n",
       "      <td>2.846</td>\n",
       "      <td>4.181</td>\n",
       "      <td>6.924</td>\n",
       "    </tr>\n",
       "    <tr>\n",
       "      <th rowspan=\"2\" valign=\"top\">accuracy</th>\n",
       "      <th>mean</th>\n",
       "      <td>58.4</td>\n",
       "      <td>59.426</td>\n",
       "      <td>59.25</td>\n",
       "      <td>58.571</td>\n",
       "      <td>59.975</td>\n",
       "    </tr>\n",
       "    <tr>\n",
       "      <th>std</th>\n",
       "      <td>3.287</td>\n",
       "      <td>1.513</td>\n",
       "      <td>1.692</td>\n",
       "      <td>3.046</td>\n",
       "      <td>3.902</td>\n",
       "    </tr>\n",
       "    <tr>\n",
       "      <th rowspan=\"4\" valign=\"top\">Log Regression</th>\n",
       "      <th rowspan=\"2\" valign=\"top\">f1_score</th>\n",
       "      <th>mean</th>\n",
       "      <td>54.742</td>\n",
       "      <td>55.379</td>\n",
       "      <td>53.358</td>\n",
       "      <td>58.945</td>\n",
       "      <td>56.663</td>\n",
       "    </tr>\n",
       "    <tr>\n",
       "      <th>std</th>\n",
       "      <td>3.139</td>\n",
       "      <td>1.75</td>\n",
       "      <td>2.967</td>\n",
       "      <td>1.561</td>\n",
       "      <td>2.405</td>\n",
       "    </tr>\n",
       "    <tr>\n",
       "      <th rowspan=\"2\" valign=\"top\">accuracy</th>\n",
       "      <th>mean</th>\n",
       "      <td>56.384</td>\n",
       "      <td>57.455</td>\n",
       "      <td>54.868</td>\n",
       "      <td>58.839</td>\n",
       "      <td>57.568</td>\n",
       "    </tr>\n",
       "    <tr>\n",
       "      <th>std</th>\n",
       "      <td>2.401</td>\n",
       "      <td>1.575</td>\n",
       "      <td>1.379</td>\n",
       "      <td>1.923</td>\n",
       "      <td>2.446</td>\n",
       "    </tr>\n",
       "    <tr>\n",
       "      <th rowspan=\"3\" valign=\"top\">traj_len</th>\n",
       "      <th rowspan=\"3\" valign=\"top\">traj_len</th>\n",
       "      <th>total</th>\n",
       "      <td>2428</td>\n",
       "      <td>1878</td>\n",
       "      <td>1438</td>\n",
       "      <td>1120</td>\n",
       "      <td>872</td>\n",
       "    </tr>\n",
       "    <tr>\n",
       "      <th>Car</th>\n",
       "      <td>1214</td>\n",
       "      <td>939</td>\n",
       "      <td>719</td>\n",
       "      <td>560</td>\n",
       "      <td>436</td>\n",
       "    </tr>\n",
       "    <tr>\n",
       "      <th>Taxi</th>\n",
       "      <td>1214</td>\n",
       "      <td>939</td>\n",
       "      <td>719</td>\n",
       "      <td>560</td>\n",
       "      <td>436</td>\n",
       "    </tr>\n",
       "  </tbody>\n",
       "</table>\n",
       "</div>"
      ],
      "text/plain": [
       "                                  250     300     350     400     450\n",
       "Random Forest  f1_score mean   57.685  58.442  57.886  57.282   58.37\n",
       "                        std     1.766   3.119   3.863   2.739   3.736\n",
       "               accuracy mean   58.567  59.583   59.46  58.393  60.668\n",
       "                        std     1.638    2.28   3.215   2.301   3.035\n",
       "AdaBoost       f1_score mean    55.62  54.572  55.625  54.132  56.215\n",
       "                        std     2.416   2.107   3.333   3.328   3.853\n",
       "               accuracy mean   57.455  56.549  55.913  55.089  57.456\n",
       "                        std     3.281    2.31   2.889   2.124   3.332\n",
       "SVM            f1_score mean   53.007  55.001  54.965  53.714  54.182\n",
       "                        std     4.779   2.247   2.846   4.181   6.924\n",
       "               accuracy mean     58.4  59.426   59.25  58.571  59.975\n",
       "                        std     3.287   1.513   1.692   3.046   3.902\n",
       "Log Regression f1_score mean   54.742  55.379  53.358  58.945  56.663\n",
       "                        std     3.139    1.75   2.967   1.561   2.405\n",
       "               accuracy mean   56.384  57.455  54.868  58.839  57.568\n",
       "                        std     2.401   1.575   1.379   1.923   2.446\n",
       "traj_len       traj_len total    2428    1878    1438    1120     872\n",
       "                        Car      1214     939     719     560     436\n",
       "                        Taxi     1214     939     719     560     436"
      ]
     },
     "execution_count": 144,
     "metadata": {},
     "output_type": "execute_result"
    }
   ],
   "source": [
    "#traj_lens = [349]\n",
    "traj_lens = np.arange(250,500, step=50)\n",
    "models = {\n",
    "        'Random Forest': Pipeline([('scaler', StandardScaler()), ('rf', RandomForestClassifier())]),\n",
    "        'AdaBoost':Pipeline([('scaler', StandardScaler()), ('abc', AdaBoostClassifier())]) ,\n",
    "        'SVM': Pipeline([('scaler', StandardScaler()), ('svc', SVC(max_iter=10000))]) ,\n",
    "        'Log Regression': Pipeline([('scaler', StandardScaler()), ('lr', LogisticRegression(max_iter=10000))]) \n",
    "    }\n",
    "    \n",
    "df_acc = pd.DataFrame(index=pd.MultiIndex.from_product([models.keys(),['f1_score','accuracy'], ['mean','std']]), columns=traj_lens)\n",
    "\n",
    "k = 5\n",
    "kf = StratifiedKFold(n_splits=k, shuffle=True)\n",
    "accs = np.zeros(k)\n",
    "f1 = np.zeros(k)\n",
    "    \n",
    "for traj_len in traj_lens:\n",
    "\n",
    "    df_traj_list = df.groupby(['id','file_name']).count()['lat'].reset_index()\n",
    "    df_traj_list = df_traj_list[df_traj_list.lat >= traj_len]\n",
    "    df2 = df[df.index.droplevel('time').isin(df_traj_list.set_index(['file_name','id']).index.to_list())].copy()\n",
    "    \n",
    "    df2 = reset_traj_and_split(df2, traj_len-1)\n",
    "    \n",
    "    df3 = df2.reset_index()[[\"id\",\"file_name\",\"traj\",\"speed\"]]\n",
    "    df3[\"speed_bool\"]= df3[\"speed\"]>0.001\n",
    "    df3 = df3.groupby([\"file_name\",\"id\",\"traj\"]).sum([\"speed_bool\"])\n",
    "    df2 = df2[df2.index.droplevel(3).isin(df3[df3.speed_bool >= traj_len*0.90].index.to_list())]\n",
    "\n",
    "    X,y = agg(df2)\n",
    "    print(\"No of trajectories: \",len(X))\n",
    "    df_acc.loc[('traj_len','traj_len','total'), traj_len] = len(X)\n",
    "    df_acc.loc[('traj_len','traj_len','Car'), traj_len] = sum(y == 'Car')\n",
    "    df_acc.loc[('traj_len','traj_len','Taxi'), traj_len] = sum(y == 'Taxi')\n",
    "    #print(df_acc)\n",
    "    for name, model in models.items():\n",
    "        for i, (train_index, test_index) in enumerate(kf.split(X,y)):\n",
    "            accs[i],f1[i] = train_and_accuracy(X, y, model)\n",
    "            \n",
    "\n",
    "        df_acc.loc[(name, 'accuracy','mean'), traj_len] = round(100*accs.mean(), 3)\n",
    "        df_acc.loc[(name, 'accuracy','std'), traj_len] = round(100*accs.std(), 3)\n",
    "        df_acc.loc[(name, 'f1_score','mean'), traj_len] = round(100*f1.mean(), 3)\n",
    "        df_acc.loc[(name, 'f1_score','std'), traj_len] = round(100*f1.std(), 3)\n",
    "\n",
    "        print(name, 'complete.')\n",
    "        \n",
    "    print('trajectory length', traj_len, 'complete.')\n",
    "df_acc"
   ]
  },
  {
   "cell_type": "code",
   "execution_count": 59,
   "metadata": {},
   "outputs": [],
   "source": [
    "df_acc.to_pickle(\"acc_50p_0_lane_filter_f1.pkl\")"
   ]
  }
 ],
 "metadata": {
  "kernelspec": {
   "display_name": "Python 3",
   "language": "python",
   "name": "python3"
  },
  "language_info": {
   "codemirror_mode": {
    "name": "ipython",
    "version": 3
   },
   "file_extension": ".py",
   "mimetype": "text/x-python",
   "name": "python",
   "nbconvert_exporter": "python",
   "pygments_lexer": "ipython3",
   "version": "3.9.1"
  }
 },
 "nbformat": 4,
 "nbformat_minor": 4
}
