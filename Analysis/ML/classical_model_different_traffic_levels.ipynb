{
 "cells": [
  {
   "cell_type": "code",
   "execution_count": null,
   "metadata": {},
   "outputs": [],
   "source": [
    "\"\"\"classical_models.ipynb\n",
    "by: Archie Gertsman (arkadiy2@illinois.edu)\n",
    "Project director: Richard Sowers\n",
    "r-sowers@illinois.eduhttps://publish.illinois.edu/r-sowers/\n",
    "Copyright 2019 University of Illinois Board of Trustees. All Rights Reserved. Licensed under the MIT license\n",
    "\"\"\""
   ]
  },
  {
   "cell_type": "code",
   "execution_count": 1,
   "metadata": {},
   "outputs": [],
   "source": [
    "\n",
    "import pandas as pd\n",
    "import numpy as np\n",
    "from feature_eng import split_trajectories\n",
    "import matplotlib.pyplot as plt\n",
    "from sklearn.metrics import f1_score\n",
    "from sklearn.ensemble import RandomForestClassifier, AdaBoostClassifier\n",
    "from sklearn.svm import SVC\n",
    "from sklearn.linear_model import LogisticRegression\n",
    "from sklearn.model_selection import StratifiedKFold\n",
    "from sklearn.pipeline import Pipeline\n",
    "from sklearn.preprocessing import StandardScaler"
   ]
  },
  {
   "cell_type": "code",
   "execution_count": 16,
   "metadata": {},
   "outputs": [
    {
     "data": {
      "text/html": [
       "<div>\n",
       "<style scoped>\n",
       "    .dataframe tbody tr th:only-of-type {\n",
       "        vertical-align: middle;\n",
       "    }\n",
       "\n",
       "    .dataframe tbody tr th {\n",
       "        vertical-align: top;\n",
       "    }\n",
       "\n",
       "    .dataframe thead th {\n",
       "        text-align: right;\n",
       "    }\n",
       "</style>\n",
       "<table border=\"1\" class=\"dataframe\">\n",
       "  <thead>\n",
       "    <tr style=\"text-align: right;\">\n",
       "      <th></th>\n",
       "      <th></th>\n",
       "      <th></th>\n",
       "      <th>lat</th>\n",
       "      <th>lon</th>\n",
       "      <th>speed</th>\n",
       "      <th>lon_acc</th>\n",
       "      <th>lat_acc</th>\n",
       "      <th>type</th>\n",
       "      <th>traveled_d</th>\n",
       "      <th>avg_speed</th>\n",
       "      <th>bearing</th>\n",
       "      <th>nearest_edge_start_node</th>\n",
       "      <th>...</th>\n",
       "      <th>xtrack_dist</th>\n",
       "      <th>time_stamp</th>\n",
       "      <th>edge_progress_intervals</th>\n",
       "      <th>edge_id</th>\n",
       "      <th>len</th>\n",
       "      <th>lanes</th>\n",
       "      <th>node_veh_dist</th>\n",
       "      <th>edge_seg</th>\n",
       "      <th>vehicle_density</th>\n",
       "      <th>avg_surr_speed</th>\n",
       "    </tr>\n",
       "    <tr>\n",
       "      <th>file_name</th>\n",
       "      <th>id</th>\n",
       "      <th>time</th>\n",
       "      <th></th>\n",
       "      <th></th>\n",
       "      <th></th>\n",
       "      <th></th>\n",
       "      <th></th>\n",
       "      <th></th>\n",
       "      <th></th>\n",
       "      <th></th>\n",
       "      <th></th>\n",
       "      <th></th>\n",
       "      <th></th>\n",
       "      <th></th>\n",
       "      <th></th>\n",
       "      <th></th>\n",
       "      <th></th>\n",
       "      <th></th>\n",
       "      <th></th>\n",
       "      <th></th>\n",
       "      <th></th>\n",
       "      <th></th>\n",
       "      <th></th>\n",
       "    </tr>\n",
       "  </thead>\n",
       "  <tbody>\n",
       "    <tr>\n",
       "      <th rowspan=\"5\" valign=\"top\">4_1</th>\n",
       "      <th rowspan=\"5\" valign=\"top\">1</th>\n",
       "      <th>42.00</th>\n",
       "      <td>37.982746</td>\n",
       "      <td>23.732961</td>\n",
       "      <td>11.9046</td>\n",
       "      <td>-0.1145</td>\n",
       "      <td>0.0138</td>\n",
       "      <td>Taxi</td>\n",
       "      <td>182.37</td>\n",
       "      <td>9.740748</td>\n",
       "      <td>1.570795</td>\n",
       "      <td>250699362</td>\n",
       "      <td>...</td>\n",
       "      <td>-1.883401</td>\n",
       "      <td>42.00</td>\n",
       "      <td>0.3</td>\n",
       "      <td>250699362_250699984</td>\n",
       "      <td>97.581</td>\n",
       "      <td>5.4</td>\n",
       "      <td>29.814330</td>\n",
       "      <td>1.0</td>\n",
       "      <td>7</td>\n",
       "      <td>10.464171</td>\n",
       "    </tr>\n",
       "    <tr>\n",
       "      <th>42.04</th>\n",
       "      <td>37.982746</td>\n",
       "      <td>23.732963</td>\n",
       "      <td>11.8975</td>\n",
       "      <td>-0.1007</td>\n",
       "      <td>0.0147</td>\n",
       "      <td>Taxi</td>\n",
       "      <td>182.37</td>\n",
       "      <td>9.740748</td>\n",
       "      <td>0.168572</td>\n",
       "      <td>250699362</td>\n",
       "      <td>...</td>\n",
       "      <td>-1.980795</td>\n",
       "      <td>42.04</td>\n",
       "      <td>0.3</td>\n",
       "      <td>250699362_250699984</td>\n",
       "      <td>97.581</td>\n",
       "      <td>5.4</td>\n",
       "      <td>29.674830</td>\n",
       "      <td>1.0</td>\n",
       "      <td>7</td>\n",
       "      <td>10.457843</td>\n",
       "    </tr>\n",
       "    <tr>\n",
       "      <th>42.08</th>\n",
       "      <td>37.982747</td>\n",
       "      <td>23.732964</td>\n",
       "      <td>11.8919</td>\n",
       "      <td>-0.0918</td>\n",
       "      <td>0.0157</td>\n",
       "      <td>Taxi</td>\n",
       "      <td>182.37</td>\n",
       "      <td>9.740748</td>\n",
       "      <td>0.168573</td>\n",
       "      <td>250699362</td>\n",
       "      <td>...</td>\n",
       "      <td>-1.937041</td>\n",
       "      <td>42.08</td>\n",
       "      <td>0.3</td>\n",
       "      <td>250699362_250699984</td>\n",
       "      <td>97.581</td>\n",
       "      <td>5.4</td>\n",
       "      <td>29.537753</td>\n",
       "      <td>1.0</td>\n",
       "      <td>7</td>\n",
       "      <td>10.452857</td>\n",
       "    </tr>\n",
       "    <tr>\n",
       "      <th>42.12</th>\n",
       "      <td>37.982748</td>\n",
       "      <td>23.732965</td>\n",
       "      <td>11.8871</td>\n",
       "      <td>-0.0869</td>\n",
       "      <td>0.0167</td>\n",
       "      <td>Taxi</td>\n",
       "      <td>182.37</td>\n",
       "      <td>9.740748</td>\n",
       "      <td>1.570796</td>\n",
       "      <td>250699362</td>\n",
       "      <td>...</td>\n",
       "      <td>-1.893287</td>\n",
       "      <td>42.12</td>\n",
       "      <td>0.3</td>\n",
       "      <td>250699362_250699984</td>\n",
       "      <td>97.581</td>\n",
       "      <td>5.4</td>\n",
       "      <td>29.400718</td>\n",
       "      <td>1.0</td>\n",
       "      <td>7</td>\n",
       "      <td>10.448586</td>\n",
       "    </tr>\n",
       "    <tr>\n",
       "      <th>42.16</th>\n",
       "      <td>37.982748</td>\n",
       "      <td>23.732966</td>\n",
       "      <td>11.8831</td>\n",
       "      <td>-0.0784</td>\n",
       "      <td>0.0176</td>\n",
       "      <td>Taxi</td>\n",
       "      <td>182.37</td>\n",
       "      <td>9.740748</td>\n",
       "      <td>0.328080</td>\n",
       "      <td>250699362</td>\n",
       "      <td>...</td>\n",
       "      <td>-1.941984</td>\n",
       "      <td>42.16</td>\n",
       "      <td>0.3</td>\n",
       "      <td>250699362_250699984</td>\n",
       "      <td>97.581</td>\n",
       "      <td>5.4</td>\n",
       "      <td>29.330986</td>\n",
       "      <td>1.0</td>\n",
       "      <td>7</td>\n",
       "      <td>10.444986</td>\n",
       "    </tr>\n",
       "  </tbody>\n",
       "</table>\n",
       "<p>5 rows × 23 columns</p>\n",
       "</div>"
      ],
      "text/plain": [
       "                          lat        lon    speed  lon_acc  lat_acc  type  \\\n",
       "file_name id time                                                           \n",
       "4_1       1  42.00  37.982746  23.732961  11.9046  -0.1145   0.0138  Taxi   \n",
       "             42.04  37.982746  23.732963  11.8975  -0.1007   0.0147  Taxi   \n",
       "             42.08  37.982747  23.732964  11.8919  -0.0918   0.0157  Taxi   \n",
       "             42.12  37.982748  23.732965  11.8871  -0.0869   0.0167  Taxi   \n",
       "             42.16  37.982748  23.732966  11.8831  -0.0784   0.0176  Taxi   \n",
       "\n",
       "                    traveled_d  avg_speed   bearing  nearest_edge_start_node  \\\n",
       "file_name id time                                                              \n",
       "4_1       1  42.00      182.37   9.740748  1.570795                250699362   \n",
       "             42.04      182.37   9.740748  0.168572                250699362   \n",
       "             42.08      182.37   9.740748  0.168573                250699362   \n",
       "             42.12      182.37   9.740748  1.570796                250699362   \n",
       "             42.16      182.37   9.740748  0.328080                250699362   \n",
       "\n",
       "                    ...  xtrack_dist  time_stamp  edge_progress_intervals  \\\n",
       "file_name id time   ...                                                     \n",
       "4_1       1  42.00  ...    -1.883401       42.00                      0.3   \n",
       "             42.04  ...    -1.980795       42.04                      0.3   \n",
       "             42.08  ...    -1.937041       42.08                      0.3   \n",
       "             42.12  ...    -1.893287       42.12                      0.3   \n",
       "             42.16  ...    -1.941984       42.16                      0.3   \n",
       "\n",
       "                                edge_id     len  lanes node_veh_dist  \\\n",
       "file_name id time                                                      \n",
       "4_1       1  42.00  250699362_250699984  97.581    5.4     29.814330   \n",
       "             42.04  250699362_250699984  97.581    5.4     29.674830   \n",
       "             42.08  250699362_250699984  97.581    5.4     29.537753   \n",
       "             42.12  250699362_250699984  97.581    5.4     29.400718   \n",
       "             42.16  250699362_250699984  97.581    5.4     29.330986   \n",
       "\n",
       "                    edge_seg  vehicle_density  avg_surr_speed  \n",
       "file_name id time                                              \n",
       "4_1       1  42.00       1.0                7       10.464171  \n",
       "             42.04       1.0                7       10.457843  \n",
       "             42.08       1.0                7       10.452857  \n",
       "             42.12       1.0                7       10.448586  \n",
       "             42.16       1.0                7       10.444986  \n",
       "\n",
       "[5 rows x 23 columns]"
      ]
     },
     "execution_count": 16,
     "metadata": {},
     "output_type": "execute_result"
    }
   ],
   "source": [
    "df = pd.read_pickle('block4_concat_lane.pkl')\n",
    "#df = pd.read_pickle('block4_edge_filter.pkl')\n",
    "df.head()"
   ]
  },
  {
   "cell_type": "code",
   "execution_count": 17,
   "metadata": {},
   "outputs": [],
   "source": [
    "#def lane_changes(df,xtrack_dist = 1):\n",
    "def __xtrack_dist(df):\n",
    "    \"\"\"splits a vehicle trajectory into smaller trajectories of fixed size and removes\n",
    "    the last (len(df) mod size) riws\n",
    "    \"\"\"\n",
    "    \n",
    "    df[\"xtrack_diff\"] = df.loc[:,['xtrack_dist']]- df.loc[:,['xtrack_dist']].shift(-1)\n",
    "    df[\"xtrack_diff\"]=df['xtrack_diff'].fillna(0)\n",
    "    return df\n",
    "\n",
    "\n",
    "df = df.groupby(['file_name','id'], as_index=False, group_keys=False) \\\n",
    "            .apply(__xtrack_dist)"
   ]
  },
  {
   "cell_type": "code",
   "execution_count": 18,
   "metadata": {},
   "outputs": [],
   "source": [
    "def reset_traj_and_split(df, traj_len):\n",
    "    #df.index = df.index.droplevel(1)\n",
    "    return split_trajectories(df, traj_len)"
   ]
  },
  {
   "cell_type": "code",
   "execution_count": 19,
   "metadata": {},
   "outputs": [],
   "source": [
    "def agg(df):\n",
    "    df['xtrack_diff_sq'] = df['xtrack_diff']**2\n",
    "    df_agg = df[np.isin(df['type'], ['Car','Taxi'])] \\\n",
    "        .groupby(['id', 'traj']).agg({\n",
    "            'xtrack_diff_sq': ['mean','std','skew','max','min',pd.DataFrame.kurt,'sum'],\n",
    "            'xtrack_diff': ['mean','std','skew',pd.DataFrame.kurt],\n",
    "            'xtrack_dist': ['mean','std','skew',pd.DataFrame.kurt],\n",
    "            'avg_surr_speed': ['mean','std','skew',pd.DataFrame.kurt],\n",
    "            'lanes':['mean'],\n",
    "            'len':['mean'],\n",
    "            'speed':['mean','std','skew',pd.DataFrame.kurt,'sum'],\n",
    "            'vehicle_density': ['mean','std','skew',pd.DataFrame.kurt],\n",
    "            'lon_acc': ['mean','std','max','min','skew', pd.DataFrame.kurt],\n",
    "            'lat_acc': ['mean','std','max','min', 'skew', pd.DataFrame.kurt],\n",
    "            'type': 'first'\n",
    "        }) \\\n",
    "        .reset_index(drop=True)\n",
    "    #df_agg1 = df_agg.copy()\n",
    "    \n",
    "    df_agg.columns = ['_'.join(col) for col in df_agg.columns]\n",
    "    df_agg.speed_sum = df_agg.speed_sum*0.04\n",
    "    df_agg.rename(columns={'type_first':'type'}, inplace=True)\n",
    "    g = df_agg.groupby('type')\n",
    "    df_agg = g.apply(lambda group: group.sample(g.size().min())).reset_index(drop=True)\n",
    "    X,y = df_agg.drop('type', axis=1), df_agg['type']\n",
    "    \n",
    "    return X,y\n"
   ]
  },
  {
   "cell_type": "code",
   "execution_count": 20,
   "metadata": {},
   "outputs": [],
   "source": [
    "def train_and_accuracy(X, y, model):\n",
    "    X_train, X_test = X.iloc[train_index], X.iloc[test_index]\n",
    "    y_train, y_test = y.iloc[train_index], y.iloc[test_index]\n",
    "\n",
    "    model.fit(X_train, y_train)\n",
    "    y_hat = model.predict(X_test)\n",
    "    #print(y_hat)\n",
    "    a = y_hat==y_test\n",
    "    \n",
    "    f = f1_score((y_test == 'Car').astype(int),(y_hat == 'Car').astype(int))\n",
    "    return len(a[a==True]) / len(y_test),f\n"
   ]
  },
  {
   "cell_type": "code",
   "execution_count": 8,
   "metadata": {},
   "outputs": [
    {
     "data": {
      "text/html": [
       "<div>\n",
       "<style scoped>\n",
       "    .dataframe tbody tr th:only-of-type {\n",
       "        vertical-align: middle;\n",
       "    }\n",
       "\n",
       "    .dataframe tbody tr th {\n",
       "        vertical-align: top;\n",
       "    }\n",
       "\n",
       "    .dataframe thead th {\n",
       "        text-align: right;\n",
       "    }\n",
       "</style>\n",
       "<table border=\"1\" class=\"dataframe\">\n",
       "  <thead>\n",
       "    <tr style=\"text-align: right;\">\n",
       "      <th></th>\n",
       "      <th></th>\n",
       "      <th></th>\n",
       "      <th>lat</th>\n",
       "      <th>lon</th>\n",
       "      <th>speed</th>\n",
       "      <th>lon_acc</th>\n",
       "      <th>lat_acc</th>\n",
       "      <th>type</th>\n",
       "      <th>traveled_d</th>\n",
       "      <th>avg_speed</th>\n",
       "      <th>bearing</th>\n",
       "      <th>nearest_edge_start_node</th>\n",
       "      <th>...</th>\n",
       "      <th>time_stamp</th>\n",
       "      <th>edge_progress_intervals</th>\n",
       "      <th>edge_id</th>\n",
       "      <th>len</th>\n",
       "      <th>lanes</th>\n",
       "      <th>node_veh_dist</th>\n",
       "      <th>edge_seg</th>\n",
       "      <th>vehicle_density</th>\n",
       "      <th>avg_surr_speed</th>\n",
       "      <th>xtrack_diff</th>\n",
       "    </tr>\n",
       "    <tr>\n",
       "      <th>file_name</th>\n",
       "      <th>id</th>\n",
       "      <th>time</th>\n",
       "      <th></th>\n",
       "      <th></th>\n",
       "      <th></th>\n",
       "      <th></th>\n",
       "      <th></th>\n",
       "      <th></th>\n",
       "      <th></th>\n",
       "      <th></th>\n",
       "      <th></th>\n",
       "      <th></th>\n",
       "      <th></th>\n",
       "      <th></th>\n",
       "      <th></th>\n",
       "      <th></th>\n",
       "      <th></th>\n",
       "      <th></th>\n",
       "      <th></th>\n",
       "      <th></th>\n",
       "      <th></th>\n",
       "      <th></th>\n",
       "      <th></th>\n",
       "    </tr>\n",
       "  </thead>\n",
       "  <tbody>\n",
       "    <tr>\n",
       "      <th rowspan=\"5\" valign=\"top\">4_1</th>\n",
       "      <th rowspan=\"5\" valign=\"top\">1</th>\n",
       "      <th>42.00</th>\n",
       "      <td>37.982746</td>\n",
       "      <td>23.732961</td>\n",
       "      <td>11.9046</td>\n",
       "      <td>-0.1145</td>\n",
       "      <td>0.0138</td>\n",
       "      <td>Taxi</td>\n",
       "      <td>182.37</td>\n",
       "      <td>9.740748</td>\n",
       "      <td>1.570795</td>\n",
       "      <td>250699362</td>\n",
       "      <td>...</td>\n",
       "      <td>42.00</td>\n",
       "      <td>0.3</td>\n",
       "      <td>250699362_250699984</td>\n",
       "      <td>97.581</td>\n",
       "      <td>5.4</td>\n",
       "      <td>29.814330</td>\n",
       "      <td>1.0</td>\n",
       "      <td>7</td>\n",
       "      <td>10.464171</td>\n",
       "      <td>0.097394</td>\n",
       "    </tr>\n",
       "    <tr>\n",
       "      <th>42.04</th>\n",
       "      <td>37.982746</td>\n",
       "      <td>23.732963</td>\n",
       "      <td>11.8975</td>\n",
       "      <td>-0.1007</td>\n",
       "      <td>0.0147</td>\n",
       "      <td>Taxi</td>\n",
       "      <td>182.37</td>\n",
       "      <td>9.740748</td>\n",
       "      <td>0.168572</td>\n",
       "      <td>250699362</td>\n",
       "      <td>...</td>\n",
       "      <td>42.04</td>\n",
       "      <td>0.3</td>\n",
       "      <td>250699362_250699984</td>\n",
       "      <td>97.581</td>\n",
       "      <td>5.4</td>\n",
       "      <td>29.674830</td>\n",
       "      <td>1.0</td>\n",
       "      <td>7</td>\n",
       "      <td>10.457843</td>\n",
       "      <td>-0.043754</td>\n",
       "    </tr>\n",
       "    <tr>\n",
       "      <th>42.08</th>\n",
       "      <td>37.982747</td>\n",
       "      <td>23.732964</td>\n",
       "      <td>11.8919</td>\n",
       "      <td>-0.0918</td>\n",
       "      <td>0.0157</td>\n",
       "      <td>Taxi</td>\n",
       "      <td>182.37</td>\n",
       "      <td>9.740748</td>\n",
       "      <td>0.168573</td>\n",
       "      <td>250699362</td>\n",
       "      <td>...</td>\n",
       "      <td>42.08</td>\n",
       "      <td>0.3</td>\n",
       "      <td>250699362_250699984</td>\n",
       "      <td>97.581</td>\n",
       "      <td>5.4</td>\n",
       "      <td>29.537753</td>\n",
       "      <td>1.0</td>\n",
       "      <td>7</td>\n",
       "      <td>10.452857</td>\n",
       "      <td>-0.043754</td>\n",
       "    </tr>\n",
       "    <tr>\n",
       "      <th>42.12</th>\n",
       "      <td>37.982748</td>\n",
       "      <td>23.732965</td>\n",
       "      <td>11.8871</td>\n",
       "      <td>-0.0869</td>\n",
       "      <td>0.0167</td>\n",
       "      <td>Taxi</td>\n",
       "      <td>182.37</td>\n",
       "      <td>9.740748</td>\n",
       "      <td>1.570796</td>\n",
       "      <td>250699362</td>\n",
       "      <td>...</td>\n",
       "      <td>42.12</td>\n",
       "      <td>0.3</td>\n",
       "      <td>250699362_250699984</td>\n",
       "      <td>97.581</td>\n",
       "      <td>5.4</td>\n",
       "      <td>29.400718</td>\n",
       "      <td>1.0</td>\n",
       "      <td>7</td>\n",
       "      <td>10.448586</td>\n",
       "      <td>0.048697</td>\n",
       "    </tr>\n",
       "    <tr>\n",
       "      <th>42.16</th>\n",
       "      <td>37.982748</td>\n",
       "      <td>23.732966</td>\n",
       "      <td>11.8831</td>\n",
       "      <td>-0.0784</td>\n",
       "      <td>0.0176</td>\n",
       "      <td>Taxi</td>\n",
       "      <td>182.37</td>\n",
       "      <td>9.740748</td>\n",
       "      <td>0.328080</td>\n",
       "      <td>250699362</td>\n",
       "      <td>...</td>\n",
       "      <td>42.16</td>\n",
       "      <td>0.3</td>\n",
       "      <td>250699362_250699984</td>\n",
       "      <td>97.581</td>\n",
       "      <td>5.4</td>\n",
       "      <td>29.330986</td>\n",
       "      <td>1.0</td>\n",
       "      <td>7</td>\n",
       "      <td>10.444986</td>\n",
       "      <td>0.004943</td>\n",
       "    </tr>\n",
       "    <tr>\n",
       "      <th>...</th>\n",
       "      <th>...</th>\n",
       "      <th>...</th>\n",
       "      <td>...</td>\n",
       "      <td>...</td>\n",
       "      <td>...</td>\n",
       "      <td>...</td>\n",
       "      <td>...</td>\n",
       "      <td>...</td>\n",
       "      <td>...</td>\n",
       "      <td>...</td>\n",
       "      <td>...</td>\n",
       "      <td>...</td>\n",
       "      <td>...</td>\n",
       "      <td>...</td>\n",
       "      <td>...</td>\n",
       "      <td>...</td>\n",
       "      <td>...</td>\n",
       "      <td>...</td>\n",
       "      <td>...</td>\n",
       "      <td>...</td>\n",
       "      <td>...</td>\n",
       "      <td>...</td>\n",
       "      <td>...</td>\n",
       "    </tr>\n",
       "    <tr>\n",
       "      <th rowspan=\"5\" valign=\"top\">1_3</th>\n",
       "      <th rowspan=\"5\" valign=\"top\">2116</th>\n",
       "      <th>921.64</th>\n",
       "      <td>37.981674</td>\n",
       "      <td>23.735746</td>\n",
       "      <td>25.3482</td>\n",
       "      <td>-0.3011</td>\n",
       "      <td>0.3234</td>\n",
       "      <td>Car</td>\n",
       "      <td>66.63</td>\n",
       "      <td>23.064621</td>\n",
       "      <td>-0.057578</td>\n",
       "      <td>300400248</td>\n",
       "      <td>...</td>\n",
       "      <td>NaN</td>\n",
       "      <td>0.4</td>\n",
       "      <td>300400248_8446047162</td>\n",
       "      <td>106.837</td>\n",
       "      <td>6.5</td>\n",
       "      <td>52.205948</td>\n",
       "      <td>2.0</td>\n",
       "      <td>2</td>\n",
       "      <td>26.005850</td>\n",
       "      <td>-0.106162</td>\n",
       "    </tr>\n",
       "    <tr>\n",
       "      <th>921.68</th>\n",
       "      <td>37.981677</td>\n",
       "      <td>23.735745</td>\n",
       "      <td>25.3217</td>\n",
       "      <td>-0.3032</td>\n",
       "      <td>0.3216</td>\n",
       "      <td>Car</td>\n",
       "      <td>66.63</td>\n",
       "      <td>23.064621</td>\n",
       "      <td>-0.171231</td>\n",
       "      <td>300400248</td>\n",
       "      <td>...</td>\n",
       "      <td>NaN</td>\n",
       "      <td>0.4</td>\n",
       "      <td>300400248_8446047162</td>\n",
       "      <td>106.837</td>\n",
       "      <td>6.5</td>\n",
       "      <td>52.535125</td>\n",
       "      <td>2.0</td>\n",
       "      <td>2</td>\n",
       "      <td>26.008150</td>\n",
       "      <td>0.027622</td>\n",
       "    </tr>\n",
       "    <tr>\n",
       "      <th>921.72</th>\n",
       "      <td>37.981679</td>\n",
       "      <td>23.735743</td>\n",
       "      <td>25.2946</td>\n",
       "      <td>-0.3012</td>\n",
       "      <td>0.3180</td>\n",
       "      <td>Car</td>\n",
       "      <td>66.63</td>\n",
       "      <td>23.064621</td>\n",
       "      <td>-0.086247</td>\n",
       "      <td>300400248</td>\n",
       "      <td>...</td>\n",
       "      <td>NaN</td>\n",
       "      <td>0.4</td>\n",
       "      <td>300400248_8446047162</td>\n",
       "      <td>106.837</td>\n",
       "      <td>6.5</td>\n",
       "      <td>52.816624</td>\n",
       "      <td>2.0</td>\n",
       "      <td>2</td>\n",
       "      <td>26.010500</td>\n",
       "      <td>-0.046176</td>\n",
       "    </tr>\n",
       "    <tr>\n",
       "      <th>921.76</th>\n",
       "      <td>37.981681</td>\n",
       "      <td>23.735742</td>\n",
       "      <td>25.2667</td>\n",
       "      <td>-0.3054</td>\n",
       "      <td>0.3124</td>\n",
       "      <td>Car</td>\n",
       "      <td>66.63</td>\n",
       "      <td>23.064621</td>\n",
       "      <td>-0.171228</td>\n",
       "      <td>300400248</td>\n",
       "      <td>...</td>\n",
       "      <td>NaN</td>\n",
       "      <td>0.4</td>\n",
       "      <td>300400248_8446047162</td>\n",
       "      <td>106.837</td>\n",
       "      <td>6.5</td>\n",
       "      <td>53.051626</td>\n",
       "      <td>2.0</td>\n",
       "      <td>2</td>\n",
       "      <td>26.012950</td>\n",
       "      <td>0.027622</td>\n",
       "    </tr>\n",
       "    <tr>\n",
       "      <th>921.80</th>\n",
       "      <td>37.981683</td>\n",
       "      <td>23.735740</td>\n",
       "      <td>25.2370</td>\n",
       "      <td>-0.3135</td>\n",
       "      <td>0.3045</td>\n",
       "      <td>Car</td>\n",
       "      <td>66.63</td>\n",
       "      <td>23.064621</td>\n",
       "      <td>NaN</td>\n",
       "      <td>300400248</td>\n",
       "      <td>...</td>\n",
       "      <td>NaN</td>\n",
       "      <td>0.4</td>\n",
       "      <td>300400248_8446047162</td>\n",
       "      <td>106.837</td>\n",
       "      <td>6.5</td>\n",
       "      <td>53.333119</td>\n",
       "      <td>2.0</td>\n",
       "      <td>2</td>\n",
       "      <td>26.015600</td>\n",
       "      <td>0.000000</td>\n",
       "    </tr>\n",
       "  </tbody>\n",
       "</table>\n",
       "<p>2114734 rows × 24 columns</p>\n",
       "</div>"
      ],
      "text/plain": [
       "                             lat        lon    speed  lon_acc  lat_acc  type  \\\n",
       "file_name id   time                                                            \n",
       "4_1       1    42.00   37.982746  23.732961  11.9046  -0.1145   0.0138  Taxi   \n",
       "               42.04   37.982746  23.732963  11.8975  -0.1007   0.0147  Taxi   \n",
       "               42.08   37.982747  23.732964  11.8919  -0.0918   0.0157  Taxi   \n",
       "               42.12   37.982748  23.732965  11.8871  -0.0869   0.0167  Taxi   \n",
       "               42.16   37.982748  23.732966  11.8831  -0.0784   0.0176  Taxi   \n",
       "...                          ...        ...      ...      ...      ...   ...   \n",
       "1_3       2116 921.64  37.981674  23.735746  25.3482  -0.3011   0.3234   Car   \n",
       "               921.68  37.981677  23.735745  25.3217  -0.3032   0.3216   Car   \n",
       "               921.72  37.981679  23.735743  25.2946  -0.3012   0.3180   Car   \n",
       "               921.76  37.981681  23.735742  25.2667  -0.3054   0.3124   Car   \n",
       "               921.80  37.981683  23.735740  25.2370  -0.3135   0.3045   Car   \n",
       "\n",
       "                       traveled_d  avg_speed   bearing  \\\n",
       "file_name id   time                                      \n",
       "4_1       1    42.00       182.37   9.740748  1.570795   \n",
       "               42.04       182.37   9.740748  0.168572   \n",
       "               42.08       182.37   9.740748  0.168573   \n",
       "               42.12       182.37   9.740748  1.570796   \n",
       "               42.16       182.37   9.740748  0.328080   \n",
       "...                           ...        ...       ...   \n",
       "1_3       2116 921.64       66.63  23.064621 -0.057578   \n",
       "               921.68       66.63  23.064621 -0.171231   \n",
       "               921.72       66.63  23.064621 -0.086247   \n",
       "               921.76       66.63  23.064621 -0.171228   \n",
       "               921.80       66.63  23.064621       NaN   \n",
       "\n",
       "                       nearest_edge_start_node  ...  time_stamp  \\\n",
       "file_name id   time                             ...               \n",
       "4_1       1    42.00                 250699362  ...       42.00   \n",
       "               42.04                 250699362  ...       42.04   \n",
       "               42.08                 250699362  ...       42.08   \n",
       "               42.12                 250699362  ...       42.12   \n",
       "               42.16                 250699362  ...       42.16   \n",
       "...                                        ...  ...         ...   \n",
       "1_3       2116 921.64                300400248  ...         NaN   \n",
       "               921.68                300400248  ...         NaN   \n",
       "               921.72                300400248  ...         NaN   \n",
       "               921.76                300400248  ...         NaN   \n",
       "               921.80                300400248  ...         NaN   \n",
       "\n",
       "                       edge_progress_intervals               edge_id      len  \\\n",
       "file_name id   time                                                             \n",
       "4_1       1    42.00                       0.3   250699362_250699984   97.581   \n",
       "               42.04                       0.3   250699362_250699984   97.581   \n",
       "               42.08                       0.3   250699362_250699984   97.581   \n",
       "               42.12                       0.3   250699362_250699984   97.581   \n",
       "               42.16                       0.3   250699362_250699984   97.581   \n",
       "...                                        ...                   ...      ...   \n",
       "1_3       2116 921.64                      0.4  300400248_8446047162  106.837   \n",
       "               921.68                      0.4  300400248_8446047162  106.837   \n",
       "               921.72                      0.4  300400248_8446047162  106.837   \n",
       "               921.76                      0.4  300400248_8446047162  106.837   \n",
       "               921.80                      0.4  300400248_8446047162  106.837   \n",
       "\n",
       "                       lanes  node_veh_dist edge_seg  vehicle_density  \\\n",
       "file_name id   time                                                     \n",
       "4_1       1    42.00     5.4      29.814330      1.0                7   \n",
       "               42.04     5.4      29.674830      1.0                7   \n",
       "               42.08     5.4      29.537753      1.0                7   \n",
       "               42.12     5.4      29.400718      1.0                7   \n",
       "               42.16     5.4      29.330986      1.0                7   \n",
       "...                      ...            ...      ...              ...   \n",
       "1_3       2116 921.64    6.5      52.205948      2.0                2   \n",
       "               921.68    6.5      52.535125      2.0                2   \n",
       "               921.72    6.5      52.816624      2.0                2   \n",
       "               921.76    6.5      53.051626      2.0                2   \n",
       "               921.80    6.5      53.333119      2.0                2   \n",
       "\n",
       "                       avg_surr_speed  xtrack_diff  \n",
       "file_name id   time                                 \n",
       "4_1       1    42.00        10.464171     0.097394  \n",
       "               42.04        10.457843    -0.043754  \n",
       "               42.08        10.452857    -0.043754  \n",
       "               42.12        10.448586     0.048697  \n",
       "               42.16        10.444986     0.004943  \n",
       "...                               ...          ...  \n",
       "1_3       2116 921.64       26.005850    -0.106162  \n",
       "               921.68       26.008150     0.027622  \n",
       "               921.72       26.010500    -0.046176  \n",
       "               921.76       26.012950     0.027622  \n",
       "               921.80       26.015600     0.000000  \n",
       "\n",
       "[2114734 rows x 24 columns]"
      ]
     },
     "execution_count": 8,
     "metadata": {},
     "output_type": "execute_result"
    }
   ],
   "source": [
    "df"
   ]
  },
  {
   "cell_type": "code",
   "execution_count": 22,
   "metadata": {},
   "outputs": [
    {
     "name": "stdout",
     "output_type": "stream",
     "text": [
      "No of trajectories:  2994\n"
     ]
    },
    {
     "name": "stderr",
     "output_type": "stream",
     "text": [
      "C:\\Users\\lloyd\\anaconda3\\envs\\ox\\lib\\site-packages\\IPython\\core\\interactiveshell.py:2886: PerformanceWarning: indexing past lexsort depth may impact performance.\n",
      "  result = self._run_cell(\n",
      "C:\\Users\\lloyd\\anaconda3\\envs\\ox\\lib\\site-packages\\IPython\\core\\interactiveshell.py:2886: PerformanceWarning: indexing past lexsort depth may impact performance.\n",
      "  result = self._run_cell(\n"
     ]
    },
    {
     "name": "stdout",
     "output_type": "stream",
     "text": [
      "Random Forest complete.\n"
     ]
    },
    {
     "name": "stderr",
     "output_type": "stream",
     "text": [
      "C:\\Users\\lloyd\\anaconda3\\envs\\ox\\lib\\site-packages\\IPython\\core\\interactiveshell.py:2886: PerformanceWarning: indexing past lexsort depth may impact performance.\n",
      "  result = self._run_cell(\n"
     ]
    },
    {
     "name": "stdout",
     "output_type": "stream",
     "text": [
      "AdaBoost complete.\n"
     ]
    },
    {
     "name": "stderr",
     "output_type": "stream",
     "text": [
      "C:\\Users\\lloyd\\anaconda3\\envs\\ox\\lib\\site-packages\\IPython\\core\\interactiveshell.py:2886: PerformanceWarning: indexing past lexsort depth may impact performance.\n",
      "  result = self._run_cell(\n"
     ]
    },
    {
     "name": "stdout",
     "output_type": "stream",
     "text": [
      "SVM complete.\n"
     ]
    },
    {
     "name": "stderr",
     "output_type": "stream",
     "text": [
      "C:\\Users\\lloyd\\anaconda3\\envs\\ox\\lib\\site-packages\\IPython\\core\\interactiveshell.py:2886: PerformanceWarning: indexing past lexsort depth may impact performance.\n",
      "  result = self._run_cell(\n"
     ]
    },
    {
     "name": "stdout",
     "output_type": "stream",
     "text": [
      "Log Regression complete.\n",
      "trajectory length 250 complete.\n",
      "No of trajectories:  2394\n"
     ]
    },
    {
     "name": "stderr",
     "output_type": "stream",
     "text": [
      "C:\\Users\\lloyd\\anaconda3\\envs\\ox\\lib\\site-packages\\IPython\\core\\interactiveshell.py:2886: PerformanceWarning: indexing past lexsort depth may impact performance.\n",
      "  result = self._run_cell(\n",
      "C:\\Users\\lloyd\\anaconda3\\envs\\ox\\lib\\site-packages\\IPython\\core\\interactiveshell.py:2886: PerformanceWarning: indexing past lexsort depth may impact performance.\n",
      "  result = self._run_cell(\n"
     ]
    },
    {
     "name": "stdout",
     "output_type": "stream",
     "text": [
      "Random Forest complete.\n"
     ]
    },
    {
     "name": "stderr",
     "output_type": "stream",
     "text": [
      "C:\\Users\\lloyd\\anaconda3\\envs\\ox\\lib\\site-packages\\IPython\\core\\interactiveshell.py:2886: PerformanceWarning: indexing past lexsort depth may impact performance.\n",
      "  result = self._run_cell(\n"
     ]
    },
    {
     "name": "stdout",
     "output_type": "stream",
     "text": [
      "AdaBoost complete.\n"
     ]
    },
    {
     "name": "stderr",
     "output_type": "stream",
     "text": [
      "C:\\Users\\lloyd\\anaconda3\\envs\\ox\\lib\\site-packages\\IPython\\core\\interactiveshell.py:2886: PerformanceWarning: indexing past lexsort depth may impact performance.\n",
      "  result = self._run_cell(\n"
     ]
    },
    {
     "name": "stdout",
     "output_type": "stream",
     "text": [
      "SVM complete.\n"
     ]
    },
    {
     "name": "stderr",
     "output_type": "stream",
     "text": [
      "C:\\Users\\lloyd\\anaconda3\\envs\\ox\\lib\\site-packages\\IPython\\core\\interactiveshell.py:2886: PerformanceWarning: indexing past lexsort depth may impact performance.\n",
      "  result = self._run_cell(\n"
     ]
    },
    {
     "name": "stdout",
     "output_type": "stream",
     "text": [
      "Log Regression complete.\n",
      "trajectory length 300 complete.\n",
      "No of trajectories:  1934\n"
     ]
    },
    {
     "name": "stderr",
     "output_type": "stream",
     "text": [
      "C:\\Users\\lloyd\\anaconda3\\envs\\ox\\lib\\site-packages\\IPython\\core\\interactiveshell.py:2886: PerformanceWarning: indexing past lexsort depth may impact performance.\n",
      "  result = self._run_cell(\n",
      "C:\\Users\\lloyd\\anaconda3\\envs\\ox\\lib\\site-packages\\IPython\\core\\interactiveshell.py:2886: PerformanceWarning: indexing past lexsort depth may impact performance.\n",
      "  result = self._run_cell(\n"
     ]
    },
    {
     "name": "stdout",
     "output_type": "stream",
     "text": [
      "Random Forest complete.\n"
     ]
    },
    {
     "name": "stderr",
     "output_type": "stream",
     "text": [
      "C:\\Users\\lloyd\\anaconda3\\envs\\ox\\lib\\site-packages\\IPython\\core\\interactiveshell.py:2886: PerformanceWarning: indexing past lexsort depth may impact performance.\n",
      "  result = self._run_cell(\n"
     ]
    },
    {
     "name": "stdout",
     "output_type": "stream",
     "text": [
      "AdaBoost complete.\n"
     ]
    },
    {
     "name": "stderr",
     "output_type": "stream",
     "text": [
      "C:\\Users\\lloyd\\anaconda3\\envs\\ox\\lib\\site-packages\\IPython\\core\\interactiveshell.py:2886: PerformanceWarning: indexing past lexsort depth may impact performance.\n",
      "  result = self._run_cell(\n"
     ]
    },
    {
     "name": "stdout",
     "output_type": "stream",
     "text": [
      "SVM complete.\n"
     ]
    },
    {
     "name": "stderr",
     "output_type": "stream",
     "text": [
      "C:\\Users\\lloyd\\anaconda3\\envs\\ox\\lib\\site-packages\\IPython\\core\\interactiveshell.py:2886: PerformanceWarning: indexing past lexsort depth may impact performance.\n",
      "  result = self._run_cell(\n"
     ]
    },
    {
     "name": "stdout",
     "output_type": "stream",
     "text": [
      "Log Regression complete.\n",
      "trajectory length 350 complete.\n",
      "No of trajectories:  1602\n"
     ]
    },
    {
     "name": "stderr",
     "output_type": "stream",
     "text": [
      "C:\\Users\\lloyd\\anaconda3\\envs\\ox\\lib\\site-packages\\IPython\\core\\interactiveshell.py:2886: PerformanceWarning: indexing past lexsort depth may impact performance.\n",
      "  result = self._run_cell(\n",
      "C:\\Users\\lloyd\\anaconda3\\envs\\ox\\lib\\site-packages\\IPython\\core\\interactiveshell.py:2886: PerformanceWarning: indexing past lexsort depth may impact performance.\n",
      "  result = self._run_cell(\n"
     ]
    },
    {
     "name": "stdout",
     "output_type": "stream",
     "text": [
      "Random Forest complete.\n"
     ]
    },
    {
     "name": "stderr",
     "output_type": "stream",
     "text": [
      "C:\\Users\\lloyd\\anaconda3\\envs\\ox\\lib\\site-packages\\IPython\\core\\interactiveshell.py:2886: PerformanceWarning: indexing past lexsort depth may impact performance.\n",
      "  result = self._run_cell(\n"
     ]
    },
    {
     "name": "stdout",
     "output_type": "stream",
     "text": [
      "AdaBoost complete.\n"
     ]
    },
    {
     "name": "stderr",
     "output_type": "stream",
     "text": [
      "C:\\Users\\lloyd\\anaconda3\\envs\\ox\\lib\\site-packages\\IPython\\core\\interactiveshell.py:2886: PerformanceWarning: indexing past lexsort depth may impact performance.\n",
      "  result = self._run_cell(\n",
      "C:\\Users\\lloyd\\anaconda3\\envs\\ox\\lib\\site-packages\\IPython\\core\\interactiveshell.py:2886: PerformanceWarning: indexing past lexsort depth may impact performance.\n",
      "  result = self._run_cell(\n"
     ]
    },
    {
     "name": "stdout",
     "output_type": "stream",
     "text": [
      "SVM complete.\n",
      "Log Regression complete.\n",
      "trajectory length 400 complete.\n",
      "minimum traffic  0\n",
      "                                  250     300     350     400\n",
      "Random Forest  f1_score mean   56.754  57.765  59.394  59.285\n",
      "                        std     1.273    1.84   2.569   3.725\n",
      "               accuracy mean   57.147  58.646  59.619  59.679\n",
      "                        std     1.439   1.547    2.06   3.369\n",
      "AdaBoost       f1_score mean   55.712   56.01  58.477  55.685\n",
      "                        std     2.057   3.189   0.843   6.432\n",
      "               accuracy mean   56.747  57.266  59.411  58.174\n",
      "                        std     1.176    2.78   0.788   5.306\n",
      "SVM            f1_score mean   55.072  55.973  55.404  54.998\n",
      "                        std     2.601   2.277   1.872   1.914\n",
      "               accuracy mean   58.851  59.901  58.841  59.674\n",
      "                        std     1.507   1.545   1.546   1.545\n",
      "Log Regression f1_score mean   54.558  56.343  54.987  56.257\n",
      "                        std     1.804   2.352   1.624   1.992\n",
      "               accuracy mean   56.512  58.397  55.946  57.864\n",
      "                        std     1.463   2.126    1.04   0.975\n",
      "traj_len       traj_len total    2994    2394    1934    1602\n",
      "                        Car      1497    1197     967     801\n",
      "                        Taxi     1497    1197     967     801\n",
      "No of trajectories:  2994\n"
     ]
    },
    {
     "name": "stderr",
     "output_type": "stream",
     "text": [
      "C:\\Users\\lloyd\\anaconda3\\envs\\ox\\lib\\site-packages\\IPython\\core\\interactiveshell.py:2886: PerformanceWarning: indexing past lexsort depth may impact performance.\n",
      "  result = self._run_cell(\n",
      "C:\\Users\\lloyd\\anaconda3\\envs\\ox\\lib\\site-packages\\IPython\\core\\interactiveshell.py:2886: PerformanceWarning: indexing past lexsort depth may impact performance.\n",
      "  result = self._run_cell(\n"
     ]
    },
    {
     "name": "stdout",
     "output_type": "stream",
     "text": [
      "Random Forest complete.\n"
     ]
    },
    {
     "name": "stderr",
     "output_type": "stream",
     "text": [
      "C:\\Users\\lloyd\\anaconda3\\envs\\ox\\lib\\site-packages\\IPython\\core\\interactiveshell.py:2886: PerformanceWarning: indexing past lexsort depth may impact performance.\n",
      "  result = self._run_cell(\n"
     ]
    },
    {
     "name": "stdout",
     "output_type": "stream",
     "text": [
      "AdaBoost complete.\n"
     ]
    },
    {
     "name": "stderr",
     "output_type": "stream",
     "text": [
      "C:\\Users\\lloyd\\anaconda3\\envs\\ox\\lib\\site-packages\\IPython\\core\\interactiveshell.py:2886: PerformanceWarning: indexing past lexsort depth may impact performance.\n",
      "  result = self._run_cell(\n"
     ]
    },
    {
     "name": "stdout",
     "output_type": "stream",
     "text": [
      "SVM complete.\n"
     ]
    },
    {
     "name": "stderr",
     "output_type": "stream",
     "text": [
      "C:\\Users\\lloyd\\anaconda3\\envs\\ox\\lib\\site-packages\\IPython\\core\\interactiveshell.py:2886: PerformanceWarning: indexing past lexsort depth may impact performance.\n",
      "  result = self._run_cell(\n"
     ]
    },
    {
     "name": "stdout",
     "output_type": "stream",
     "text": [
      "Log Regression complete.\n",
      "trajectory length 250 complete.\n",
      "No of trajectories:  2394\n"
     ]
    },
    {
     "name": "stderr",
     "output_type": "stream",
     "text": [
      "C:\\Users\\lloyd\\anaconda3\\envs\\ox\\lib\\site-packages\\IPython\\core\\interactiveshell.py:2886: PerformanceWarning: indexing past lexsort depth may impact performance.\n",
      "  result = self._run_cell(\n",
      "C:\\Users\\lloyd\\anaconda3\\envs\\ox\\lib\\site-packages\\IPython\\core\\interactiveshell.py:2886: PerformanceWarning: indexing past lexsort depth may impact performance.\n",
      "  result = self._run_cell(\n"
     ]
    },
    {
     "name": "stdout",
     "output_type": "stream",
     "text": [
      "Random Forest complete.\n"
     ]
    },
    {
     "name": "stderr",
     "output_type": "stream",
     "text": [
      "C:\\Users\\lloyd\\anaconda3\\envs\\ox\\lib\\site-packages\\IPython\\core\\interactiveshell.py:2886: PerformanceWarning: indexing past lexsort depth may impact performance.\n",
      "  result = self._run_cell(\n"
     ]
    },
    {
     "name": "stdout",
     "output_type": "stream",
     "text": [
      "AdaBoost complete.\n"
     ]
    },
    {
     "name": "stderr",
     "output_type": "stream",
     "text": [
      "C:\\Users\\lloyd\\anaconda3\\envs\\ox\\lib\\site-packages\\IPython\\core\\interactiveshell.py:2886: PerformanceWarning: indexing past lexsort depth may impact performance.\n",
      "  result = self._run_cell(\n"
     ]
    },
    {
     "name": "stdout",
     "output_type": "stream",
     "text": [
      "SVM complete.\n"
     ]
    },
    {
     "name": "stderr",
     "output_type": "stream",
     "text": [
      "C:\\Users\\lloyd\\anaconda3\\envs\\ox\\lib\\site-packages\\IPython\\core\\interactiveshell.py:2886: PerformanceWarning: indexing past lexsort depth may impact performance.\n",
      "  result = self._run_cell(\n"
     ]
    },
    {
     "name": "stdout",
     "output_type": "stream",
     "text": [
      "Log Regression complete.\n",
      "trajectory length 300 complete.\n",
      "No of trajectories:  1934\n"
     ]
    },
    {
     "name": "stderr",
     "output_type": "stream",
     "text": [
      "C:\\Users\\lloyd\\anaconda3\\envs\\ox\\lib\\site-packages\\IPython\\core\\interactiveshell.py:2886: PerformanceWarning: indexing past lexsort depth may impact performance.\n",
      "  result = self._run_cell(\n",
      "C:\\Users\\lloyd\\anaconda3\\envs\\ox\\lib\\site-packages\\IPython\\core\\interactiveshell.py:2886: PerformanceWarning: indexing past lexsort depth may impact performance.\n",
      "  result = self._run_cell(\n"
     ]
    },
    {
     "name": "stdout",
     "output_type": "stream",
     "text": [
      "Random Forest complete.\n"
     ]
    },
    {
     "name": "stderr",
     "output_type": "stream",
     "text": [
      "C:\\Users\\lloyd\\anaconda3\\envs\\ox\\lib\\site-packages\\IPython\\core\\interactiveshell.py:2886: PerformanceWarning: indexing past lexsort depth may impact performance.\n",
      "  result = self._run_cell(\n"
     ]
    },
    {
     "name": "stdout",
     "output_type": "stream",
     "text": [
      "AdaBoost complete.\n"
     ]
    },
    {
     "name": "stderr",
     "output_type": "stream",
     "text": [
      "C:\\Users\\lloyd\\anaconda3\\envs\\ox\\lib\\site-packages\\IPython\\core\\interactiveshell.py:2886: PerformanceWarning: indexing past lexsort depth may impact performance.\n",
      "  result = self._run_cell(\n",
      "C:\\Users\\lloyd\\anaconda3\\envs\\ox\\lib\\site-packages\\IPython\\core\\interactiveshell.py:2886: PerformanceWarning: indexing past lexsort depth may impact performance.\n",
      "  result = self._run_cell(\n"
     ]
    },
    {
     "name": "stdout",
     "output_type": "stream",
     "text": [
      "SVM complete.\n",
      "Log Regression complete.\n",
      "trajectory length 350 complete.\n",
      "No of trajectories:  1602\n"
     ]
    },
    {
     "name": "stderr",
     "output_type": "stream",
     "text": [
      "C:\\Users\\lloyd\\anaconda3\\envs\\ox\\lib\\site-packages\\IPython\\core\\interactiveshell.py:2886: PerformanceWarning: indexing past lexsort depth may impact performance.\n",
      "  result = self._run_cell(\n",
      "C:\\Users\\lloyd\\anaconda3\\envs\\ox\\lib\\site-packages\\IPython\\core\\interactiveshell.py:2886: PerformanceWarning: indexing past lexsort depth may impact performance.\n",
      "  result = self._run_cell(\n"
     ]
    },
    {
     "name": "stdout",
     "output_type": "stream",
     "text": [
      "Random Forest complete.\n"
     ]
    },
    {
     "name": "stderr",
     "output_type": "stream",
     "text": [
      "C:\\Users\\lloyd\\anaconda3\\envs\\ox\\lib\\site-packages\\IPython\\core\\interactiveshell.py:2886: PerformanceWarning: indexing past lexsort depth may impact performance.\n",
      "  result = self._run_cell(\n"
     ]
    },
    {
     "name": "stdout",
     "output_type": "stream",
     "text": [
      "AdaBoost complete.\n"
     ]
    },
    {
     "name": "stderr",
     "output_type": "stream",
     "text": [
      "C:\\Users\\lloyd\\anaconda3\\envs\\ox\\lib\\site-packages\\IPython\\core\\interactiveshell.py:2886: PerformanceWarning: indexing past lexsort depth may impact performance.\n",
      "  result = self._run_cell(\n",
      "C:\\Users\\lloyd\\anaconda3\\envs\\ox\\lib\\site-packages\\IPython\\core\\interactiveshell.py:2886: PerformanceWarning: indexing past lexsort depth may impact performance.\n",
      "  result = self._run_cell(\n"
     ]
    },
    {
     "name": "stdout",
     "output_type": "stream",
     "text": [
      "SVM complete.\n",
      "Log Regression complete.\n",
      "trajectory length 400 complete.\n",
      "minimum traffic  1\n",
      "                                  250     300     350     400\n",
      "Random Forest  f1_score mean   57.354  57.361  56.574  58.684\n",
      "                        std     1.088   1.609   1.717    2.23\n",
      "               accuracy mean   58.216  57.644  57.551  58.992\n",
      "                        std     1.379   1.168   2.366   2.509\n",
      "AdaBoost       f1_score mean   56.038  54.835  54.713  56.098\n",
      "                        std     2.036   1.825   1.461    1.12\n",
      "               accuracy mean   57.882  55.807  55.637  57.491\n",
      "                        std     1.809   1.678   2.236   2.192\n",
      "SVM            f1_score mean   55.462  54.008  52.995  52.852\n",
      "                        std     2.562   1.422   2.722   3.165\n",
      "               accuracy mean   59.352  58.605  57.187  57.554\n",
      "                        std     2.279   1.233   1.489   3.086\n",
      "Log Regression f1_score mean   54.188  54.086  55.675  55.491\n",
      "                        std     2.078    1.84   2.717   2.506\n",
      "               accuracy mean   56.312  55.429  57.083  56.992\n",
      "                        std      1.85   1.441   3.101   2.159\n",
      "traj_len       traj_len total    2994    2394    1934    1602\n",
      "                        Car      1497    1197     967     801\n",
      "                        Taxi     1497    1197     967     801\n",
      "No of trajectories:  2000\n"
     ]
    },
    {
     "name": "stderr",
     "output_type": "stream",
     "text": [
      "C:\\Users\\lloyd\\anaconda3\\envs\\ox\\lib\\site-packages\\IPython\\core\\interactiveshell.py:2886: PerformanceWarning: indexing past lexsort depth may impact performance.\n",
      "  result = self._run_cell(\n",
      "C:\\Users\\lloyd\\anaconda3\\envs\\ox\\lib\\site-packages\\IPython\\core\\interactiveshell.py:2886: PerformanceWarning: indexing past lexsort depth may impact performance.\n",
      "  result = self._run_cell(\n"
     ]
    },
    {
     "name": "stdout",
     "output_type": "stream",
     "text": [
      "Random Forest complete.\n"
     ]
    },
    {
     "name": "stderr",
     "output_type": "stream",
     "text": [
      "C:\\Users\\lloyd\\anaconda3\\envs\\ox\\lib\\site-packages\\IPython\\core\\interactiveshell.py:2886: PerformanceWarning: indexing past lexsort depth may impact performance.\n",
      "  result = self._run_cell(\n"
     ]
    },
    {
     "name": "stdout",
     "output_type": "stream",
     "text": [
      "AdaBoost complete.\n"
     ]
    },
    {
     "name": "stderr",
     "output_type": "stream",
     "text": [
      "C:\\Users\\lloyd\\anaconda3\\envs\\ox\\lib\\site-packages\\IPython\\core\\interactiveshell.py:2886: PerformanceWarning: indexing past lexsort depth may impact performance.\n",
      "  result = self._run_cell(\n"
     ]
    },
    {
     "name": "stdout",
     "output_type": "stream",
     "text": [
      "SVM complete.\n"
     ]
    },
    {
     "name": "stderr",
     "output_type": "stream",
     "text": [
      "C:\\Users\\lloyd\\anaconda3\\envs\\ox\\lib\\site-packages\\IPython\\core\\interactiveshell.py:2886: PerformanceWarning: indexing past lexsort depth may impact performance.\n",
      "  result = self._run_cell(\n"
     ]
    },
    {
     "name": "stdout",
     "output_type": "stream",
     "text": [
      "Log Regression complete.\n",
      "trajectory length 250 complete.\n",
      "No of trajectories:  1640\n"
     ]
    },
    {
     "name": "stderr",
     "output_type": "stream",
     "text": [
      "C:\\Users\\lloyd\\anaconda3\\envs\\ox\\lib\\site-packages\\IPython\\core\\interactiveshell.py:2886: PerformanceWarning: indexing past lexsort depth may impact performance.\n",
      "  result = self._run_cell(\n",
      "C:\\Users\\lloyd\\anaconda3\\envs\\ox\\lib\\site-packages\\IPython\\core\\interactiveshell.py:2886: PerformanceWarning: indexing past lexsort depth may impact performance.\n",
      "  result = self._run_cell(\n"
     ]
    },
    {
     "name": "stdout",
     "output_type": "stream",
     "text": [
      "Random Forest complete.\n"
     ]
    },
    {
     "name": "stderr",
     "output_type": "stream",
     "text": [
      "C:\\Users\\lloyd\\anaconda3\\envs\\ox\\lib\\site-packages\\IPython\\core\\interactiveshell.py:2886: PerformanceWarning: indexing past lexsort depth may impact performance.\n",
      "  result = self._run_cell(\n"
     ]
    },
    {
     "name": "stdout",
     "output_type": "stream",
     "text": [
      "AdaBoost complete.\n"
     ]
    },
    {
     "name": "stderr",
     "output_type": "stream",
     "text": [
      "C:\\Users\\lloyd\\anaconda3\\envs\\ox\\lib\\site-packages\\IPython\\core\\interactiveshell.py:2886: PerformanceWarning: indexing past lexsort depth may impact performance.\n",
      "  result = self._run_cell(\n",
      "C:\\Users\\lloyd\\anaconda3\\envs\\ox\\lib\\site-packages\\IPython\\core\\interactiveshell.py:2886: PerformanceWarning: indexing past lexsort depth may impact performance.\n",
      "  result = self._run_cell(\n"
     ]
    },
    {
     "name": "stdout",
     "output_type": "stream",
     "text": [
      "SVM complete.\n",
      "Log Regression complete.\n",
      "trajectory length 300 complete.\n",
      "No of trajectories:  1366\n"
     ]
    },
    {
     "name": "stderr",
     "output_type": "stream",
     "text": [
      "C:\\Users\\lloyd\\anaconda3\\envs\\ox\\lib\\site-packages\\IPython\\core\\interactiveshell.py:2886: PerformanceWarning: indexing past lexsort depth may impact performance.\n",
      "  result = self._run_cell(\n",
      "C:\\Users\\lloyd\\anaconda3\\envs\\ox\\lib\\site-packages\\IPython\\core\\interactiveshell.py:2886: PerformanceWarning: indexing past lexsort depth may impact performance.\n",
      "  result = self._run_cell(\n"
     ]
    },
    {
     "name": "stdout",
     "output_type": "stream",
     "text": [
      "Random Forest complete.\n"
     ]
    },
    {
     "name": "stderr",
     "output_type": "stream",
     "text": [
      "C:\\Users\\lloyd\\anaconda3\\envs\\ox\\lib\\site-packages\\IPython\\core\\interactiveshell.py:2886: PerformanceWarning: indexing past lexsort depth may impact performance.\n",
      "  result = self._run_cell(\n"
     ]
    },
    {
     "name": "stdout",
     "output_type": "stream",
     "text": [
      "AdaBoost complete.\n"
     ]
    },
    {
     "name": "stderr",
     "output_type": "stream",
     "text": [
      "C:\\Users\\lloyd\\anaconda3\\envs\\ox\\lib\\site-packages\\IPython\\core\\interactiveshell.py:2886: PerformanceWarning: indexing past lexsort depth may impact performance.\n",
      "  result = self._run_cell(\n",
      "C:\\Users\\lloyd\\anaconda3\\envs\\ox\\lib\\site-packages\\IPython\\core\\interactiveshell.py:2886: PerformanceWarning: indexing past lexsort depth may impact performance.\n",
      "  result = self._run_cell(\n"
     ]
    },
    {
     "name": "stdout",
     "output_type": "stream",
     "text": [
      "SVM complete.\n",
      "Log Regression complete.\n",
      "trajectory length 350 complete.\n",
      "No of trajectories:  1130\n"
     ]
    },
    {
     "name": "stderr",
     "output_type": "stream",
     "text": [
      "C:\\Users\\lloyd\\anaconda3\\envs\\ox\\lib\\site-packages\\IPython\\core\\interactiveshell.py:2886: PerformanceWarning: indexing past lexsort depth may impact performance.\n",
      "  result = self._run_cell(\n",
      "C:\\Users\\lloyd\\anaconda3\\envs\\ox\\lib\\site-packages\\IPython\\core\\interactiveshell.py:2886: PerformanceWarning: indexing past lexsort depth may impact performance.\n",
      "  result = self._run_cell(\n"
     ]
    },
    {
     "name": "stdout",
     "output_type": "stream",
     "text": [
      "Random Forest complete.\n"
     ]
    },
    {
     "name": "stderr",
     "output_type": "stream",
     "text": [
      "C:\\Users\\lloyd\\anaconda3\\envs\\ox\\lib\\site-packages\\IPython\\core\\interactiveshell.py:2886: PerformanceWarning: indexing past lexsort depth may impact performance.\n",
      "  result = self._run_cell(\n"
     ]
    },
    {
     "name": "stdout",
     "output_type": "stream",
     "text": [
      "AdaBoost complete.\n"
     ]
    },
    {
     "name": "stderr",
     "output_type": "stream",
     "text": [
      "C:\\Users\\lloyd\\anaconda3\\envs\\ox\\lib\\site-packages\\IPython\\core\\interactiveshell.py:2886: PerformanceWarning: indexing past lexsort depth may impact performance.\n",
      "  result = self._run_cell(\n",
      "C:\\Users\\lloyd\\anaconda3\\envs\\ox\\lib\\site-packages\\IPython\\core\\interactiveshell.py:2886: PerformanceWarning: indexing past lexsort depth may impact performance.\n",
      "  result = self._run_cell(\n"
     ]
    },
    {
     "name": "stdout",
     "output_type": "stream",
     "text": [
      "SVM complete.\n",
      "Log Regression complete.\n",
      "trajectory length 400 complete.\n",
      "minimum traffic  2\n",
      "                                  250     300     350     400\n",
      "Random Forest  f1_score mean   59.023  59.387  54.757  54.901\n",
      "                        std     3.537   2.631   2.132   2.939\n",
      "               accuracy mean     59.7   58.72  55.855  55.487\n",
      "                        std     2.605   2.745   2.258   3.655\n",
      "AdaBoost       f1_score mean   60.431  55.513  53.867  53.494\n",
      "                        std      1.78   1.803   2.479   1.171\n",
      "               accuracy mean     61.1  55.915  54.027  54.779\n",
      "                        std     2.154    2.27   2.591   1.543\n",
      "SVM            f1_score mean   58.198  55.126  49.431  51.294\n",
      "                        std     1.872   1.887   4.316   3.387\n",
      "               accuracy mean     59.8  59.207  56.224   56.46\n",
      "                        std     1.512   1.942   2.648    2.75\n",
      "Log Regression f1_score mean   58.659  56.603  52.826  54.063\n",
      "                        std     3.058   2.418   2.831   1.422\n",
      "               accuracy mean     60.1  58.232  55.272  55.575\n",
      "                        std     2.071   2.918   2.176   2.903\n",
      "traj_len       traj_len total    2000    1640    1366    1130\n",
      "                        Car      1000     820     683     565\n",
      "                        Taxi     1000     820     683     565\n",
      "No of trajectories:  1046\n"
     ]
    },
    {
     "name": "stderr",
     "output_type": "stream",
     "text": [
      "C:\\Users\\lloyd\\anaconda3\\envs\\ox\\lib\\site-packages\\IPython\\core\\interactiveshell.py:2886: PerformanceWarning: indexing past lexsort depth may impact performance.\n",
      "  result = self._run_cell(\n",
      "C:\\Users\\lloyd\\anaconda3\\envs\\ox\\lib\\site-packages\\IPython\\core\\interactiveshell.py:2886: PerformanceWarning: indexing past lexsort depth may impact performance.\n",
      "  result = self._run_cell(\n"
     ]
    },
    {
     "name": "stdout",
     "output_type": "stream",
     "text": [
      "Random Forest complete.\n"
     ]
    },
    {
     "name": "stderr",
     "output_type": "stream",
     "text": [
      "C:\\Users\\lloyd\\anaconda3\\envs\\ox\\lib\\site-packages\\IPython\\core\\interactiveshell.py:2886: PerformanceWarning: indexing past lexsort depth may impact performance.\n",
      "  result = self._run_cell(\n"
     ]
    },
    {
     "name": "stdout",
     "output_type": "stream",
     "text": [
      "AdaBoost complete.\n"
     ]
    },
    {
     "name": "stderr",
     "output_type": "stream",
     "text": [
      "C:\\Users\\lloyd\\anaconda3\\envs\\ox\\lib\\site-packages\\IPython\\core\\interactiveshell.py:2886: PerformanceWarning: indexing past lexsort depth may impact performance.\n",
      "  result = self._run_cell(\n",
      "C:\\Users\\lloyd\\anaconda3\\envs\\ox\\lib\\site-packages\\IPython\\core\\interactiveshell.py:2886: PerformanceWarning: indexing past lexsort depth may impact performance.\n",
      "  result = self._run_cell(\n"
     ]
    },
    {
     "name": "stdout",
     "output_type": "stream",
     "text": [
      "SVM complete.\n",
      "Log Regression complete.\n",
      "trajectory length 250 complete.\n",
      "No of trajectories:  832\n"
     ]
    },
    {
     "name": "stderr",
     "output_type": "stream",
     "text": [
      "C:\\Users\\lloyd\\anaconda3\\envs\\ox\\lib\\site-packages\\IPython\\core\\interactiveshell.py:2886: PerformanceWarning: indexing past lexsort depth may impact performance.\n",
      "  result = self._run_cell(\n",
      "C:\\Users\\lloyd\\anaconda3\\envs\\ox\\lib\\site-packages\\IPython\\core\\interactiveshell.py:2886: PerformanceWarning: indexing past lexsort depth may impact performance.\n",
      "  result = self._run_cell(\n"
     ]
    },
    {
     "name": "stdout",
     "output_type": "stream",
     "text": [
      "Random Forest complete.\n"
     ]
    },
    {
     "name": "stderr",
     "output_type": "stream",
     "text": [
      "C:\\Users\\lloyd\\anaconda3\\envs\\ox\\lib\\site-packages\\IPython\\core\\interactiveshell.py:2886: PerformanceWarning: indexing past lexsort depth may impact performance.\n",
      "  result = self._run_cell(\n",
      "C:\\Users\\lloyd\\anaconda3\\envs\\ox\\lib\\site-packages\\IPython\\core\\interactiveshell.py:2886: PerformanceWarning: indexing past lexsort depth may impact performance.\n",
      "  result = self._run_cell(\n"
     ]
    },
    {
     "name": "stdout",
     "output_type": "stream",
     "text": [
      "AdaBoost complete.\n",
      "SVM complete.\n"
     ]
    },
    {
     "name": "stderr",
     "output_type": "stream",
     "text": [
      "C:\\Users\\lloyd\\anaconda3\\envs\\ox\\lib\\site-packages\\IPython\\core\\interactiveshell.py:2886: PerformanceWarning: indexing past lexsort depth may impact performance.\n",
      "  result = self._run_cell(\n"
     ]
    },
    {
     "name": "stdout",
     "output_type": "stream",
     "text": [
      "Log Regression complete.\n",
      "trajectory length 300 complete.\n",
      "No of trajectories:  692\n"
     ]
    },
    {
     "name": "stderr",
     "output_type": "stream",
     "text": [
      "C:\\Users\\lloyd\\anaconda3\\envs\\ox\\lib\\site-packages\\IPython\\core\\interactiveshell.py:2886: PerformanceWarning: indexing past lexsort depth may impact performance.\n",
      "  result = self._run_cell(\n",
      "C:\\Users\\lloyd\\anaconda3\\envs\\ox\\lib\\site-packages\\IPython\\core\\interactiveshell.py:2886: PerformanceWarning: indexing past lexsort depth may impact performance.\n",
      "  result = self._run_cell(\n"
     ]
    },
    {
     "name": "stdout",
     "output_type": "stream",
     "text": [
      "Random Forest complete.\n"
     ]
    },
    {
     "name": "stderr",
     "output_type": "stream",
     "text": [
      "C:\\Users\\lloyd\\anaconda3\\envs\\ox\\lib\\site-packages\\IPython\\core\\interactiveshell.py:2886: PerformanceWarning: indexing past lexsort depth may impact performance.\n",
      "  result = self._run_cell(\n",
      "C:\\Users\\lloyd\\anaconda3\\envs\\ox\\lib\\site-packages\\IPython\\core\\interactiveshell.py:2886: PerformanceWarning: indexing past lexsort depth may impact performance.\n",
      "  result = self._run_cell(\n"
     ]
    },
    {
     "name": "stdout",
     "output_type": "stream",
     "text": [
      "AdaBoost complete.\n",
      "SVM complete.\n"
     ]
    },
    {
     "name": "stderr",
     "output_type": "stream",
     "text": [
      "C:\\Users\\lloyd\\anaconda3\\envs\\ox\\lib\\site-packages\\IPython\\core\\interactiveshell.py:2886: PerformanceWarning: indexing past lexsort depth may impact performance.\n",
      "  result = self._run_cell(\n"
     ]
    },
    {
     "name": "stdout",
     "output_type": "stream",
     "text": [
      "Log Regression complete.\n",
      "trajectory length 350 complete.\n",
      "No of trajectories:  566\n"
     ]
    },
    {
     "name": "stderr",
     "output_type": "stream",
     "text": [
      "C:\\Users\\lloyd\\anaconda3\\envs\\ox\\lib\\site-packages\\IPython\\core\\interactiveshell.py:2886: PerformanceWarning: indexing past lexsort depth may impact performance.\n",
      "  result = self._run_cell(\n",
      "C:\\Users\\lloyd\\anaconda3\\envs\\ox\\lib\\site-packages\\IPython\\core\\interactiveshell.py:2886: PerformanceWarning: indexing past lexsort depth may impact performance.\n",
      "  result = self._run_cell(\n"
     ]
    },
    {
     "name": "stdout",
     "output_type": "stream",
     "text": [
      "Random Forest complete.\n"
     ]
    },
    {
     "name": "stderr",
     "output_type": "stream",
     "text": [
      "C:\\Users\\lloyd\\anaconda3\\envs\\ox\\lib\\site-packages\\IPython\\core\\interactiveshell.py:2886: PerformanceWarning: indexing past lexsort depth may impact performance.\n",
      "  result = self._run_cell(\n",
      "C:\\Users\\lloyd\\anaconda3\\envs\\ox\\lib\\site-packages\\IPython\\core\\interactiveshell.py:2886: PerformanceWarning: indexing past lexsort depth may impact performance.\n",
      "  result = self._run_cell(\n"
     ]
    },
    {
     "name": "stdout",
     "output_type": "stream",
     "text": [
      "AdaBoost complete.\n",
      "SVM complete.\n"
     ]
    },
    {
     "name": "stderr",
     "output_type": "stream",
     "text": [
      "C:\\Users\\lloyd\\anaconda3\\envs\\ox\\lib\\site-packages\\IPython\\core\\interactiveshell.py:2886: PerformanceWarning: indexing past lexsort depth may impact performance.\n",
      "  result = self._run_cell(\n"
     ]
    },
    {
     "name": "stdout",
     "output_type": "stream",
     "text": [
      "Log Regression complete.\n",
      "trajectory length 400 complete.\n",
      "minimum traffic  3\n",
      "                                  250     300     350     400\n",
      "Random Forest  f1_score mean   55.164  56.376  53.098  55.602\n",
      "                        std     1.646   2.991    3.88   6.022\n",
      "               accuracy mean   54.493   55.05  52.027  56.181\n",
      "                        std     1.974   1.075   2.849   4.661\n",
      "AdaBoost       f1_score mean   56.429   55.51  55.783  50.965\n",
      "                        std     4.784   3.775   4.593   4.216\n",
      "               accuracy mean   56.501   56.01  54.759  51.941\n",
      "                        std     3.744   3.167    3.53   5.578\n",
      "SVM            f1_score mean    55.14   52.99  51.806  51.468\n",
      "                        std     3.819   3.396   5.659   5.422\n",
      "               accuracy mean   57.651  55.645  55.771  52.104\n",
      "                        std      2.34   2.133   5.921   5.321\n",
      "Log Regression f1_score mean   54.158  57.157  55.614  53.652\n",
      "                        std      3.38   4.602   5.981   4.295\n",
      "               accuracy mean   56.595  58.056  55.643  54.075\n",
      "                        std     2.684    4.57   4.725   3.491\n",
      "traj_len       traj_len total    1046     832     692     566\n",
      "                        Car       523     416     346     283\n",
      "                        Taxi      523     416     346     283\n",
      "No of trajectories:  518\n"
     ]
    },
    {
     "name": "stderr",
     "output_type": "stream",
     "text": [
      "C:\\Users\\lloyd\\anaconda3\\envs\\ox\\lib\\site-packages\\IPython\\core\\interactiveshell.py:2886: PerformanceWarning: indexing past lexsort depth may impact performance.\n",
      "  result = self._run_cell(\n",
      "C:\\Users\\lloyd\\anaconda3\\envs\\ox\\lib\\site-packages\\IPython\\core\\interactiveshell.py:2886: PerformanceWarning: indexing past lexsort depth may impact performance.\n",
      "  result = self._run_cell(\n"
     ]
    },
    {
     "name": "stdout",
     "output_type": "stream",
     "text": [
      "Random Forest complete.\n"
     ]
    },
    {
     "name": "stderr",
     "output_type": "stream",
     "text": [
      "C:\\Users\\lloyd\\anaconda3\\envs\\ox\\lib\\site-packages\\IPython\\core\\interactiveshell.py:2886: PerformanceWarning: indexing past lexsort depth may impact performance.\n",
      "  result = self._run_cell(\n",
      "C:\\Users\\lloyd\\anaconda3\\envs\\ox\\lib\\site-packages\\IPython\\core\\interactiveshell.py:2886: PerformanceWarning: indexing past lexsort depth may impact performance.\n",
      "  result = self._run_cell(\n"
     ]
    },
    {
     "name": "stdout",
     "output_type": "stream",
     "text": [
      "AdaBoost complete.\n",
      "SVM complete.\n"
     ]
    },
    {
     "name": "stderr",
     "output_type": "stream",
     "text": [
      "C:\\Users\\lloyd\\anaconda3\\envs\\ox\\lib\\site-packages\\IPython\\core\\interactiveshell.py:2886: PerformanceWarning: indexing past lexsort depth may impact performance.\n",
      "  result = self._run_cell(\n"
     ]
    },
    {
     "name": "stdout",
     "output_type": "stream",
     "text": [
      "Log Regression complete.\n",
      "trajectory length 250 complete.\n",
      "No of trajectories:  424\n"
     ]
    },
    {
     "name": "stderr",
     "output_type": "stream",
     "text": [
      "C:\\Users\\lloyd\\anaconda3\\envs\\ox\\lib\\site-packages\\IPython\\core\\interactiveshell.py:2886: PerformanceWarning: indexing past lexsort depth may impact performance.\n",
      "  result = self._run_cell(\n",
      "C:\\Users\\lloyd\\anaconda3\\envs\\ox\\lib\\site-packages\\IPython\\core\\interactiveshell.py:2886: PerformanceWarning: indexing past lexsort depth may impact performance.\n",
      "  result = self._run_cell(\n"
     ]
    },
    {
     "name": "stdout",
     "output_type": "stream",
     "text": [
      "Random Forest complete.\n"
     ]
    },
    {
     "name": "stderr",
     "output_type": "stream",
     "text": [
      "C:\\Users\\lloyd\\anaconda3\\envs\\ox\\lib\\site-packages\\IPython\\core\\interactiveshell.py:2886: PerformanceWarning: indexing past lexsort depth may impact performance.\n",
      "  result = self._run_cell(\n",
      "C:\\Users\\lloyd\\anaconda3\\envs\\ox\\lib\\site-packages\\IPython\\core\\interactiveshell.py:2886: PerformanceWarning: indexing past lexsort depth may impact performance.\n",
      "  result = self._run_cell(\n"
     ]
    },
    {
     "name": "stdout",
     "output_type": "stream",
     "text": [
      "AdaBoost complete.\n",
      "SVM complete.\n"
     ]
    },
    {
     "name": "stderr",
     "output_type": "stream",
     "text": [
      "C:\\Users\\lloyd\\anaconda3\\envs\\ox\\lib\\site-packages\\IPython\\core\\interactiveshell.py:2886: PerformanceWarning: indexing past lexsort depth may impact performance.\n",
      "  result = self._run_cell(\n"
     ]
    },
    {
     "name": "stdout",
     "output_type": "stream",
     "text": [
      "Log Regression complete.\n",
      "trajectory length 300 complete.\n",
      "No of trajectories:  294\n"
     ]
    },
    {
     "name": "stderr",
     "output_type": "stream",
     "text": [
      "C:\\Users\\lloyd\\anaconda3\\envs\\ox\\lib\\site-packages\\IPython\\core\\interactiveshell.py:2886: PerformanceWarning: indexing past lexsort depth may impact performance.\n",
      "  result = self._run_cell(\n",
      "C:\\Users\\lloyd\\anaconda3\\envs\\ox\\lib\\site-packages\\IPython\\core\\interactiveshell.py:2886: PerformanceWarning: indexing past lexsort depth may impact performance.\n",
      "  result = self._run_cell(\n"
     ]
    },
    {
     "name": "stdout",
     "output_type": "stream",
     "text": [
      "Random Forest complete.\n"
     ]
    },
    {
     "name": "stderr",
     "output_type": "stream",
     "text": [
      "C:\\Users\\lloyd\\anaconda3\\envs\\ox\\lib\\site-packages\\IPython\\core\\interactiveshell.py:2886: PerformanceWarning: indexing past lexsort depth may impact performance.\n",
      "  result = self._run_cell(\n",
      "C:\\Users\\lloyd\\anaconda3\\envs\\ox\\lib\\site-packages\\IPython\\core\\interactiveshell.py:2886: PerformanceWarning: indexing past lexsort depth may impact performance.\n",
      "  result = self._run_cell(\n",
      "C:\\Users\\lloyd\\anaconda3\\envs\\ox\\lib\\site-packages\\IPython\\core\\interactiveshell.py:2886: PerformanceWarning: indexing past lexsort depth may impact performance.\n",
      "  result = self._run_cell(\n"
     ]
    },
    {
     "name": "stdout",
     "output_type": "stream",
     "text": [
      "AdaBoost complete.\n",
      "SVM complete.\n",
      "Log Regression complete.\n",
      "trajectory length 350 complete.\n",
      "No of trajectories:  266\n"
     ]
    },
    {
     "name": "stderr",
     "output_type": "stream",
     "text": [
      "C:\\Users\\lloyd\\anaconda3\\envs\\ox\\lib\\site-packages\\IPython\\core\\interactiveshell.py:2886: PerformanceWarning: indexing past lexsort depth may impact performance.\n",
      "  result = self._run_cell(\n",
      "C:\\Users\\lloyd\\anaconda3\\envs\\ox\\lib\\site-packages\\IPython\\core\\interactiveshell.py:2886: PerformanceWarning: indexing past lexsort depth may impact performance.\n",
      "  result = self._run_cell(\n"
     ]
    },
    {
     "name": "stdout",
     "output_type": "stream",
     "text": [
      "Random Forest complete.\n"
     ]
    },
    {
     "name": "stderr",
     "output_type": "stream",
     "text": [
      "C:\\Users\\lloyd\\anaconda3\\envs\\ox\\lib\\site-packages\\IPython\\core\\interactiveshell.py:2886: PerformanceWarning: indexing past lexsort depth may impact performance.\n",
      "  result = self._run_cell(\n",
      "C:\\Users\\lloyd\\anaconda3\\envs\\ox\\lib\\site-packages\\IPython\\core\\interactiveshell.py:2886: PerformanceWarning: indexing past lexsort depth may impact performance.\n",
      "  result = self._run_cell(\n",
      "C:\\Users\\lloyd\\anaconda3\\envs\\ox\\lib\\site-packages\\IPython\\core\\interactiveshell.py:2886: PerformanceWarning: indexing past lexsort depth may impact performance.\n",
      "  result = self._run_cell(\n"
     ]
    },
    {
     "name": "stdout",
     "output_type": "stream",
     "text": [
      "AdaBoost complete.\n",
      "SVM complete.\n",
      "Log Regression complete.\n",
      "trajectory length 400 complete.\n",
      "minimum traffic  4\n",
      "                                  250     300     350     400\n",
      "Random Forest  f1_score mean   55.042  58.637  54.192   52.15\n",
      "                        std     2.793   3.543   1.526   1.857\n",
      "               accuracy mean     52.5  54.487  51.701  50.377\n",
      "                        std     2.572   3.762   2.274   1.849\n",
      "AdaBoost       f1_score mean    53.01  48.235  48.008  54.096\n",
      "                        std     2.797   5.167   9.485   7.717\n",
      "               accuracy mean   54.052  47.661  49.281   54.92\n",
      "                        std     4.188   6.244    6.98   7.103\n",
      "SVM            f1_score mean    53.12  44.977    54.1  45.294\n",
      "                        std     1.731   4.333   2.754   7.322\n",
      "               accuracy mean   52.311    46.0   53.39  47.729\n",
      "                        std     2.178   2.939   2.005   3.009\n",
      "Log Regression f1_score mean   57.751  51.765  53.385  48.614\n",
      "                        std     5.011   2.375   7.712  11.579\n",
      "               accuracy mean   57.506  52.115  54.079  51.125\n",
      "                        std     5.864   2.224   6.528   7.268\n",
      "traj_len       traj_len total     518     424     294     266\n",
      "                        Car       259     212     147     133\n",
      "                        Taxi      259     212     147     133\n",
      "No of trajectories:  250\n"
     ]
    },
    {
     "name": "stderr",
     "output_type": "stream",
     "text": [
      "C:\\Users\\lloyd\\anaconda3\\envs\\ox\\lib\\site-packages\\IPython\\core\\interactiveshell.py:2886: PerformanceWarning: indexing past lexsort depth may impact performance.\n",
      "  result = self._run_cell(\n",
      "C:\\Users\\lloyd\\anaconda3\\envs\\ox\\lib\\site-packages\\IPython\\core\\interactiveshell.py:2886: PerformanceWarning: indexing past lexsort depth may impact performance.\n",
      "  result = self._run_cell(\n"
     ]
    },
    {
     "name": "stdout",
     "output_type": "stream",
     "text": [
      "Random Forest complete.\n"
     ]
    },
    {
     "name": "stderr",
     "output_type": "stream",
     "text": [
      "C:\\Users\\lloyd\\anaconda3\\envs\\ox\\lib\\site-packages\\IPython\\core\\interactiveshell.py:2886: PerformanceWarning: indexing past lexsort depth may impact performance.\n",
      "  result = self._run_cell(\n",
      "C:\\Users\\lloyd\\anaconda3\\envs\\ox\\lib\\site-packages\\IPython\\core\\interactiveshell.py:2886: PerformanceWarning: indexing past lexsort depth may impact performance.\n",
      "  result = self._run_cell(\n",
      "C:\\Users\\lloyd\\anaconda3\\envs\\ox\\lib\\site-packages\\IPython\\core\\interactiveshell.py:2886: PerformanceWarning: indexing past lexsort depth may impact performance.\n",
      "  result = self._run_cell(\n"
     ]
    },
    {
     "name": "stdout",
     "output_type": "stream",
     "text": [
      "AdaBoost complete.\n",
      "SVM complete.\n",
      "Log Regression complete.\n",
      "trajectory length 250 complete.\n",
      "No of trajectories:  198\n"
     ]
    },
    {
     "name": "stderr",
     "output_type": "stream",
     "text": [
      "C:\\Users\\lloyd\\anaconda3\\envs\\ox\\lib\\site-packages\\IPython\\core\\interactiveshell.py:2886: PerformanceWarning: indexing past lexsort depth may impact performance.\n",
      "  result = self._run_cell(\n",
      "C:\\Users\\lloyd\\anaconda3\\envs\\ox\\lib\\site-packages\\IPython\\core\\interactiveshell.py:2886: PerformanceWarning: indexing past lexsort depth may impact performance.\n",
      "  result = self._run_cell(\n"
     ]
    },
    {
     "name": "stdout",
     "output_type": "stream",
     "text": [
      "Random Forest complete.\n"
     ]
    },
    {
     "name": "stderr",
     "output_type": "stream",
     "text": [
      "C:\\Users\\lloyd\\anaconda3\\envs\\ox\\lib\\site-packages\\IPython\\core\\interactiveshell.py:2886: PerformanceWarning: indexing past lexsort depth may impact performance.\n",
      "  result = self._run_cell(\n",
      "C:\\Users\\lloyd\\anaconda3\\envs\\ox\\lib\\site-packages\\IPython\\core\\interactiveshell.py:2886: PerformanceWarning: indexing past lexsort depth may impact performance.\n",
      "  result = self._run_cell(\n",
      "C:\\Users\\lloyd\\anaconda3\\envs\\ox\\lib\\site-packages\\IPython\\core\\interactiveshell.py:2886: PerformanceWarning: indexing past lexsort depth may impact performance.\n",
      "  result = self._run_cell(\n"
     ]
    },
    {
     "name": "stdout",
     "output_type": "stream",
     "text": [
      "AdaBoost complete.\n",
      "SVM complete.\n",
      "Log Regression complete.\n",
      "trajectory length 300 complete.\n",
      "No of trajectories:  150\n"
     ]
    },
    {
     "name": "stderr",
     "output_type": "stream",
     "text": [
      "C:\\Users\\lloyd\\anaconda3\\envs\\ox\\lib\\site-packages\\IPython\\core\\interactiveshell.py:2886: PerformanceWarning: indexing past lexsort depth may impact performance.\n",
      "  result = self._run_cell(\n",
      "C:\\Users\\lloyd\\anaconda3\\envs\\ox\\lib\\site-packages\\IPython\\core\\interactiveshell.py:2886: PerformanceWarning: indexing past lexsort depth may impact performance.\n",
      "  result = self._run_cell(\n"
     ]
    },
    {
     "name": "stdout",
     "output_type": "stream",
     "text": [
      "Random Forest complete.\n"
     ]
    },
    {
     "name": "stderr",
     "output_type": "stream",
     "text": [
      "C:\\Users\\lloyd\\anaconda3\\envs\\ox\\lib\\site-packages\\IPython\\core\\interactiveshell.py:2886: PerformanceWarning: indexing past lexsort depth may impact performance.\n",
      "  result = self._run_cell(\n",
      "C:\\Users\\lloyd\\anaconda3\\envs\\ox\\lib\\site-packages\\IPython\\core\\interactiveshell.py:2886: PerformanceWarning: indexing past lexsort depth may impact performance.\n",
      "  result = self._run_cell(\n",
      "C:\\Users\\lloyd\\anaconda3\\envs\\ox\\lib\\site-packages\\IPython\\core\\interactiveshell.py:2886: PerformanceWarning: indexing past lexsort depth may impact performance.\n",
      "  result = self._run_cell(\n"
     ]
    },
    {
     "name": "stdout",
     "output_type": "stream",
     "text": [
      "AdaBoost complete.\n",
      "SVM complete.\n",
      "Log Regression complete.\n",
      "trajectory length 350 complete.\n",
      "No of trajectories:  118\n"
     ]
    },
    {
     "name": "stderr",
     "output_type": "stream",
     "text": [
      "C:\\Users\\lloyd\\anaconda3\\envs\\ox\\lib\\site-packages\\IPython\\core\\interactiveshell.py:2886: PerformanceWarning: indexing past lexsort depth may impact performance.\n",
      "  result = self._run_cell(\n",
      "C:\\Users\\lloyd\\anaconda3\\envs\\ox\\lib\\site-packages\\IPython\\core\\interactiveshell.py:2886: PerformanceWarning: indexing past lexsort depth may impact performance.\n",
      "  result = self._run_cell(\n"
     ]
    },
    {
     "name": "stdout",
     "output_type": "stream",
     "text": [
      "Random Forest complete.\n"
     ]
    },
    {
     "name": "stderr",
     "output_type": "stream",
     "text": [
      "C:\\Users\\lloyd\\anaconda3\\envs\\ox\\lib\\site-packages\\IPython\\core\\interactiveshell.py:2886: PerformanceWarning: indexing past lexsort depth may impact performance.\n",
      "  result = self._run_cell(\n",
      "C:\\Users\\lloyd\\anaconda3\\envs\\ox\\lib\\site-packages\\IPython\\core\\interactiveshell.py:2886: PerformanceWarning: indexing past lexsort depth may impact performance.\n",
      "  result = self._run_cell(\n",
      "C:\\Users\\lloyd\\anaconda3\\envs\\ox\\lib\\site-packages\\IPython\\core\\interactiveshell.py:2886: PerformanceWarning: indexing past lexsort depth may impact performance.\n",
      "  result = self._run_cell(\n"
     ]
    },
    {
     "name": "stdout",
     "output_type": "stream",
     "text": [
      "AdaBoost complete.\n",
      "SVM complete.\n",
      "Log Regression complete.\n",
      "trajectory length 400 complete.\n",
      "minimum traffic  5\n",
      "                                  250     300     350     400\n",
      "Random Forest  f1_score mean   49.669  55.449  52.414   45.13\n",
      "                        std     6.206   4.181   5.174   7.165\n",
      "               accuracy mean     48.4  54.551  48.667  44.058\n",
      "                        std     5.571    3.46   7.775   8.484\n",
      "AdaBoost       f1_score mean   53.699  45.097  53.771  42.656\n",
      "                        std     7.676   8.102   8.943  10.771\n",
      "               accuracy mean     53.2  45.923    54.0  44.855\n",
      "                        std     5.307   5.337   4.422   7.367\n",
      "SVM            f1_score mean    56.88  56.752  55.852  50.078\n",
      "                        std     1.691   6.724   6.699  13.037\n",
      "               accuracy mean     54.0  55.577  53.333  49.167\n",
      "                        std      2.53   3.498   4.714   8.196\n",
      "Log Regression f1_score mean   58.301  55.349  52.521  47.313\n",
      "                        std     8.978    6.15   9.566   7.823\n",
      "               accuracy mean     57.2  57.513  52.667  48.261\n",
      "                        std    10.167   5.169   9.522   5.221\n",
      "traj_len       traj_len total     250     198     150     118\n",
      "                        Car       125      99      75      59\n",
      "                        Taxi      125      99      75      59\n",
      "No of trajectories:  92\n"
     ]
    },
    {
     "name": "stderr",
     "output_type": "stream",
     "text": [
      "C:\\Users\\lloyd\\anaconda3\\envs\\ox\\lib\\site-packages\\IPython\\core\\interactiveshell.py:2886: PerformanceWarning: indexing past lexsort depth may impact performance.\n",
      "  result = self._run_cell(\n",
      "C:\\Users\\lloyd\\anaconda3\\envs\\ox\\lib\\site-packages\\IPython\\core\\interactiveshell.py:2886: PerformanceWarning: indexing past lexsort depth may impact performance.\n",
      "  result = self._run_cell(\n"
     ]
    },
    {
     "name": "stdout",
     "output_type": "stream",
     "text": [
      "Random Forest complete.\n"
     ]
    },
    {
     "name": "stderr",
     "output_type": "stream",
     "text": [
      "C:\\Users\\lloyd\\anaconda3\\envs\\ox\\lib\\site-packages\\IPython\\core\\interactiveshell.py:2886: PerformanceWarning: indexing past lexsort depth may impact performance.\n",
      "  result = self._run_cell(\n",
      "C:\\Users\\lloyd\\anaconda3\\envs\\ox\\lib\\site-packages\\IPython\\core\\interactiveshell.py:2886: PerformanceWarning: indexing past lexsort depth may impact performance.\n",
      "  result = self._run_cell(\n",
      "C:\\Users\\lloyd\\anaconda3\\envs\\ox\\lib\\site-packages\\IPython\\core\\interactiveshell.py:2886: PerformanceWarning: indexing past lexsort depth may impact performance.\n",
      "  result = self._run_cell(\n"
     ]
    },
    {
     "name": "stdout",
     "output_type": "stream",
     "text": [
      "AdaBoost complete.\n",
      "SVM complete.\n",
      "Log Regression complete.\n",
      "trajectory length 250 complete.\n",
      "No of trajectories:  82\n"
     ]
    },
    {
     "name": "stderr",
     "output_type": "stream",
     "text": [
      "C:\\Users\\lloyd\\anaconda3\\envs\\ox\\lib\\site-packages\\IPython\\core\\interactiveshell.py:2886: PerformanceWarning: indexing past lexsort depth may impact performance.\n",
      "  result = self._run_cell(\n",
      "C:\\Users\\lloyd\\anaconda3\\envs\\ox\\lib\\site-packages\\IPython\\core\\interactiveshell.py:2886: PerformanceWarning: indexing past lexsort depth may impact performance.\n",
      "  result = self._run_cell(\n"
     ]
    },
    {
     "name": "stdout",
     "output_type": "stream",
     "text": [
      "Random Forest complete.\n"
     ]
    },
    {
     "name": "stderr",
     "output_type": "stream",
     "text": [
      "C:\\Users\\lloyd\\anaconda3\\envs\\ox\\lib\\site-packages\\IPython\\core\\interactiveshell.py:2886: PerformanceWarning: indexing past lexsort depth may impact performance.\n",
      "  result = self._run_cell(\n",
      "C:\\Users\\lloyd\\anaconda3\\envs\\ox\\lib\\site-packages\\IPython\\core\\interactiveshell.py:2886: PerformanceWarning: indexing past lexsort depth may impact performance.\n",
      "  result = self._run_cell(\n",
      "C:\\Users\\lloyd\\anaconda3\\envs\\ox\\lib\\site-packages\\IPython\\core\\interactiveshell.py:2886: PerformanceWarning: indexing past lexsort depth may impact performance.\n",
      "  result = self._run_cell(\n"
     ]
    },
    {
     "name": "stdout",
     "output_type": "stream",
     "text": [
      "AdaBoost complete.\n",
      "SVM complete.\n",
      "Log Regression complete.\n",
      "trajectory length 300 complete.\n",
      "No of trajectories:  52\n"
     ]
    },
    {
     "name": "stderr",
     "output_type": "stream",
     "text": [
      "C:\\Users\\lloyd\\anaconda3\\envs\\ox\\lib\\site-packages\\IPython\\core\\interactiveshell.py:2886: PerformanceWarning: indexing past lexsort depth may impact performance.\n",
      "  result = self._run_cell(\n",
      "C:\\Users\\lloyd\\anaconda3\\envs\\ox\\lib\\site-packages\\IPython\\core\\interactiveshell.py:2886: PerformanceWarning: indexing past lexsort depth may impact performance.\n",
      "  result = self._run_cell(\n"
     ]
    },
    {
     "name": "stdout",
     "output_type": "stream",
     "text": [
      "Random Forest complete.\n"
     ]
    },
    {
     "name": "stderr",
     "output_type": "stream",
     "text": [
      "C:\\Users\\lloyd\\anaconda3\\envs\\ox\\lib\\site-packages\\IPython\\core\\interactiveshell.py:2886: PerformanceWarning: indexing past lexsort depth may impact performance.\n",
      "  result = self._run_cell(\n",
      "C:\\Users\\lloyd\\anaconda3\\envs\\ox\\lib\\site-packages\\IPython\\core\\interactiveshell.py:2886: PerformanceWarning: indexing past lexsort depth may impact performance.\n",
      "  result = self._run_cell(\n",
      "C:\\Users\\lloyd\\anaconda3\\envs\\ox\\lib\\site-packages\\IPython\\core\\interactiveshell.py:2886: PerformanceWarning: indexing past lexsort depth may impact performance.\n",
      "  result = self._run_cell(\n"
     ]
    },
    {
     "name": "stdout",
     "output_type": "stream",
     "text": [
      "AdaBoost complete.\n",
      "SVM complete.\n",
      "Log Regression complete.\n",
      "trajectory length 350 complete.\n",
      "No of trajectories:  32\n"
     ]
    },
    {
     "name": "stderr",
     "output_type": "stream",
     "text": [
      "C:\\Users\\lloyd\\anaconda3\\envs\\ox\\lib\\site-packages\\IPython\\core\\interactiveshell.py:2886: PerformanceWarning: indexing past lexsort depth may impact performance.\n",
      "  result = self._run_cell(\n",
      "C:\\Users\\lloyd\\anaconda3\\envs\\ox\\lib\\site-packages\\IPython\\core\\interactiveshell.py:2886: PerformanceWarning: indexing past lexsort depth may impact performance.\n",
      "  result = self._run_cell(\n"
     ]
    },
    {
     "name": "stdout",
     "output_type": "stream",
     "text": [
      "Random Forest complete.\n",
      "AdaBoost complete.\n",
      "SVM complete.\n",
      "Log Regression complete.\n",
      "trajectory length 400 complete.\n",
      "minimum traffic  6\n",
      "                                  250     300     350     400\n",
      "Random Forest  f1_score mean   48.573  45.714  41.434  52.857\n",
      "                        std    11.837   9.264  12.626  11.107\n",
      "               accuracy mean   46.784  43.971  40.727   56.19\n",
      "                        std     9.012   5.103  11.859  12.196\n",
      "AdaBoost       f1_score mean   46.997  50.093  51.761  54.762\n",
      "                        std     6.111  17.463  10.403  12.418\n",
      "               accuracy mean   48.947  50.882  49.818  52.857\n",
      "                        std     5.009  15.826   13.72  11.107\n",
      "SVM            f1_score mean   62.266  57.965   40.26   64.81\n",
      "                        std     5.733  10.223  14.268  19.908\n",
      "               accuracy mean    61.93  58.676  40.727  69.524\n",
      "                        std     6.168   9.091  11.859  14.861\n",
      "Log Regression f1_score mean   54.876  61.695   35.96  61.095\n",
      "                        std    11.361  11.856  23.539  11.967\n",
      "               accuracy mean   54.211  60.956    42.0  62.381\n",
      "                        std     10.76   9.964  13.053   7.737\n",
      "traj_len       traj_len total      92      82      52      32\n",
      "                        Car        46      41      26      16\n",
      "                        Taxi       46      41      26      16\n"
     ]
    },
    {
     "name": "stderr",
     "output_type": "stream",
     "text": [
      "C:\\Users\\lloyd\\anaconda3\\envs\\ox\\lib\\site-packages\\IPython\\core\\interactiveshell.py:2886: PerformanceWarning: indexing past lexsort depth may impact performance.\n",
      "  result = self._run_cell(\n",
      "C:\\Users\\lloyd\\anaconda3\\envs\\ox\\lib\\site-packages\\IPython\\core\\interactiveshell.py:2886: PerformanceWarning: indexing past lexsort depth may impact performance.\n",
      "  result = self._run_cell(\n",
      "C:\\Users\\lloyd\\anaconda3\\envs\\ox\\lib\\site-packages\\IPython\\core\\interactiveshell.py:2886: PerformanceWarning: indexing past lexsort depth may impact performance.\n",
      "  result = self._run_cell(\n"
     ]
    }
   ],
   "source": [
    "#traj_lens = [349]\n",
    "traj_lens = np.arange(250,450, step=50)\n",
    "models = {\n",
    "        'Random Forest': Pipeline([('scaler', StandardScaler()), ('rf', RandomForestClassifier())]),\n",
    "        'AdaBoost':Pipeline([('scaler', StandardScaler()), ('abc', AdaBoostClassifier())]) ,\n",
    "        'SVM': Pipeline([('scaler', StandardScaler()), ('svc', SVC(max_iter=10000))]) ,\n",
    "        'Log Regression': Pipeline([('scaler', StandardScaler()), ('lr', LogisticRegression(max_iter=10000))]) \n",
    "    }\n",
    "    \n",
    "df_acc = pd.DataFrame(index=pd.MultiIndex.from_product([models.keys(),['f1_score','accuracy'], ['mean','std']]), columns=traj_lens)\n",
    "\n",
    "k = 5\n",
    "kf = StratifiedKFold(n_splits=k, shuffle=True)\n",
    "accs = np.zeros(k)\n",
    "f1 = np.zeros(k)\n",
    "df4 = df.copy()\n",
    "for j in range(0,7):\n",
    "    #df = df4[df4.vehicle_density>=j].copy()\n",
    "    for traj_len in traj_lens:\n",
    "\n",
    "        df_traj_list = df.groupby(['id','file_name']).count()['lat'].reset_index()\n",
    "        df_traj_list = df_traj_list[df_traj_list.lat >= traj_len]\n",
    "        df2 = df[df.index.droplevel('time').isin(df_traj_list.set_index(['file_name','id']).index.to_list())].copy()\n",
    "\n",
    "        df2 = reset_traj_and_split(df2, traj_len-1)\n",
    "\n",
    "        df3 = df2.reset_index()[[\"id\",\"file_name\",\"traj\",\"speed\"]]\n",
    "        df3[\"speed_bool\"]= df3[\"speed\"]>0\n",
    "        df3 = df3.groupby([\"file_name\",\"id\",\"traj\"]).sum([\"speed_bool\"])\n",
    "        \n",
    "        df2 = df2[df2.index.droplevel(3).isin(df3[df3.speed_bool >= traj_len*0.75].index.to_list())]\n",
    "        \n",
    "        df3 = df2.reset_index()[[\"id\",\"file_name\",\"traj\",\"vehicle_density\"]]\n",
    "        df3 = df3.groupby([\"file_name\",\"id\",\"traj\"]).mean([\"vehicle_density\"])\n",
    "        \n",
    "        df2 = df2[df2.index.droplevel(3).isin(df3[df3.vehicle_density >= j].index.to_list())]\n",
    "        \n",
    "        X,y = agg(df2)\n",
    "        print(\"No of trajectories: \",len(X))\n",
    "        df_acc.loc[('traj_len','traj_len','total'), traj_len] = len(X)\n",
    "        df_acc.loc[('traj_len','traj_len','Car'), traj_len] = sum(y == 'Car')\n",
    "        df_acc.loc[('traj_len','traj_len','Taxi'), traj_len] = sum(y == 'Taxi')\n",
    "        #print(df_acc)\n",
    "        for name, model in models.items():\n",
    "            for i, (train_index, test_index) in enumerate(kf.split(X,y)):\n",
    "                accs[i],f1[i] = train_and_accuracy(X, y, model)\n",
    "\n",
    "\n",
    "            df_acc.loc[(name, 'accuracy','mean'), traj_len] = round(100*accs.mean(), 3)\n",
    "            df_acc.loc[(name, 'accuracy','std'), traj_len] = round(100*accs.std(), 3)\n",
    "            df_acc.loc[(name, 'f1_score','mean'), traj_len] = round(100*f1.mean(), 3)\n",
    "            df_acc.loc[(name, 'f1_score','std'), traj_len] = round(100*f1.std(), 3)\n",
    "\n",
    "            print(name, 'complete.')\n",
    "\n",
    "        print('trajectory length', traj_len, 'complete.')\n",
    "    print('minimum traffic ',j)\n",
    "    print(df_acc)"
   ]
  },
  {
   "cell_type": "code",
   "execution_count": 59,
   "metadata": {},
   "outputs": [],
   "source": [
    "df_acc.to_pickle(\"acc_50p_0_lane_filter_f1.pkl\")"
   ]
  }
 ],
 "metadata": {
  "kernelspec": {
   "display_name": "Python 3",
   "language": "python",
   "name": "python3"
  },
  "language_info": {
   "codemirror_mode": {
    "name": "ipython",
    "version": 3
   },
   "file_extension": ".py",
   "mimetype": "text/x-python",
   "name": "python",
   "nbconvert_exporter": "python",
   "pygments_lexer": "ipython3",
   "version": "3.9.1"
  }
 },
 "nbformat": 4,
 "nbformat_minor": 4
}
