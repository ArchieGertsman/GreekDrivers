{
 "metadata": {
  "language_info": {
   "codemirror_mode": {
    "name": "ipython",
    "version": 3
   },
   "file_extension": ".py",
   "mimetype": "text/x-python",
   "name": "python",
   "nbconvert_exporter": "python",
   "pygments_lexer": "ipython3",
   "version": 3
  },
  "orig_nbformat": 2
 },
 "nbformat": 4,
 "nbformat_minor": 2,
 "cells": [
  {
   "cell_type": "code",
   "execution_count": null,
   "metadata": {},
   "outputs": [],
   "source": [
    "import pandas as pd\n",
    "import numpy as np\n",
    "\n",
    "from sklearn.ensemble import RandomForestClassifier, AdaBoostClassifier, GradientBoostingClassifier\n",
    "from sklearn.svm import SVC\n",
    "from sklearn.linear_model import LogisticRegression\n",
    "from sklearn.neural_network import MLPClassifier\n",
    "from sklearn.model_selection import StratifiedKFold\n",
    "from sklearn.model_selection import GridSearchCV\n",
    "from classical_model_with_voting import rolling_agg, speed_ratio"
   ]
  },
  {
   "cell_type": "code",
   "execution_count": null,
   "metadata": {},
   "outputs": [],
   "source": [
    "df = pd.read_pickle('../../Data/block4_concat_lane.pkl')  \\\n",
    "    .set_index('edge_id', append=True) \\\n",
    "    .reorder_levels((0,1,3,2))"
   ]
  },
  {
   "cell_type": "code",
   "execution_count": null,
   "metadata": {},
   "outputs": [],
   "source": [
    "min_traj_len = 300\n",
    "min_speed_ratio = 0.75\n",
    "\n",
    "df_train = df.groupby(df.index.names[:-1]) \\\n",
    "            .filter(lambda grp: (len(grp) >= min_traj_len) & (speed_ratio(grp) >= min_speed_ratio))"
   ]
  },
  {
   "cell_type": "code",
   "execution_count": null,
   "metadata": {},
   "outputs": [],
   "source": [
    "df_train_agg = rolling_agg(df_train, window_size=150, step=150, agg_dict={ \n",
    "    'xtrack_dist': ['std'],\n",
    "    'avg_surr_speed': ['mean','std'],\n",
    "    'lanes':['median'],\n",
    "    'len':['median'],\n",
    "    'speed':['mean','std'],\n",
    "    'vehicle_density': ['median'],\n",
    "    'lon_acc': ['mean','std'],\n",
    "    'lat_acc': ['mean','std']\n",
    "})\n",
    "\n",
    "g = df_train_agg.groupby('type', group_keys=False)\n",
    "df_train_agg = g.apply(lambda grp: grp.sample(g.size().min()))\n",
    "\n",
    "X,y = df_train_agg.drop('type', axis=1), df_train_agg.type"
   ]
  },
  {
   "cell_type": "code",
   "execution_count": null,
   "metadata": {},
   "outputs": [],
   "source": [
    "model_params = {\n",
    "    'svm': {\n",
    "        'model': svm.SVC(),\n",
    "        'params' : {\n",
    "            'C': [1,10,100,1000],\n",
    "            'gamma': ['scale','auto']\n",
    "            'kernel': ['linear','poly','rbf','sigmoid','precomputed']\n",
    "\n",
    "        }  \n",
    "    },\n",
    "    'random_forest': {\n",
    "        'model': RandomForestClassifier(),\n",
    "        'params' : {\n",
    "            'n_estimators': [200,400,600,800,1000,1400, 1600, 1800, 2000]\n",
    "        }\n",
    "    },\n",
    "    'ada_boost' : {\n",
    "        'model': AdaBoostClassifier(),\n",
    "        'params': {\n",
    "            'n_estimators': [200,400,600,800,1000,1400, 1600, 1800, 2000]\n",
    "        }\n",
    "    },\n",
    "    'gradient_boost' : {\n",
    "        'model': GradientBoostingClassifier(),\n",
    "        'params': {\n",
    "            'n_estimators': [200,400,600,800,1000,1400, 1600, 1800, 2000]\n",
    "        }\n",
    "    },\n",
    "    'logistic_regression' : {\n",
    "        'model': LogisticRegression(solver='liblinear'),\n",
    "        'params': {\n",
    "            'penalty': ['l1','l2'],\n",
    "            'C': [1,10,100,1000]\n",
    "        }\n",
    "    },\n",
    "    'MLP' : {\n",
    "        'model': MLPClassifier(),\n",
    "        'params': {\n",
    "            'hidden_layer_sizes': [25, 100, 250],\n",
    "            'activation': ['identity','lbfgs','tanh', 'relu'],\n",
    "            'solver': ['lbfgs', 'sgd', 'adam'],\n",
    "            'alpha': [0.0001, 0.01, 0.05],\n",
    "            'learning_rate': ['constant','invscaling','adaptive']\n",
    "\n",
    "        }\n",
    "    }    \n",
    "}"
   ]
  },
  {
   "cell_type": "code",
   "execution_count": null,
   "metadata": {},
   "outputs": [],
   "source": [
    "for model_name, mp in model_params.items():\n",
    "    clf =  GridSearchCV(mp['model'], mp['params'], cv=5, return_train_score=False)\n",
    "    clf.fit(X,y)\n",
    "    scores.append({\n",
    "        'model': model_name,\n",
    "        'best_score': clf.best_score_,\n",
    "        'best_params': clf.best_params_\n",
    "    })\n",
    "    \n",
    "df = pd.DataFrame(scores,columns=['model','best_score','best_params'])"
   ]
  }
 ]
}