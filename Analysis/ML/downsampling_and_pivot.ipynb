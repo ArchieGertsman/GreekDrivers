{
 "cells": [
  {
   "cell_type": "code",
   "execution_count": 1,
   "metadata": {},
   "outputs": [],
   "source": [
    "import pandas as pd\n",
    "import numpy as np"
   ]
  },
  {
   "cell_type": "code",
   "execution_count": 2,
   "metadata": {
    "scrolled": true
   },
   "outputs": [
    {
     "output_type": "execute_result",
     "data": {
      "text/plain": [
       "                                              lat        lon    speed  \\\n",
       "file_name id edge_id             time                                   \n",
       "4_1       1  250699362_250699984 42.00  37.982746  23.732961  11.9046   \n",
       "                                 42.04  37.982746  23.732963  11.8975   \n",
       "                                 42.08  37.982747  23.732964  11.8919   \n",
       "                                 42.12  37.982748  23.732965  11.8871   \n",
       "                                 42.16  37.982748  23.732966  11.8831   \n",
       "\n",
       "                                        lon_acc  lat_acc  type  traveled_d  \\\n",
       "file_name id edge_id             time                                        \n",
       "4_1       1  250699362_250699984 42.00  -0.1145   0.0138  Taxi      182.37   \n",
       "                                 42.04  -0.1007   0.0147  Taxi      182.37   \n",
       "                                 42.08  -0.0918   0.0157  Taxi      182.37   \n",
       "                                 42.12  -0.0869   0.0167  Taxi      182.37   \n",
       "                                 42.16  -0.0784   0.0176  Taxi      182.37   \n",
       "\n",
       "                                        avg_speed   bearing  \\\n",
       "file_name id edge_id             time                         \n",
       "4_1       1  250699362_250699984 42.00   9.740748  1.570795   \n",
       "                                 42.04   9.740748  0.168572   \n",
       "                                 42.08   9.740748  0.168573   \n",
       "                                 42.12   9.740748  1.570796   \n",
       "                                 42.16   9.740748  0.328080   \n",
       "\n",
       "                                        nearest_edge_start_node  ...  dir  \\\n",
       "file_name id edge_id             time                            ...        \n",
       "4_1       1  250699362_250699984 42.00                250699362  ...    0   \n",
       "                                 42.04                250699362  ...    0   \n",
       "                                 42.08                250699362  ...    0   \n",
       "                                 42.12                250699362  ...    0   \n",
       "                                 42.16                250699362  ...    0   \n",
       "\n",
       "                                        xtrack_dist  time_stamp  \\\n",
       "file_name id edge_id             time                             \n",
       "4_1       1  250699362_250699984 42.00    -1.883401       42.00   \n",
       "                                 42.04    -1.980795       42.04   \n",
       "                                 42.08    -1.937041       42.08   \n",
       "                                 42.12    -1.893287       42.12   \n",
       "                                 42.16    -1.941984       42.16   \n",
       "\n",
       "                                        edge_progress_intervals     len  \\\n",
       "file_name id edge_id             time                                     \n",
       "4_1       1  250699362_250699984 42.00                      0.3  97.581   \n",
       "                                 42.04                      0.3  97.581   \n",
       "                                 42.08                      0.3  97.581   \n",
       "                                 42.12                      0.3  97.581   \n",
       "                                 42.16                      0.3  97.581   \n",
       "\n",
       "                                        lanes  node_veh_dist  edge_seg  \\\n",
       "file_name id edge_id             time                                    \n",
       "4_1       1  250699362_250699984 42.00    5.4      29.814330       1.0   \n",
       "                                 42.04    5.4      29.674830       1.0   \n",
       "                                 42.08    5.4      29.537753       1.0   \n",
       "                                 42.12    5.4      29.400718       1.0   \n",
       "                                 42.16    5.4      29.330986       1.0   \n",
       "\n",
       "                                        vehicle_density  avg_surr_speed  \n",
       "file_name id edge_id             time                                    \n",
       "4_1       1  250699362_250699984 42.00                7       10.464171  \n",
       "                                 42.04                7       10.457843  \n",
       "                                 42.08                7       10.452857  \n",
       "                                 42.12                7       10.448586  \n",
       "                                 42.16                7       10.444986  \n",
       "\n",
       "[5 rows x 22 columns]"
      ],
      "text/html": "<div>\n<style scoped>\n    .dataframe tbody tr th:only-of-type {\n        vertical-align: middle;\n    }\n\n    .dataframe tbody tr th {\n        vertical-align: top;\n    }\n\n    .dataframe thead th {\n        text-align: right;\n    }\n</style>\n<table border=\"1\" class=\"dataframe\">\n  <thead>\n    <tr style=\"text-align: right;\">\n      <th></th>\n      <th></th>\n      <th></th>\n      <th></th>\n      <th>lat</th>\n      <th>lon</th>\n      <th>speed</th>\n      <th>lon_acc</th>\n      <th>lat_acc</th>\n      <th>type</th>\n      <th>traveled_d</th>\n      <th>avg_speed</th>\n      <th>bearing</th>\n      <th>nearest_edge_start_node</th>\n      <th>...</th>\n      <th>dir</th>\n      <th>xtrack_dist</th>\n      <th>time_stamp</th>\n      <th>edge_progress_intervals</th>\n      <th>len</th>\n      <th>lanes</th>\n      <th>node_veh_dist</th>\n      <th>edge_seg</th>\n      <th>vehicle_density</th>\n      <th>avg_surr_speed</th>\n    </tr>\n    <tr>\n      <th>file_name</th>\n      <th>id</th>\n      <th>edge_id</th>\n      <th>time</th>\n      <th></th>\n      <th></th>\n      <th></th>\n      <th></th>\n      <th></th>\n      <th></th>\n      <th></th>\n      <th></th>\n      <th></th>\n      <th></th>\n      <th></th>\n      <th></th>\n      <th></th>\n      <th></th>\n      <th></th>\n      <th></th>\n      <th></th>\n      <th></th>\n      <th></th>\n      <th></th>\n      <th></th>\n    </tr>\n  </thead>\n  <tbody>\n    <tr>\n      <th rowspan=\"5\" valign=\"top\">4_1</th>\n      <th rowspan=\"5\" valign=\"top\">1</th>\n      <th rowspan=\"5\" valign=\"top\">250699362_250699984</th>\n      <th>42.00</th>\n      <td>37.982746</td>\n      <td>23.732961</td>\n      <td>11.9046</td>\n      <td>-0.1145</td>\n      <td>0.0138</td>\n      <td>Taxi</td>\n      <td>182.37</td>\n      <td>9.740748</td>\n      <td>1.570795</td>\n      <td>250699362</td>\n      <td>...</td>\n      <td>0</td>\n      <td>-1.883401</td>\n      <td>42.00</td>\n      <td>0.3</td>\n      <td>97.581</td>\n      <td>5.4</td>\n      <td>29.814330</td>\n      <td>1.0</td>\n      <td>7</td>\n      <td>10.464171</td>\n    </tr>\n    <tr>\n      <th>42.04</th>\n      <td>37.982746</td>\n      <td>23.732963</td>\n      <td>11.8975</td>\n      <td>-0.1007</td>\n      <td>0.0147</td>\n      <td>Taxi</td>\n      <td>182.37</td>\n      <td>9.740748</td>\n      <td>0.168572</td>\n      <td>250699362</td>\n      <td>...</td>\n      <td>0</td>\n      <td>-1.980795</td>\n      <td>42.04</td>\n      <td>0.3</td>\n      <td>97.581</td>\n      <td>5.4</td>\n      <td>29.674830</td>\n      <td>1.0</td>\n      <td>7</td>\n      <td>10.457843</td>\n    </tr>\n    <tr>\n      <th>42.08</th>\n      <td>37.982747</td>\n      <td>23.732964</td>\n      <td>11.8919</td>\n      <td>-0.0918</td>\n      <td>0.0157</td>\n      <td>Taxi</td>\n      <td>182.37</td>\n      <td>9.740748</td>\n      <td>0.168573</td>\n      <td>250699362</td>\n      <td>...</td>\n      <td>0</td>\n      <td>-1.937041</td>\n      <td>42.08</td>\n      <td>0.3</td>\n      <td>97.581</td>\n      <td>5.4</td>\n      <td>29.537753</td>\n      <td>1.0</td>\n      <td>7</td>\n      <td>10.452857</td>\n    </tr>\n    <tr>\n      <th>42.12</th>\n      <td>37.982748</td>\n      <td>23.732965</td>\n      <td>11.8871</td>\n      <td>-0.0869</td>\n      <td>0.0167</td>\n      <td>Taxi</td>\n      <td>182.37</td>\n      <td>9.740748</td>\n      <td>1.570796</td>\n      <td>250699362</td>\n      <td>...</td>\n      <td>0</td>\n      <td>-1.893287</td>\n      <td>42.12</td>\n      <td>0.3</td>\n      <td>97.581</td>\n      <td>5.4</td>\n      <td>29.400718</td>\n      <td>1.0</td>\n      <td>7</td>\n      <td>10.448586</td>\n    </tr>\n    <tr>\n      <th>42.16</th>\n      <td>37.982748</td>\n      <td>23.732966</td>\n      <td>11.8831</td>\n      <td>-0.0784</td>\n      <td>0.0176</td>\n      <td>Taxi</td>\n      <td>182.37</td>\n      <td>9.740748</td>\n      <td>0.328080</td>\n      <td>250699362</td>\n      <td>...</td>\n      <td>0</td>\n      <td>-1.941984</td>\n      <td>42.16</td>\n      <td>0.3</td>\n      <td>97.581</td>\n      <td>5.4</td>\n      <td>29.330986</td>\n      <td>1.0</td>\n      <td>7</td>\n      <td>10.444986</td>\n    </tr>\n  </tbody>\n</table>\n<p>5 rows × 22 columns</p>\n</div>"
     },
     "metadata": {},
     "execution_count": 2
    }
   ],
   "source": [
    "df_full = pd.read_pickle('../../Data/block4_concat_lane.pkl')  \\\n",
    "    .set_index('edge_id', append=True) \\\n",
    "    .reorder_levels((0,1,3,2))\n",
    "\n",
    "df_full.head()"
   ]
  },
  {
   "cell_type": "code",
   "execution_count": 6,
   "metadata": {},
   "outputs": [
    {
     "output_type": "execute_result",
     "data": {
      "text/plain": [
       "file_name  id    edge_id               time  \n",
       "4_1        1     250699362_250699984   42.00    -4.667009\n",
       "                                       42.04    -4.764403\n",
       "                                       42.08    -4.720649\n",
       "                                       42.12    -4.676895\n",
       "                                       42.16    -4.725592\n",
       "                                                   ...   \n",
       "1_3        2116  300400248_8446047162  921.64    0.000000\n",
       "                                       921.68    0.000000\n",
       "                                       921.72    0.000000\n",
       "                                       921.76    0.000000\n",
       "                                       921.80    0.000000\n",
       "Name: xtrack_diff, Length: 2997687, dtype: float64"
      ]
     },
     "metadata": {},
     "execution_count": 6
    }
   ],
   "source": [
    "df_full['xtrack_diff'] = df_full.xtrack_dist \\\n",
    "    .groupby(df_full.index.names[-1]) \\\n",
    "    .apply(lambda x: (x - x.shift(-1)).fillna(0))\n",
    "    \n",
    "df_full.xtrack_diff"
   ]
  },
  {
   "cell_type": "code",
   "execution_count": 21,
   "metadata": {},
   "outputs": [],
   "source": [
    " # helper functions\n",
    "\n",
    "def speed_ratio(grp, min_speed=0):\n",
    "    return len(grp[grp.speed > min_speed]) / len(grp)\n",
    "\n",
    "def pivot(A, col_factor):\n",
    "    c = A.shape[1]\n",
    "    if A.size < col_factor*c:\n",
    "        return None\n",
    "    r_new = A.size // (col_factor*c)\n",
    "    A = A[:col_factor*r_new]\n",
    "    return A.to_numpy().reshape(r_new, col_factor*c)"
   ]
  },
  {
   "cell_type": "code",
   "execution_count": 22,
   "metadata": {},
   "outputs": [
    {
     "output_type": "execute_result",
     "data": {
      "text/plain": [
       "                                     xtrack_diff_0    speed_0  \\\n",
       "file_name id   edge_id                                          \n",
       "1_2       4    250709162_250709255        3.740305   7.291234   \n",
       "          6    250691795_250699359       -0.742157  21.733537   \n",
       "               250691795_250699359        4.436867   9.737934   \n",
       "               250691795_250699359        2.895003   8.895566   \n",
       "          12   250691795_250699359        3.081147  38.829820   \n",
       "...                                            ...        ...   \n",
       "4_3       1685 300400248_8446047162       1.247009  26.350702   \n",
       "          1686 250699362_250699984        0.471425  24.623982   \n",
       "               250699362_250699984        1.105543   4.060922   \n",
       "          1687 250708556_250708641       -0.593480  25.622611   \n",
       "          1693 250699362_250699984       -2.706408  22.947918   \n",
       "\n",
       "                                     vehicle_density_0  lat_acc_0  lon_acc_0  \\\n",
       "file_name id   edge_id                                                         \n",
       "1_2       4    250709162_250709255               1.096   0.019432  -0.167862   \n",
       "          6    250691795_250699359               2.160   0.979492   0.482154   \n",
       "               250691795_250699359               3.904   0.034467  -0.994580   \n",
       "               250691795_250699359               4.416   0.038436   1.031973   \n",
       "          12   250691795_250699359               2.480   0.054487   0.007730   \n",
       "...                                                ...        ...        ...   \n",
       "4_3       1685 300400248_8446047162              1.296   0.037899  -0.231716   \n",
       "          1686 250699362_250699984               2.312  -0.010266  -0.073733   \n",
       "               250699362_250699984               2.000  -0.011482  -0.884302   \n",
       "          1687 250708556_250708641               1.504   0.008475  -0.472311   \n",
       "          1693 250699362_250699984               1.400  -0.000066   0.008859   \n",
       "\n",
       "                                     xtrack_diff_1    speed_1  \\\n",
       "file_name id   edge_id                                          \n",
       "1_2       4    250709162_250709255       -0.897276  15.629562   \n",
       "          6    250691795_250699359        2.797466  22.738274   \n",
       "               250691795_250699359        3.291725   0.038267   \n",
       "               250691795_250699359        0.877818  20.324398   \n",
       "          12   250691795_250699359        1.466878  29.519573   \n",
       "...                                            ...        ...   \n",
       "4_3       1685 300400248_8446047162       1.901432  23.764822   \n",
       "          1686 250699362_250699984        1.273754  19.062535   \n",
       "               250699362_250699984        1.035780   0.000004   \n",
       "          1687 250708556_250708641       -1.543024  10.067907   \n",
       "          1693 250699362_250699984       -0.302938  17.368280   \n",
       "\n",
       "                                     vehicle_density_1  lat_acc_1  lon_acc_1  \n",
       "file_name id   edge_id                                                        \n",
       "1_2       4    250709162_250709255               1.912  -0.000499   0.776982  \n",
       "          6    250691795_250699359               1.992   0.069279  -0.366894  \n",
       "               250691795_250699359               4.800  -0.000918  -0.039926  \n",
       "               250691795_250699359               4.000   0.029646   0.391052  \n",
       "          12   250691795_250699359               3.592   0.027346  -0.940948  \n",
       "...                                                ...        ...        ...  \n",
       "4_3       1685 300400248_8446047162              1.192  -0.012162  -0.105464  \n",
       "          1686 250699362_250699984               2.800  -0.014959  -0.430257  \n",
       "               250699362_250699984               2.000   0.000000  -0.000012  \n",
       "          1687 250708556_250708641               1.392  -0.032313  -0.954465  \n",
       "          1693 250699362_250699984               1.448  -0.018624  -0.578274  \n",
       "\n",
       "[2810 rows x 10 columns]"
      ],
      "text/html": "<div>\n<style scoped>\n    .dataframe tbody tr th:only-of-type {\n        vertical-align: middle;\n    }\n\n    .dataframe tbody tr th {\n        vertical-align: top;\n    }\n\n    .dataframe thead th {\n        text-align: right;\n    }\n</style>\n<table border=\"1\" class=\"dataframe\">\n  <thead>\n    <tr style=\"text-align: right;\">\n      <th></th>\n      <th></th>\n      <th></th>\n      <th>xtrack_diff_0</th>\n      <th>speed_0</th>\n      <th>vehicle_density_0</th>\n      <th>lat_acc_0</th>\n      <th>lon_acc_0</th>\n      <th>xtrack_diff_1</th>\n      <th>speed_1</th>\n      <th>vehicle_density_1</th>\n      <th>lat_acc_1</th>\n      <th>lon_acc_1</th>\n    </tr>\n    <tr>\n      <th>file_name</th>\n      <th>id</th>\n      <th>edge_id</th>\n      <th></th>\n      <th></th>\n      <th></th>\n      <th></th>\n      <th></th>\n      <th></th>\n      <th></th>\n      <th></th>\n      <th></th>\n      <th></th>\n    </tr>\n  </thead>\n  <tbody>\n    <tr>\n      <th rowspan=\"5\" valign=\"top\">1_2</th>\n      <th>4</th>\n      <th>250709162_250709255</th>\n      <td>3.740305</td>\n      <td>7.291234</td>\n      <td>1.096</td>\n      <td>0.019432</td>\n      <td>-0.167862</td>\n      <td>-0.897276</td>\n      <td>15.629562</td>\n      <td>1.912</td>\n      <td>-0.000499</td>\n      <td>0.776982</td>\n    </tr>\n    <tr>\n      <th rowspan=\"3\" valign=\"top\">6</th>\n      <th>250691795_250699359</th>\n      <td>-0.742157</td>\n      <td>21.733537</td>\n      <td>2.160</td>\n      <td>0.979492</td>\n      <td>0.482154</td>\n      <td>2.797466</td>\n      <td>22.738274</td>\n      <td>1.992</td>\n      <td>0.069279</td>\n      <td>-0.366894</td>\n    </tr>\n    <tr>\n      <th>250691795_250699359</th>\n      <td>4.436867</td>\n      <td>9.737934</td>\n      <td>3.904</td>\n      <td>0.034467</td>\n      <td>-0.994580</td>\n      <td>3.291725</td>\n      <td>0.038267</td>\n      <td>4.800</td>\n      <td>-0.000918</td>\n      <td>-0.039926</td>\n    </tr>\n    <tr>\n      <th>250691795_250699359</th>\n      <td>2.895003</td>\n      <td>8.895566</td>\n      <td>4.416</td>\n      <td>0.038436</td>\n      <td>1.031973</td>\n      <td>0.877818</td>\n      <td>20.324398</td>\n      <td>4.000</td>\n      <td>0.029646</td>\n      <td>0.391052</td>\n    </tr>\n    <tr>\n      <th>12</th>\n      <th>250691795_250699359</th>\n      <td>3.081147</td>\n      <td>38.829820</td>\n      <td>2.480</td>\n      <td>0.054487</td>\n      <td>0.007730</td>\n      <td>1.466878</td>\n      <td>29.519573</td>\n      <td>3.592</td>\n      <td>0.027346</td>\n      <td>-0.940948</td>\n    </tr>\n    <tr>\n      <th>...</th>\n      <th>...</th>\n      <th>...</th>\n      <td>...</td>\n      <td>...</td>\n      <td>...</td>\n      <td>...</td>\n      <td>...</td>\n      <td>...</td>\n      <td>...</td>\n      <td>...</td>\n      <td>...</td>\n      <td>...</td>\n    </tr>\n    <tr>\n      <th rowspan=\"5\" valign=\"top\">4_3</th>\n      <th>1685</th>\n      <th>300400248_8446047162</th>\n      <td>1.247009</td>\n      <td>26.350702</td>\n      <td>1.296</td>\n      <td>0.037899</td>\n      <td>-0.231716</td>\n      <td>1.901432</td>\n      <td>23.764822</td>\n      <td>1.192</td>\n      <td>-0.012162</td>\n      <td>-0.105464</td>\n    </tr>\n    <tr>\n      <th rowspan=\"2\" valign=\"top\">1686</th>\n      <th>250699362_250699984</th>\n      <td>0.471425</td>\n      <td>24.623982</td>\n      <td>2.312</td>\n      <td>-0.010266</td>\n      <td>-0.073733</td>\n      <td>1.273754</td>\n      <td>19.062535</td>\n      <td>2.800</td>\n      <td>-0.014959</td>\n      <td>-0.430257</td>\n    </tr>\n    <tr>\n      <th>250699362_250699984</th>\n      <td>1.105543</td>\n      <td>4.060922</td>\n      <td>2.000</td>\n      <td>-0.011482</td>\n      <td>-0.884302</td>\n      <td>1.035780</td>\n      <td>0.000004</td>\n      <td>2.000</td>\n      <td>0.000000</td>\n      <td>-0.000012</td>\n    </tr>\n    <tr>\n      <th>1687</th>\n      <th>250708556_250708641</th>\n      <td>-0.593480</td>\n      <td>25.622611</td>\n      <td>1.504</td>\n      <td>0.008475</td>\n      <td>-0.472311</td>\n      <td>-1.543024</td>\n      <td>10.067907</td>\n      <td>1.392</td>\n      <td>-0.032313</td>\n      <td>-0.954465</td>\n    </tr>\n    <tr>\n      <th>1693</th>\n      <th>250699362_250699984</th>\n      <td>-2.706408</td>\n      <td>22.947918</td>\n      <td>1.400</td>\n      <td>-0.000066</td>\n      <td>0.008859</td>\n      <td>-0.302938</td>\n      <td>17.368280</td>\n      <td>1.448</td>\n      <td>-0.018624</td>\n      <td>-0.578274</td>\n    </tr>\n  </tbody>\n</table>\n<p>2810 rows × 10 columns</p>\n</div>"
     },
     "metadata": {},
     "execution_count": 22
    }
   ],
   "source": [
    "# filtering thresholds\n",
    "min_traj_len = 300\n",
    "min_speed_ratio = 0.75\n",
    "\n",
    "# filter out unwanted trajectories\n",
    "df = df_full.groupby(df_full.index.names[:-1]) \\\n",
    "            .filter(lambda grp: (len(grp) >= min_traj_len) & (speed_ratio(grp) >= min_speed_ratio))\n",
    "\n",
    "\n",
    "# features to aggregate (only using mean)\n",
    "feature_list = ['xtrack_diff','speed','vehicle_density','lat_acc','lon_acc']\n",
    "\n",
    "\n",
    "# factor by which the number of columns will increase after pivoting\n",
    "col_factor = 2\n",
    "\n",
    "\n",
    "# size of aggregating window in seconds\n",
    "window = '5S'\n",
    "\n",
    "\n",
    "# function for groupby.apply that will downsample a trajectory and pivot it\n",
    "def f(grp):\n",
    "    grp = grp.reset_index(level=(0,1,2), drop=True)\n",
    "    grp.index = pd.TimedeltaIndex(grp.index,unit='s')\n",
    "    grp = grp.resample(window).mean().reset_index(drop=True)\n",
    "    return pd.DataFrame(pivot(grp,2))\n",
    "\n",
    "\n",
    "df = df[feature_list] \\\n",
    "    .groupby(df[feature_list].index.names[:-1]) \\\n",
    "    .apply(f) \\\n",
    "    .dropna() \\\n",
    "    .reset_index(level=-1, drop=True)\n",
    "\n",
    "df.columns = [feature+'_'+str(i) for i in range(col_factor) for feature in feature_list]\n",
    "df"
   ]
  },
  {
   "cell_type": "code",
   "execution_count": 23,
   "metadata": {},
   "outputs": [
    {
     "output_type": "execute_result",
     "data": {
      "text/plain": [
       "                                  xtrack_diff_0    speed_0  vehicle_density_0  \\\n",
       "file_name id edge_id                                                            \n",
       "1_2       6  250691795_250699359      -0.742157  21.733537              2.160   \n",
       "             250691795_250699359       4.436867   9.737934              3.904   \n",
       "             250691795_250699359       2.895003   8.895566              4.416   \n",
       "\n",
       "                                  lat_acc_0  lon_acc_0  xtrack_diff_1  \\\n",
       "file_name id edge_id                                                    \n",
       "1_2       6  250691795_250699359   0.979492   0.482154       2.797466   \n",
       "             250691795_250699359   0.034467  -0.994580       3.291725   \n",
       "             250691795_250699359   0.038436   1.031973       0.877818   \n",
       "\n",
       "                                    speed_1  vehicle_density_1  lat_acc_1  \\\n",
       "file_name id edge_id                                                        \n",
       "1_2       6  250691795_250699359  22.738274              1.992   0.069279   \n",
       "             250691795_250699359   0.038267              4.800  -0.000918   \n",
       "             250691795_250699359  20.324398              4.000   0.029646   \n",
       "\n",
       "                                  lon_acc_1  \n",
       "file_name id edge_id                         \n",
       "1_2       6  250691795_250699359  -0.366894  \n",
       "             250691795_250699359  -0.039926  \n",
       "             250691795_250699359   0.391052  "
      ],
      "text/html": "<div>\n<style scoped>\n    .dataframe tbody tr th:only-of-type {\n        vertical-align: middle;\n    }\n\n    .dataframe tbody tr th {\n        vertical-align: top;\n    }\n\n    .dataframe thead th {\n        text-align: right;\n    }\n</style>\n<table border=\"1\" class=\"dataframe\">\n  <thead>\n    <tr style=\"text-align: right;\">\n      <th></th>\n      <th></th>\n      <th></th>\n      <th>xtrack_diff_0</th>\n      <th>speed_0</th>\n      <th>vehicle_density_0</th>\n      <th>lat_acc_0</th>\n      <th>lon_acc_0</th>\n      <th>xtrack_diff_1</th>\n      <th>speed_1</th>\n      <th>vehicle_density_1</th>\n      <th>lat_acc_1</th>\n      <th>lon_acc_1</th>\n    </tr>\n    <tr>\n      <th>file_name</th>\n      <th>id</th>\n      <th>edge_id</th>\n      <th></th>\n      <th></th>\n      <th></th>\n      <th></th>\n      <th></th>\n      <th></th>\n      <th></th>\n      <th></th>\n      <th></th>\n      <th></th>\n    </tr>\n  </thead>\n  <tbody>\n    <tr>\n      <th rowspan=\"3\" valign=\"top\">1_2</th>\n      <th rowspan=\"3\" valign=\"top\">6</th>\n      <th>250691795_250699359</th>\n      <td>-0.742157</td>\n      <td>21.733537</td>\n      <td>2.160</td>\n      <td>0.979492</td>\n      <td>0.482154</td>\n      <td>2.797466</td>\n      <td>22.738274</td>\n      <td>1.992</td>\n      <td>0.069279</td>\n      <td>-0.366894</td>\n    </tr>\n    <tr>\n      <th>250691795_250699359</th>\n      <td>4.436867</td>\n      <td>9.737934</td>\n      <td>3.904</td>\n      <td>0.034467</td>\n      <td>-0.994580</td>\n      <td>3.291725</td>\n      <td>0.038267</td>\n      <td>4.800</td>\n      <td>-0.000918</td>\n      <td>-0.039926</td>\n    </tr>\n    <tr>\n      <th>250691795_250699359</th>\n      <td>2.895003</td>\n      <td>8.895566</td>\n      <td>4.416</td>\n      <td>0.038436</td>\n      <td>1.031973</td>\n      <td>0.877818</td>\n      <td>20.324398</td>\n      <td>4.000</td>\n      <td>0.029646</td>\n      <td>0.391052</td>\n    </tr>\n  </tbody>\n</table>\n</div>"
     },
     "metadata": {},
     "execution_count": 23
    }
   ],
   "source": [
    "# example trajectory\n",
    "df.loc[('1_2',   6,  '250691795_250699359')]"
   ]
  }
 ],
 "metadata": {
  "kernelspec": {
   "name": "python3",
   "display_name": "Python 3.8.5 64-bit ('base': conda)"
  },
  "language_info": {
   "codemirror_mode": {
    "name": "ipython",
    "version": 3
   },
   "file_extension": ".py",
   "mimetype": "text/x-python",
   "name": "python",
   "nbconvert_exporter": "python",
   "pygments_lexer": "ipython3",
   "version": "3.8.5"
  },
  "interpreter": {
   "hash": "dca0ade3e726a953b501b15e8e990130d2b7799f14cfd9f4271676035ebe5511"
  }
 },
 "nbformat": 4,
 "nbformat_minor": 4
}