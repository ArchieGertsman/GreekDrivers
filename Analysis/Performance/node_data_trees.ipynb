{
 "metadata": {
  "language_info": {
   "codemirror_mode": {
    "name": "ipython",
    "version": 3
   },
   "file_extension": ".py",
   "mimetype": "text/x-python",
   "name": "python",
   "nbconvert_exporter": "python",
   "pygments_lexer": "ipython3",
   "version": "3.9.2"
  },
  "orig_nbformat": 2,
  "kernelspec": {
   "name": "python392jvsc74a57bd072326583629048dad8c9a913f12cb6cad5a38ceace067d86c7872c2b0df37259",
   "display_name": "Python 3.9.2 64-bit ('ox': conda)"
  }
 },
 "nbformat": 4,
 "nbformat_minor": 2,
 "cells": [
  {
   "cell_type": "code",
   "execution_count": 1,
   "metadata": {},
   "outputs": [
    {
     "output_type": "execute_result",
     "data": {
      "text/plain": [
       "'node_data.ipynb\\ndescription: tree-based methods of computing nearest edge data are analyzed for performace\\nby: Archie Gertsman (arkadiy2@illinois.edu)\\nProject director: Richard Sowers\\nr-sowers@illinois.eduhttps://publish.illinois.edu/r-sowers/\\nCopyright 2019 University of Illinois Board of Trustees. All Rights Reserved. Licensed under the MIT license\\n'"
      ]
     },
     "metadata": {},
     "execution_count": 1
    }
   ],
   "source": [
    "\"\"\"node_data.ipynb\n",
    "description: tree-based methods of computing nearest edge data are analyzed for performace\n",
    "by: Archie Gertsman (arkadiy2@illinois.edu)\n",
    "Project director: Richard Sowers\n",
    "r-sowers@illinois.eduhttps://publish.illinois.edu/r-sowers/\n",
    "Copyright 2019 University of Illinois Board of Trustees. All Rights Reserved. Licensed under the MIT license\n",
    "\"\"\""
   ]
  },
  {
   "cell_type": "code",
   "execution_count": 8,
   "metadata": {},
   "outputs": [],
   "source": [
    "import sys\n",
    "sys.path.append('../Data/')\n",
    "from data import csv_to_df\n",
    "import osmnx as ox\n",
    "from time import time\n",
    "import numpy as np\n",
    "import geopandas\n",
    "\n",
    "# unprojected graph and dataframe\n",
    "g = ox.graph_from_point((37.977482, 23.735405), network_type='drive', dist=500) \n",
    "df = csv_to_df('../Data/sample_larger.csv')\n",
    "\n",
    "# projected versions\n",
    "WORLD_EPSG = 4326\n",
    "df_proj = geopandas.GeoDataFrame(\n",
    "    df, geometry=geopandas.points_from_xy(df['lon'], df['lat']))\n",
    "df_proj.crs = WORLD_EPSG\n",
    "df_proj = ox.project_gdf(df_proj)\n",
    "g_proj = ox.project_graph(g)"
   ]
  },
  {
   "cell_type": "code",
   "execution_count": 11,
   "metadata": {},
   "outputs": [
    {
     "output_type": "execute_result",
     "data": {
      "text/plain": [
       "5.9007227420806885"
      ]
     },
     "metadata": {},
     "execution_count": 11
    }
   ],
   "source": [
    "# testing unprojected/balltree speed\n",
    "start = time()\n",
    "b = ox.get_nearest_edges(g, df['lon'], df['lat'], method='balltree')\n",
    "time() - start"
   ]
  },
  {
   "cell_type": "code",
   "execution_count": 12,
   "metadata": {},
   "outputs": [
    {
     "output_type": "execute_result",
     "data": {
      "text/plain": [
       "17.569602012634277"
      ]
     },
     "metadata": {},
     "execution_count": 12
    }
   ],
   "source": [
    "# testing projected/kdtree speed\n",
    "start = time()\n",
    "a = ox.get_nearest_edges(g_proj, df_proj['geometry'].x, df_proj['geometry'].y, method='kdtree', dist=100)\n",
    "time() - start"
   ]
  },
  {
   "cell_type": "code",
   "execution_count": null,
   "metadata": {},
   "outputs": [],
   "source": []
  }
 ]
}