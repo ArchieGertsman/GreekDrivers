{
 "metadata": {
  "language_info": {
   "codemirror_mode": {
    "name": "ipython",
    "version": 3
   },
   "file_extension": ".py",
   "mimetype": "text/x-python",
   "name": "python",
   "nbconvert_exporter": "python",
   "pygments_lexer": "ipython3",
   "version": "3.9.2-final"
  },
  "orig_nbformat": 2,
  "kernelspec": {
   "name": "python3",
   "display_name": "Python 3",
   "language": "python"
  }
 },
 "nbformat": 4,
 "nbformat_minor": 2,
 "cells": [
  {
   "cell_type": "code",
   "execution_count": 15,
   "metadata": {},
   "outputs": [
    {
     "output_type": "execute_result",
     "data": {
      "text/plain": [
       "'statistics.ipynb\\nby: \\n- Sheil Kumar (sk17@illinois.edu)\\n- Archie Gertsman (arkadiy2@illinois.edu)\\nProject director: Richard Sowers\\nr-sowers@illinois.eduhttps://publish.illinois.edu/r-sowers/\\nCopyright 2019 University of Illinois Board of Trustees. All Rights Reserved. Licensed under the MIT license\\n'"
      ]
     },
     "metadata": {},
     "execution_count": 15
    }
   ],
   "source": [
    "\"\"\"statistics.ipynb\n",
    "by: \n",
    "- Sheil Kumar (sk17@illinois.edu)\n",
    "- Archie Gertsman (arkadiy2@illinois.edu)\n",
    "Project director: Richard Sowers\n",
    "r-sowers@illinois.eduhttps://publish.illinois.edu/r-sowers/\n",
    "Copyright 2019 University of Illinois Board of Trustees. All Rights Reserved. Licensed under the MIT license\n",
    "\"\"\""
   ]
  },
  {
   "cell_type": "code",
   "execution_count": 16,
   "metadata": {},
   "outputs": [],
   "source": [
    "from data import csv_to_df"
   ]
  },
  {
   "cell_type": "code",
   "execution_count": 17,
   "metadata": {},
   "outputs": [],
   "source": [
    "df = csv_to_df(\"sample_larger.csv\")"
   ]
  },
  {
   "cell_type": "code",
   "execution_count": 18,
   "metadata": {},
   "outputs": [
    {
     "output_type": "execute_result",
     "data": {
      "text/plain": [
       "                    speed                       lon_acc             lat_acc  \\\n",
       "                     mean   median        std      mean       std      mean   \n",
       "type                                                                          \n",
       "Bus              6.177127   0.0000  10.690039  0.004286  0.451655  0.013791   \n",
       "Car             14.376883  10.9826  15.020322  0.034161  0.728066  0.009198   \n",
       "Heavy Vehicle    2.976959   0.0000   6.282623  0.018361  0.333205 -0.005499   \n",
       "Medium Vehicle   7.044667   0.0000  12.058974  0.024608  0.510726  0.012723   \n",
       "Motorcycle      17.321996  12.3168  18.654670  0.014790  1.025071  0.002600   \n",
       "Taxi            13.176267   9.0337  14.339080  0.027487  0.669433  0.008622   \n",
       "\n",
       "                                lon                   lat             \n",
       "                     std        min        max        min        max  \n",
       "type                                                                  \n",
       "Bus             0.198339  23.733366  23.736629  37.975610  37.979906  \n",
       "Car             0.346535  23.732186  23.736671  37.975578  37.979885  \n",
       "Heavy Vehicle   0.115562  23.733274  23.735845  37.977502  37.978601  \n",
       "Medium Vehicle  0.264510  23.732213  23.736673  37.975670  37.979836  \n",
       "Motorcycle      0.431950  23.732163  23.736684  37.975577  37.979893  \n",
       "Taxi            0.323819  23.732177  23.736682  37.975622  37.979888  "
      ],
      "text/html": "<div>\n<style scoped>\n    .dataframe tbody tr th:only-of-type {\n        vertical-align: middle;\n    }\n\n    .dataframe tbody tr th {\n        vertical-align: top;\n    }\n\n    .dataframe thead tr th {\n        text-align: left;\n    }\n\n    .dataframe thead tr:last-of-type th {\n        text-align: right;\n    }\n</style>\n<table border=\"1\" class=\"dataframe\">\n  <thead>\n    <tr>\n      <th></th>\n      <th colspan=\"3\" halign=\"left\">speed</th>\n      <th colspan=\"2\" halign=\"left\">lon_acc</th>\n      <th colspan=\"2\" halign=\"left\">lat_acc</th>\n      <th colspan=\"2\" halign=\"left\">lon</th>\n      <th colspan=\"2\" halign=\"left\">lat</th>\n    </tr>\n    <tr>\n      <th></th>\n      <th>mean</th>\n      <th>median</th>\n      <th>std</th>\n      <th>mean</th>\n      <th>std</th>\n      <th>mean</th>\n      <th>std</th>\n      <th>min</th>\n      <th>max</th>\n      <th>min</th>\n      <th>max</th>\n    </tr>\n    <tr>\n      <th>type</th>\n      <th></th>\n      <th></th>\n      <th></th>\n      <th></th>\n      <th></th>\n      <th></th>\n      <th></th>\n      <th></th>\n      <th></th>\n      <th></th>\n      <th></th>\n    </tr>\n  </thead>\n  <tbody>\n    <tr>\n      <th>Bus</th>\n      <td>6.177127</td>\n      <td>0.0000</td>\n      <td>10.690039</td>\n      <td>0.004286</td>\n      <td>0.451655</td>\n      <td>0.013791</td>\n      <td>0.198339</td>\n      <td>23.733366</td>\n      <td>23.736629</td>\n      <td>37.975610</td>\n      <td>37.979906</td>\n    </tr>\n    <tr>\n      <th>Car</th>\n      <td>14.376883</td>\n      <td>10.9826</td>\n      <td>15.020322</td>\n      <td>0.034161</td>\n      <td>0.728066</td>\n      <td>0.009198</td>\n      <td>0.346535</td>\n      <td>23.732186</td>\n      <td>23.736671</td>\n      <td>37.975578</td>\n      <td>37.979885</td>\n    </tr>\n    <tr>\n      <th>Heavy Vehicle</th>\n      <td>2.976959</td>\n      <td>0.0000</td>\n      <td>6.282623</td>\n      <td>0.018361</td>\n      <td>0.333205</td>\n      <td>-0.005499</td>\n      <td>0.115562</td>\n      <td>23.733274</td>\n      <td>23.735845</td>\n      <td>37.977502</td>\n      <td>37.978601</td>\n    </tr>\n    <tr>\n      <th>Medium Vehicle</th>\n      <td>7.044667</td>\n      <td>0.0000</td>\n      <td>12.058974</td>\n      <td>0.024608</td>\n      <td>0.510726</td>\n      <td>0.012723</td>\n      <td>0.264510</td>\n      <td>23.732213</td>\n      <td>23.736673</td>\n      <td>37.975670</td>\n      <td>37.979836</td>\n    </tr>\n    <tr>\n      <th>Motorcycle</th>\n      <td>17.321996</td>\n      <td>12.3168</td>\n      <td>18.654670</td>\n      <td>0.014790</td>\n      <td>1.025071</td>\n      <td>0.002600</td>\n      <td>0.431950</td>\n      <td>23.732163</td>\n      <td>23.736684</td>\n      <td>37.975577</td>\n      <td>37.979893</td>\n    </tr>\n    <tr>\n      <th>Taxi</th>\n      <td>13.176267</td>\n      <td>9.0337</td>\n      <td>14.339080</td>\n      <td>0.027487</td>\n      <td>0.669433</td>\n      <td>0.008622</td>\n      <td>0.323819</td>\n      <td>23.732177</td>\n      <td>23.736682</td>\n      <td>37.975622</td>\n      <td>37.979888</td>\n    </tr>\n  </tbody>\n</table>\n</div>"
     },
     "metadata": {},
     "execution_count": 18
    }
   ],
   "source": [
    "df.groupby('type').agg({\n",
    "    'speed': ['mean', 'median', 'std'],\n",
    "    'lon_acc': ['mean', 'std'],\n",
    "    'lat_acc': ['mean', 'std'],\n",
    "    'lon': ['min', 'max'],\n",
    "    'lat': ['min', 'max']\n",
    "})"
   ]
  }
 ]
}