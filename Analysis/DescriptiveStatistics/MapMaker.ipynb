{
 "cells": [
  {
   "cell_type": "markdown",
   "metadata": {},
   "source": [
    "<img src=\"https://news.illinois.edu/files/6367/543635/116641.jpg\" alt=\"University of Illinois\" width=\"250px\"/>\n",
    "\n",
    "# Make Maps with Folium\n",
    "By Richard Sowers\n",
    "* <r-sowers@illinois.edu>\n",
    "* <https://publish.illinois.edu/r-sowers/>\n",
    "\n",
    "Copyright 2020 University of Illinois Board of Trustees. All Rights Reserved."
   ]
  },
  {
   "cell_type": "markdown",
   "metadata": {},
   "source": [
    "# imports and graphics configurations"
   ]
  },
  {
   "cell_type": "code",
   "execution_count": 1,
   "metadata": {},
   "outputs": [],
   "source": [
    "import folium\n",
    "import numpy\n",
    "import pandas\n",
    "from IPython.display import display\n",
    "from selenium import webdriver\n",
    "import os\n",
    "import time\n",
    "import geojson"
   ]
  },
  {
   "cell_type": "markdown",
   "metadata": {},
   "source": [
    "# main"
   ]
  },
  {
   "cell_type": "code",
   "execution_count": 2,
   "metadata": {},
   "outputs": [],
   "source": [
    "#webdriver constants\n",
    "delay=5\n",
    "fname_data=\"edge_data_block4\"\n",
    "temp_html_fname=\"testmap.html\"\n",
    "fname_image=\"Athens.png\"\n",
    "fileURL=\"file://{path}/{mapfile}\"\n",
    "boundaryStyleDict={'color':'red','weight':7}"
   ]
  },
  {
   "cell_type": "code",
   "execution_count": 3,
   "metadata": {
    "scrolled": true
   },
   "outputs": [
    {
     "data": {
      "text/html": [
       "<div>\n",
       "<style scoped>\n",
       "    .dataframe tbody tr th:only-of-type {\n",
       "        vertical-align: middle;\n",
       "    }\n",
       "\n",
       "    .dataframe tbody tr th {\n",
       "        vertical-align: top;\n",
       "    }\n",
       "\n",
       "    .dataframe thead th {\n",
       "        text-align: right;\n",
       "    }\n",
       "</style>\n",
       "<table border=\"1\" class=\"dataframe\">\n",
       "  <thead>\n",
       "    <tr style=\"text-align: right;\">\n",
       "      <th></th>\n",
       "      <th>edge_id</th>\n",
       "      <th>width</th>\n",
       "      <th>node_1</th>\n",
       "      <th>node_2</th>\n",
       "      <th>node_1_lat</th>\n",
       "      <th>node_1_lon</th>\n",
       "      <th>node_2_lat</th>\n",
       "      <th>node_2_lon</th>\n",
       "      <th>one_way</th>\n",
       "      <th>direction</th>\n",
       "    </tr>\n",
       "  </thead>\n",
       "  <tbody>\n",
       "    <tr>\n",
       "      <th>0</th>\n",
       "      <td>250699362_250699984</td>\n",
       "      <td>6.5</td>\n",
       "      <td>250699362</td>\n",
       "      <td>250699984</td>\n",
       "      <td>37.982909</td>\n",
       "      <td>23.733231</td>\n",
       "      <td>37.982421</td>\n",
       "      <td>23.732306</td>\n",
       "      <td>True</td>\n",
       "      <td>reversed</td>\n",
       "    </tr>\n",
       "    <tr>\n",
       "      <th>1</th>\n",
       "      <td>250699362_250708641</td>\n",
       "      <td>7.5</td>\n",
       "      <td>250699362</td>\n",
       "      <td>250708641</td>\n",
       "      <td>37.982909</td>\n",
       "      <td>23.733231</td>\n",
       "      <td>37.983461</td>\n",
       "      <td>23.734307</td>\n",
       "      <td>True</td>\n",
       "      <td>NaN</td>\n",
       "    </tr>\n",
       "    <tr>\n",
       "      <th>2</th>\n",
       "      <td>250708556_250708641</td>\n",
       "      <td>7.0</td>\n",
       "      <td>250708556</td>\n",
       "      <td>250708641</td>\n",
       "      <td>37.983910</td>\n",
       "      <td>23.735189</td>\n",
       "      <td>37.983461</td>\n",
       "      <td>23.734307</td>\n",
       "      <td>True</td>\n",
       "      <td>reversed</td>\n",
       "    </tr>\n",
       "    <tr>\n",
       "      <th>3</th>\n",
       "      <td>250691795_250699359</td>\n",
       "      <td>13.0</td>\n",
       "      <td>250691795</td>\n",
       "      <td>250699359</td>\n",
       "      <td>37.980249</td>\n",
       "      <td>23.735395</td>\n",
       "      <td>37.981541</td>\n",
       "      <td>23.734332</td>\n",
       "      <td>True</td>\n",
       "      <td>reversed</td>\n",
       "    </tr>\n",
       "    <tr>\n",
       "      <th>4</th>\n",
       "      <td>250698926_250699612</td>\n",
       "      <td>9.5</td>\n",
       "      <td>250698926</td>\n",
       "      <td>250699612</td>\n",
       "      <td>37.981109</td>\n",
       "      <td>23.732291</td>\n",
       "      <td>37.981887</td>\n",
       "      <td>23.733804</td>\n",
       "      <td>True</td>\n",
       "      <td>reversed</td>\n",
       "    </tr>\n",
       "    <tr>\n",
       "      <th>5</th>\n",
       "      <td>250699359_8446047162</td>\n",
       "      <td>6.0</td>\n",
       "      <td>250699359</td>\n",
       "      <td>8446047162</td>\n",
       "      <td>37.981541</td>\n",
       "      <td>23.734332</td>\n",
       "      <td>37.982084</td>\n",
       "      <td>23.735403</td>\n",
       "      <td>True</td>\n",
       "      <td>NaN</td>\n",
       "    </tr>\n",
       "    <tr>\n",
       "      <th>6</th>\n",
       "      <td>250699972_8446047162</td>\n",
       "      <td>7.0</td>\n",
       "      <td>250699972</td>\n",
       "      <td>8446047162</td>\n",
       "      <td>37.982544</td>\n",
       "      <td>23.736310</td>\n",
       "      <td>37.982084</td>\n",
       "      <td>23.735403</td>\n",
       "      <td>True</td>\n",
       "      <td>reversed</td>\n",
       "    </tr>\n",
       "    <tr>\n",
       "      <th>7</th>\n",
       "      <td>250700084_250700085</td>\n",
       "      <td>10.0</td>\n",
       "      <td>250700084</td>\n",
       "      <td>250700085</td>\n",
       "      <td>37.984157</td>\n",
       "      <td>23.732209</td>\n",
       "      <td>37.984743</td>\n",
       "      <td>23.731731</td>\n",
       "      <td>True</td>\n",
       "      <td>reversed</td>\n",
       "    </tr>\n",
       "    <tr>\n",
       "      <th>8</th>\n",
       "      <td>250700083_250700084</td>\n",
       "      <td>10.0</td>\n",
       "      <td>250700083</td>\n",
       "      <td>250700084</td>\n",
       "      <td>37.983289</td>\n",
       "      <td>23.732922</td>\n",
       "      <td>37.984157</td>\n",
       "      <td>23.732209</td>\n",
       "      <td>True</td>\n",
       "      <td>reversed</td>\n",
       "    </tr>\n",
       "    <tr>\n",
       "      <th>9</th>\n",
       "      <td>300400248_8446047162</td>\n",
       "      <td>7.0</td>\n",
       "      <td>300400248</td>\n",
       "      <td>8446047162</td>\n",
       "      <td>37.981276</td>\n",
       "      <td>23.736061</td>\n",
       "      <td>37.982084</td>\n",
       "      <td>23.735403</td>\n",
       "      <td>True</td>\n",
       "      <td>NaN</td>\n",
       "    </tr>\n",
       "    <tr>\n",
       "      <th>10</th>\n",
       "      <td>250706958_388172075</td>\n",
       "      <td>5.5</td>\n",
       "      <td>250706958</td>\n",
       "      <td>388172075</td>\n",
       "      <td>37.983833</td>\n",
       "      <td>23.734015</td>\n",
       "      <td>37.984495</td>\n",
       "      <td>23.733485</td>\n",
       "      <td>True</td>\n",
       "      <td>NaN</td>\n",
       "    </tr>\n",
       "    <tr>\n",
       "      <th>11</th>\n",
       "      <td>250699614_250699615</td>\n",
       "      <td>8.0</td>\n",
       "      <td>250699614</td>\n",
       "      <td>250699615</td>\n",
       "      <td>37.982489</td>\n",
       "      <td>23.735074</td>\n",
       "      <td>37.982945</td>\n",
       "      <td>23.735981</td>\n",
       "      <td>True</td>\n",
       "      <td>reversed</td>\n",
       "    </tr>\n",
       "    <tr>\n",
       "      <th>12</th>\n",
       "      <td>250699613_250699614</td>\n",
       "      <td>8.5</td>\n",
       "      <td>250699613</td>\n",
       "      <td>250699614</td>\n",
       "      <td>37.981981</td>\n",
       "      <td>23.733991</td>\n",
       "      <td>37.982489</td>\n",
       "      <td>23.735074</td>\n",
       "      <td>True</td>\n",
       "      <td>reversed</td>\n",
       "    </tr>\n",
       "    <tr>\n",
       "      <th>13</th>\n",
       "      <td>250700339_250706959</td>\n",
       "      <td>6.0</td>\n",
       "      <td>250700339</td>\n",
       "      <td>250706959</td>\n",
       "      <td>37.984735</td>\n",
       "      <td>23.733291</td>\n",
       "      <td>37.985317</td>\n",
       "      <td>23.732820</td>\n",
       "      <td>True</td>\n",
       "      <td>NaN</td>\n",
       "    </tr>\n",
       "    <tr>\n",
       "      <th>14</th>\n",
       "      <td>250700083_388172056</td>\n",
       "      <td>5.5</td>\n",
       "      <td>250700083</td>\n",
       "      <td>388172056</td>\n",
       "      <td>37.983289</td>\n",
       "      <td>23.732922</td>\n",
       "      <td>37.983652</td>\n",
       "      <td>23.733675</td>\n",
       "      <td>True</td>\n",
       "      <td>reversed</td>\n",
       "    </tr>\n",
       "    <tr>\n",
       "      <th>15</th>\n",
       "      <td>250699983_250699984</td>\n",
       "      <td>6.5</td>\n",
       "      <td>250699983</td>\n",
       "      <td>250699984</td>\n",
       "      <td>37.982014</td>\n",
       "      <td>23.731511</td>\n",
       "      <td>37.982421</td>\n",
       "      <td>23.732306</td>\n",
       "      <td>True</td>\n",
       "      <td>NaN</td>\n",
       "    </tr>\n",
       "  </tbody>\n",
       "</table>\n",
       "</div>"
      ],
      "text/plain": [
       "                 edge_id  width     node_1      node_2  node_1_lat  \\\n",
       "0    250699362_250699984    6.5  250699362   250699984   37.982909   \n",
       "1    250699362_250708641    7.5  250699362   250708641   37.982909   \n",
       "2    250708556_250708641    7.0  250708556   250708641   37.983910   \n",
       "3    250691795_250699359   13.0  250691795   250699359   37.980249   \n",
       "4    250698926_250699612    9.5  250698926   250699612   37.981109   \n",
       "5   250699359_8446047162    6.0  250699359  8446047162   37.981541   \n",
       "6   250699972_8446047162    7.0  250699972  8446047162   37.982544   \n",
       "7    250700084_250700085   10.0  250700084   250700085   37.984157   \n",
       "8    250700083_250700084   10.0  250700083   250700084   37.983289   \n",
       "9   300400248_8446047162    7.0  300400248  8446047162   37.981276   \n",
       "10   250706958_388172075    5.5  250706958   388172075   37.983833   \n",
       "11   250699614_250699615    8.0  250699614   250699615   37.982489   \n",
       "12   250699613_250699614    8.5  250699613   250699614   37.981981   \n",
       "13   250700339_250706959    6.0  250700339   250706959   37.984735   \n",
       "14   250700083_388172056    5.5  250700083   388172056   37.983289   \n",
       "15   250699983_250699984    6.5  250699983   250699984   37.982014   \n",
       "\n",
       "    node_1_lon  node_2_lat  node_2_lon  one_way direction  \n",
       "0    23.733231   37.982421   23.732306     True  reversed  \n",
       "1    23.733231   37.983461   23.734307     True       NaN  \n",
       "2    23.735189   37.983461   23.734307     True  reversed  \n",
       "3    23.735395   37.981541   23.734332     True  reversed  \n",
       "4    23.732291   37.981887   23.733804     True  reversed  \n",
       "5    23.734332   37.982084   23.735403     True       NaN  \n",
       "6    23.736310   37.982084   23.735403     True  reversed  \n",
       "7    23.732209   37.984743   23.731731     True  reversed  \n",
       "8    23.732922   37.984157   23.732209     True  reversed  \n",
       "9    23.736061   37.982084   23.735403     True       NaN  \n",
       "10   23.734015   37.984495   23.733485     True       NaN  \n",
       "11   23.735074   37.982945   23.735981     True  reversed  \n",
       "12   23.733991   37.982489   23.735074     True  reversed  \n",
       "13   23.733291   37.985317   23.732820     True       NaN  \n",
       "14   23.732922   37.983652   23.733675     True  reversed  \n",
       "15   23.731511   37.982421   23.732306     True       NaN  "
      ]
     },
     "execution_count": 3,
     "metadata": {},
     "output_type": "execute_result"
    }
   ],
   "source": [
    "data=pandas.read_csv(fname_data+\".csv\",index_col=False)\n",
    "data"
   ]
  },
  {
   "cell_type": "code",
   "execution_count": 4,
   "metadata": {},
   "outputs": [
    {
     "data": {
      "text/plain": [
       "array([[23.7332314, 37.9829088, 23.7323057, 37.9824212],\n",
       "       [23.7332314, 37.9829088, 23.7343073, 37.9834614],\n",
       "       [23.7351894, 37.9839097, 23.7343073, 37.9834614],\n",
       "       [23.735395 , 37.9802494, 23.734332 , 37.9815409],\n",
       "       [23.7322913, 37.9811089, 23.7338043, 37.9818871],\n",
       "       [23.734332 , 37.9815409, 23.7354034, 37.9820845],\n",
       "       [23.7363098, 37.9825444, 23.7354034, 37.9820845],\n",
       "       [23.7322095, 37.9841573, 23.7317305, 37.9847425],\n",
       "       [23.7329218, 37.9832887, 23.7322095, 37.9841573],\n",
       "       [23.736061 , 37.9812755, 23.7354034, 37.9820845],\n",
       "       [23.7340148, 37.9838327, 23.7334846, 37.984495 ],\n",
       "       [23.7350745, 37.9824892, 23.7359813, 37.9829447],\n",
       "       [23.7339908, 37.9819811, 23.7350745, 37.9824892],\n",
       "       [23.7332909, 37.9847346, 23.7328196, 37.9853174],\n",
       "       [23.7329218, 37.9832887, 23.7336753, 37.9836516],\n",
       "       [23.7315114, 37.982014 , 23.7323057, 37.9824212]])"
      ]
     },
     "execution_count": 4,
     "metadata": {},
     "output_type": "execute_result"
    }
   ],
   "source": [
    "lonlat=data[[\"node_1_lon\",\"node_1_lat\",\"node_2_lon\",\"node_2_lat\"]]\n",
    "lonlat.values"
   ]
  },
  {
   "cell_type": "code",
   "execution_count": 5,
   "metadata": {},
   "outputs": [
    {
     "data": {
      "text/plain": [
       "array([[[23.7332314, 37.9829088],\n",
       "        [23.7323057, 37.9824212]],\n",
       "\n",
       "       [[23.7332314, 37.9829088],\n",
       "        [23.7343073, 37.9834614]],\n",
       "\n",
       "       [[23.7351894, 37.9839097],\n",
       "        [23.7343073, 37.9834614]],\n",
       "\n",
       "       [[23.735395 , 37.9802494],\n",
       "        [23.734332 , 37.9815409]]])"
      ]
     },
     "execution_count": 5,
     "metadata": {},
     "output_type": "execute_result"
    }
   ],
   "source": [
    "temp=numpy.reshape(lonlat.values,(len(lonlat),-1,2),order=\"C\")\n",
    "temp[:4]\n",
    "#roads_geojson=geojson.MultiLineString(temp)"
   ]
  },
  {
   "cell_type": "code",
   "execution_count": 6,
   "metadata": {},
   "outputs": [
    {
     "data": {
      "text/plain": [
       "{\"coordinates\": [[[23.733231, 37.982909], [23.732306, 37.982421]], [[23.733231, 37.982909], [23.734307, 37.983461]], [[23.735189, 37.98391], [23.734307, 37.983461]], [[23.735395, 37.980249], [23.734332, 37.981541]], [[23.732291, 37.981109], [23.733804, 37.981887]], [[23.734332, 37.981541], [23.735403, 37.982084]], [[23.73631, 37.982544], [23.735403, 37.982084]], [[23.732209, 37.984157], [23.731731, 37.984743]], [[23.732922, 37.983289], [23.732209, 37.984157]], [[23.736061, 37.981276], [23.735403, 37.982084]], [[23.734015, 37.983833], [23.733485, 37.984495]], [[23.735074, 37.982489], [23.735981, 37.982945]], [[23.733991, 37.981981], [23.735074, 37.982489]], [[23.733291, 37.984735], [23.73282, 37.985317]], [[23.732922, 37.983289], [23.733675, 37.983652]], [[23.731511, 37.982014], [23.732306, 37.982421]]], \"type\": \"MultiLineString\"}"
      ]
     },
     "execution_count": 6,
     "metadata": {},
     "output_type": "execute_result"
    }
   ],
   "source": [
    "roads_geojson=geojson.MultiLineString(temp.tolist())\n",
    "roads_geojson"
   ]
  },
  {
   "cell_type": "code",
   "execution_count": 7,
   "metadata": {},
   "outputs": [],
   "source": [
    "center=(data[[\"node_1_lat\",\"node_2_lat\"]].values.mean(),data[[\"node_1_lon\",\"node_2_lon\"]].values.mean())"
   ]
  },
  {
   "cell_type": "code",
   "execution_count": 8,
   "metadata": {
    "scrolled": true
   },
   "outputs": [
    {
     "data": {
      "text/html": [
       "<div style=\"width:100%;\"><div style=\"position:relative;width:100%;height:0;padding-bottom:60%;\"><span style=\"color:#565656\">Make this Notebook Trusted to load map: File -> Trust Notebook</span><iframe src=\"about:blank\" style=\"position:absolute;width:100%;height:100%;left:0;top:0;border:none !important;\" data-html=%3C%21DOCTYPE%20html%3E%0A%3Chead%3E%20%20%20%20%0A%20%20%20%20%3Cmeta%20http-equiv%3D%22content-type%22%20content%3D%22text/html%3B%20charset%3DUTF-8%22%20/%3E%0A%20%20%20%20%0A%20%20%20%20%20%20%20%20%3Cscript%3E%0A%20%20%20%20%20%20%20%20%20%20%20%20L_NO_TOUCH%20%3D%20false%3B%0A%20%20%20%20%20%20%20%20%20%20%20%20L_DISABLE_3D%20%3D%20false%3B%0A%20%20%20%20%20%20%20%20%3C/script%3E%0A%20%20%20%20%0A%20%20%20%20%3Cstyle%3Ehtml%2C%20body%20%7Bwidth%3A%20100%25%3Bheight%3A%20100%25%3Bmargin%3A%200%3Bpadding%3A%200%3B%7D%3C/style%3E%0A%20%20%20%20%3Cstyle%3E%23map%20%7Bposition%3Aabsolute%3Btop%3A0%3Bbottom%3A0%3Bright%3A0%3Bleft%3A0%3B%7D%3C/style%3E%0A%20%20%20%20%3Cscript%20src%3D%22https%3A//cdn.jsdelivr.net/npm/leaflet%401.6.0/dist/leaflet.js%22%3E%3C/script%3E%0A%20%20%20%20%3Cscript%20src%3D%22https%3A//code.jquery.com/jquery-1.12.4.min.js%22%3E%3C/script%3E%0A%20%20%20%20%3Cscript%20src%3D%22https%3A//maxcdn.bootstrapcdn.com/bootstrap/3.2.0/js/bootstrap.min.js%22%3E%3C/script%3E%0A%20%20%20%20%3Cscript%20src%3D%22https%3A//cdnjs.cloudflare.com/ajax/libs/Leaflet.awesome-markers/2.0.2/leaflet.awesome-markers.js%22%3E%3C/script%3E%0A%20%20%20%20%3Clink%20rel%3D%22stylesheet%22%20href%3D%22https%3A//cdn.jsdelivr.net/npm/leaflet%401.6.0/dist/leaflet.css%22/%3E%0A%20%20%20%20%3Clink%20rel%3D%22stylesheet%22%20href%3D%22https%3A//maxcdn.bootstrapcdn.com/bootstrap/3.2.0/css/bootstrap.min.css%22/%3E%0A%20%20%20%20%3Clink%20rel%3D%22stylesheet%22%20href%3D%22https%3A//maxcdn.bootstrapcdn.com/bootstrap/3.2.0/css/bootstrap-theme.min.css%22/%3E%0A%20%20%20%20%3Clink%20rel%3D%22stylesheet%22%20href%3D%22https%3A//maxcdn.bootstrapcdn.com/font-awesome/4.6.3/css/font-awesome.min.css%22/%3E%0A%20%20%20%20%3Clink%20rel%3D%22stylesheet%22%20href%3D%22https%3A//cdnjs.cloudflare.com/ajax/libs/Leaflet.awesome-markers/2.0.2/leaflet.awesome-markers.css%22/%3E%0A%20%20%20%20%3Clink%20rel%3D%22stylesheet%22%20href%3D%22https%3A//cdn.jsdelivr.net/gh/python-visualization/folium/folium/templates/leaflet.awesome.rotate.min.css%22/%3E%0A%20%20%20%20%0A%20%20%20%20%20%20%20%20%20%20%20%20%3Cmeta%20name%3D%22viewport%22%20content%3D%22width%3Ddevice-width%2C%0A%20%20%20%20%20%20%20%20%20%20%20%20%20%20%20%20initial-scale%3D1.0%2C%20maximum-scale%3D1.0%2C%20user-scalable%3Dno%22%20/%3E%0A%20%20%20%20%20%20%20%20%20%20%20%20%3Cstyle%3E%0A%20%20%20%20%20%20%20%20%20%20%20%20%20%20%20%20%23map_aa8be7a78f9949959888302a524039db%20%7B%0A%20%20%20%20%20%20%20%20%20%20%20%20%20%20%20%20%20%20%20%20position%3A%20relative%3B%0A%20%20%20%20%20%20%20%20%20%20%20%20%20%20%20%20%20%20%20%20width%3A%20100.0%25%3B%0A%20%20%20%20%20%20%20%20%20%20%20%20%20%20%20%20%20%20%20%20height%3A%20100.0%25%3B%0A%20%20%20%20%20%20%20%20%20%20%20%20%20%20%20%20%20%20%20%20left%3A%200.0%25%3B%0A%20%20%20%20%20%20%20%20%20%20%20%20%20%20%20%20%20%20%20%20top%3A%200.0%25%3B%0A%20%20%20%20%20%20%20%20%20%20%20%20%20%20%20%20%7D%0A%20%20%20%20%20%20%20%20%20%20%20%20%3C/style%3E%0A%20%20%20%20%20%20%20%20%0A%3C/head%3E%0A%3Cbody%3E%20%20%20%20%0A%20%20%20%20%0A%20%20%20%20%20%20%20%20%20%20%20%20%3Cdiv%20class%3D%22folium-map%22%20id%3D%22map_aa8be7a78f9949959888302a524039db%22%20%3E%3C/div%3E%0A%20%20%20%20%20%20%20%20%0A%3C/body%3E%0A%3Cscript%3E%20%20%20%20%0A%20%20%20%20%0A%20%20%20%20%20%20%20%20%20%20%20%20var%20map_aa8be7a78f9949959888302a524039db%20%3D%20L.map%28%0A%20%20%20%20%20%20%20%20%20%20%20%20%20%20%20%20%22map_aa8be7a78f9949959888302a524039db%22%2C%0A%20%20%20%20%20%20%20%20%20%20%20%20%20%20%20%20%7B%0A%20%20%20%20%20%20%20%20%20%20%20%20%20%20%20%20%20%20%20%20center%3A%20%5B37.982858659375%2C%2023.73389139375%5D%2C%0A%20%20%20%20%20%20%20%20%20%20%20%20%20%20%20%20%20%20%20%20crs%3A%20L.CRS.EPSG3857%2C%0A%20%20%20%20%20%20%20%20%20%20%20%20%20%20%20%20%20%20%20%20zoom%3A%2015.5%2C%0A%20%20%20%20%20%20%20%20%20%20%20%20%20%20%20%20%20%20%20%20zoomControl%3A%20false%2C%0A%20%20%20%20%20%20%20%20%20%20%20%20%20%20%20%20%20%20%20%20preferCanvas%3A%20false%2C%0A%20%20%20%20%20%20%20%20%20%20%20%20%20%20%20%20%7D%0A%20%20%20%20%20%20%20%20%20%20%20%20%29%3B%0A%0A%20%20%20%20%20%20%20%20%20%20%20%20%0A%0A%20%20%20%20%20%20%20%20%0A%20%20%20%20%0A%20%20%20%20%20%20%20%20%20%20%20%20var%20tile_layer_1d040d56d8dd4eceb626c046a1439074%20%3D%20L.tileLayer%28%0A%20%20%20%20%20%20%20%20%20%20%20%20%20%20%20%20%22https%3A//stamen-tiles-%7Bs%7D.a.ssl.fastly.net/toner/%7Bz%7D/%7Bx%7D/%7By%7D.png%22%2C%0A%20%20%20%20%20%20%20%20%20%20%20%20%20%20%20%20%7B%22attribution%22%3A%20%22Map%20tiles%20by%20%5Cu003ca%20href%3D%5C%22http%3A//stamen.com%5C%22%5Cu003eStamen%20Design%5Cu003c/a%5Cu003e%2C%20under%20%5Cu003ca%20href%3D%5C%22http%3A//creativecommons.org/licenses/by/3.0%5C%22%5Cu003eCC%20BY%203.0%5Cu003c/a%5Cu003e.%20Data%20by%20%5Cu0026copy%3B%20%5Cu003ca%20href%3D%5C%22http%3A//openstreetmap.org%5C%22%5Cu003eOpenStreetMap%5Cu003c/a%5Cu003e%2C%20under%20%5Cu003ca%20href%3D%5C%22http%3A//www.openstreetmap.org/copyright%5C%22%5Cu003eODbL%5Cu003c/a%5Cu003e.%22%2C%20%22detectRetina%22%3A%20false%2C%20%22maxNativeZoom%22%3A%2018%2C%20%22maxZoom%22%3A%2018%2C%20%22minZoom%22%3A%200%2C%20%22noWrap%22%3A%20false%2C%20%22opacity%22%3A%201%2C%20%22subdomains%22%3A%20%22abc%22%2C%20%22tms%22%3A%20false%7D%0A%20%20%20%20%20%20%20%20%20%20%20%20%29.addTo%28map_aa8be7a78f9949959888302a524039db%29%3B%0A%20%20%20%20%20%20%20%20%0A%20%20%20%20%0A%20%20%20%20%20%20%20%20function%20geo_json_c11ed64b1e7d4bd6bf2234a31be4eda5_styler%28feature%29%20%7B%0A%20%20%20%20%20%20%20%20%20%20%20%20switch%28feature.id%29%20%7B%0A%20%20%20%20%20%20%20%20%20%20%20%20%20%20%20%20default%3A%0A%20%20%20%20%20%20%20%20%20%20%20%20%20%20%20%20%20%20%20%20return%20%7B%22color%22%3A%20%22red%22%2C%20%22weight%22%3A%207%7D%3B%0A%20%20%20%20%20%20%20%20%20%20%20%20%7D%0A%20%20%20%20%20%20%20%20%7D%0A%0A%20%20%20%20%20%20%20%20function%20geo_json_c11ed64b1e7d4bd6bf2234a31be4eda5_onEachFeature%28feature%2C%20layer%29%20%7B%0A%20%20%20%20%20%20%20%20%20%20%20%20layer.on%28%7B%0A%20%20%20%20%20%20%20%20%20%20%20%20%7D%29%3B%0A%20%20%20%20%20%20%20%20%7D%3B%0A%20%20%20%20%20%20%20%20var%20geo_json_c11ed64b1e7d4bd6bf2234a31be4eda5%20%3D%20L.geoJson%28null%2C%20%7B%0A%20%20%20%20%20%20%20%20%20%20%20%20%20%20%20%20onEachFeature%3A%20geo_json_c11ed64b1e7d4bd6bf2234a31be4eda5_onEachFeature%2C%0A%20%20%20%20%20%20%20%20%20%20%20%20%0A%20%20%20%20%20%20%20%20%20%20%20%20%20%20%20%20style%3A%20geo_json_c11ed64b1e7d4bd6bf2234a31be4eda5_styler%2C%0A%20%20%20%20%20%20%20%20%7D%29%3B%0A%0A%20%20%20%20%20%20%20%20function%20geo_json_c11ed64b1e7d4bd6bf2234a31be4eda5_add%20%28data%29%20%7B%0A%20%20%20%20%20%20%20%20%20%20%20%20geo_json_c11ed64b1e7d4bd6bf2234a31be4eda5%0A%20%20%20%20%20%20%20%20%20%20%20%20%20%20%20%20.addData%28data%29%0A%20%20%20%20%20%20%20%20%20%20%20%20%20%20%20%20.addTo%28map_aa8be7a78f9949959888302a524039db%29%3B%0A%20%20%20%20%20%20%20%20%7D%0A%20%20%20%20%20%20%20%20%20%20%20%20geo_json_c11ed64b1e7d4bd6bf2234a31be4eda5_add%28%7B%22features%22%3A%20%5B%7B%22geometry%22%3A%20%7B%22coordinates%22%3A%20%5B%5B%5B23.733231%2C%2037.982909%5D%2C%20%5B23.732306%2C%2037.982421%5D%5D%2C%20%5B%5B23.733231%2C%2037.982909%5D%2C%20%5B23.734307%2C%2037.983461%5D%5D%2C%20%5B%5B23.735189%2C%2037.98391%5D%2C%20%5B23.734307%2C%2037.983461%5D%5D%2C%20%5B%5B23.735395%2C%2037.980249%5D%2C%20%5B23.734332%2C%2037.981541%5D%5D%2C%20%5B%5B23.732291%2C%2037.981109%5D%2C%20%5B23.733804%2C%2037.981887%5D%5D%2C%20%5B%5B23.734332%2C%2037.981541%5D%2C%20%5B23.735403%2C%2037.982084%5D%5D%2C%20%5B%5B23.73631%2C%2037.982544%5D%2C%20%5B23.735403%2C%2037.982084%5D%5D%2C%20%5B%5B23.732209%2C%2037.984157%5D%2C%20%5B23.731731%2C%2037.984743%5D%5D%2C%20%5B%5B23.732922%2C%2037.983289%5D%2C%20%5B23.732209%2C%2037.984157%5D%5D%2C%20%5B%5B23.736061%2C%2037.981276%5D%2C%20%5B23.735403%2C%2037.982084%5D%5D%2C%20%5B%5B23.734015%2C%2037.983833%5D%2C%20%5B23.733485%2C%2037.984495%5D%5D%2C%20%5B%5B23.735074%2C%2037.982489%5D%2C%20%5B23.735981%2C%2037.982945%5D%5D%2C%20%5B%5B23.733991%2C%2037.981981%5D%2C%20%5B23.735074%2C%2037.982489%5D%5D%2C%20%5B%5B23.733291%2C%2037.984735%5D%2C%20%5B23.73282%2C%2037.985317%5D%5D%2C%20%5B%5B23.732922%2C%2037.983289%5D%2C%20%5B23.733675%2C%2037.983652%5D%5D%2C%20%5B%5B23.731511%2C%2037.982014%5D%2C%20%5B23.732306%2C%2037.982421%5D%5D%5D%2C%20%22type%22%3A%20%22MultiLineString%22%7D%2C%20%22id%22%3A%20%220%22%2C%20%22type%22%3A%20%22Feature%22%7D%5D%2C%20%22type%22%3A%20%22FeatureCollection%22%7D%29%3B%0A%0A%20%20%20%20%20%20%20%20%0A%3C/script%3E onload=\"this.contentDocument.open();this.contentDocument.write(    decodeURIComponent(this.getAttribute('data-html')));this.contentDocument.close();\" allowfullscreen webkitallowfullscreen mozallowfullscreen></iframe></div></div>"
      ],
      "text/plain": [
       "<folium.folium.Map at 0x2bbd8d9b940>"
      ]
     },
     "metadata": {},
     "output_type": "display_data"
    }
   ],
   "source": [
    "myMap = folium.Map(location=center, zoom_start=15.5,tiles ='Stamen Toner',zoom_control=False)\n",
    "\n",
    "road=folium.GeoJson(data=roads_geojson,style_function=lambda x: boundaryStyleDict)\n",
    "road.add_to(myMap)\n",
    "\n",
    "\n",
    "display(myMap)"
   ]
  },
  {
   "cell_type": "code",
   "execution_count": 9,
   "metadata": {},
   "outputs": [],
   "source": [
    "myMap.save(temp_html_fname)\n",
    "\n",
    "browser = webdriver.Chrome()\n",
    "browser.get(fileURL.format(path=os.getcwd(),mapfile=temp_html_fname))\n",
    "#Give the map tiles some time to load\n",
    "time.sleep(delay)\n",
    "browser.save_screenshot(fname_image)\n",
    "browser.quit()"
   ]
  },
  {
   "cell_type": "code",
   "execution_count": 10,
   "metadata": {
    "scrolled": false
   },
   "outputs": [
    {
     "name": "stdout",
     "output_type": "stream",
     "text": [
      "250699983_250699984\n"
     ]
    },
    {
     "data": {
      "text/html": [
       "<div style=\"width:100%;\"><div style=\"position:relative;width:100%;height:0;padding-bottom:60%;\"><span style=\"color:#565656\">Make this Notebook Trusted to load map: File -> Trust Notebook</span><iframe src=\"about:blank\" style=\"position:absolute;width:100%;height:100%;left:0;top:0;border:none !important;\" data-html=%3C%21DOCTYPE%20html%3E%0A%3Chead%3E%20%20%20%20%0A%20%20%20%20%3Cmeta%20http-equiv%3D%22content-type%22%20content%3D%22text/html%3B%20charset%3DUTF-8%22%20/%3E%0A%20%20%20%20%0A%20%20%20%20%20%20%20%20%3Cscript%3E%0A%20%20%20%20%20%20%20%20%20%20%20%20L_NO_TOUCH%20%3D%20false%3B%0A%20%20%20%20%20%20%20%20%20%20%20%20L_DISABLE_3D%20%3D%20false%3B%0A%20%20%20%20%20%20%20%20%3C/script%3E%0A%20%20%20%20%0A%20%20%20%20%3Cstyle%3Ehtml%2C%20body%20%7Bwidth%3A%20100%25%3Bheight%3A%20100%25%3Bmargin%3A%200%3Bpadding%3A%200%3B%7D%3C/style%3E%0A%20%20%20%20%3Cstyle%3E%23map%20%7Bposition%3Aabsolute%3Btop%3A0%3Bbottom%3A0%3Bright%3A0%3Bleft%3A0%3B%7D%3C/style%3E%0A%20%20%20%20%3Cscript%20src%3D%22https%3A//cdn.jsdelivr.net/npm/leaflet%401.6.0/dist/leaflet.js%22%3E%3C/script%3E%0A%20%20%20%20%3Cscript%20src%3D%22https%3A//code.jquery.com/jquery-1.12.4.min.js%22%3E%3C/script%3E%0A%20%20%20%20%3Cscript%20src%3D%22https%3A//maxcdn.bootstrapcdn.com/bootstrap/3.2.0/js/bootstrap.min.js%22%3E%3C/script%3E%0A%20%20%20%20%3Cscript%20src%3D%22https%3A//cdnjs.cloudflare.com/ajax/libs/Leaflet.awesome-markers/2.0.2/leaflet.awesome-markers.js%22%3E%3C/script%3E%0A%20%20%20%20%3Clink%20rel%3D%22stylesheet%22%20href%3D%22https%3A//cdn.jsdelivr.net/npm/leaflet%401.6.0/dist/leaflet.css%22/%3E%0A%20%20%20%20%3Clink%20rel%3D%22stylesheet%22%20href%3D%22https%3A//maxcdn.bootstrapcdn.com/bootstrap/3.2.0/css/bootstrap.min.css%22/%3E%0A%20%20%20%20%3Clink%20rel%3D%22stylesheet%22%20href%3D%22https%3A//maxcdn.bootstrapcdn.com/bootstrap/3.2.0/css/bootstrap-theme.min.css%22/%3E%0A%20%20%20%20%3Clink%20rel%3D%22stylesheet%22%20href%3D%22https%3A//maxcdn.bootstrapcdn.com/font-awesome/4.6.3/css/font-awesome.min.css%22/%3E%0A%20%20%20%20%3Clink%20rel%3D%22stylesheet%22%20href%3D%22https%3A//cdnjs.cloudflare.com/ajax/libs/Leaflet.awesome-markers/2.0.2/leaflet.awesome-markers.css%22/%3E%0A%20%20%20%20%3Clink%20rel%3D%22stylesheet%22%20href%3D%22https%3A//cdn.jsdelivr.net/gh/python-visualization/folium/folium/templates/leaflet.awesome.rotate.min.css%22/%3E%0A%20%20%20%20%0A%20%20%20%20%20%20%20%20%20%20%20%20%3Cmeta%20name%3D%22viewport%22%20content%3D%22width%3Ddevice-width%2C%0A%20%20%20%20%20%20%20%20%20%20%20%20%20%20%20%20initial-scale%3D1.0%2C%20maximum-scale%3D1.0%2C%20user-scalable%3Dno%22%20/%3E%0A%20%20%20%20%20%20%20%20%20%20%20%20%3Cstyle%3E%0A%20%20%20%20%20%20%20%20%20%20%20%20%20%20%20%20%23map_33195017215041bcb147179577ab8f10%20%7B%0A%20%20%20%20%20%20%20%20%20%20%20%20%20%20%20%20%20%20%20%20position%3A%20relative%3B%0A%20%20%20%20%20%20%20%20%20%20%20%20%20%20%20%20%20%20%20%20width%3A%20100.0%25%3B%0A%20%20%20%20%20%20%20%20%20%20%20%20%20%20%20%20%20%20%20%20height%3A%20100.0%25%3B%0A%20%20%20%20%20%20%20%20%20%20%20%20%20%20%20%20%20%20%20%20left%3A%200.0%25%3B%0A%20%20%20%20%20%20%20%20%20%20%20%20%20%20%20%20%20%20%20%20top%3A%200.0%25%3B%0A%20%20%20%20%20%20%20%20%20%20%20%20%20%20%20%20%7D%0A%20%20%20%20%20%20%20%20%20%20%20%20%3C/style%3E%0A%20%20%20%20%20%20%20%20%0A%3C/head%3E%0A%3Cbody%3E%20%20%20%20%0A%20%20%20%20%0A%20%20%20%20%20%20%20%20%20%20%20%20%3Cdiv%20class%3D%22folium-map%22%20id%3D%22map_33195017215041bcb147179577ab8f10%22%20%3E%3C/div%3E%0A%20%20%20%20%20%20%20%20%0A%3C/body%3E%0A%3Cscript%3E%20%20%20%20%0A%20%20%20%20%0A%20%20%20%20%20%20%20%20%20%20%20%20var%20map_33195017215041bcb147179577ab8f10%20%3D%20L.map%28%0A%20%20%20%20%20%20%20%20%20%20%20%20%20%20%20%20%22map_33195017215041bcb147179577ab8f10%22%2C%0A%20%20%20%20%20%20%20%20%20%20%20%20%20%20%20%20%7B%0A%20%20%20%20%20%20%20%20%20%20%20%20%20%20%20%20%20%20%20%20center%3A%20%5B37.982014%2C%2023.7315114%5D%2C%0A%20%20%20%20%20%20%20%20%20%20%20%20%20%20%20%20%20%20%20%20crs%3A%20L.CRS.EPSG3857%2C%0A%20%20%20%20%20%20%20%20%20%20%20%20%20%20%20%20%20%20%20%20zoom%3A%2018%2C%0A%20%20%20%20%20%20%20%20%20%20%20%20%20%20%20%20%20%20%20%20zoomControl%3A%20true%2C%0A%20%20%20%20%20%20%20%20%20%20%20%20%20%20%20%20%20%20%20%20preferCanvas%3A%20false%2C%0A%20%20%20%20%20%20%20%20%20%20%20%20%20%20%20%20%7D%0A%20%20%20%20%20%20%20%20%20%20%20%20%29%3B%0A%0A%20%20%20%20%20%20%20%20%20%20%20%20%0A%0A%20%20%20%20%20%20%20%20%0A%20%20%20%20%0A%20%20%20%20%20%20%20%20%20%20%20%20var%20tile_layer_2c6c463cf43849df8745462bfcf303c0%20%3D%20L.tileLayer%28%0A%20%20%20%20%20%20%20%20%20%20%20%20%20%20%20%20%22https%3A//%7Bs%7D.tile.openstreetmap.org/%7Bz%7D/%7Bx%7D/%7By%7D.png%22%2C%0A%20%20%20%20%20%20%20%20%20%20%20%20%20%20%20%20%7B%22attribution%22%3A%20%22Data%20by%20%5Cu0026copy%3B%20%5Cu003ca%20href%3D%5C%22http%3A//openstreetmap.org%5C%22%5Cu003eOpenStreetMap%5Cu003c/a%5Cu003e%2C%20under%20%5Cu003ca%20href%3D%5C%22http%3A//www.openstreetmap.org/copyright%5C%22%5Cu003eODbL%5Cu003c/a%5Cu003e.%22%2C%20%22detectRetina%22%3A%20false%2C%20%22maxNativeZoom%22%3A%2018%2C%20%22maxZoom%22%3A%2018%2C%20%22minZoom%22%3A%200%2C%20%22noWrap%22%3A%20false%2C%20%22opacity%22%3A%201%2C%20%22subdomains%22%3A%20%22abc%22%2C%20%22tms%22%3A%20false%7D%0A%20%20%20%20%20%20%20%20%20%20%20%20%29.addTo%28map_33195017215041bcb147179577ab8f10%29%3B%0A%20%20%20%20%20%20%20%20%0A%20%20%20%20%0A%20%20%20%20%20%20%20%20%20%20%20%20var%20marker_3eedb4eb72e444c9a519e4b2710de1cb%20%3D%20L.marker%28%0A%20%20%20%20%20%20%20%20%20%20%20%20%20%20%20%20%5B37.982014%2C%2023.7315114%5D%2C%0A%20%20%20%20%20%20%20%20%20%20%20%20%20%20%20%20%7B%7D%0A%20%20%20%20%20%20%20%20%20%20%20%20%29.addTo%28map_33195017215041bcb147179577ab8f10%29%3B%0A%20%20%20%20%20%20%20%20%0A%20%20%20%20%0A%20%20%20%20%20%20%20%20%20%20%20%20var%20icon_5439d7b0e7c24119bdc16ccc3756894a%20%3D%20L.AwesomeMarkers.icon%28%0A%20%20%20%20%20%20%20%20%20%20%20%20%20%20%20%20%7B%22extraClasses%22%3A%20%22fa-rotate-0%22%2C%20%22icon%22%3A%20%22info-sign%22%2C%20%22iconColor%22%3A%20%22white%22%2C%20%22markerColor%22%3A%20%22green%22%2C%20%22prefix%22%3A%20%22glyphicon%22%7D%0A%20%20%20%20%20%20%20%20%20%20%20%20%29%3B%0A%20%20%20%20%20%20%20%20%20%20%20%20marker_3eedb4eb72e444c9a519e4b2710de1cb.setIcon%28icon_5439d7b0e7c24119bdc16ccc3756894a%29%3B%0A%20%20%20%20%20%20%20%20%0A%20%20%20%20%0A%20%20%20%20%20%20%20%20%20%20%20%20var%20marker_d1abf908c6604ab7bac0a490f153103a%20%3D%20L.marker%28%0A%20%20%20%20%20%20%20%20%20%20%20%20%20%20%20%20%5B37.9824212%2C%2023.7323057%5D%2C%0A%20%20%20%20%20%20%20%20%20%20%20%20%20%20%20%20%7B%7D%0A%20%20%20%20%20%20%20%20%20%20%20%20%29.addTo%28map_33195017215041bcb147179577ab8f10%29%3B%0A%20%20%20%20%20%20%20%20%0A%20%20%20%20%0A%20%20%20%20%20%20%20%20%20%20%20%20var%20icon_0dce909a5b3542618d085c230ebeff98%20%3D%20L.AwesomeMarkers.icon%28%0A%20%20%20%20%20%20%20%20%20%20%20%20%20%20%20%20%7B%22extraClasses%22%3A%20%22fa-rotate-0%22%2C%20%22icon%22%3A%20%22info-sign%22%2C%20%22iconColor%22%3A%20%22white%22%2C%20%22markerColor%22%3A%20%22red%22%2C%20%22prefix%22%3A%20%22glyphicon%22%7D%0A%20%20%20%20%20%20%20%20%20%20%20%20%29%3B%0A%20%20%20%20%20%20%20%20%20%20%20%20marker_d1abf908c6604ab7bac0a490f153103a.setIcon%28icon_0dce909a5b3542618d085c230ebeff98%29%3B%0A%20%20%20%20%20%20%20%20%0A%3C/script%3E onload=\"this.contentDocument.open();this.contentDocument.write(    decodeURIComponent(this.getAttribute('data-html')));this.contentDocument.close();\" allowfullscreen webkitallowfullscreen mozallowfullscreen></iframe></div></div>"
      ],
      "text/plain": [
       "<folium.folium.Map at 0x2bbd8dbc820>"
      ]
     },
     "metadata": {},
     "output_type": "display_data"
    }
   ],
   "source": [
    "N=15\n",
    "datum=data.iloc[N,:]\n",
    "(startnode,endnode)=(\"node_1\",\"node_2\")\n",
    "if datum[\"direction\"]==\"reversed\":\n",
    "    (startnode,endnode)=(endnode,startnode)\n",
    "\n",
    "print(datum[\"edge_id\"])\n",
    "testMap = folium.Map(location=(datum[startnode+\"_lat\"],datum[startnode+\"_lon\"]), zoom_start=18)\n",
    "\n",
    "node_1=folium.Marker(location=(datum[startnode+\"_lat\"],datum[startnode+\"_lon\"]), icon=folium.Icon(color=\"green\"))\n",
    "node_1.add_to(testMap)\n",
    "\n",
    "node_2=folium.Marker(location=(datum[endnode+\"_lat\"],datum[endnode+\"_lon\"]), icon=folium.Icon(color=\"red\"))\n",
    "node_2.add_to(testMap)\n",
    "testMap.save(temp_html_fname)\n",
    "\n",
    "display(testMap)\n",
    "    "
   ]
  },
  {
   "cell_type": "code",
   "execution_count": 14,
   "metadata": {},
   "outputs": [],
   "source": [
    "tempframe=data[[\"node_1\",\"node_2\",\"width\"]].copy()\n",
    "tempframe=tempframe.rename(mapper={\"node_1\":\"From Node\",\"node_2\":\"To Node\",\"width\":\"Lane Width\"},axis=\"columns\")\n",
    "flags=data[\"direction\"]==\"reversed\"\n",
    "tempframe.loc[flags,\"From Node\"]=data.loc[flags,\"node_2\"]\n",
    "tempframe.loc[flags,\"To Node\"]=data.loc[flags,\"node_1\"]\n",
    "tempframe.index+=1\n",
    "tempframe.to_latex(buf=\"ways.tex\",bold_rows=True)"
   ]
  }
 ],
 "metadata": {
  "kernelspec": {
   "display_name": "Python 3 (ipykernel)",
   "language": "python",
   "name": "python3"
  },
  "language_info": {
   "codemirror_mode": {
    "name": "ipython",
    "version": 3
   },
   "file_extension": ".py",
   "mimetype": "text/x-python",
   "name": "python",
   "nbconvert_exporter": "python",
   "pygments_lexer": "ipython3",
   "version": "3.9.7"
  }
 },
 "nbformat": 4,
 "nbformat_minor": 2
}
