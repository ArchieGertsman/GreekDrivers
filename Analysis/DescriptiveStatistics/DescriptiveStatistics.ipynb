{
 "cells": [
  {
   "cell_type": "markdown",
   "metadata": {},
   "source": [
    "<img src=\"https://news.illinois.edu/files/6367/543635/116641.jpg\" alt=\"University of Illinois\" width=\"250\"/>\n",
    "\n",
    "# Descriptive Statistics #\n",
    "By Richard Sowers\n",
    "* <r-sowers@illinois.edu>\n",
    "* <https://publish.illinois.edu/r-sowers/>\n",
    "\n",
    "Copyright 2021 University of Illinois Board of Trustees. All Rights Reserved.\n",
    "\n",
    "### Explanation###\n",
    "Descriptive Statistics for Greek Driver project"
   ]
  },
  {
   "cell_type": "markdown",
   "metadata": {},
   "source": [
    "# imports and graphics configurations #"
   ]
  },
  {
   "cell_type": "code",
   "execution_count": 1,
   "metadata": {},
   "outputs": [],
   "source": [
    "import pandas\n",
    "import numpy\n",
    "import re\n",
    "import datetime"
   ]
  },
  {
   "cell_type": "code",
   "execution_count": 2,
   "metadata": {},
   "outputs": [],
   "source": [
    "datadirectory=\"./\"\n",
    "csv_fname=\"20181024_d1_0830_0900\"\n",
    "N_observations=5"
   ]
  },
  {
   "cell_type": "markdown",
   "metadata": {},
   "source": [
    "# process first line"
   ]
  },
  {
   "cell_type": "code",
   "execution_count": 3,
   "metadata": {},
   "outputs": [],
   "source": [
    "with open(datadirectory+csv_fname+\".csv\",\"r\") as f:\n",
    "    header=f.readline().strip()\n",
    "    data_raw=f.readline().strip()"
   ]
  },
  {
   "cell_type": "code",
   "execution_count": 4,
   "metadata": {},
   "outputs": [
    {
     "data": {
      "text/plain": [
       "'1; Car; 48.85; 9.770344; 37.977391; 23.737688; 4.9178; 0.0518; -0.0299; 0.000000; 37.977391; 23.7376'"
      ]
     },
     "execution_count": 4,
     "metadata": {},
     "output_type": "execute_result"
    }
   ],
   "source": [
    "data_raw[:100]"
   ]
  },
  {
   "cell_type": "code",
   "execution_count": 5,
   "metadata": {},
   "outputs": [
    {
     "data": {
      "text/plain": [
       "'track_id; type; traveled_d; avg_speed; lat; lon; speed; lon_acc; lat_acc; time\\n1; Car; 48.85; 9.770344;\\n 37.977391; 23.737688; 4.9178; 0.0518; -0.0299; 0.000000;\\n 37.977391; 23.737688; 4.9207; -0.0124; -0.0354; 0.040000;\\n 37.977391; 23.737688; 4.9160; -0.0519; -0.0413; 0.080000;\\n 37.977390; 23.737688; 4.9057; -0.0914; -0.0478; 0.120000;\\n 37.977390; 23.737689; 4.8871; -0.1679; -0.0550; 0.160000;\\n ...\\n...'"
      ]
     },
     "execution_count": 5,
     "metadata": {},
     "output_type": "execute_result"
    }
   ],
   "source": [
    "BREAK=3\n",
    "rest=data_raw\n",
    "parts=[]\n",
    "for n in range(N_observations+1):\n",
    "    matches = re.finditer(\";\", rest)\n",
    "    position = list(matches)[BREAK].start()+1 #start position of BREAK-th occurrence of ';'\n",
    "    (part,rest)=(rest[:position],rest[position:])\n",
    "    parts.append(part)\n",
    "    BREAK=5\n",
    "    \n",
    "parts.append(\" ...\")\n",
    "out=\"\\n\".join([header]+parts+[\"...\"])\n",
    "out    "
   ]
  },
  {
   "cell_type": "code",
   "execution_count": 6,
   "metadata": {},
   "outputs": [],
   "source": [
    "firstline=r\"\\begin{{verbatim}}{0:s}\\end{{verbatim}}\".format(out)\n",
    "with open(\"firstlines.tex\",\"w\") as f:\n",
    "    f.write(firstline)"
   ]
  },
  {
   "cell_type": "code",
   "execution_count": 7,
   "metadata": {},
   "outputs": [
    {
     "name": "stdout",
     "output_type": "stream",
     "text": [
      "['track_id', 'type', 'traveled_d', 'avg_speed', 'lat', 'lon', 'speed', 'lon_acc', 'lat_acc', 'time']\n",
      "[1, 'Car', 48.85, 9.770344, 37.977391, 23.737688000000002, 4.9178, 0.0518, -0.0299, 0.0]\n"
     ]
    }
   ],
   "source": [
    "headerlist=header.replace(\" \",\"\").strip(\";\").split(\";\")\n",
    "datalist=data_raw.replace(\" \",\"\").strip(\";\").split(\";\")\n",
    "datalist=list(map(lambda x : pandas.to_numeric(x,errors='ignore'),datalist))\n",
    "print(headerlist)\n",
    "print(datalist[:10])"
   ]
  },
  {
   "cell_type": "code",
   "execution_count": 8,
   "metadata": {},
   "outputs": [
    {
     "data": {
      "text/plain": [
       "track_id            1\n",
       "type              Car\n",
       "traveled_d      48.85\n",
       "avg_speed     9.77034\n",
       "dtype: object"
      ]
     },
     "execution_count": 8,
     "metadata": {},
     "output_type": "execute_result"
    }
   ],
   "source": [
    "BREAK=4\n",
    "(aggregate_header,observation_header)=(headerlist[:BREAK],headerlist[BREAK:])\n",
    "(aggregate_data,observation_data)=(datalist[:BREAK],datalist[BREAK:])\n",
    "aggregate=pandas.Series(aggregate_data,index=aggregate_header)\n",
    "aggregate"
   ]
  },
  {
   "cell_type": "code",
   "execution_count": 9,
   "metadata": {},
   "outputs": [],
   "source": [
    "aggregate.to_latex(\"aggregate.tex\",bold_rows=True,header=False)"
   ]
  },
  {
   "cell_type": "code",
   "execution_count": 10,
   "metadata": {},
   "outputs": [],
   "source": [
    "observation_frame=pandas.DataFrame(numpy.array(observation_data).reshape(-1,len(observation_header)),columns=observation_header)\n",
    "observation_frame=observation_frame.set_index(\"time\",drop=True,append=False)\n",
    "dt=datetime.datetime.strptime(csv_fname[:8]+csv_fname[12:16],\"%Y%m%d%H%M\")\n",
    "observation_frame.index=observation_frame.index.map(lambda t: dt+datetime.timedelta(seconds=t))\n",
    "observation_frame.index=pandas.MultiIndex.from_product([[aggregate[\"track_id\"]],[aggregate[\"type\"]],observation_frame.index],names=[\"track_id\",\"type\",\"time\"])"
   ]
  },
  {
   "cell_type": "code",
   "execution_count": 11,
   "metadata": {},
   "outputs": [
    {
     "data": {
      "text/html": [
       "<div>\n",
       "<style scoped>\n",
       "    .dataframe tbody tr th:only-of-type {\n",
       "        vertical-align: middle;\n",
       "    }\n",
       "\n",
       "    .dataframe tbody tr th {\n",
       "        vertical-align: top;\n",
       "    }\n",
       "\n",
       "    .dataframe thead th {\n",
       "        text-align: right;\n",
       "    }\n",
       "</style>\n",
       "<table border=\"1\" class=\"dataframe\">\n",
       "  <thead>\n",
       "    <tr style=\"text-align: right;\">\n",
       "      <th></th>\n",
       "      <th></th>\n",
       "      <th></th>\n",
       "      <th>lat</th>\n",
       "      <th>lon</th>\n",
       "      <th>speed</th>\n",
       "      <th>lon_acc</th>\n",
       "      <th>lat_acc</th>\n",
       "    </tr>\n",
       "    <tr>\n",
       "      <th>track_id</th>\n",
       "      <th>type</th>\n",
       "      <th>time</th>\n",
       "      <th></th>\n",
       "      <th></th>\n",
       "      <th></th>\n",
       "      <th></th>\n",
       "      <th></th>\n",
       "    </tr>\n",
       "  </thead>\n",
       "  <tbody>\n",
       "    <tr>\n",
       "      <th rowspan=\"5\" valign=\"top\">1</th>\n",
       "      <th rowspan=\"5\" valign=\"top\">Car</th>\n",
       "      <th>2018-10-24 08:30:00.000</th>\n",
       "      <td>37.977391</td>\n",
       "      <td>23.737688</td>\n",
       "      <td>4.9178</td>\n",
       "      <td>0.0518</td>\n",
       "      <td>-0.0299</td>\n",
       "    </tr>\n",
       "    <tr>\n",
       "      <th>2018-10-24 08:30:00.040</th>\n",
       "      <td>37.977391</td>\n",
       "      <td>23.737688</td>\n",
       "      <td>4.9207</td>\n",
       "      <td>-0.0124</td>\n",
       "      <td>-0.0354</td>\n",
       "    </tr>\n",
       "    <tr>\n",
       "      <th>2018-10-24 08:30:00.080</th>\n",
       "      <td>37.977391</td>\n",
       "      <td>23.737688</td>\n",
       "      <td>4.9160</td>\n",
       "      <td>-0.0519</td>\n",
       "      <td>-0.0413</td>\n",
       "    </tr>\n",
       "    <tr>\n",
       "      <th>2018-10-24 08:30:00.120</th>\n",
       "      <td>37.977390</td>\n",
       "      <td>23.737688</td>\n",
       "      <td>4.9057</td>\n",
       "      <td>-0.0914</td>\n",
       "      <td>-0.0478</td>\n",
       "    </tr>\n",
       "    <tr>\n",
       "      <th>2018-10-24 08:30:00.160</th>\n",
       "      <td>37.977390</td>\n",
       "      <td>23.737689</td>\n",
       "      <td>4.8871</td>\n",
       "      <td>-0.1679</td>\n",
       "      <td>-0.0550</td>\n",
       "    </tr>\n",
       "  </tbody>\n",
       "</table>\n",
       "</div>"
      ],
      "text/plain": [
       "                                             lat        lon   speed  lon_acc  \\\n",
       "track_id type time                                                             \n",
       "1        Car  2018-10-24 08:30:00.000  37.977391  23.737688  4.9178   0.0518   \n",
       "              2018-10-24 08:30:00.040  37.977391  23.737688  4.9207  -0.0124   \n",
       "              2018-10-24 08:30:00.080  37.977391  23.737688  4.9160  -0.0519   \n",
       "              2018-10-24 08:30:00.120  37.977390  23.737688  4.9057  -0.0914   \n",
       "              2018-10-24 08:30:00.160  37.977390  23.737689  4.8871  -0.1679   \n",
       "\n",
       "                                       lat_acc  \n",
       "track_id type time                              \n",
       "1        Car  2018-10-24 08:30:00.000  -0.0299  \n",
       "              2018-10-24 08:30:00.040  -0.0354  \n",
       "              2018-10-24 08:30:00.080  -0.0413  \n",
       "              2018-10-24 08:30:00.120  -0.0478  \n",
       "              2018-10-24 08:30:00.160  -0.0550  "
      ]
     },
     "execution_count": 11,
     "metadata": {},
     "output_type": "execute_result"
    }
   ],
   "source": [
    "observation_frame.head(N_observations)"
   ]
  },
  {
   "cell_type": "code",
   "execution_count": 12,
   "metadata": {},
   "outputs": [],
   "source": [
    "observation_frame.head(N_observations).to_latex(\"observationframe.tex\",bold_rows=True)"
   ]
  }
 ],
 "metadata": {
  "kernelspec": {
   "display_name": "Python 3",
   "language": "python",
   "name": "python3"
  },
  "language_info": {
   "codemirror_mode": {
    "name": "ipython",
    "version": 3
   },
   "file_extension": ".py",
   "mimetype": "text/x-python",
   "name": "python",
   "nbconvert_exporter": "python",
   "pygments_lexer": "ipython3",
   "version": "3.7.3"
  }
 },
 "nbformat": 4,
 "nbformat_minor": 2
}
