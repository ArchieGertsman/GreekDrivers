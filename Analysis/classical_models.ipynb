{
 "metadata": {
  "language_info": {
   "codemirror_mode": {
    "name": "ipython",
    "version": 3
   },
   "file_extension": ".py",
   "mimetype": "text/x-python",
   "name": "python",
   "nbconvert_exporter": "python",
   "pygments_lexer": "ipython3",
   "version": "3.9.2"
  },
  "orig_nbformat": 2,
  "kernelspec": {
   "name": "python392jvsc74a57bd072326583629048dad8c9a913f12cb6cad5a38ceace067d86c7872c2b0df37259",
   "display_name": "Python 3.9.2 64-bit ('ox': conda)"
  }
 },
 "nbformat": 4,
 "nbformat_minor": 2,
 "cells": [
  {
   "cell_type": "code",
   "execution_count": null,
   "metadata": {},
   "outputs": [],
   "source": [
    "\"\"\"ensemble_classifier.ipynb\n",
    "by: Archie Gertsman (arkadiy2@illinois.edu)\n",
    "Project director: Richard Sowers\n",
    "r-sowers@illinois.eduhttps://publish.illinois.edu/r-sowers/\n",
    "Copyright 2019 University of Illinois Board of Trustees. All Rights Reserved. Licensed under the MIT license\n",
    "\"\"\""
   ]
  },
  {
   "cell_type": "code",
   "execution_count": 50,
   "metadata": {},
   "outputs": [],
   "source": [
    "import sys\n",
    "sys.path.append('../Data/')\n",
    "import pandas as pd\n",
    "import numpy as np\n",
    "import os\n",
    "\n",
    "from sklearn.ensemble import RandomForestClassifier, AdaBoostClassifier\n",
    "from sklearn.svm import SVC\n",
    "from sklearn.linear_model import LogisticRegression\n",
    "from sklearn.model_selection import KFold"
   ]
  },
  {
   "cell_type": "code",
   "execution_count": 4,
   "metadata": {},
   "outputs": [],
   "source": [
    "# df = pd.concat([pd.read_pickle('../Data/block4_29_{}_feat.pkl'.format(i)) for i in [800,830,930]])\n",
    "df = pd.read_pickle('../Data/block4_29_comp_feat.pkl')"
   ]
  },
  {
   "cell_type": "code",
   "execution_count": 24,
   "metadata": {},
   "outputs": [
    {
     "output_type": "execute_result",
     "data": {
      "text/plain": [
       "(1789, 653)"
      ]
     },
     "metadata": {},
     "execution_count": 24
    }
   ],
   "source": [
    "df_agg = df[np.isin(df['type'], ['Car','Taxi'])] \\\n",
    "    .groupby(['id','traj']).agg({\n",
    "        'xtrack_dist': 'std',\n",
    "        'avg_surr_speed': ['mean','std'],\n",
    "        'lon_acc': ['mean','std'],\n",
    "        'lat_acc': ['mean','std'],\n",
    "        'type': 'first'\n",
    "    }) \\\n",
    "    .reset_index(drop=True)\n",
    "\n",
    "df_agg.columns = ['_'.join(col) for col in df_agg.columns]\n",
    "df_agg.rename(columns={'type_first':'type'}, inplace=True)\n",
    "len(df_agg[df_agg['type'] == 'Car']), len(df_agg[df_agg['type'] == 'Taxi'])"
   ]
  },
  {
   "cell_type": "code",
   "execution_count": 53,
   "metadata": {},
   "outputs": [
    {
     "output_type": "stream",
     "name": "stdout",
     "text": [
      "Random Forest complete.\n",
      "AdaBoost complete.\n",
      "SVM complete.\n",
      "Log Regression complete.\n"
     ]
    },
    {
     "output_type": "execute_result",
     "data": {
      "text/plain": [
       "                  mean    std\n",
       "Random Forest   86.948  1.905\n",
       "AdaBoost        70.375  2.413\n",
       "SVM              66.07   1.93\n",
       "Log Regression  64.143  2.696"
      ],
      "text/html": "<div>\n<style scoped>\n    .dataframe tbody tr th:only-of-type {\n        vertical-align: middle;\n    }\n\n    .dataframe tbody tr th {\n        vertical-align: top;\n    }\n\n    .dataframe thead th {\n        text-align: right;\n    }\n</style>\n<table border=\"1\" class=\"dataframe\">\n  <thead>\n    <tr style=\"text-align: right;\">\n      <th></th>\n      <th>mean</th>\n      <th>std</th>\n    </tr>\n  </thead>\n  <tbody>\n    <tr>\n      <th>Random Forest</th>\n      <td>86.948</td>\n      <td>1.905</td>\n    </tr>\n    <tr>\n      <th>AdaBoost</th>\n      <td>70.375</td>\n      <td>2.413</td>\n    </tr>\n    <tr>\n      <th>SVM</th>\n      <td>66.07</td>\n      <td>1.93</td>\n    </tr>\n    <tr>\n      <th>Log Regression</th>\n      <td>64.143</td>\n      <td>2.696</td>\n    </tr>\n  </tbody>\n</table>\n</div>"
     },
     "metadata": {},
     "execution_count": 53
    }
   ],
   "source": [
    "n_taxi_copies = 2\n",
    "taxi = df_agg[df_agg['type']=='Taxi']\n",
    "taxi = pd.concat([taxi for i in range(n_taxi_copies)])\n",
    "df2 = pd.concat([df_agg, taxi])\n",
    "g = df2.groupby('type')\n",
    "df2 = g.apply(lambda x: x.sample(g.size().min())).reset_index(drop=True)\n",
    "X,y = df2.drop('type', axis=1), df2['type']\n",
    "\n",
    "k = 10\n",
    "kf = KFold(n_splits=k, shuffle=True)\n",
    "accs = np.zeros(k)\n",
    "\n",
    "models = {\n",
    "    'Random Forest': RandomForestClassifier(),\n",
    "    'AdaBoost': AdaBoostClassifier(),\n",
    "    'SVM': SVC(),\n",
    "    'Log Regression': LogisticRegression()\n",
    "}\n",
    "\n",
    "df_acc = pd.DataFrame(index=models.keys(), columns=['mean','std'])\n",
    "\n",
    "for name, model in models.items():\n",
    "    for i, (train_index, test_index) in enumerate(kf.split(X)):\n",
    "        X_train, X_test = X.iloc[train_index], X.iloc[test_index]\n",
    "        y_train, y_test = y.iloc[train_index], y.iloc[test_index]\n",
    "\n",
    "        model.fit(X_train, y_train)\n",
    "        y_hat = model.predict(X_test)\n",
    "\n",
    "        a = y_hat==y_test\n",
    "        accs[i] = len(a[a==True]) / len(y_test)\n",
    "\n",
    "    df_acc.loc[name]['mean'] = round(100*accs.mean(), 3)\n",
    "    df_acc.loc[name]['std'] = round(100*accs.std(), 3)\n",
    "\n",
    "    print(name, 'complete.')\n",
    "\n",
    "df_acc"
   ]
  },
  {
   "cell_type": "code",
   "execution_count": null,
   "metadata": {},
   "outputs": [],
   "source": []
  }
 ]
}