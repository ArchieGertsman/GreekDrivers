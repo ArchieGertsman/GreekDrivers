{
 "cells": [
  {
   "cell_type": "markdown",
   "id": "small-investigator",
   "metadata": {},
   "source": [
    "900_vehicles.ipynb\n",
    "by: \n",
    "- Ridha Alkhabaz (ridhama2@illinois.edu)\n",
    "- Lloyd Fernandes (lloydf2@illinois.edu)\n",
    "\n",
    "Project director: Richard Sowers\n",
    "\n",
    "r-sowers@illinois.edu https://publish.illinois.edu/r-sowers/\n",
    "\n",
    "Copyright 2019 University of Illinois Board of Trustees. All Rights Reserved. Licensed under the MIT license\n"
   ]
  },
  {
   "cell_type": "code",
   "execution_count": null,
   "id": "willing-tiger",
   "metadata": {},
   "outputs": [],
   "source": [
    "\n",
    "import pandas as pd\n",
    "import numpy as np\n",
    "\n",
    "import networkx as nx\n",
    "from networkx import algorithms \n",
    "import math\n",
    "from numpy import arctan2, sin, cos, sqrt, radians\n",
    "import data as data"
   ]
  },
  {
   "cell_type": "code",
   "execution_count": null,
   "id": "clean-garden",
   "metadata": {},
   "outputs": [],
   "source": [
    "df = data.csv_to_df('sample.csv')"
   ]
  },
  {
   "cell_type": "code",
   "execution_count": null,
   "id": "individual-input",
   "metadata": {},
   "outputs": [],
   "source": [
    "import matplotlib.pyplot as plt\n",
    "import seaborn as sns\n",
    "import random\n",
    "from sklearn.cluster import KMeans\n",
    "from sklearn.manifold import TSNE\n",
    "from sklearn.metrics import adjusted_rand_score"
   ]
  },
  {
   "cell_type": "code",
   "execution_count": null,
   "id": "boolean-quarterly",
   "metadata": {},
   "outputs": [],
   "source": [
    "import pydeck as pdk\n",
    "import json"
   ]
  },
  {
   "cell_type": "code",
   "execution_count": null,
   "id": "extended-mills",
   "metadata": {},
   "outputs": [],
   "source": [
    "df_subset = df[(1,):(200,)]"
   ]
  },
  {
   "cell_type": "code",
   "execution_count": null,
   "id": "owned-stereo",
   "metadata": {},
   "outputs": [],
   "source": [
    "df = df.reset_index()"
   ]
  },
  {
   "cell_type": "code",
   "execution_count": null,
   "id": "color-adoption",
   "metadata": {},
   "outputs": [],
   "source": [
    "coordinates = [[k,[[i, j] for i,j in zip(df[df['id'] == k]['lon'], df[df['id'] == k]['lat'])],list(df[df['id'] == k].time)] for k in df.id.unique()]\n",
    "id,coordinate_list,timestamp = zip(*coordinates)\n"
   ]
  },
  {
   "cell_type": "code",
   "execution_count": null,
   "id": "soviet-testament",
   "metadata": {},
   "outputs": [],
   "source": [
    "dfx = pd.DataFrame({\"id\" : id,\"coordinates\": coordinate_list, \"timestamps\" : timestamp})"
   ]
  },
  {
   "cell_type": "code",
   "execution_count": null,
   "id": "opposite-touch",
   "metadata": {},
   "outputs": [],
   "source": [
    "X=np.random.randint(10,20)\n",
    "dfx['color'] = [(np.random.randint(1,254),np.random.randint(1,254),np.random.randint(1,254)) for i in dfx.id.unique()]"
   ]
  },
  {
   "cell_type": "code",
   "execution_count": null,
   "id": "saved-intent",
   "metadata": {},
   "outputs": [],
   "source": [
    "layer = pdk.Layer(\n",
    "    \"TripsLayer\",\n",
    "    dfx,\n",
    "    get_path=\"coordinates\",\n",
    "    get_timestamps=\"timestamp\",\n",
    "    get_color=\"color\",\n",
    "    opacity=0.5,\n",
    "    width_min_pixels=2,\n",
    "    rounded=True,\n",
    "    trail_length=600,\n",
    "    current_time=50,\n",
    ") \n",
    "view_state = pdk.ViewState(latitude=37.977482, longitude=23.735405, zoom=17, bearing=0, pitch=45)"
   ]
  },
  {
   "cell_type": "code",
   "execution_count": null,
   "id": "juvenile-milton",
   "metadata": {},
   "outputs": [],
   "source": [
    "r = pdk.Deck(layers=layer, initial_view_state=view_state)\n",
    "r.to_html(\"900_vehicles.html\")"
   ]
  }
 ],
 "metadata": {
  "kernelspec": {
   "display_name": "Python 3",
   "language": "python",
   "name": "python3"
  },
  "language_info": {
   "codemirror_mode": {
    "name": "ipython",
    "version": 3
   },
   "file_extension": ".py",
   "mimetype": "text/x-python",
   "name": "python",
   "nbconvert_exporter": "python",
   "pygments_lexer": "ipython3",
   "version": "3.9.1"
  }
 },
 "nbformat": 4,
 "nbformat_minor": 5
}
