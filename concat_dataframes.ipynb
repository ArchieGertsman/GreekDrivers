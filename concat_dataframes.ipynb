{
 "cells": [
  {
   "cell_type": "markdown",
   "id": "chemical-conference",
   "metadata": {},
   "source": [
    "concat_dataframe.ipynb by:\n",
    "\n",
    "Sheil Kumar (sk17@illinois.edu)\n",
    "Anirudh Eswara (aeswara2@illinois.edu)\n",
    "Lloyd Fernandes (lloydf2@illinois.edu)\n",
    "Project director: Richard Sowers r-sowers@illinois.eduhttps://publish.illinois.edu/r-sowers/ Copyright 2019 University of Illinois Board of Trustees. All Rights Reserved. Licensed under the MIT license\n",
    "\n"
   ]
  },
  {
   "cell_type": "code",
   "execution_count": null,
   "id": "backed-visiting",
   "metadata": {},
   "outputs": [],
   "source": [
    "import pandas as pd"
   ]
  },
  {
   "cell_type": "code",
   "execution_count": null,
   "id": "hundred-summary",
   "metadata": {},
   "outputs": [],
   "source": [
    "#splitting is done in phases because of low ram\n",
    "df1 = pd.read_pickle(\"block4_4_1_ct_lane.pkl\")\n",
    "df2 = pd.read_pickle(\"block4_4_2_ct_lane.pkl\")\n",
    "df3 = pd.read_pickle(\"block4_4_3_ct_lane.pkl\")\n",
    "df4 = pd.concat([df1,df2,df3],axis = 0)"
   ]
  },
  {
   "cell_type": "code",
   "execution_count": null,
   "id": "innovative-movement",
   "metadata": {},
   "outputs": [],
   "source": [
    "df1 = pd.read_pickle(\"block4_2_1_ct_lane.pkl\")\n",
    "df2 = pd.read_pickle(\"block4_2_2_ct_lane.pkl\")\n",
    "df3 = pd.read_pickle(\"block4_2_4_ct_lane.pkl\")\n",
    "df4 = pd.concat([df4,df1,df2,df3],axis = 0)"
   ]
  },
  {
   "cell_type": "code",
   "execution_count": null,
   "id": "southwest-installation",
   "metadata": {},
   "outputs": [],
   "source": [
    "df1 = pd.read_pickle(\"block4_2_5_ct_lane.pkl\")\n",
    "df2 = pd.read_pickle(\"block4_1_2_ct_lane.pkl\")\n",
    "df3 = pd.read_pickle(\"block4_1_3_ct_lane.pkl\")\n",
    "df4 = pd.concat([df4,df1,df2,df3],axis = 0)"
   ]
  }
 ],
 "metadata": {
  "kernelspec": {
   "display_name": "Python 3",
   "language": "python",
   "name": "python3"
  },
  "language_info": {
   "codemirror_mode": {
    "name": "ipython",
    "version": 3
   },
   "file_extension": ".py",
   "mimetype": "text/x-python",
   "name": "python",
   "nbconvert_exporter": "python",
   "pygments_lexer": "ipython3",
   "version": "3.9.1"
  }
 },
 "nbformat": 4,
 "nbformat_minor": 5
}
